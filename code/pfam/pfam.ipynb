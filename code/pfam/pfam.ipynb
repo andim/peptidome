{
 "cells": [
  {
   "cell_type": "code",
   "execution_count": 1,
   "metadata": {},
   "outputs": [],
   "source": [
    "import sys\n",
    "sys.path.append('..')\n",
    "import random\n",
    "import numpy as np\n",
    "import pandas as pd\n",
    "import matplotlib.pyplot as plt\n",
    "import projgrad\n",
    "plt.style.use('../peptidome.mplstyle')\n",
    "\n",
    "from lib import *"
   ]
  },
  {
   "cell_type": "markdown",
   "metadata": {},
   "source": [
    "Pfam data for human:\n",
    "\n",
    "https://pfam.xfam.org/proteome/9606\n",
    "\n",
    "Sequence coverage 71% and residue coverage 45%"
   ]
  },
  {
   "cell_type": "code",
   "execution_count": 20,
   "metadata": {},
   "outputs": [],
   "source": [
    "columnsstr = 'seq id> <alignment start> <alignment end> <envelope start> <envelope end> <hmm acc> <hmm name> <type> <hmm start> <hmm end> <hmm length> <bit score> <E-value> <clan'\n",
    "columns = columnsstr.split('> <')\n",
    "df_pfam = pd.read_csv(datadir+'9606_pfam.tsv.gz', sep='\\t', skiprows=3, names=columns)"
   ]
  },
  {
   "cell_type": "code",
   "execution_count": 21,
   "metadata": {},
   "outputs": [],
   "source": [
    "df = load_proteome_as_df('Human')\n",
    "df = df[~(df['Gene']=='')]\n",
    "seqids_set = set(df['Accession'])"
   ]
  },
  {
   "cell_type": "code",
   "execution_count": 22,
   "metadata": {},
   "outputs": [],
   "source": [
    "# pfam contains info for complete proteome for 74k sequences for human\n",
    "# filter on sequence ids found in reference proteome\n",
    "df_pfam = df_pfam[df_pfam['seq id'].isin(seqids_set)]"
   ]
  },
  {
   "cell_type": "code",
   "execution_count": 23,
   "metadata": {},
   "outputs": [
    {
     "data": {
      "text/plain": [
       "(1737, 20480, 18743)"
      ]
     },
     "execution_count": 23,
     "metadata": {},
     "output_type": "execute_result"
    }
   ],
   "source": [
    "len(set(df['Accession'])-set(df_pfam['seq id'])), len(set(df['Accession'])), len(set(df_pfam['seq id']))"
   ]
  },
  {
   "cell_type": "code",
   "execution_count": 6,
   "metadata": {},
   "outputs": [
    {
     "data": {
      "text/plain": [
       "PF00096    5390\n",
       "PF00400     751\n",
       "PF00028     693\n",
       "PF00041     612\n",
       "PF07679     566\n",
       "Name: hmm acc, dtype: int64"
      ]
     },
     "execution_count": 6,
     "metadata": {},
     "output_type": "execute_result"
    }
   ],
   "source": [
    "pfam_multiplicities = df_pfam['hmm acc'].value_counts()\n",
    "#pfams_ordered = pfams_ordered.reset_index()\n",
    "pfam_multiplicities.head()"
   ]
  },
  {
   "cell_type": "code",
   "execution_count": 7,
   "metadata": {},
   "outputs": [
    {
     "data": {
      "text/plain": [
       "zf-C2H2     5390\n",
       "WD40         751\n",
       "Cadherin     693\n",
       "fn3          612\n",
       "I-set        566\n",
       "Name: hmm name, dtype: int64"
      ]
     },
     "execution_count": 7,
     "metadata": {},
     "output_type": "execute_result"
    }
   ],
   "source": [
    "pfam_multiplicities = df_pfam['hmm name'].value_counts()\n",
    "#pfams_ordered = pfams_ordered.reset_index()\n",
    "pfam_multiplicities.head()"
   ]
  },
  {
   "cell_type": "code",
   "execution_count": 8,
   "metadata": {},
   "outputs": [
    {
     "name": "stdout",
     "output_type": "stream",
     "text": [
      "The history saving thread hit an unexpected error (OperationalError('database is locked',)).History will not be written to the database.\n"
     ]
    },
    {
     "data": {
      "image/png": "[encoded data removed]",
      "text/plain": [
       "<Figure size 1026x690 with 1 Axes>"
      ]
     },
     "metadata": {},
     "output_type": "display_data"
    }
   ],
   "source": [
    "plt.hist(pfam_multiplicities, bins=np.logspace(0, 4))\n",
    "plt.xscale('log')\n",
    "plt.yscale('log')"
   ]
  },
  {
   "cell_type": "markdown",
   "metadata": {},
   "source": [
    "## Zincfingers"
   ]
  },
  {
   "cell_type": "code",
   "execution_count": 57,
   "metadata": {},
   "outputs": [
    {
     "data": {
      "text/html": [
       "<div>\n",
       "<style scoped>\n",
       "    .dataframe tbody tr th:only-of-type {\n",
       "        vertical-align: middle;\n",
       "    }\n",
       "\n",
       "    .dataframe tbody tr th {\n",
       "        vertical-align: top;\n",
       "    }\n",
       "\n",
       "    .dataframe thead th {\n",
       "        text-align: right;\n",
       "    }\n",
       "</style>\n",
       "<table border=\"1\" class=\"dataframe\">\n",
       "  <thead>\n",
       "    <tr style=\"text-align: right;\">\n",
       "      <th></th>\n",
       "      <th>seq id</th>\n",
       "      <th>alignment start</th>\n",
       "      <th>alignment end</th>\n",
       "      <th>envelope start</th>\n",
       "      <th>envelope end</th>\n",
       "      <th>hmm acc</th>\n",
       "      <th>hmm name</th>\n",
       "      <th>type</th>\n",
       "      <th>hmm start</th>\n",
       "      <th>hmm end</th>\n",
       "      <th>hmm length</th>\n",
       "      <th>bit score</th>\n",
       "      <th>E-value</th>\n",
       "      <th>clan</th>\n",
       "    </tr>\n",
       "  </thead>\n",
       "  <tbody>\n",
       "    <tr>\n",
       "      <th>4169</th>\n",
       "      <td>A0A087X1K6</td>\n",
       "      <td>195</td>\n",
       "      <td>219</td>\n",
       "      <td>195</td>\n",
       "      <td>219</td>\n",
       "      <td>PF00096</td>\n",
       "      <td>zf-C2H2</td>\n",
       "      <td>PfamLive::Result::SequenceOntology=HASH(0x89b8...</td>\n",
       "      <td>1</td>\n",
       "      <td>23</td>\n",
       "      <td>23</td>\n",
       "      <td>24.0</td>\n",
       "      <td>0.093</td>\n",
       "      <td>CL0361</td>\n",
       "    </tr>\n",
       "    <tr>\n",
       "      <th>4170</th>\n",
       "      <td>A0A087X1K6</td>\n",
       "      <td>225</td>\n",
       "      <td>247</td>\n",
       "      <td>225</td>\n",
       "      <td>247</td>\n",
       "      <td>PF00096</td>\n",
       "      <td>zf-C2H2</td>\n",
       "      <td>PfamLive::Result::SequenceOntology=HASH(0x89b8...</td>\n",
       "      <td>1</td>\n",
       "      <td>23</td>\n",
       "      <td>23</td>\n",
       "      <td>23.6</td>\n",
       "      <td>0.120</td>\n",
       "      <td>CL0361</td>\n",
       "    </tr>\n",
       "    <tr>\n",
       "      <th>4171</th>\n",
       "      <td>A0A087X1K6</td>\n",
       "      <td>165</td>\n",
       "      <td>189</td>\n",
       "      <td>165</td>\n",
       "      <td>189</td>\n",
       "      <td>PF00096</td>\n",
       "      <td>zf-C2H2</td>\n",
       "      <td>PfamLive::Result::SequenceOntology=HASH(0x89b8...</td>\n",
       "      <td>1</td>\n",
       "      <td>23</td>\n",
       "      <td>23</td>\n",
       "      <td>18.3</td>\n",
       "      <td>5.800</td>\n",
       "      <td>CL0361</td>\n",
       "    </tr>\n",
       "    <tr>\n",
       "      <th>6983</th>\n",
       "      <td>A0A0A6YYC7</td>\n",
       "      <td>372</td>\n",
       "      <td>394</td>\n",
       "      <td>372</td>\n",
       "      <td>394</td>\n",
       "      <td>PF00096</td>\n",
       "      <td>zf-C2H2</td>\n",
       "      <td>PfamLive::Result::SequenceOntology=HASH(0x89b8...</td>\n",
       "      <td>1</td>\n",
       "      <td>23</td>\n",
       "      <td>23</td>\n",
       "      <td>19.9</td>\n",
       "      <td>1.800</td>\n",
       "      <td>CL0361</td>\n",
       "    </tr>\n",
       "    <tr>\n",
       "      <th>6984</th>\n",
       "      <td>A0A0A6YYC7</td>\n",
       "      <td>401</td>\n",
       "      <td>422</td>\n",
       "      <td>400</td>\n",
       "      <td>422</td>\n",
       "      <td>PF00096</td>\n",
       "      <td>zf-C2H2</td>\n",
       "      <td>PfamLive::Result::SequenceOntology=HASH(0x89b8...</td>\n",
       "      <td>2</td>\n",
       "      <td>23</td>\n",
       "      <td>23</td>\n",
       "      <td>19.7</td>\n",
       "      <td>2.100</td>\n",
       "      <td>CL0361</td>\n",
       "    </tr>\n",
       "  </tbody>\n",
       "</table>\n",
       "</div>"
      ],
      "text/plain": [
       "          seq id  alignment start  alignment end  envelope start  \\\n",
       "4169  A0A087X1K6              195            219             195   \n",
       "4170  A0A087X1K6              225            247             225   \n",
       "4171  A0A087X1K6              165            189             165   \n",
       "6983  A0A0A6YYC7              372            394             372   \n",
       "6984  A0A0A6YYC7              401            422             400   \n",
       "\n",
       "      envelope end  hmm acc hmm name  \\\n",
       "4169           219  PF00096  zf-C2H2   \n",
       "4170           247  PF00096  zf-C2H2   \n",
       "4171           189  PF00096  zf-C2H2   \n",
       "6983           394  PF00096  zf-C2H2   \n",
       "6984           422  PF00096  zf-C2H2   \n",
       "\n",
       "                                                   type  hmm start  hmm end  \\\n",
       "4169  PfamLive::Result::SequenceOntology=HASH(0x89b8...          1       23   \n",
       "4170  PfamLive::Result::SequenceOntology=HASH(0x89b8...          1       23   \n",
       "4171  PfamLive::Result::SequenceOntology=HASH(0x89b8...          1       23   \n",
       "6983  PfamLive::Result::SequenceOntology=HASH(0x89b8...          1       23   \n",
       "6984  PfamLive::Result::SequenceOntology=HASH(0x89b8...          2       23   \n",
       "\n",
       "      hmm length  bit score  E-value    clan  \n",
       "4169          23       24.0    0.093  CL0361  \n",
       "4170          23       23.6    0.120  CL0361  \n",
       "4171          23       18.3    5.800  CL0361  \n",
       "6983          23       19.9    1.800  CL0361  \n",
       "6984          23       19.7    2.100  CL0361  "
      ]
     },
     "execution_count": 57,
     "metadata": {},
     "output_type": "execute_result"
    }
   ],
   "source": [
    "zfs = df_pfam[df_pfam['hmm acc'] == 'PF00096']\n",
    "zfs.head()"
   ]
  },
  {
   "cell_type": "code",
   "execution_count": 58,
   "metadata": {},
   "outputs": [
    {
     "data": {
      "text/plain": [
       "['ACSWQDCNKKFARSDELARHYRTH',\n",
       " 'SCPICEKRFMRSDHLTKHARRH',\n",
       " 'KCHYAGCEKVYGKSSHLKAHLRTH',\n",
       " 'ICEYCARAFKSSHNLAVHRMIH',\n",
       " 'QCEICGFTCRQKASLNWHMKKH']"
      ]
     },
     "execution_count": 58,
     "metadata": {},
     "output_type": "execute_result"
    }
   ],
   "source": [
    "dfind = df.set_index('Accession')\n",
    "seq_zf = [dfind.loc[row['seq id']]['Sequence'][row['envelope start']:row['envelope end']] for ind, row in zfs.iterrows()]\n",
    "seq_zf[:5]"
   ]
  },
  {
   "cell_type": "code",
   "execution_count": 59,
   "metadata": {},
   "outputs": [],
   "source": [
    "df_nozf = df[~df['Accession'].isin(set(zfs['seq id']))]\n",
    "df_nozf.to_csv('data/human_nozf.csv', index=False)"
   ]
  },
  {
   "cell_type": "code",
   "execution_count": 60,
   "metadata": {},
   "outputs": [
    {
     "data": {
      "text/html": [
       "<div>\n",
       "<style scoped>\n",
       "    .dataframe tbody tr th:only-of-type {\n",
       "        vertical-align: middle;\n",
       "    }\n",
       "\n",
       "    .dataframe tbody tr th {\n",
       "        vertical-align: top;\n",
       "    }\n",
       "\n",
       "    .dataframe thead th {\n",
       "        text-align: right;\n",
       "    }\n",
       "</style>\n",
       "<table border=\"1\" class=\"dataframe\">\n",
       "  <thead>\n",
       "    <tr style=\"text-align: right;\">\n",
       "      <th></th>\n",
       "      <th>seq id</th>\n",
       "      <th>alignment start</th>\n",
       "      <th>alignment end</th>\n",
       "      <th>envelope start</th>\n",
       "      <th>envelope end</th>\n",
       "      <th>hmm acc</th>\n",
       "      <th>hmm name</th>\n",
       "      <th>type</th>\n",
       "      <th>hmm start</th>\n",
       "      <th>hmm end</th>\n",
       "      <th>hmm length</th>\n",
       "      <th>bit score</th>\n",
       "      <th>E-value</th>\n",
       "      <th>clan</th>\n",
       "    </tr>\n",
       "  </thead>\n",
       "  <tbody>\n",
       "    <tr>\n",
       "      <th>16596</th>\n",
       "      <td>A8MTY0</td>\n",
       "      <td>170</td>\n",
       "      <td>192</td>\n",
       "      <td>170</td>\n",
       "      <td>192</td>\n",
       "      <td>PF00096</td>\n",
       "      <td>zf-C2H2</td>\n",
       "      <td>PfamLive::Result::SequenceOntology=HASH(0x89b8...</td>\n",
       "      <td>1</td>\n",
       "      <td>23</td>\n",
       "      <td>23</td>\n",
       "      <td>20.8</td>\n",
       "      <td>0.940</td>\n",
       "      <td>CL0361</td>\n",
       "    </tr>\n",
       "    <tr>\n",
       "      <th>16597</th>\n",
       "      <td>A8MTY0</td>\n",
       "      <td>226</td>\n",
       "      <td>248</td>\n",
       "      <td>226</td>\n",
       "      <td>248</td>\n",
       "      <td>PF00096</td>\n",
       "      <td>zf-C2H2</td>\n",
       "      <td>PfamLive::Result::SequenceOntology=HASH(0x89b8...</td>\n",
       "      <td>1</td>\n",
       "      <td>23</td>\n",
       "      <td>23</td>\n",
       "      <td>20.6</td>\n",
       "      <td>1.100</td>\n",
       "      <td>CL0361</td>\n",
       "    </tr>\n",
       "    <tr>\n",
       "      <th>16588</th>\n",
       "      <td>A8MTY0</td>\n",
       "      <td>282</td>\n",
       "      <td>304</td>\n",
       "      <td>282</td>\n",
       "      <td>304</td>\n",
       "      <td>PF00096</td>\n",
       "      <td>zf-C2H2</td>\n",
       "      <td>PfamLive::Result::SequenceOntology=HASH(0x89b8...</td>\n",
       "      <td>1</td>\n",
       "      <td>23</td>\n",
       "      <td>23</td>\n",
       "      <td>25.2</td>\n",
       "      <td>0.037</td>\n",
       "      <td>CL0361</td>\n",
       "    </tr>\n",
       "    <tr>\n",
       "      <th>16587</th>\n",
       "      <td>A8MTY0</td>\n",
       "      <td>310</td>\n",
       "      <td>332</td>\n",
       "      <td>310</td>\n",
       "      <td>332</td>\n",
       "      <td>PF00096</td>\n",
       "      <td>zf-C2H2</td>\n",
       "      <td>PfamLive::Result::SequenceOntology=HASH(0x89b8...</td>\n",
       "      <td>1</td>\n",
       "      <td>23</td>\n",
       "      <td>23</td>\n",
       "      <td>26.4</td>\n",
       "      <td>0.016</td>\n",
       "      <td>CL0361</td>\n",
       "    </tr>\n",
       "    <tr>\n",
       "      <th>16591</th>\n",
       "      <td>A8MTY0</td>\n",
       "      <td>338</td>\n",
       "      <td>360</td>\n",
       "      <td>338</td>\n",
       "      <td>360</td>\n",
       "      <td>PF00096</td>\n",
       "      <td>zf-C2H2</td>\n",
       "      <td>PfamLive::Result::SequenceOntology=HASH(0x89b8...</td>\n",
       "      <td>1</td>\n",
       "      <td>23</td>\n",
       "      <td>23</td>\n",
       "      <td>23.5</td>\n",
       "      <td>0.130</td>\n",
       "      <td>CL0361</td>\n",
       "    </tr>\n",
       "  </tbody>\n",
       "</table>\n",
       "</div>"
      ],
      "text/plain": [
       "       seq id  alignment start  alignment end  envelope start  envelope end  \\\n",
       "16596  A8MTY0              170            192             170           192   \n",
       "16597  A8MTY0              226            248             226           248   \n",
       "16588  A8MTY0              282            304             282           304   \n",
       "16587  A8MTY0              310            332             310           332   \n",
       "16591  A8MTY0              338            360             338           360   \n",
       "\n",
       "       hmm acc hmm name                                               type  \\\n",
       "16596  PF00096  zf-C2H2  PfamLive::Result::SequenceOntology=HASH(0x89b8...   \n",
       "16597  PF00096  zf-C2H2  PfamLive::Result::SequenceOntology=HASH(0x89b8...   \n",
       "16588  PF00096  zf-C2H2  PfamLive::Result::SequenceOntology=HASH(0x89b8...   \n",
       "16587  PF00096  zf-C2H2  PfamLive::Result::SequenceOntology=HASH(0x89b8...   \n",
       "16591  PF00096  zf-C2H2  PfamLive::Result::SequenceOntology=HASH(0x89b8...   \n",
       "\n",
       "       hmm start  hmm end  hmm length  bit score  E-value    clan  \n",
       "16596          1       23          23       20.8    0.940  CL0361  \n",
       "16597          1       23          23       20.6    1.100  CL0361  \n",
       "16588          1       23          23       25.2    0.037  CL0361  \n",
       "16587          1       23          23       26.4    0.016  CL0361  \n",
       "16591          1       23          23       23.5    0.130  CL0361  "
      ]
     },
     "execution_count": 60,
     "metadata": {},
     "output_type": "execute_result"
    }
   ],
   "source": [
    "seqid = \"A8MTY0\"\n",
    "zfs_seq = zfs[zfs['seq id']==seqid]\n",
    "zfs_seq.sort_values('envelope start').head()"
   ]
  },
  {
   "cell_type": "code",
   "execution_count": 75,
   "metadata": {},
   "outputs": [
    {
     "data": {
      "text/html": [
       "<div>\n",
       "<style scoped>\n",
       "    .dataframe tbody tr th:only-of-type {\n",
       "        vertical-align: middle;\n",
       "    }\n",
       "\n",
       "    .dataframe tbody tr th {\n",
       "        vertical-align: top;\n",
       "    }\n",
       "\n",
       "    .dataframe thead th {\n",
       "        text-align: right;\n",
       "    }\n",
       "</style>\n",
       "<table border=\"1\" class=\"dataframe\">\n",
       "  <thead>\n",
       "    <tr style=\"text-align: right;\">\n",
       "      <th></th>\n",
       "      <th>Gene synonym</th>\n",
       "      <th>Ensembl</th>\n",
       "      <th>Gene description</th>\n",
       "      <th>Uniprot</th>\n",
       "      <th>Chromosome</th>\n",
       "      <th>Position</th>\n",
       "      <th>Protein class</th>\n",
       "      <th>Evidence</th>\n",
       "      <th>HPA evidence</th>\n",
       "      <th>UniProt evidence</th>\n",
       "      <th>...</th>\n",
       "      <th>Brain RNA - amygdala [NX]</th>\n",
       "      <th>Brain RNA - basal ganglia [NX]</th>\n",
       "      <th>Brain RNA - cerebellum [NX]</th>\n",
       "      <th>Brain RNA - cerebral cortex [NX]</th>\n",
       "      <th>Brain RNA - hippocampal formation [NX]</th>\n",
       "      <th>Brain RNA - hypothalamus [NX]</th>\n",
       "      <th>Brain RNA - midbrain [NX]</th>\n",
       "      <th>Brain RNA - olfactory region [NX]</th>\n",
       "      <th>Brain RNA - pons and medulla [NX]</th>\n",
       "      <th>Brain RNA - thalamus [NX]</th>\n",
       "    </tr>\n",
       "    <tr>\n",
       "      <th>Gene</th>\n",
       "      <th></th>\n",
       "      <th></th>\n",
       "      <th></th>\n",
       "      <th></th>\n",
       "      <th></th>\n",
       "      <th></th>\n",
       "      <th></th>\n",
       "      <th></th>\n",
       "      <th></th>\n",
       "      <th></th>\n",
       "      <th></th>\n",
       "      <th></th>\n",
       "      <th></th>\n",
       "      <th></th>\n",
       "      <th></th>\n",
       "      <th></th>\n",
       "      <th></th>\n",
       "      <th></th>\n",
       "      <th></th>\n",
       "      <th></th>\n",
       "      <th></th>\n",
       "    </tr>\n",
       "  </thead>\n",
       "  <tbody>\n",
       "    <tr>\n",
       "      <th>TSPAN6</th>\n",
       "      <td>T245, TM4SF6, TSPAN-6</td>\n",
       "      <td>ENSG00000000003</td>\n",
       "      <td>Tetraspanin 6</td>\n",
       "      <td>O43657</td>\n",
       "      <td>X</td>\n",
       "      <td>100627109-100639991</td>\n",
       "      <td>Predicted intracellular proteins, Predicted me...</td>\n",
       "      <td>Evidence at protein level</td>\n",
       "      <td>Evidence at transcript level</td>\n",
       "      <td>Evidence at protein level</td>\n",
       "      <td>...</td>\n",
       "      <td>7.0</td>\n",
       "      <td>6.6</td>\n",
       "      <td>2.9</td>\n",
       "      <td>4.9</td>\n",
       "      <td>7.4</td>\n",
       "      <td>7.3</td>\n",
       "      <td>6.9</td>\n",
       "      <td>4.1</td>\n",
       "      <td>34.2</td>\n",
       "      <td>6.6</td>\n",
       "    </tr>\n",
       "    <tr>\n",
       "      <th>TNMD</th>\n",
       "      <td>BRICD4, ChM1L, myodulin, TEM, tendin</td>\n",
       "      <td>ENSG00000000005</td>\n",
       "      <td>Tenomodulin</td>\n",
       "      <td>Q9H2S6</td>\n",
       "      <td>X</td>\n",
       "      <td>100584802-100599885</td>\n",
       "      <td>Predicted membrane proteins</td>\n",
       "      <td>Evidence at protein level</td>\n",
       "      <td>Evidence at transcript level</td>\n",
       "      <td>Evidence at protein level</td>\n",
       "      <td>...</td>\n",
       "      <td>0.1</td>\n",
       "      <td>0.0</td>\n",
       "      <td>0.0</td>\n",
       "      <td>0.1</td>\n",
       "      <td>0.9</td>\n",
       "      <td>0.1</td>\n",
       "      <td>0.6</td>\n",
       "      <td>0.0</td>\n",
       "      <td>0.6</td>\n",
       "      <td>0.0</td>\n",
       "    </tr>\n",
       "    <tr>\n",
       "      <th>DPM1</th>\n",
       "      <td>CDGIE, MPDS</td>\n",
       "      <td>ENSG00000000419</td>\n",
       "      <td>Dolichyl-phosphate mannosyltransferase subunit...</td>\n",
       "      <td>O60762</td>\n",
       "      <td>20</td>\n",
       "      <td>50934867-50958555</td>\n",
       "      <td>Disease related genes, Enzymes, Plasma protein...</td>\n",
       "      <td>Evidence at protein level</td>\n",
       "      <td>Evidence at transcript level</td>\n",
       "      <td>Evidence at protein level</td>\n",
       "      <td>...</td>\n",
       "      <td>20.2</td>\n",
       "      <td>30.0</td>\n",
       "      <td>22.5</td>\n",
       "      <td>35.1</td>\n",
       "      <td>22.2</td>\n",
       "      <td>21.5</td>\n",
       "      <td>21.6</td>\n",
       "      <td>17.2</td>\n",
       "      <td>31.4</td>\n",
       "      <td>21.7</td>\n",
       "    </tr>\n",
       "    <tr>\n",
       "      <th>SCYL3</th>\n",
       "      <td>PACE-1, PACE1</td>\n",
       "      <td>ENSG00000000457</td>\n",
       "      <td>SCY1 like pseudokinase 3</td>\n",
       "      <td>Q8IZE3</td>\n",
       "      <td>1</td>\n",
       "      <td>169849631-169894267</td>\n",
       "      <td>Enzymes, Predicted intracellular proteins</td>\n",
       "      <td>Evidence at protein level</td>\n",
       "      <td>Evidence at transcript level</td>\n",
       "      <td>Evidence at protein level</td>\n",
       "      <td>...</td>\n",
       "      <td>8.5</td>\n",
       "      <td>10.6</td>\n",
       "      <td>10.5</td>\n",
       "      <td>11.9</td>\n",
       "      <td>7.3</td>\n",
       "      <td>6.5</td>\n",
       "      <td>9.3</td>\n",
       "      <td>7.8</td>\n",
       "      <td>9.5</td>\n",
       "      <td>8.9</td>\n",
       "    </tr>\n",
       "    <tr>\n",
       "      <th>C1orf112</th>\n",
       "      <td>FLJ10706</td>\n",
       "      <td>ENSG00000000460</td>\n",
       "      <td>Chromosome 1 open reading frame 112</td>\n",
       "      <td>Q9NSG2</td>\n",
       "      <td>1</td>\n",
       "      <td>169662007-169854080</td>\n",
       "      <td>Predicted intracellular proteins</td>\n",
       "      <td>Evidence at protein level</td>\n",
       "      <td>Evidence at transcript level</td>\n",
       "      <td>Evidence at protein level</td>\n",
       "      <td>...</td>\n",
       "      <td>3.3</td>\n",
       "      <td>4.9</td>\n",
       "      <td>8.4</td>\n",
       "      <td>3.6</td>\n",
       "      <td>2.7</td>\n",
       "      <td>2.4</td>\n",
       "      <td>5.0</td>\n",
       "      <td>1.5</td>\n",
       "      <td>4.5</td>\n",
       "      <td>5.9</td>\n",
       "    </tr>\n",
       "  </tbody>\n",
       "</table>\n",
       "<p>5 rows × 226 columns</p>\n",
       "</div>"
      ],
      "text/plain": [
       "                                  Gene synonym          Ensembl  \\\n",
       "Gene                                                              \n",
       "TSPAN6                   T245, TM4SF6, TSPAN-6  ENSG00000000003   \n",
       "TNMD      BRICD4, ChM1L, myodulin, TEM, tendin  ENSG00000000005   \n",
       "DPM1                               CDGIE, MPDS  ENSG00000000419   \n",
       "SCYL3                            PACE-1, PACE1  ENSG00000000457   \n",
       "C1orf112                              FLJ10706  ENSG00000000460   \n",
       "\n",
       "                                           Gene description Uniprot  \\\n",
       "Gene                                                                  \n",
       "TSPAN6                                        Tetraspanin 6  O43657   \n",
       "TNMD                                            Tenomodulin  Q9H2S6   \n",
       "DPM1      Dolichyl-phosphate mannosyltransferase subunit...  O60762   \n",
       "SCYL3                              SCY1 like pseudokinase 3  Q8IZE3   \n",
       "C1orf112                Chromosome 1 open reading frame 112  Q9NSG2   \n",
       "\n",
       "         Chromosome             Position  \\\n",
       "Gene                                       \n",
       "TSPAN6            X  100627109-100639991   \n",
       "TNMD              X  100584802-100599885   \n",
       "DPM1             20    50934867-50958555   \n",
       "SCYL3             1  169849631-169894267   \n",
       "C1orf112          1  169662007-169854080   \n",
       "\n",
       "                                              Protein class  \\\n",
       "Gene                                                          \n",
       "TSPAN6    Predicted intracellular proteins, Predicted me...   \n",
       "TNMD                            Predicted membrane proteins   \n",
       "DPM1      Disease related genes, Enzymes, Plasma protein...   \n",
       "SCYL3             Enzymes, Predicted intracellular proteins   \n",
       "C1orf112                   Predicted intracellular proteins   \n",
       "\n",
       "                           Evidence                  HPA evidence  \\\n",
       "Gene                                                                \n",
       "TSPAN6    Evidence at protein level  Evidence at transcript level   \n",
       "TNMD      Evidence at protein level  Evidence at transcript level   \n",
       "DPM1      Evidence at protein level  Evidence at transcript level   \n",
       "SCYL3     Evidence at protein level  Evidence at transcript level   \n",
       "C1orf112  Evidence at protein level  Evidence at transcript level   \n",
       "\n",
       "                   UniProt evidence  ... Brain RNA - amygdala [NX]  \\\n",
       "Gene                                 ...                             \n",
       "TSPAN6    Evidence at protein level  ...                       7.0   \n",
       "TNMD      Evidence at protein level  ...                       0.1   \n",
       "DPM1      Evidence at protein level  ...                      20.2   \n",
       "SCYL3     Evidence at protein level  ...                       8.5   \n",
       "C1orf112  Evidence at protein level  ...                       3.3   \n",
       "\n",
       "         Brain RNA - basal ganglia [NX] Brain RNA - cerebellum [NX]  \\\n",
       "Gene                                                                  \n",
       "TSPAN6                              6.6                         2.9   \n",
       "TNMD                                0.0                         0.0   \n",
       "DPM1                               30.0                        22.5   \n",
       "SCYL3                              10.6                        10.5   \n",
       "C1orf112                            4.9                         8.4   \n",
       "\n",
       "         Brain RNA - cerebral cortex [NX]  \\\n",
       "Gene                                        \n",
       "TSPAN6                                4.9   \n",
       "TNMD                                  0.1   \n",
       "DPM1                                 35.1   \n",
       "SCYL3                                11.9   \n",
       "C1orf112                              3.6   \n",
       "\n",
       "          Brain RNA - hippocampal formation [NX]  \\\n",
       "Gene                                               \n",
       "TSPAN6                                       7.4   \n",
       "TNMD                                         0.9   \n",
       "DPM1                                        22.2   \n",
       "SCYL3                                        7.3   \n",
       "C1orf112                                     2.7   \n",
       "\n",
       "         Brain RNA - hypothalamus [NX] Brain RNA - midbrain [NX]  \\\n",
       "Gene                                                               \n",
       "TSPAN6                             7.3                       6.9   \n",
       "TNMD                               0.1                       0.6   \n",
       "DPM1                              21.5                      21.6   \n",
       "SCYL3                              6.5                       9.3   \n",
       "C1orf112                           2.4                       5.0   \n",
       "\n",
       "         Brain RNA - olfactory region [NX]  Brain RNA - pons and medulla [NX]  \\\n",
       "Gene                                                                            \n",
       "TSPAN6                                 4.1                               34.2   \n",
       "TNMD                                   0.0                                0.6   \n",
       "DPM1                                  17.2                               31.4   \n",
       "SCYL3                                  7.8                                9.5   \n",
       "C1orf112                               1.5                                4.5   \n",
       "\n",
       "         Brain RNA - thalamus [NX]  \n",
       "Gene                                \n",
       "TSPAN6                         6.6  \n",
       "TNMD                           0.0  \n",
       "DPM1                          21.7  \n",
       "SCYL3                          8.9  \n",
       "C1orf112                       5.9  \n",
       "\n",
       "[5 rows x 226 columns]"
      ]
     },
     "execution_count": 75,
     "metadata": {},
     "output_type": "execute_result"
    }
   ],
   "source": [
    "proteinatlas = pd.read_csv('../../data/proteinatlas.tsv.zip', sep='\\t', index_col=0)\n",
    "tissues = [c for c in proteinatlas.columns if 'Tissue' in c]\n",
    "proteinatlas[tissues] = proteinatlas[tissues].div(proteinatlas[tissues].sum(axis=0), axis=1)\n",
    "proteinatlas.fillna(0, inplace=True)\n",
    "proteinatlas.head()"
   ]
  },
  {
   "cell_type": "code",
   "execution_count": 83,
   "metadata": {},
   "outputs": [
    {
     "name": "stderr",
     "output_type": "stream",
     "text": [
      "/home/amayer/.conda/envs/py3/lib/python3.6/site-packages/ipykernel_launcher.py:2: FutureWarning: \n",
      "Passing list-likes to .loc or [] with any missing label will raise\n",
      "KeyError in the future, you can use .reindex() as an alternative.\n",
      "\n",
      "See the documentation here:\n",
      "https://pandas.pydata.org/pandas-docs/stable/user_guide/indexing.html#deprecate-loc-reindex-listlike\n",
      "  \n"
     ]
    },
    {
     "data": {
      "image/png": "[encoded data removed]",
      "text/plain": [
       "<Figure size 1026x690 with 1 Axes>"
      ]
     },
     "metadata": {},
     "output_type": "display_data"
    }
   ],
   "source": [
    "excluded_genes = set(df[df['Accession'].isin(set(zfs['seq id']))]['Gene'])\n",
    "plt.hist(proteinatlas.loc[excluded_genes].filter(regex='Tissue').sum());"
   ]
  },
  {
   "cell_type": "code",
   "execution_count": 108,
   "metadata": {},
   "outputs": [],
   "source": [
    "multiple_domains_hmm = set(pfam_multiplicities[pfam_multiplicities > 10].index)"
   ]
  },
  {
   "cell_type": "code",
   "execution_count": 109,
   "metadata": {},
   "outputs": [
    {
     "data": {
      "text/html": [
       "<div>\n",
       "<style scoped>\n",
       "    .dataframe tbody tr th:only-of-type {\n",
       "        vertical-align: middle;\n",
       "    }\n",
       "\n",
       "    .dataframe tbody tr th {\n",
       "        vertical-align: top;\n",
       "    }\n",
       "\n",
       "    .dataframe thead th {\n",
       "        text-align: right;\n",
       "    }\n",
       "</style>\n",
       "<table border=\"1\" class=\"dataframe\">\n",
       "  <thead>\n",
       "    <tr style=\"text-align: right;\">\n",
       "      <th></th>\n",
       "      <th>seq id</th>\n",
       "      <th>alignment start</th>\n",
       "      <th>alignment end</th>\n",
       "      <th>envelope start</th>\n",
       "      <th>envelope end</th>\n",
       "      <th>hmm acc</th>\n",
       "      <th>hmm name</th>\n",
       "      <th>type</th>\n",
       "      <th>hmm start</th>\n",
       "      <th>hmm end</th>\n",
       "      <th>hmm length</th>\n",
       "      <th>bit score</th>\n",
       "      <th>E-value</th>\n",
       "      <th>clan</th>\n",
       "    </tr>\n",
       "  </thead>\n",
       "  <tbody>\n",
       "    <tr>\n",
       "      <th>16</th>\n",
       "      <td>A0A024R161</td>\n",
       "      <td>49</td>\n",
       "      <td>115</td>\n",
       "      <td>49</td>\n",
       "      <td>120</td>\n",
       "      <td>PF00226</td>\n",
       "      <td>DnaJ</td>\n",
       "      <td>PfamLive::Result::SequenceOntology=HASH(0x89d6...</td>\n",
       "      <td>1</td>\n",
       "      <td>57</td>\n",
       "      <td>63</td>\n",
       "      <td>56.3</td>\n",
       "      <td>6.600000e-12</td>\n",
       "      <td>CL0392</td>\n",
       "    </tr>\n",
       "    <tr>\n",
       "      <th>17</th>\n",
       "      <td>A0A024R161</td>\n",
       "      <td>108</td>\n",
       "      <td>152</td>\n",
       "      <td>96</td>\n",
       "      <td>153</td>\n",
       "      <td>PF00631</td>\n",
       "      <td>G-gamma</td>\n",
       "      <td>PfamLive::Result::SequenceOntology=HASH(0x8ba7...</td>\n",
       "      <td>20</td>\n",
       "      <td>67</td>\n",
       "      <td>68</td>\n",
       "      <td>39.3</td>\n",
       "      <td>1.200000e-06</td>\n",
       "      <td>No_clan</td>\n",
       "    </tr>\n",
       "    <tr>\n",
       "      <th>175</th>\n",
       "      <td>A0A075B6H5</td>\n",
       "      <td>39</td>\n",
       "      <td>128</td>\n",
       "      <td>39</td>\n",
       "      <td>130</td>\n",
       "      <td>PF07686</td>\n",
       "      <td>V-set</td>\n",
       "      <td>PfamLive::Result::SequenceOntology=HASH(0xf3db...</td>\n",
       "      <td>1</td>\n",
       "      <td>91</td>\n",
       "      <td>109</td>\n",
       "      <td>40.8</td>\n",
       "      <td>5.100000e-07</td>\n",
       "      <td>CL0011</td>\n",
       "    </tr>\n",
       "    <tr>\n",
       "      <th>176</th>\n",
       "      <td>A0A075B6H7</td>\n",
       "      <td>26</td>\n",
       "      <td>110</td>\n",
       "      <td>26</td>\n",
       "      <td>115</td>\n",
       "      <td>PF07686</td>\n",
       "      <td>V-set</td>\n",
       "      <td>PfamLive::Result::SequenceOntology=HASH(0xf3db...</td>\n",
       "      <td>1</td>\n",
       "      <td>91</td>\n",
       "      <td>109</td>\n",
       "      <td>63.3</td>\n",
       "      <td>5.300000e-14</td>\n",
       "      <td>CL0011</td>\n",
       "    </tr>\n",
       "    <tr>\n",
       "      <th>177</th>\n",
       "      <td>A0A075B6H8</td>\n",
       "      <td>28</td>\n",
       "      <td>111</td>\n",
       "      <td>28</td>\n",
       "      <td>117</td>\n",
       "      <td>PF07686</td>\n",
       "      <td>V-set</td>\n",
       "      <td>PfamLive::Result::SequenceOntology=HASH(0xf3db...</td>\n",
       "      <td>1</td>\n",
       "      <td>91</td>\n",
       "      <td>109</td>\n",
       "      <td>42.3</td>\n",
       "      <td>1.700000e-07</td>\n",
       "      <td>CL0011</td>\n",
       "    </tr>\n",
       "  </tbody>\n",
       "</table>\n",
       "</div>"
      ],
      "text/plain": [
       "         seq id  alignment start  alignment end  envelope start  envelope end  \\\n",
       "16   A0A024R161               49            115              49           120   \n",
       "17   A0A024R161              108            152              96           153   \n",
       "175  A0A075B6H5               39            128              39           130   \n",
       "176  A0A075B6H7               26            110              26           115   \n",
       "177  A0A075B6H8               28            111              28           117   \n",
       "\n",
       "     hmm acc hmm name                                               type  \\\n",
       "16   PF00226     DnaJ  PfamLive::Result::SequenceOntology=HASH(0x89d6...   \n",
       "17   PF00631  G-gamma  PfamLive::Result::SequenceOntology=HASH(0x8ba7...   \n",
       "175  PF07686    V-set  PfamLive::Result::SequenceOntology=HASH(0xf3db...   \n",
       "176  PF07686    V-set  PfamLive::Result::SequenceOntology=HASH(0xf3db...   \n",
       "177  PF07686    V-set  PfamLive::Result::SequenceOntology=HASH(0xf3db...   \n",
       "\n",
       "     hmm start  hmm end  hmm length  bit score       E-value     clan  \n",
       "16           1       57          63       56.3  6.600000e-12   CL0392  \n",
       "17          20       67          68       39.3  1.200000e-06  No_clan  \n",
       "175          1       91         109       40.8  5.100000e-07   CL0011  \n",
       "176          1       91         109       63.3  5.300000e-14   CL0011  \n",
       "177          1       91         109       42.3  1.700000e-07   CL0011  "
      ]
     },
     "execution_count": 109,
     "metadata": {},
     "output_type": "execute_result"
    }
   ],
   "source": [
    "df_multiple = df_pfam[df_pfam['hmm acc'].isin(multiple_domains_hmm)]\n",
    "df_multiple.head()"
   ]
  },
  {
   "cell_type": "code",
   "execution_count": 110,
   "metadata": {},
   "outputs": [],
   "source": [
    "multiple_domains_seqid = set(df_multiple['seq id'])"
   ]
  },
  {
   "cell_type": "code",
   "execution_count": 111,
   "metadata": {},
   "outputs": [
    {
     "data": {
      "text/plain": [
       "(9115, 21080, 11965)"
      ]
     },
     "execution_count": 111,
     "metadata": {},
     "output_type": "execute_result"
    }
   ],
   "source": [
    "len(seqids_set-multiple_domains_seqid), len(seqids_set), len(multiple_domains_seqid)"
   ]
  },
  {
   "cell_type": "code",
   "execution_count": 175,
   "metadata": {},
   "outputs": [],
   "source": [
    "seqs = []\n",
    "with open('data/human_replaced.csv', 'w') as f:\n",
    "    f.write('Accession' + ',' + 'Sequence'+ '\\n')\n",
    "    for ind, row in df.iterrows():\n",
    "        seqid, seq = row['Accession'], row['Sequence']\n",
    "        pfam = df_multiple[df_multiple['seq id']==seqid]\n",
    "        if pfam.shape[0] == 0:\n",
    "            newseq = seq\n",
    "        else:\n",
    "            newseq = ''\n",
    "            start = 0\n",
    "            pfam = pfam.sort_values('envelope start')\n",
    "            for ind, row in pfam.iterrows():\n",
    "                end = row['envelope start']\n",
    "                newseq += seq[start:end]\n",
    "                newseq += 'X'*(row['envelope end']-row['envelope start'])\n",
    "                start = row['envelope end']\n",
    "            end = row['envelope end']\n",
    "            newseq += seq[end:]\n",
    "        seqs.append(newseq)\n",
    "        f.write(seqid + ',' + newseq + '\\n')"
   ]
  },
  {
   "cell_type": "code",
   "execution_count": 29,
   "metadata": {},
   "outputs": [
    {
     "data": {
      "text/plain": [
       "zf-C2H2        681\n",
       "7tm_4          424\n",
       "V-set          421\n",
       "KRAB           368\n",
       "Pkinase        347\n",
       "7tm_1          287\n",
       "WD40           219\n",
       "Homeodomain    219\n",
       "RRM_1          207\n",
       "Ank_2          199\n",
       "PH             180\n",
       "LRR_8          171\n",
       "fn3            136\n",
       "Ras            136\n",
       "I-set          133\n",
       "Ig_3           132\n",
       "Pkinase_Tyr    129\n",
       "BTB            129\n",
       "C2             123\n",
       "Trypsin        121\n",
       "Name: hmm name, dtype: int64"
      ]
     },
     "execution_count": 29,
     "metadata": {},
     "output_type": "execute_result"
    }
   ],
   "source": [
    "pfam_nproteins = df_pfam.groupby(['seq id', 'hmm name']).mean().reset_index()['hmm name'].value_counts()\n",
    "pfam_nproteins.head(n=20)"
   ]
  },
  {
   "cell_type": "code",
   "execution_count": 30,
   "metadata": {},
   "outputs": [
    {
     "data": {
      "text/plain": [
       "PF00096    681\n",
       "PF13853    424\n",
       "PF07686    421\n",
       "PF01352    368\n",
       "PF00069    347\n",
       "PF00001    287\n",
       "PF00400    219\n",
       "PF00046    219\n",
       "PF00076    207\n",
       "PF12796    199\n",
       "PF00169    180\n",
       "PF13855    171\n",
       "PF00041    136\n",
       "PF00071    136\n",
       "PF07679    133\n",
       "PF13927    132\n",
       "PF00651    129\n",
       "PF07714    129\n",
       "PF00168    123\n",
       "PF00089    121\n",
       "Name: hmm acc, dtype: int64"
      ]
     },
     "execution_count": 30,
     "metadata": {},
     "output_type": "execute_result"
    }
   ],
   "source": [
    "pfam_nproteins = df_pfam.groupby(['seq id', 'hmm acc']).mean().reset_index()['hmm acc'].value_counts()\n",
    "pfam_nproteins.head(n=20)"
   ]
  },
  {
   "cell_type": "code",
   "execution_count": 31,
   "metadata": {},
   "outputs": [
    {
     "data": {
      "image/png": "[encoded data removed]",
      "text/plain": [
       "<Figure size 1026x690 with 1 Axes>"
      ]
     },
     "metadata": {},
     "output_type": "display_data"
    }
   ],
   "source": [
    "plt.hist(pfam_nproteins, bins=np.logspace(0, 3))\n",
    "plt.xscale('log')\n",
    "plt.yscale('log')"
   ]
  },
  {
   "cell_type": "code",
   "execution_count": 37,
   "metadata": {},
   "outputs": [
    {
     "data": {
      "text/plain": [
       "(3018, 3372, '9.766670e+06, 1.137888e+07')"
      ]
     },
     "execution_count": 37,
     "metadata": {},
     "output_type": "execute_result"
    }
   ],
   "source": [
    "ntop = 10\n",
    "top = set(df_pfam[df_pfam['hmm acc'].isin(set(pfam_nproteins.iloc[:ntop].index))]['seq id'])\n",
    "df_notop = df[~df['Accession'].isin(top)]\n",
    "df_notop.to_csv('data/human_notop%i.csv'%ntop, index=False)\n",
    "len(top), sum(pfam_nproteins.iloc[:ntop]), '%e, %e' %(np.sum(df[~df['Accession'].isin(top)]['Sequence'].apply(len)), np.sum(df['Sequence'].apply(len)))"
   ]
  },
  {
   "cell_type": "code",
   "execution_count": 84,
   "metadata": {},
   "outputs": [
    {
     "name": "stderr",
     "output_type": "stream",
     "text": [
      "/home/amayer/.conda/envs/py3/lib/python3.6/site-packages/ipykernel_launcher.py:2: FutureWarning: \n",
      "Passing list-likes to .loc or [] with any missing label will raise\n",
      "KeyError in the future, you can use .reindex() as an alternative.\n",
      "\n",
      "See the documentation here:\n",
      "https://pandas.pydata.org/pandas-docs/stable/user_guide/indexing.html#deprecate-loc-reindex-listlike\n",
      "  \n"
     ]
    },
    {
     "data": {
      "image/png": "[encoded data removed]",
      "text/plain": [
       "<Figure size 1026x690 with 1 Axes>"
      ]
     },
     "metadata": {},
     "output_type": "display_data"
    }
   ],
   "source": [
    "excluded_genes = set(df[df['Accession'].isin(top)]['Gene'])\n",
    "plt.hist(proteinatlas.loc[excluded_genes].filter(regex='Tissue').sum());"
   ]
  },
  {
   "cell_type": "code",
   "execution_count": 38,
   "metadata": {},
   "outputs": [
    {
     "data": {
      "text/plain": [
       "8786"
      ]
     },
     "execution_count": 38,
     "metadata": {},
     "output_type": "execute_result"
    }
   ],
   "source": [
    "# keep one random protein per family\n",
    "remove = set()\n",
    "#for pfam in pfam_nproteins.iloc[:ntop].index:\n",
    "for pfam in pfam_nproteins[pfam_nproteins > 10].index:\n",
    "    family = set(df_pfam[df_pfam['hmm acc'] == pfam]['seq id'].unique())\n",
    "    family = family - set(random.sample(family, 10))\n",
    "    remove = remove | family\n",
    "len(remove)"
   ]
  },
  {
   "cell_type": "code",
   "execution_count": 39,
   "metadata": {},
   "outputs": [
    {
     "data": {
      "text/plain": [
       "'5.574679e+06, 1.137888e+07'"
      ]
     },
     "execution_count": 39,
     "metadata": {},
     "output_type": "execute_result"
    }
   ],
   "source": [
    "'%e, %e' %(np.sum(df[~df['Accession'].isin(remove)]['Sequence'].apply(len)), np.sum(df['Sequence'].apply(len)))"
   ]
  },
  {
   "cell_type": "code",
   "execution_count": 41,
   "metadata": {},
   "outputs": [],
   "source": [
    "df_domains = df[~df['Accession'].isin(remove)]\n",
    "df_domains.to_csv('data/human_downsampled.csv', index=False)"
   ]
  },
  {
   "cell_type": "markdown",
   "metadata": {},
   "source": [
    "## Olfactory receptors"
   ]
  },
  {
   "cell_type": "code",
   "execution_count": 42,
   "metadata": {},
   "outputs": [
    {
     "data": {
      "text/plain": [
       "424"
      ]
     },
     "execution_count": 42,
     "metadata": {},
     "output_type": "execute_result"
    }
   ],
   "source": [
    "olfactory_receptors = df_pfam[df_pfam['hmm acc'] == 'PF13853']\n",
    "olfactory_receptors.shape[0]"
   ]
  },
  {
   "cell_type": "code",
   "execution_count": 43,
   "metadata": {},
   "outputs": [],
   "source": [
    "seqs = [dfind.loc[row['seq id']]['Sequence'][row['envelope start']:row['envelope end']]\n",
    "        for ind, row in olfactory_receptors.iterrows()]"
   ]
  },
  {
   "cell_type": "code",
   "execution_count": null,
   "metadata": {},
   "outputs": [],
   "source": []
  }
 ],
 "metadata": {
  "kernelspec": {
   "display_name": "Python 3",
   "language": "python",
   "name": "python3"
  },
  "language_info": {
   "codemirror_mode": {
    "name": "ipython",
    "version": 3
   },
   "file_extension": ".py",
   "mimetype": "text/x-python",
   "name": "python",
   "nbconvert_exporter": "python",
   "pygments_lexer": "ipython3",
   "version": "3.6.10"
  }
 },
 "nbformat": 4,
 "nbformat_minor": 2
}
