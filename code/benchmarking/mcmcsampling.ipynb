{
 "cells": [
  {
   "cell_type": "code",
   "execution_count": 1,
   "metadata": {},
   "outputs": [],
   "source": [
    "import numpy as np\n",
    "\n",
    "from numba import njit, jit\n",
    "\n",
    "import sys\n",
    "sys.path.append('..')\n",
    "from lib import *\n",
    "from lib.maxent import *"
   ]
  },
  {
   "cell_type": "code",
   "execution_count": 2,
   "metadata": {},
   "outputs": [],
   "source": [
    "def mcmcsampler(x0, energy, jump, nsteps=1000, nburnin=0, nsample=1, prng=None):\n",
    "    \"\"\"Markov chain Monte carlo sampler.\n",
    "\n",
    "    x0: starting position (array)\n",
    "    energy(x): function for calculating energy\n",
    "    jump(x): function for calculating a proposed new position\n",
    "    nburnin: burnin period in which states are not saved\n",
    "    nsample: sample interval for saving states\n",
    "    \n",
    "    returns array of states\n",
    "    \"\"\"\n",
    "    if prng is None:\n",
    "        prng = np.random\n",
    "    nsteps, nburnin, nsample = int(nsteps), int(nburnin), int(nsample)\n",
    "    x = x0\n",
    "    Ex = energy(x)\n",
    "    samples = np.zeros(((nsteps-nburnin)//nsample, x0.shape[0]), dtype=np.int64)\n",
    "    counter = 0\n",
    "    for i in range(1, nsteps+1):\n",
    "        xp = jump(x)\n",
    "        Exp = energy(xp)\n",
    "        if (Exp < Ex) or (prng.rand() < np.exp(-Exp+Ex)):\n",
    "            x = xp\n",
    "            Ex = Exp\n",
    "        if (i > nburnin) and ((i-nburnin) % nsample == 0):\n",
    "            samples[counter] = x\n",
    "            counter += 1\n",
    "    return samples"
   ]
  },
  {
   "cell_type": "code",
   "execution_count": 3,
   "metadata": {},
   "outputs": [],
   "source": [
    "prng = np.random\n",
    "L = 9\n",
    "q = naminoacids\n",
    "jump = lambda x: local_jump_jit(x, q)\n",
    "x0 = prng.randint(q, size=L)\n",
    "nsteps = 10000\n",
    "nsample = 9"
   ]
  },
  {
   "cell_type": "code",
   "execution_count": 4,
   "metadata": {},
   "outputs": [],
   "source": [
    "params = np.load('../maxent/data/Human_9.npz')\n",
    "hi = params['hi']\n",
    "Jij = params['Jij']\n",
    "energy = lambda x: energy_potts(x, hi, Jij)"
   ]
  },
  {
   "cell_type": "code",
   "execution_count": 5,
   "metadata": {},
   "outputs": [
    {
     "data": {
      "text/plain": [
       "array([[15, 17,  2, ...,  4, 14, 12],\n",
       "       [ 2,  5, 13, ...,  2, 12,  5],\n",
       "       [15,  8, 13, ...,  1,  7, 15],\n",
       "       ...,\n",
       "       [ 2,  7,  2, ..., 12,  3, 12],\n",
       "       [11,  5,  8, ..., 15,  2,  0],\n",
       "       [17,  9,  0, ..., 12,  2,  5]])"
      ]
     },
     "execution_count": 5,
     "metadata": {},
     "output_type": "execute_result"
    }
   ],
   "source": [
    "# unfortunately the code is buggy as the correct lenght is not always calculated\n",
    "mcmcsampler(x0, energy, jump, nsteps=nsteps, nsample=nsample*3, nburnin=7)"
   ]
  },
  {
   "cell_type": "code",
   "execution_count": 6,
   "metadata": {},
   "outputs": [
    {
     "name": "stdout",
     "output_type": "stream",
     "text": [
      "31.5 ms ± 2.35 ms per loop (mean ± std. dev. of 7 runs, 10 loops each)\n"
     ]
    }
   ],
   "source": [
    "%timeit mcmcsampler(x0, energy, jump, nsteps=nsteps, nsample=nsample)"
   ]
  },
  {
   "cell_type": "code",
   "execution_count": 7,
   "metadata": {},
   "outputs": [
    {
     "name": "stdout",
     "output_type": "stream",
     "text": [
      " "
     ]
    }
   ],
   "source": [
    "%prun mcmcsampler(x0, energy, jump, nsteps=nsteps, nsample=nsample);"
   ]
  },
  {
   "cell_type": "code",
   "execution_count": 8,
   "metadata": {},
   "outputs": [],
   "source": [
    "@njit\n",
    "def mcmcsampler_jit(x0, energy, jump, nsteps=1000, nburnin=0, nsample=1):\n",
    "    \"\"\"Markov chain Monte carlo sampler.\n",
    "\n",
    "    x0: starting position (array)\n",
    "    energy(x): function for calculating energy\n",
    "    jump(x): function for calculating a proposed new position\n",
    "    nburnin: burnin period in which states are not saved\n",
    "    nsample: sample interval for saving states\n",
    "    \n",
    "    returns array of states\n",
    "    \"\"\"\n",
    "    prng = np.random\n",
    "    nsteps, nburnin, nsample = int(nsteps), int(nburnin), int(nsample)\n",
    "    x = x0\n",
    "    Ex = energy(x)\n",
    "    samples = np.zeros(((nsteps-nburnin)//nsample, x0.shape[0]), dtype=np.int64)\n",
    "    counter = 0\n",
    "    for i in range(1, nsteps+1):\n",
    "        xp = jump(x)\n",
    "        Exp = energy(xp)\n",
    "        if (Exp < Ex) or (prng.rand() < np.exp(-Exp+Ex)):\n",
    "            x = xp\n",
    "            Ex = Exp\n",
    "        if (i > nburnin) and ((i-nburnin) % nsample == 0):\n",
    "            samples[counter] = x\n",
    "            counter += 1\n",
    "    return samples"
   ]
  },
  {
   "cell_type": "code",
   "execution_count": 9,
   "metadata": {},
   "outputs": [],
   "source": [
    "@njit\n",
    "def energy(x):\n",
    "    return energy_potts(x, hi, Jij)\n",
    "\n",
    "@njit\n",
    "def jump(x):\n",
    "    return local_jump_jit(x, q)"
   ]
  },
  {
   "cell_type": "code",
   "execution_count": 10,
   "metadata": {},
   "outputs": [],
   "source": [
    "mcmcsampler_jit(x0, energy, jump, nsteps=nsteps, nsample=nsample);"
   ]
  },
  {
   "cell_type": "code",
   "execution_count": 11,
   "metadata": {},
   "outputs": [
    {
     "name": "stdout",
     "output_type": "stream",
     "text": [
      "2.8 ms ± 225 µs per loop (mean ± std. dev. of 7 runs, 100 loops each)\n"
     ]
    }
   ],
   "source": [
    "%timeit mcmcsampler_jit(x0, energy, jump, nsteps=nsteps, nsample=nsample)"
   ]
  },
  {
   "cell_type": "code",
   "execution_count": 12,
   "metadata": {},
   "outputs": [],
   "source": [
    "@njit\n",
    "def mcmcsampler_list(x0, energy, jump, nsteps=1000, nburnin=0, nsample=1):\n",
    "    \"\"\"Markov chain Monte carlo sampler.\n",
    "\n",
    "    x0: starting position (array)\n",
    "    energy(x): function for calculating energy\n",
    "    jump(x): function for calculating a proposed new position\n",
    "    nburnin: burnin period in which states are not saved\n",
    "    nsample: sample interval for saving states\n",
    "    \n",
    "    returns array of states\n",
    "    \"\"\"\n",
    "    prng = np.random\n",
    "    nsteps, nburnin, nsample = int(nsteps), int(nburnin), int(nsample)\n",
    "    x = x0\n",
    "    Ex = energy(x)\n",
    "    samples = []\n",
    "    for i in range(1, nsteps+1):\n",
    "        xp = jump(x)\n",
    "        Exp = energy(xp)\n",
    "        if (Exp < Ex) or (prng.rand() < np.exp(-Exp+Ex)):\n",
    "            x = xp\n",
    "            Ex = Exp\n",
    "        if (i > nburnin) and (i % nsample == 0):\n",
    "            samples.append(list(x))\n",
    "    return np.array(samples)"
   ]
  },
  {
   "cell_type": "code",
   "execution_count": 13,
   "metadata": {},
   "outputs": [
    {
     "data": {
      "text/plain": [
       "array([[ 0,  1,  2, ...,  5, 16,  5],\n",
       "       [ 0,  1, 12, ...,  5,  8, 14],\n",
       "       [14,  1, 12, ..., 16,  8, 19],\n",
       "       ...,\n",
       "       [ 8, 14,  7, ..., 12, 17, 13],\n",
       "       [ 0, 14,  7, ..., 13,  3, 16],\n",
       "       [ 0, 15,  3, ..., 13,  3, 16]])"
      ]
     },
     "execution_count": 13,
     "metadata": {},
     "output_type": "execute_result"
    }
   ],
   "source": [
    "mcmcsampler_list(x0, energy, jump, nsteps=nsteps, nsample=nsample, nburnin=10)"
   ]
  },
  {
   "cell_type": "code",
   "execution_count": 14,
   "metadata": {},
   "outputs": [
    {
     "name": "stdout",
     "output_type": "stream",
     "text": [
      "3.22 ms ± 218 µs per loop (mean ± std. dev. of 7 runs, 1 loop each)\n"
     ]
    }
   ],
   "source": [
    "%timeit mcmcsampler_list(x0, energy, jump, nsteps=nsteps, nsample=nsample)"
   ]
  },
  {
   "cell_type": "code",
   "execution_count": null,
   "metadata": {},
   "outputs": [],
   "source": []
  }
 ],
 "metadata": {
  "kernelspec": {
   "display_name": "Python 3",
   "language": "python",
   "name": "python3"
  },
  "language_info": {
   "codemirror_mode": {
    "name": "ipython",
    "version": 3
   },
   "file_extension": ".py",
   "mimetype": "text/x-python",
   "name": "python",
   "nbconvert_exporter": "python",
   "pygments_lexer": "ipython3",
   "version": "3.6.10"
  }
 },
 "nbformat": 4,
 "nbformat_minor": 2
}
