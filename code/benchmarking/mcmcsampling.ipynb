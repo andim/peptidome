{
 "cells": [
  {
   "cell_type": "code",
   "execution_count": 62,
   "metadata": {},
   "outputs": [],
   "source": [
    "import numpy as np\n",
    "\n",
    "from numba import njit, jit\n",
    "\n",
    "import sys\n",
    "sys.path.append('..')\n",
    "from lib import *\n",
    "from lib.maxent import *"
   ]
  },
  {
   "cell_type": "code",
   "execution_count": 90,
   "metadata": {},
   "outputs": [],
   "source": [
    "def mcmcsampler(x0, energy, jump, nsteps=1000, nburnin=0, nsample=1, prng=None):\n",
    "    \"\"\"Markov chain Monte carlo sampler.\n",
    "\n",
    "    x0: starting position (array)\n",
    "    energy(x): function for calculating energy\n",
    "    jump(x): function for calculating a proposed new position\n",
    "    nburnin: burnin period in which states are not saved\n",
    "    nsample: sample interval for saving states\n",
    "    \n",
    "    returns array of states\n",
    "    \"\"\"\n",
    "    if prng is None:\n",
    "        prng = np.random\n",
    "    nsteps, nburnin, nsample = int(nsteps), int(nburnin), int(nsample)\n",
    "    x = x0\n",
    "    Ex = energy(x)\n",
    "    samples = np.zeros(((nsteps-nburnin)//nsample, x0.shape[0]), dtype=np.int64)\n",
    "    counter = 0\n",
    "    for i in range(1, nsteps+1):\n",
    "        xp = jump(x)\n",
    "        Exp = energy(xp)\n",
    "        if (Exp < Ex) or (prng.rand() < np.exp(-Exp+Ex)):\n",
    "            x = xp\n",
    "            Ex = Exp\n",
    "        if (i > nburnin) and (i % nsample == 0):\n",
    "            samples[counter] = x\n",
    "            counter += 1\n",
    "    return samples"
   ]
  },
  {
   "cell_type": "code",
   "execution_count": 91,
   "metadata": {},
   "outputs": [],
   "source": [
    "prng = np.random\n",
    "L = 9\n",
    "q = naminoacids\n",
    "jump = lambda x: local_jump_jit(x, q)\n",
    "x0 = prng.randint(q, size=L)\n",
    "nsteps = 10000\n",
    "nsample = 9"
   ]
  },
  {
   "cell_type": "code",
   "execution_count": 92,
   "metadata": {},
   "outputs": [],
   "source": [
    "params = np.load('data/Human_full_k9.npz')\n",
    "hi = params['hi']\n",
    "Jij = params['Jij']\n",
    "energy = lambda x: energy_potts(x, hi, Jij)"
   ]
  },
  {
   "cell_type": "code",
   "execution_count": 93,
   "metadata": {},
   "outputs": [],
   "source": [
    "mcmcsampler(x0, energy, jump, nsteps=nsteps, nsample=nsample);"
   ]
  },
  {
   "cell_type": "code",
   "execution_count": 95,
   "metadata": {},
   "outputs": [
    {
     "name": "stdout",
     "output_type": "stream",
     "text": [
      "26.8 ms ± 293 µs per loop (mean ± std. dev. of 7 runs, 10 loops each)\n"
     ]
    }
   ],
   "source": [
    "%timeit mcmcsampler(x0, energy, jump, nsteps=nsteps, nsample=nsample)"
   ]
  },
  {
   "cell_type": "code",
   "execution_count": 75,
   "metadata": {},
   "outputs": [
    {
     "name": "stdout",
     "output_type": "stream",
     "text": [
      " "
     ]
    }
   ],
   "source": [
    "%prun mcmcsampler(x0, energy, jump, nsteps=nsteps, nsample=nsample);"
   ]
  },
  {
   "cell_type": "code",
   "execution_count": 86,
   "metadata": {},
   "outputs": [],
   "source": [
    "@njit\n",
    "def mcmcsampler_jit(x0, energy, jump, nsteps=1000, nburnin=0, nsample=1):\n",
    "    \"\"\"Markov chain Monte carlo sampler.\n",
    "\n",
    "    x0: starting position (array)\n",
    "    energy(x): function for calculating energy\n",
    "    jump(x): function for calculating a proposed new position\n",
    "    nburnin: burnin period in which states are not saved\n",
    "    nsample: sample interval for saving states\n",
    "    \n",
    "    returns array of states\n",
    "    \"\"\"\n",
    "    prng = np.random\n",
    "    nsteps, nburnin, nsample = int(nsteps), int(nburnin), int(nsample)\n",
    "    x = x0\n",
    "    Ex = energy(x)\n",
    "    samples = np.zeros(((nsteps-nburnin)//nsample, x0.shape[0]), dtype=np.int64)\n",
    "    counter = 0\n",
    "    for i in range(1, nsteps+1):\n",
    "        xp = jump(x)\n",
    "        Exp = energy(xp)\n",
    "        if (Exp < Ex) or (prng.rand() < np.exp(-Exp+Ex)):\n",
    "            x = xp\n",
    "            Ex = Exp\n",
    "        if (i > nburnin) and (i % nsample == 0):\n",
    "            samples[counter] = x\n",
    "            counter += 1\n",
    "    return samples"
   ]
  },
  {
   "cell_type": "code",
   "execution_count": 87,
   "metadata": {},
   "outputs": [],
   "source": [
    "@njit\n",
    "def energy(x):\n",
    "    return energy_potts(x, hi, Jij)\n",
    "\n",
    "@njit\n",
    "def jump(x):\n",
    "    return local_jump_jit(x, q)"
   ]
  },
  {
   "cell_type": "code",
   "execution_count": 88,
   "metadata": {},
   "outputs": [],
   "source": [
    "mcmcsampler_jit(x0, energy, jump, nsteps=nsteps, nsample=nsample);"
   ]
  },
  {
   "cell_type": "code",
   "execution_count": 89,
   "metadata": {},
   "outputs": [
    {
     "name": "stdout",
     "output_type": "stream",
     "text": [
      "2.12 ms ± 30.8 µs per loop (mean ± std. dev. of 7 runs, 100 loops each)\n"
     ]
    }
   ],
   "source": [
    "%timeit mcmcsampler_jit(x0, energy, jump, nsteps=nsteps, nsample=nsample)"
   ]
  },
  {
   "cell_type": "code",
   "execution_count": null,
   "metadata": {},
   "outputs": [],
   "source": []
  }
 ],
 "metadata": {
  "kernelspec": {
   "display_name": "Python 3",
   "language": "python",
   "name": "python3"
  },
  "language_info": {
   "codemirror_mode": {
    "name": "ipython",
    "version": 3
   },
   "file_extension": ".py",
   "mimetype": "text/x-python",
   "name": "python",
   "nbconvert_exporter": "python",
   "pygments_lexer": "ipython3",
   "version": "3.6.10"
  }
 },
 "nbformat": 4,
 "nbformat_minor": 2
}
