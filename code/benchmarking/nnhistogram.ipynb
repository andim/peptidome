{
 "cells": [
  {
   "cell_type": "code",
   "execution_count": null,
   "metadata": {},
   "outputs": [],
   "source": [
    "import pandas as pd\n",
    "import numpy as np\n",
    "import matplotlib.pyplot as plt\n",
    "import matplotlib\n",
    "\n",
    "from numba import jit, njit\n",
    "\n",
    "import sys\n",
    "sys.path.append('..')\n",
    "from lib import *\n",
    "from lib.maxent import *"
   ]
  },
  {
   "cell_type": "code",
   "execution_count": 43,
   "metadata": {},
   "outputs": [],
   "source": [
    "def pairwise_distances(data, N=100, distance=disthamming, data2=None,\n",
    "                       weights=None, weights2=None,\n",
    "                       warning=True, prng=np.random):\n",
    "    \"\"\"Pairwise distances between N randomly picked pairs from data.\"\"\"\n",
    "    N = int(N)\n",
    "    data = np.asarray(data)\n",
    "    if data2 is None:\n",
    "        data2 = data\n",
    "    else:\n",
    "        data2 = np.asarray(data2)\n",
    "    distances = np.zeros(N)\n",
    "    if weights is not None:\n",
    "        weights = np.asarray(weights)\n",
    "        dweights = np.zeros(N)\n",
    "        if weights2 is None:\n",
    "            weights2 = weights\n",
    "        else:\n",
    "            weights2 = np.asarray(weights2)\n",
    "    if warning and (len(data)*len(data2) < 10 * N):\n",
    "        print('warning: low amount of data, %g vs. %g', (len(data)*len(data2), N))\n",
    "    randints1 = prng.randint(len(data), size=N)\n",
    "    randints2 = prng.randint(len(data2), size=N)\n",
    "    for i in range(N):\n",
    "        inda, indb = randints1[i], randints2[i]\n",
    "        while inda == indb:\n",
    "            inda, indb = prng.randint(len(data)), prng.randint(len(data2))\n",
    "        seqa, seqb = data[inda], data2[indb]\n",
    "        distances[i] = distance(seqa, seqb)\n",
    "        if weights is not None:\n",
    "            dweights[i] = weights[inda] * weights2[indb]\n",
    "    if weights is not None:\n",
    "        return distances, dweights\n",
    "    return distances\n"
   ]
  },
  {
   "cell_type": "code",
   "execution_count": 40,
   "metadata": {},
   "outputs": [],
   "source": [
    "matrix = load_matrix('../maxent/data/test_matrix.csv.gz')"
   ]
  },
  {
   "cell_type": "code",
   "execution_count": 95,
   "metadata": {},
   "outputs": [],
   "source": [
    "nsample = 1e6\n",
    "bins = np.arange(0, 11, 1)\n",
    "distances = pairwise_distances(matrix, N=nsample, distance=hammingdist_jit)\n",
    "hist, _ = np.histogram(distances, bins=bins-0.5)"
   ]
  },
  {
   "cell_type": "code",
   "execution_count": 96,
   "metadata": {},
   "outputs": [
    {
     "name": "stdout",
     "output_type": "stream",
     "text": [
      "1.58 s ± 151 ms per loop (mean ± std. dev. of 7 runs, 1 loop each)\n"
     ]
    }
   ],
   "source": [
    "%timeit -t pairwise_distances(matrix, N=nsample, distance=hammingdist_jit)"
   ]
  },
  {
   "cell_type": "code",
   "execution_count": 99,
   "metadata": {},
   "outputs": [],
   "source": [
    "@njit\n",
    "def pairwise_distances_jit(data, N=100, data2=None, normalize=False):\n",
    "    N = int(N)\n",
    "    data = np.asarray(data)\n",
    "    if data2 is None:\n",
    "        data2 = data\n",
    "    else:\n",
    "        data2 = np.asarray(data2)\n",
    "    num_rows = 2*int(N**.5)\n",
    "    indices = np.random.choice(matrix.shape[0], num_rows, replace=False)\n",
    "    data = data[indices[:num_rows//2]]\n",
    "    data2 = data2[indices[num_rows//2:]]\n",
    "    L = matrix.shape[1]\n",
    "    hist = np.zeros(L+1)\n",
    "    for i in range(len(data)):\n",
    "        for j in range(len(data2)):\n",
    "            dist = hammingdist_jit(data[i, :], data2[j, :])\n",
    "            hist[dist] += 1\n",
    "    if normalize:\n",
    "        hist /= len(data)*len(data2)\n",
    "    return hist"
   ]
  },
  {
   "cell_type": "code",
   "execution_count": 104,
   "metadata": {},
   "outputs": [
    {
     "name": "stdout",
     "output_type": "stream",
     "text": [
      "The history saving thread hit an unexpected error (OperationalError('database is locked',)).History will not be written to the database.\n",
      "13.7 s ± 469 ms per loop (mean ± std. dev. of 7 runs, 1 loop each)\n"
     ]
    }
   ],
   "source": [
    "%timeit -t pairwise_distances_jit(matrix, N=1e8)"
   ]
  },
  {
   "cell_type": "code",
   "execution_count": 100,
   "metadata": {},
   "outputs": [],
   "source": [
    "nsample = 1e7\n",
    "bins = np.arange(0, 11, 1)\n",
    "distances = pairwise_distances(matrix, N=nsample, distance=hammingdist_jit)\n",
    "hist, _ = np.histogram(distances, bins=bins-0.5)"
   ]
  },
  {
   "cell_type": "code",
   "execution_count": 101,
   "metadata": {},
   "outputs": [],
   "source": [
    "direct = pairwise_distances_jit(matrix, N=nsample)"
   ]
  },
  {
   "cell_type": "code",
   "execution_count": 103,
   "metadata": {},
   "outputs": [
    {
     "data": {
      "image/png": "[encoded data removed]",
      "text/plain": [
       "<Figure size 432x288 with 1 Axes>"
      ]
     },
     "metadata": {
      "needs_background": "light"
     },
     "output_type": "display_data"
    }
   ],
   "source": [
    "plt.step(bins[:-1], direct, where='mid')\n",
    "plt.step(bins[:-1], hist, where='mid')\n",
    "plt.yscale('log')"
   ]
  },
  {
   "cell_type": "code",
   "execution_count": null,
   "metadata": {},
   "outputs": [],
   "source": []
  },
  {
   "cell_type": "code",
   "execution_count": null,
   "metadata": {},
   "outputs": [],
   "source": []
  }
 ],
 "metadata": {
  "kernelspec": {
   "display_name": "Python 3",
   "language": "python",
   "name": "python3"
  },
  "language_info": {
   "codemirror_mode": {
    "name": "ipython",
    "version": 3
   },
   "file_extension": ".py",
   "mimetype": "text/x-python",
   "name": "python",
   "nbconvert_exporter": "python",
   "pygments_lexer": "ipython3",
   "version": "3.8.5"
  }
 },
 "nbformat": 4,
 "nbformat_minor": 2
}
