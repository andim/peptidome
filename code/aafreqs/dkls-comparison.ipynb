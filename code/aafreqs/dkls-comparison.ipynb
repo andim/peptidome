{
 "cells": [
  {
   "cell_type": "code",
   "execution_count": 1,
   "metadata": {},
   "outputs": [],
   "source": [
    "import sys\n",
    "sys.path.append('..')\n",
    "import numpy as np\n",
    "import pandas as pd\n",
    "import matplotlib.pyplot as plt\n",
    "import scipy.stats\n",
    "\n",
    "from lib import *\n"
   ]
  },
  {
   "cell_type": "code",
   "execution_count": 7,
   "metadata": {},
   "outputs": [],
   "source": [
    "proteomes = load_proteomes()\n",
    "human = datadir + proteomes.loc['Human']['path']"
   ]
  },
  {
   "cell_type": "code",
   "execution_count": 8,
   "metadata": {},
   "outputs": [],
   "source": [
    "df = counter_to_df(count_kmers_proteome(human, 1), norm=True)\n",
    "df2 = counter_to_df(count_kmers_proteome(human, 2), norm=True)"
   ]
  },
  {
   "cell_type": "code",
   "execution_count": 62,
   "metadata": {},
   "outputs": [],
   "source": [
    "def jsd(p, q, base=2):\n",
    "    m = (p + q) / 2.0\n",
    "    return (scipy.stats.entropy(p, m, base=base) + scipy.stats.entropy(q, m, base=base)) / 2.0"
   ]
  },
  {
   "cell_type": "code",
   "execution_count": 70,
   "metadata": {},
   "outputs": [],
   "source": [
    "round_to_n = lambda x, n: round(x, -int(np.floor(np.log10(x))) + (n - 1))\n",
    "\n",
    "def dkl(path): \n",
    "    dfp = counter_to_df(count_kmers_proteome(path, 1), norm=True)\n",
    "    dfmerged = pd.merge(df, dfp, on='seq', suffixes=['_human', '_pathogen'])\n",
    "\n",
    "    h = np.asarray(dfmerged['freq_human'])\n",
    "    p = np.asarray(dfmerged['freq_pathogen'])\n",
    "\n",
    "    dkl_pu = np.log2(20) - scipy.stats.entropy(dfp['freq'], base=2)\n",
    "    dkl_hu = np.log2(20) - scipy.stats.entropy(df['freq'], base=2)\n",
    "    dkl_ph = scipy.stats.entropy(p, qk=h, base=2)\n",
    "    dkl_hp = scipy.stats.entropy(h, qk=p, base=2)\n",
    "    #jsd_ = jsd(p, h)\n",
    "    return dkl_hu, dkl_pu, dkl_ph, dkl_hp#, jsd_"
   ]
  },
  {
   "cell_type": "code",
   "execution_count": 87,
   "metadata": {},
   "outputs": [
    {
     "data": {
      "text/plain": [
       "Text(0.5, 1.0, 'InfluenzaA')"
      ]
     },
     "execution_count": 87,
     "metadata": {},
     "output_type": "execute_result"
    },
    {
     "data": {
      "image/png": "[encoded data removed]",
      "text/plain": [
       "<Figure size 432x288 with 1 Axes>"
      ]
     },
     "metadata": {
      "needs_background": "light"
     },
     "output_type": "display_data"
    }
   ],
   "source": [
    "name = 'InfluenzaA'\n",
    "dkls =  dkl(datadir + proteomes.loc[name]['path'])\n",
    "objects = ('KL(H | U)', 'KL(P | U)', 'KL(P | H)', 'KL(H | P)')#, 'JSD(P | H)')\n",
    "y_pos = np.arange(len(objects))\n",
    "plt.bar(y_pos, dkls, align='center', alpha=0.5)\n",
    "plt.xticks(y_pos, objects)\n",
    "plt.ylabel('Divergence in bits')\n",
    "plt.title(name)"
   ]
  },
  {
   "cell_type": "code",
   "execution_count": null,
   "metadata": {},
   "outputs": [],
   "source": []
  }
 ],
 "metadata": {
  "kernelspec": {
   "display_name": "Python 3",
   "language": "python",
   "name": "python3"
  },
  "language_info": {
   "codemirror_mode": {
    "name": "ipython",
    "version": 3
   },
   "file_extension": ".py",
   "mimetype": "text/x-python",
   "name": "python",
   "nbconvert_exporter": "python",
   "pygments_lexer": "ipython3",
   "version": "3.6.8"
  }
 },
 "nbformat": 4,
 "nbformat_minor": 2
}
