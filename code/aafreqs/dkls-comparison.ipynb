{
 "cells": [
  {
   "cell_type": "code",
   "execution_count": 2,
   "metadata": {},
   "outputs": [],
   "source": [
    "import sys, copy\n",
    "sys.path.append('..')\n",
    "import numpy as np\n",
    "import pandas as pd\n",
    "import matplotlib\n",
    "import matplotlib.pyplot as plt\n",
    "import scipy.stats\n",
    "import seaborn as sns\n",
    "import sklearn.manifold\n",
    "from mpl_toolkits.axes_grid1.anchored_artists import AnchoredSizeBar\n",
    "import matplotlib.font_manager as fm\n",
    "\n",
    "from lib import *\n",
    "colors = matplotlib.rcParams['axes.prop_cycle'].by_key()['color']"
   ]
  },
  {
   "cell_type": "code",
   "execution_count": 3,
   "metadata": {},
   "outputs": [],
   "source": [
    "proteomes = load_proteomes()\n",
    "human = datadir + proteomes.loc['Human']['path']\n",
    "names = ['Human', 'Mouse', 'Vaccinia', 'InfluenzaB', 'InfluenzaA', 'CMV', 'HCV',\n",
    "       'DENV', 'HIV', 'EBV', 'Ebola', 'Ecoli', 'Tuberculosis', 'Listeria',\n",
    "       'Burkholderia', 'Meningococcus', 'StrepA', 'Hpylori',\n",
    "       'Lyme', 'Tetanus', 'Leprosy', 'Malaria', 'Chagas',\n",
    "       'OnchocercaVolvulus']"
   ]
  },
  {
   "cell_type": "code",
   "execution_count": 4,
   "metadata": {},
   "outputs": [],
   "source": [
    "df = counter_to_df(count_kmers_proteome(human, 1), norm=True)\n",
    "df2 = counter_to_df(count_kmers_proteome(human, 2), norm=True)"
   ]
  },
  {
   "cell_type": "code",
   "execution_count": null,
   "metadata": {},
   "outputs": [],
   "source": [
    "round_to_n = lambda x, n: round(x, -int(np.floor(np.log10(x))) + (n - 1))\n",
    "\n",
    "def dkl(path): \n",
    "    dfp = counter_to_df(count_kmers_proteome(path, 1), norm=True)\n",
    "    dfmerged = pd.merge(df, dfp, on='seq', suffixes=['_human', '_pathogen'])\n",
    "\n",
    "    h = np.asarray(dfmerged['freq_human'])\n",
    "    p = np.asarray(dfmerged['freq_pathogen'])\n",
    "\n",
    "    dkl_pu = np.log2(20) - scipy.stats.entropy(dfp['freq'], base=2)\n",
    "    dkl_hu = np.log2(20) - scipy.stats.entropy(df['freq'], base=2)\n",
    "    dkl_ph = scipy.stats.entropy(p, qk=h, base=2)\n",
    "    dkl_hp = scipy.stats.entropy(h, qk=p, base=2)\n",
    "    #jsd_ = jsd(p, h)\n",
    "    return dkl_hu, dkl_pu, dkl_ph, dkl_hp#, jsd_"
   ]
  },
  {
   "cell_type": "code",
   "execution_count": null,
   "metadata": {},
   "outputs": [
    {
     "data": {
      "text/plain": [
       "Text(0.5, 1.0, 'Malaria')"
      ]
     },
     "execution_count": 6,
     "metadata": {},
     "output_type": "execute_result"
    },
    {
     "data": {
      "image/png": "[encoded data removed]",
      "text/plain": [
       "<Figure size 432x288 with 1 Axes>"
      ]
     },
     "metadata": {
      "needs_background": "light"
     },
     "output_type": "display_data"
    }
   ],
   "source": [
    "name = 'Malaria'\n",
    "dkls =  dkl(datadir + proteomes.loc[name]['path'])\n",
    "objects = ('KL(H | U)', 'KL(P | U)', 'KL(P | H)', 'KL(H | P)')#, 'JSD(P | H)')\n",
    "y_pos = np.arange(len(objects))\n",
    "plt.bar(y_pos, dkls, align='center', alpha=0.5)\n",
    "plt.xticks(y_pos, objects)\n",
    "plt.ylabel('Divergence in bits')\n",
    "plt.title(name)"
   ]
  },
  {
   "cell_type": "code",
   "execution_count": null,
   "metadata": {},
   "outputs": [],
   "source": [
    "def calc_jsds(df1, df2): \n",
    "    dfm = pd.merge(df1, df2, on='seq', suffixes=['_1', '_2'])\n",
    "    f1 = np.asarray(dfm['freq_1'])\n",
    "    f2 = np.asarray(dfm['freq_2'])\n",
    "    fu = np.ones_like(f1)\n",
    "    return calc_jsd(f1, fu), calc_jsd(f2, fu), calc_jsd(f1, f2) "
   ]
  },
  {
   "cell_type": "code",
   "execution_count": null,
   "metadata": {},
   "outputs": [
    {
     "data": {
      "text/plain": [
       "Text(0.5, 1.0, 'DENV')"
      ]
     },
     "execution_count": 8,
     "metadata": {},
     "output_type": "execute_result"
    },
    {
     "data": {
      "image/png": "[encoded data removed]",
      "text/plain": [
       "<Figure size 432x288 with 1 Axes>"
      ]
     },
     "metadata": {
      "needs_background": "light"
     },
     "output_type": "display_data"
    }
   ],
   "source": [
    "name = 'DENV'\n",
    "jsds =  calc_jsds(df2, counter_to_df(count_kmers_proteome(datadir + proteomes.loc[name]['path'], 2), norm=True, clean=True))\n",
    "objects = ('JSD(H, U)', 'JSD(P, U)', 'JSD(H, P)')\n",
    "y_pos = np.arange(len(objects))\n",
    "plt.bar(y_pos, jsds, align='center', alpha=0.5)\n",
    "plt.xticks(y_pos, objects)\n",
    "plt.ylabel('Divergence in bits')\n",
    "plt.title(name)"
   ]
  },
  {
   "cell_type": "code",
   "execution_count": null,
   "metadata": {},
   "outputs": [],
   "source": [
    "dfs = {name: counter_to_df(count_kmers_proteome(datadir + proteomes.loc[name]['path'], 2), norm=False, clean=True) for name in proteomes.index}"
   ]
  },
  {
   "cell_type": "code",
   "execution_count": null,
   "metadata": {},
   "outputs": [],
   "source": [
    "N = len(names)\n",
    "distances_uniform = np.zeros(N)\n",
    "distances = np.zeros((N, N))\n",
    "for i, namei in enumerate(names):\n",
    "    df1 = dfs[namei]\n",
    "    f1 = np.asarray(list(df1['count']))\n",
    "    f1 += np.ones_like(f1)\n",
    "    f2 = np.ones_like(f1)\n",
    "    distances_uniform[i] = calc_jsd(f1, f2)\n",
    "    for j, namej in enumerate(names):\n",
    "#        if i == j:\n",
    "#            f1 = np.asarray(df1['count'])\n",
    "#            f1 += np.ones_like(f1)\n",
    "#            f2 = np.ones_like(f1)\n",
    "        df2 = dfs[namej]\n",
    "        dfm = pd.merge(df1, df2, on='seq', suffixes=['_1', '_2'])\n",
    "        f1, f2 = np.asarray(dfm['count_1']), np.asarray(dfm['count_2'])\n",
    "        f1 += np.ones_like(f1)\n",
    "        f2 += np.ones_like(f2)\n",
    "        distances[i, j] = calc_jsd(f1, f2, base=2)"
   ]
  },
  {
   "cell_type": "code",
   "execution_count": null,
   "metadata": {},
   "outputs": [],
   "source": [
    "list(zip(names, distances_uniform))"
   ]
  },
  {
   "cell_type": "code",
   "execution_count": null,
   "metadata": {},
   "outputs": [],
   "source": [
    "fullnames = list(proteomes.loc[names]['fullname'])"
   ]
  },
  {
   "cell_type": "code",
   "execution_count": null,
   "metadata": {},
   "outputs": [],
   "source": [
    "df = pd.DataFrame(distances, index=fullnames, columns=fullnames, copy=True)"
   ]
  },
  {
   "cell_type": "code",
   "execution_count": null,
   "metadata": {},
   "outputs": [],
   "source": [
    "fig = plt.figure(figsize=(8, 6))\n",
    "sns.heatmap(df)"
   ]
  },
  {
   "cell_type": "code",
   "execution_count": null,
   "metadata": {},
   "outputs": [],
   "source": [
    "type_to_color = {'virus' : colors[0],\n",
    "                 'bacterium' : colors[1],\n",
    "                 'parasite' : colors[2],\n",
    "                 'vertebrate' : colors[3]\n",
    "                }"
   ]
  },
  {
   "cell_type": "code",
   "execution_count": null,
   "metadata": {},
   "outputs": [],
   "source": [
    "for i in range(df.shape[0]):\n",
    "    df.iloc[i, i] = distances_uniform[i]"
   ]
  },
  {
   "cell_type": "code",
   "execution_count": null,
   "metadata": {},
   "outputs": [],
   "source": [
    "cond_distances = scipy.spatial.distance.squareform(0.5*(distances+distances.T))\n",
    "Z = scipy.cluster.hierarchy.linkage(cond_distances, method='average', optimal_ordering=True)\n",
    "typecolors = np.array([type_to_color[proteomes.loc[name]['type']] for  name in names])\n",
    "cg = sns.clustermap(df*4.5, row_linkage=Z, col_linkage=Z, cbar_kws=dict(label='JSD in bits'), figsize=(8, 8))\n",
    "for label, color in zip(cg.ax_heatmap.get_yticklabels(), typecolors[cg.dendrogram_col.reordered_ind]):\n",
    "    label.set_color(color)\n",
    "for label, color in zip(cg.ax_heatmap.get_xticklabels(), typecolors[cg.dendrogram_row.reordered_ind]):\n",
    "    label.set_color(color)\n",
    "ax = cg.ax_col_dendrogram\n",
    "for i, (type_, color) in enumerate(type_to_color.items()):\n",
    "    ax.text(1.07, 0.7-i*0.12, type_, color=color, transform=cg.ax_col_dendrogram.transAxes)\n",
    "cg.savefig('plots/jsdclustering.svg')\n",
    "cg.savefig('plots/jsdclustering.png', dpi=300)"
   ]
  },
  {
   "cell_type": "code",
   "execution_count": null,
   "metadata": {},
   "outputs": [],
   "source": [
    "df = pd.DataFrame(distances, index=names, columns=names, copy=True)\n",
    "df['Uniform'] = distances_uniform\n",
    "df = df.append(pd.Series(distances_uniform, name='Uniform', index=names))\n",
    "df.iloc[-1, -1] = 0.0"
   ]
  },
  {
   "cell_type": "code",
   "execution_count": null,
   "metadata": {},
   "outputs": [],
   "source": [
    "rand = np.random.RandomState(seed=5)\n",
    "mds = sklearn.manifold.MDS(n_components=2, dissimilarity='precomputed',\n",
    "                           n_init=20, max_iter=500,\n",
    "                           random_state=rand)\n",
    "transformed = mds.fit_transform(df*4.5)"
   ]
  },
  {
   "cell_type": "code",
   "execution_count": null,
   "metadata": {},
   "outputs": [],
   "source": [
    "list(zip(range(len(df.index)), df.index))"
   ]
  },
  {
   "cell_type": "code",
   "execution_count": null,
   "metadata": {},
   "outputs": [],
   "source": [
    "type_to_color = {'virus' : colors[0],\n",
    "                 'bacterium' : colors[1],\n",
    "                 'parasite' : colors[2],\n",
    "                 'vertebrate' : colors[3],\n",
    "                 'uniform' : colors[4]\n",
    "                }\n",
    "\n",
    "fig, ax = plt.subplots(figsize=(8, 8))\n",
    "\n",
    "typecolors = [type_to_color[proteomes.loc[name]['type']] for name in names]\n",
    "typecolors.append(type_to_color['uniform'])\n",
    "ax.scatter(transformed[:, 0], transformed[:, 1], color=typecolors)\n",
    "offsets = 0.01*np.ones(len(df.index))\n",
    "for index in [1, 4, 13, 14, 15, 23]:\n",
    "    offsets[index] = -0.02\n",
    "for i, name in enumerate(df.index):\n",
    "    ax.text(transformed[i, 0], transformed[i, 1]+offsets[i], name, ha='center', color=typecolors[i])\n",
    "ax.set_aspect('equal')\n",
    "ax.set_xticks([])\n",
    "ax.set_yticks([])\n",
    "sns.despine(fig, left=True, bottom=True)\n",
    "\n",
    "for i, (type_, color) in enumerate(type_to_color.items()):\n",
    "    ax.text(0.8, 0.9-i*0.025, type_, color=color, transform=ax.transAxes)\n",
    "\n",
    "fontprops = fm.FontProperties(size=12)\n",
    "scalebar = AnchoredSizeBar(ax.transData,\n",
    "                           0.5, '0.5 bit', 'lower left', \n",
    "                           pad=0.5,\n",
    "                           color='k',\n",
    "                           frameon=False,\n",
    "                           size_vertical=0.005,\n",
    "                           label_top=True,\n",
    "                           fontproperties=fontprops)\n",
    "\n",
    "ax.add_artist(scalebar)\n",
    "fig.tight_layout()\n",
    "fig.savefig('plots/mds.svg')\n",
    "fig.savefig('plots/mds.png', dpi=300)\n",
    "#fig.tight_layout()\n",
    "\n",
    "#w = 0.14\n",
    "#ax.set_xlim(-w, w)\n",
    "#ax.set_ylim(-w, w)"
   ]
  },
  {
   "cell_type": "code",
   "execution_count": null,
   "metadata": {},
   "outputs": [],
   "source": [
    "sklearn.manifold.MDS?"
   ]
  },
  {
   "cell_type": "code",
   "execution_count": null,
   "metadata": {},
   "outputs": [],
   "source": []
  }
 ],
 "metadata": {
  "kernelspec": {
   "display_name": "Python 3",
   "language": "python",
   "name": "python3"
  },
  "language_info": {
   "codemirror_mode": {
    "name": "ipython",
    "version": 3
   },
   "file_extension": ".py",
   "mimetype": "text/x-python",
   "name": "python",
   "nbconvert_exporter": "python",
   "pygments_lexer": "ipython3",
   "version": "3.6.8"
  }
 },
 "nbformat": 4,
 "nbformat_minor": 2
}
