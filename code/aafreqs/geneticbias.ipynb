{
 "cells": [
  {
   "cell_type": "code",
   "execution_count": 3,
   "metadata": {},
   "outputs": [],
   "source": [
    "import sys\n",
    "sys.path.append('..')\n",
    "import numpy as np\n",
    "import pandas as pd\n",
    "import matplotlib.pyplot as plt\n",
    "import projgrad\n",
    "plt.style.use('../peptidome.mplstyle')\n",
    "\n",
    "from lib import *"
   ]
  },
  {
   "cell_type": "code",
   "execution_count": 4,
   "metadata": {},
   "outputs": [],
   "source": [
    "df = counter_to_df(count_kmers_proteome(human, 1), norm=True)\n",
    "df = df.set_index('seq')\n",
    "df = df.sort_index()"
   ]
  },
  {
   "cell_type": "code",
   "execution_count": 23,
   "metadata": {},
   "outputs": [
    {
     "name": "stdout",
     "output_type": "stream",
     "text": [
      "[0.29486334 0.20417875 0.2052049  0.29575302]\n"
     ]
    }
   ],
   "source": [
    "seqtk_columns = 'chr', 'length', '#A', '#C', '#G', \"#T\"\n",
    "composition = pd.read_csv('data/composition.tsv', sep='\\t',\n",
    "            usecols=list(range(len(seqtk_columns))),\n",
    "            names=seqtk_columns, index_col=0)\n",
    "#composition[composition['length'] > 10]\n",
    "pcomp = np.array([composition[seqtk_columns[i]].sum() for i in range(2, len(seqtk_columns))], dtype=np.float)\n",
    "pcomp /= np.sum(pcomp)\n",
    "print(pcomp)"
   ]
  },
  {
   "cell_type": "code",
   "execution_count": 6,
   "metadata": {},
   "outputs": [
    {
     "data": {
      "text/plain": [
       "       x: array([0.29563727, 0.21821714, 0.2498734 , 0.23627219])\n",
       "     fun: 0.008641217018279402\n",
       "     nit: 100\n",
       " success: True"
      ]
     },
     "execution_count": 6,
     "metadata": {},
     "output_type": "execute_result"
    }
   ],
   "source": [
    "def fun(p, epsilon = 1e-8):\n",
    "    def f(p):\n",
    "        frequencies = ntfreq_to_aafreq(p)\n",
    "        df_theory = pd.DataFrame.from_dict(frequencies, orient='index', columns=['freq_theory'])\n",
    "        dfm = df.merge(df_theory, left_index=True, right_index=True)\n",
    "        return calc_jsd(dfm['freq'], dfm['freq_theory'])\n",
    "    return f(p), scipy.optimize.approx_fprime(p, f, epsilon)\n",
    "res = projgrad.minimize(fun, np.ones(4)/4.0)\n",
    "res"
   ]
  },
  {
   "cell_type": "code",
   "execution_count": 24,
   "metadata": {},
   "outputs": [
    {
     "data": {
      "text/plain": [
       "<matplotlib.axes._subplots.AxesSubplot at 0x7fdd8fb132b0>"
      ]
     },
     "execution_count": 24,
     "metadata": {},
     "output_type": "execute_result"
    },
    {
     "data": {
      "image/png": "[encoded data removed]",
      "text/plain": [
       "<Figure size 432x288 with 1 Axes>"
      ]
     },
     "metadata": {
      "needs_background": "light"
     },
     "output_type": "display_data"
    }
   ],
   "source": [
    "frequencies = ntfreq_to_aafreq(pcomp)\n",
    "df_theory = pd.DataFrame.from_dict(frequencies, orient='index', columns=['freq_theory'])\n",
    "dfm = df.merge(df_theory, left_index=True, right_index=True)\n",
    "dfm.plot(kind='scatter', x='freq_theory', y='freq')"
   ]
  },
  {
   "cell_type": "code",
   "execution_count": 26,
   "metadata": {},
   "outputs": [
    {
     "name": "stdout",
     "output_type": "stream",
     "text": [
      "[0.4032157  0.09637811 0.09702364 0.40338255]\n"
     ]
    }
   ],
   "source": [
    "seqtk_columns = 'chr', 'length', '#A', '#C', '#G', \"#T\"\n",
    "composition = pd.read_csv('data/composition_pfalciparum.tsv', sep='\\t',\n",
    "            usecols=list(range(len(seqtk_columns))),\n",
    "            names=seqtk_columns, index_col=0)\n",
    "pcomp = np.array([composition[seqtk_columns[i]].sum() for i in range(2, len(seqtk_columns))], dtype=np.float)\n",
    "pcomp /= np.sum(pcomp)\n",
    "print(pcomp)"
   ]
  },
  {
   "cell_type": "code",
   "execution_count": 27,
   "metadata": {},
   "outputs": [],
   "source": [
    "df = counter_to_df(count_kmers_proteome(proteome_path('Malaria'), 1), norm=True)\n",
    "df = df.set_index('seq')\n",
    "df = df.sort_index()"
   ]
  },
  {
   "cell_type": "code",
   "execution_count": 28,
   "metadata": {},
   "outputs": [
    {
     "data": {
      "text/plain": [
       "       x: array([0.45184414, 0.10984358, 0.14796798, 0.29034431])\n",
       "     fun: 0.015193017741747774\n",
       "     nit: 100\n",
       " success: True"
      ]
     },
     "execution_count": 28,
     "metadata": {},
     "output_type": "execute_result"
    }
   ],
   "source": [
    "res = projgrad.minimize(fun, np.ones(4)/4.0)\n",
    "res"
   ]
  },
  {
   "cell_type": "code",
   "execution_count": 30,
   "metadata": {},
   "outputs": [
    {
     "data": {
      "text/plain": [
       "<matplotlib.axes._subplots.AxesSubplot at 0x7fdd8f9ede10>"
      ]
     },
     "execution_count": 30,
     "metadata": {},
     "output_type": "execute_result"
    },
    {
     "data": {
      "image/png": "[encoded data removed]",
      "text/plain": [
       "<Figure size 432x288 with 1 Axes>"
      ]
     },
     "metadata": {
      "needs_background": "light"
     },
     "output_type": "display_data"
    }
   ],
   "source": [
    "frequencies = ntfreq_to_aafreq(res.x)\n",
    "df_theory = pd.DataFrame.from_dict(frequencies, orient='index', columns=['freq_theory'])\n",
    "dfm = df.merge(df_theory, left_index=True, right_index=True)\n",
    "dfm.plot(kind='scatter', x='freq_theory', y='freq')"
   ]
  },
  {
   "cell_type": "code",
   "execution_count": null,
   "metadata": {},
   "outputs": [],
   "source": []
  }
 ],
 "metadata": {
  "kernelspec": {
   "display_name": "Python 3",
   "language": "python",
   "name": "python3"
  },
  "language_info": {
   "codemirror_mode": {
    "name": "ipython",
    "version": 3
   },
   "file_extension": ".py",
   "mimetype": "text/x-python",
   "name": "python",
   "nbconvert_exporter": "python",
   "pygments_lexer": "ipython3",
   "version": "3.6.8"
  }
 },
 "nbformat": 4,
 "nbformat_minor": 2
}
