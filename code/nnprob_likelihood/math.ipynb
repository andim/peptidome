{
 "cells": [
  {
   "cell_type": "markdown",
   "metadata": {},
   "source": [
    "# How does neighbor density relate to likelihoods ?"
   ]
  },
  {
   "cell_type": "code",
   "execution_count": 1,
   "metadata": {},
   "outputs": [],
   "source": [
    "import numpy as np\n",
    "import pandas as pd\n",
    "import matplotlib.pyplot as plt\n",
    "%matplotlib inline\n",
    "plt.style.use('../peptidome.mplstyle')\n",
    "#plt.style.use('talk')\n",
    "\n",
    "import sys\n",
    "sys.path.append('..')\n",
    "\n",
    "from lib import *"
   ]
  },
  {
   "cell_type": "markdown",
   "metadata": {},
   "source": [
    "## check summation formula"
   ]
  },
  {
   "cell_type": "code",
   "execution_count": 2,
   "metadata": {},
   "outputs": [
    {
     "name": "stdout",
     "output_type": "stream",
     "text": [
      "0.7504266625856898 0.7504266625856897\n"
     ]
    }
   ],
   "source": [
    "def neighbors(sigma, S):\n",
    "    for i in range(len(sigma)):\n",
    "        for s in range(S):\n",
    "            if not sigma[i] == s:\n",
    "                yield np.asarray(list(sigma[:i]) + [s] + list(sigma[i+1:]))\n",
    "\n",
    "S = 2\n",
    "k = 2\n",
    "sigma_lognormal = 1.0\n",
    "pi = np.random.lognormal(sigma=sigma_lognormal, size=S)\n",
    "pi /= pi.sum()\n",
    "sigma = np.random.randint(0, S, k)\n",
    "nsigma = np.prod(pi[sigma])*(np.sum(1/pi[sigma]) - k)\n",
    "nsigma_sum = np.sum(np.fromiter((np.prod(pi[sigmap]) for sigmap in neighbors(sigma, S)), np.float))\n",
    "print(nsigma, nsigma_sum)"
   ]
  },
  {
   "cell_type": "markdown",
   "metadata": {},
   "source": [
    "## correlation between probabilities"
   ]
  },
  {
   "cell_type": "code",
   "execution_count": 3,
   "metadata": {},
   "outputs": [],
   "source": [
    "S = 20\n",
    "k = 10\n",
    "sigma = 0.3\n",
    "pi = np.random.lognormal(sigma=sigma, size=S)\n",
    "pi /= pi.sum()\n",
    "psigmas = []\n",
    "psigmaps = []\n",
    "Nsample = 10000\n",
    "for i in range(Nsample):\n",
    "    sigma = np.random.randint(0, S, k)\n",
    "    psigma = np.prod(pi[sigma])\n",
    "    i = np.random.randint(0, k)\n",
    "    sigmai = np.random.choice([s for s in range(0, S) if s != sigma[i]])\n",
    "    sigmap = np.asarray(list(sigma[:i]) + [sigmai] + list(sigma[i+1:]))\n",
    "    psigmap = np.prod(pi[sigmap])\n",
    "    psigmas.append(psigma)\n",
    "    psigmaps.append(psigmap)\n",
    "psigmaps = np.asarray(psigmaps)\n",
    "psigmas = np.asarray(psigmas)"
   ]
  },
  {
   "cell_type": "code",
   "execution_count": 4,
   "metadata": {},
   "outputs": [
    {
     "data": {
      "text/plain": [
       "Text(0, 0.5, \"$\\\\log_{10} p(\\\\sigma')$\")"
      ]
     },
     "execution_count": 4,
     "metadata": {},
     "output_type": "execute_result"
    },
    {
     "data": {
      "image/png": "[encoded data removed]",
      "text/plain": [
       "<Figure size 246.24x246.24 with 1 Axes>"
      ]
     },
     "metadata": {
      "needs_background": "light"
     },
     "output_type": "display_data"
    }
   ],
   "source": [
    "fig, ax = plt.subplots(figsize=(3.42, 3.42))\n",
    "trans = np.log10\n",
    "ax.plot(trans(psigmas), trans(psigmaps), '.', label='data', ms=1)\n",
    "ax.plot(trans(psigmas), trans(psigmas), '-', label='linear')\n",
    "#psigmas_theory = np.linspace(0.5*S**(-k), 2*S**(-k))\n",
    "#ax.plot(np.log10(psigmas_theory), np.log10(psigmas_theory)+np.log10(k*(S-1)-S*(psigmas_theory*S**k-1)),\n",
    "#        '-', label='theory')\n",
    "#ax.plot([-k*np.log10(S)], [-k*np.log10(S) + np.log10(k*(S-1))], 'o')\n",
    "ax.set_xlabel('$\\log_{10} p(\\sigma)$')\n",
    "ax.set_ylabel(\"$\\log_{10} p(\\sigma')$\")"
   ]
  },
  {
   "cell_type": "code",
   "execution_count": 5,
   "metadata": {},
   "outputs": [
    {
     "data": {
      "text/plain": [
       "(0.8434291149931127, 0.8970493586118736)"
      ]
     },
     "execution_count": 5,
     "metadata": {},
     "output_type": "execute_result"
    }
   ],
   "source": [
    "rhop = np.corrcoef(psigmaps, psigmas)[0, 1]\n",
    "rhop, np.corrcoef(np.log(psigmaps), np.log(psigmas))[0, 1]"
   ]
  },
  {
   "cell_type": "markdown",
   "metadata": {},
   "source": [
    "## generate samples from P_uniform(psigma, nsigma)"
   ]
  },
  {
   "cell_type": "code",
   "execution_count": 6,
   "metadata": {},
   "outputs": [
    {
     "data": {
      "text/plain": [
       "array([0.02132759, 0.06577845, 0.07012693, 0.06314819, 0.09970845,\n",
       "       0.08332527, 0.01217275, 0.05643573, 0.05963846, 0.07101057,\n",
       "       0.02662735, 0.02305051, 0.05347764, 0.0473157 , 0.05724314,\n",
       "       0.04330068, 0.04767035, 0.02626757, 0.0365297 , 0.03584496])"
      ]
     },
     "execution_count": 6,
     "metadata": {},
     "output_type": "execute_result"
    }
   ],
   "source": [
    "df = Counter(human, 1).to_df(norm=True, clean=True)\n",
    "paa = np.asarray(df['freq'])\n",
    "paa"
   ]
  },
  {
   "cell_type": "code",
   "execution_count": 7,
   "metadata": {},
   "outputs": [
    {
     "name": "stdout",
     "output_type": "stream",
     "text": [
      "$\\rho_{p(\\sigma), n(\\sigma)}$: 0.9909382175925889\n"
     ]
    }
   ],
   "source": [
    "S = 20\n",
    "k = 9\n",
    "\n",
    "Nn = k*(S-1)\n",
    "N = float(S**k)\n",
    "\n",
    "#sigma_lognormal = 0.4\n",
    "#pi = np.random.lognormal(sigma=sigma_lognormal, size=S)\n",
    "pi = paa\n",
    "#pi = np.random.uniform(size=S)\n",
    "pi /= pi.sum()\n",
    "\n",
    "\n",
    "psigmas = []\n",
    "nsigmas = []\n",
    "Nsample = 100000\n",
    "for i in range(Nsample):\n",
    "    sigma = np.random.randint(0, S, k)\n",
    "    psigma = np.prod(pi[sigma])\n",
    "    nsigma = np.prod(pi[sigma])*np.sum((1-pi[sigma])/pi[sigma])\n",
    "    psigmas.append(psigma)\n",
    "    nsigmas.append(nsigma)\n",
    "nsigmas = np.asarray(nsigmas)\n",
    "psigmas = np.asarray(psigmas)\n",
    "rho = np.corrcoef(psigmas, nsigmas)[1, 0]\n",
    "print(r'$\\rho_{p(\\sigma), n(\\sigma)}$:', rho)"
   ]
  },
  {
   "cell_type": "code",
   "execution_count": 8,
   "metadata": {},
   "outputs": [
    {
     "data": {
      "text/plain": [
       "(0.2636203203201709, 0.2637393500109682)"
      ]
     },
     "execution_count": 8,
     "metadata": {},
     "output_type": "execute_result"
    }
   ],
   "source": [
    "np.var(np.log(psigmas))/k, np.var(np.log(pi))"
   ]
  },
  {
   "cell_type": "code",
   "execution_count": 9,
   "metadata": {},
   "outputs": [
    {
     "data": {
      "text/plain": [
       "(1.4508225383340676e-23, 3.714200465543339e-23)"
      ]
     },
     "execution_count": 9,
     "metadata": {},
     "output_type": "execute_result"
    }
   ],
   "source": [
    "sigmasq = np.var(np.log(pi))*k\n",
    "np.var(psigmas), (np.exp(sigmasq)-1)/N**2"
   ]
  },
  {
   "cell_type": "code",
   "execution_count": 10,
   "metadata": {},
   "outputs": [
    {
     "name": "stdout",
     "output_type": "stream",
     "text": [
      "slope, prediction 0.8655903006472458 0.8830409356725146\n",
      "nsigmavar (sampled, upper, pred): 2.680490804264381e-19 4.242350184342647e-19 3.3080204696555077e-19 3.5820060387977217e-19\n",
      "nsigmabar (lower, sampled, upper): 3.33984375e-10 1.3369371078746213e-09 1.6020149808674858e-09\n",
      "prediction (-S, -3/2S, rhop) 1.4556442958368344e-09 1.3813621818741302e-09 1.5011708989283842e-09\n"
     ]
    },
    {
     "data": {
      "image/png": "[encoded data removed]",
      "text/plain": [
       "<Figure size 246.24x246.24 with 1 Axes>"
      ]
     },
     "metadata": {
      "needs_background": "light"
     },
     "output_type": "display_data"
    }
   ],
   "source": [
    "fig, ax = plt.subplots(figsize=(3.42, 3.42))\n",
    "ax.plot(np.log10(psigmas), np.log10(nsigmas), '.', label='data', ms=1)\n",
    "ax.plot(np.log10(psigmas), np.log10(psigmas)+np.log10(k*(S-1)), '-', label='linear')\n",
    "#factor = 20\n",
    "#psigmas_theory = np.linspace(S**(-k)/factor, factor*S**(-k))\n",
    "psigmas_theory = np.linspace(min(psigmas), max(psigmas))\n",
    "ax.plot(np.log10(psigmas_theory),\n",
    "        #np.log10(psigmas_theory) + np.log10(Nn - S*(psigmas_theory*float(S**k) - 1)),\n",
    "        np.log10(psigmas_theory) + np.log10(Nn - S*np.log(psigmas_theory*N)),\n",
    "        'k-', label='theory', lw=2)\n",
    "#ax.axvline(-k*np.log10(S), c='k')\n",
    "ax.set_xlabel('$\\log_{10} p(\\sigma)$\\n Log-Likelihood')\n",
    "ax.set_ylabel(\"Log-Neighborlikelihood\\n $\\log_{10} n(\\sigma) = \\log_{10} \\sum_{\\sigma' \\sim \\sigma} p(\\sigma')$\")\n",
    "ax.legend()\n",
    "fig.savefig('main.png')\n",
    "fig.savefig('../../paper/images/nnproblikelihood.pdf')\n",
    "\n",
    "slope, intercept = np.polyfit(np.log10(psigmas), np.log10(nsigmas), 1)\n",
    "rho1 = 1 - S/(k*(S-1))\n",
    "print('slope, prediction', slope, rho1)\n",
    "nsigmavar_pred = np.var(psigmas)* Nn**2 * rho1**2\n",
    "nsigmavar_pred2 = Nn*np.var(psigmas)*(1+(Nn-1)*rhop)\n",
    "print('nsigmavar (sampled, upper, pred):',\n",
    "      np.var(nsigmas),\n",
    "      np.var(psigmas)*Nn**2,\n",
    "      nsigmavar_pred,\n",
    "      nsigmavar_pred2)\n",
    "nsigmabar = np.sum(nsigmas*psigmas/np.sum(psigmas))\n",
    "nsigmabar_upper = Nn*np.mean(psigmas**2)*N\n",
    "nsigmabar_pred = Nn/N + N*Nn*rho1*np.var(psigmas)\n",
    "nsigmabar_pred2 = Nn/N + N*(Nn-1.5*S)*np.var(psigmas)\n",
    "nsigmabar_pred3 = Nn/N + N*(np.var(psigmas) * nsigmavar_pred2)**.5\n",
    "print('nsigmabar (lower, sampled, upper):', Nn/N, nsigmabar, nsigmabar_upper)\n",
    "print('prediction (-S, -3/2S, rhop)', nsigmabar_pred, nsigmabar_pred2, nsigmabar_pred3)"
   ]
  },
  {
   "cell_type": "code",
   "execution_count": 11,
   "metadata": {},
   "outputs": [
    {
     "data": {
      "image/png": "[encoded data removed]",
      "text/plain": [
       "<Figure size 432x288 with 1 Axes>"
      ]
     },
     "metadata": {
      "needs_background": "light"
     },
     "output_type": "display_data"
    }
   ],
   "source": [
    "bins = np.linspace(0.0, np.percentile(nsigmas, 99), 100)\n",
    "fig, ax = plt.subplots()\n",
    "histkwargs = dict(bins=bins, histtype='step')\n",
    "ax.hist(psigmas*k*(S-1), label='$P(\\sigma)$ rescaled', **histkwargs)\n",
    "ax.hist(nsigmas, label='$n(\\sigma)$', **histkwargs)\n",
    "ax.legend()\n",
    "ax.axvline(1/S**k * k*(S-1), c='k')\n",
    "ax.set_xlim(min(bins), max(bins))\n",
    "ax.set_yticks([])\n",
    "ax.set_ylabel('Density')\n",
    "ax.set_xlabel('Probability');"
   ]
  },
  {
   "cell_type": "markdown",
   "metadata": {},
   "source": [
    "## TODO\n",
    "\n",
    "- What about longer distances? (Second, third neighbours etc.?) Do things generalize?\n",
    "- Test with rough Mount Fuji?"
   ]
  },
  {
   "cell_type": "code",
   "execution_count": null,
   "metadata": {},
   "outputs": [],
   "source": []
  }
 ],
 "metadata": {
  "kernelspec": {
   "display_name": "Python 3",
   "language": "python",
   "name": "python3"
  },
  "language_info": {
   "codemirror_mode": {
    "name": "ipython",
    "version": 3
   },
   "file_extension": ".py",
   "mimetype": "text/x-python",
   "name": "python",
   "nbconvert_exporter": "python",
   "pygments_lexer": "ipython3",
   "version": "3.6.8"
  }
 },
 "nbformat": 4,
 "nbformat_minor": 2
}
