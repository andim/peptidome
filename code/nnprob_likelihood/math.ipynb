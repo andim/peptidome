{
 "cells": [
  {
   "cell_type": "markdown",
   "metadata": {},
   "source": [
    "# How does neighbor density relate to likelihoods ?"
   ]
  },
  {
   "cell_type": "code",
   "execution_count": 1,
   "metadata": {},
   "outputs": [],
   "source": [
    "import numpy as np\n",
    "import pandas as pd\n",
    "import matplotlib.pyplot as plt\n",
    "%matplotlib inline\n",
    "plt.style.use('../peptidome.mplstyle')\n",
    "#plt.style.use('talk')\n",
    "\n",
    "import sys\n",
    "sys.path.append('..')\n",
    "\n",
    "from lib import *"
   ]
  },
  {
   "cell_type": "markdown",
   "metadata": {},
   "source": [
    "## check summation formula"
   ]
  },
  {
   "cell_type": "code",
   "execution_count": 2,
   "metadata": {},
   "outputs": [
    {
     "name": "stdout",
     "output_type": "stream",
     "text": [
      "0.17240848929971112 0.17240848929971125\n"
     ]
    }
   ],
   "source": [
    "def neighbors(sigma, S):\n",
    "    for i in range(len(sigma)):\n",
    "        for s in range(S):\n",
    "            if not sigma[i] == s:\n",
    "                yield np.asarray(list(sigma[:i]) + [s] + list(sigma[i+1:]))\n",
    "\n",
    "S = 2\n",
    "k = 2\n",
    "sigma_lognormal = 1.0\n",
    "pi = np.random.lognormal(sigma=sigma_lognormal, size=S)\n",
    "pi /= pi.sum()\n",
    "sigma = np.random.randint(0, S, k)\n",
    "nsigma = np.prod(pi[sigma])*(np.sum(1/pi[sigma]) - k)\n",
    "nsigma_sum = np.sum(np.fromiter((np.prod(pi[sigmap]) for sigmap in neighbors(sigma, S)), np.float))\n",
    "print(nsigma, nsigma_sum)"
   ]
  },
  {
   "cell_type": "markdown",
   "metadata": {},
   "source": [
    "## correlation between probabilities"
   ]
  },
  {
   "cell_type": "code",
   "execution_count": 39,
   "metadata": {},
   "outputs": [],
   "source": [
    "S = 20\n",
    "k = 10\n",
    "sigma = 0.3\n",
    "pi = np.random.lognormal(sigma=sigma, size=S)\n",
    "pi /= pi.sum()\n",
    "psigmas = []\n",
    "psigmaps = []\n",
    "Nsample = 10000\n",
    "for i in range(Nsample):\n",
    "    sigma = np.random.randint(0, S, k)\n",
    "    psigma = np.prod(pi[sigma])\n",
    "    i = np.random.randint(0, k)\n",
    "    sigmai = np.random.choice([s for s in range(0, S) if s != sigma[i]])\n",
    "    sigmap = np.asarray(list(sigma[:i]) + [sigmai] + list(sigma[i+1:]))\n",
    "    psigmap = np.prod(pi[sigmap])\n",
    "    psigmas.append(psigma)\n",
    "    psigmaps.append(psigmap)\n",
    "psigmaps = np.asarray(psigmaps)\n",
    "psigmas = np.asarray(psigmas)"
   ]
  },
  {
   "cell_type": "code",
   "execution_count": 40,
   "metadata": {},
   "outputs": [
    {
     "data": {
      "text/plain": [
       "Text(0, 0.5, \"$\\\\log_{10} p(\\\\sigma')$\")"
      ]
     },
     "execution_count": 40,
     "metadata": {},
     "output_type": "execute_result"
    },
    {
     "data": {
      "image/png": "[encoded data removed]",
      "text/plain": [
       "<Figure size 246.24x246.24 with 1 Axes>"
      ]
     },
     "metadata": {
      "needs_background": "light"
     },
     "output_type": "display_data"
    }
   ],
   "source": [
    "fig, ax = plt.subplots(figsize=(3.42, 3.42))\n",
    "trans = np.log10\n",
    "ax.plot(trans(psigmas), trans(psigmaps), '.', label='data', ms=1)\n",
    "ax.plot(trans(psigmas), trans(psigmas), '-', label='linear')\n",
    "ax.set_xlabel('$\\log_{10} p(\\sigma)$')\n",
    "ax.set_ylabel(\"$\\log_{10} p(\\sigma')$\")"
   ]
  },
  {
   "cell_type": "code",
   "execution_count": 41,
   "metadata": {},
   "outputs": [
    {
     "data": {
      "text/plain": [
       "(0.8255859044080296, 0.8930120145366928)"
      ]
     },
     "execution_count": 41,
     "metadata": {},
     "output_type": "execute_result"
    }
   ],
   "source": [
    "rhop = np.corrcoef(psigmaps, psigmas)[0, 1]\n",
    "rhop, np.corrcoef(np.log(psigmaps), np.log(psigmas))[0, 1]"
   ]
  },
  {
   "cell_type": "markdown",
   "metadata": {},
   "source": [
    "## generate samples from P_uniform(psigma, nsigma)"
   ]
  },
  {
   "cell_type": "code",
   "execution_count": 45,
   "metadata": {},
   "outputs": [
    {
     "data": {
      "text/plain": [
       "array([0.02132759, 0.06577845, 0.07012693, 0.06314819, 0.09970845,\n",
       "       0.08332527, 0.01217275, 0.05643573, 0.05963846, 0.07101057,\n",
       "       0.02662735, 0.02305051, 0.05347764, 0.0473157 , 0.05724314,\n",
       "       0.04330068, 0.04767035, 0.02626757, 0.0365297 , 0.03584496])"
      ]
     },
     "execution_count": 45,
     "metadata": {},
     "output_type": "execute_result"
    }
   ],
   "source": [
    "df = Counter(human, 1).to_df(norm=True, clean=True)\n",
    "paa = np.asarray(df['freq'])\n",
    "paa"
   ]
  },
  {
   "cell_type": "code",
   "execution_count": 68,
   "metadata": {},
   "outputs": [
    {
     "name": "stdout",
     "output_type": "stream",
     "text": [
      "$\\rho_{p(\\sigma), n(\\sigma)}$: 0.9918666447851553\n"
     ]
    }
   ],
   "source": [
    "S = 20\n",
    "k = 9\n",
    "\n",
    "Nn = k*(S-1)\n",
    "N = float(S**k)\n",
    "\n",
    "#sigma_lognormal = 0.4\n",
    "#pi = np.random.lognormal(sigma=sigma_lognormal, size=S)\n",
    "pi = paa\n",
    "#pi = np.random.uniform(size=S)\n",
    "pi /= pi.sum()\n",
    "\n",
    "\n",
    "psigmas = []\n",
    "nsigmas = []\n",
    "Nsample = 10000\n",
    "for i in range(Nsample):\n",
    "    sigma = np.random.randint(0, S, k)\n",
    "    psigma = np.prod(pi[sigma])\n",
    "    nsigma = np.prod(pi[sigma])*np.sum((1-pi[sigma])/pi[sigma])\n",
    "    psigmas.append(psigma)\n",
    "    nsigmas.append(nsigma)\n",
    "nsigmas = np.asarray(nsigmas)\n",
    "psigmas = np.asarray(psigmas)\n",
    "rho = np.corrcoef(psigmas, nsigmas)[1, 0]\n",
    "print(r'$\\rho_{p(\\sigma), n(\\sigma)}$:', rho)"
   ]
  },
  {
   "cell_type": "code",
   "execution_count": 51,
   "metadata": {},
   "outputs": [
    {
     "data": {
      "text/plain": [
       "(2.331460850490725, 2.373654150098714)"
      ]
     },
     "execution_count": 51,
     "metadata": {},
     "output_type": "execute_result"
    }
   ],
   "source": [
    "# variance of lognormal\n",
    "np.var(np.log(psigmas)), np.var(np.log(pi))*k"
   ]
  },
  {
   "cell_type": "code",
   "execution_count": 69,
   "metadata": {},
   "outputs": [
    {
     "data": {
      "text/plain": [
       "(3.3524104755082047, 3.1203451200778947, 3.1609531536835456)"
      ]
     },
     "execution_count": 69,
     "metadata": {},
     "output_type": "execute_result"
    }
   ],
   "source": [
    "# coefficient of variation\n",
    "sigmasq = np.var(np.log(pi))*k\n",
    "np.var(psigmas)*N**2, (np.exp(sigmasq)-1)**.5, (np.exp(np.var(np.log(psigmas)))-1)**.5"
   ]
  },
  {
   "cell_type": "code",
   "execution_count": 70,
   "metadata": {},
   "outputs": [
    {
     "name": "stdout",
     "output_type": "stream",
     "text": [
      "slope, prediction 0.8660603112506616 0.8830409356725146\n",
      "nsigmavar (sampled, upper, pred): 2.464906032424479e-19 3.739465130399148e-19 2.915890169222358e-19 3.091063826997001e-19\n",
      "nsigmabar (lower, sampled, upper): 3.33984375e-10 1.2200712226046534e-09 1.4358030470342805e-09\n",
      "prediction (-S, -3/2S, rhop) 1.3226835582065214e-09 1.2572067911067518e-09 1.351948753261304e-09\n"
     ]
    },
    {
     "data": {
      "image/png": "[encoded data removed]",
      "text/plain": [
       "<Figure size 246.24x246.24 with 1 Axes>"
      ]
     },
     "metadata": {
      "needs_background": "light"
     },
     "output_type": "display_data"
    }
   ],
   "source": [
    "fig, ax = plt.subplots(figsize=(3.42, 3.42))\n",
    "ax.plot(np.log10(psigmas), np.log10(nsigmas), '.', label='data', ms=1)\n",
    "ax.plot(np.log10(psigmas), np.log10(psigmas)+np.log10(k*(S-1)), '-', label='linear')\n",
    "#factor = 20\n",
    "#psigmas_theory = np.linspace(S**(-k)/factor, factor*S**(-k))\n",
    "psigmas_theory = np.linspace(min(psigmas), max(psigmas))\n",
    "ax.plot(np.log10(psigmas_theory),\n",
    "        #np.log10(psigmas_theory) + np.log10(Nn - S*(psigmas_theory*float(S**k) - 1)),\n",
    "        np.log10(psigmas_theory) + np.log10(Nn - S*np.log(psigmas_theory*N)),\n",
    "        'k-', label='theory', lw=2)\n",
    "#ax.axvline(-k*np.log10(S), c='k')\n",
    "ax.set_xlabel('$\\log_{10} p(\\sigma)$\\n Log-Likelihood')\n",
    "ax.set_ylabel(\"Log-Neighborlikelihood\\n $\\log_{10} n(\\sigma) = \\log_{10} \\sum_{\\sigma' \\sim \\sigma} p(\\sigma')$\")\n",
    "ax.legend()\n",
    "fig.tight_layout()\n",
    "fig.savefig('main.png')\n",
    "fig.savefig('../../paper/images/nnproblikelihood.pdf')\n",
    "\n",
    "slope, intercept = np.polyfit(np.log10(psigmas), np.log10(nsigmas), 1)\n",
    "rho1 = 1 - S/(k*(S-1))\n",
    "print('slope, prediction', slope, rho1)\n",
    "nsigmavar_pred = np.var(psigmas)* Nn**2 * rho1**2\n",
    "nsigmavar_pred2 = Nn*np.var(psigmas)*(1+(Nn-1)*rhop)\n",
    "print('nsigmavar (sampled, upper, pred):',\n",
    "      np.var(nsigmas),\n",
    "      np.var(psigmas)*Nn**2,\n",
    "      nsigmavar_pred,\n",
    "      nsigmavar_pred2)\n",
    "nsigmabar = np.mean(nsigmas*psigmas)*N\n",
    "nsigmabar_upper = Nn*np.mean(psigmas**2)*N\n",
    "nsigmabar_pred = Nn/N + N*Nn*rho1*np.var(psigmas)\n",
    "nsigmabar_pred2 = Nn/N + N*(Nn-1.5*S)*np.var(psigmas)\n",
    "nsigmabar_pred3 = Nn/N + N*(np.var(psigmas) * nsigmavar_pred2)**.5\n",
    "print('nsigmabar (lower, sampled, upper):', Nn/N, nsigmabar, nsigmabar_upper)\n",
    "print('prediction (-S, -3/2S, rhop)', nsigmabar_pred, nsigmabar_pred2, nsigmabar_pred3)"
   ]
  },
  {
   "cell_type": "code",
   "execution_count": 11,
   "metadata": {},
   "outputs": [
    {
     "data": {
      "image/png": "[encoded data removed]",
      "text/plain": [
       "<Figure size 432x288 with 1 Axes>"
      ]
     },
     "metadata": {
      "needs_background": "light"
     },
     "output_type": "display_data"
    }
   ],
   "source": [
    "bins = np.linspace(0.0, np.percentile(nsigmas, 99), 100)\n",
    "fig, ax = plt.subplots()\n",
    "histkwargs = dict(bins=bins, histtype='step')\n",
    "ax.hist(psigmas*k*(S-1), label='$P(\\sigma)$ rescaled', **histkwargs)\n",
    "ax.hist(nsigmas, label='$n(\\sigma)$', **histkwargs)\n",
    "ax.legend()\n",
    "ax.axvline(1/S**k * k*(S-1), c='k')\n",
    "ax.set_xlim(min(bins), max(bins))\n",
    "ax.set_yticks([])\n",
    "ax.set_ylabel('Density')\n",
    "ax.set_xlabel('Probability');"
   ]
  },
  {
   "cell_type": "markdown",
   "metadata": {},
   "source": [
    "# resampling"
   ]
  },
  {
   "cell_type": "code",
   "execution_count": 159,
   "metadata": {},
   "outputs": [],
   "source": [
    "S = 20\n",
    "k = 10\n",
    "\n",
    "Nn = k*(S-1)\n",
    "N = float(S**k)\n",
    "\n",
    "sigma_lognormal = 0.3\n",
    "pi = np.random.lognormal(sigma=sigma_lognormal, size=S)\n",
    "pi /= pi.sum()\n",
    "\n"
   ]
  },
  {
   "cell_type": "code",
   "execution_count": 160,
   "metadata": {},
   "outputs": [],
   "source": [
    "nsigmabars = []\n",
    "for i in range(100):\n",
    "    psigmas = []\n",
    "    nsigmas = []\n",
    "    Nsample = 10000\n",
    "    for i in range(Nsample):\n",
    "        sigma = np.random.randint(0, S, k)\n",
    "        psigma = np.prod(pi[sigma])\n",
    "        nsigma = np.prod(pi[sigma])*np.sum((1-pi[sigma])/pi[sigma])\n",
    "        psigmas.append(psigma)\n",
    "        nsigmas.append(nsigma)\n",
    "    nsigmas = np.asarray(nsigmas)\n",
    "    psigmas = np.asarray(psigmas)\n",
    "    nsigmabar = np.mean(nsigmas*psigmas)*N\n",
    "    nsigmabars.append(nsigmabar)"
   ]
  },
  {
   "cell_type": "code",
   "execution_count": 161,
   "metadata": {},
   "outputs": [
    {
     "data": {
      "text/plain": [
       "<matplotlib.lines.Line2D at 0x7f1031af2668>"
      ]
     },
     "execution_count": 161,
     "metadata": {},
     "output_type": "execute_result"
    },
    {
     "data": {
      "image/png": "[encoded data removed]",
      "text/plain": [
       "<Figure size 432x288 with 1 Axes>"
      ]
     },
     "metadata": {
      "needs_background": "light"
     },
     "output_type": "display_data"
    }
   ],
   "source": [
    "plt.hist(nsigmabars)\n",
    "p0 = 1/N\n",
    "cv = (np.exp(np.var(np.log(pi))*k)-1)**.5\n",
    "predicted = p0 * Nn * (1.0 +  cv**2 * (1-1.5* S/Nn))\n",
    "plt.axvline(predicted, c='k')"
   ]
  },
  {
   "cell_type": "markdown",
   "metadata": {},
   "source": [
    "# Neighbors from different distribution"
   ]
  },
  {
   "cell_type": "code",
   "execution_count": 304,
   "metadata": {},
   "outputs": [],
   "source": [
    "sigma_lognormal = 1.0\n",
    "pi = np.random.lognormal(sigma=sigma_lognormal, size=S)\n",
    "pi /= pi.sum()"
   ]
  },
  {
   "cell_type": "code",
   "execution_count": 337,
   "metadata": {},
   "outputs": [],
   "source": [
    "dpi = np.random.lognormal(sigma=0.5, size=S)\n",
    "pi2 = pi*dpi\n",
    "pi2 /= pi2.sum()"
   ]
  },
  {
   "cell_type": "code",
   "execution_count": 374,
   "metadata": {},
   "outputs": [
    {
     "data": {
      "text/html": [
       "<div>\n",
       "<style scoped>\n",
       "    .dataframe tbody tr th:only-of-type {\n",
       "        vertical-align: middle;\n",
       "    }\n",
       "\n",
       "    .dataframe tbody tr th {\n",
       "        vertical-align: top;\n",
       "    }\n",
       "\n",
       "    .dataframe thead th {\n",
       "        text-align: right;\n",
       "    }\n",
       "</style>\n",
       "<table border=\"1\" class=\"dataframe\">\n",
       "  <thead>\n",
       "    <tr style=\"text-align: right;\">\n",
       "      <th></th>\n",
       "      <th>seq</th>\n",
       "      <th>freq</th>\n",
       "    </tr>\n",
       "  </thead>\n",
       "  <tbody>\n",
       "    <tr>\n",
       "      <th>2</th>\n",
       "      <td>A</td>\n",
       "      <td>0.070127</td>\n",
       "    </tr>\n",
       "    <tr>\n",
       "      <th>11</th>\n",
       "      <td>C</td>\n",
       "      <td>0.023051</td>\n",
       "    </tr>\n",
       "    <tr>\n",
       "      <th>13</th>\n",
       "      <td>D</td>\n",
       "      <td>0.047316</td>\n",
       "    </tr>\n",
       "    <tr>\n",
       "      <th>9</th>\n",
       "      <td>E</td>\n",
       "      <td>0.071011</td>\n",
       "    </tr>\n",
       "    <tr>\n",
       "      <th>18</th>\n",
       "      <td>F</td>\n",
       "      <td>0.036530</td>\n",
       "    </tr>\n",
       "    <tr>\n",
       "      <th>1</th>\n",
       "      <td>G</td>\n",
       "      <td>0.065778</td>\n",
       "    </tr>\n",
       "    <tr>\n",
       "      <th>17</th>\n",
       "      <td>H</td>\n",
       "      <td>0.026268</td>\n",
       "    </tr>\n",
       "    <tr>\n",
       "      <th>15</th>\n",
       "      <td>I</td>\n",
       "      <td>0.043301</td>\n",
       "    </tr>\n",
       "    <tr>\n",
       "      <th>14</th>\n",
       "      <td>K</td>\n",
       "      <td>0.057243</td>\n",
       "    </tr>\n",
       "    <tr>\n",
       "      <th>4</th>\n",
       "      <td>L</td>\n",
       "      <td>0.099708</td>\n",
       "    </tr>\n",
       "    <tr>\n",
       "      <th>0</th>\n",
       "      <td>M</td>\n",
       "      <td>0.021328</td>\n",
       "    </tr>\n",
       "    <tr>\n",
       "      <th>19</th>\n",
       "      <td>N</td>\n",
       "      <td>0.035845</td>\n",
       "    </tr>\n",
       "    <tr>\n",
       "      <th>3</th>\n",
       "      <td>P</td>\n",
       "      <td>0.063148</td>\n",
       "    </tr>\n",
       "    <tr>\n",
       "      <th>16</th>\n",
       "      <td>Q</td>\n",
       "      <td>0.047670</td>\n",
       "    </tr>\n",
       "    <tr>\n",
       "      <th>7</th>\n",
       "      <td>R</td>\n",
       "      <td>0.056436</td>\n",
       "    </tr>\n",
       "    <tr>\n",
       "      <th>5</th>\n",
       "      <td>S</td>\n",
       "      <td>0.083325</td>\n",
       "    </tr>\n",
       "    <tr>\n",
       "      <th>12</th>\n",
       "      <td>T</td>\n",
       "      <td>0.053478</td>\n",
       "    </tr>\n",
       "    <tr>\n",
       "      <th>8</th>\n",
       "      <td>V</td>\n",
       "      <td>0.059638</td>\n",
       "    </tr>\n",
       "    <tr>\n",
       "      <th>6</th>\n",
       "      <td>W</td>\n",
       "      <td>0.012173</td>\n",
       "    </tr>\n",
       "    <tr>\n",
       "      <th>10</th>\n",
       "      <td>Y</td>\n",
       "      <td>0.026627</td>\n",
       "    </tr>\n",
       "  </tbody>\n",
       "</table>\n",
       "</div>"
      ],
      "text/plain": [
       "   seq      freq\n",
       "2    A  0.070127\n",
       "11   C  0.023051\n",
       "13   D  0.047316\n",
       "9    E  0.071011\n",
       "18   F  0.036530\n",
       "1    G  0.065778\n",
       "17   H  0.026268\n",
       "15   I  0.043301\n",
       "14   K  0.057243\n",
       "4    L  0.099708\n",
       "0    M  0.021328\n",
       "19   N  0.035845\n",
       "3    P  0.063148\n",
       "16   Q  0.047670\n",
       "7    R  0.056436\n",
       "5    S  0.083325\n",
       "12   T  0.053478\n",
       "8    V  0.059638\n",
       "6    W  0.012173\n",
       "10   Y  0.026627"
      ]
     },
     "execution_count": 374,
     "metadata": {},
     "output_type": "execute_result"
    }
   ],
   "source": [
    "df = Counter(human, 1).to_df(norm=True, clean=True)\n",
    "df.sort_values('seq', inplace=True)\n",
    "df"
   ]
  },
  {
   "cell_type": "code",
   "execution_count": 376,
   "metadata": {},
   "outputs": [
    {
     "data": {
      "text/plain": [
       "array([0.07012693, 0.02305051, 0.0473157 , 0.07101057, 0.0365297 ,\n",
       "       0.06577845, 0.02626757, 0.04330068, 0.05724314, 0.09970845,\n",
       "       0.02132759, 0.03584496, 0.06314819, 0.04767035, 0.05643573,\n",
       "       0.08332527, 0.05347764, 0.05963846, 0.01217275, 0.02662735])"
      ]
     },
     "execution_count": 376,
     "metadata": {},
     "output_type": "execute_result"
    }
   ],
   "source": [
    "df = Counter(human, 1).to_df(norm=True, clean=True)\n",
    "df.sort_values('seq', inplace=True)\n",
    "pi = np.asarray(df['freq'])\n",
    "pi"
   ]
  },
  {
   "cell_type": "code",
   "execution_count": 381,
   "metadata": {},
   "outputs": [
    {
     "data": {
      "text/plain": [
       "array([0.01962437, 0.01762678, 0.06471683, 0.07155527, 0.04372439,\n",
       "       0.02820951, 0.02410625, 0.09261888, 0.11749364, 0.07611551,\n",
       "       0.0219203 , 0.1441067 , 0.01977797, 0.02767967, 0.02635498,\n",
       "       0.06374511, 0.04074645, 0.03805344, 0.00490531, 0.05691865])"
      ]
     },
     "execution_count": 381,
     "metadata": {},
     "output_type": "execute_result"
    }
   ],
   "source": [
    "df = Counter(proteome_path('Malaria'), 1).to_df(norm=True, clean=True)\n",
    "df.sort_values('seq', inplace=True)\n",
    "pi2 = np.asarray(df['freq'])\n",
    "pi2"
   ]
  },
  {
   "cell_type": "code",
   "execution_count": 382,
   "metadata": {},
   "outputs": [
    {
     "data": {
      "text/plain": [
       "[<matplotlib.lines.Line2D at 0x7f103065b160>]"
      ]
     },
     "execution_count": 382,
     "metadata": {},
     "output_type": "execute_result"
    },
    {
     "data": {
      "image/png": "[encoded data removed]",
      "text/plain": [
       "<Figure size 432x288 with 1 Axes>"
      ]
     },
     "metadata": {
      "needs_background": "light"
     },
     "output_type": "display_data"
    }
   ],
   "source": [
    "plt.plot(pi, pi2, 'o')\n",
    "#plt.xscale('log')\n",
    "#plt.yscale('log')"
   ]
  },
  {
   "cell_type": "code",
   "execution_count": 383,
   "metadata": {},
   "outputs": [],
   "source": [
    "Nsample = 100000\n",
    "psigmas = []\n",
    "p2sigmas = []\n",
    "nsigmas = []\n",
    "n2sigmas = []\n",
    "for i in range(Nsample):\n",
    "    sigma = np.random.randint(0, S, k)\n",
    "    psigma = np.prod(pi[sigma])\n",
    "    nsigma = np.prod(pi[sigma])*np.sum((1-pi[sigma])/pi[sigma])\n",
    "    p2sigma = np.prod(pi2[sigma])\n",
    "    n2sigma = np.prod(pi2[sigma])*np.sum((1-pi2[sigma])/pi2[sigma])\n",
    "    psigmas.append(psigma)\n",
    "    p2sigmas.append(p2sigma)\n",
    "    nsigmas.append(nsigma)\n",
    "    n2sigmas.append(n2sigma)\n",
    "psigmas = np.array(psigmas)\n",
    "p2sigmas = np.array(p2sigmas)\n",
    "nsigmas = np.array(nsigmas)\n",
    "n2sigmas = np.array(n2sigmas)"
   ]
  },
  {
   "cell_type": "code",
   "execution_count": 384,
   "metadata": {},
   "outputs": [
    {
     "data": {
      "image/png": "[encoded data removed]",
      "text/plain": [
       "<Figure size 432x288 with 1 Axes>"
      ]
     },
     "metadata": {
      "needs_background": "light"
     },
     "output_type": "display_data"
    }
   ],
   "source": [
    "plt.plot(np.array(psigmas), np.array(p2sigmas), 'o', ms=1)\n",
    "plt.xscale('log')\n",
    "plt.yscale('log')"
   ]
  },
  {
   "cell_type": "code",
   "execution_count": 385,
   "metadata": {},
   "outputs": [
    {
     "data": {
      "text/plain": [
       "(3.2646115363985963e-11, 8.898012502007098e-11, 1.85546875e-11)"
      ]
     },
     "execution_count": 385,
     "metadata": {},
     "output_type": "execute_result"
    }
   ],
   "source": [
    "np.mean(psigmas*n2sigmas)*N, np.mean(psigmas*nsigmas)*N, Nn/N"
   ]
  },
  {
   "cell_type": "code",
   "execution_count": 364,
   "metadata": {},
   "outputs": [
    {
     "data": {
      "text/plain": [
       "3.8137506329551765"
      ]
     },
     "execution_count": 364,
     "metadata": {},
     "output_type": "execute_result"
    }
   ],
   "source": [
    "np.var(np.log(p2sigmas[np.abs((psigmas-1e-13)/psigmas)<0.05]))"
   ]
  },
  {
   "cell_type": "code",
   "execution_count": 330,
   "metadata": {},
   "outputs": [
    {
     "data": {
      "text/plain": [
       "(array([  2.,  21.,  55.,  86., 131.,  92.,  62.,  43.,  17.,   3.]),\n",
       " array([-20.96364727, -19.89139038, -18.81913349, -17.7468766 ,\n",
       "        -16.67461971, -15.60236283, -14.53010594, -13.45784905,\n",
       "        -12.38559216, -11.31333527, -10.24107838]),\n",
       " <a list of 10 Patch objects>)"
      ]
     },
     "execution_count": 330,
     "metadata": {},
     "output_type": "execute_result"
    },
    {
     "data": {
      "image/png": "[encoded data removed]",
      "text/plain": [
       "<Figure size 432x288 with 1 Axes>"
      ]
     },
     "metadata": {
      "needs_background": "light"
     },
     "output_type": "display_data"
    }
   ],
   "source": [
    "plt.hist(np.log10(p2sigmas[np.abs((psigmas-1e-13)/psigmas)<0.05]))"
   ]
  },
  {
   "cell_type": "markdown",
   "metadata": {},
   "source": [
    "## TODO\n",
    "\n",
    "- What about longer distances? (Second, third neighbours etc.?) Do things generalize?\n",
    "- Test with rough Mount Fuji?"
   ]
  },
  {
   "cell_type": "code",
   "execution_count": null,
   "metadata": {},
   "outputs": [],
   "source": []
  }
 ],
 "metadata": {
  "kernelspec": {
   "display_name": "Python 3",
   "language": "python",
   "name": "python3"
  },
  "language_info": {
   "codemirror_mode": {
    "name": "ipython",
    "version": 3
   },
   "file_extension": ".py",
   "mimetype": "text/x-python",
   "name": "python",
   "nbconvert_exporter": "python",
   "pygments_lexer": "ipython3",
   "version": "3.6.8"
  }
 },
 "nbformat": 4,
 "nbformat_minor": 2
}
