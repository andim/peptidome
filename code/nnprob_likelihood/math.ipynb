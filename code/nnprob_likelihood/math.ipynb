{
 "cells": [
  {
   "cell_type": "markdown",
   "metadata": {},
   "source": [
    "# How does neighbor density relate to likelihoods ?"
   ]
  },
  {
   "cell_type": "code",
   "execution_count": 2,
   "metadata": {},
   "outputs": [],
   "source": [
    "import numpy as np\n",
    "import pandas as pd\n",
    "import matplotlib.pyplot as plt\n",
    "%matplotlib inline\n",
    "plt.style.use('../peptidome.mplstyle')\n",
    "#plt.style.use('talk')\n",
    "\n",
    "import sys\n",
    "sys.path.append('..')\n",
    "\n",
    "from lib import *"
   ]
  },
  {
   "cell_type": "markdown",
   "metadata": {},
   "source": [
    "## check summation formula"
   ]
  },
  {
   "cell_type": "code",
   "execution_count": 3,
   "metadata": {},
   "outputs": [
    {
     "name": "stdout",
     "output_type": "stream",
     "text": [
      "0.3439384511191594 0.3439384511191593\n"
     ]
    }
   ],
   "source": [
    "def neighbors(sigma, S):\n",
    "    for i in range(len(sigma)):\n",
    "        for s in range(S):\n",
    "            if not sigma[i] == s:\n",
    "                yield np.asarray(list(sigma[:i]) + [s] + list(sigma[i+1:]))\n",
    "\n",
    "S = 2\n",
    "k = 2\n",
    "sigma_lognormal = 1.0\n",
    "pi = np.random.lognormal(sigma=sigma_lognormal, size=S)\n",
    "pi /= pi.sum()\n",
    "sigma = np.random.randint(0, S, k)\n",
    "nsigma = np.prod(pi[sigma])*(np.sum(1/pi[sigma]) - k)\n",
    "nsigma_sum = np.sum(np.fromiter((np.prod(pi[sigmap]) for sigmap in neighbors(sigma, S)), np.float))\n",
    "print(nsigma, nsigma_sum)"
   ]
  },
  {
   "cell_type": "markdown",
   "metadata": {},
   "source": [
    "## correlation between probabilities"
   ]
  },
  {
   "cell_type": "code",
   "execution_count": 4,
   "metadata": {},
   "outputs": [],
   "source": [
    "S = 20\n",
    "k = 10\n",
    "sigma = 0.3\n",
    "pi = np.random.lognormal(sigma=sigma, size=S)\n",
    "pi /= pi.sum()\n",
    "psigmas = []\n",
    "psigmaps = []\n",
    "Nsample = 10000\n",
    "for i in range(Nsample):\n",
    "    sigma = np.random.randint(0, S, k)\n",
    "    psigma = np.prod(pi[sigma])\n",
    "    i = np.random.randint(0, k)\n",
    "    sigmai = np.random.choice([s for s in range(0, S) if s != sigma[i]])\n",
    "    sigmap = np.asarray(list(sigma[:i]) + [sigmai] + list(sigma[i+1:]))\n",
    "    psigmap = np.prod(pi[sigmap])\n",
    "    psigmas.append(psigma)\n",
    "    psigmaps.append(psigmap)\n",
    "psigmaps = np.asarray(psigmaps)\n",
    "psigmas = np.asarray(psigmas)"
   ]
  },
  {
   "cell_type": "code",
   "execution_count": 5,
   "metadata": {},
   "outputs": [
    {
     "data": {
      "text/plain": [
       "Text(0, 0.5, \"$\\\\log_{10} p(\\\\sigma')$\")"
      ]
     },
     "execution_count": 5,
     "metadata": {},
     "output_type": "execute_result"
    },
    {
     "data": {
      "image/png": "[encoded data removed]",
      "text/plain": [
       "<Figure size 246.24x246.24 with 1 Axes>"
      ]
     },
     "metadata": {
      "needs_background": "light"
     },
     "output_type": "display_data"
    }
   ],
   "source": [
    "fig, ax = plt.subplots(figsize=(3.42, 3.42))\n",
    "trans = np.log10\n",
    "ax.plot(trans(psigmas), trans(psigmaps), '.', label='data', ms=1)\n",
    "ax.plot(trans(psigmas), trans(psigmas), '-', label='linear')\n",
    "ax.set_xlabel('$\\log_{10} p(\\sigma)$')\n",
    "ax.set_ylabel(\"$\\log_{10} p(\\sigma')$\")"
   ]
  },
  {
   "cell_type": "code",
   "execution_count": 6,
   "metadata": {},
   "outputs": [
    {
     "data": {
      "text/plain": [
       "(0.8432573033820352, 0.8950549164412782)"
      ]
     },
     "execution_count": 6,
     "metadata": {},
     "output_type": "execute_result"
    }
   ],
   "source": [
    "rhop = np.corrcoef(psigmaps, psigmas)[0, 1]\n",
    "rhop, np.corrcoef(np.log(psigmaps), np.log(psigmas))[0, 1]"
   ]
  },
  {
   "cell_type": "markdown",
   "metadata": {},
   "source": [
    "## generate samples from P_uniform(psigma, nsigma)"
   ]
  },
  {
   "cell_type": "code",
   "execution_count": 7,
   "metadata": {},
   "outputs": [
    {
     "data": {
      "text/plain": [
       "array([0.02132759, 0.06577845, 0.07012693, 0.06314819, 0.09970845,\n",
       "       0.08332527, 0.01217275, 0.05643573, 0.05963846, 0.07101057,\n",
       "       0.02662735, 0.02305051, 0.05347764, 0.0473157 , 0.05724314,\n",
       "       0.04330068, 0.04767035, 0.02626757, 0.0365297 , 0.03584496])"
      ]
     },
     "execution_count": 7,
     "metadata": {},
     "output_type": "execute_result"
    }
   ],
   "source": [
    "df = Counter(human, 1).to_df(norm=True, clean=True)\n",
    "paa = np.asarray(df['freq'])\n",
    "paa"
   ]
  },
  {
   "cell_type": "code",
   "execution_count": 8,
   "metadata": {},
   "outputs": [
    {
     "name": "stdout",
     "output_type": "stream",
     "text": [
      "$\\rho_{p(\\sigma), n(\\sigma)}$: 0.991705622487347\n"
     ]
    }
   ],
   "source": [
    "S = 20\n",
    "k = 9\n",
    "\n",
    "Nn = k*(S-1)\n",
    "N = float(S**k)\n",
    "\n",
    "#sigma_lognormal = 0.4\n",
    "#pi = np.random.lognormal(sigma=sigma_lognormal, size=S)\n",
    "pi = paa\n",
    "#pi = np.random.uniform(size=S)\n",
    "pi /= pi.sum()\n",
    "\n",
    "\n",
    "psigmas = []\n",
    "nsigmas = []\n",
    "Nsample = 10000\n",
    "for i in range(Nsample):\n",
    "    sigma = np.random.randint(0, S, k)\n",
    "    psigma = np.prod(pi[sigma])\n",
    "    nsigma = np.prod(pi[sigma])*np.sum((1-pi[sigma])/pi[sigma])\n",
    "    psigmas.append(psigma)\n",
    "    nsigmas.append(nsigma)\n",
    "nsigmas = np.asarray(nsigmas)\n",
    "psigmas = np.asarray(psigmas)\n",
    "rho = np.corrcoef(psigmas, nsigmas)[1, 0]\n",
    "print(r'$\\rho_{p(\\sigma), n(\\sigma)}$:', rho)"
   ]
  },
  {
   "cell_type": "code",
   "execution_count": 9,
   "metadata": {},
   "outputs": [
    {
     "data": {
      "text/plain": [
       "(2.3464343858318664, 2.373654150098714)"
      ]
     },
     "execution_count": 9,
     "metadata": {},
     "output_type": "execute_result"
    }
   ],
   "source": [
    "# variance of lognormal\n",
    "np.var(np.log(psigmas)), np.var(np.log(pi))*k"
   ]
  },
  {
   "cell_type": "code",
   "execution_count": 10,
   "metadata": {},
   "outputs": [
    {
     "data": {
      "text/plain": [
       "(3.124411221821948, 3.1203451200778947, 3.0738003845887154)"
      ]
     },
     "execution_count": 10,
     "metadata": {},
     "output_type": "execute_result"
    }
   ],
   "source": [
    "# coefficient of variation\n",
    "sigmasq = np.var(np.log(pi))*k\n",
    "np.var(psigmas)*N**2, (np.exp(sigmasq)-1)**.5, (np.exp(np.var(np.log(psigmas)))-1)**.5"
   ]
  },
  {
   "cell_type": "code",
   "execution_count": 11,
   "metadata": {},
   "outputs": [
    {
     "name": "stdout",
     "output_type": "stream",
     "text": [
      "slope, prediction 0.8661041850727093 0.8830409356725146\n",
      "nsigmavar (sampled, upper, pred): 2.31033278570407e-19 3.485142079822372e-19 2.717578898191919e-19 2.942066076857593e-19\n",
      "nsigmabar (lower, sampled, upper): 3.33984375e-10 1.1630385948709255e-09 1.3607527570242163e-09\n",
      "prediction (-S, -3/2S, rhop) 1.25544159081077e-09 1.19441793413456e-09 1.2927452558183374e-09\n"
     ]
    },
    {
     "data": {
      "image/png": "[encoded data removed]",
      "text/plain": [
       "<Figure size 246.24x246.24 with 1 Axes>"
      ]
     },
     "metadata": {
      "needs_background": "light"
     },
     "output_type": "display_data"
    }
   ],
   "source": [
    "fig, ax = plt.subplots(figsize=(3.42, 3.42))\n",
    "ax.plot(np.log10(psigmas), np.log10(nsigmas), '.', label='data', ms=1)\n",
    "ax.plot(np.log10(psigmas), np.log10(psigmas)+np.log10(k*(S-1)), '-', label='linear')\n",
    "#factor = 20\n",
    "#psigmas_theory = np.linspace(S**(-k)/factor, factor*S**(-k))\n",
    "psigmas_theory = np.linspace(min(psigmas), max(psigmas))\n",
    "ax.plot(np.log10(psigmas_theory),\n",
    "        #np.log10(psigmas_theory) + np.log10(Nn - S*(psigmas_theory*float(S**k) - 1)),\n",
    "        np.log10(psigmas_theory) + np.log10(Nn - S*np.log(psigmas_theory*N)),\n",
    "        'k-', label='theory', lw=2)\n",
    "#ax.axvline(-k*np.log10(S), c='k')\n",
    "ax.set_xlabel('$\\log_{10} p(\\sigma)$\\n Log-Likelihood')\n",
    "ax.set_ylabel(\"Log-Neighborlikelihood\\n $\\log_{10} n(\\sigma) = \\log_{10} \\sum_{\\sigma' \\sim \\sigma} p(\\sigma')$\")\n",
    "ax.legend()\n",
    "fig.tight_layout()\n",
    "fig.savefig('main.png')\n",
    "fig.savefig('../../paper/images/nnproblikelihood.pdf')\n",
    "\n",
    "slope, intercept = np.polyfit(np.log10(psigmas), np.log10(nsigmas), 1)\n",
    "rho1 = 1 - S/(k*(S-1))\n",
    "print('slope, prediction', slope, rho1)\n",
    "nsigmavar_pred = np.var(psigmas)* Nn**2 * rho1**2\n",
    "nsigmavar_pred2 = Nn*np.var(psigmas)*(1+(Nn-1)*rhop)\n",
    "print('nsigmavar (sampled, upper, pred):',\n",
    "      np.var(nsigmas),\n",
    "      np.var(psigmas)*Nn**2,\n",
    "      nsigmavar_pred,\n",
    "      nsigmavar_pred2)\n",
    "nsigmabar = np.mean(nsigmas*psigmas)*N\n",
    "nsigmabar_upper = Nn*np.mean(psigmas**2)*N\n",
    "nsigmabar_pred = Nn/N + N*Nn*rho1*np.var(psigmas)\n",
    "nsigmabar_pred2 = Nn/N + N*(Nn-1.5*S)*np.var(psigmas)\n",
    "nsigmabar_pred3 = Nn/N + N*(np.var(psigmas) * nsigmavar_pred2)**.5\n",
    "print('nsigmabar (lower, sampled, upper):', Nn/N, nsigmabar, nsigmabar_upper)\n",
    "print('prediction (-S, -3/2S, rhop)', nsigmabar_pred, nsigmabar_pred2, nsigmabar_pred3)"
   ]
  },
  {
   "cell_type": "code",
   "execution_count": 12,
   "metadata": {},
   "outputs": [
    {
     "data": {
      "image/png": "[encoded data removed]",
      "text/plain": [
       "<Figure size 432x288 with 1 Axes>"
      ]
     },
     "metadata": {
      "needs_background": "light"
     },
     "output_type": "display_data"
    }
   ],
   "source": [
    "bins = np.linspace(0.0, np.percentile(nsigmas, 99), 100)\n",
    "fig, ax = plt.subplots()\n",
    "histkwargs = dict(bins=bins, histtype='step')\n",
    "ax.hist(psigmas*k*(S-1), label='$P(\\sigma)$ rescaled', **histkwargs)\n",
    "ax.hist(nsigmas, label='$n(\\sigma)$', **histkwargs)\n",
    "ax.legend()\n",
    "ax.axvline(1/S**k * k*(S-1), c='k')\n",
    "ax.set_xlim(min(bins), max(bins))\n",
    "ax.set_yticks([])\n",
    "ax.set_ylabel('Density')\n",
    "ax.set_xlabel('Probability');"
   ]
  },
  {
   "cell_type": "markdown",
   "metadata": {},
   "source": [
    "# resampling"
   ]
  },
  {
   "cell_type": "code",
   "execution_count": 29,
   "metadata": {},
   "outputs": [],
   "source": [
    "S = 20\n",
    "k = 9\n",
    "\n",
    "Nn = k*(S-1)\n",
    "N = float(S**k)\n",
    "\n",
    "sigma_lognormal = 0.3\n",
    "pi = np.random.lognormal(sigma=sigma_lognormal, size=S)\n",
    "pi /= pi.sum()"
   ]
  },
  {
   "cell_type": "code",
   "execution_count": 30,
   "metadata": {},
   "outputs": [],
   "source": [
    "nsigmabars = []\n",
    "for i in range(100):\n",
    "    psigmas = []\n",
    "    nsigmas = []\n",
    "    Nsample = 10000\n",
    "    for i in range(Nsample):\n",
    "        sigma = np.random.randint(0, S, k)\n",
    "        psigma = np.prod(pi[sigma])\n",
    "        nsigma = np.prod(pi[sigma])*np.sum((1-pi[sigma])/pi[sigma])\n",
    "        psigmas.append(psigma)\n",
    "        nsigmas.append(nsigma)\n",
    "    nsigmas = np.asarray(nsigmas)\n",
    "    psigmas = np.asarray(psigmas)\n",
    "    nsigmabar = np.mean(nsigmas*psigmas)*N\n",
    "    nsigmabars.append(nsigmabar)\n"
   ]
  },
  {
   "cell_type": "code",
   "execution_count": 31,
   "metadata": {},
   "outputs": [
    {
     "data": {
      "text/plain": [
       "<matplotlib.lines.Line2D at 0x7fc64d02e0f0>"
      ]
     },
     "execution_count": 31,
     "metadata": {},
     "output_type": "execute_result"
    },
    {
     "data": {
      "image/png": "[encoded data removed]",
      "text/plain": [
       "<Figure size 432x288 with 1 Axes>"
      ]
     },
     "metadata": {
      "needs_background": "light"
     },
     "output_type": "display_data"
    }
   ],
   "source": [
    "plt.hist(nsigmabars)\n",
    "p0 = 1/N\n",
    "cv = (np.exp(np.var(np.log(pi))*k)-1)**.5\n",
    "predicted = p0 * Nn * (1.0 +  cv**2 * (1-1.5* S/Nn))\n",
    "plt.axvline(predicted, c='k')"
   ]
  },
  {
   "cell_type": "code",
   "execution_count": 118,
   "metadata": {},
   "outputs": [],
   "source": [
    "S = 20\n",
    "k = 9\n",
    "\n",
    "Nn = k*(S-1)\n",
    "N = float(S**k)\n",
    "\n",
    "empmeans = []\n",
    "empstds = []\n",
    "predicts =[]\n",
    "varpis = []\n",
    "for j, sigma_lognormal in enumerate(np.logspace(-2.5, np.log(0.9), 10)):\n",
    "    pi = np.random.lognormal(sigma=sigma_lognormal, size=S)\n",
    "    pi /= pi.sum()\n",
    "\n",
    "    nsigmabars = []\n",
    "    Nrepeat = 100\n",
    "    for i in range(Nrepeat):\n",
    "        psigmas = []\n",
    "        nsigmas = []\n",
    "        Nsample = 1000\n",
    "        for i in range(Nsample):\n",
    "            sigma = np.random.randint(0, S, k)\n",
    "            psigma = np.prod(pi[sigma])\n",
    "            nsigma = np.prod(pi[sigma])*np.sum((1-pi[sigma])/pi[sigma])\n",
    "            psigmas.append(psigma)\n",
    "            nsigmas.append(nsigma)\n",
    "        nsigmas = np.asarray(nsigmas)\n",
    "        psigmas = np.asarray(psigmas)\n",
    "        nsigmabar = np.mean(nsigmas*psigmas)*N\n",
    "        nsigmabars.append(nsigmabar)\n",
    "    cv = (np.exp(np.var(np.log(pi))*k)-1)**.5\n",
    "    predicted = p0 * Nn * (1.0 +  cv**2 * (1-1.5* S/Nn))\n",
    "    empmeans.append(np.mean(nsigmabars))\n",
    "    empstds.append(np.std(nsigmabars))\n",
    "    predicts.append(predicted)\n",
    "    varpis.append(np.var(np.log(pi)))"
   ]
  },
  {
   "cell_type": "code",
   "execution_count": 121,
   "metadata": {},
   "outputs": [
    {
     "data": {
      "image/png": "[encoded data removed]",
      "text/plain": [
       "<Figure size 246.24x180 with 1 Axes>"
      ]
     },
     "metadata": {
      "needs_background": "light"
     },
     "output_type": "display_data"
    }
   ],
   "source": [
    "fig, ax = plt.subplots(figsize=(3.42, 2.5))\n",
    "varpis_theory = np.linspace(min(varpis), max(varpis))\n",
    "cv = (np.exp(varpis_theory*k)-1)**.5\n",
    "predicted = p0 * Nn * (1.0 +  cv**2 * (1-1.5*S/Nn))\n",
    "ax.plot((np.exp(varpis_theory)-1)**.5, predicted*N/Nn-1, '-', label='prediction')\n",
    "ax.errorbar((np.exp(np.array(varpis))-1)**.5, np.array(empmeans)*N/Nn-1, 2*np.array(empstds)/Nrepeat**.5*N/Nn, fmt='o', label='simulated')\n",
    "plt.xscale('log')\n",
    "plt.yscale('log')\n",
    "plt.legend()\n",
    "plt.ylabel(r'relative neighbor density - 1')\n",
    "plt.xlabel(r'geometric coefficient of variation of site frequencies')\n",
    "fig.tight_layout()\n",
    "fig.savefig('neighborprobability.png')"
   ]
  },
  {
   "cell_type": "markdown",
   "metadata": {},
   "source": [
    "# Neighbors from different distribution"
   ]
  },
  {
   "cell_type": "code",
   "execution_count": 304,
   "metadata": {},
   "outputs": [],
   "source": [
    "sigma_lognormal = 1.0\n",
    "pi = np.random.lognormal(sigma=sigma_lognormal, size=S)\n",
    "pi /= pi.sum()"
   ]
  },
  {
   "cell_type": "code",
   "execution_count": 337,
   "metadata": {},
   "outputs": [],
   "source": [
    "dpi = np.random.lognormal(sigma=0.5, size=S)\n",
    "pi2 = pi*dpi\n",
    "pi2 /= pi2.sum()"
   ]
  },
  {
   "cell_type": "code",
   "execution_count": 123,
   "metadata": {},
   "outputs": [
    {
     "data": {
      "text/plain": [
       "array([0.07012693, 0.02305051, 0.0473157 , 0.07101057, 0.0365297 ,\n",
       "       0.06577845, 0.02626757, 0.04330068, 0.05724314, 0.09970845,\n",
       "       0.02132759, 0.03584496, 0.06314819, 0.04767035, 0.05643573,\n",
       "       0.08332527, 0.05347764, 0.05963846, 0.01217275, 0.02662735])"
      ]
     },
     "execution_count": 123,
     "metadata": {},
     "output_type": "execute_result"
    }
   ],
   "source": [
    "df = Counter(human, 1).to_df(norm=True, clean=True)\n",
    "df.sort_values('seq', inplace=True)\n",
    "pi = np.asarray(df['freq'])\n",
    "pi"
   ]
  },
  {
   "cell_type": "code",
   "execution_count": 185,
   "metadata": {},
   "outputs": [
    {
     "data": {
      "text/plain": [
       "array([0.07841523, 0.02543691, 0.04814408, 0.05226157, 0.03913136,\n",
       "       0.06177753, 0.03239089, 0.03522738, 0.0298289 , 0.10188489,\n",
       "       0.02023668, 0.03222314, 0.06128954, 0.03547138, 0.08161771,\n",
       "       0.07588373, 0.06789276, 0.07445024, 0.01390795, 0.03252814])"
      ]
     },
     "execution_count": 185,
     "metadata": {},
     "output_type": "execute_result"
    }
   ],
   "source": [
    "df = Counter(proteome_path('CMV'), 1).to_df(norm=True, clean=True)\n",
    "df.sort_values('seq', inplace=True)\n",
    "pi2 = np.asarray(df['freq'])\n",
    "pi2"
   ]
  },
  {
   "cell_type": "code",
   "execution_count": 188,
   "metadata": {},
   "outputs": [],
   "source": [
    "Nsample = 100000\n",
    "psigmas = []\n",
    "p2sigmas = []\n",
    "nsigmas = []\n",
    "n2sigmas = []\n",
    "for i in range(Nsample):\n",
    "    sigma = np.random.randint(0, S, k)\n",
    "    psigma = np.prod(pi[sigma])\n",
    "    nsigma = np.prod(pi[sigma])*np.sum((1-pi[sigma])/pi[sigma])\n",
    "    p2sigma = np.prod(pi2[sigma])\n",
    "    n2sigma = np.prod(pi2[sigma])*np.sum((1-pi2[sigma])/pi2[sigma])\n",
    "    psigmas.append(psigma)\n",
    "    p2sigmas.append(p2sigma)\n",
    "    nsigmas.append(nsigma)\n",
    "    n2sigmas.append(n2sigma)\n",
    "psigmas = np.array(psigmas)\n",
    "p2sigmas = np.array(p2sigmas)\n",
    "nsigmas = np.array(nsigmas)\n",
    "n2sigmas = np.array(n2sigmas)"
   ]
  },
  {
   "cell_type": "code",
   "execution_count": 189,
   "metadata": {},
   "outputs": [
    {
     "data": {
      "text/plain": [
       "0.7913977897096637"
      ]
     },
     "execution_count": 189,
     "metadata": {},
     "output_type": "execute_result"
    },
    {
     "data": {
      "image/png": "[encoded data removed]",
      "text/plain": [
       "<Figure size 432x288 with 1 Axes>"
      ]
     },
     "metadata": {
      "needs_background": "light"
     },
     "output_type": "display_data"
    }
   ],
   "source": [
    "plt.plot(np.array(psigmas), np.array(p2sigmas), 'o', ms=1)\n",
    "plt.xscale('log')\n",
    "plt.yscale('log')\n",
    "np.corrcoef(psigmas, p2sigmas)[0, 1]"
   ]
  },
  {
   "cell_type": "code",
   "execution_count": 196,
   "metadata": {},
   "outputs": [
    {
     "data": {
      "text/plain": [
       "(3.724899792702455, 4.123023237427103, 4.662227304409363)"
      ]
     },
     "execution_count": 196,
     "metadata": {},
     "output_type": "execute_result"
    }
   ],
   "source": [
    "np.mean(psigmas*n2sigmas)*N/(Nn/N), np.mean(psigmas*nsigmas)*N/(Nn/N), np.mean(p2sigmas*n2sigmas)*N/(Nn/N)"
   ]
  },
  {
   "cell_type": "code",
   "execution_count": 210,
   "metadata": {},
   "outputs": [
    {
     "data": {
      "text/plain": [
       "-0.0057572107868609414"
      ]
     },
     "execution_count": 210,
     "metadata": {},
     "output_type": "execute_result"
    }
   ],
   "source": [
    "np.mean(np.log(pi2/pi))"
   ]
  },
  {
   "cell_type": "code",
   "execution_count": 207,
   "metadata": {},
   "outputs": [
    {
     "data": {
      "text/plain": [
       "(0.4074057104108117, 0.4713946807340225)"
      ]
     },
     "execution_count": 207,
     "metadata": {},
     "output_type": "execute_result"
    }
   ],
   "source": [
    "k * np.var(pi2/pi-1), k*np.var(np.log(pi2/pi))"
   ]
  },
  {
   "cell_type": "code",
   "execution_count": 209,
   "metadata": {},
   "outputs": [
    {
     "data": {
      "text/plain": [
       "0.44364034581030587"
      ]
     },
     "execution_count": 209,
     "metadata": {},
     "output_type": "execute_result"
    }
   ],
   "source": [
    "np.var(np.log(p2sigmas[np.abs((psigmas-1e-12)/psigmas)<0.02]))"
   ]
  },
  {
   "cell_type": "markdown",
   "metadata": {},
   "source": [
    "## TODO\n",
    "\n",
    "- What about longer distances? (Second, third neighbours etc.?) Do things generalize?\n",
    "- Test with rough Mount Fuji?"
   ]
  },
  {
   "cell_type": "code",
   "execution_count": null,
   "metadata": {},
   "outputs": [],
   "source": []
  }
 ],
 "metadata": {
  "kernelspec": {
   "display_name": "Python 3",
   "language": "python",
   "name": "python3"
  },
  "language_info": {
   "codemirror_mode": {
    "name": "ipython",
    "version": 3
   },
   "file_extension": ".py",
   "mimetype": "text/x-python",
   "name": "python",
   "nbconvert_exporter": "python",
   "pygments_lexer": "ipython3",
   "version": "3.6.10"
  }
 },
 "nbformat": 4,
 "nbformat_minor": 2
}
