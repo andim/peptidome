{
 "cells": [
  {
   "cell_type": "code",
   "execution_count": 2,
   "metadata": {},
   "outputs": [],
   "source": [
    "import numpy as np\n",
    "import pandas as pd\n",
    "import matplotlib.pyplot as plt\n",
    "\n",
    "import sys\n",
    "sys.path.append('..')\n",
    "from lib import *\n",
    "plt.style.use('../peptidome.mplstyle')"
   ]
  },
  {
   "cell_type": "code",
   "execution_count": 39,
   "metadata": {},
   "outputs": [
    {
     "data": {
      "text/plain": [
       "8573"
      ]
     },
     "execution_count": 39,
     "metadata": {},
     "output_type": "execute_result"
    }
   ],
   "source": [
    "path = datadir + 'human-viruses-uniref50.fasta'\n",
    "headers, seqs = list(zip(*[(h, seq) for h, seq in fasta_iter(path,\n",
    "                                                             returndescription=True, returnheader=False)]))\n",
    "len(seqs)"
   ]
  },
  {
   "cell_type": "code",
   "execution_count": 9,
   "metadata": {},
   "outputs": [],
   "source": [
    "taxons = []\n",
    "for h in headers:\n",
    "    m = re.search('(?<=TaxID\\=)[^\\s]+', h)\n",
    "    if m:\n",
    "        taxons.append(m.group(0))\n",
    "    else:\n",
    "        taxons.append('')"
   ]
  },
  {
   "cell_type": "code",
   "execution_count": 10,
   "metadata": {},
   "outputs": [
    {
     "data": {
      "text/plain": [
       "11676      7752\n",
       "11646       236\n",
       "10407       160\n",
       "             58\n",
       "10310        19\n",
       "           ... \n",
       "1335626       1\n",
       "11709         1\n",
       "337041        1\n",
       "10239         1\n",
       "194960        1\n",
       "Length: 119, dtype: int64"
      ]
     },
     "execution_count": 10,
     "metadata": {},
     "output_type": "execute_result"
    }
   ],
   "source": [
    "pd.Series(taxons).value_counts()"
   ]
  },
  {
   "cell_type": "code",
   "execution_count": 11,
   "metadata": {},
   "outputs": [],
   "source": [
    "taxons = []\n",
    "for h in headers:\n",
    "    m = re.search('(?<=Tax\\=)[\\w\\s]+(?= TaxID)', h)\n",
    "    if m:\n",
    "        taxons.append(m.group(0))\n",
    "    else:\n",
    "        taxons.append('')"
   ]
  },
  {
   "cell_type": "code",
   "execution_count": 13,
   "metadata": {},
   "outputs": [
    {
     "data": {
      "text/plain": [
       "Human immunodeficiency virus 1       7753\n",
       "Lentivirus                            236\n",
       "Hepatitis B virus                     160\n",
       "                                       68\n",
       "Human herpesvirus 2                    19\n",
       "Human cytomegalovirus                  17\n",
       "Human herpesvirus 1                    16\n",
       "Simplexvirus                           13\n",
       "Orthopoxvirus                          13\n",
       "Roseolovirus                           12\n",
       "Chordopoxvirinae                       11\n",
       "Orf virus                              11\n",
       "Molluscum contagiosum virus            10\n",
       "Cytomegalovirus                        10\n",
       "Parapoxvirus                           10\n",
       "Mastadenovirus                          8\n",
       "Human herpesvirus 8                     8\n",
       "Lymphocryptovirus                       8\n",
       "Cowpox virus                            7\n",
       "Molluscipoxvirus                        7\n",
       "Enterovirus                             7\n",
       "Human papillomavirus type 16            6\n",
       "Gammaherpesvirinae                      6\n",
       "Hepatitis E virus                       5\n",
       "Papillomaviridae                        4\n",
       "Influenza B virus                       4\n",
       "Human mastadenovirus C                  4\n",
       "Influenza A virus                       4\n",
       "Flavivirus                              4\n",
       "Human parvovirus B19                    4\n",
       "Lyssavirus                              4\n",
       "Vaccinia virus                          4\n",
       "Tanapox virus                           4\n",
       "Pneumoviridae                           4\n",
       "Human herpesvirus 3                     3\n",
       "Poxviridae                              3\n",
       "Rotavirus                               3\n",
       "Coronaviridae                           3\n",
       "Retroviridae                            3\n",
       "Human mastadenovirus B                  3\n",
       "Enterovirus A                           3\n",
       "Human mastadenovirus E                  3\n",
       "Betaherpesvirinae                       2\n",
       "Human mastadenovirus F                  2\n",
       "Adenoviridae                            2\n",
       "Orthohepadnavirus                       2\n",
       "Alphapapillomavirus                     2\n",
       "Varicellovirus                          2\n",
       "Human respiratory syncytial virus       2\n",
       "Ebolavirus                              2\n",
       "dtype: int64"
      ]
     },
     "execution_count": 13,
     "metadata": {},
     "output_type": "execute_result"
    }
   ],
   "source": [
    "pd.Series(taxons).value_counts().head(50)"
   ]
  },
  {
   "cell_type": "code",
   "execution_count": 14,
   "metadata": {},
   "outputs": [],
   "source": [
    "path = datadir + 'human-viruses-swissprot.fasta'"
   ]
  },
  {
   "cell_type": "code",
   "execution_count": 15,
   "metadata": {},
   "outputs": [],
   "source": [
    "headers, seqs = list(zip(*[(h, seq) for h, seq in fasta_iter(path,\n",
    "                                                             returndescription=True, returnheader=False)]))"
   ]
  },
  {
   "cell_type": "code",
   "execution_count": 40,
   "metadata": {},
   "outputs": [],
   "source": [
    "taxons = []\n",
    "for h in headers:\n",
    "    m = re.search('(?<=OS\\=).+(?= OX)', h)\n",
    "    if m:\n",
    "        taxons.append(m.group(0))\n",
    "    else:\n",
    "        taxons.append('')"
   ]
  },
  {
   "cell_type": "code",
   "execution_count": null,
   "metadata": {},
   "outputs": [],
   "source": []
  }
 ],
 "metadata": {
  "kernelspec": {
   "display_name": "Python 3",
   "language": "python",
   "name": "python3"
  },
  "language_info": {
   "codemirror_mode": {
    "name": "ipython",
    "version": 3
   },
   "file_extension": ".py",
   "mimetype": "text/x-python",
   "name": "python",
   "nbconvert_exporter": "python",
   "pygments_lexer": "ipython3",
   "version": "3.6.10"
  }
 },
 "nbformat": 4,
 "nbformat_minor": 2
}
