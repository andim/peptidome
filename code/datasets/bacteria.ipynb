{
 "cells": [
  {
   "cell_type": "code",
   "execution_count": 1,
   "metadata": {},
   "outputs": [],
   "source": [
    "import numpy as np\n",
    "import pandas as pd\n",
    "import matplotlib.pyplot as plt\n",
    "\n",
    "import sys\n",
    "sys.path.append('..')\n",
    "from lib import *\n",
    "plt.style.use('../peptidome.mplstyle')"
   ]
  },
  {
   "cell_type": "code",
   "execution_count": 2,
   "metadata": {},
   "outputs": [
    {
     "name": "stderr",
     "output_type": "stream",
     "text": [
      "/home/amayer/anaconda3/envs/py3/lib/python3.8/site-packages/IPython/core/interactiveshell.py:3146: DtypeWarning: Columns (2,6,7,8,9,10,11,12,14,19,21,34,40,41,42,43,44,46,47,48,49,50,51,52,53,54,55,56,57,58,59,60,61,62,63,65) have mixed types.Specify dtype option on import or set low_memory=False.\n",
      "  has_raised = await self.run_ast_nodes(code_ast.body, cell_name,\n"
     ]
    }
   ],
   "source": [
    "df = pd.read_csv(datadir + 'patricbrc_meta.tsv.gz', sep='\\t')"
   ]
  },
  {
   "cell_type": "code",
   "execution_count": 6,
   "metadata": {},
   "outputs": [
    {
     "data": {
      "text/html": [
       "<div>\n",
       "<style scoped>\n",
       "    .dataframe tbody tr th:only-of-type {\n",
       "        vertical-align: middle;\n",
       "    }\n",
       "\n",
       "    .dataframe tbody tr th {\n",
       "        vertical-align: top;\n",
       "    }\n",
       "\n",
       "    .dataframe thead th {\n",
       "        text-align: right;\n",
       "    }\n",
       "</style>\n",
       "<table border=\"1\" class=\"dataframe\">\n",
       "  <thead>\n",
       "    <tr style=\"text-align: right;\">\n",
       "      <th></th>\n",
       "      <th>genome_id</th>\n",
       "      <th>genome_name</th>\n",
       "      <th>organism_name</th>\n",
       "      <th>taxon_id</th>\n",
       "      <th>genome_status</th>\n",
       "      <th>strain</th>\n",
       "      <th>serovar</th>\n",
       "      <th>biovar</th>\n",
       "      <th>pathovar</th>\n",
       "      <th>mlst</th>\n",
       "      <th>...</th>\n",
       "      <th>motility</th>\n",
       "      <th>sporulation</th>\n",
       "      <th>temperature_range</th>\n",
       "      <th>optimal_temperature</th>\n",
       "      <th>salinity</th>\n",
       "      <th>oxygen_requirement</th>\n",
       "      <th>habitat</th>\n",
       "      <th>disease</th>\n",
       "      <th>comments</th>\n",
       "      <th>additional_metadata</th>\n",
       "    </tr>\n",
       "  </thead>\n",
       "  <tbody>\n",
       "    <tr>\n",
       "      <th>0</th>\n",
       "      <td>469009.4</td>\n",
       "      <td>\"'Brassica napus' phytoplasma strain TW1\"</td>\n",
       "      <td>NaN</td>\n",
       "      <td>469009</td>\n",
       "      <td>WGS</td>\n",
       "      <td>TW1</td>\n",
       "      <td>NaN</td>\n",
       "      <td>NaN</td>\n",
       "      <td>NaN</td>\n",
       "      <td>NaN</td>\n",
       "      <td>...</td>\n",
       "      <td>NaN</td>\n",
       "      <td>NaN</td>\n",
       "      <td>NaN</td>\n",
       "      <td>NaN</td>\n",
       "      <td>NaN</td>\n",
       "      <td>NaN</td>\n",
       "      <td>NaN</td>\n",
       "      <td>NaN</td>\n",
       "      <td>Genome sequence of a strain of bacteria that c...</td>\n",
       "      <td>sample_type:metagenomic assembly;collected_by:...</td>\n",
       "    </tr>\n",
       "    <tr>\n",
       "      <th>1</th>\n",
       "      <td>1309411.5</td>\n",
       "      <td>\"'Deinococcus soli' Cha et al. 2014 strain N5\"</td>\n",
       "      <td>NaN</td>\n",
       "      <td>1309411</td>\n",
       "      <td>Complete</td>\n",
       "      <td>N5</td>\n",
       "      <td>NaN</td>\n",
       "      <td>NaN</td>\n",
       "      <td>NaN</td>\n",
       "      <td>NaN</td>\n",
       "      <td>...</td>\n",
       "      <td>NaN</td>\n",
       "      <td>NaN</td>\n",
       "      <td>NaN</td>\n",
       "      <td>NaN</td>\n",
       "      <td>NaN</td>\n",
       "      <td>NaN</td>\n",
       "      <td>NaN</td>\n",
       "      <td>NaN</td>\n",
       "      <td>Genome sequencing of a Gamma-Radiation-Resista...</td>\n",
       "      <td>sample_type:bacterial</td>\n",
       "    </tr>\n",
       "    <tr>\n",
       "      <th>2</th>\n",
       "      <td>1123738.3</td>\n",
       "      <td>\"'Echinacea purpurea' witches'-broom phytoplas...</td>\n",
       "      <td>NaN</td>\n",
       "      <td>1123738</td>\n",
       "      <td>WGS</td>\n",
       "      <td>NCHU2014</td>\n",
       "      <td>NaN</td>\n",
       "      <td>NaN</td>\n",
       "      <td>NaN</td>\n",
       "      <td>NaN</td>\n",
       "      <td>...</td>\n",
       "      <td>NaN</td>\n",
       "      <td>NaN</td>\n",
       "      <td>NaN</td>\n",
       "      <td>C</td>\n",
       "      <td>NaN</td>\n",
       "      <td>NaN</td>\n",
       "      <td>NaN</td>\n",
       "      <td>NaN</td>\n",
       "      <td>'Echinacea purpurea' witches'-broom phytoplasm...</td>\n",
       "      <td>lab_host:Catharanthus roseus</td>\n",
       "    </tr>\n",
       "    <tr>\n",
       "      <th>3</th>\n",
       "      <td>551115.6</td>\n",
       "      <td>\"'Nostoc azollae' 0708\"</td>\n",
       "      <td>'Nostoc azollae' 0708</td>\n",
       "      <td>551115</td>\n",
       "      <td>Complete</td>\n",
       "      <td>708</td>\n",
       "      <td>NaN</td>\n",
       "      <td>NaN</td>\n",
       "      <td>NaN</td>\n",
       "      <td>NaN</td>\n",
       "      <td>...</td>\n",
       "      <td>Yes</td>\n",
       "      <td>NaN</td>\n",
       "      <td>Mesophilic</td>\n",
       "      <td>-</td>\n",
       "      <td>NaN</td>\n",
       "      <td>Aerobic</td>\n",
       "      <td>Multiple</td>\n",
       "      <td>NaN</td>\n",
       "      <td>Nostoc azollae 0708. Nostoc azollae 0708, also...</td>\n",
       "      <td>NaN</td>\n",
       "    </tr>\n",
       "    <tr>\n",
       "      <th>4</th>\n",
       "      <td>1856298.3</td>\n",
       "      <td>\"'Osedax' symbiont bacterium Rs2_46_30_T18 str...</td>\n",
       "      <td>NaN</td>\n",
       "      <td>1856298</td>\n",
       "      <td>WGS</td>\n",
       "      <td>Rs2_46_30_T18</td>\n",
       "      <td>NaN</td>\n",
       "      <td>NaN</td>\n",
       "      <td>NaN</td>\n",
       "      <td>NaN</td>\n",
       "      <td>...</td>\n",
       "      <td>NaN</td>\n",
       "      <td>NaN</td>\n",
       "      <td>NaN</td>\n",
       "      <td>NaN</td>\n",
       "      <td>NaN</td>\n",
       "      <td>NaN</td>\n",
       "      <td>NaN</td>\n",
       "      <td>NaN</td>\n",
       "      <td>In this study, we simulate the Deepwater Horiz...</td>\n",
       "      <td>sample_type:metagenomic assembly</td>\n",
       "    </tr>\n",
       "  </tbody>\n",
       "</table>\n",
       "<p>5 rows × 66 columns</p>\n",
       "</div>"
      ],
      "text/plain": [
       "   genome_id                                        genome_name  \\\n",
       "0   469009.4          \"'Brassica napus' phytoplasma strain TW1\"   \n",
       "1  1309411.5     \"'Deinococcus soli' Cha et al. 2014 strain N5\"   \n",
       "2  1123738.3  \"'Echinacea purpurea' witches'-broom phytoplas...   \n",
       "3   551115.6                            \"'Nostoc azollae' 0708\"   \n",
       "4  1856298.3  \"'Osedax' symbiont bacterium Rs2_46_30_T18 str...   \n",
       "\n",
       "           organism_name  taxon_id genome_status         strain serovar  \\\n",
       "0                    NaN    469009           WGS            TW1     NaN   \n",
       "1                    NaN   1309411      Complete             N5     NaN   \n",
       "2                    NaN   1123738           WGS       NCHU2014     NaN   \n",
       "3  'Nostoc azollae' 0708    551115      Complete            708     NaN   \n",
       "4                    NaN   1856298           WGS  Rs2_46_30_T18     NaN   \n",
       "\n",
       "  biovar pathovar mlst  ... motility sporulation temperature_range  \\\n",
       "0    NaN      NaN  NaN  ...      NaN         NaN               NaN   \n",
       "1    NaN      NaN  NaN  ...      NaN         NaN               NaN   \n",
       "2    NaN      NaN  NaN  ...      NaN         NaN               NaN   \n",
       "3    NaN      NaN  NaN  ...      Yes         NaN        Mesophilic   \n",
       "4    NaN      NaN  NaN  ...      NaN         NaN               NaN   \n",
       "\n",
       "  optimal_temperature salinity oxygen_requirement   habitat disease  \\\n",
       "0                 NaN      NaN                NaN       NaN     NaN   \n",
       "1                 NaN      NaN                NaN       NaN     NaN   \n",
       "2                   C      NaN                NaN       NaN     NaN   \n",
       "3                   -      NaN            Aerobic  Multiple     NaN   \n",
       "4                 NaN      NaN                NaN       NaN     NaN   \n",
       "\n",
       "                                            comments  \\\n",
       "0  Genome sequence of a strain of bacteria that c...   \n",
       "1  Genome sequencing of a Gamma-Radiation-Resista...   \n",
       "2  'Echinacea purpurea' witches'-broom phytoplasm...   \n",
       "3  Nostoc azollae 0708. Nostoc azollae 0708, also...   \n",
       "4  In this study, we simulate the Deepwater Horiz...   \n",
       "\n",
       "                                 additional_metadata  \n",
       "0  sample_type:metagenomic assembly;collected_by:...  \n",
       "1                              sample_type:bacterial  \n",
       "2                       lab_host:Catharanthus roseus  \n",
       "3                                                NaN  \n",
       "4                   sample_type:metagenomic assembly  \n",
       "\n",
       "[5 rows x 66 columns]"
      ]
     },
     "execution_count": 6,
     "metadata": {},
     "output_type": "execute_result"
    }
   ],
   "source": [
    "df.head()"
   ]
  },
  {
   "cell_type": "code",
   "execution_count": 7,
   "metadata": {},
   "outputs": [
    {
     "data": {
      "text/plain": [
       "Index(['genome_id', 'genome_name', 'organism_name', 'taxon_id',\n",
       "       'genome_status', 'strain', 'serovar', 'biovar', 'pathovar', 'mlst',\n",
       "       'other_typing', 'culture_collection', 'type_strain', 'completion_date',\n",
       "       'publication', 'bioproject_accession', 'biosample_accession',\n",
       "       'assembly_accession', 'genbank_accessions', 'refseq_accessions',\n",
       "       'sequencing_centers', 'sequencing_status', 'sequencing_platform',\n",
       "       'sequencing_depth', 'assembly_method', 'chromosomes', 'plasmids',\n",
       "       'contigs', 'sequences', 'genome_length', 'gc_content', 'patric_cds',\n",
       "       'brc1_cds', 'refseq_cds', 'isolation_site', 'isolation_source',\n",
       "       'isolation_comments', 'collection_date', 'isolation_country',\n",
       "       'geographic_location', 'latitude', 'longitude', 'altitude', 'depth',\n",
       "       'other_environmental', 'host_name', 'host_gender', 'host_age',\n",
       "       'host_health', 'body_sample_site', 'body_sample_subsite',\n",
       "       'other_clinical', 'antimicrobial_resistance',\n",
       "       'antimicrobial_resistance_evidence', 'gram_stain', 'cell_shape',\n",
       "       'motility', 'sporulation', 'temperature_range', 'optimal_temperature',\n",
       "       'salinity', 'oxygen_requirement', 'habitat', 'disease', 'comments',\n",
       "       'additional_metadata'],\n",
       "      dtype='object')"
      ]
     },
     "execution_count": 7,
     "metadata": {},
     "output_type": "execute_result"
    }
   ],
   "source": [
    "df.columns"
   ]
  },
  {
   "cell_type": "code",
   "execution_count": 8,
   "metadata": {},
   "outputs": [
    {
     "data": {
      "text/plain": [
       "Human, Homo sapiens            128127\n",
       "Cow, Bos taurus                  6915\n",
       "Pig, Sus scrofa                  4727\n",
       "Chicken, Gallus gallus           3137\n",
       "Dog, Canis lupus familiaris      1055\n",
       "                                ...  \n",
       "Macroplea mutica                    1\n",
       "mssing                              1\n",
       "Paramecium biaurelia                1\n",
       "Opuntia ficus-indica                1\n",
       "Vibrio Parahaemolyticus             1\n",
       "Name: host_name, Length: 6898, dtype: int64"
      ]
     },
     "execution_count": 8,
     "metadata": {},
     "output_type": "execute_result"
    }
   ],
   "source": [
    "df['host_name'].value_counts()"
   ]
  },
  {
   "cell_type": "code",
   "execution_count": 10,
   "metadata": {},
   "outputs": [
    {
     "data": {
      "text/plain": [
       "1773       16792\n",
       "562        10897\n",
       "1313        9308\n",
       "573         9055\n",
       "1280        6818\n",
       "           ...  \n",
       "2292278        1\n",
       "1448490        1\n",
       "1421855        1\n",
       "1413526        1\n",
       "1310720        1\n",
       "Name: taxon_id, Length: 18162, dtype: int64"
      ]
     },
     "execution_count": 10,
     "metadata": {},
     "output_type": "execute_result"
    }
   ],
   "source": [
    "df[df['host_name']=='Human, Homo sapiens']['taxon_id'].value_counts()"
   ]
  },
  {
   "cell_type": "code",
   "execution_count": 12,
   "metadata": {},
   "outputs": [
    {
     "data": {
      "text/plain": [
       "(array([3.7000e+01, 2.3000e+01, 1.1120e+03, 4.6780e+04, 9.5844e+04,\n",
       "        9.9791e+04, 5.6635e+04, 7.3399e+04, 5.9330e+03, 3.0000e+00]),\n",
       " array([ 0.   ,  8.748, 17.496, 26.244, 34.992, 43.74 , 52.488, 61.236,\n",
       "        69.984, 78.732, 87.48 ]),\n",
       " <BarContainer object of 10 artists>)"
      ]
     },
     "execution_count": 12,
     "metadata": {},
     "output_type": "execute_result"
    },
    {
     "data": {
      "image/png": "[encoded data removed]",
      "text/plain": [
       "<Figure size 1026x690 with 1 Axes>"
      ]
     },
     "metadata": {},
     "output_type": "display_data"
    }
   ],
   "source": [
    "plt.hist(df['gc_content'])"
   ]
  },
  {
   "cell_type": "code",
   "execution_count": null,
   "metadata": {},
   "outputs": [],
   "source": []
  }
 ],
 "metadata": {
  "kernelspec": {
   "display_name": "Python 3",
   "language": "python",
   "name": "python3"
  },
  "language_info": {
   "codemirror_mode": {
    "name": "ipython",
    "version": 3
   },
   "file_extension": ".py",
   "mimetype": "text/x-python",
   "name": "python",
   "nbconvert_exporter": "python",
   "pygments_lexer": "ipython3",
   "version": "3.8.5"
  }
 },
 "nbformat": 4,
 "nbformat_minor": 4
}
