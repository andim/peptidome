{
 "cells": [
  {
   "cell_type": "code",
   "execution_count": 1,
   "metadata": {},
   "outputs": [],
   "source": [
    "import numpy as np\n",
    "import pandas as pd\n",
    "import matplotlib.pyplot as plt\n",
    "\n",
    "import sys\n",
    "sys.path.append('..')\n",
    "from lib import *\n",
    "plt.style.use('../peptidome.mplstyle')"
   ]
  },
  {
   "cell_type": "code",
   "execution_count": 18,
   "metadata": {},
   "outputs": [
    {
     "name": "stdout",
     "output_type": "stream",
     "text": [
      "Vaccinia\n",
      "217 56795\n",
      "InfluenzaB\n",
      "11 4721\n",
      "InfluenzaA\n",
      "11 4544\n",
      "CMV\n",
      "190 65574\n",
      "HCV\n",
      "2 3173\n",
      "HBV\n",
      "5 1792\n",
      "HSV1\n",
      "82 40840\n",
      "DENV\n",
      "1 3392\n",
      "HIV\n",
      "9 3568\n",
      "EBV\n",
      "92 44986\n",
      "Ebola\n",
      "9 5494\n"
     ]
    }
   ],
   "source": [
    "proteomes = load_proteomes()\n",
    "for proteome in proteomes[proteomes['type']=='virus'].index:\n",
    "    print(proteome)\n",
    "    df = load_proteome_as_df(proteome)\n",
    "    print(df.shape[0], np.sum(df['Sequence'].str.len()))"
   ]
  },
  {
   "cell_type": "code",
   "execution_count": null,
   "metadata": {},
   "outputs": [],
   "source": []
  }
 ],
 "metadata": {
  "kernelspec": {
   "display_name": "Python 3",
   "language": "python",
   "name": "python3"
  },
  "language_info": {
   "codemirror_mode": {
    "name": "ipython",
    "version": 3
   },
   "file_extension": ".py",
   "mimetype": "text/x-python",
   "name": "python",
   "nbconvert_exporter": "python",
   "pygments_lexer": "ipython3",
   "version": "3.8.5"
  }
 },
 "nbformat": 4,
 "nbformat_minor": 4
}
