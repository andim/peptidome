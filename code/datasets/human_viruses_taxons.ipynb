{
 "cells": [
  {
   "cell_type": "code",
   "execution_count": 1,
   "metadata": {},
   "outputs": [],
   "source": [
    "import numpy as np\n",
    "import pandas as pd\n",
    "import matplotlib.pyplot as plt\n",
    "\n",
    "import sys\n",
    "sys.path.append('..')\n",
    "from lib import *\n",
    "plt.style.use('../peptidome.mplstyle')"
   ]
  },
  {
   "cell_type": "code",
   "execution_count": 2,
   "metadata": {},
   "outputs": [
    {
     "data": {
      "text/plain": [
       "8573"
      ]
     },
     "execution_count": 2,
     "metadata": {},
     "output_type": "execute_result"
    }
   ],
   "source": [
    "path = datadir + 'human-viruses-uniref50.fasta'\n",
    "headers, seqs = list(zip(*[(h, seq) for h, seq in fasta_iter(path,\n",
    "                                                             returndescription=True, returnheader=False)]))\n",
    "len(seqs)"
   ]
  },
  {
   "cell_type": "code",
   "execution_count": 3,
   "metadata": {},
   "outputs": [],
   "source": [
    "taxons = []\n",
    "for h in headers:\n",
    "    m = re.search('(?<=TaxID\\=)[^\\s]+', h)\n",
    "    if m:\n",
    "        taxons.append(m.group(0))\n",
    "    else:\n",
    "        taxons.append('')"
   ]
  },
  {
   "cell_type": "code",
   "execution_count": 4,
   "metadata": {},
   "outputs": [
    {
     "data": {
      "text/plain": [
       "11676      7752\n",
       "11646       236\n",
       "10407       160\n",
       "             58\n",
       "10310        19\n",
       "           ... \n",
       "121791        1\n",
       "11963         1\n",
       "1239565       1\n",
       "1979160       1\n",
       "194443        1\n",
       "Length: 119, dtype: int64"
      ]
     },
     "execution_count": 4,
     "metadata": {},
     "output_type": "execute_result"
    }
   ],
   "source": [
    "pd.Series(taxons).value_counts()"
   ]
  },
  {
   "cell_type": "code",
   "execution_count": 5,
   "metadata": {},
   "outputs": [],
   "source": [
    "taxons = []\n",
    "for h in headers:\n",
    "    m = re.search('(?<=Tax\\=)[\\w\\s]+(?= TaxID)', h)\n",
    "    if m:\n",
    "        taxons.append(m.group(0))\n",
    "    else:\n",
    "        taxons.append('')"
   ]
  },
  {
   "cell_type": "code",
   "execution_count": 6,
   "metadata": {},
   "outputs": [
    {
     "data": {
      "text/plain": [
       "Human immunodeficiency virus 1       7753\n",
       "Lentivirus                            236\n",
       "Hepatitis B virus                     160\n",
       "                                       68\n",
       "Human herpesvirus 2                    19\n",
       "Human cytomegalovirus                  17\n",
       "Human herpesvirus 1                    16\n",
       "Simplexvirus                           13\n",
       "Orthopoxvirus                          13\n",
       "Roseolovirus                           12\n",
       "Orf virus                              11\n",
       "Chordopoxvirinae                       11\n",
       "Molluscum contagiosum virus            10\n",
       "Cytomegalovirus                        10\n",
       "Parapoxvirus                           10\n",
       "Mastadenovirus                          8\n",
       "Human herpesvirus 8                     8\n",
       "Lymphocryptovirus                       8\n",
       "Enterovirus                             7\n",
       "Molluscipoxvirus                        7\n",
       "Cowpox virus                            7\n",
       "Human papillomavirus type 16            6\n",
       "Gammaherpesvirinae                      6\n",
       "Hepatitis E virus                       5\n",
       "Influenza A virus                       4\n",
       "Lyssavirus                              4\n",
       "Papillomaviridae                        4\n",
       "Influenza B virus                       4\n",
       "Human mastadenovirus C                  4\n",
       "Flavivirus                              4\n",
       "Human parvovirus B19                    4\n",
       "Pneumoviridae                           4\n",
       "Vaccinia virus                          4\n",
       "Tanapox virus                           4\n",
       "Retroviridae                            3\n",
       "Enterovirus A                           3\n",
       "Coronaviridae                           3\n",
       "Human mastadenovirus B                  3\n",
       "Poxviridae                              3\n",
       "Rotavirus                               3\n",
       "Human herpesvirus 3                     3\n",
       "Human mastadenovirus E                  3\n",
       "Ebolavirus                              2\n",
       "Human respiratory syncytial virus       2\n",
       "Orthohepadnavirus                       2\n",
       "Rubella virus                           2\n",
       "Astroviridae                            2\n",
       "Picobirnaviridae                        2\n",
       "Banna virus                             2\n",
       "Variola virus                           2\n",
       "dtype: int64"
      ]
     },
     "execution_count": 6,
     "metadata": {},
     "output_type": "execute_result"
    }
   ],
   "source": [
    "pd.Series(taxons).value_counts().head(50)"
   ]
  },
  {
   "cell_type": "code",
   "execution_count": 7,
   "metadata": {},
   "outputs": [],
   "source": [
    "path = datadir + 'human-viruses-swissprot.fasta'"
   ]
  },
  {
   "cell_type": "code",
   "execution_count": 8,
   "metadata": {},
   "outputs": [],
   "source": [
    "headers, seqs = list(zip(*[(h, seq) for h, seq in fasta_iter(path,\n",
    "                                                             returndescription=True, returnheader=False)]))"
   ]
  },
  {
   "cell_type": "code",
   "execution_count": 9,
   "metadata": {},
   "outputs": [],
   "source": [
    "taxons = []\n",
    "for h in headers:\n",
    "    m = re.search('(?<=OS\\=).+(?= OX)', h)\n",
    "    if m:\n",
    "        taxons.append(m.group(0))\n",
    "    else:\n",
    "        taxons.append('')"
   ]
  },
  {
   "cell_type": "code",
   "execution_count": 11,
   "metadata": {},
   "outputs": [
    {
     "data": {
      "text/plain": [
       "Vaccinia virus (strain Copenhagen)                                         257\n",
       "Human cytomegalovirus (strain AD169)                                       193\n",
       "Human cytomegalovirus (strain Merlin)                                      167\n",
       "Variola virus (isolate Human/India/Ind3/1967)                              159\n",
       "Variola virus                                                              107\n",
       "Human herpesvirus 6A (strain Uganda-1102)                                  101\n",
       "Human herpesvirus 6B (strain Z29)                                           98\n",
       "Human herpesvirus 8 type P (isolate GK18)                                   85\n",
       "Vaccinia virus (strain Ankara)                                              82\n",
       "Epstein-Barr virus (strain B95-8)                                           79\n",
       "Human herpesvirus 1 (strain 17)                                             73\n",
       "Human herpesvirus 2 (strain HG52)                                           72\n",
       "Varicella-zoster virus (strain Dumas)                                       69\n",
       "Human herpesvirus 7 (strain JI)                                             63\n",
       "Epstein-Barr virus (strain GD1)                                             56\n",
       "Epstein-Barr virus (strain AG876)                                           56\n",
       "Human adenovirus C serotype 2                                               46\n",
       "Varicella-zoster virus (strain Oka vaccine)                                 46\n",
       "Vaccinia virus (strain Tian Tan)                                            33\n",
       "Human adenovirus C serotype 5                                               31\n",
       "Human cytomegalovirus (strain Towne)                                        29\n",
       "Human adenovirus A serotype 12                                              26\n",
       "Human adenovirus B serotype 7                                               26\n",
       "Vaccinia virus (strain L-IVP)                                               22\n",
       "Human adenovirus F serotype 40                                              20\n",
       "Cowpox virus (strain GRI-90 / Grishak)                                      19\n",
       "Human adenovirus F serotype 41                                              18\n",
       "Cowpox virus (strain Brighton Red)                                          18\n",
       "Molluscum contagiosum virus subtype 1                                       18\n",
       "Human adenovirus B serotype 3                                               15\n",
       "Human SARS coronavirus                                                      15\n",
       "Human herpesvirus 1 (strain F)                                              15\n",
       "Human herpesvirus 6A (strain GS)                                            14\n",
       "Colorado tick fever virus (strain USA/Florio N-7180)                        13\n",
       "Severe acute respiratory syndrome coronavirus 2                             13\n",
       "Influenza A virus (strain A/Brevig Mission/1/1918 H1N1)                     13\n",
       "Influenza A virus (strain A/Puerto Rico/8/1934 H1N1)                        13\n",
       "Influenza A virus (strain A/Goose/Guangdong/1/1996 H5N1 genotype Gs/Gd)     13\n",
       "Human herpesvirus 1 (strain KOS)                                            13\n",
       "Influenza A virus (strain A/Wilson-Smith/1933 H1N1)                         13\n",
       "Influenza A virus (strain A/USA:Iowa/1943 H1N1)                             12\n",
       "Influenza A virus (strain A/Swine/Colorado/1/1977 H3N2)                     12\n",
       "Influenza A virus (strain A/USA:Memphis/10/1996 H1N1)                       12\n",
       "Rotavirus A (strain RVA/Human/Indonesia/69M/1980/G8P4[10])                  12\n",
       "Influenza A virus (strain A/Duck/Hong Kong/2986.1/2000 H5N1 genotype C)     12\n",
       "Rotavirus A (isolate RVA/Human/United States/WI61/1983/G9P1A[8])            12\n",
       "Influenza A virus (strain A/Memphis/101/1972 H3N2)                          12\n",
       "Influenza A virus (strain A/Hong Kong/156/1997 H5N1 genotype Gs/Gd)         12\n",
       "Rotavirus A (strain RVA/Human/Philippines/L26/1987/G12P1B[4])               12\n",
       "Influenza A virus (strain A/USSR/90/1977 H1N1)                              12\n",
       "dtype: int64"
      ]
     },
     "execution_count": 11,
     "metadata": {},
     "output_type": "execute_result"
    }
   ],
   "source": [
    "pd.Series(taxons).value_counts().head(50)"
   ]
  },
  {
   "cell_type": "code",
   "execution_count": null,
   "metadata": {},
   "outputs": [],
   "source": []
  }
 ],
 "metadata": {
  "kernelspec": {
   "display_name": "Python 3",
   "language": "python",
   "name": "python3"
  },
  "language_info": {
   "codemirror_mode": {
    "name": "ipython",
    "version": 3
   },
   "file_extension": ".py",
   "mimetype": "text/x-python",
   "name": "python",
   "nbconvert_exporter": "python",
   "pygments_lexer": "ipython3",
   "version": "3.8.5"
  }
 },
 "nbformat": 4,
 "nbformat_minor": 2
}
