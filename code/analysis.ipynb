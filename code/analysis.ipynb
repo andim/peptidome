{
 "cells": [
  {
   "cell_type": "code",
   "execution_count": 1,
   "metadata": {},
   "outputs": [],
   "source": [
    "import numpy as np\n",
    "import pandas as pd\n",
    "import scipy.stats\n",
    "import seaborn as sns\n",
    "import matplotlib.pyplot as plt\n",
    "% matplotlib inline\n",
    "\n",
    "from lib import *"
   ]
  },
  {
   "cell_type": "code",
   "execution_count": 2,
   "metadata": {},
   "outputs": [],
   "source": [
    "proteome = fasta_iter('/home/amayer/data/proteomes/uniprot-homosapiens-up000005640.fasta')"
   ]
  },
  {
   "cell_type": "code",
   "execution_count": 3,
   "metadata": {},
   "outputs": [],
   "source": [
    "lens = []\n",
    "for seq in proteome:\n",
    "    lens.append(len(seq[1]))"
   ]
  },
  {
   "cell_type": "code",
   "execution_count": 4,
   "metadata": {},
   "outputs": [
    {
     "data": {
      "image/png": "[encoded data removed]",
      "text/plain": [
       "<Figure size 432x288 with 1 Axes>"
      ]
     },
     "metadata": {},
     "output_type": "display_data"
    }
   ],
   "source": [
    "plt.hist(lens, bins=np.logspace(0, 4));"
   ]
  },
  {
   "cell_type": "code",
   "execution_count": 5,
   "metadata": {},
   "outputs": [
    {
     "data": {
      "text/plain": [
       "20"
      ]
     },
     "execution_count": 5,
     "metadata": {},
     "output_type": "execute_result"
    }
   ],
   "source": [
    "proteome = fasta_iter('/home/amayer/data/proteomes/uniprot-neisseriameningitdis-UP000000425.fasta')\n",
    "len(np.unique(list(''.join([seq for h, seq in proteome]))))"
   ]
  },
  {
   "cell_type": "code",
   "execution_count": 6,
   "metadata": {},
   "outputs": [],
   "source": [
    "k = 1\n",
    "proteome = fasta_iter('/home/amayer/data/proteomes/uniprot-homosapiens-up000005640.fasta')\n",
    "counter = defaultdict(int)\n",
    "for header, sequence in proteome:\n",
    "    count_kmers(sequence, k, counter=counter)\n",
    "proteome = fasta_iter('/home/amayer/data/proteomes/uniprot-PlasmodiumFalciparum-up000001450.fasta')\n",
    "counter2 = defaultdict(int)\n",
    "for header, sequence in proteome:\n",
    "    count_kmers(sequence, k, counter=counter2)"
   ]
  },
  {
   "cell_type": "code",
   "execution_count": 7,
   "metadata": {},
   "outputs": [
    {
     "name": "stdout",
     "output_type": "stream",
     "text": [
      "1.137079e+07, 6.400000e+07\n"
     ]
    },
    {
     "data": {
      "text/plain": [
       "Text(0.5,0,'k')"
      ]
     },
     "execution_count": 7,
     "metadata": {},
     "output_type": "execute_result"
    },
    {
     "data": {
      "image/png": "[encoded data removed]",
      "text/plain": [
       "<Figure size 432x288 with 1 Axes>"
      ]
     },
     "metadata": {},
     "output_type": "display_data"
    }
   ],
   "source": [
    "totalpeptides = np.sum(list(counter.values()))\n",
    "print('%e, %e'%(totalpeptides, 20**6))\n",
    "x = np.arange(1, 8)\n",
    "plt.axhline(totalpeptides, color='k')\n",
    "plt.plot(x, 21**x)\n",
    "plt.plot(x, 20**x)\n",
    "plt.yscale('log')\n",
    "plt.xlabel('k')"
   ]
  },
  {
   "cell_type": "code",
   "execution_count": 8,
   "metadata": {},
   "outputs": [
    {
     "data": {
      "text/plain": [
       "(18.09689067969323, 15.695846089968521, 20)"
      ]
     },
     "execution_count": 8,
     "metadata": {},
     "output_type": "execute_result"
    }
   ],
   "source": [
    "2**scipy.stats.entropy(normalize(counter), base=2), 2**scipy.stats.entropy(normalize(counter2), base=2), 20**k"
   ]
  },
  {
   "cell_type": "code",
   "execution_count": 9,
   "metadata": {},
   "outputs": [
    {
     "data": {
      "text/plain": [
       "array([2.13200647e-02, 5.35581034e-02, 6.57225166e-02, 2.66593591e-02,\n",
       "       6.31136391e-02, 4.73929210e-02, 7.10458050e-02, 5.72611000e-02,\n",
       "       9.96074943e-02, 5.64265054e-02, 4.77053004e-02, 1.21853440e-02,\n",
       "       8.32477705e-02, 5.96661217e-02, 3.64800479e-02, 3.58514197e-02,\n",
       "       2.62400391e-02, 4.33489631e-02, 2.29733358e-02, 7.01908953e-02,\n",
       "       3.25395129e-06])"
      ]
     },
     "execution_count": 9,
     "metadata": {},
     "output_type": "execute_result"
    }
   ],
   "source": [
    "normalize(counter)"
   ]
  },
  {
   "cell_type": "code",
   "execution_count": 10,
   "metadata": {},
   "outputs": [
    {
     "data": {
      "text/plain": [
       "Text(0,0.5,'frequency')"
      ]
     },
     "execution_count": 10,
     "metadata": {},
     "output_type": "execute_result"
    },
    {
     "data": {
      "image/png": "[encoded data removed]",
      "text/plain": [
       "<Figure size 432x288 with 1 Axes>"
      ]
     },
     "metadata": {},
     "output_type": "display_data"
    }
   ],
   "source": [
    "bins = np.logspace(-8, 0)\n",
    "plt.hist(normalize(counter), bins=bins, alpha=.5)\n",
    "plt.hist(normalize(counter2), bins=bins, alpha=.5)\n",
    "plt.xscale('log')\n",
    "#plt.yscale('log')\n",
    "plt.xlabel('probability kmer')\n",
    "plt.ylabel('frequency')"
   ]
  },
  {
   "cell_type": "code",
   "execution_count": 11,
   "metadata": {},
   "outputs": [
    {
     "data": {
      "text/plain": [
       "(1.05, 1.0)"
      ]
     },
     "execution_count": 11,
     "metadata": {},
     "output_type": "execute_result"
    }
   ],
   "source": [
    "len(counter.values())/20**k, len(counter2.values())/20**k"
   ]
  },
  {
   "cell_type": "code",
   "execution_count": 12,
   "metadata": {},
   "outputs": [],
   "source": [
    "df = counter_to_df(counter)\n",
    "df2 = counter_to_df(counter2)"
   ]
  },
  {
   "cell_type": "code",
   "execution_count": 13,
   "metadata": {},
   "outputs": [],
   "source": [
    "dfmerged = pd.merge(df, df2, on='seq', suffixes=['_human', '_pathogen'])\n",
    "dfmerged.to_csv('data.csv')"
   ]
  },
  {
   "cell_type": "code",
   "execution_count": 14,
   "metadata": {},
   "outputs": [
    {
     "data": {
      "text/plain": [
       "(0.2346636095557455, 0.24755395990928056)"
      ]
     },
     "execution_count": 14,
     "metadata": {},
     "output_type": "execute_result"
    }
   ],
   "source": [
    "scipy.stats.entropy(dfmerged['freq_human'], dfmerged['freq_pathogen']), scipy.stats.entropy(dfmerged['freq_pathogen'], dfmerged['freq_human'])"
   ]
  },
  {
   "cell_type": "code",
   "execution_count": 15,
   "metadata": {},
   "outputs": [
    {
     "data": {
      "text/plain": [
       "[<matplotlib.lines.Line2D at 0x7fcb5e204668>]"
      ]
     },
     "execution_count": 15,
     "metadata": {},
     "output_type": "execute_result"
    },
    {
     "data": {
      "image/png": "[encoded data removed]",
      "text/plain": [
       "<Figure size 432x288 with 1 Axes>"
      ]
     },
     "metadata": {},
     "output_type": "display_data"
    }
   ],
   "source": [
    "dfmerged.plot(x='freq_human', y='freq_pathogen', kind='scatter', logx=True, logy=True)\n",
    "x = np.logspace(np.log10(np.amin(dfmerged['freq_human'])), np.log10(np.amax(dfmerged['freq_human'])))\n",
    "plt.plot(x, x, 'k', lw=3)\n",
    "plt.plot(x, x*2, '--k', lw=3)"
   ]
  },
  {
   "cell_type": "code",
   "execution_count": 16,
   "metadata": {},
   "outputs": [
    {
     "name": "stderr",
     "output_type": "stream",
     "text": [
      "/home/amayer/anaconda3/lib/python3.6/site-packages/matplotlib/axes/_axes.py:6462: UserWarning: The 'normed' kwarg is deprecated, and has been replaced by the 'density' kwarg.\n",
      "  warnings.warn(\"The 'normed' kwarg is deprecated, and has been \"\n",
      "/home/amayer/anaconda3/lib/python3.6/site-packages/matplotlib/axes/_axes.py:6462: UserWarning: The 'normed' kwarg is deprecated, and has been replaced by the 'density' kwarg.\n",
      "  warnings.warn(\"The 'normed' kwarg is deprecated, and has been \"\n"
     ]
    },
    {
     "data": {
      "text/plain": [
       "[<matplotlib.lines.Line2D at 0x7fcb5a05e9e8>]"
      ]
     },
     "execution_count": 16,
     "metadata": {},
     "output_type": "execute_result"
    },
    {
     "data": {
      "image/png": "[encoded data removed]",
      "text/plain": [
       "<Figure size 432x432 with 3 Axes>"
      ]
     },
     "metadata": {},
     "output_type": "display_data"
    }
   ],
   "source": [
    "j = sns.jointplot(x=np.log10(dfmerged['freq_human']), y=np.log10(dfmerged['freq_pathogen']), kind=\"hex\",\n",
    "                 joint_kws=dict(gridsize=10));\n",
    "x = np.logspace(np.log10(np.amin(dfmerged['freq_human'])), np.log10(np.amax(dfmerged['freq_human'])))\n",
    "j.ax_joint.plot(np.log10(x), np.log10(x), 'b', lw=3)"
   ]
  },
  {
   "cell_type": "code",
   "execution_count": 17,
   "metadata": {},
   "outputs": [],
   "source": [
    "dfmerged['fold'] = dfmerged['freq_pathogen']/dfmerged['freq_human']"
   ]
  },
  {
   "cell_type": "code",
   "execution_count": 18,
   "metadata": {},
   "outputs": [
    {
     "data": {
      "text/html": [
       "<div>\n",
       "<style scoped>\n",
       "    .dataframe tbody tr th:only-of-type {\n",
       "        vertical-align: middle;\n",
       "    }\n",
       "\n",
       "    .dataframe tbody tr th {\n",
       "        vertical-align: top;\n",
       "    }\n",
       "\n",
       "    .dataframe thead th {\n",
       "        text-align: right;\n",
       "    }\n",
       "</style>\n",
       "<table border=\"1\" class=\"dataframe\">\n",
       "  <thead>\n",
       "    <tr style=\"text-align: right;\">\n",
       "      <th></th>\n",
       "      <th>seq</th>\n",
       "      <th>freq_human</th>\n",
       "      <th>freq_pathogen</th>\n",
       "      <th>fold</th>\n",
       "    </tr>\n",
       "  </thead>\n",
       "  <tbody>\n",
       "    <tr>\n",
       "      <th>15</th>\n",
       "      <td>N</td>\n",
       "      <td>0.035851</td>\n",
       "      <td>0.148551</td>\n",
       "      <td>4.143519</td>\n",
       "    </tr>\n",
       "    <tr>\n",
       "      <th>17</th>\n",
       "      <td>I</td>\n",
       "      <td>0.043349</td>\n",
       "      <td>0.091480</td>\n",
       "      <td>2.110320</td>\n",
       "    </tr>\n",
       "    <tr>\n",
       "      <th>7</th>\n",
       "      <td>K</td>\n",
       "      <td>0.057261</td>\n",
       "      <td>0.117360</td>\n",
       "      <td>2.049553</td>\n",
       "    </tr>\n",
       "    <tr>\n",
       "      <th>3</th>\n",
       "      <td>Y</td>\n",
       "      <td>0.026659</td>\n",
       "      <td>0.051345</td>\n",
       "      <td>1.925959</td>\n",
       "    </tr>\n",
       "    <tr>\n",
       "      <th>5</th>\n",
       "      <td>D</td>\n",
       "      <td>0.047393</td>\n",
       "      <td>0.066819</td>\n",
       "      <td>1.409900</td>\n",
       "    </tr>\n",
       "    <tr>\n",
       "      <th>14</th>\n",
       "      <td>F</td>\n",
       "      <td>0.036480</td>\n",
       "      <td>0.039934</td>\n",
       "      <td>1.094687</td>\n",
       "    </tr>\n",
       "    <tr>\n",
       "      <th>6</th>\n",
       "      <td>E</td>\n",
       "      <td>0.071046</td>\n",
       "      <td>0.077431</td>\n",
       "      <td>1.089879</td>\n",
       "    </tr>\n",
       "    <tr>\n",
       "      <th>0</th>\n",
       "      <td>M</td>\n",
       "      <td>0.021320</td>\n",
       "      <td>0.023123</td>\n",
       "      <td>1.084562</td>\n",
       "    </tr>\n",
       "    <tr>\n",
       "      <th>16</th>\n",
       "      <td>H</td>\n",
       "      <td>0.026240</td>\n",
       "      <td>0.022313</td>\n",
       "      <td>0.850324</td>\n",
       "    </tr>\n",
       "    <tr>\n",
       "      <th>8</th>\n",
       "      <td>L</td>\n",
       "      <td>0.099607</td>\n",
       "      <td>0.077088</td>\n",
       "      <td>0.773920</td>\n",
       "    </tr>\n",
       "    <tr>\n",
       "      <th>12</th>\n",
       "      <td>S</td>\n",
       "      <td>0.083248</td>\n",
       "      <td>0.062791</td>\n",
       "      <td>0.754266</td>\n",
       "    </tr>\n",
       "    <tr>\n",
       "      <th>1</th>\n",
       "      <td>T</td>\n",
       "      <td>0.053558</td>\n",
       "      <td>0.040112</td>\n",
       "      <td>0.748938</td>\n",
       "    </tr>\n",
       "    <tr>\n",
       "      <th>18</th>\n",
       "      <td>C</td>\n",
       "      <td>0.022973</td>\n",
       "      <td>0.016539</td>\n",
       "      <td>0.719930</td>\n",
       "    </tr>\n",
       "    <tr>\n",
       "      <th>13</th>\n",
       "      <td>V</td>\n",
       "      <td>0.059666</td>\n",
       "      <td>0.039550</td>\n",
       "      <td>0.662851</td>\n",
       "    </tr>\n",
       "    <tr>\n",
       "      <th>10</th>\n",
       "      <td>Q</td>\n",
       "      <td>0.047705</td>\n",
       "      <td>0.028825</td>\n",
       "      <td>0.604236</td>\n",
       "    </tr>\n",
       "    <tr>\n",
       "      <th>2</th>\n",
       "      <td>G</td>\n",
       "      <td>0.065723</td>\n",
       "      <td>0.029571</td>\n",
       "      <td>0.449931</td>\n",
       "    </tr>\n",
       "    <tr>\n",
       "      <th>9</th>\n",
       "      <td>R</td>\n",
       "      <td>0.056427</td>\n",
       "      <td>0.025217</td>\n",
       "      <td>0.446899</td>\n",
       "    </tr>\n",
       "    <tr>\n",
       "      <th>11</th>\n",
       "      <td>W</td>\n",
       "      <td>0.012185</td>\n",
       "      <td>0.004247</td>\n",
       "      <td>0.348549</td>\n",
       "    </tr>\n",
       "    <tr>\n",
       "      <th>4</th>\n",
       "      <td>P</td>\n",
       "      <td>0.063114</td>\n",
       "      <td>0.017983</td>\n",
       "      <td>0.284923</td>\n",
       "    </tr>\n",
       "    <tr>\n",
       "      <th>19</th>\n",
       "      <td>A</td>\n",
       "      <td>0.070191</td>\n",
       "      <td>0.019722</td>\n",
       "      <td>0.280971</td>\n",
       "    </tr>\n",
       "  </tbody>\n",
       "</table>\n",
       "</div>"
      ],
      "text/plain": [
       "   seq  freq_human  freq_pathogen      fold\n",
       "15   N    0.035851       0.148551  4.143519\n",
       "17   I    0.043349       0.091480  2.110320\n",
       "7    K    0.057261       0.117360  2.049553\n",
       "3    Y    0.026659       0.051345  1.925959\n",
       "5    D    0.047393       0.066819  1.409900\n",
       "14   F    0.036480       0.039934  1.094687\n",
       "6    E    0.071046       0.077431  1.089879\n",
       "0    M    0.021320       0.023123  1.084562\n",
       "16   H    0.026240       0.022313  0.850324\n",
       "8    L    0.099607       0.077088  0.773920\n",
       "12   S    0.083248       0.062791  0.754266\n",
       "1    T    0.053558       0.040112  0.748938\n",
       "18   C    0.022973       0.016539  0.719930\n",
       "13   V    0.059666       0.039550  0.662851\n",
       "10   Q    0.047705       0.028825  0.604236\n",
       "2    G    0.065723       0.029571  0.449931\n",
       "9    R    0.056427       0.025217  0.446899\n",
       "11   W    0.012185       0.004247  0.348549\n",
       "4    P    0.063114       0.017983  0.284923\n",
       "19   A    0.070191       0.019722  0.280971"
      ]
     },
     "execution_count": 18,
     "metadata": {},
     "output_type": "execute_result"
    }
   ],
   "source": [
    "dfmerged[dfmerged['freq_human']>2e-6].sort_values('fold', ascending=False)"
   ]
  },
  {
   "cell_type": "code",
   "execution_count": 158,
   "metadata": {},
   "outputs": [],
   "source": [
    "proteome = fasta_iter('/home/amayer/data/proteomes/uniprot-homosapiens-up000005640.fasta')\n",
    "counter1 = defaultdict(int)\n",
    "for header, sequence in proteome:\n",
    "    count_kmers(sequence, 1, counter=counter1)\n",
    "proteome = fasta_iter('/home/amayer/data/proteomes/uniprot-homosapiens-up000005640.fasta')\n",
    "counter2 = defaultdict(int)\n",
    "for header, sequence in proteome:\n",
    "    #if np.random.rand() < 0.5:\n",
    "    #    sequence = sequence[::-1]\n",
    "    count_kmers(sequence, 2, counter=counter2)\n",
    "    #count_kmers(sequence[::-1], 2, counter=counter2)"
   ]
  },
  {
   "cell_type": "code",
   "execution_count": 159,
   "metadata": {},
   "outputs": [],
   "source": [
    "df1, df2 = counter_to_df(counter1), counter_to_df(counter2)\n",
    "df1.set_index('seq', inplace=True)\n",
    "df2 = df2[~df2['seq'].str.contains('U')]\n",
    "df2['aa1'] = [s[0] for s in df2['seq']]\n",
    "df2['aa2'] = [s[1] for s in df2['seq']]"
   ]
  },
  {
   "cell_type": "code",
   "execution_count": 160,
   "metadata": {},
   "outputs": [],
   "source": [
    "df2['theory'] = [float(df1.loc[s[0]] * df1.loc[s[1]]) for s in df2['seq']]\n",
    "df2['fold'] = np.log2(df2['freq']/df2['theory'])"
   ]
  },
  {
   "cell_type": "code",
   "execution_count": 161,
   "metadata": {},
   "outputs": [],
   "source": [
    "dfmat = df2.pivot(columns='aa1', index='aa2')['fold']"
   ]
  },
  {
   "cell_type": "code",
   "execution_count": 162,
   "metadata": {},
   "outputs": [
    {
     "data": {
      "text/plain": [
       "<matplotlib.axes._subplots.AxesSubplot at 0x7fcb43dfefd0>"
      ]
     },
     "execution_count": 162,
     "metadata": {},
     "output_type": "execute_result"
    },
    {
     "data": {
      "image/png": "[encoded data removed]",
      "text/plain": [
       "<Figure size 396x360 with 2 Axes>"
      ]
     },
     "metadata": {},
     "output_type": "display_data"
    }
   ],
   "source": [
    "plt.figure(figsize=(5.5, 5))\n",
    "sns.heatmap(dfmat, vmin=-0.8, vmax=0.8, cmap='RdBu_r', cbar_kws=dict(label='log$_2$ doublet fold enrichment'))"
   ]
  },
  {
   "cell_type": "code",
   "execution_count": 163,
   "metadata": {},
   "outputs": [],
   "source": [
    "df2 = counter_to_df(counter2, norm=False)\n",
    "df2 = df2[~df2['seq'].str.contains('U')]\n",
    "df2['aa1'] = [s[0] for s in df2['seq']]\n",
    "df2['aa2'] = [s[1] for s in df2['seq']]\n",
    "counts = df2.pivot(columns='aa1', index='aa2')['count']"
   ]
  },
  {
   "cell_type": "code",
   "execution_count": 164,
   "metadata": {},
   "outputs": [
    {
     "data": {
      "text/plain": [
       "Text(0.5,0,'counts of AB')"
      ]
     },
     "execution_count": 164,
     "metadata": {},
     "output_type": "execute_result"
    },
    {
     "data": {
      "image/png": "[encoded data removed]",
      "text/plain": [
       "<Figure size 360x360 with 1 Axes>"
      ]
     },
     "metadata": {},
     "output_type": "display_data"
    }
   ],
   "source": [
    "plt.figure(figsize=(5, 5))\n",
    "x = np.linspace(2e3, 2e5)\n",
    "plt.plot(x, x, 'k')\n",
    "plt.plot(x, x+5*x**.5, 'gray')\n",
    "plt.plot(x, x-5*x**.5, 'gray')\n",
    "arr = np.ma.array(counts, mask=mask)\n",
    "arrT = np.ma.array(counts.T, mask=mask)\n",
    "plt.plot(arr.flatten(), arrT.flatten(), 'o', ms=4)\n",
    "#plt.plot(x, 1.3*x, 'g')\n",
    "#plt.plot(x, x/1.3, 'g')\n",
    "plt.xscale('log')\n",
    "plt.yscale('log')\n",
    "plt.ylabel('counts of BA')\n",
    "plt.xlabel('counts of AB')"
   ]
  },
  {
   "cell_type": "code",
   "execution_count": 157,
   "metadata": {},
   "outputs": [
    {
     "data": {
      "text/plain": [
       "Text(28.5,0.5,'amino acid 2')"
      ]
     },
     "execution_count": 157,
     "metadata": {},
     "output_type": "execute_result"
    },
    {
     "data": {
      "image/png": "[encoded data removed]",
      "text/plain": [
       "<Figure size 396x360 with 2 Axes>"
      ]
     },
     "metadata": {},
     "output_type": "display_data"
    }
   ],
   "source": [
    "plt.figure(figsize=(5.5, 5))\n",
    "fold = np.log2(counts/counts.T)\n",
    "sns.heatmap(fold, mask=mask, vmin=-0.8, vmax=0.8, cmap='RdBu_r',\n",
    "            cbar_kws=dict(label='log$_2$ fold enrichment relative to mirror sequence'))\n",
    "plt.xlabel('amino acid 1')\n",
    "plt.ylabel('amino acid 2')"
   ]
  },
  {
   "cell_type": "code",
   "execution_count": null,
   "metadata": {},
   "outputs": [],
   "source": []
  }
 ],
 "metadata": {
  "kernelspec": {
   "display_name": "Python 3",
   "language": "python",
   "name": "python3"
  },
  "language_info": {
   "codemirror_mode": {
    "name": "ipython",
    "version": 3
   },
   "file_extension": ".py",
   "mimetype": "text/x-python",
   "name": "python",
   "nbconvert_exporter": "python",
   "pygments_lexer": "ipython3",
   "version": "3.6.5"
  }
 },
 "nbformat": 4,
 "nbformat_minor": 2
}
