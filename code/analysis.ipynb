{
 "cells": [
  {
   "cell_type": "code",
   "execution_count": 1,
   "metadata": {},
   "outputs": [],
   "source": [
    "import numpy as np\n",
    "import pandas as pd\n",
    "import scipy.stats\n",
    "import seaborn as sns\n",
    "import matplotlib.pyplot as plt\n",
    "% matplotlib inline\n",
    "\n",
    "from lib import *"
   ]
  },
  {
   "cell_type": "code",
   "execution_count": 2,
   "metadata": {},
   "outputs": [],
   "source": [
    "proteome = fasta_iter('/home/amayer/data/proteomes/uniprot-homosapiens-up000005640.fasta')"
   ]
  },
  {
   "cell_type": "code",
   "execution_count": 3,
   "metadata": {},
   "outputs": [],
   "source": [
    "lens = []\n",
    "for seq in proteome:\n",
    "    lens.append(len(seq[1]))"
   ]
  },
  {
   "cell_type": "code",
   "execution_count": 4,
   "metadata": {},
   "outputs": [
    {
     "data": {
      "image/png": "[encoded data removed]",
      "text/plain": [
       "<Figure size 432x288 with 1 Axes>"
      ]
     },
     "metadata": {},
     "output_type": "display_data"
    }
   ],
   "source": [
    "plt.hist(lens, bins=np.logspace(0, 4));"
   ]
  },
  {
   "cell_type": "code",
   "execution_count": 5,
   "metadata": {},
   "outputs": [
    {
     "data": {
      "text/plain": [
       "20"
      ]
     },
     "execution_count": 5,
     "metadata": {},
     "output_type": "execute_result"
    }
   ],
   "source": [
    "proteome = fasta_iter('/home/amayer/data/proteomes/uniprot-neisseriameningitdis-UP000000425.fasta')\n",
    "len(np.unique(list(''.join([seq for h, seq in proteome]))))"
   ]
  },
  {
   "cell_type": "code",
   "execution_count": 20,
   "metadata": {},
   "outputs": [],
   "source": [
    "k = 1\n",
    "proteome = fasta_iter('/home/amayer/data/proteomes/uniprot-homosapiens-up000005640.fasta')\n",
    "counter = defaultdict(int)\n",
    "for header, sequence in proteome:\n",
    "    count_kmers(sequence, k, counter=counter)\n",
    "proteome = fasta_iter('/home/amayer/data/proteomes/uniprot-PlasmodiumFalciparum-up000001450.fasta')\n",
    "counter2 = defaultdict(int)\n",
    "for header, sequence in proteome:\n",
    "    count_kmers(sequence, k, counter=counter2)"
   ]
  },
  {
   "cell_type": "code",
   "execution_count": 21,
   "metadata": {},
   "outputs": [
    {
     "name": "stdout",
     "output_type": "stream",
     "text": [
      "1.137079e+07, 6.400000e+07\n"
     ]
    },
    {
     "data": {
      "text/plain": [
       "Text(0.5,0,'k')"
      ]
     },
     "execution_count": 21,
     "metadata": {},
     "output_type": "execute_result"
    },
    {
     "data": {
      "image/png": "[encoded data removed]",
      "text/plain": [
       "<Figure size 432x288 with 1 Axes>"
      ]
     },
     "metadata": {},
     "output_type": "display_data"
    }
   ],
   "source": [
    "totalpeptides = np.sum(list(counter.values()))\n",
    "print('%e, %e'%(totalpeptides, 20**6))\n",
    "x = np.arange(1, 8)\n",
    "plt.axhline(totalpeptides, color='k')\n",
    "plt.plot(x, 21**x)\n",
    "plt.plot(x, 20**x)\n",
    "plt.yscale('log')\n",
    "plt.xlabel('k')"
   ]
  },
  {
   "cell_type": "code",
   "execution_count": 22,
   "metadata": {},
   "outputs": [
    {
     "data": {
      "text/plain": [
       "(18.09689067969323, 15.695846089968521, 20)"
      ]
     },
     "execution_count": 22,
     "metadata": {},
     "output_type": "execute_result"
    }
   ],
   "source": [
    "2**scipy.stats.entropy(normalize(counter), base=2), 2**scipy.stats.entropy(normalize(counter2), base=2), 20**k"
   ]
  },
  {
   "cell_type": "code",
   "execution_count": 35,
   "metadata": {},
   "outputs": [
    {
     "data": {
      "text/plain": [
       "array([2.13200647e-02, 5.35581034e-02, 6.57225166e-02, 2.66593591e-02,\n",
       "       6.31136391e-02, 4.73929210e-02, 7.10458050e-02, 5.72611000e-02,\n",
       "       9.96074943e-02, 5.64265054e-02, 4.77053004e-02, 1.21853440e-02,\n",
       "       8.32477705e-02, 5.96661217e-02, 3.64800479e-02, 3.58514197e-02,\n",
       "       2.62400391e-02, 4.33489631e-02, 2.29733358e-02, 7.01908953e-02,\n",
       "       3.25395129e-06])"
      ]
     },
     "execution_count": 35,
     "metadata": {},
     "output_type": "execute_result"
    }
   ],
   "source": [
    "normalize(counter)"
   ]
  },
  {
   "cell_type": "code",
   "execution_count": 44,
   "metadata": {},
   "outputs": [
    {
     "data": {
      "text/plain": [
       "Text(0,0.5,'frequency')"
      ]
     },
     "execution_count": 44,
     "metadata": {},
     "output_type": "execute_result"
    },
    {
     "data": {
      "image/png": "[encoded data removed]",
      "text/plain": [
       "<Figure size 432x288 with 1 Axes>"
      ]
     },
     "metadata": {},
     "output_type": "display_data"
    }
   ],
   "source": [
    "bins = np.logspace(-8, 0)\n",
    "plt.hist(normalize(counter), bins=bins, alpha=.5)\n",
    "plt.hist(normalize(counter2), bins=bins, alpha=.5)\n",
    "plt.xscale('log')\n",
    "#plt.yscale('log')\n",
    "plt.xlabel('probability kmer')\n",
    "plt.ylabel('frequency')"
   ]
  },
  {
   "cell_type": "code",
   "execution_count": 24,
   "metadata": {},
   "outputs": [
    {
     "data": {
      "text/plain": [
       "(1.05, 1.0)"
      ]
     },
     "execution_count": 24,
     "metadata": {},
     "output_type": "execute_result"
    }
   ],
   "source": [
    "len(counter.values())/20**k, len(counter2.values())/20**k"
   ]
  },
  {
   "cell_type": "code",
   "execution_count": 25,
   "metadata": {},
   "outputs": [],
   "source": [
    "df = counter_to_df(counter)\n",
    "df2 = counter_to_df(counter2)"
   ]
  },
  {
   "cell_type": "code",
   "execution_count": 28,
   "metadata": {},
   "outputs": [],
   "source": [
    "dfmerged = pd.merge(df, df2, on='seq', suffixes=['_human', '_pathogen'])\n",
    "dfmerged.to_csv('data.csv')"
   ]
  },
  {
   "cell_type": "code",
   "execution_count": 29,
   "metadata": {},
   "outputs": [
    {
     "data": {
      "text/plain": [
       "(0.2346636095557455, 0.24755395990928056)"
      ]
     },
     "execution_count": 29,
     "metadata": {},
     "output_type": "execute_result"
    }
   ],
   "source": [
    "scipy.stats.entropy(dfmerged['freq_human'], dfmerged['freq_pathogen']), scipy.stats.entropy(dfmerged['freq_pathogen'], dfmerged['freq_human'])"
   ]
  },
  {
   "cell_type": "code",
   "execution_count": 30,
   "metadata": {},
   "outputs": [
    {
     "data": {
      "text/plain": [
       "[<matplotlib.lines.Line2D at 0x7f00411e0390>]"
      ]
     },
     "execution_count": 30,
     "metadata": {},
     "output_type": "execute_result"
    },
    {
     "data": {
      "image/png": "[encoded data removed]",
      "text/plain": [
       "<Figure size 432x288 with 1 Axes>"
      ]
     },
     "metadata": {},
     "output_type": "display_data"
    }
   ],
   "source": [
    "dfmerged.plot(x='freq_human', y='freq_pathogen', kind='scatter', logx=True, logy=True)\n",
    "x = np.logspace(np.log10(np.amin(dfmerged['freq_human'])), np.log10(np.amax(dfmerged['freq_human'])))\n",
    "plt.plot(x, x, 'k', lw=3)\n",
    "plt.plot(x, x*2, '--k', lw=3)"
   ]
  },
  {
   "cell_type": "code",
   "execution_count": 19,
   "metadata": {},
   "outputs": [
    {
     "name": "stderr",
     "output_type": "stream",
     "text": [
      "/home/amayer/anaconda3/lib/python3.6/site-packages/matplotlib/axes/_axes.py:6462: UserWarning: The 'normed' kwarg is deprecated, and has been replaced by the 'density' kwarg.\n",
      "  warnings.warn(\"The 'normed' kwarg is deprecated, and has been \"\n",
      "/home/amayer/anaconda3/lib/python3.6/site-packages/matplotlib/axes/_axes.py:6462: UserWarning: The 'normed' kwarg is deprecated, and has been replaced by the 'density' kwarg.\n",
      "  warnings.warn(\"The 'normed' kwarg is deprecated, and has been \"\n"
     ]
    },
    {
     "data": {
      "text/plain": [
       "[<matplotlib.lines.Line2D at 0x7f0032d8bd30>]"
      ]
     },
     "execution_count": 19,
     "metadata": {},
     "output_type": "execute_result"
    },
    {
     "data": {
      "image/png": "[encoded data removed]",
      "text/plain": [
       "<Figure size 432x432 with 3 Axes>"
      ]
     },
     "metadata": {},
     "output_type": "display_data"
    }
   ],
   "source": [
    "j = sns.jointplot(x=np.log10(dfmerged['freq_human']), y=np.log10(dfmerged['freq_pathogen']), kind=\"hex\",\n",
    "                 joint_kws=dict(gridsize=10));\n",
    "x = np.logspace(np.log10(np.amin(dfmerged['freq_human'])), np.log10(np.amax(dfmerged['freq_human'])))\n",
    "j.ax_joint.plot(np.log10(x), np.log10(x), 'b', lw=3)"
   ]
  },
  {
   "cell_type": "code",
   "execution_count": 16,
   "metadata": {},
   "outputs": [],
   "source": [
    "dfmerged['fold'] = dfmerged['freq_pathogen']/dfmerged['freq_human']"
   ]
  },
  {
   "cell_type": "code",
   "execution_count": 17,
   "metadata": {},
   "outputs": [
    {
     "data": {
      "text/html": [
       "<div>\n",
       "<style scoped>\n",
       "    .dataframe tbody tr th:only-of-type {\n",
       "        vertical-align: middle;\n",
       "    }\n",
       "\n",
       "    .dataframe tbody tr th {\n",
       "        vertical-align: top;\n",
       "    }\n",
       "\n",
       "    .dataframe thead th {\n",
       "        text-align: right;\n",
       "    }\n",
       "</style>\n",
       "<table border=\"1\" class=\"dataframe\">\n",
       "  <thead>\n",
       "    <tr style=\"text-align: right;\">\n",
       "      <th></th>\n",
       "      <th>seq</th>\n",
       "      <th>freq_human</th>\n",
       "      <th>freq_pathogen</th>\n",
       "      <th>fold</th>\n",
       "    </tr>\n",
       "  </thead>\n",
       "  <tbody>\n",
       "    <tr>\n",
       "      <th>21052</th>\n",
       "      <td>NNNN</td>\n",
       "      <td>0.000006</td>\n",
       "      <td>0.009053</td>\n",
       "      <td>1442.053478</td>\n",
       "    </tr>\n",
       "    <tr>\n",
       "      <th>60080</th>\n",
       "      <td>DNNN</td>\n",
       "      <td>0.000003</td>\n",
       "      <td>0.001210</td>\n",
       "      <td>402.565388</td>\n",
       "    </tr>\n",
       "    <tr>\n",
       "      <th>32888</th>\n",
       "      <td>NDNN</td>\n",
       "      <td>0.000002</td>\n",
       "      <td>0.000795</td>\n",
       "      <td>390.896826</td>\n",
       "    </tr>\n",
       "    <tr>\n",
       "      <th>23747</th>\n",
       "      <td>NNND</td>\n",
       "      <td>0.000003</td>\n",
       "      <td>0.001127</td>\n",
       "      <td>386.300119</td>\n",
       "    </tr>\n",
       "    <tr>\n",
       "      <th>8868</th>\n",
       "      <td>NNDN</td>\n",
       "      <td>0.000002</td>\n",
       "      <td>0.000878</td>\n",
       "      <td>354.640937</td>\n",
       "    </tr>\n",
       "    <tr>\n",
       "      <th>2785</th>\n",
       "      <td>NNMN</td>\n",
       "      <td>0.000003</td>\n",
       "      <td>0.000831</td>\n",
       "      <td>323.903185</td>\n",
       "    </tr>\n",
       "    <tr>\n",
       "      <th>10046</th>\n",
       "      <td>NNIN</td>\n",
       "      <td>0.000003</td>\n",
       "      <td>0.000866</td>\n",
       "      <td>264.750210</td>\n",
       "    </tr>\n",
       "    <tr>\n",
       "      <th>42125</th>\n",
       "      <td>NINN</td>\n",
       "      <td>0.000004</td>\n",
       "      <td>0.000860</td>\n",
       "      <td>226.247989</td>\n",
       "    </tr>\n",
       "    <tr>\n",
       "      <th>25689</th>\n",
       "      <td>NNNI</td>\n",
       "      <td>0.000005</td>\n",
       "      <td>0.000908</td>\n",
       "      <td>173.990125</td>\n",
       "    </tr>\n",
       "    <tr>\n",
       "      <th>31280</th>\n",
       "      <td>NDDN</td>\n",
       "      <td>0.000003</td>\n",
       "      <td>0.000486</td>\n",
       "      <td>157.192199</td>\n",
       "    </tr>\n",
       "    <tr>\n",
       "      <th>31279</th>\n",
       "      <td>NNDD</td>\n",
       "      <td>0.000003</td>\n",
       "      <td>0.000481</td>\n",
       "      <td>150.962020</td>\n",
       "    </tr>\n",
       "    <tr>\n",
       "      <th>36620</th>\n",
       "      <td>DDNN</td>\n",
       "      <td>0.000004</td>\n",
       "      <td>0.000623</td>\n",
       "      <td>146.768631</td>\n",
       "    </tr>\n",
       "    <tr>\n",
       "      <th>57470</th>\n",
       "      <td>INNN</td>\n",
       "      <td>0.000004</td>\n",
       "      <td>0.000635</td>\n",
       "      <td>146.511893</td>\n",
       "    </tr>\n",
       "    <tr>\n",
       "      <th>49895</th>\n",
       "      <td>NNYN</td>\n",
       "      <td>0.000002</td>\n",
       "      <td>0.000273</td>\n",
       "      <td>134.188463</td>\n",
       "    </tr>\n",
       "    <tr>\n",
       "      <th>28735</th>\n",
       "      <td>NKNN</td>\n",
       "      <td>0.000004</td>\n",
       "      <td>0.000528</td>\n",
       "      <td>121.865032</td>\n",
       "    </tr>\n",
       "    <tr>\n",
       "      <th>33686</th>\n",
       "      <td>DNND</td>\n",
       "      <td>0.000002</td>\n",
       "      <td>0.000279</td>\n",
       "      <td>121.285726</td>\n",
       "    </tr>\n",
       "    <tr>\n",
       "      <th>49128</th>\n",
       "      <td>NNKN</td>\n",
       "      <td>0.000004</td>\n",
       "      <td>0.000528</td>\n",
       "      <td>119.427732</td>\n",
       "    </tr>\n",
       "    <tr>\n",
       "      <th>20484</th>\n",
       "      <td>HNNN</td>\n",
       "      <td>0.000002</td>\n",
       "      <td>0.000249</td>\n",
       "      <td>117.414905</td>\n",
       "    </tr>\n",
       "    <tr>\n",
       "      <th>36623</th>\n",
       "      <td>NNNY</td>\n",
       "      <td>0.000002</td>\n",
       "      <td>0.000249</td>\n",
       "      <td>112.718309</td>\n",
       "    </tr>\n",
       "    <tr>\n",
       "      <th>33008</th>\n",
       "      <td>NNVN</td>\n",
       "      <td>0.000003</td>\n",
       "      <td>0.000338</td>\n",
       "      <td>112.481505</td>\n",
       "    </tr>\n",
       "    <tr>\n",
       "      <th>47934</th>\n",
       "      <td>KNNN</td>\n",
       "      <td>0.000003</td>\n",
       "      <td>0.000368</td>\n",
       "      <td>112.428171</td>\n",
       "    </tr>\n",
       "    <tr>\n",
       "      <th>36050</th>\n",
       "      <td>SNNN</td>\n",
       "      <td>0.000007</td>\n",
       "      <td>0.000706</td>\n",
       "      <td>107.894777</td>\n",
       "    </tr>\n",
       "    <tr>\n",
       "      <th>31670</th>\n",
       "      <td>NNNK</td>\n",
       "      <td>0.000005</td>\n",
       "      <td>0.000481</td>\n",
       "      <td>100.641347</td>\n",
       "    </tr>\n",
       "    <tr>\n",
       "      <th>33009</th>\n",
       "      <td>NVNN</td>\n",
       "      <td>0.000004</td>\n",
       "      <td>0.000392</td>\n",
       "      <td>98.404873</td>\n",
       "    </tr>\n",
       "    <tr>\n",
       "      <th>51937</th>\n",
       "      <td>NNIY</td>\n",
       "      <td>0.000003</td>\n",
       "      <td>0.000279</td>\n",
       "      <td>92.747908</td>\n",
       "    </tr>\n",
       "    <tr>\n",
       "      <th>57291</th>\n",
       "      <td>YNNN</td>\n",
       "      <td>0.000003</td>\n",
       "      <td>0.000291</td>\n",
       "      <td>91.322704</td>\n",
       "    </tr>\n",
       "    <tr>\n",
       "      <th>45718</th>\n",
       "      <td>DNIN</td>\n",
       "      <td>0.000004</td>\n",
       "      <td>0.000338</td>\n",
       "      <td>86.917527</td>\n",
       "    </tr>\n",
       "    <tr>\n",
       "      <th>24770</th>\n",
       "      <td>NDKN</td>\n",
       "      <td>0.000003</td>\n",
       "      <td>0.000261</td>\n",
       "      <td>84.347034</td>\n",
       "    </tr>\n",
       "    <tr>\n",
       "      <th>45671</th>\n",
       "      <td>IYNN</td>\n",
       "      <td>0.000002</td>\n",
       "      <td>0.000196</td>\n",
       "      <td>82.004060</td>\n",
       "    </tr>\n",
       "    <tr>\n",
       "      <th>60037</th>\n",
       "      <td>NTNN</td>\n",
       "      <td>0.000003</td>\n",
       "      <td>0.000237</td>\n",
       "      <td>81.326341</td>\n",
       "    </tr>\n",
       "    <tr>\n",
       "      <th>...</th>\n",
       "      <td>...</td>\n",
       "      <td>...</td>\n",
       "      <td>...</td>\n",
       "      <td>...</td>\n",
       "    </tr>\n",
       "    <tr>\n",
       "      <th>4200</th>\n",
       "      <td>ALLA</td>\n",
       "      <td>0.000079</td>\n",
       "      <td>0.000006</td>\n",
       "      <td>0.075472</td>\n",
       "    </tr>\n",
       "    <tr>\n",
       "      <th>5922</th>\n",
       "      <td>LPLL</td>\n",
       "      <td>0.000082</td>\n",
       "      <td>0.000006</td>\n",
       "      <td>0.072613</td>\n",
       "    </tr>\n",
       "    <tr>\n",
       "      <th>4930</th>\n",
       "      <td>GSGS</td>\n",
       "      <td>0.000082</td>\n",
       "      <td>0.000006</td>\n",
       "      <td>0.072534</td>\n",
       "    </tr>\n",
       "    <tr>\n",
       "      <th>5546</th>\n",
       "      <td>SSSA</td>\n",
       "      <td>0.000086</td>\n",
       "      <td>0.000006</td>\n",
       "      <td>0.069384</td>\n",
       "    </tr>\n",
       "    <tr>\n",
       "      <th>3967</th>\n",
       "      <td>GPPG</td>\n",
       "      <td>0.000172</td>\n",
       "      <td>0.000012</td>\n",
       "      <td>0.068991</td>\n",
       "    </tr>\n",
       "    <tr>\n",
       "      <th>7160</th>\n",
       "      <td>PLLL</td>\n",
       "      <td>0.000086</td>\n",
       "      <td>0.000006</td>\n",
       "      <td>0.068956</td>\n",
       "    </tr>\n",
       "    <tr>\n",
       "      <th>12150</th>\n",
       "      <td>LAAA</td>\n",
       "      <td>0.000090</td>\n",
       "      <td>0.000006</td>\n",
       "      <td>0.066103</td>\n",
       "    </tr>\n",
       "    <tr>\n",
       "      <th>3826</th>\n",
       "      <td>GGGG</td>\n",
       "      <td>0.000271</td>\n",
       "      <td>0.000018</td>\n",
       "      <td>0.065736</td>\n",
       "    </tr>\n",
       "    <tr>\n",
       "      <th>11562</th>\n",
       "      <td>SSPS</td>\n",
       "      <td>0.000091</td>\n",
       "      <td>0.000006</td>\n",
       "      <td>0.065077</td>\n",
       "    </tr>\n",
       "    <tr>\n",
       "      <th>1262</th>\n",
       "      <td>SPSP</td>\n",
       "      <td>0.000092</td>\n",
       "      <td>0.000006</td>\n",
       "      <td>0.064267</td>\n",
       "    </tr>\n",
       "    <tr>\n",
       "      <th>166</th>\n",
       "      <td>SGSS</td>\n",
       "      <td>0.000092</td>\n",
       "      <td>0.000006</td>\n",
       "      <td>0.064205</td>\n",
       "    </tr>\n",
       "    <tr>\n",
       "      <th>1560</th>\n",
       "      <td>AAAG</td>\n",
       "      <td>0.000093</td>\n",
       "      <td>0.000006</td>\n",
       "      <td>0.063596</td>\n",
       "    </tr>\n",
       "    <tr>\n",
       "      <th>2511</th>\n",
       "      <td>PAPP</td>\n",
       "      <td>0.000094</td>\n",
       "      <td>0.000006</td>\n",
       "      <td>0.062999</td>\n",
       "    </tr>\n",
       "    <tr>\n",
       "      <th>3668</th>\n",
       "      <td>ASSS</td>\n",
       "      <td>0.000096</td>\n",
       "      <td>0.000006</td>\n",
       "      <td>0.061781</td>\n",
       "    </tr>\n",
       "    <tr>\n",
       "      <th>2017</th>\n",
       "      <td>LLAA</td>\n",
       "      <td>0.000097</td>\n",
       "      <td>0.000006</td>\n",
       "      <td>0.060995</td>\n",
       "    </tr>\n",
       "    <tr>\n",
       "      <th>3258</th>\n",
       "      <td>RSRS</td>\n",
       "      <td>0.000098</td>\n",
       "      <td>0.000006</td>\n",
       "      <td>0.060282</td>\n",
       "    </tr>\n",
       "    <tr>\n",
       "      <th>2244</th>\n",
       "      <td>PSSS</td>\n",
       "      <td>0.000099</td>\n",
       "      <td>0.000006</td>\n",
       "      <td>0.059692</td>\n",
       "    </tr>\n",
       "    <tr>\n",
       "      <th>3702</th>\n",
       "      <td>LALL</td>\n",
       "      <td>0.000100</td>\n",
       "      <td>0.000006</td>\n",
       "      <td>0.059218</td>\n",
       "    </tr>\n",
       "    <tr>\n",
       "      <th>4424</th>\n",
       "      <td>SSSG</td>\n",
       "      <td>0.000104</td>\n",
       "      <td>0.000006</td>\n",
       "      <td>0.057199</td>\n",
       "    </tr>\n",
       "    <tr>\n",
       "      <th>9740</th>\n",
       "      <td>LLAL</td>\n",
       "      <td>0.000108</td>\n",
       "      <td>0.000006</td>\n",
       "      <td>0.054771</td>\n",
       "    </tr>\n",
       "    <tr>\n",
       "      <th>2512</th>\n",
       "      <td>PPPA</td>\n",
       "      <td>0.000109</td>\n",
       "      <td>0.000006</td>\n",
       "      <td>0.054637</td>\n",
       "    </tr>\n",
       "    <tr>\n",
       "      <th>7845</th>\n",
       "      <td>PPAP</td>\n",
       "      <td>0.000110</td>\n",
       "      <td>0.000006</td>\n",
       "      <td>0.053761</td>\n",
       "    </tr>\n",
       "    <tr>\n",
       "      <th>8973</th>\n",
       "      <td>PLPP</td>\n",
       "      <td>0.000118</td>\n",
       "      <td>0.000006</td>\n",
       "      <td>0.050220</td>\n",
       "    </tr>\n",
       "    <tr>\n",
       "      <th>20976</th>\n",
       "      <td>IHTG</td>\n",
       "      <td>0.000177</td>\n",
       "      <td>0.000006</td>\n",
       "      <td>0.033564</td>\n",
       "    </tr>\n",
       "    <tr>\n",
       "      <th>14353</th>\n",
       "      <td>QQQQ</td>\n",
       "      <td>0.000199</td>\n",
       "      <td>0.000006</td>\n",
       "      <td>0.029886</td>\n",
       "    </tr>\n",
       "    <tr>\n",
       "      <th>18187</th>\n",
       "      <td>TGEK</td>\n",
       "      <td>0.000272</td>\n",
       "      <td>0.000006</td>\n",
       "      <td>0.021798</td>\n",
       "    </tr>\n",
       "    <tr>\n",
       "      <th>21012</th>\n",
       "      <td>GEKP</td>\n",
       "      <td>0.000285</td>\n",
       "      <td>0.000006</td>\n",
       "      <td>0.020817</td>\n",
       "    </tr>\n",
       "    <tr>\n",
       "      <th>1644</th>\n",
       "      <td>LLLL</td>\n",
       "      <td>0.000319</td>\n",
       "      <td>0.000006</td>\n",
       "      <td>0.018611</td>\n",
       "    </tr>\n",
       "    <tr>\n",
       "      <th>1559</th>\n",
       "      <td>AAAA</td>\n",
       "      <td>0.000392</td>\n",
       "      <td>0.000006</td>\n",
       "      <td>0.015145</td>\n",
       "    </tr>\n",
       "    <tr>\n",
       "      <th>3288</th>\n",
       "      <td>PPPP</td>\n",
       "      <td>0.000434</td>\n",
       "      <td>0.000006</td>\n",
       "      <td>0.013665</td>\n",
       "    </tr>\n",
       "  </tbody>\n",
       "</table>\n",
       "<p>55126 rows × 4 columns</p>\n",
       "</div>"
      ],
      "text/plain": [
       "        seq  freq_human  freq_pathogen         fold\n",
       "21052  NNNN    0.000006       0.009053  1442.053478\n",
       "60080  DNNN    0.000003       0.001210   402.565388\n",
       "32888  NDNN    0.000002       0.000795   390.896826\n",
       "23747  NNND    0.000003       0.001127   386.300119\n",
       "8868   NNDN    0.000002       0.000878   354.640937\n",
       "2785   NNMN    0.000003       0.000831   323.903185\n",
       "10046  NNIN    0.000003       0.000866   264.750210\n",
       "42125  NINN    0.000004       0.000860   226.247989\n",
       "25689  NNNI    0.000005       0.000908   173.990125\n",
       "31280  NDDN    0.000003       0.000486   157.192199\n",
       "31279  NNDD    0.000003       0.000481   150.962020\n",
       "36620  DDNN    0.000004       0.000623   146.768631\n",
       "57470  INNN    0.000004       0.000635   146.511893\n",
       "49895  NNYN    0.000002       0.000273   134.188463\n",
       "28735  NKNN    0.000004       0.000528   121.865032\n",
       "33686  DNND    0.000002       0.000279   121.285726\n",
       "49128  NNKN    0.000004       0.000528   119.427732\n",
       "20484  HNNN    0.000002       0.000249   117.414905\n",
       "36623  NNNY    0.000002       0.000249   112.718309\n",
       "33008  NNVN    0.000003       0.000338   112.481505\n",
       "47934  KNNN    0.000003       0.000368   112.428171\n",
       "36050  SNNN    0.000007       0.000706   107.894777\n",
       "31670  NNNK    0.000005       0.000481   100.641347\n",
       "33009  NVNN    0.000004       0.000392    98.404873\n",
       "51937  NNIY    0.000003       0.000279    92.747908\n",
       "57291  YNNN    0.000003       0.000291    91.322704\n",
       "45718  DNIN    0.000004       0.000338    86.917527\n",
       "24770  NDKN    0.000003       0.000261    84.347034\n",
       "45671  IYNN    0.000002       0.000196    82.004060\n",
       "60037  NTNN    0.000003       0.000237    81.326341\n",
       "...     ...         ...            ...          ...\n",
       "4200   ALLA    0.000079       0.000006     0.075472\n",
       "5922   LPLL    0.000082       0.000006     0.072613\n",
       "4930   GSGS    0.000082       0.000006     0.072534\n",
       "5546   SSSA    0.000086       0.000006     0.069384\n",
       "3967   GPPG    0.000172       0.000012     0.068991\n",
       "7160   PLLL    0.000086       0.000006     0.068956\n",
       "12150  LAAA    0.000090       0.000006     0.066103\n",
       "3826   GGGG    0.000271       0.000018     0.065736\n",
       "11562  SSPS    0.000091       0.000006     0.065077\n",
       "1262   SPSP    0.000092       0.000006     0.064267\n",
       "166    SGSS    0.000092       0.000006     0.064205\n",
       "1560   AAAG    0.000093       0.000006     0.063596\n",
       "2511   PAPP    0.000094       0.000006     0.062999\n",
       "3668   ASSS    0.000096       0.000006     0.061781\n",
       "2017   LLAA    0.000097       0.000006     0.060995\n",
       "3258   RSRS    0.000098       0.000006     0.060282\n",
       "2244   PSSS    0.000099       0.000006     0.059692\n",
       "3702   LALL    0.000100       0.000006     0.059218\n",
       "4424   SSSG    0.000104       0.000006     0.057199\n",
       "9740   LLAL    0.000108       0.000006     0.054771\n",
       "2512   PPPA    0.000109       0.000006     0.054637\n",
       "7845   PPAP    0.000110       0.000006     0.053761\n",
       "8973   PLPP    0.000118       0.000006     0.050220\n",
       "20976  IHTG    0.000177       0.000006     0.033564\n",
       "14353  QQQQ    0.000199       0.000006     0.029886\n",
       "18187  TGEK    0.000272       0.000006     0.021798\n",
       "21012  GEKP    0.000285       0.000006     0.020817\n",
       "1644   LLLL    0.000319       0.000006     0.018611\n",
       "1559   AAAA    0.000392       0.000006     0.015145\n",
       "3288   PPPP    0.000434       0.000006     0.013665\n",
       "\n",
       "[55126 rows x 4 columns]"
      ]
     },
     "execution_count": 17,
     "metadata": {},
     "output_type": "execute_result"
    }
   ],
   "source": [
    "dfmerged[dfmerged['freq_human']>2e-6].sort_values('fold', ascending=False)"
   ]
  },
  {
   "cell_type": "code",
   "execution_count": 18,
   "metadata": {},
   "outputs": [
    {
     "data": {
      "text/plain": [
       "freq_human        0.000004\n",
       "freq_pathogen     0.000190\n",
       "fold             48.795805\n",
       "Name: TNNN, dtype: float64"
      ]
     },
     "execution_count": 18,
     "metadata": {},
     "output_type": "execute_result"
    }
   ],
   "source": [
    "dfm = dfmerged.set_index('seq')\n",
    "dfm.loc['TNNN']"
   ]
  },
  {
   "cell_type": "code",
   "execution_count": null,
   "metadata": {},
   "outputs": [],
   "source": []
  }
 ],
 "metadata": {
  "kernelspec": {
   "display_name": "Python 3",
   "language": "python",
   "name": "python3"
  },
  "language_info": {
   "codemirror_mode": {
    "name": "ipython",
    "version": 3
   },
   "file_extension": ".py",
   "mimetype": "text/x-python",
   "name": "python",
   "nbconvert_exporter": "python",
   "pygments_lexer": "ipython3",
   "version": "3.6.5"
  }
 },
 "nbformat": 4,
 "nbformat_minor": 2
}
