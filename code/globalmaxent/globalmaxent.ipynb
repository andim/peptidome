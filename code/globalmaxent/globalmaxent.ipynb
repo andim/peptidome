{
 "cells": [
  {
   "cell_type": "code",
   "execution_count": 1,
   "metadata": {},
   "outputs": [],
   "source": [
    "import sys\n",
    "sys.path.append('..')\n",
    "import itertools, copy\n",
    "import re\n",
    "import json\n",
    "import numpy as np\n",
    "import scipy.misc\n",
    "from scipy.stats import binom\n",
    "from sklearn.model_selection import train_test_split\n",
    "import pandas as pd\n",
    "import seaborn as sns\n",
    "import matplotlib.pyplot as plt\n",
    "import matplotlib\n",
    "%matplotlib inline\n",
    "\n",
    "plt.style.use('../peptidome.mplstyle')\n",
    "\n",
    "from lib import *\n",
    "from lib.maxent import *\n",
    "\n",
    "%load_ext autoreload\n",
    "%autoreload 2"
   ]
  },
  {
   "cell_type": "code",
   "execution_count": 2,
   "metadata": {},
   "outputs": [],
   "source": [
    "humanseqs = [s for s in fasta_iter(human, returnheader=False)]\n"
   ]
  },
  {
   "cell_type": "code",
   "execution_count": 3,
   "metadata": {},
   "outputs": [],
   "source": [
    "train, test = train_test_split(humanseqs, test_size=0.5)\n"
   ]
  },
  {
   "cell_type": "code",
   "execution_count": 4,
   "metadata": {},
   "outputs": [],
   "source": [
    "k = 3\n"
   ]
  },
  {
   "cell_type": "code",
   "execution_count": 5,
   "metadata": {},
   "outputs": [],
   "source": [
    "kmers = [''.join(s) for s in itertools.product(aminoacids, repeat=k)]\n",
    "df = pd.DataFrame.from_dict(dict(seq=kmers, freq=np.zeros(len(kmers))))\n",
    "df.set_index('seq', inplace=True)\n",
    "df['freq'] = df.add(count(train, k), fill_value=0.0)\n",
    "df['freq_test'] = np.zeros(len(kmers))\n",
    "df['freq_test'] = df['freq_test'].add(count(test, k)['freq'], fill_value=0.0)\n",
    "jsd_test = calc_jsd(df['freq_test'], df['freq'])\n",
    "jsd_flat = calc_jsd(df['freq_test'], np.ones_like(df['freq']), base=2)\n",
    "\n",
    "\n",
    "#df_test.set_index('seq', inplace=True)\n",
    "#df_count = counter_to_df(count_kmers_iterable(test, k), norm=False)\n",
    "#df_count.set_index('seq', inplace=True)\n",
    "#df_test = df_test.add(df_count, fill_value=0.0)\n",
    "#df_test['freq'] = df_test['count'] / np.sum(df_test['count'])\n",
    "\n",
    "\n",
    "tripletparams = calc_tripletmodelparams(train)\n",
    "#kmers = df.index\n",
    "df['freq_ind'] = np.array([10**(loglikelihood_independent(s, **tripletparams)) for s in kmers])\n",
    "df['freq_mc'] = np.array([10**(loglikelihood_mc(s, **tripletparams)) for s in kmers])\n",
    "df['freq_tri'] = np.array([10**(loglikelihood_triplet(s, **tripletparams)) for s in kmers])\n",
    "jsd_ind = calc_jsd(df['freq_test'], df['freq_ind'], base=2)\n",
    "jsd_mc = calc_jsd(df['freq_test'], df['freq_mc'], base=2)\n",
    "jsd_tri = calc_jsd(df['freq_test'], df['freq_tri'], base=2)"
   ]
  },
  {
   "cell_type": "code",
   "execution_count": 6,
   "metadata": {},
   "outputs": [],
   "source": [
    "aacountss = []\n",
    "#for seq in np.random.choice(humanseqs, 1000, replace=False):\n",
    "for seq in train:\n",
    "    seq = seq.strip('X')\n",
    "    if not isvalidaa(seq):\n",
    "        seq = re.sub('X|U', '', seq)\n",
    "        if not isvalidaa(seq):\n",
    "            print(seq)\n",
    "    seq = map_aatonumber(seq)\n",
    "    for i in range(len(seq)-k):\n",
    "        #if isvalidaa(seq[i:i+k]):\n",
    "        #print(seq[i:i+k], aacounts(seq[i:i+k]))\n",
    "        aacountss.append(aacounts_int(seq[i:i+k]))"
   ]
  },
  {
   "cell_type": "code",
   "execution_count": 44,
   "metadata": {},
   "outputs": [
    {
     "name": "stdout",
     "output_type": "stream",
     "text": [
      "A 0.07018196319094387 [0.80916578 0.17231273 0.0173313  0.00119019]\n",
      "C 0.0230518411129529 [9.33056429e-01 6.47747237e-02 2.12573121e-03 4.31157313e-05]\n",
      "D 0.04751265640647439 [8.65330503e-01 1.27051639e-01 7.36723431e-03 2.50623661e-04]\n",
      "E 0.07104289911013449 [0.80831139 0.17162396 0.01868921 0.00137544]\n",
      "F 0.03642254924194759 [8.95360441e-01 1.00090155e-01 4.47071103e-03 7.86935267e-05]\n",
      "G 0.0651804495280772 [8.19793028e-01 1.65643908e-01 1.37917429e-02 7.71321347e-04]\n",
      "H 0.026185023932931942 [9.24073474e-01 7.33913854e-02 2.44172513e-03 9.34153731e-05]\n",
      "I 0.043559198005213164 [8.75960026e-01 1.17522398e-01 6.39752031e-03 1.20054905e-04]\n",
      "K 0.05764134520755409 [8.40720483e-01 1.46186534e-01 1.25414375e-02 5.51545212e-04]\n",
      "L 0.09976095693871588 [0.73159094 0.23897938 0.02798553 0.00144414]\n",
      "M 0.02024943247866004 [9.40738078e-01 5.77927128e-02 1.45203148e-03 1.71772400e-05]\n",
      "N 0.03617338783220694 [8.95955799e-01 9.96479737e-02 4.31648216e-03 7.97450872e-05]\n",
      "P 0.06315935031790425 [0.82867275 0.15436119 0.0157813  0.00118476]\n",
      "Q 0.04760332428640815 [8.66062564e-01 1.25559124e-01 7.88407627e-03 4.94235167e-04]\n",
      "R 0.05632414888740814 [8.43751431e-01 1.44027681e-01 1.17178904e-02 5.02998171e-04]\n",
      "S 0.08343197554677932 [0.77624353 0.19872057 0.02353235 0.00150356]\n",
      "T 0.05390725400291096 [8.48410194e-01 1.41818527e-01 9.41059153e-03 3.60686989e-04]\n",
      "V 0.0597070188973594 [8.32553539e-01 1.56062440e-01 1.10934388e-02 2.90582959e-04]\n",
      "W 0.012168423999460666 [9.64093587e-01 3.53129792e-02 5.87999307e-04 5.43481496e-06]\n",
      "Y 0.026736801075956666 [9.22503319e-01 7.48229097e-02 2.63381017e-03 3.99610499e-05]\n"
     ]
    },
    {
     "data": {
      "image/png": "[encoded data removed]",
      "text/plain": [
       "<Figure size 432x288 with 1 Axes>"
      ]
     },
     "metadata": {
      "needs_background": "light"
     },
     "output_type": "display_data"
    }
   ],
   "source": [
    "pseudocount = 1e-2\n",
    "aafreqs = np.mean(np.asarray(aacountss), axis=0)/k\n",
    "prob_aa_ks = prob_aa(aacountss, k, pseudocount=pseudocount)\n",
    "for i in range(len(aminoacids)):\n",
    "    aa = map_numbertoaa([i])[0]\n",
    "    prob_aa_k = prob_aa_ks[i]\n",
    "    print(aa, aafreqs[i], prob_aa_k)\n",
    "    if i >16:\n",
    "        l, = plt.plot(prob_aa_k, label=aa)\n",
    "        x = np.arange(0, k+1, 1)\n",
    "        n = k\n",
    "        p = aafreqs[i]\n",
    "        plt.plot(x, binom.pmf(x, n, p), '--', c=l.get_color())\n",
    "plt.legend()\n",
    "plt.yscale('log')\n",
    "fks = np.asarray(prob_aa_ks)"
   ]
  },
  {
   "cell_type": "code",
   "execution_count": 45,
   "metadata": {},
   "outputs": [
    {
     "name": "stdout",
     "output_type": "stream",
     "text": [
      "A 1.0625771941793762\n",
      "C 1.0195649023022253\n",
      "D 1.0198392910670318\n",
      "E 1.077522672501814\n",
      "F 1.0138094683680006\n",
      "G 1.036764862445943\n",
      "H 1.0173861616040063\n",
      "I 1.0170495603845016\n",
      "K 1.0518972712591002\n",
      "L 1.0182700744915758\n",
      "M 1.0091885943746781\n",
      "N 1.0120498490975285\n",
      "P 1.0830176561123857\n",
      "Q 1.0377695511885143\n",
      "R 1.0465291072434337\n",
      "S 1.0624230391457272\n",
      "T 1.0231977957502412\n",
      "V 1.0150855582618494\n",
      "W 1.0088789308278159\n",
      "Y 1.0156053703525478\n"
     ]
    }
   ],
   "source": [
    "for i, aa in enumerate(aminoacids):\n",
    "    dist = scipy.stats.rv_discrete(values=(np.arange(k+1), prob_aa_ks[i]))\n",
    "    print(aa, dist.var()/(dist.mean()*(1-dist.mean()/k)))"
   ]
  },
  {
   "cell_type": "code",
   "execution_count": 8,
   "metadata": {},
   "outputs": [],
   "source": [
    "# evaluate empirical observables for fitting\n",
    "df0 = count(train, 1)\n",
    "df1 = count(train, 2, gap=0)\n",
    "dfgap1 = count(train, 2, gap=1)\n",
    "if k == 4:\n",
    "    dfgap2 = count(train, 2, gap=2)"
   ]
  },
  {
   "cell_type": "code",
   "execution_count": 9,
   "metadata": {},
   "outputs": [
    {
     "name": "stdout",
     "output_type": "stream",
     "text": [
      "[ 0.45372895 -0.65964851  0.06305901  0.46478129 -0.20277892  0.37814671\n",
      " -0.53260975 -0.0245608   0.25711263  0.80430225 -0.73222319 -0.20974447\n",
      "  0.34726576  0.0645158   0.23295415  0.62676144  0.18877261  0.29108636\n",
      " -1.29886505 -0.51205627]\n",
      "iteration 0\n",
      "f1 6.4331098127172665e-06\n",
      "f2, gap 0 0.002384177887086923\n",
      "f2, gap 1 0.001963444279899073\n",
      "iteration 1\n",
      "f1 5.311625918338817e-06\n",
      "f2, gap 0 0.0017391698645377244\n",
      "f2, gap 1 0.0013212536337933634\n",
      "iteration 2\n",
      "f1 1.1357785609720052e-05\n",
      "f2, gap 0 0.0011039446554275954\n",
      "f2, gap 1 0.0009683778291910818\n",
      "iteration 3\n",
      "f1 1.2602404368973092e-05\n",
      "f2, gap 0 0.0007024574157963314\n",
      "f2, gap 1 0.0007356535850437341\n",
      "iteration 4\n",
      "f1 8.006796881827585e-06\n",
      "f2, gap 0 0.0005425770284775988\n",
      "f2, gap 1 0.0005897652759192061\n",
      "iteration 5\n"
     ]
    },
    {
     "ename": "KeyboardInterrupt",
     "evalue": "",
     "output_type": "error",
     "traceback": [
      "\u001b[0;31m---------------------------------------------------------------------------\u001b[0m",
      "\u001b[0;31mKeyboardInterrupt\u001b[0m                         Traceback (most recent call last)",
      "\u001b[0;32m<ipython-input-9-09a14c965d89>\u001b[0m in \u001b[0;36m<module>\u001b[0;34m\u001b[0m\n\u001b[1;32m      1\u001b[0m \u001b[0margs\u001b[0m \u001b[0;34m=\u001b[0m \u001b[0;34m[\u001b[0m\u001b[0mdf1\u001b[0m\u001b[0;34m,\u001b[0m \u001b[0mdfgap1\u001b[0m\u001b[0;34m,\u001b[0m \u001b[0mdfgap2\u001b[0m\u001b[0;34m]\u001b[0m \u001b[0;32mif\u001b[0m \u001b[0mk\u001b[0m \u001b[0;34m==\u001b[0m \u001b[0;36m4\u001b[0m \u001b[0;32melse\u001b[0m \u001b[0;34m[\u001b[0m\u001b[0mdf1\u001b[0m\u001b[0;34m,\u001b[0m \u001b[0mdfgap1\u001b[0m\u001b[0;34m]\u001b[0m\u001b[0;34m\u001b[0m\u001b[0;34m\u001b[0m\u001b[0m\n\u001b[0;32m----> 2\u001b[0;31m \u001b[0mh\u001b[0m\u001b[0;34m,\u001b[0m \u001b[0mJk\u001b[0m \u001b[0;34m=\u001b[0m \u001b[0mfit_ising\u001b[0m\u001b[0;34m(\u001b[0m\u001b[0mdf0\u001b[0m\u001b[0;34m,\u001b[0m \u001b[0margs\u001b[0m\u001b[0;34m,\u001b[0m \u001b[0mnmcmc\u001b[0m\u001b[0;34m=\u001b[0m\u001b[0;36m5e5\u001b[0m\u001b[0;34m,\u001b[0m \u001b[0mniter\u001b[0m\u001b[0;34m=\u001b[0m\u001b[0;36m10\u001b[0m\u001b[0;34m,\u001b[0m \u001b[0mepsilon\u001b[0m\u001b[0;34m=\u001b[0m\u001b[0;36m0.2\u001b[0m\u001b[0;34m,\u001b[0m \u001b[0mN\u001b[0m\u001b[0;34m=\u001b[0m\u001b[0mk\u001b[0m\u001b[0;34m,\u001b[0m \u001b[0moutput\u001b[0m\u001b[0;34m=\u001b[0m\u001b[0;32mTrue\u001b[0m\u001b[0;34m)\u001b[0m\u001b[0;34m\u001b[0m\u001b[0;34m\u001b[0m\u001b[0m\n\u001b[0m",
      "\u001b[0;32m~/repos/peptidome/code/lib/maxent.py\u001b[0m in \u001b[0;36mfit_ising\u001b[0;34m(f1, f2s, niter, nmcmc, epsilon, Jk, prng, output, N)\u001b[0m\n\u001b[1;32m     84\u001b[0m             \u001b[0;32mreturn\u001b[0m \u001b[0mclib\u001b[0m\u001b[0;34m.\u001b[0m\u001b[0menergy\u001b[0m\u001b[0;34m(\u001b[0m\u001b[0mx\u001b[0m\u001b[0;34m,\u001b[0m \u001b[0mh\u001b[0m\u001b[0;34m,\u001b[0m \u001b[0mJk\u001b[0m\u001b[0;34m)\u001b[0m\u001b[0;34m\u001b[0m\u001b[0;34m\u001b[0m\u001b[0m\n\u001b[1;32m     85\u001b[0m         \u001b[0mx0\u001b[0m \u001b[0;34m=\u001b[0m \u001b[0mjump\u001b[0m\u001b[0;34m(\u001b[0m\u001b[0;32mNone\u001b[0m\u001b[0;34m)\u001b[0m\u001b[0;34m\u001b[0m\u001b[0;34m\u001b[0m\u001b[0m\n\u001b[0;32m---> 86\u001b[0;31m         \u001b[0msamples\u001b[0m \u001b[0;34m=\u001b[0m \u001b[0mmcmcsampler\u001b[0m\u001b[0;34m(\u001b[0m\u001b[0mx0\u001b[0m\u001b[0;34m,\u001b[0m \u001b[0menergy\u001b[0m\u001b[0;34m,\u001b[0m \u001b[0mjump\u001b[0m\u001b[0;34m,\u001b[0m \u001b[0mnmcmc\u001b[0m\u001b[0;34m,\u001b[0m \u001b[0mprng\u001b[0m\u001b[0;34m=\u001b[0m\u001b[0mprng\u001b[0m\u001b[0;34m)\u001b[0m\u001b[0;34m\u001b[0m\u001b[0;34m\u001b[0m\u001b[0m\n\u001b[0m\u001b[1;32m     87\u001b[0m         \u001b[0msamples\u001b[0m \u001b[0;34m=\u001b[0m \u001b[0;34m[\u001b[0m\u001b[0;34m''\u001b[0m\u001b[0;34m.\u001b[0m\u001b[0mjoin\u001b[0m\u001b[0;34m(\u001b[0m\u001b[0maas_arr\u001b[0m\u001b[0;34m[\u001b[0m\u001b[0ms\u001b[0m\u001b[0;34m]\u001b[0m\u001b[0;34m)\u001b[0m \u001b[0;32mfor\u001b[0m \u001b[0ms\u001b[0m \u001b[0;32min\u001b[0m \u001b[0msamples\u001b[0m\u001b[0;34m]\u001b[0m\u001b[0;34m\u001b[0m\u001b[0;34m\u001b[0m\u001b[0m\n\u001b[1;32m     88\u001b[0m         \u001b[0mf1_model\u001b[0m \u001b[0;34m=\u001b[0m \u001b[0mcount\u001b[0m\u001b[0;34m(\u001b[0m\u001b[0msamples\u001b[0m\u001b[0;34m,\u001b[0m \u001b[0;36m1\u001b[0m\u001b[0;34m)\u001b[0m\u001b[0;34m\u001b[0m\u001b[0;34m\u001b[0m\u001b[0m\n",
      "\u001b[0;32m~/repos/peptidome/code/lib/main.py\u001b[0m in \u001b[0;36mmcmcsampler\u001b[0;34m(x0, energy, jump, nsteps, nburnin, nsample, prng)\u001b[0m\n\u001b[1;32m    392\u001b[0m     \u001b[0;32mfor\u001b[0m \u001b[0mi\u001b[0m \u001b[0;32min\u001b[0m \u001b[0mrange\u001b[0m\u001b[0;34m(\u001b[0m\u001b[0mnsteps\u001b[0m\u001b[0;34m)\u001b[0m\u001b[0;34m:\u001b[0m\u001b[0;34m\u001b[0m\u001b[0;34m\u001b[0m\u001b[0m\n\u001b[1;32m    393\u001b[0m         \u001b[0mxp\u001b[0m \u001b[0;34m=\u001b[0m \u001b[0mjump\u001b[0m\u001b[0;34m(\u001b[0m\u001b[0mx\u001b[0m\u001b[0;34m)\u001b[0m\u001b[0;34m\u001b[0m\u001b[0;34m\u001b[0m\u001b[0m\n\u001b[0;32m--> 394\u001b[0;31m         \u001b[0mExp\u001b[0m \u001b[0;34m=\u001b[0m \u001b[0menergy\u001b[0m\u001b[0;34m(\u001b[0m\u001b[0mxp\u001b[0m\u001b[0;34m)\u001b[0m\u001b[0;34m\u001b[0m\u001b[0;34m\u001b[0m\u001b[0m\n\u001b[0m\u001b[1;32m    395\u001b[0m         \u001b[0;32mif\u001b[0m \u001b[0mprng\u001b[0m\u001b[0;34m.\u001b[0m\u001b[0mrand\u001b[0m\u001b[0;34m(\u001b[0m\u001b[0;34m)\u001b[0m \u001b[0;34m<\u001b[0m \u001b[0mnp\u001b[0m\u001b[0;34m.\u001b[0m\u001b[0mexp\u001b[0m\u001b[0;34m(\u001b[0m\u001b[0;34m-\u001b[0m\u001b[0mExp\u001b[0m\u001b[0;34m+\u001b[0m\u001b[0mEx\u001b[0m\u001b[0;34m)\u001b[0m\u001b[0;34m:\u001b[0m\u001b[0;34m\u001b[0m\u001b[0;34m\u001b[0m\u001b[0m\n\u001b[1;32m    396\u001b[0m             \u001b[0mx\u001b[0m \u001b[0;34m=\u001b[0m \u001b[0mxp\u001b[0m\u001b[0;34m\u001b[0m\u001b[0;34m\u001b[0m\u001b[0m\n",
      "\u001b[0;32m~/repos/peptidome/code/lib/maxent.py\u001b[0m in \u001b[0;36menergy\u001b[0;34m(x)\u001b[0m\n\u001b[1;32m     81\u001b[0m         \u001b[0;32mdef\u001b[0m \u001b[0mjump\u001b[0m\u001b[0;34m(\u001b[0m\u001b[0mx\u001b[0m\u001b[0;34m)\u001b[0m\u001b[0;34m:\u001b[0m\u001b[0;34m\u001b[0m\u001b[0;34m\u001b[0m\u001b[0m\n\u001b[1;32m     82\u001b[0m             \u001b[0;32mreturn\u001b[0m \u001b[0mprng\u001b[0m\u001b[0;34m.\u001b[0m\u001b[0mrandint\u001b[0m\u001b[0;34m(\u001b[0m\u001b[0mq\u001b[0m\u001b[0;34m,\u001b[0m \u001b[0msize\u001b[0m\u001b[0;34m=\u001b[0m\u001b[0mN\u001b[0m\u001b[0;34m)\u001b[0m\u001b[0;34m\u001b[0m\u001b[0;34m\u001b[0m\u001b[0m\n\u001b[0;32m---> 83\u001b[0;31m         \u001b[0;32mdef\u001b[0m \u001b[0menergy\u001b[0m\u001b[0;34m(\u001b[0m\u001b[0mx\u001b[0m\u001b[0;34m)\u001b[0m\u001b[0;34m:\u001b[0m\u001b[0;34m\u001b[0m\u001b[0;34m\u001b[0m\u001b[0m\n\u001b[0m\u001b[1;32m     84\u001b[0m             \u001b[0;32mreturn\u001b[0m \u001b[0mclib\u001b[0m\u001b[0;34m.\u001b[0m\u001b[0menergy\u001b[0m\u001b[0;34m(\u001b[0m\u001b[0mx\u001b[0m\u001b[0;34m,\u001b[0m \u001b[0mh\u001b[0m\u001b[0;34m,\u001b[0m \u001b[0mJk\u001b[0m\u001b[0;34m)\u001b[0m\u001b[0;34m\u001b[0m\u001b[0;34m\u001b[0m\u001b[0m\n\u001b[1;32m     85\u001b[0m         \u001b[0mx0\u001b[0m \u001b[0;34m=\u001b[0m \u001b[0mjump\u001b[0m\u001b[0;34m(\u001b[0m\u001b[0;32mNone\u001b[0m\u001b[0;34m)\u001b[0m\u001b[0;34m\u001b[0m\u001b[0;34m\u001b[0m\u001b[0m\n",
      "\u001b[0;31mKeyboardInterrupt\u001b[0m: "
     ]
    }
   ],
   "source": [
    "args = [df1, dfgap1, dfgap2] if k == 4 else [df1, dfgap1]\n",
    "h, Jk = fit_ising(df0, args, nmcmc=5e5, niter=10, epsilon=0.2, N=k, output=True)"
   ]
  },
  {
   "cell_type": "code",
   "execution_count": null,
   "metadata": {},
   "outputs": [],
   "source": [
    "Z = np.exp(scipy.special.logsumexp([-clib.energy(np.array(s), h, Jk) for s in itertools.product(range(naminoacids), repeat=k)]))\n",
    "df['freq_maxent'] = np.exp([-clib.energy(map_aatonumber(s), h, Jk) for s in kmers])/Z\n",
    "jsd_maxent = calc_jsd(df_test['freq'], df['freq_maxent'], base=2)"
   ]
  },
  {
   "cell_type": "code",
   "execution_count": null,
   "metadata": {},
   "outputs": [],
   "source": [
    "hks = fit_global(fks, niter=10, nmcmc=1e6, epsilon=0.1, output=True)"
   ]
  },
  {
   "cell_type": "code",
   "execution_count": null,
   "metadata": {},
   "outputs": [],
   "source": [
    "pseudocount = 1e-2\n",
    "niter=10\n",
    "nmcmc=1e6\n",
    "epsilon=0.5\n",
    "prng=None\n",
    "output=False\n",
    "\n",
    "N = len(fks[0])-1\n",
    "if prng is None:\n",
    "    prng = np.random\n",
    "q = len(aminoacids)\n",
    "aas_arr = np.array(list(aminoacids))\n",
    "f1 = np.sum(np.arange(fks.shape[1])*fks, axis=1)/(fks.shape[1]-1)\n",
    "h = np.array(np.log(f1))\n",
    "h -= np.mean(h)\n",
    "hks = h.reshape(20, 1)*np.arange(fks.shape[1])\n",
    "#hks = np.zeros((q, N+1))\n",
    "for i in range(niter):\n",
    "    if output:\n",
    "        print('iteration %g'%i)\n",
    "#    def jump(x):\n",
    "#        xp = x.copy()\n",
    "#        i = np.random.randint(0, len(x))\n",
    "#        xp[i] = (xp[i]+np.random.randint(0, q-1))%q\n",
    "#        return xp\n",
    "    def jump(x):\n",
    "        return prng.randint(q, size=N)\n",
    "    def energy(x):\n",
    "        return energy_global(aacounts_int(x), hks)\n",
    "    x0 = jump(prng.randint(q, size=N))\n",
    "    samples = mcmcsampler(x0, energy, jump, nmcmc, prng=prng, nburnin=1e3)\n",
    "    aacountss = [aacounts_int(s) for s in samples]\n",
    "    prob_aa_ks = prob_aa(aacountss, N, pseudocount=pseudocount)\n",
    "    #Z = np.exp(scipy.special.logsumexp([-energy_global(aacounts_int(np.array(s)), hks) for s in itertools.product(range(naminoacids), repeat=k)]))\n",
    "    #probs = np.exp([-energy_global(aacounts(s), hks) for s in kmers])/Z\n",
    "    if i == 0:\n",
    "        prob_aa_ks0 = prob_aa_ks\n",
    "    hks += np.log(fks/prob_aa_ks)*epsilon\n",
    "    #hks += (fks-prob_aa_ks)*epsilon\n",
    "    jsd = calc_jsd(fks, prob_aa_ks, base=2)\n",
    "    print(jsd)"
   ]
  },
  {
   "cell_type": "code",
   "execution_count": null,
   "metadata": {},
   "outputs": [],
   "source": [
    "plt.plot(fks.flatten(), prob_aa_ks.flatten(), 'o')\n",
    "x = [1e-6, 1e0]\n",
    "plt.plot(x, x, 'k')\n",
    "plt.xscale('log')\n",
    "plt.yscale('log')"
   ]
  },
  {
   "cell_type": "code",
   "execution_count": null,
   "metadata": {},
   "outputs": [],
   "source": [
    "plt.plot(fks.flatten(), prob_aa_ks0.flatten()/fks.flatten(), 'o')\n",
    "plt.plot(fks.flatten(), prob_aa_ks.flatten()/fks.flatten(), 'o')\n",
    "#x = [1e-6, 1e0]\n",
    "#plt.plot(x, x, 'k')\n",
    "plt.axhline(1.0, c='k')\n",
    "#plt.ylim(1e-1)\n",
    "plt.xscale('log')\n",
    "plt.yscale('log')"
   ]
  },
  {
   "cell_type": "code",
   "execution_count": null,
   "metadata": {},
   "outputs": [],
   "source": [
    "Z = np.exp(scipy.special.logsumexp(\n",
    "           [-energy_global(aacounts_int(np.array(s)), hks) for s in itertools.product(range(naminoacids), repeat=k)]\n",
    "           ))\n",
    "df['freq_maxentglobal'] = np.exp([-energy_global(aacounts(s), hks) for s in kmers])/Z\n",
    "jsd_maxentglobal = calc_jsd(df['freq_test'], df['freq_maxentglobal'], base=2)"
   ]
  },
  {
   "cell_type": "code",
   "execution_count": null,
   "metadata": {},
   "outputs": [],
   "source": [
    "entropies = {}\n",
    "Smax = np.log2(20)*k\n",
    "for column in df.filter(regex='freq'):\n",
    "    f3 = np.array(df[column])\n",
    "    entropy = scipy.stats.entropy(f3, base=2)\n",
    "    print(column, Smax-entropy)\n",
    "    entropies[column] = entropy"
   ]
  },
  {
   "cell_type": "code",
   "execution_count": null,
   "metadata": {},
   "outputs": [],
   "source": [
    "print('test', jsd_test, 'maxent', jsd_maxent, 'maxentglobal', jsd_maxentglobal,\n",
    "              'flat', jsd_flat, 'ind', jsd_ind, 'mc', jsd_mc, 'tri', jsd_tri)"
   ]
  },
  {
   "cell_type": "code",
   "execution_count": null,
   "metadata": {},
   "outputs": [],
   "source": [
    "from scipy.stats import gaussian_kde\n",
    "def scatterplot(x, y, ax=None):\n",
    "    if ax is None:\n",
    "        ax = plt.gca()\n",
    "    xy = np.vstack([x,y])\n",
    "    z = gaussian_kde(xy)(xy)\n",
    "    ax.scatter(x, y, c=z, s=1, edgecolor='')"
   ]
  },
  {
   "cell_type": "code",
   "execution_count": null,
   "metadata": {
    "scrolled": true
   },
   "outputs": [],
   "source": [
    "scatter = lambda x, y, ax: plotting.density_scatter(x, y, ax=ax, s=1, bins=100,\n",
    "                                           trans=lambda x: np.log(x+1e-8),\n",
    "                                           norm=matplotlib.colors.LogNorm(vmin=0.5, vmax=50 if k ==3 else 400),\n",
    "                                           cmap='viridis')\n",
    "#scatter = lambda x, y, ax: ax.scatter(x, y, s=1, alpha=1, edgecolor=None)\n",
    "\n",
    "fig, axes = plt.subplots(figsize=(7.2, 2.0), ncols=5, sharex=True, sharey=True)\n",
    "axes[0].set_ylabel('test set')\n",
    "\n",
    "for ax, column, xlabel in [(axes[0], 'freq_ind','independent prediction'),\n",
    "                           (axes[1], 'freq_maxentglobal', 'global maxent prediction'),\n",
    "                           (axes[2], 'freq_mc', 'mc'),\n",
    "                           (axes[3], 'freq_maxent', 'maxent prediction'),\n",
    "                           (axes[4], 'freq', 'training set')\n",
    "                            ]:\n",
    "    scatter(df[column], df['freq_test'], ax)\n",
    "    ax.set_xlabel(xlabel)\n",
    "    jsd = calc_jsd(df['freq_test'], df[column], base=2)\n",
    "    entropy = entropies[column]\n",
    "    ax.set_title('JSD = {:.4f}\\nH = {:.2f}'.format(jsd, entropy))\n",
    "    \n",
    "if k == 3:\n",
    "    x = np.logspace(-5.7, -2.7)\n",
    "elif k == 4:\n",
    "    x = np.logspace(-7.7, -2.9)\n",
    "for ax in axes:\n",
    "    ax.plot(x, x, 'k', lw=0.8)\n",
    "    ax.set_xlim(min(x), max(x))\n",
    "    ax.set_ylim(min(x), max(x))\n",
    "    ax.set_xscale('log')\n",
    "    ax.set_yscale('log')\n",
    "fig.tight_layout()\n",
    "fig.savefig('main.png' if k == 3 else 'comparison_k4.png', dpi=600)"
   ]
  },
  {
   "cell_type": "code",
   "execution_count": null,
   "metadata": {},
   "outputs": [],
   "source": [
    "2**entropies['freq'], 2**entropies['freq_maxent'], 2**entropies['freq_ind'], 20**k"
   ]
  },
  {
   "cell_type": "code",
   "execution_count": null,
   "metadata": {},
   "outputs": [],
   "source": [
    "bins = np.linspace(-6, -2)\n",
    "kwargs = dict(bins=bins, histtype='step')\n",
    "plt.hist(np.log10(df['freq_ind']), **kwargs)\n",
    "plt.hist(np.log10(df['freq_maxent']),**kwargs)\n",
    "plt.hist(np.log10(df['freq']),**kwargs)\n",
    "plt.yscale('log')"
   ]
  },
  {
   "cell_type": "code",
   "execution_count": null,
   "metadata": {},
   "outputs": [],
   "source": []
  }
 ],
 "metadata": {
  "kernelspec": {
   "display_name": "Python 3",
   "language": "python",
   "name": "python3"
  },
  "language_info": {
   "codemirror_mode": {
    "name": "ipython",
    "version": 3
   },
   "file_extension": ".py",
   "mimetype": "text/x-python",
   "name": "python",
   "nbconvert_exporter": "python",
   "pygments_lexer": "ipython3",
   "version": "3.6.9"
  }
 },
 "nbformat": 4,
 "nbformat_minor": 2
}
