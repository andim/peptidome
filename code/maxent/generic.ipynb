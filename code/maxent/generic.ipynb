{
 "cells": [
  {
   "cell_type": "markdown",
   "metadata": {},
   "source": [
    "# Maximum entropy modeling\n",
    "\n",
    "We consider a distribution $P(\\boldsymbol \\sigma)$, where $\\boldsymbol \\sigma$ is an N-dimensional state vector. We search for the distribution which maximizes the entropy subject to some constraints on the expectation value of a (smallish) number of observables:\n",
    "\n",
    "$$\\langle \\sum_{\\boldsymbol \\sigma} P(\\boldsymbol \\sigma) f_\\mu(\\boldsymbol \\sigma)\\rangle = f_\\mu^{emp}$$\n",
    "\n",
    "Using the method of Lagrange multipliers we can show that the distributions take the form:\n",
    "\n",
    "$$P(\\boldsymbol \\sigma) = \\frac{1}{Z} \\exp\\left[ -\\sum_\\mu \\lambda_\\mu f_\\mu(\\boldsymbol \\sigma) \\right]$$\n"
   ]
  },
  {
   "cell_type": "code",
   "execution_count": 1,
   "metadata": {},
   "outputs": [],
   "source": [
    "import numpy as np\n",
    "import matplotlib.pyplot as plt\n",
    "import sys\n",
    "sys.path.append('..')\n",
    "from lib import *\n",
    "%matplotlib inline"
   ]
  },
  {
   "cell_type": "code",
   "execution_count": 2,
   "metadata": {},
   "outputs": [],
   "source": [
    "class MaxEntModel:\n",
    "    def __init__(self, N, q, constraints, prng=None):\n",
    "        \"\"\"\n",
    "        N: number of spins\n",
    "        q: number of possible spin states\n",
    "        constraints: list of constraints\n",
    "        \"\"\"\n",
    "        self.N = N\n",
    "        self.q = q\n",
    "        self.constraints = constraints\n",
    "        self.lambdas = np.zeros_like(constraints)\n",
    "        if prng is None:\n",
    "            self.prng = np.random\n",
    "        else:\n",
    "            self.prng = prng\n",
    "    def energy(self, sigma):\n",
    "        return np.sum(self.lambdas * np.array([c(sigma) for c in self.constraints]))\n",
    "    def sample(self, n):\n",
    "        'n: number of samples'\n",
    "        def jump(x):\n",
    "            return self.prng.randint(self.q, size=self.N)\n",
    "        x0 = jump(np.zeros(self.N))\n",
    "        return mcmcsampler(x0, self.energy, jump, n)"
   ]
  },
  {
   "cell_type": "code",
   "execution_count": 3,
   "metadata": {},
   "outputs": [],
   "source": [
    "def gen_field_constraint(index):\n",
    "    def constraint(x):\n",
    "        return x[index]\n",
    "    return constraint"
   ]
  },
  {
   "cell_type": "code",
   "execution_count": 4,
   "metadata": {},
   "outputs": [
    {
     "data": {
      "text/plain": [
       "0.5"
      ]
     },
     "execution_count": 4,
     "metadata": {},
     "output_type": "execute_result"
    }
   ],
   "source": [
    "m = MaxEntModel(5, 2, [gen_field_constraint(i) for i in range(5)])\n",
    "m.lambdas = np.array([0.1, 0.2, 0.3, -0.1, -0.3])\n",
    "m.energy([0, 1, 1, 0, 0])"
   ]
  },
  {
   "cell_type": "code",
   "execution_count": 5,
   "metadata": {},
   "outputs": [
    {
     "data": {
      "text/plain": [
       "array([[0, 1, 0, 0, 0],\n",
       "       [1, 0, 0, 1, 1],\n",
       "       [1, 0, 0, 1, 1],\n",
       "       [1, 0, 1, 1, 0],\n",
       "       [1, 1, 1, 0, 1],\n",
       "       [0, 1, 0, 1, 0],\n",
       "       [1, 1, 1, 1, 0],\n",
       "       [0, 0, 0, 1, 0],\n",
       "       [1, 1, 0, 1, 1]])"
      ]
     },
     "execution_count": 5,
     "metadata": {},
     "output_type": "execute_result"
    }
   ],
   "source": [
    "m.sample(10)"
   ]
  },
  {
   "cell_type": "code",
   "execution_count": null,
   "metadata": {},
   "outputs": [],
   "source": []
  }
 ],
 "metadata": {
  "kernelspec": {
   "display_name": "Python 3",
   "language": "python",
   "name": "python3"
  },
  "language_info": {
   "codemirror_mode": {
    "name": "ipython",
    "version": 3
   },
   "file_extension": ".py",
   "mimetype": "text/x-python",
   "name": "python",
   "nbconvert_exporter": "python",
   "pygments_lexer": "ipython3",
   "version": "3.6.10"
  }
 },
 "nbformat": 4,
 "nbformat_minor": 2
}
