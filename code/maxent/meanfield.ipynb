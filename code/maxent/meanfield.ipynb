{
 "cells": [
  {
   "cell_type": "code",
   "execution_count": 1,
   "metadata": {},
   "outputs": [],
   "source": [
    "import itertools, json\n",
    "import numpy as np\n",
    "import pandas as pd\n",
    "from sklearn.model_selection import train_test_split\n",
    "from matplotlib import colors\n",
    "\n",
    "import sys\n",
    "sys.path.append('..')\n",
    "from lib import *\n",
    "from lib.maxent import *\n",
    "\n",
    "import evcouplings.couplings"
   ]
  },
  {
   "cell_type": "code",
   "execution_count": 2,
   "metadata": {},
   "outputs": [],
   "source": [
    "params = np.load('data/Human_9.npz')\n",
    "hi = params['hi']\n",
    "Jij = params['Jij']"
   ]
  },
  {
   "cell_type": "code",
   "execution_count": 3,
   "metadata": {},
   "outputs": [
    {
     "data": {
      "text/plain": [
       "(9, 20)"
      ]
     },
     "execution_count": 3,
     "metadata": {},
     "output_type": "execute_result"
    }
   ],
   "source": [
    "L, q = hi.shape\n",
    "L, q"
   ]
  },
  {
   "cell_type": "code",
   "execution_count": 4,
   "metadata": {},
   "outputs": [],
   "source": [
    "observables = ['fi', 'fij', 'cij', 'fijk', 'cijk', 'fold_ijk']#, 'fijkl']\n",
    "observables_dict = {key: dict() for key in observables}\n",
    "for dataset in ['train', 'test', 'model']:\n",
    "    params = np.load('data/%s_observables.npz'%dataset)\n",
    "    for observable in observables:\n",
    "        observables_dict[observable][dataset] = params[observable]"
   ]
  },
  {
   "cell_type": "code",
   "execution_count": 5,
   "metadata": {},
   "outputs": [],
   "source": [
    "@numba.jit(nopython=True)\n",
    "def _flatten_index(i, alpha, q):\n",
    "    \"\"\"\n",
    "    Map position and symbol to index in\n",
    "    the covariance matrix.\n",
    "    Parameters\n",
    "    ----------\n",
    "    i : int, np.array of int\n",
    "        The alignment column(s).\n",
    "    alpha : int, np.array of int\n",
    "        The symbol(s).\n",
    "    q : int\n",
    "        The number of symbols of the\n",
    "        alphabet used.\n",
    "    \"\"\"\n",
    "    return i * (q - 1) + alpha"
   ]
  },
  {
   "cell_type": "code",
   "execution_count": 6,
   "metadata": {},
   "outputs": [],
   "source": [
    "@numba.jit(nopython=True)\n",
    "def reshape_invcov_to_4d(inv_cov_matrix, L, q):\n",
    "    \"\"\"\n",
    "    \"Un-flatten\" flattened covariance matrix\n",
    "    \n",
    "    Parameters\n",
    "    ----------\n",
    "    inv_cov_matrix : np.array\n",
    "        The matrix to be flattened\n",
    "    L : int\n",
    "        Model length.\n",
    "    q : int\n",
    "        Number of characters in the alphabet.\n",
    "    Returns\n",
    "    -------\n",
    "    np.array\n",
    "        Matrix of size L x L x\n",
    "        q x q.\n",
    "    \"\"\"\n",
    "    inv = np.zeros((L, L, q, q))\n",
    "    for i in range(L):\n",
    "        for j in range(L):\n",
    "            for alpha in range(q - 1):\n",
    "                for beta in range(q - 1):\n",
    "                    inv[i, j, alpha, beta] = inv_cov_matrix[\n",
    "                        _flatten_index(i, alpha, q),\n",
    "                        _flatten_index(j, beta, q)\n",
    "                    ]\n",
    "    return inv"
   ]
  },
  {
   "cell_type": "code",
   "execution_count": 10,
   "metadata": {},
   "outputs": [],
   "source": [
    "def compute_Jij_mf(cij_flat):\n",
    "    invC = np.linalg.inv(cij_flat)\n",
    "    Jij = -reshape_invcov_to_4d(invC, L, q)\n",
    "    return Jij"
   ]
  },
  {
   "cell_type": "code",
   "execution_count": 8,
   "metadata": {},
   "outputs": [],
   "source": [
    "@numba.jit(nopython=True)\n",
    "def fields(J_ij, f_i):\n",
    "    \"\"\"\n",
    "    Compute fields in q gauge.\n",
    "    \n",
    "    Parameters\n",
    "    ----------\n",
    "    J_ij : np.array\n",
    "        Matrix of size L x L x q x q\n",
    "        containing coupling parameters.\n",
    "    f_i : np.array\n",
    "        Matrix of size L x q\n",
    "        containing single-site frequencies.\n",
    "    Returns\n",
    "    -------\n",
    "    np.array\n",
    "        Matrix of size L x q\n",
    "        containing single-site fields.\n",
    "    \"\"\"\n",
    "    L, q = f_i.shape\n",
    "    hi = np.zeros((L, q))\n",
    "    for i in range(L):\n",
    "        log_fi = np.log(f_i[i] / f_i[i, q-1])\n",
    "        J_ij_sum = np.zeros((1, q))\n",
    "        for j in range(L):\n",
    "            if i != j:\n",
    "                # some eij values over beta from 1 to q-1\n",
    "                J_ij_sum += np.dot(J_ij[i, j, :, :q-1], f_i[j, :q-1]).T\n",
    "        hi[i] = log_fi - J_ij_sum\n",
    "    return hi"
   ]
  },
  {
   "cell_type": "code",
   "execution_count": 11,
   "metadata": {},
   "outputs": [
    {
     "name": "stderr",
     "output_type": "stream",
     "text": [
      "<ipython-input-8-c53c1d109231>:28: NumbaPerformanceWarning: \u001b[1m\u001b[1mnp.dot() is faster on contiguous arrays, called on (array(float64, 2d, A), array(float64, 1d, C))\u001b[0m\u001b[0m\n",
      "  J_ij_sum += np.dot(J_ij[i, j, :, :q-1], f_i[j, :q-1]).T\n"
     ]
    }
   ],
   "source": [
    "fi = observables_dict['fi']['train']\n",
    "fij = observables_dict['fij']['train']\n",
    "alpha = 1e-8\n",
    "fi_reg = (1-alpha)*fi + alpha/q\n",
    "fij_reg = (1-alpha)*fij + alpha/q**2\n",
    "cij_flat = compute_flattened_covariance_matrix(fi_reg, fij_reg)\n",
    "Jij_mf = compute_Jij_mf(cij_flat)\n",
    "hi_mf = fields(Jij_mf, fi_reg)"
   ]
  },
  {
   "cell_type": "code",
   "execution_count": 12,
   "metadata": {},
   "outputs": [],
   "source": [
    "def zero_sum_gauge(J_ij):\n",
    "    J_ij_0 = (J_ij\n",
    "              - np.mean(J_ij, axis=2)[:, :, np.newaxis, :]\n",
    "              - np.mean(J_ij, axis=3)[:, :, :, np.newaxis]\n",
    "              + np.mean(J_ij, axis=(2,3))[:, :, np.newaxis, np.newaxis])\n",
    "    return J_ij_0"
   ]
  },
  {
   "cell_type": "code",
   "execution_count": 13,
   "metadata": {},
   "outputs": [
    {
     "data": {
      "text/plain": [
       "<matplotlib.legend.Legend at 0x7f334ea99748>"
      ]
     },
     "execution_count": 13,
     "metadata": {},
     "output_type": "execute_result"
    },
    {
     "data": {
      "image/png": "[encoded data removed]",
      "text/plain": [
       "<Figure size 432x288 with 1 Axes>"
      ]
     },
     "metadata": {
      "needs_background": "light"
     },
     "output_type": "display_data"
    }
   ],
   "source": [
    "L, q = fi.shape\n",
    "rhoij = np.zeros(fij.shape)\n",
    "for i in range(L):\n",
    "    for j in range(L):\n",
    "        rhoij[i, j] = fij[i, j]/np.outer(fi[i], fi[j]) - 1.0\n",
    "plt.plot(flatten_ij(rhoij), flatten_ij(zero_sum_gauge(Jij)),\n",
    "         '.', ms=1, label='fitted')\n",
    "plt.plot(flatten_ij(rhoij), flatten_ij(zero_sum_gauge(Jij_mf)),\n",
    "         '.', ms=1, label='mf')\n",
    "lim = 1.0\n",
    "plt.plot([-lim, lim], [-lim, lim], 'k-')\n",
    "plt.xlabel(r'$\\rho_{ij}$')\n",
    "plt.ylabel('$J_{ij}$')\n",
    "plt.legend()"
   ]
  },
  {
   "cell_type": "code",
   "execution_count": 15,
   "metadata": {},
   "outputs": [
    {
     "data": {
      "image/png": "[encoded data removed]",
      "text/plain": [
       "<Figure size 432x288 with 1 Axes>"
      ]
     },
     "metadata": {
      "needs_background": "light"
     },
     "output_type": "display_data"
    }
   ],
   "source": [
    "bins = np.linspace(-1, 1, 20)\n",
    "plt.hist(flatten_ij(zero_sum_gauge(Jij)), bins=bins, histtype='step')\n",
    "plt.hist(flatten_ij(zero_sum_gauge(Jij_mf)), bins=bins, histtype='step');"
   ]
  },
  {
   "cell_type": "code",
   "execution_count": 16,
   "metadata": {},
   "outputs": [],
   "source": [
    "Jij_mf_zero = zero_sum_gauge(Jij_mf)\n",
    "hi_mf_zero = fields(Jij_mf_zero, fi)"
   ]
  },
  {
   "cell_type": "code",
   "execution_count": 17,
   "metadata": {},
   "outputs": [],
   "source": [
    "prng = np.random\n",
    "jump = lambda x: local_jump(x, q)\n",
    "x0 = prng.randint(q, size=L)\n",
    "sample_matrix = mcmcsampler(x0, lambda x: energy_potts(x, hi_mf, Jij_mf), jump, 1e6, nsample=100, nburnin=1e4)"
   ]
  },
  {
   "cell_type": "code",
   "execution_count": 18,
   "metadata": {},
   "outputs": [],
   "source": [
    "fi_mf = frequencies(sample_matrix, num_symbols=q)\n",
    "fij_mf = pair_frequencies(sample_matrix, num_symbols=q, fi=fi_mf)\n",
    "cij_mf = compute_covariance_matrix(fi_mf, fij_mf)"
   ]
  },
  {
   "cell_type": "code",
   "execution_count": 33,
   "metadata": {},
   "outputs": [
    {
     "data": {
      "image/png": "[encoded data removed]",
      "text/plain": [
       "<Figure size 504x230.4 with 2 Axes>"
      ]
     },
     "metadata": {
      "needs_background": "light"
     },
     "output_type": "display_data"
    }
   ],
   "source": [
    "fig, axes = plt.subplots(figsize=(7, 3.2), ncols=2)\n",
    "\n",
    "ax = axes[0]\n",
    "lims = [0, 0.12]\n",
    "ax.plot(np.ravel(fi), np.ravel(fi_mf), 'o', ms=2)\n",
    "ax.set_xlabel('training $f_i$')\n",
    "ax.set_ylabel('mf $f_i$')\n",
    "ax.plot(lims, lims, 'k')\n",
    "ax.set_xlim(*lims)\n",
    "ax.set_ylim(*lims)\n",
    "\n",
    "ax = axes[1]\n",
    "lims = [-0.3e-2, 1.5e-2]\n",
    "ax.plot(flatten_ij(observables_dict['cij']['train']), flatten_ij(cij_mf), 'o', ms=2)\n",
    "ax.set_ylabel('mean-field $C_{ij}$')\n",
    "ax.set_xlabel('training $C_{ij}$')\n",
    "ax.plot(lims, lims, 'k')\n",
    "ax.set_xlim(*lims)\n",
    "ax.set_ylim(*lims)\n",
    "ax.ticklabel_format(style='sci', scilimits=(0,0))\n",
    "\n",
    "fig.tight_layout()\n",
    "fig.savefig('meanfield.png')"
   ]
  },
  {
   "cell_type": "code",
   "execution_count": 21,
   "metadata": {},
   "outputs": [
    {
     "name": "stderr",
     "output_type": "stream",
     "text": [
      "/home/amayer/.conda/envs/py3/lib/python3.6/site-packages/ipykernel_launcher.py:3: RuntimeWarning: invalid value encountered in sqrt\n",
      "  This is separate from the ipykernel package so we can avoid doing imports until\n"
     ]
    }
   ],
   "source": [
    "invC = np.linalg.inv(cij_flat)\n",
    "invC4d = reshape_invcov_to_4d(invC, L, q)\n",
    "Jij_TAP = -2*invC4d/(1+(1-8*invC4d*fi[:, np.newaxis, :, np.newaxis]*fi[np.newaxis, :, np.newaxis, :])**.5)"
   ]
  },
  {
   "cell_type": "code",
   "execution_count": 22,
   "metadata": {},
   "outputs": [
    {
     "data": {
      "text/plain": [
       "(0.19261893913664105, 0.1930600243824052)"
      ]
     },
     "execution_count": 22,
     "metadata": {},
     "output_type": "execute_result"
    }
   ],
   "source": [
    "flatten_ij(Jij_TAP).mean(), flatten_ij(Jij_mf).mean()"
   ]
  },
  {
   "cell_type": "code",
   "execution_count": 23,
   "metadata": {},
   "outputs": [
    {
     "data": {
      "image/png": "[encoded data removed]",
      "text/plain": [
       "<Figure size 432x288 with 1 Axes>"
      ]
     },
     "metadata": {
      "needs_background": "light"
     },
     "output_type": "display_data"
    }
   ],
   "source": [
    "plt.hist(flatten_ij(Jij_TAP));"
   ]
  },
  {
   "cell_type": "code",
   "execution_count": 24,
   "metadata": {},
   "outputs": [
    {
     "data": {
      "text/plain": [
       "[<matplotlib.lines.Line2D at 0x7f335ebbae80>]"
      ]
     },
     "execution_count": 24,
     "metadata": {},
     "output_type": "execute_result"
    },
    {
     "data": {
      "image/png": "[encoded data removed]",
      "text/plain": [
       "<Figure size 432x288 with 1 Axes>"
      ]
     },
     "metadata": {
      "needs_background": "light"
     },
     "output_type": "display_data"
    }
   ],
   "source": [
    "plt.plot(flatten_ij(Jij_mf), flatten_ij(Jij_TAP), 'o')\n",
    "plt.plot([-1, 3], [-1, 3])"
   ]
  },
  {
   "cell_type": "code",
   "execution_count": 25,
   "metadata": {},
   "outputs": [
    {
     "data": {
      "text/plain": [
       "<matplotlib.legend.Legend at 0x7f335ed1a2e8>"
      ]
     },
     "execution_count": 25,
     "metadata": {},
     "output_type": "execute_result"
    },
    {
     "data": {
      "image/png": "[encoded data removed]",
      "text/plain": [
       "<Figure size 432x288 with 1 Axes>"
      ]
     },
     "metadata": {
      "needs_background": "light"
     },
     "output_type": "display_data"
    }
   ],
   "source": [
    "L, q = fi.shape\n",
    "rhoij = np.zeros(fij.shape)\n",
    "for i in range(L):\n",
    "    for j in range(L):\n",
    "        rhoij[i, j] = fij[i, j]/np.outer(fi[i], fi[j]) - 1.0\n",
    "plt.plot(flatten_ij(rhoij), flatten_ij(zero_sum_gauge(Jij)),\n",
    "         '.', ms=1, label='fitted')\n",
    "plt.plot(flatten_ij(rhoij), flatten_ij(zero_sum_gauge(Jij_TAP)),\n",
    "         '.', ms=1, label='mf')\n",
    "lim = 1.0\n",
    "plt.plot([-lim, lim], [-lim, lim], 'k-')\n",
    "plt.xlabel(r'$\\rho_{ij}$')\n",
    "plt.ylabel('$J_{ij}$')\n",
    "plt.legend()"
   ]
  },
  {
   "cell_type": "code",
   "execution_count": null,
   "metadata": {},
   "outputs": [],
   "source": []
  }
 ],
 "metadata": {
  "kernelspec": {
   "display_name": "Python 3",
   "language": "python",
   "name": "python3"
  },
  "language_info": {
   "codemirror_mode": {
    "name": "ipython",
    "version": 3
   },
   "file_extension": ".py",
   "mimetype": "text/x-python",
   "name": "python",
   "nbconvert_exporter": "python",
   "pygments_lexer": "ipython3",
   "version": "3.6.10"
  }
 },
 "nbformat": 4,
 "nbformat_minor": 2
}
