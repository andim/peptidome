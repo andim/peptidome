{
 "cells": [
  {
   "cell_type": "code",
   "execution_count": null,
   "metadata": {},
   "outputs": [],
   "source": [
    "import pandas as pd\n",
    "import numpy as np\n",
    "import matplotlib.pyplot as plt\n",
    "import matplotlib\n",
    "\n",
    "from numba import jit\n",
    "\n",
    "import sys\n",
    "sys.path.append('..')\n",
    "from lib import *\n",
    "from lib.maxent import *\n",
    "plt.style.use('../peptidome.mplstyle')"
   ]
  },
  {
   "cell_type": "code",
   "execution_count": null,
   "metadata": {},
   "outputs": [],
   "source": [
    "proteome = 'Human'\n",
    "models = ['independent', 'ncov', 'nskew', 'nskewfcov', 'train']\n",
    "k = 9\n",
    "\n",
    "coincidence_probs = {}\n",
    "\n",
    "for model in models:\n",
    "    if not model == 'train':\n",
    "        energy = make_energy(np.load('../maxent/data/{proteome}_{model}_k{k}_params.npz'.format(\n",
    "            proteome=proteome, model=model, k=k)))\n",
    "        F = np.float(pd.read_csv('../maxent/data/{proteome}_{model}_k{k}_entropy.csv'.format(\n",
    "            proteome=proteome, model=model, k=k),\n",
    "                                header=None, index_col=0).loc['F'])\n",
    "        loglikelihood  = lambda seq: -energy(seq) + F\n",
    "    matrix = load_matrix('data/{proteome}_{model}_k{k}_matrix.csv.gz'.format(\n",
    "                         proteome=proteome, model=model, k=k))\n",
    "    coincidence_empirical = calc_coincidence_prob(matrix)\n",
    "    if not model == 'train':\n",
    "        logp = np.array([loglikelihood(row) for row in matrix])\n",
    "        coincidence_prob = np.mean(np.exp(logp))\n",
    "        print(model, coincidence_prob, coincidence_empirical)\n",
    "    else:\n",
    "        coincidence_prob = coincidence_empirical\n",
    "        print(model, coincidence_empirical)\n",
    "    coincidence_probs[model] = coincidence_prob"
   ]
  },
  {
   "cell_type": "code",
   "execution_count": null,
   "metadata": {},
   "outputs": [],
   "source": [
    "coincidence_probs = pd.Series(coincidence_probs, name='coincidence_prob')"
   ]
  },
  {
   "cell_type": "code",
   "execution_count": null,
   "metadata": {},
   "outputs": [],
   "source": [
    "series['independent']"
   ]
  },
  {
   "cell_type": "code",
   "execution_count": null,
   "metadata": {},
   "outputs": [],
   "source": [
    "pd.read_csv('test.csv', index_col=0, squeeze=True)"
   ]
  },
  {
   "cell_type": "code",
   "execution_count": null,
   "metadata": {},
   "outputs": [],
   "source": [
    "# effective diversities\n",
    "'%e'%np.exp(-np.mean(logp)),'%e'%(1/np.mean(np.exp(logp)))"
   ]
  },
  {
   "cell_type": "markdown",
   "metadata": {},
   "source": [
    "# test reproducibility on independent site model"
   ]
  },
  {
   "cell_type": "code",
   "execution_count": null,
   "metadata": {},
   "outputs": [],
   "source": [
    "model = 'independent'\n",
    "f = np.load('../maxent/data/{proteome}_{model}_k{k}_params.npz'.format(\n",
    "        proteome=proteome, model=model, k=k))['f']\n",
    "np.sum(f**2)**9"
   ]
  },
  {
   "cell_type": "code",
   "execution_count": null,
   "metadata": {},
   "outputs": [],
   "source": [
    "model_matrix = np.random.choice(np.arange(0, 20, 1), size=matrix.shape, p=f)\n",
    "coincidence_empirical = calc_coincidence_prob(model_matrix)\n",
    "coincidence_empirical"
   ]
  },
  {
   "cell_type": "markdown",
   "metadata": {},
   "source": [
    "# Plot"
   ]
  },
  {
   "cell_type": "code",
   "execution_count": null,
   "metadata": {},
   "outputs": [],
   "source": [
    "coincidence_probs['uniform'] = 1/20**k\n",
    "coincidence_probs.sort_values(inplace=True)\n",
    "labels = {'uniform' : 'uniform',\n",
    "          'independent' : '1st moment',\n",
    "          'ncov' : '2nd moment',\n",
    "          'nskew' : '3rd moment',\n",
    "          'nskewfcov' : '2-point',\n",
    "          'train' : 'data'\n",
    "         }\n",
    "coincidence_probs.index = coincidence_probs.index.map(labels)"
   ]
  },
  {
   "cell_type": "code",
   "execution_count": null,
   "metadata": {},
   "outputs": [],
   "source": [
    "fig, ax = plt.subplots(figsize=(1.0, 1.8))\n",
    "coincidence_probs.plot(kind='bar', log=True, ax=ax)\n",
    "ax.set_ylabel('Coincidence probability')\n",
    "fig.savefig('coincidence_prob.png')"
   ]
  },
  {
   "cell_type": "markdown",
   "metadata": {},
   "source": [
    "# Empirical coincidences in data"
   ]
  },
  {
   "cell_type": "code",
   "execution_count": null,
   "metadata": {},
   "outputs": [],
   "source": [
    "proteomes = ['Human', 'Humannozf']\n",
    "models = ['train', 'test']\n",
    "k = 9\n",
    "for proteome in proteomes:\n",
    "    for model in models:\n",
    "        matrix = load_matrix('data/{proteome}_{model}_k{k}_matrix.csv.gz'.format(\n",
    "                                 proteome=proteome, model=model, k=k))\n",
    "        coincidence_empirical = calc_coincidence_prob(matrix)\n",
    "        print(proteome, model, coincidence_empirical)"
   ]
  },
  {
   "cell_type": "code",
   "execution_count": null,
   "metadata": {},
   "outputs": [],
   "source": [
    "proteome = 'Human'\n",
    "matrices = {}\n",
    "for model in models:\n",
    "    matrix = load_matrix('data/{proteome}_{model}_k{k}_matrix.csv.gz'.format(\n",
    "                          proteome=proteome, model=model, k=k))\n",
    "    matrices[model] = matrix_to_kmers(matrix)"
   ]
  },
  {
   "cell_type": "code",
   "execution_count": null,
   "metadata": {},
   "outputs": [],
   "source": [
    "intersection = set(matrices['test']).intersection(set(matrices['train']))"
   ]
  },
  {
   "cell_type": "code",
   "execution_count": null,
   "metadata": {},
   "outputs": [],
   "source": [
    "overlap = [kmer for kmer in matrices['test'] if kmer in intersection]"
   ]
  },
  {
   "cell_type": "code",
   "execution_count": null,
   "metadata": {},
   "outputs": [],
   "source": [
    "len(overlap)/(len(matrices['train'])*len(matrices['test']))"
   ]
  },
  {
   "cell_type": "code",
   "execution_count": null,
   "metadata": {},
   "outputs": [],
   "source": []
  }
 ],
 "metadata": {
  "kernelspec": {
   "display_name": "Python 3",
   "language": "python",
   "name": "python3"
  },
  "language_info": {
   "codemirror_mode": {
    "name": "ipython",
    "version": 3
   },
   "file_extension": ".py",
   "mimetype": "text/x-python",
   "name": "python",
   "nbconvert_exporter": "python",
   "pygments_lexer": "ipython3"
  }
 },
 "nbformat": 4,
 "nbformat_minor": 4
}
