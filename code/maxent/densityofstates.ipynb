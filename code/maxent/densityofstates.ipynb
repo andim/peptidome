{
 "cells": [
  {
   "cell_type": "code",
   "execution_count": 8,
   "metadata": {},
   "outputs": [],
   "source": [
    "import pandas as pd\n",
    "import numpy as np\n",
    "import matplotlib.pyplot as plt\n",
    "import matplotlib\n",
    "\n",
    "import sys\n",
    "sys.path.append('..')\n",
    "from lib import *\n",
    "from lib.maxent import *"
   ]
  },
  {
   "cell_type": "code",
   "execution_count": 2,
   "metadata": {},
   "outputs": [],
   "source": [
    "params = np.load('data/Human_9.npz')\n",
    "hi = params['hi']\n",
    "Jij = params['Jij']"
   ]
  },
  {
   "cell_type": "code",
   "execution_count": 3,
   "metadata": {},
   "outputs": [],
   "source": [
    "datasets = ['train', 'test', 'model']\n",
    "sample_matrices = {}\n",
    "for dataset in datasets:\n",
    "    sample_matrices[dataset] =  np.loadtxt('data/%s_matrix.csv.gz' % dataset).astype(int)"
   ]
  },
  {
   "cell_type": "code",
   "execution_count": 26,
   "metadata": {},
   "outputs": [],
   "source": [
    "observables = ['fi', 'fij', 'cij', 'fijk', 'cijk', 'fold_ijk']#, 'fijkl']\n",
    "observables_dict = {key: dict() for key in observables}\n",
    "for dataset in ['train', 'test', 'model']:\n",
    "    params = np.load('data/%s_observables.npz'%dataset)\n",
    "    for observable in observables:\n",
    "        observables_dict[observable][dataset] = params[observable]"
   ]
  },
  {
   "cell_type": "code",
   "execution_count": 46,
   "metadata": {},
   "outputs": [],
   "source": [
    "fi = observables_dict['fi']['train'].mean(axis=0)\n",
    "sample_independent = np.random.choice(np.arange(0, 20, 1), size=sample_matrices['test'].shape, p=fi)"
   ]
  },
  {
   "cell_type": "code",
   "execution_count": 53,
   "metadata": {},
   "outputs": [],
   "source": [
    "energies_test = np.array([energy_potts(x, hi, Jij) for x in sample_matrices['test']])\n",
    "energies_model = np.array([energy_potts(x, hi, Jij) for x in sample_matrices['model']])\n",
    "energies_independent = np.array([energy_potts(x, hi, Jij) for x in sample_independent])"
   ]
  },
  {
   "cell_type": "code",
   "execution_count": 65,
   "metadata": {},
   "outputs": [
    {
     "data": {
      "image/png": "[encoded data removed]",
      "text/plain": [
       "<Figure size 432x288 with 1 Axes>"
      ]
     },
     "metadata": {
      "needs_background": "light"
     },
     "output_type": "display_data"
    }
   ],
   "source": [
    "bins = np.linspace(-6, 16, 50)\n",
    "fig, ax = plt.subplots()\n",
    "ax.hist(-energies_test, bins=bins, histtype='step', label='test')\n",
    "ax.hist(-energies_independent, bins=bins, histtype='step', label='independent')\n",
    "ax.hist(-energies_model, bins=bins, histtype='step', label='maxent')\n",
    "ax.set_yscale('log')\n",
    "ax.legend()\n",
    "ax.set_xlabel('-Energy')\n",
    "ax.set_ylabel('Density')\n",
    "fig.tight_layout()\n",
    "fig.savefig('density_of_states.png')"
   ]
  },
  {
   "cell_type": "code",
   "execution_count": 69,
   "metadata": {},
   "outputs": [
    {
     "data": {
      "text/plain": [
       "array([12, 12, 12, 12, 12, 12, 12, 12, 12])"
      ]
     },
     "execution_count": 69,
     "metadata": {},
     "output_type": "execute_result"
    }
   ],
   "source": [
    "x = sample_matrices['test'][energies_test.argmin()]\n"
   ]
  },
  {
   "cell_type": "code",
   "execution_count": null,
   "metadata": {},
   "outputs": [],
   "source": []
  }
 ],
 "metadata": {
  "kernelspec": {
   "display_name": "Python 3",
   "language": "python",
   "name": "python3"
  },
  "language_info": {
   "codemirror_mode": {
    "name": "ipython",
    "version": 3
   },
   "file_extension": ".py",
   "mimetype": "text/x-python",
   "name": "python",
   "nbconvert_exporter": "python",
   "pygments_lexer": "ipython3",
   "version": "3.6.10"
  }
 },
 "nbformat": 4,
 "nbformat_minor": 2
}
