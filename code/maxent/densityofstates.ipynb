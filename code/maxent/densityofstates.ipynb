{
 "cells": [
  {
   "cell_type": "code",
   "execution_count": 1,
   "metadata": {},
   "outputs": [],
   "source": [
    "import pandas as pd\n",
    "import numpy as np\n",
    "import matplotlib.pyplot as plt\n",
    "import matplotlib\n",
    "\n",
    "import sys\n",
    "sys.path.append('..')\n",
    "from lib import *\n",
    "from lib.maxent import *"
   ]
  },
  {
   "cell_type": "code",
   "execution_count": 4,
   "metadata": {},
   "outputs": [],
   "source": [
    "L = 9\n",
    "params = np.load('data/Human_reference_9.npz')\n",
    "hi = params['hi']\n",
    "Jij = params['Jij']"
   ]
  },
  {
   "cell_type": "code",
   "execution_count": 5,
   "metadata": {},
   "outputs": [],
   "source": [
    "datasets = ['train', 'test', 'model']\n",
    "sample_matrices = {}\n",
    "for dataset in datasets:\n",
    "    sample_matrices[dataset] = load_matrix('data/%s_matrix_L%i.csv.gz' % (dataset, L))"
   ]
  },
  {
   "cell_type": "code",
   "execution_count": 6,
   "metadata": {},
   "outputs": [],
   "source": [
    "observables = ['fi', 'fij', 'cij', 'fijk', 'cijk', 'fold_ijk']#, 'fijkl']\n",
    "observables_dict = {key: dict() for key in observables}\n",
    "for dataset in ['train', 'test', 'model']:\n",
    "    params = np.load('data/%s_observables.npz'%dataset)\n",
    "    for observable in observables:\n",
    "        observables_dict[observable][dataset] = params[observable]"
   ]
  },
  {
   "cell_type": "code",
   "execution_count": 7,
   "metadata": {},
   "outputs": [],
   "source": [
    "fi = observables_dict['fi']['train'].mean(axis=0)\n",
    "sample_independent = np.random.choice(np.arange(0, 20, 1), size=sample_matrices['test'].shape, p=fi)"
   ]
  },
  {
   "cell_type": "code",
   "execution_count": 8,
   "metadata": {},
   "outputs": [],
   "source": [
    "arr = np.load('../aafreqpca/data/data.npz')\n",
    "aa_human = arr['human']"
   ]
  },
  {
   "cell_type": "code",
   "execution_count": 9,
   "metadata": {},
   "outputs": [
    {
     "data": {
      "text/plain": [
       "array([103.97144572,  52.27539978, 173.05226162,  84.67300122,\n",
       "       140.7069723 ,  92.61090593, 172.27398996, 116.7177847 ,\n",
       "        78.21749722, 112.76767947, 235.91539032, 169.00405327,\n",
       "        67.41864509, 145.6206498 , 118.92310653, 114.44634793,\n",
       "       191.08027332, 178.04419657, 198.44854756, 169.26510308])"
      ]
     },
     "execution_count": 9,
     "metadata": {},
     "output_type": "execute_result"
    }
   ],
   "source": [
    "cov = np.cov(aa_human.T)\n",
    "alpha = np.mean(aa_human, axis=0)\n",
    "alpha0 = alpha*(1-alpha)/np.diag(cov) - 1.0\n",
    "alpha0"
   ]
  },
  {
   "cell_type": "code",
   "execution_count": 12,
   "metadata": {},
   "outputs": [
    {
     "data": {
      "text/plain": [
       "(array([  16.,  107.,  521., 1521., 2914., 3777., 3639., 3001., 1962.,\n",
       "        1148.,  665.,  320.,  186.,   85.,   63.,   52.,   19.,   14.,\n",
       "          21.,   10.,    5.,    7.,    5.,    6.]),\n",
       " array([0.  , 0.01, 0.02, 0.03, 0.04, 0.05, 0.06, 0.07, 0.08, 0.09, 0.1 ,\n",
       "        0.11, 0.12, 0.13, 0.14, 0.15, 0.16, 0.17, 0.18, 0.19, 0.2 , 0.21,\n",
       "        0.22, 0.23, 0.24]),\n",
       " <a list of 1 Patch objects>)"
      ]
     },
     "execution_count": 12,
     "metadata": {},
     "output_type": "execute_result"
    },
    {
     "data": {
      "image/png": "[encoded data removed]",
      "text/plain": [
       "<Figure size 432x288 with 1 Axes>"
      ]
     },
     "metadata": {
      "needs_background": "light"
     },
     "output_type": "display_data"
    }
   ],
   "source": [
    "p = np.random.dirichlet(alpha*np.mean(alpha0), size=aa_human.shape[0])\n",
    "bins = np.arange(0, 0.25, 0.01)\n",
    "plt.hist(p[:, 5], bins=bins, histtype='step')\n",
    "plt.hist(aa_human[:, 5], bins=bins, histtype='step')"
   ]
  },
  {
   "cell_type": "code",
   "execution_count": 11,
   "metadata": {},
   "outputs": [],
   "source": [
    "sampless = []\n",
    "ps = np.random.dirichlet(alpha*np.mean(alpha0), size=aa_human.shape[0]//2)\n",
    "blocklength = sample_matrices['test'].shape[0]//len(ps)\n",
    "for p in ps:\n",
    "    samples = np.random.choice(np.arange(0, 20, 1),\n",
    "                               size=(blocklength, sample_matrices['test'].shape[1]),\n",
    "                               p=p)\n",
    "    sampless.append(samples)\n",
    "sample_dirichlet = np.concatenate(sampless)"
   ]
  },
  {
   "cell_type": "code",
   "execution_count": 13,
   "metadata": {},
   "outputs": [],
   "source": [
    "sampless = []\n",
    "ps = aa_human\n",
    "blocklength = sample_matrices['test'].shape[0]//len(ps)\n",
    "for p in ps:\n",
    "    samples = np.random.choice(np.arange(0, 20, 1),\n",
    "                               size=(blocklength, sample_matrices['test'].shape[1]),\n",
    "                               p=p)\n",
    "    sampless.append(samples)\n",
    "sample_composition = np.concatenate(sampless)"
   ]
  },
  {
   "cell_type": "code",
   "execution_count": 14,
   "metadata": {},
   "outputs": [],
   "source": [
    "energies = {}\n",
    "for dataset in ['test', 'model']:\n",
    "    energies[dataset] = np.array([energy_potts(x, hi, Jij) for x in sample_matrices[dataset]])\n",
    "energies['independent'] = np.array([energy_potts(x, hi, Jij) for x in sample_independent])\n",
    "energies['dirichlet'] = np.array([energy_potts(x, hi, Jij) for x in sample_dirichlet])"
   ]
  },
  {
   "cell_type": "code",
   "execution_count": 15,
   "metadata": {},
   "outputs": [],
   "source": [
    "energies['composition'] = np.array([energy_potts(x, hi, Jij) for x in sample_composition])"
   ]
  },
  {
   "cell_type": "code",
   "execution_count": 16,
   "metadata": {},
   "outputs": [],
   "source": [
    "sample_cov =  load_matrix('../globalmaxent/data/model_matrix.csv.gz')\n",
    "energies['cov'] = np.array([energy_potts(x, hi, Jij) for x in sample_cov])"
   ]
  },
  {
   "cell_type": "code",
   "execution_count": 17,
   "metadata": {},
   "outputs": [],
   "source": [
    "sample_third =  load_matrix('../globalmaxent/data/model_third_matrix.csv.gz')\n",
    "energies['third'] = np.array([energy_potts(x, hi, Jij) for x in sample_third])"
   ]
  },
  {
   "cell_type": "code",
   "execution_count": 18,
   "metadata": {},
   "outputs": [
    {
     "data": {
      "image/png": "[encoded data removed]",
      "text/plain": [
       "<Figure size 432x288 with 1 Axes>"
      ]
     },
     "metadata": {
      "needs_background": "light"
     },
     "output_type": "display_data"
    }
   ],
   "source": [
    "bins = np.linspace(-6, 16, 100)\n",
    "fig, ax = plt.subplots()\n",
    "for dataset in ['test', 'independent', 'model', 'cov', 'third']:\n",
    "    ax.hist(-energies[dataset], bins=bins, histtype='step', label=dataset)\n",
    "ax.set_yscale('log')\n",
    "ax.legend()\n",
    "ax.set_xlabel('-Energy')\n",
    "ax.set_ylabel('Density')\n",
    "fig.tight_layout()\n",
    "fig.savefig('density_of_states.png')"
   ]
  },
  {
   "cell_type": "code",
   "execution_count": 19,
   "metadata": {},
   "outputs": [
    {
     "data": {
      "image/png": "[encoded data removed]",
      "text/plain": [
       "<Figure size 432x288 with 1 Axes>"
      ]
     },
     "metadata": {
      "needs_background": "light"
     },
     "output_type": "display_data"
    }
   ],
   "source": [
    "bins = np.linspace(-6, 16, 300)\n",
    "fig, ax = plt.subplots()\n",
    "for dataset in ['test', 'independent', 'model', 'cov', 'third']:\n",
    "    ax.hist(-energies[dataset], bins=bins, histtype='step', label=dataset)\n",
    "ax.legend()\n",
    "ax.set_xlabel('-Energy')\n",
    "ax.set_ylabel('Density')\n",
    "fig.tight_layout()"
   ]
  },
  {
   "cell_type": "code",
   "execution_count": null,
   "metadata": {},
   "outputs": [],
   "source": []
  }
 ],
 "metadata": {
  "kernelspec": {
   "display_name": "Python 3",
   "language": "python",
   "name": "python3"
  },
  "language_info": {
   "codemirror_mode": {
    "name": "ipython",
    "version": 3
   },
   "file_extension": ".py",
   "mimetype": "text/x-python",
   "name": "python",
   "nbconvert_exporter": "python",
   "pygments_lexer": "ipython3",
   "version": "3.6.10"
  }
 },
 "nbformat": 4,
 "nbformat_minor": 2
}
