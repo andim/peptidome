{
 "cells": [
  {
   "cell_type": "code",
   "execution_count": 1,
   "metadata": {},
   "outputs": [],
   "source": [
    "import numpy as np"
   ]
  },
  {
   "cell_type": "code",
   "execution_count": 5,
   "metadata": {},
   "outputs": [
    {
     "data": {
      "text/plain": [
       "['f']"
      ]
     },
     "execution_count": 5,
     "metadata": {},
     "output_type": "execute_result"
    }
   ],
   "source": [
    "params = np.load('data/Human_independent_k10_params.npz')\n",
    "params.files"
   ]
  },
  {
   "cell_type": "code",
   "execution_count": 15,
   "metadata": {},
   "outputs": [
    {
     "data": {
      "text/plain": [
       "['h', 'J', 'J2', 'hi', 'Jij']"
      ]
     },
     "execution_count": 15,
     "metadata": {},
     "output_type": "execute_result"
    }
   ],
   "source": [
    "params = np.load('data/Human_nskewfcov_k10_params.npz')\n",
    "params.files"
   ]
  },
  {
   "cell_type": "code",
   "execution_count": 16,
   "metadata": {},
   "outputs": [],
   "source": [
    "if params.files == ['f']:\n",
    "    model = 'independent'\n",
    "    f = params['f']\n",
    "elif params.files == ['h', 'J']:\n",
    "    model = 'ncov'\n",
    "    h = params['h']\n",
    "    J = params['J']\n",
    "elif params.files == ['h', 'J', 'J2']:\n",
    "    model = 'nskew'\n",
    "    h = params['h']\n",
    "    J = params['J']\n",
    "    J2 = params['J2']\n",
    "elif params.files == ['h', 'J', 'J2', 'hi', 'Jij']:\n",
    "    model = 'nskewfcov'\n",
    "    h = params['h']\n",
    "    hi = params['hi']\n",
    "    J = params['J']\n",
    "    J2 = params['J2']\n",
    "    Jij = params['Jij']"
   ]
  },
  {
   "cell_type": "code",
   "execution_count": null,
   "metadata": {},
   "outputs": [],
   "source": []
  }
 ],
 "metadata": {
  "kernelspec": {
   "display_name": "Python 3",
   "language": "python",
   "name": "python3"
  },
  "language_info": {
   "codemirror_mode": {
    "name": "ipython",
    "version": 3
   },
   "file_extension": ".py",
   "mimetype": "text/x-python",
   "name": "python",
   "nbconvert_exporter": "python",
   "pygments_lexer": "ipython3",
   "version": "3.8.5"
  }
 },
 "nbformat": 4,
 "nbformat_minor": 4
}
