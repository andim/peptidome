{
 "cells": [
  {
   "cell_type": "code",
   "execution_count": 16,
   "metadata": {},
   "outputs": [],
   "source": [
    "import pandas as pd\n",
    "import numpy as np\n",
    "import matplotlib.pyplot as plt\n",
    "import matplotlib\n",
    "\n",
    "from numba import jit\n",
    "\n",
    "import sys\n",
    "sys.path.append('..')\n",
    "from lib import *\n",
    "from lib.maxent import *\n",
    "plt.style.use('../peptidome.mplstyle')\n",
    "\n",
    "from common import model_hierarchy, labels"
   ]
  },
  {
   "cell_type": "code",
   "execution_count": 17,
   "metadata": {},
   "outputs": [],
   "source": [
    "datasets = ['train', 'test', 'flat', 'independent']\n",
    "datasets.extend(model_hierarchy)\n",
    "sample_matrices = {}\n",
    "for dataset in datasets:\n",
    "    sample_matrices[dataset] =  load_matrix('data/%s_matrix_L9.csv.gz' % dataset)[::9, :]"
   ]
  },
  {
   "cell_type": "code",
   "execution_count": 18,
   "metadata": {},
   "outputs": [],
   "source": [
    "nsample = 2e8\n",
    "L = sample_matrices['test'].shape[1]\n",
    "hists_dict = {}\n",
    "for dataset in datasets:\n",
    "    hists_dict[dataset] = pairwise_distances_jit(sample_matrices[dataset], N=nsample)"
   ]
  },
  {
   "cell_type": "code",
   "execution_count": 19,
   "metadata": {},
   "outputs": [],
   "source": [
    "hists_dict['train_test'] = pairwise_distances_jit(sample_matrices['train'],\n",
    "                                                  data2=sample_matrices['test'],\n",
    "                                                  N=nsample)"
   ]
  },
  {
   "cell_type": "code",
   "execution_count": 20,
   "metadata": {},
   "outputs": [
    {
     "ename": "SyntaxError",
     "evalue": "EOL while scanning string literal (<ipython-input-20-e193c107a343>, line 5)",
     "output_type": "error",
     "traceback": [
      "\u001b[0;36m  File \u001b[0;32m\"<ipython-input-20-e193c107a343>\"\u001b[0;36m, line \u001b[0;32m5\u001b[0m\n\u001b[0;31m    for dataset in datasets\"\u001b[0m\n\u001b[0m                            ^\u001b[0m\n\u001b[0;31mSyntaxError\u001b[0m\u001b[0;31m:\u001b[0m EOL while scanning string literal\n"
     ]
    }
   ],
   "source": [
    "bins = np.arange(L+1)\n",
    "fig, ax = plt.subplots()\n",
    "datasets = ['flat', 'test', 'train_test']\n",
    "datasets.extend(model_hierarchy)\n",
    "for dataset in datasets\"\n",
    "    ax.step(bins, hists_dict[dataset], label=dataset, where='mid')\n",
    "ax.set_yscale('log')\n",
    "ax.set_xticks(bins)\n",
    "ax.set_xlim(bins[0], bins[-1])\n",
    "ax.legend(loc='upper left');"
   ]
  },
  {
   "cell_type": "code",
   "execution_count": 9,
   "metadata": {},
   "outputs": [],
   "source": [
    "arr = np.load('../aafreqpca/data/data.npz')\n",
    "aa_human = arr['human']\n",
    "ps = aa_human\n",
    "blocklength = sample_matrices['test'].shape[0]//len(ps)\n",
    "sampless = []\n",
    "for p in ps:\n",
    "    samples = np.random.choice(np.arange(0, 20, 1),\n",
    "                               size=(blocklength, sample_matrices['test'].shape[1]),\n",
    "                               p=p)\n",
    "    sampless.append(samples)\n",
    "sample_composition = np.concatenate(sampless)"
   ]
  },
  {
   "cell_type": "code",
   "execution_count": 10,
   "metadata": {},
   "outputs": [],
   "source": [
    "hists_dict['composition'] = pairwise_distances_jit(sample_composition, N=nsample)"
   ]
  },
  {
   "cell_type": "code",
   "execution_count": null,
   "metadata": {},
   "outputs": [],
   "source": [
    "fig, ax = plt.subplots()\n",
    "datasets = ['flat', 'independent']\n",
    "datasets.extend(model_hierarchy)\n",
    "for dataset in datasets:\n",
    "    ax.errorbar(bins, (hists_dict[dataset])/(hists_dict['train_test']),\n",
    "                hists_dict[dataset]**.5/hists_dict['train_test'],\n",
    "                label=labels[dataset])\n",
    "ax.set_xticks(bins)\n",
    "ax.axhline(1.0, c='k')\n",
    "ax.set_ylim(0.0, 1.1)\n",
    "ax.legend(loc='lower right')\n",
    "ax.set_xlabel('Hamming distance')\n",
    "ax.set_ylabel('Fraction relative to train | test')\n",
    "fig.tight_layout()"
   ]
  },
  {
   "cell_type": "code",
   "execution_count": null,
   "metadata": {},
   "outputs": [],
   "source": [
    "pairwise_hist = {}\n",
    "for dataset in datasets:\n",
    "    pairwise_hist[dataset] = pairwise_distances_jit(sample_matrices[dataset],\n",
    "                                   data2=sample_matrices['test'],\n",
    "                                   N=nsample)"
   ]
  },
  {
   "cell_type": "code",
   "execution_count": null,
   "metadata": {},
   "outputs": [],
   "source": [
    "fig, ax = plt.subplots()\n",
    "ax.step(bins, hists_dict['test'], where='mid', label='data|data')\n",
    "for dataset in datasets:\n",
    "    ax.step(bins, pairwise_hist[dataset], where='mid', label=dataset + '|data')\n",
    "ax.set_yscale('log')\n",
    "ax.set_xticks(bins);\n",
    "ax.legend(loc='upper left')\n",
    "ax.set_xlabel('Hamming distance')\n",
    "ax.set_ylabel('Count');"
   ]
  },
  {
   "cell_type": "code",
   "execution_count": null,
   "metadata": {},
   "outputs": [],
   "source": [
    "fig, ax = plt.subplots()\n",
    "for dataset in datasets:\n",
    "    ax.errorbar(bins, pairwise_hist[dataset]/hists_dict['train_test'],\n",
    "                pairwise_hist[dataset]**.5/hists_dict['train_test'],\n",
    "                label=labels[dataset] + ' | test')\n",
    "ax.set_xticks(bins)\n",
    "ax.legend(loc='lower right')\n",
    "ax.axhline(1.0, c='k')\n",
    "ax.set_xlabel('Hamming distance')\n",
    "ax.set_ylabel('Fraction relative to train | test')\n",
    "fig.tight_layout()\n",
    "fig.savefig('../../paper/images/hammingdist.pdf')"
   ]
  },
  {
   "cell_type": "code",
   "execution_count": null,
   "metadata": {},
   "outputs": [],
   "source": []
  }
 ],
 "metadata": {
  "kernelspec": {
   "display_name": "Python 3",
   "language": "python",
   "name": "python3"
  },
  "language_info": {
   "codemirror_mode": {
    "name": "ipython",
    "version": 3
   },
   "file_extension": ".py",
   "mimetype": "text/x-python",
   "name": "python",
   "nbconvert_exporter": "python",
   "pygments_lexer": "ipython3",
   "version": "3.6.10"
  }
 },
 "nbformat": 4,
 "nbformat_minor": 2
}
