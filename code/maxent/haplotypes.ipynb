{
 "cells": [
  {
   "cell_type": "code",
   "execution_count": 1,
   "id": "c24ec42a",
   "metadata": {},
   "outputs": [],
   "source": [
    "import numpy as np\n",
    "import pandas as pd\n",
    "import matplotlib.pyplot as plt"
   ]
  },
  {
   "cell_type": "code",
   "execution_count": 2,
   "id": "fccef1d8",
   "metadata": {},
   "outputs": [],
   "source": [
    "cols = ['A1','A2','B1','B2','C1','C2']\n",
    "haps = pd.read_csv('../../data/haplotypes/top_1000_haplotypes.txt',names=cols)"
   ]
  },
  {
   "cell_type": "code",
   "execution_count": 3,
   "id": "4f5fae83",
   "metadata": {},
   "outputs": [],
   "source": [
    "allele_mapper = lambda allele: f\"HLA-{allele[0]}{allele[1:3]}{allele[4:]}\""
   ]
  },
  {
   "cell_type": "code",
   "execution_count": 4,
   "id": "f9332c4e",
   "metadata": {},
   "outputs": [],
   "source": [
    "for col in cols:\n",
    "    haps[col] = haps[col].apply(allele_mapper)"
   ]
  },
  {
   "cell_type": "code",
   "execution_count": 5,
   "id": "cb51e2d9",
   "metadata": {},
   "outputs": [],
   "source": [
    "# netMHC 4.0 only works for a subset of alleles -- only use those rather than relying on netMHCPan for predictions\n",
    "netMHC_allow_list = pd.read_table('/data/lareauc/levinej/pep/peptidome/code/maxent/data/MHC_allele_names.txt',\n",
    "                                names=['allele','allele-alt','locus'])"
   ]
  },
  {
   "cell_type": "code",
   "execution_count": 6,
   "id": "8c8fe702",
   "metadata": {},
   "outputs": [],
   "source": [
    "allowed_alleles = set(netMHC_allow_list['allele'])"
   ]
  },
  {
   "cell_type": "code",
   "execution_count": 7,
   "id": "9a800a61",
   "metadata": {},
   "outputs": [],
   "source": [
    "haps[\"all_allowed\"] = haps.apply(\n",
    "        lambda row: all(row[col] in allowed_alleles for col in cols), axis=1\n",
    "    )"
   ]
  },
  {
   "cell_type": "code",
   "execution_count": 8,
   "id": "c6e86070",
   "metadata": {},
   "outputs": [],
   "source": [
    "allowed_haps = haps[haps[\"all_allowed\"]]"
   ]
  },
  {
   "cell_type": "code",
   "execution_count": 9,
   "id": "2f55398d",
   "metadata": {},
   "outputs": [],
   "source": [
    "top_500_allowed_haps = allowed_haps.head(500)[cols]"
   ]
  },
  {
   "cell_type": "code",
   "execution_count": 10,
   "id": "2f007517",
   "metadata": {},
   "outputs": [
    {
     "data": {
      "text/html": [
       "<div>\n",
       "<style scoped>\n",
       "    .dataframe tbody tr th:only-of-type {\n",
       "        vertical-align: middle;\n",
       "    }\n",
       "\n",
       "    .dataframe tbody tr th {\n",
       "        vertical-align: top;\n",
       "    }\n",
       "\n",
       "    .dataframe thead th {\n",
       "        text-align: right;\n",
       "    }\n",
       "</style>\n",
       "<table border=\"1\" class=\"dataframe\">\n",
       "  <thead>\n",
       "    <tr style=\"text-align: right;\">\n",
       "      <th></th>\n",
       "      <th>A1</th>\n",
       "      <th>A2</th>\n",
       "      <th>B1</th>\n",
       "      <th>B2</th>\n",
       "      <th>C1</th>\n",
       "      <th>C2</th>\n",
       "    </tr>\n",
       "  </thead>\n",
       "  <tbody>\n",
       "    <tr>\n",
       "      <th>0</th>\n",
       "      <td>HLA-A0101</td>\n",
       "      <td>HLA-A0201</td>\n",
       "      <td>HLA-B0702</td>\n",
       "      <td>HLA-B0801</td>\n",
       "      <td>HLA-C0701</td>\n",
       "      <td>HLA-C0702</td>\n",
       "    </tr>\n",
       "    <tr>\n",
       "      <th>1</th>\n",
       "      <td>HLA-A0201</td>\n",
       "      <td>HLA-A0301</td>\n",
       "      <td>HLA-B0702</td>\n",
       "      <td>HLA-B0801</td>\n",
       "      <td>HLA-C0701</td>\n",
       "      <td>HLA-C0702</td>\n",
       "    </tr>\n",
       "    <tr>\n",
       "      <th>2</th>\n",
       "      <td>HLA-A0201</td>\n",
       "      <td>HLA-A0201</td>\n",
       "      <td>HLA-B0702</td>\n",
       "      <td>HLA-B0801</td>\n",
       "      <td>HLA-C0701</td>\n",
       "      <td>HLA-C0702</td>\n",
       "    </tr>\n",
       "    <tr>\n",
       "      <th>3</th>\n",
       "      <td>HLA-A0101</td>\n",
       "      <td>HLA-A0201</td>\n",
       "      <td>HLA-B0702</td>\n",
       "      <td>HLA-B4402</td>\n",
       "      <td>HLA-C0701</td>\n",
       "      <td>HLA-C0702</td>\n",
       "    </tr>\n",
       "    <tr>\n",
       "      <th>4</th>\n",
       "      <td>HLA-A0101</td>\n",
       "      <td>HLA-A0201</td>\n",
       "      <td>HLA-B0702</td>\n",
       "      <td>HLA-B0801</td>\n",
       "      <td>HLA-C0401</td>\n",
       "      <td>HLA-C0701</td>\n",
       "    </tr>\n",
       "    <tr>\n",
       "      <th>...</th>\n",
       "      <td>...</td>\n",
       "      <td>...</td>\n",
       "      <td>...</td>\n",
       "      <td>...</td>\n",
       "      <td>...</td>\n",
       "      <td>...</td>\n",
       "    </tr>\n",
       "    <tr>\n",
       "      <th>557</th>\n",
       "      <td>HLA-A0101</td>\n",
       "      <td>HLA-A0201</td>\n",
       "      <td>HLA-B0702</td>\n",
       "      <td>HLA-B4402</td>\n",
       "      <td>HLA-C0701</td>\n",
       "      <td>HLA-C0802</td>\n",
       "    </tr>\n",
       "    <tr>\n",
       "      <th>559</th>\n",
       "      <td>HLA-A0201</td>\n",
       "      <td>HLA-A0201</td>\n",
       "      <td>HLA-B0702</td>\n",
       "      <td>HLA-B4001</td>\n",
       "      <td>HLA-C0501</td>\n",
       "      <td>HLA-C0702</td>\n",
       "    </tr>\n",
       "    <tr>\n",
       "      <th>560</th>\n",
       "      <td>HLA-A0201</td>\n",
       "      <td>HLA-A0301</td>\n",
       "      <td>HLA-B0801</td>\n",
       "      <td>HLA-B4001</td>\n",
       "      <td>HLA-C0602</td>\n",
       "      <td>HLA-C0701</td>\n",
       "    </tr>\n",
       "    <tr>\n",
       "      <th>561</th>\n",
       "      <td>HLA-A0101</td>\n",
       "      <td>HLA-A0201</td>\n",
       "      <td>HLA-B1501</td>\n",
       "      <td>HLA-B4402</td>\n",
       "      <td>HLA-C0501</td>\n",
       "      <td>HLA-C0702</td>\n",
       "    </tr>\n",
       "    <tr>\n",
       "      <th>563</th>\n",
       "      <td>HLA-A0201</td>\n",
       "      <td>HLA-A0201</td>\n",
       "      <td>HLA-B0801</td>\n",
       "      <td>HLA-B1501</td>\n",
       "      <td>HLA-C0602</td>\n",
       "      <td>HLA-C0702</td>\n",
       "    </tr>\n",
       "  </tbody>\n",
       "</table>\n",
       "<p>500 rows × 6 columns</p>\n",
       "</div>"
      ],
      "text/plain": [
       "            A1         A2         B1         B2         C1         C2\n",
       "0    HLA-A0101  HLA-A0201  HLA-B0702  HLA-B0801  HLA-C0701  HLA-C0702\n",
       "1    HLA-A0201  HLA-A0301  HLA-B0702  HLA-B0801  HLA-C0701  HLA-C0702\n",
       "2    HLA-A0201  HLA-A0201  HLA-B0702  HLA-B0801  HLA-C0701  HLA-C0702\n",
       "3    HLA-A0101  HLA-A0201  HLA-B0702  HLA-B4402  HLA-C0701  HLA-C0702\n",
       "4    HLA-A0101  HLA-A0201  HLA-B0702  HLA-B0801  HLA-C0401  HLA-C0701\n",
       "..         ...        ...        ...        ...        ...        ...\n",
       "557  HLA-A0101  HLA-A0201  HLA-B0702  HLA-B4402  HLA-C0701  HLA-C0802\n",
       "559  HLA-A0201  HLA-A0201  HLA-B0702  HLA-B4001  HLA-C0501  HLA-C0702\n",
       "560  HLA-A0201  HLA-A0301  HLA-B0801  HLA-B4001  HLA-C0602  HLA-C0701\n",
       "561  HLA-A0101  HLA-A0201  HLA-B1501  HLA-B4402  HLA-C0501  HLA-C0702\n",
       "563  HLA-A0201  HLA-A0201  HLA-B0801  HLA-B1501  HLA-C0602  HLA-C0702\n",
       "\n",
       "[500 rows x 6 columns]"
      ]
     },
     "execution_count": 10,
     "metadata": {},
     "output_type": "execute_result"
    }
   ],
   "source": [
    "top_500_allowed_haps"
   ]
  },
  {
   "cell_type": "code",
   "execution_count": 11,
   "id": "919ab5b9",
   "metadata": {},
   "outputs": [],
   "source": [
    "top_500_allowed_haps.to_csv('/data/lareauc/levinej/pep/peptidome/code/maxent/data/top_500_allowed_haplotypes.csv')"
   ]
  },
  {
   "cell_type": "code",
   "execution_count": 12,
   "id": "32027c41",
   "metadata": {},
   "outputs": [
    {
     "data": {
      "text/plain": [
       "['HLA-A2402', 'HLA-A1101', 'HLA-A0201', 'HLA-A0301', 'HLA-A0101']"
      ]
     },
     "execution_count": 12,
     "metadata": {},
     "output_type": "execute_result"
    }
   ],
   "source": [
    "a_alleles = list(set(top_500_allowed_haps['A1']).union(set(top_500_allowed_haps['A2'])))\n",
    "a_alleles"
   ]
  },
  {
   "cell_type": "code",
   "execution_count": 13,
   "id": "dfa739e7",
   "metadata": {},
   "outputs": [
    {
     "data": {
      "text/plain": [
       "['HLA-B2705',\n",
       " 'HLA-B5701',\n",
       " 'HLA-B5101',\n",
       " 'HLA-B4402',\n",
       " 'HLA-B1801',\n",
       " 'HLA-B3501',\n",
       " 'HLA-B0702',\n",
       " 'HLA-B1501',\n",
       " 'HLA-B0801',\n",
       " 'HLA-B4403',\n",
       " 'HLA-B4001',\n",
       " 'HLA-B1402']"
      ]
     },
     "execution_count": 13,
     "metadata": {},
     "output_type": "execute_result"
    }
   ],
   "source": [
    "b_alleles = list(set(top_500_allowed_haps['B1']).union(set(top_500_allowed_haps['B2'])))\n",
    "b_alleles"
   ]
  },
  {
   "cell_type": "code",
   "execution_count": 14,
   "id": "2c4e9519",
   "metadata": {},
   "outputs": [
    {
     "data": {
      "text/plain": [
       "['HLA-C1203',\n",
       " 'HLA-C0303',\n",
       " 'HLA-C0702',\n",
       " 'HLA-C0501',\n",
       " 'HLA-C0602',\n",
       " 'HLA-C0802',\n",
       " 'HLA-C0701',\n",
       " 'HLA-C0401']"
      ]
     },
     "execution_count": 14,
     "metadata": {},
     "output_type": "execute_result"
    }
   ],
   "source": [
    "c_alleles = list(set(top_500_allowed_haps['C1']).union(set(top_500_allowed_haps['C2'])))\n",
    "c_alleles"
   ]
  },
  {
   "cell_type": "code",
   "execution_count": 15,
   "id": "842faf64",
   "metadata": {},
   "outputs": [],
   "source": [
    "for i, allele_list in enumerate([a_alleles,b_alleles,c_alleles]):\n",
    "    with open(f\"/data/lareauc/levinej/pep/peptidome/code/maxent/mhc_top_500_haplotypes_alleles_{i+1}.txt\",\"w\") as f:\n",
    "        for alle in allele_list:\n",
    "            f.write(alle)\n",
    "            f.write(\"\\n\")"
   ]
  },
  {
   "cell_type": "code",
   "execution_count": 16,
   "id": "409ed868",
   "metadata": {},
   "outputs": [],
   "source": [
    "##"
   ]
  },
  {
   "cell_type": "code",
   "execution_count": 17,
   "id": "835e95aa",
   "metadata": {},
   "outputs": [],
   "source": [
    "cols = ['original_idx','A1','A2','B1','B2','C1','C2']\n",
    "top_500_allowed_haps = pd.read_csv('/data/lareauc/levinej/pep/peptidome/code/maxent/data/top_500_allowed_haplotypes.csv',skiprows=1,names=cols)"
   ]
  },
  {
   "cell_type": "code",
   "execution_count": 18,
   "id": "82bb6db5",
   "metadata": {},
   "outputs": [
    {
     "data": {
      "text/html": [
       "<div>\n",
       "<style scoped>\n",
       "    .dataframe tbody tr th:only-of-type {\n",
       "        vertical-align: middle;\n",
       "    }\n",
       "\n",
       "    .dataframe tbody tr th {\n",
       "        vertical-align: top;\n",
       "    }\n",
       "\n",
       "    .dataframe thead th {\n",
       "        text-align: right;\n",
       "    }\n",
       "</style>\n",
       "<table border=\"1\" class=\"dataframe\">\n",
       "  <thead>\n",
       "    <tr style=\"text-align: right;\">\n",
       "      <th></th>\n",
       "      <th>original_idx</th>\n",
       "      <th>A1</th>\n",
       "      <th>A2</th>\n",
       "      <th>B1</th>\n",
       "      <th>B2</th>\n",
       "      <th>C1</th>\n",
       "      <th>C2</th>\n",
       "    </tr>\n",
       "  </thead>\n",
       "  <tbody>\n",
       "    <tr>\n",
       "      <th>0</th>\n",
       "      <td>0</td>\n",
       "      <td>HLA-A0101</td>\n",
       "      <td>HLA-A0201</td>\n",
       "      <td>HLA-B0702</td>\n",
       "      <td>HLA-B0801</td>\n",
       "      <td>HLA-C0701</td>\n",
       "      <td>HLA-C0702</td>\n",
       "    </tr>\n",
       "    <tr>\n",
       "      <th>1</th>\n",
       "      <td>1</td>\n",
       "      <td>HLA-A0201</td>\n",
       "      <td>HLA-A0301</td>\n",
       "      <td>HLA-B0702</td>\n",
       "      <td>HLA-B0801</td>\n",
       "      <td>HLA-C0701</td>\n",
       "      <td>HLA-C0702</td>\n",
       "    </tr>\n",
       "    <tr>\n",
       "      <th>2</th>\n",
       "      <td>2</td>\n",
       "      <td>HLA-A0201</td>\n",
       "      <td>HLA-A0201</td>\n",
       "      <td>HLA-B0702</td>\n",
       "      <td>HLA-B0801</td>\n",
       "      <td>HLA-C0701</td>\n",
       "      <td>HLA-C0702</td>\n",
       "    </tr>\n",
       "    <tr>\n",
       "      <th>3</th>\n",
       "      <td>3</td>\n",
       "      <td>HLA-A0101</td>\n",
       "      <td>HLA-A0201</td>\n",
       "      <td>HLA-B0702</td>\n",
       "      <td>HLA-B4402</td>\n",
       "      <td>HLA-C0701</td>\n",
       "      <td>HLA-C0702</td>\n",
       "    </tr>\n",
       "    <tr>\n",
       "      <th>4</th>\n",
       "      <td>4</td>\n",
       "      <td>HLA-A0101</td>\n",
       "      <td>HLA-A0201</td>\n",
       "      <td>HLA-B0702</td>\n",
       "      <td>HLA-B0801</td>\n",
       "      <td>HLA-C0401</td>\n",
       "      <td>HLA-C0701</td>\n",
       "    </tr>\n",
       "    <tr>\n",
       "      <th>...</th>\n",
       "      <td>...</td>\n",
       "      <td>...</td>\n",
       "      <td>...</td>\n",
       "      <td>...</td>\n",
       "      <td>...</td>\n",
       "      <td>...</td>\n",
       "      <td>...</td>\n",
       "    </tr>\n",
       "    <tr>\n",
       "      <th>495</th>\n",
       "      <td>557</td>\n",
       "      <td>HLA-A0101</td>\n",
       "      <td>HLA-A0201</td>\n",
       "      <td>HLA-B0702</td>\n",
       "      <td>HLA-B4402</td>\n",
       "      <td>HLA-C0701</td>\n",
       "      <td>HLA-C0802</td>\n",
       "    </tr>\n",
       "    <tr>\n",
       "      <th>496</th>\n",
       "      <td>559</td>\n",
       "      <td>HLA-A0201</td>\n",
       "      <td>HLA-A0201</td>\n",
       "      <td>HLA-B0702</td>\n",
       "      <td>HLA-B4001</td>\n",
       "      <td>HLA-C0501</td>\n",
       "      <td>HLA-C0702</td>\n",
       "    </tr>\n",
       "    <tr>\n",
       "      <th>497</th>\n",
       "      <td>560</td>\n",
       "      <td>HLA-A0201</td>\n",
       "      <td>HLA-A0301</td>\n",
       "      <td>HLA-B0801</td>\n",
       "      <td>HLA-B4001</td>\n",
       "      <td>HLA-C0602</td>\n",
       "      <td>HLA-C0701</td>\n",
       "    </tr>\n",
       "    <tr>\n",
       "      <th>498</th>\n",
       "      <td>561</td>\n",
       "      <td>HLA-A0101</td>\n",
       "      <td>HLA-A0201</td>\n",
       "      <td>HLA-B1501</td>\n",
       "      <td>HLA-B4402</td>\n",
       "      <td>HLA-C0501</td>\n",
       "      <td>HLA-C0702</td>\n",
       "    </tr>\n",
       "    <tr>\n",
       "      <th>499</th>\n",
       "      <td>563</td>\n",
       "      <td>HLA-A0201</td>\n",
       "      <td>HLA-A0201</td>\n",
       "      <td>HLA-B0801</td>\n",
       "      <td>HLA-B1501</td>\n",
       "      <td>HLA-C0602</td>\n",
       "      <td>HLA-C0702</td>\n",
       "    </tr>\n",
       "  </tbody>\n",
       "</table>\n",
       "<p>500 rows × 7 columns</p>\n",
       "</div>"
      ],
      "text/plain": [
       "     original_idx         A1         A2         B1         B2         C1  \\\n",
       "0               0  HLA-A0101  HLA-A0201  HLA-B0702  HLA-B0801  HLA-C0701   \n",
       "1               1  HLA-A0201  HLA-A0301  HLA-B0702  HLA-B0801  HLA-C0701   \n",
       "2               2  HLA-A0201  HLA-A0201  HLA-B0702  HLA-B0801  HLA-C0701   \n",
       "3               3  HLA-A0101  HLA-A0201  HLA-B0702  HLA-B4402  HLA-C0701   \n",
       "4               4  HLA-A0101  HLA-A0201  HLA-B0702  HLA-B0801  HLA-C0401   \n",
       "..            ...        ...        ...        ...        ...        ...   \n",
       "495           557  HLA-A0101  HLA-A0201  HLA-B0702  HLA-B4402  HLA-C0701   \n",
       "496           559  HLA-A0201  HLA-A0201  HLA-B0702  HLA-B4001  HLA-C0501   \n",
       "497           560  HLA-A0201  HLA-A0301  HLA-B0801  HLA-B4001  HLA-C0602   \n",
       "498           561  HLA-A0101  HLA-A0201  HLA-B1501  HLA-B4402  HLA-C0501   \n",
       "499           563  HLA-A0201  HLA-A0201  HLA-B0801  HLA-B1501  HLA-C0602   \n",
       "\n",
       "            C2  \n",
       "0    HLA-C0702  \n",
       "1    HLA-C0702  \n",
       "2    HLA-C0702  \n",
       "3    HLA-C0702  \n",
       "4    HLA-C0701  \n",
       "..         ...  \n",
       "495  HLA-C0802  \n",
       "496  HLA-C0702  \n",
       "497  HLA-C0701  \n",
       "498  HLA-C0702  \n",
       "499  HLA-C0702  \n",
       "\n",
       "[500 rows x 7 columns]"
      ]
     },
     "execution_count": 18,
     "metadata": {},
     "output_type": "execute_result"
    }
   ],
   "source": [
    "top_500_allowed_haps"
   ]
  },
  {
   "cell_type": "code",
   "execution_count": 19,
   "id": "3b847ff0",
   "metadata": {},
   "outputs": [
    {
     "data": {
      "text/plain": [
       "array([1.23251758e-04, 1.04756506e-04, 1.03146596e-04, ...,\n",
       "       1.00582020e-24, 1.00582020e-24, 1.00582020e-24])"
      ]
     },
     "execution_count": 19,
     "metadata": {},
     "output_type": "execute_result"
    }
   ],
   "source": [
    "hap_probs = np.load('../../data/haplotypes/unique_sorted_haplotype_probs_only.npy')\n",
    "hap_probs"
   ]
  },
  {
   "cell_type": "code",
   "execution_count": 20,
   "id": "ac110b05",
   "metadata": {},
   "outputs": [],
   "source": [
    "top_500_probs = hap_probs[top_500_allowed_haps['original_idx']]"
   ]
  },
  {
   "cell_type": "code",
   "execution_count": 21,
   "id": "5fcfa46a",
   "metadata": {},
   "outputs": [
    {
     "data": {
      "text/plain": [
       "'HLA-A*01:01;HLA-A*02:01;HLA-B*07:02;HLA-B*08:01;HLA-C*07:01;HLA-C*07:02'"
      ]
     },
     "execution_count": 21,
     "metadata": {},
     "output_type": "execute_result"
    }
   ],
   "source": [
    "top_haplotype = top_500_allowed_haps.loc[0][['A1','A2','B1','B2','C1','C2']].values\n",
    "top_haplotype = [f\"{x[:5]}*{x[5:7]}:{x[7:]}\" for x in top_haplotype]\n",
    "top_haplotype = \";\".join(top_haplotype)\n",
    "top_haplotype"
   ]
  },
  {
   "cell_type": "code",
   "execution_count": 22,
   "id": "b2b5487d",
   "metadata": {},
   "outputs": [
    {
     "data": {
      "text/plain": [
       "Text(0, 0.5, 'Log10 Probability')"
      ]
     },
     "execution_count": 22,
     "metadata": {},
     "output_type": "execute_result"
    },
    {
     "data": {
      "image/png": "[encoded data removed]",
      "text/plain": [
       "<Figure size 1000x500 with 1 Axes>"
      ]
     },
     "metadata": {},
     "output_type": "display_data"
    }
   ],
   "source": [
    "plt.figure(figsize=(10,5))\n",
    "plt.plot(range(500),np.log10(top_500_probs))\n",
    "plt.xlabel('Haplotype Rank')\n",
    "plt.ylabel('Log10 Probability')\n",
    "# plt.annotate(f\"Top Haplotype: \\n {top_haplotype}\", xy=(0,-3.91),xytext=(15,-4.0), arrowprops=dict(arrowstyle= '->',\n",
    "#                          color='red',\n",
    "#                          lw=3,\n",
    "#                          ls='--'))"
   ]
  },
  {
   "cell_type": "code",
   "execution_count": 23,
   "id": "6ca2475b",
   "metadata": {},
   "outputs": [
    {
     "data": {
      "image/png": "[encoded data removed]",
      "text/plain": [
       "<Figure size 1000x500 with 1 Axes>"
      ]
     },
     "metadata": {},
     "output_type": "display_data"
    }
   ],
   "source": [
    "plt.figure(figsize=(10,5))\n",
    "plt.plot(range(1,hap_probs[::500].shape[0]+1),np.log10(hap_probs[::500]))\n",
    "plt.axvline(top_500_allowed_haps['original_idx'].max(),color='k',linestyle='--')\n",
    "# plt.scatter([1],[np.log10(hap_probs[0])],color='black',s=100)\n",
    "plt.xlabel('Haplotype Rank')\n",
    "plt.ylabel('Log10 Probability')\n",
    "plt.title('MHC-I Haplotype Multinomial Distribution')\n",
    "plt.xscale('log')\n",
    "plt.xlim([1,10**7])\n",
    "plt.savefig('plots/haplotypes.png')"
   ]
  },
  {
   "cell_type": "code",
   "execution_count": 24,
   "id": "d82661d3",
   "metadata": {},
   "outputs": [
    {
     "data": {
      "text/plain": [
       "np.float64(0.00012325175794439)"
      ]
     },
     "execution_count": 24,
     "metadata": {},
     "output_type": "execute_result"
    }
   ],
   "source": []
  },
  {
   "cell_type": "code",
   "execution_count": 25,
   "id": "84cc9cfc",
   "metadata": {},
   "outputs": [
    {
     "ename": "KeyboardInterrupt",
     "evalue": "",
     "output_type": "error",
     "traceback": [
      "\u001b[0;31m---------------------------------------------------------------------------\u001b[0m",
      "\u001b[0;31mKeyboardInterrupt\u001b[0m                         Traceback (most recent call last)",
      "Cell \u001b[0;32mIn[25], line 1\u001b[0m\n\u001b[0;32m----> 1\u001b[0m \u001b[43mnp\u001b[49m\u001b[38;5;241;43m.\u001b[39;49m\u001b[43marray\u001b[49m\u001b[43m(\u001b[49m\u001b[38;5;28;43mrange\u001b[39;49m\u001b[43m(\u001b[49m\u001b[43mhap_probs\u001b[49m\u001b[38;5;241;43m.\u001b[39;49m\u001b[43mshape\u001b[49m\u001b[43m[\u001b[49m\u001b[38;5;241;43m0\u001b[39;49m\u001b[43m]\u001b[49m\u001b[43m)\u001b[49m\u001b[43m)\u001b[49m\n",
      "\u001b[0;31mKeyboardInterrupt\u001b[0m: "
     ]
    }
   ],
   "source": []
  },
  {
   "cell_type": "code",
   "execution_count": null,
   "id": "2f60a30e",
   "metadata": {},
   "outputs": [],
   "source": []
  },
  {
   "cell_type": "code",
   "execution_count": null,
   "id": "fe102a4e",
   "metadata": {},
   "outputs": [],
   "source": []
  },
  {
   "cell_type": "code",
   "execution_count": null,
   "id": "09e7c9d0",
   "metadata": {},
   "outputs": [],
   "source": []
  },
  {
   "cell_type": "code",
   "execution_count": 27,
   "id": "a9fcb1b3",
   "metadata": {},
   "outputs": [],
   "source": [
    "hap_plot_df = pd.DataFrame()\n",
    "hap_plot_df['Rank'] = range(1,hap_probs[::500].shape[0]+1)\n",
    "hap_plot_df['logp'] = np.log10(hap_probs[::500])"
   ]
  },
  {
   "cell_type": "code",
   "execution_count": 28,
   "id": "b5ef6f58",
   "metadata": {},
   "outputs": [],
   "source": [
    "hap_plot_df.to_csv('../../figures/New Paper Figures/Figure Data/hap_probs.csv')"
   ]
  },
  {
   "cell_type": "code",
   "execution_count": 29,
   "id": "5db3fa09",
   "metadata": {},
   "outputs": [
    {
     "data": {
      "text/plain": [
       "np.int64(563)"
      ]
     },
     "execution_count": 29,
     "metadata": {},
     "output_type": "execute_result"
    }
   ],
   "source": [
    "top_500_allowed_haps['original_idx'].max()"
   ]
  },
  {
   "cell_type": "code",
   "execution_count": null,
   "id": "561eca9b",
   "metadata": {},
   "outputs": [],
   "source": []
  }
 ],
 "metadata": {
  "kernelspec": {
   "display_name": "Python [conda env:peptidome]",
   "language": "python",
   "name": "conda-env-peptidome-py"
  },
  "language_info": {
   "codemirror_mode": {
    "name": "ipython",
    "version": 3
   },
   "file_extension": ".py",
   "mimetype": "text/x-python",
   "name": "python",
   "nbconvert_exporter": "python",
   "pygments_lexer": "ipython3",
   "version": "3.12.4"
  }
 },
 "nbformat": 4,
 "nbformat_minor": 5
}
