{
 "cells": [
  {
   "cell_type": "code",
   "execution_count": 102,
   "metadata": {},
   "outputs": [],
   "source": [
    "import sys\n",
    "sys.path.append('..')\n",
    "import itertools, copy\n",
    "import json\n",
    "import numpy as np\n",
    "import scipy.misc\n",
    "from sklearn.model_selection import train_test_split\n",
    "import pandas as pd\n",
    "import seaborn as sns\n",
    "import matplotlib.pyplot as plt\n",
    "%matplotlib inline\n",
    "\n",
    "plt.style.use('../custom.mplstyle')\n",
    "\n",
    "from lib import *\n",
    "from base import *"
   ]
  },
  {
   "cell_type": "code",
   "execution_count": 3,
   "metadata": {},
   "outputs": [],
   "source": [
    "output = True\n",
    "aas_arr = np.array(list(aminoacids))\n",
    "N = 4\n",
    "seed = 1234\n",
    "prng = np.random.RandomState(seed)\n"
   ]
  },
  {
   "cell_type": "code",
   "execution_count": 6,
   "metadata": {},
   "outputs": [],
   "source": [
    "humanseqs = [s for s in fasta_iter(human, returnheader=False)]\n",
    "train, test = train_test_split(humanseqs, test_size=0.5)\n"
   ]
  },
  {
   "cell_type": "code",
   "execution_count": 9,
   "metadata": {},
   "outputs": [],
   "source": [
    "# evaluate empirical observables for fitting\n",
    "df0 = count(train, 1)\n",
    "df1 = count(train, 2, gap=0)\n",
    "dfgap1 = count(train, 2, gap=1)\n",
    "dfgap2 = count(train, 2, gap=2)"
   ]
  },
  {
   "cell_type": "code",
   "execution_count": 10,
   "metadata": {},
   "outputs": [
    {
     "name": "stdout",
     "output_type": "stream",
     "text": [
      "[ 0.46011294 -0.66063989  0.05774567  0.46140263 -0.20088463  0.3939762\n",
      " -0.52393268 -0.03443961  0.24542297  0.80966027 -0.73823204 -0.21909044\n",
      "  0.35340522  0.07413293  0.23697674  0.62224697  0.17656732  0.29459131\n",
      " -1.293836   -0.5151859 ]\n",
      "iteration 0\n",
      "f1 1.522898693065261e-06\n",
      "f2, gap 0 0.002389626857681986\n",
      "f2, gap 1 0.0017856040684536955\n",
      "f2, gap 2 0.0019484053973687473\n",
      "iteration 1\n",
      "f1 2.6668264323075684e-06\n",
      "f2, gap 0 0.0019948547852433425\n",
      "f2, gap 1 0.0014822126881021852\n",
      "f2, gap 2 0.0016161554791216917\n",
      "iteration 2\n",
      "f1 5.7016337530539066e-06\n",
      "f2, gap 0 0.0015874638556658662\n",
      "f2, gap 1 0.0010956632776655789\n",
      "f2, gap 2 0.0012546877479135536\n",
      "iteration 3\n",
      "f1 5.077489165198753e-06\n",
      "f2, gap 0 0.001287340720184847\n",
      "f2, gap 1 0.0009781249925279014\n",
      "f2, gap 2 0.001096773962313074\n",
      "iteration 4\n",
      "f1 5.754426891491868e-06\n",
      "f2, gap 0 0.001060822159517603\n",
      "f2, gap 1 0.0007836362950464884\n",
      "f2, gap 2 0.0009640595245758452\n",
      "iteration 5\n",
      "f1 4.855084364655073e-06\n",
      "f2, gap 0 0.0008568795047436233\n",
      "f2, gap 1 0.0006830886223097116\n",
      "f2, gap 2 0.000734461856976614\n",
      "iteration 6\n",
      "f1 4.747190011300455e-06\n",
      "f2, gap 0 0.0007513397589381338\n",
      "f2, gap 1 0.000539334622866687\n",
      "f2, gap 2 0.0007053553836563814\n",
      "iteration 7\n",
      "f1 5.008879638367439e-06\n",
      "f2, gap 0 0.000565154232799269\n",
      "f2, gap 1 0.0004087229883336073\n",
      "f2, gap 2 0.0006166102932030639\n",
      "iteration 8\n",
      "f1 4.928414357457274e-06\n",
      "f2, gap 0 0.00045715848602341643\n",
      "f2, gap 1 0.0004018110301031725\n",
      "f2, gap 2 0.00048720098201275266\n",
      "iteration 9\n",
      "f1 4.291871956961184e-06\n",
      "f2, gap 0 0.000388928058718351\n",
      "f2, gap 1 0.0003306049137955739\n",
      "f2, gap 2 0.00044909459782892187\n",
      "iteration 10\n",
      "f1 4.925157997322414e-06\n",
      "f2, gap 0 0.000327373594144109\n",
      "f2, gap 1 0.0002594932509868376\n",
      "f2, gap 2 0.00038119238498903813\n",
      "iteration 11\n",
      "f1 8.698005044593334e-06\n",
      "f2, gap 0 0.0002541262291681052\n",
      "f2, gap 1 0.00021897320523853113\n",
      "f2, gap 2 0.00029953840821310114\n",
      "iteration 12\n",
      "f1 5.736523007281051e-06\n",
      "f2, gap 0 0.00021302211855830927\n",
      "f2, gap 1 0.00019820998703339802\n",
      "f2, gap 2 0.0003155491125303814\n",
      "iteration 13\n",
      "f1 5.839856075795281e-06\n",
      "f2, gap 0 0.00022696165593136838\n",
      "f2, gap 1 0.00018681589060368017\n",
      "f2, gap 2 0.0002925456315989977\n",
      "iteration 14\n",
      "f1 7.255450452776314e-06\n",
      "f2, gap 0 0.00015594424843199756\n",
      "f2, gap 1 0.00016319830262789887\n",
      "f2, gap 2 0.0002585437678462777\n",
      "iteration 15\n",
      "f1 5.1721109801722946e-06\n",
      "f2, gap 0 0.0001507600718210587\n",
      "f2, gap 1 0.0001370720764680204\n",
      "f2, gap 2 0.00023880684753431285\n",
      "iteration 16\n",
      "f1 7.46476638241338e-06\n",
      "f2, gap 0 0.00012952229993380254\n",
      "f2, gap 1 0.00013629998013829685\n",
      "f2, gap 2 0.00023400100820275674\n",
      "iteration 17\n",
      "f1 5.362218402212592e-06\n",
      "f2, gap 0 0.00013304318309664587\n",
      "f2, gap 1 0.0001317032855524886\n",
      "f2, gap 2 0.0002107552439123478\n",
      "iteration 18\n",
      "f1 5.426533523226553e-06\n",
      "f2, gap 0 0.00011256792905417202\n",
      "f2, gap 1 0.00010890160250518578\n",
      "f2, gap 2 0.00018001494249667097\n",
      "iteration 19\n",
      "f1 5.225710351918192e-06\n",
      "f2, gap 0 8.987118515054653e-05\n",
      "f2, gap 1 0.00010265243709433594\n",
      "f2, gap 2 0.0001942580814817988\n",
      "iteration 20\n",
      "f1 7.300837758037412e-06\n",
      "f2, gap 0 8.175449786378476e-05\n",
      "f2, gap 1 8.811782635636024e-05\n",
      "f2, gap 2 0.00016737640128431242\n",
      "iteration 21\n",
      "f1 4.463639756015309e-06\n",
      "f2, gap 0 8.328219764667682e-05\n",
      "f2, gap 1 9.641941971846178e-05\n",
      "f2, gap 2 0.0001978111449609972\n",
      "iteration 22\n",
      "f1 5.85075805826556e-06\n",
      "f2, gap 0 9.740506846609546e-05\n",
      "f2, gap 1 0.00010731905021349065\n",
      "f2, gap 2 0.0001926209275246567\n",
      "iteration 23\n",
      "f1 8.191756307798523e-06\n",
      "f2, gap 0 7.26781214088918e-05\n",
      "f2, gap 1 0.00010724368544172522\n",
      "f2, gap 2 0.00016336699749016384\n",
      "iteration 24\n",
      "f1 8.133047952047157e-06\n",
      "f2, gap 0 6.475128844738058e-05\n",
      "f2, gap 1 8.354416330703384e-05\n",
      "f2, gap 2 0.00020202390874105437\n",
      "iteration 25\n",
      "f1 6.6961254186734715e-06\n",
      "f2, gap 0 7.420023781719748e-05\n",
      "f2, gap 1 0.00010263422363149512\n",
      "f2, gap 2 0.00019060229429013203\n",
      "iteration 26\n",
      "f1 7.532906455979948e-06\n",
      "f2, gap 0 7.42029514035831e-05\n",
      "f2, gap 1 9.42941164075559e-05\n",
      "f2, gap 2 0.00020214406552345398\n",
      "iteration 27\n",
      "f1 6.462002179431454e-06\n",
      "f2, gap 0 6.272135162489555e-05\n",
      "f2, gap 1 8.955918976593361e-05\n",
      "f2, gap 2 0.00017180916316246833\n",
      "iteration 28\n",
      "f1 6.148227249644181e-06\n",
      "f2, gap 0 7.49855129850806e-05\n",
      "f2, gap 1 9.797908924403847e-05\n",
      "f2, gap 2 0.00017157069653172389\n",
      "iteration 29\n",
      "f1 7.259272585972233e-06\n",
      "f2, gap 0 6.515633851760876e-05\n",
      "f2, gap 1 9.635939759819657e-05\n",
      "f2, gap 2 0.00015418057137341068\n"
     ]
    }
   ],
   "source": [
    "h, Jk = fit_ising(df0, [df1, dfgap1, dfgap2], nmcmc=1e6, niter=30, epsilon=0.1, prng=prng, output=output, N=N)"
   ]
  },
  {
   "cell_type": "code",
   "execution_count": 65,
   "metadata": {},
   "outputs": [
    {
     "data": {
      "text/html": [
       "<div>\n",
       "<style scoped>\n",
       "    .dataframe tbody tr th:only-of-type {\n",
       "        vertical-align: middle;\n",
       "    }\n",
       "\n",
       "    .dataframe tbody tr th {\n",
       "        vertical-align: top;\n",
       "    }\n",
       "\n",
       "    .dataframe thead th {\n",
       "        text-align: right;\n",
       "    }\n",
       "</style>\n",
       "<table border=\"1\" class=\"dataframe\">\n",
       "  <thead>\n",
       "    <tr style=\"text-align: right;\">\n",
       "      <th></th>\n",
       "      <th>freq_train</th>\n",
       "      <th>freq_test</th>\n",
       "      <th>freq_test</th>\n",
       "    </tr>\n",
       "    <tr>\n",
       "      <th>seq</th>\n",
       "      <th></th>\n",
       "      <th></th>\n",
       "      <th></th>\n",
       "    </tr>\n",
       "  </thead>\n",
       "  <tbody>\n",
       "    <tr>\n",
       "      <th>AAAA</th>\n",
       "      <td>3.975436e-04</td>\n",
       "      <td>NaN</td>\n",
       "      <td>3.831855e-04</td>\n",
       "    </tr>\n",
       "    <tr>\n",
       "      <th>AAAC</th>\n",
       "      <td>1.390013e-05</td>\n",
       "      <td>NaN</td>\n",
       "      <td>1.280794e-05</td>\n",
       "    </tr>\n",
       "    <tr>\n",
       "      <th>AAAD</th>\n",
       "      <td>2.762650e-05</td>\n",
       "      <td>NaN</td>\n",
       "      <td>2.526498e-05</td>\n",
       "    </tr>\n",
       "    <tr>\n",
       "      <th>AAAE</th>\n",
       "      <td>5.577426e-05</td>\n",
       "      <td>NaN</td>\n",
       "      <td>5.175812e-05</td>\n",
       "    </tr>\n",
       "    <tr>\n",
       "      <th>AAAF</th>\n",
       "      <td>2.832151e-05</td>\n",
       "      <td>NaN</td>\n",
       "      <td>2.193141e-05</td>\n",
       "    </tr>\n",
       "    <tr>\n",
       "      <th>AAAG</th>\n",
       "      <td>9.399961e-05</td>\n",
       "      <td>NaN</td>\n",
       "      <td>9.281371e-05</td>\n",
       "    </tr>\n",
       "    <tr>\n",
       "      <th>AAAH</th>\n",
       "      <td>1.737516e-05</td>\n",
       "      <td>NaN</td>\n",
       "      <td>1.561516e-05</td>\n",
       "    </tr>\n",
       "    <tr>\n",
       "      <th>AAAI</th>\n",
       "      <td>2.571524e-05</td>\n",
       "      <td>NaN</td>\n",
       "      <td>2.193141e-05</td>\n",
       "    </tr>\n",
       "    <tr>\n",
       "      <th>AAAK</th>\n",
       "      <td>3.110153e-05</td>\n",
       "      <td>NaN</td>\n",
       "      <td>3.438844e-05</td>\n",
       "    </tr>\n",
       "    <tr>\n",
       "      <th>AAAL</th>\n",
       "      <td>8.565953e-05</td>\n",
       "      <td>NaN</td>\n",
       "      <td>8.597111e-05</td>\n",
       "    </tr>\n",
       "    <tr>\n",
       "      <th>AAAM</th>\n",
       "      <td>1.720141e-05</td>\n",
       "      <td>NaN</td>\n",
       "      <td>1.614151e-05</td>\n",
       "    </tr>\n",
       "    <tr>\n",
       "      <th>AAAN</th>\n",
       "      <td>1.702766e-05</td>\n",
       "      <td>NaN</td>\n",
       "      <td>1.807148e-05</td>\n",
       "    </tr>\n",
       "    <tr>\n",
       "      <th>AAAP</th>\n",
       "      <td>6.567810e-05</td>\n",
       "      <td>NaN</td>\n",
       "      <td>7.333862e-05</td>\n",
       "    </tr>\n",
       "    <tr>\n",
       "      <th>AAAQ</th>\n",
       "      <td>3.996287e-05</td>\n",
       "      <td>NaN</td>\n",
       "      <td>3.965198e-05</td>\n",
       "    </tr>\n",
       "    <tr>\n",
       "      <th>AAAR</th>\n",
       "      <td>4.917170e-05</td>\n",
       "      <td>NaN</td>\n",
       "      <td>4.842454e-05</td>\n",
       "    </tr>\n",
       "    <tr>\n",
       "      <th>AAAS</th>\n",
       "      <td>7.940448e-05</td>\n",
       "      <td>NaN</td>\n",
       "      <td>7.263682e-05</td>\n",
       "    </tr>\n",
       "    <tr>\n",
       "      <th>AAAT</th>\n",
       "      <td>5.282048e-05</td>\n",
       "      <td>NaN</td>\n",
       "      <td>5.631985e-05</td>\n",
       "    </tr>\n",
       "    <tr>\n",
       "      <th>AAAV</th>\n",
       "      <td>7.158566e-05</td>\n",
       "      <td>NaN</td>\n",
       "      <td>6.579422e-05</td>\n",
       "    </tr>\n",
       "    <tr>\n",
       "      <th>AAAW</th>\n",
       "      <td>8.340076e-06</td>\n",
       "      <td>NaN</td>\n",
       "      <td>8.597111e-06</td>\n",
       "    </tr>\n",
       "    <tr>\n",
       "      <th>AAAY</th>\n",
       "      <td>1.546389e-05</td>\n",
       "      <td>NaN</td>\n",
       "      <td>1.561516e-05</td>\n",
       "    </tr>\n",
       "    <tr>\n",
       "      <th>AACA</th>\n",
       "      <td>1.112010e-05</td>\n",
       "      <td>NaN</td>\n",
       "      <td>1.263249e-05</td>\n",
       "    </tr>\n",
       "    <tr>\n",
       "      <th>AACC</th>\n",
       "      <td>3.127529e-06</td>\n",
       "      <td>NaN</td>\n",
       "      <td>2.982671e-06</td>\n",
       "    </tr>\n",
       "    <tr>\n",
       "      <th>AACD</th>\n",
       "      <td>5.038796e-06</td>\n",
       "      <td>NaN</td>\n",
       "      <td>7.018050e-06</td>\n",
       "    </tr>\n",
       "    <tr>\n",
       "      <th>AACE</th>\n",
       "      <td>7.992573e-06</td>\n",
       "      <td>NaN</td>\n",
       "      <td>8.246209e-06</td>\n",
       "    </tr>\n",
       "    <tr>\n",
       "      <th>AACF</th>\n",
       "      <td>4.517541e-06</td>\n",
       "      <td>NaN</td>\n",
       "      <td>5.263537e-06</td>\n",
       "    </tr>\n",
       "    <tr>\n",
       "      <th>AACG</th>\n",
       "      <td>1.181511e-05</td>\n",
       "      <td>NaN</td>\n",
       "      <td>1.157978e-05</td>\n",
       "    </tr>\n",
       "    <tr>\n",
       "      <th>AACH</th>\n",
       "      <td>5.560051e-06</td>\n",
       "      <td>NaN</td>\n",
       "      <td>3.509025e-06</td>\n",
       "    </tr>\n",
       "    <tr>\n",
       "      <th>AACI</th>\n",
       "      <td>5.560051e-06</td>\n",
       "      <td>NaN</td>\n",
       "      <td>3.859927e-06</td>\n",
       "    </tr>\n",
       "    <tr>\n",
       "      <th>AACK</th>\n",
       "      <td>4.517541e-06</td>\n",
       "      <td>NaN</td>\n",
       "      <td>4.737184e-06</td>\n",
       "    </tr>\n",
       "    <tr>\n",
       "      <th>AACL</th>\n",
       "      <td>1.650640e-05</td>\n",
       "      <td>NaN</td>\n",
       "      <td>1.193068e-05</td>\n",
       "    </tr>\n",
       "    <tr>\n",
       "      <th>...</th>\n",
       "      <td>...</td>\n",
       "      <td>...</td>\n",
       "      <td>...</td>\n",
       "    </tr>\n",
       "    <tr>\n",
       "      <th>YYWK</th>\n",
       "      <td>8.687580e-07</td>\n",
       "      <td>NaN</td>\n",
       "      <td>3.509025e-07</td>\n",
       "    </tr>\n",
       "    <tr>\n",
       "      <th>YYWL</th>\n",
       "      <td>1.216261e-06</td>\n",
       "      <td>NaN</td>\n",
       "      <td>5.263537e-07</td>\n",
       "    </tr>\n",
       "    <tr>\n",
       "      <th>YYWN</th>\n",
       "      <td>6.950064e-07</td>\n",
       "      <td>NaN</td>\n",
       "      <td>7.018050e-07</td>\n",
       "    </tr>\n",
       "    <tr>\n",
       "      <th>YYWP</th>\n",
       "      <td>1.390013e-06</td>\n",
       "      <td>NaN</td>\n",
       "      <td>1.228159e-06</td>\n",
       "    </tr>\n",
       "    <tr>\n",
       "      <th>YYWQ</th>\n",
       "      <td>5.212548e-07</td>\n",
       "      <td>NaN</td>\n",
       "      <td>3.509025e-07</td>\n",
       "    </tr>\n",
       "    <tr>\n",
       "      <th>YYWR</th>\n",
       "      <td>1.737516e-07</td>\n",
       "      <td>NaN</td>\n",
       "      <td>7.018050e-07</td>\n",
       "    </tr>\n",
       "    <tr>\n",
       "      <th>YYWS</th>\n",
       "      <td>1.216261e-06</td>\n",
       "      <td>NaN</td>\n",
       "      <td>1.403610e-06</td>\n",
       "    </tr>\n",
       "    <tr>\n",
       "      <th>YYWV</th>\n",
       "      <td>5.212548e-07</td>\n",
       "      <td>NaN</td>\n",
       "      <td>1.052707e-06</td>\n",
       "    </tr>\n",
       "    <tr>\n",
       "      <th>YYWW</th>\n",
       "      <td>8.687580e-07</td>\n",
       "      <td>NaN</td>\n",
       "      <td>1.754512e-07</td>\n",
       "    </tr>\n",
       "    <tr>\n",
       "      <th>YYWY</th>\n",
       "      <td>6.950064e-07</td>\n",
       "      <td>NaN</td>\n",
       "      <td>3.509025e-07</td>\n",
       "    </tr>\n",
       "    <tr>\n",
       "      <th>YYYA</th>\n",
       "      <td>2.258771e-06</td>\n",
       "      <td>NaN</td>\n",
       "      <td>1.929964e-06</td>\n",
       "    </tr>\n",
       "    <tr>\n",
       "      <th>YYYC</th>\n",
       "      <td>1.737516e-06</td>\n",
       "      <td>NaN</td>\n",
       "      <td>3.509025e-07</td>\n",
       "    </tr>\n",
       "    <tr>\n",
       "      <th>YYYD</th>\n",
       "      <td>3.648783e-06</td>\n",
       "      <td>NaN</td>\n",
       "      <td>2.982671e-06</td>\n",
       "    </tr>\n",
       "    <tr>\n",
       "      <th>YYYE</th>\n",
       "      <td>2.953777e-06</td>\n",
       "      <td>NaN</td>\n",
       "      <td>2.105415e-06</td>\n",
       "    </tr>\n",
       "    <tr>\n",
       "      <th>YYYF</th>\n",
       "      <td>1.911267e-06</td>\n",
       "      <td>NaN</td>\n",
       "      <td>1.579061e-06</td>\n",
       "    </tr>\n",
       "    <tr>\n",
       "      <th>YYYG</th>\n",
       "      <td>2.258771e-06</td>\n",
       "      <td>NaN</td>\n",
       "      <td>2.631769e-06</td>\n",
       "    </tr>\n",
       "    <tr>\n",
       "      <th>YYYH</th>\n",
       "      <td>1.563764e-06</td>\n",
       "      <td>NaN</td>\n",
       "      <td>1.228159e-06</td>\n",
       "    </tr>\n",
       "    <tr>\n",
       "      <th>YYYI</th>\n",
       "      <td>2.085019e-06</td>\n",
       "      <td>NaN</td>\n",
       "      <td>2.105415e-06</td>\n",
       "    </tr>\n",
       "    <tr>\n",
       "      <th>YYYK</th>\n",
       "      <td>1.042510e-06</td>\n",
       "      <td>NaN</td>\n",
       "      <td>1.929964e-06</td>\n",
       "    </tr>\n",
       "    <tr>\n",
       "      <th>YYYL</th>\n",
       "      <td>1.911267e-06</td>\n",
       "      <td>NaN</td>\n",
       "      <td>3.509025e-06</td>\n",
       "    </tr>\n",
       "    <tr>\n",
       "      <th>YYYM</th>\n",
       "      <td>1.563764e-06</td>\n",
       "      <td>NaN</td>\n",
       "      <td>1.403610e-06</td>\n",
       "    </tr>\n",
       "    <tr>\n",
       "      <th>YYYN</th>\n",
       "      <td>1.911267e-06</td>\n",
       "      <td>NaN</td>\n",
       "      <td>2.631769e-06</td>\n",
       "    </tr>\n",
       "    <tr>\n",
       "      <th>YYYP</th>\n",
       "      <td>2.953777e-06</td>\n",
       "      <td>NaN</td>\n",
       "      <td>1.403610e-06</td>\n",
       "    </tr>\n",
       "    <tr>\n",
       "      <th>YYYQ</th>\n",
       "      <td>3.475032e-06</td>\n",
       "      <td>NaN</td>\n",
       "      <td>2.456317e-06</td>\n",
       "    </tr>\n",
       "    <tr>\n",
       "      <th>YYYR</th>\n",
       "      <td>1.737516e-06</td>\n",
       "      <td>NaN</td>\n",
       "      <td>2.631769e-06</td>\n",
       "    </tr>\n",
       "    <tr>\n",
       "      <th>YYYS</th>\n",
       "      <td>3.996287e-06</td>\n",
       "      <td>NaN</td>\n",
       "      <td>2.631769e-06</td>\n",
       "    </tr>\n",
       "    <tr>\n",
       "      <th>YYYT</th>\n",
       "      <td>2.606274e-06</td>\n",
       "      <td>NaN</td>\n",
       "      <td>8.772562e-07</td>\n",
       "    </tr>\n",
       "    <tr>\n",
       "      <th>YYYV</th>\n",
       "      <td>2.432522e-06</td>\n",
       "      <td>NaN</td>\n",
       "      <td>5.263537e-07</td>\n",
       "    </tr>\n",
       "    <tr>\n",
       "      <th>YYYW</th>\n",
       "      <td>6.950064e-07</td>\n",
       "      <td>NaN</td>\n",
       "      <td>8.772562e-07</td>\n",
       "    </tr>\n",
       "    <tr>\n",
       "      <th>YYYY</th>\n",
       "      <td>2.953777e-06</td>\n",
       "      <td>NaN</td>\n",
       "      <td>2.807220e-06</td>\n",
       "    </tr>\n",
       "  </tbody>\n",
       "</table>\n",
       "<p>157836 rows × 3 columns</p>\n",
       "</div>"
      ],
      "text/plain": [
       "        freq_train  freq_test     freq_test\n",
       "seq                                        \n",
       "AAAA  3.975436e-04        NaN  3.831855e-04\n",
       "AAAC  1.390013e-05        NaN  1.280794e-05\n",
       "AAAD  2.762650e-05        NaN  2.526498e-05\n",
       "AAAE  5.577426e-05        NaN  5.175812e-05\n",
       "AAAF  2.832151e-05        NaN  2.193141e-05\n",
       "AAAG  9.399961e-05        NaN  9.281371e-05\n",
       "AAAH  1.737516e-05        NaN  1.561516e-05\n",
       "AAAI  2.571524e-05        NaN  2.193141e-05\n",
       "AAAK  3.110153e-05        NaN  3.438844e-05\n",
       "AAAL  8.565953e-05        NaN  8.597111e-05\n",
       "AAAM  1.720141e-05        NaN  1.614151e-05\n",
       "AAAN  1.702766e-05        NaN  1.807148e-05\n",
       "AAAP  6.567810e-05        NaN  7.333862e-05\n",
       "AAAQ  3.996287e-05        NaN  3.965198e-05\n",
       "AAAR  4.917170e-05        NaN  4.842454e-05\n",
       "AAAS  7.940448e-05        NaN  7.263682e-05\n",
       "AAAT  5.282048e-05        NaN  5.631985e-05\n",
       "AAAV  7.158566e-05        NaN  6.579422e-05\n",
       "AAAW  8.340076e-06        NaN  8.597111e-06\n",
       "AAAY  1.546389e-05        NaN  1.561516e-05\n",
       "AACA  1.112010e-05        NaN  1.263249e-05\n",
       "AACC  3.127529e-06        NaN  2.982671e-06\n",
       "AACD  5.038796e-06        NaN  7.018050e-06\n",
       "AACE  7.992573e-06        NaN  8.246209e-06\n",
       "AACF  4.517541e-06        NaN  5.263537e-06\n",
       "AACG  1.181511e-05        NaN  1.157978e-05\n",
       "AACH  5.560051e-06        NaN  3.509025e-06\n",
       "AACI  5.560051e-06        NaN  3.859927e-06\n",
       "AACK  4.517541e-06        NaN  4.737184e-06\n",
       "AACL  1.650640e-05        NaN  1.193068e-05\n",
       "...            ...        ...           ...\n",
       "YYWK  8.687580e-07        NaN  3.509025e-07\n",
       "YYWL  1.216261e-06        NaN  5.263537e-07\n",
       "YYWN  6.950064e-07        NaN  7.018050e-07\n",
       "YYWP  1.390013e-06        NaN  1.228159e-06\n",
       "YYWQ  5.212548e-07        NaN  3.509025e-07\n",
       "YYWR  1.737516e-07        NaN  7.018050e-07\n",
       "YYWS  1.216261e-06        NaN  1.403610e-06\n",
       "YYWV  5.212548e-07        NaN  1.052707e-06\n",
       "YYWW  8.687580e-07        NaN  1.754512e-07\n",
       "YYWY  6.950064e-07        NaN  3.509025e-07\n",
       "YYYA  2.258771e-06        NaN  1.929964e-06\n",
       "YYYC  1.737516e-06        NaN  3.509025e-07\n",
       "YYYD  3.648783e-06        NaN  2.982671e-06\n",
       "YYYE  2.953777e-06        NaN  2.105415e-06\n",
       "YYYF  1.911267e-06        NaN  1.579061e-06\n",
       "YYYG  2.258771e-06        NaN  2.631769e-06\n",
       "YYYH  1.563764e-06        NaN  1.228159e-06\n",
       "YYYI  2.085019e-06        NaN  2.105415e-06\n",
       "YYYK  1.042510e-06        NaN  1.929964e-06\n",
       "YYYL  1.911267e-06        NaN  3.509025e-06\n",
       "YYYM  1.563764e-06        NaN  1.403610e-06\n",
       "YYYN  1.911267e-06        NaN  2.631769e-06\n",
       "YYYP  2.953777e-06        NaN  1.403610e-06\n",
       "YYYQ  3.475032e-06        NaN  2.456317e-06\n",
       "YYYR  1.737516e-06        NaN  2.631769e-06\n",
       "YYYS  3.996287e-06        NaN  2.631769e-06\n",
       "YYYT  2.606274e-06        NaN  8.772562e-07\n",
       "YYYV  2.432522e-06        NaN  5.263537e-07\n",
       "YYYW  6.950064e-07        NaN  8.772562e-07\n",
       "YYYY  2.953777e-06        NaN  2.807220e-06\n",
       "\n",
       "[157836 rows x 3 columns]"
      ]
     },
     "execution_count": 65,
     "metadata": {},
     "output_type": "execute_result"
    }
   ],
   "source": []
  },
  {
   "cell_type": "code",
   "execution_count": 66,
   "metadata": {},
   "outputs": [],
   "source": [
    "k = 4\n",
    "df4 = count(train, k)\n",
    "df4 = df4.merge(count(test, k), right_index=True, left_index=True, suffixes=['_train', '_test'])\n",
    "jsd_test = calc_jsd(df4['freq_train'], df4['freq_test'])\n",
    "jsd_flat = calc_jsd(df4['freq_test'], np.ones_like(df4['freq_test']))"
   ]
  },
  {
   "cell_type": "code",
   "execution_count": 68,
   "metadata": {},
   "outputs": [],
   "source": [
    "with open('../../data/triplet-human.json', 'r') as f:\n",
    "    tripletparams = json.load(f)\n",
    "kmers = df4.index\n",
    "df4['freq_ind'] = np.array([10**(loglikelihood_independent(s, **tripletparams)) for s in kmers])\n",
    "df4['freq_mc'] = np.array([10**(loglikelihood_mc(s, **tripletparams)) for s in kmers])\n",
    "df4['freq_tri'] = np.array([10**(loglikelihood_triplet(s, **tripletparams)) for s in kmers])\n",
    "jsd_ind = calc_jsd(df4['freq_test'], df4['freq_ind'])\n",
    "jsd_mc = calc_jsd(df4['freq_test'], df4['freq_mc'])\n",
    "jsd_tri = calc_jsd(df4['freq_test'], df4['freq_tri'])"
   ]
  },
  {
   "cell_type": "code",
   "execution_count": 69,
   "metadata": {},
   "outputs": [],
   "source": [
    "q = len(aminoacids)\n",
    "Z = np.exp(scipy.special.logsumexp([-clib.energy(np.array(s), h, Jk) for s in itertools.product(range(q), repeat=k)]))\n",
    "df4['freq_maxent'] = np.exp([-clib.energy(map_aatonumber(s), h, Jk) for s in kmers])/Z\n",
    "jsd_maxent = calc_jsd(df4['freq_test'], df4['freq_maxent'])"
   ]
  },
  {
   "cell_type": "code",
   "execution_count": 70,
   "metadata": {},
   "outputs": [
    {
     "name": "stdout",
     "output_type": "stream",
     "text": [
      "flat 0.11022413525881233 ind 0.019422543152563265 mc 0.013133736028236852 model 0.009155048901039988 tri 0.00870439210858727 test 0.007588070936076536\n"
     ]
    }
   ],
   "source": [
    "print('flat', jsd_flat, 'ind', jsd_ind, 'mc', jsd_mc, 'model', jsd_maxent, 'tri', jsd_tri, 'test', jsd_test, )"
   ]
  },
  {
   "cell_type": "code",
   "execution_count": 28,
   "metadata": {},
   "outputs": [],
   "source": [
    "q = len(aminoacids)\n",
    "N = 4\n",
    "nmcmc = 1e6\n",
    "prng = np.random\n",
    "def jump(x):\n",
    "    return prng.randint(q, size=N)\n",
    "def energy(x):\n",
    "    return clib.energy(x, h, Jk)\n",
    "x0 = jump(None)\n",
    "samples = mcmcsampler(x0, energy, jump, nmcmc)\n",
    "samples = [''.join(aas_arr[s]) for s in samples]"
   ]
  },
  {
   "cell_type": "code",
   "execution_count": 30,
   "metadata": {},
   "outputs": [
    {
     "data": {
      "text/plain": [
       "0.005162126422964316"
      ]
     },
     "execution_count": 30,
     "metadata": {},
     "output_type": "execute_result"
    },
    {
     "data": {
      "image/png": "[encoded data removed]",
      "text/plain": [
       "<Figure size 432x288 with 1 Axes>"
      ]
     },
     "metadata": {
      "needs_background": "light"
     },
     "output_type": "display_data"
    }
   ],
   "source": [
    "dfm0 = df0.merge(count(samples, 1), left_index=True, right_index=True)\n",
    "x = np.linspace(0.0, 0.1)\n",
    "plt.plot(x, x, 'k')\n",
    "plt.scatter(dfm0['freq_x'], dfm0['freq_y'])\n",
    "dfm0['logfold'] = np.log(dfm0['freq_x']/dfm0['freq_y'])\n",
    "np.abs(dfm0['logfold']).mean()"
   ]
  },
  {
   "cell_type": "code",
   "execution_count": 33,
   "metadata": {
    "scrolled": true
   },
   "outputs": [
    {
     "data": {
      "text/plain": [
       "0.01984155921791898"
      ]
     },
     "execution_count": 33,
     "metadata": {},
     "output_type": "execute_result"
    },
    {
     "data": {
      "image/png": "[encoded data removed]",
      "text/plain": [
       "<Figure size 432x288 with 1 Axes>"
      ]
     },
     "metadata": {
      "needs_background": "light"
     },
     "output_type": "display_data"
    }
   ],
   "source": [
    "dfm1 = df1.merge(count(samples, 2), left_index=True, right_index=True)\n",
    "x = np.linspace(0.0, 0.11**2)\n",
    "plt.plot(x, x, 'k')\n",
    "plt.scatter(dfm1['freq_x'], dfm1['freq_y'])\n",
    "dfm1['logfold'] = np.log(dfm1['freq_x']/dfm1['freq_y'])\n",
    "np.abs(dfm1['logfold']).mean()"
   ]
  },
  {
   "cell_type": "code",
   "execution_count": 35,
   "metadata": {},
   "outputs": [
    {
     "data": {
      "text/plain": [
       "0.02306294047711688"
      ]
     },
     "execution_count": 35,
     "metadata": {},
     "output_type": "execute_result"
    },
    {
     "data": {
      "image/png": "[encoded data removed]",
      "text/plain": [
       "<Figure size 432x288 with 1 Axes>"
      ]
     },
     "metadata": {
      "needs_background": "light"
     },
     "output_type": "display_data"
    }
   ],
   "source": [
    "dfmgap1 = dfgap1.merge(count(samples, 2, gap=1), left_index=True, right_index=True)\n",
    "x = np.linspace(0.0, 0.11**2)\n",
    "plt.plot(x, x, 'k')\n",
    "plt.scatter(dfmgap1['freq_x'], dfmgap1['freq_y'])\n",
    "dfmgap1['logfold'] = np.log(dfmgap1['freq_x']/dfmgap1['freq_y'])\n",
    "np.abs(dfmgap1['logfold']).mean()"
   ]
  },
  {
   "cell_type": "code",
   "execution_count": 36,
   "metadata": {},
   "outputs": [
    {
     "data": {
      "text/plain": [
       "0.03242584925616405"
      ]
     },
     "execution_count": 36,
     "metadata": {},
     "output_type": "execute_result"
    },
    {
     "data": {
      "image/png": "[encoded data removed]",
      "text/plain": [
       "<Figure size 432x288 with 1 Axes>"
      ]
     },
     "metadata": {
      "needs_background": "light"
     },
     "output_type": "display_data"
    }
   ],
   "source": [
    "dfmgap2 = dfgap2.merge(count(samples, 2, gap=2), left_index=True, right_index=True)\n",
    "x = np.linspace(0.0, 0.11**2)\n",
    "plt.plot(x, x, 'k')\n",
    "plt.scatter(dfmgap2['freq_x'], dfmgap2['freq_y'])\n",
    "dfmgap2['logfold'] = np.log(dfmgap2['freq_x']/dfmgap2['freq_y'])\n",
    "np.abs(dfmgap2['logfold']).mean()"
   ]
  },
  {
   "cell_type": "code",
   "execution_count": 108,
   "metadata": {},
   "outputs": [
    {
     "data": {
      "image/png": "[encoded data removed]",
      "text/plain": [
       "<Figure size 273.6x144 with 2 Axes>"
      ]
     },
     "metadata": {},
     "output_type": "display_data"
    }
   ],
   "source": [
    "fig, axes = plt.subplots(figsize=(3.8, 2.0), ncols=2, sharex=True, sharey=True)\n",
    "ax = axes[0]\n",
    "ax.scatter(df4['freq_maxent'], df4['freq_test'], s=0.5, label='maxent', alpha=.1)\n",
    "ax.set_xlabel('maxent prediction')\n",
    "ax.set_ylabel('test set')\n",
    "ax = axes[1]\n",
    "ax.scatter(df4['freq_train'], df4['freq_test'], s=0.5, label='train', alpha=.1)\n",
    "ax.set_xlabel('training set')\n",
    "ax.set_ylabel('test set')\n",
    "x = np.logspace(-7, -3)\n",
    "for ax in axes:\n",
    "    ax.plot(x, x, 'k')\n",
    "    ax.set_xlim(min(x), max(x))\n",
    "    ax.set_ylim(min(x), max(x))\n",
    "    #plt.legend()\n",
    "    ax.set_xscale('log')\n",
    "    ax.set_yscale('log')\n",
    "fig.tight_layout()\n",
    "fig.savefig('4mer-comparison.png', dpi=600)"
   ]
  },
  {
   "cell_type": "code",
   "execution_count": 23,
   "metadata": {},
   "outputs": [],
   "source": [
    "dfJk = [pd.DataFrame.from_dict(J) for J in Jk]"
   ]
  },
  {
   "cell_type": "code",
   "execution_count": 24,
   "metadata": {},
   "outputs": [
    {
     "data": {
      "image/png": "[encoded data removed]",
      "text/plain": [
       "<Figure size 1440x432 with 6 Axes>"
      ]
     },
     "metadata": {
      "needs_background": "light"
     },
     "output_type": "display_data"
    }
   ],
   "source": [
    "fig, axes = plt.subplots(figsize=(20, 6), ncols=len(dfJk), sharex=True, sharey=True)\n",
    "for i, dfJ in enumerate(dfJk):\n",
    "    sns.heatmap(dfJ, vmin=-0.5, vmax=0.5, cmap='RdBu_r', ax=axes[i])\n",
    "fig.tight_layout()"
   ]
  },
  {
   "cell_type": "code",
   "execution_count": 27,
   "metadata": {},
   "outputs": [
    {
     "data": {
      "text/plain": [
       "(0.6698462989385501, 0.658764374383573, 0.5852676481182697, 0.5268749495340342)"
      ]
     },
     "execution_count": 27,
     "metadata": {},
     "output_type": "execute_result"
    }
   ],
   "source": [
    "k = 5\n",
    "#kmers = list(itertools.product(aminoacids, repeat=k))\n",
    "df = counter_to_df(count_kmers_proteome(human, k))\n",
    "df = df[~df['seq'].str.contains('U|B|X|Z')]\n",
    "df = df.set_index('seq')\n",
    "kmers = df.index\n",
    "exp = np.array([float(df.loc[''.join(s)]) for s in kmers])\n",
    "Z = np.exp(scipy.special.logsumexp([-energy_ising(s, h, Jk) for s in itertools.product(aminoacids, repeat=k)]))\n",
    "ising = np.exp([-energy_ising(s, h, Jk) for s in kmers])/Z\n",
    "tri = np.array([10**(loglikelihood_triplet(s, **tripletparams)) for s in kmers])\n",
    "mc = np.array([10**(loglikelihood_mc(s, **tripletparams)) for s in kmers])\n",
    "ind = np.array([10**(loglikelihood_independent(s, **tripletparams)) for s in kmers])\n",
    "rising = np.corrcoef(ising, exp)[1, 0]\n",
    "rind = np.corrcoef(ind, exp)[1, 0]\n",
    "rtri = np.corrcoef(tri, exp)[1, 0]\n",
    "rtri, rising, np.corrcoef(mc, exp)[1, 0], rind"
   ]
  },
  {
   "cell_type": "code",
   "execution_count": null,
   "metadata": {},
   "outputs": [],
   "source": [
    "fig = plt.figure(figsize=(4, 4))\n",
    "plt.scatter(ind, exp, s=1, label='independent, r=%1.2f'%rind)\n",
    "#plt.scatter(mc, exp, s=1)\n",
    "plt.scatter(tri, exp, s=1, label='tri, r=%1.2f'%rtri)\n",
    "x = np.logspace(-7, -3)\n",
    "plt.xlabel('predicted')\n",
    "plt.ylabel('observed')\n",
    "plt.plot(x, x, 'k')\n",
    "plt.xlim(min(x), max(x))\n",
    "plt.ylim(min(x), max(x))\n",
    "plt.legend()\n",
    "plt.xscale('log')\n",
    "plt.yscale('log')\n",
    "fig.tight_layout()\n",
    "fig.savefig('plots/modelfits-4mer-tri.png', dpi=300)"
   ]
  },
  {
   "cell_type": "code",
   "execution_count": null,
   "metadata": {},
   "outputs": [],
   "source": [
    "pd.DataFrame(index=[key for key in h], data=[h[key] for key in h], columns=['h'])"
   ]
  },
  {
   "cell_type": "code",
   "execution_count": 7,
   "metadata": {},
   "outputs": [
    {
     "data": {
      "text/plain": [
       "[<matplotlib.lines.Line2D at 0x7f5d527eef60>]"
      ]
     },
     "execution_count": 7,
     "metadata": {},
     "output_type": "execute_result"
    },
    {
     "data": {
      "image/png": "[encoded data removed]",
      "text/plain": [
       "<Figure size 432x288 with 1 Axes>"
      ]
     },
     "metadata": {
      "needs_background": "light"
     },
     "output_type": "display_data"
    }
   ],
   "source": [
    "plot_sorted(df['count'])"
   ]
  },
  {
   "cell_type": "code",
   "execution_count": null,
   "metadata": {},
   "outputs": [],
   "source": [
    "doublets = [''.join(s) for s in itertools.product(list(aminoacids), repeat=2)]"
   ]
  },
  {
   "cell_type": "code",
   "execution_count": null,
   "metadata": {},
   "outputs": [],
   "source": [
    "df = pd.DataFrame(index=doublets, data=[Jk[0][s[0]][s[1]] for s in doublets], columns=['J0'])\n",
    "for i in range(1, len(Jk)):\n",
    "    df['J%g'%i] = [Jk[i][s[0]][s[1]] for s in doublets]"
   ]
  },
  {
   "cell_type": "code",
   "execution_count": null,
   "metadata": {},
   "outputs": [],
   "source": [
    "from functools import reduce"
   ]
  },
  {
   "cell_type": "code",
   "execution_count": null,
   "metadata": {},
   "outputs": [],
   "source": [
    "df"
   ]
  },
  {
   "cell_type": "code",
   "execution_count": null,
   "metadata": {},
   "outputs": [],
   "source": [
    "reduce(lambda left,right: pd.merge(left,right, left_index=True, right_index=True), [pd.DataFrame.from_dict(\n",
    "    {i+j: Jk[gap][i][j] for i in Jk[gap].keys() for j in Jk[gap][i].keys()},\n",
    "    orient='index')\n",
    "           for gap in range(len(Jk))])"
   ]
  },
  {
   "cell_type": "code",
   "execution_count": null,
   "metadata": {},
   "outputs": [],
   "source": [
    "pd.merge?"
   ]
  },
  {
   "cell_type": "code",
   "execution_count": null,
   "metadata": {},
   "outputs": [],
   "source": []
  }
 ],
 "metadata": {
  "kernelspec": {
   "display_name": "Python 3",
   "language": "python",
   "name": "python3"
  },
  "language_info": {
   "codemirror_mode": {
    "name": "ipython",
    "version": 3
   },
   "file_extension": ".py",
   "mimetype": "text/x-python",
   "name": "python",
   "nbconvert_exporter": "python",
   "pygments_lexer": "ipython3",
   "version": "3.6.8"
  }
 },
 "nbformat": 4,
 "nbformat_minor": 2
}
