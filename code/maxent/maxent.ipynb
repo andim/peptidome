{
 "cells": [
  {
   "cell_type": "code",
   "execution_count": 19,
   "metadata": {},
   "outputs": [],
   "source": [
    "import sys\n",
    "sys.path.append('..')\n",
    "import itertools, copy\n",
    "import json\n",
    "import numpy as np\n",
    "import scipy.misc\n",
    "from sklearn.model_selection import train_test_split\n",
    "import pandas as pd\n",
    "import seaborn as sns\n",
    "import matplotlib.pyplot as plt\n",
    "%matplotlib inline\n",
    "\n",
    "plt.style.use('../peptidome.mplstyle')\n",
    "\n",
    "from lib import *\n",
    "from base import *"
   ]
  },
  {
   "cell_type": "code",
   "execution_count": 20,
   "metadata": {},
   "outputs": [],
   "source": [
    "output = True\n",
    "aas_arr = np.array(list(aminoacids))\n",
    "N = 4\n",
    "seed = 1234\n",
    "prng = np.random.RandomState(seed)\n"
   ]
  },
  {
   "cell_type": "code",
   "execution_count": 21,
   "metadata": {},
   "outputs": [],
   "source": [
    "humanseqs = [s for s in fasta_iter(human, returnheader=False)]\n",
    "train, test = train_test_split(humanseqs, test_size=0.5)\n"
   ]
  },
  {
   "cell_type": "code",
   "execution_count": 4,
   "metadata": {},
   "outputs": [],
   "source": [
    "# evaluate empirical observables for fitting\n",
    "df0 = count(train, 1)\n",
    "df1 = count(train, 2, gap=0)\n",
    "dfgap1 = count(train, 2, gap=1)\n",
    "dfgap2 = count(train, 2, gap=2)"
   ]
  },
  {
   "cell_type": "code",
   "execution_count": 5,
   "metadata": {},
   "outputs": [
    {
     "name": "stdout",
     "output_type": "stream",
     "text": [
      "[ 0.45400779 -0.66050852  0.05611162  0.46870351 -0.20250439  0.39748563\n",
      " -0.52087632 -0.03259483  0.25030339  0.80545478 -0.74174209 -0.21726625\n",
      "  0.35364766  0.07429697  0.23695342  0.62506977  0.17829996  0.29101695\n",
      " -1.30176657 -0.51409249]\n",
      "iteration 0\n",
      "f1 1.548136412473544e-06\n",
      "f2, gap 0 0.002401566853782732\n",
      "f2, gap 1 0.0018014411864347973\n",
      "f2, gap 2 0.0019662817228899058\n",
      "iteration 1\n",
      "f1 2.6460712837714895e-06\n",
      "f2, gap 0 0.0020081820945886814\n",
      "f2, gap 1 0.0015029653544621014\n",
      "f2, gap 2 0.0016196840151457676\n",
      "iteration 2\n",
      "f1 5.644796886231619e-06\n",
      "f2, gap 0 0.001593894769203269\n",
      "f2, gap 1 0.0011119418518341444\n",
      "f2, gap 2 0.0012559946365008322\n",
      "iteration 3\n",
      "f1 4.9896998263220985e-06\n",
      "f2, gap 0 0.0012959723035681327\n",
      "f2, gap 1 0.0009880889623188655\n",
      "f2, gap 2 0.001093922169590812\n",
      "iteration 4\n",
      "f1 5.6958500904870736e-06\n",
      "f2, gap 0 0.0010616233306976392\n",
      "f2, gap 1 0.0007901491994967216\n",
      "f2, gap 2 0.0009664777109721381\n",
      "iteration 5\n",
      "f1 4.852053641590939e-06\n",
      "f2, gap 0 0.000861826237087767\n",
      "f2, gap 1 0.0006929872125033048\n",
      "f2, gap 2 0.0007378712068947736\n",
      "iteration 6\n",
      "f1 4.829883367998935e-06\n",
      "f2, gap 0 0.0007616803315415308\n",
      "f2, gap 1 0.0005458098824819909\n",
      "f2, gap 2 0.0007108559727005716\n",
      "iteration 7\n",
      "f1 5.324866594919233e-06\n",
      "f2, gap 0 0.0005673491504112425\n",
      "f2, gap 1 0.0004144854592168397\n",
      "f2, gap 2 0.0006103340569476015\n",
      "iteration 8\n",
      "f1 5.01899476677927e-06\n",
      "f2, gap 0 0.00045998040404187014\n",
      "f2, gap 1 0.0004121310459417326\n",
      "f2, gap 2 0.0004893900545394005\n",
      "iteration 9\n",
      "f1 4.259055610558267e-06\n",
      "f2, gap 0 0.00038967032027807853\n",
      "f2, gap 1 0.00032737353665926444\n",
      "f2, gap 2 0.0004499636671384638\n",
      "iteration 10\n",
      "f1 4.860344025865403e-06\n",
      "f2, gap 0 0.0003280971089555705\n",
      "f2, gap 1 0.000260673601083313\n",
      "f2, gap 2 0.00037087924417709896\n",
      "iteration 11\n",
      "f1 8.438685588806649e-06\n",
      "f2, gap 0 0.00025221902648853937\n",
      "f2, gap 1 0.00022256694286771625\n",
      "f2, gap 2 0.00030657243754823237\n",
      "iteration 12\n",
      "f1 5.361268190875379e-06\n",
      "f2, gap 0 0.00021230833713349696\n",
      "f2, gap 1 0.00019579092058847323\n",
      "f2, gap 2 0.0003147085142236149\n",
      "iteration 13\n",
      "f1 5.434373125814059e-06\n",
      "f2, gap 0 0.00022735078572080658\n",
      "f2, gap 1 0.00018366150799912438\n",
      "f2, gap 2 0.00029854499699931794\n",
      "iteration 14\n",
      "f1 7.251259996734966e-06\n",
      "f2, gap 0 0.00015303056862415516\n",
      "f2, gap 1 0.0001611238759376954\n",
      "f2, gap 2 0.00026487768489788684\n",
      "iteration 15\n",
      "f1 5.124866541439963e-06\n",
      "f2, gap 0 0.00015096841246278216\n",
      "f2, gap 1 0.00013853527050005393\n",
      "f2, gap 2 0.0002419607613620416\n",
      "iteration 16\n",
      "f1 7.218949656037291e-06\n",
      "f2, gap 0 0.00012947885368629075\n",
      "f2, gap 1 0.00013627498281314654\n",
      "f2, gap 2 0.00023578829366847795\n",
      "iteration 17\n",
      "f1 5.4763269413449785e-06\n",
      "f2, gap 0 0.00013574437825096376\n",
      "f2, gap 1 0.0001342434755818682\n",
      "f2, gap 2 0.00021019752906954172\n",
      "iteration 18\n",
      "f1 5.260449023115211e-06\n",
      "f2, gap 0 0.00011090315172730098\n",
      "f2, gap 1 0.00010909468534347336\n",
      "f2, gap 2 0.00017923185944991794\n",
      "iteration 19\n",
      "f1 5.214901536860589e-06\n",
      "f2, gap 0 8.826459986553017e-05\n",
      "f2, gap 1 0.00010282227160806246\n",
      "f2, gap 2 0.00019322646096022638\n",
      "iteration 20\n",
      "f1 7.353466795579548e-06\n",
      "f2, gap 0 8.160542205897787e-05\n",
      "f2, gap 1 9.315056958994269e-05\n",
      "f2, gap 2 0.00016382104386739144\n",
      "iteration 21\n",
      "f1 4.502606604702198e-06\n",
      "f2, gap 0 8.248294146892695e-05\n",
      "f2, gap 1 9.630026905426908e-05\n",
      "f2, gap 2 0.0001983386035923123\n",
      "iteration 22\n",
      "f1 6.305391741953893e-06\n",
      "f2, gap 0 9.644836603169498e-05\n",
      "f2, gap 1 0.0001091622633290176\n",
      "f2, gap 2 0.00019255534614438409\n",
      "iteration 23\n",
      "f1 8.381059943051194e-06\n",
      "f2, gap 0 7.269200367290658e-05\n",
      "f2, gap 1 0.00010936554764831229\n",
      "f2, gap 2 0.00016591974925993477\n",
      "iteration 24\n",
      "f1 7.542094184622236e-06\n",
      "f2, gap 0 6.373121095777164e-05\n",
      "f2, gap 1 8.31558455987215e-05\n",
      "f2, gap 2 0.00019779426497731583\n",
      "iteration 25\n",
      "f1 6.226832254903351e-06\n",
      "f2, gap 0 7.525271058860124e-05\n",
      "f2, gap 1 0.00010203269011657942\n",
      "f2, gap 2 0.000187139756690101\n",
      "iteration 26\n",
      "f1 7.278105865153421e-06\n",
      "f2, gap 0 7.372330622026563e-05\n",
      "f2, gap 1 9.160004044013792e-05\n",
      "f2, gap 2 0.00019400048817127063\n",
      "iteration 27\n",
      "f1 6.481490296453591e-06\n",
      "f2, gap 0 6.424515008145165e-05\n",
      "f2, gap 1 8.795082144529974e-05\n",
      "f2, gap 2 0.00017525610856562192\n",
      "iteration 28\n",
      "f1 5.888328231075019e-06\n",
      "f2, gap 0 7.405111286319058e-05\n",
      "f2, gap 1 9.445416451924458e-05\n",
      "f2, gap 2 0.00017719893073482297\n",
      "iteration 29\n",
      "f1 7.104793354059407e-06\n",
      "f2, gap 0 6.50681336847835e-05\n",
      "f2, gap 1 9.727214956718809e-05\n",
      "f2, gap 2 0.0001575284475242545\n"
     ]
    }
   ],
   "source": [
    "h, Jk = fit_ising(df0, [df1, dfgap1, dfgap2], nmcmc=1e6, niter=30, epsilon=0.1, prng=prng, output=output, N=N)"
   ]
  },
  {
   "cell_type": "code",
   "execution_count": 6,
   "metadata": {},
   "outputs": [],
   "source": [
    "k = 4\n",
    "df4 = count(train, k)\n",
    "df4 = df4.merge(count(test, k), right_index=True, left_index=True, suffixes=['_train', '_test'])\n",
    "jsd_test = calc_jsd(df4['freq_train'], df4['freq_test'])\n",
    "jsd_flat = calc_jsd(df4['freq_test'], np.ones_like(df4['freq_test']))"
   ]
  },
  {
   "cell_type": "code",
   "execution_count": 7,
   "metadata": {},
   "outputs": [],
   "source": [
    "with open('../../data/triplet-human.json', 'r') as f:\n",
    "    tripletparams = json.load(f)\n",
    "kmers = df4.index\n",
    "df4['freq_ind'] = np.array([10**(loglikelihood_independent(s, **tripletparams)) for s in kmers])\n",
    "df4['freq_mc'] = np.array([10**(loglikelihood_mc(s, **tripletparams)) for s in kmers])\n",
    "df4['freq_tri'] = np.array([10**(loglikelihood_triplet(s, **tripletparams)) for s in kmers])\n",
    "jsd_ind = calc_jsd(df4['freq_test'], df4['freq_ind'])\n",
    "jsd_mc = calc_jsd(df4['freq_test'], df4['freq_mc'])\n",
    "jsd_tri = calc_jsd(df4['freq_test'], df4['freq_tri'])"
   ]
  },
  {
   "cell_type": "code",
   "execution_count": 8,
   "metadata": {},
   "outputs": [],
   "source": [
    "q = len(aminoacids)\n",
    "Z = np.exp(scipy.special.logsumexp([-clib.energy(np.array(s), h, Jk) for s in itertools.product(range(q), repeat=k)]))\n",
    "df4['freq_maxent'] = np.exp([-clib.energy(map_aatonumber(s), h, Jk) for s in kmers])/Z\n",
    "jsd_maxent = calc_jsd(df4['freq_test'], df4['freq_maxent'])"
   ]
  },
  {
   "cell_type": "code",
   "execution_count": 9,
   "metadata": {},
   "outputs": [
    {
     "name": "stdout",
     "output_type": "stream",
     "text": [
      "flat 0.11000058339844129 ind 0.019343485765939982 mc 0.01307517982350593 model 0.009142299971584104 tri 0.00867386621822569 test 0.007527760831336014\n"
     ]
    }
   ],
   "source": [
    "print('flat', jsd_flat, 'ind', jsd_ind, 'mc', jsd_mc, 'model', jsd_maxent, 'tri', jsd_tri, 'test', jsd_test, )"
   ]
  },
  {
   "cell_type": "code",
   "execution_count": 10,
   "metadata": {},
   "outputs": [],
   "source": [
    "q = len(aminoacids)\n",
    "N = 4\n",
    "nmcmc = 1e6\n",
    "prng = np.random\n",
    "def jump(x):\n",
    "    return prng.randint(q, size=N)\n",
    "def energy(x):\n",
    "    return clib.energy(x, h, Jk)\n",
    "x0 = jump(None)\n",
    "samples = mcmcsampler(x0, energy, jump, nmcmc)\n",
    "samples = [''.join(aas_arr[s]) for s in samples]"
   ]
  },
  {
   "cell_type": "code",
   "execution_count": 11,
   "metadata": {},
   "outputs": [
    {
     "data": {
      "text/plain": [
       "0.0056646042369886815"
      ]
     },
     "execution_count": 11,
     "metadata": {},
     "output_type": "execute_result"
    },
    {
     "data": {
      "image/png": "[encoded data removed]",
      "text/plain": [
       "<Figure size 432x288 with 1 Axes>"
      ]
     },
     "metadata": {
      "needs_background": "light"
     },
     "output_type": "display_data"
    }
   ],
   "source": [
    "dfm0 = df0.merge(count(samples, 1), left_index=True, right_index=True)\n",
    "x = np.linspace(0.0, 0.1)\n",
    "plt.plot(x, x, 'k')\n",
    "plt.scatter(dfm0['freq_x'], dfm0['freq_y'])\n",
    "dfm0['logfold'] = np.log(dfm0['freq_x']/dfm0['freq_y'])\n",
    "np.abs(dfm0['logfold']).mean()"
   ]
  },
  {
   "cell_type": "code",
   "execution_count": 12,
   "metadata": {
    "scrolled": true
   },
   "outputs": [
    {
     "data": {
      "text/plain": [
       "0.019856011693173588"
      ]
     },
     "execution_count": 12,
     "metadata": {},
     "output_type": "execute_result"
    },
    {
     "data": {
      "image/png": "[encoded data removed]",
      "text/plain": [
       "<Figure size 432x288 with 1 Axes>"
      ]
     },
     "metadata": {
      "needs_background": "light"
     },
     "output_type": "display_data"
    }
   ],
   "source": [
    "dfm1 = df1.merge(count(samples, 2), left_index=True, right_index=True)\n",
    "x = np.linspace(0.0, 0.11**2)\n",
    "plt.plot(x, x, 'k')\n",
    "plt.scatter(dfm1['freq_x'], dfm1['freq_y'])\n",
    "dfm1['logfold'] = np.log(dfm1['freq_x']/dfm1['freq_y'])\n",
    "np.abs(dfm1['logfold']).mean()"
   ]
  },
  {
   "cell_type": "code",
   "execution_count": 13,
   "metadata": {},
   "outputs": [
    {
     "data": {
      "text/plain": [
       "0.022609933480723373"
      ]
     },
     "execution_count": 13,
     "metadata": {},
     "output_type": "execute_result"
    },
    {
     "data": {
      "image/png": "[encoded data removed]",
      "text/plain": [
       "<Figure size 432x288 with 1 Axes>"
      ]
     },
     "metadata": {
      "needs_background": "light"
     },
     "output_type": "display_data"
    }
   ],
   "source": [
    "dfmgap1 = dfgap1.merge(count(samples, 2, gap=1), left_index=True, right_index=True)\n",
    "x = np.linspace(0.0, 0.11**2)\n",
    "plt.plot(x, x, 'k')\n",
    "plt.scatter(dfmgap1['freq_x'], dfmgap1['freq_y'])\n",
    "dfmgap1['logfold'] = np.log(dfmgap1['freq_x']/dfmgap1['freq_y'])\n",
    "np.abs(dfmgap1['logfold']).mean()"
   ]
  },
  {
   "cell_type": "code",
   "execution_count": 14,
   "metadata": {},
   "outputs": [
    {
     "data": {
      "text/plain": [
       "0.029568890847527802"
      ]
     },
     "execution_count": 14,
     "metadata": {},
     "output_type": "execute_result"
    },
    {
     "data": {
      "image/png": "[encoded data removed]",
      "text/plain": [
       "<Figure size 432x288 with 1 Axes>"
      ]
     },
     "metadata": {
      "needs_background": "light"
     },
     "output_type": "display_data"
    }
   ],
   "source": [
    "dfmgap2 = dfgap2.merge(count(samples, 2, gap=2), left_index=True, right_index=True)\n",
    "x = np.linspace(0.0, 0.11**2)\n",
    "plt.plot(x, x, 'k')\n",
    "plt.scatter(dfmgap2['freq_x'], dfmgap2['freq_y'])\n",
    "dfmgap2['logfold'] = np.log(dfmgap2['freq_x']/dfmgap2['freq_y'])\n",
    "np.abs(dfmgap2['logfold']).mean()"
   ]
  },
  {
   "cell_type": "code",
   "execution_count": 15,
   "metadata": {},
   "outputs": [
    {
     "data": {
      "image/png": "[encoded data removed]",
      "text/plain": [
       "<Figure size 273.6x144 with 2 Axes>"
      ]
     },
     "metadata": {
      "needs_background": "light"
     },
     "output_type": "display_data"
    }
   ],
   "source": [
    "fig, axes = plt.subplots(figsize=(3.8, 2.0), ncols=2, sharex=True, sharey=True)\n",
    "ax = axes[0]\n",
    "ax.scatter(df4['freq_maxent'], df4['freq_test'], s=0.5, label='maxent', alpha=.1)\n",
    "ax.set_xlabel('maxent prediction')\n",
    "ax.set_ylabel('test set')\n",
    "ax = axes[1]\n",
    "ax.scatter(df4['freq_train'], df4['freq_test'], s=0.5, label='train', alpha=.1)\n",
    "ax.set_xlabel('training set')\n",
    "ax.set_ylabel('test set')\n",
    "x = np.logspace(-7, -3)\n",
    "for ax in axes:\n",
    "    ax.plot(x, x, 'k')\n",
    "    ax.set_xlim(min(x), max(x))\n",
    "    ax.set_ylim(min(x), max(x))\n",
    "    #plt.legend()\n",
    "    ax.set_xscale('log')\n",
    "    ax.set_yscale('log')\n",
    "fig.tight_layout()\n",
    "fig.savefig('4mer-comparison.png', dpi=600)"
   ]
  },
  {
   "cell_type": "code",
   "execution_count": 16,
   "metadata": {},
   "outputs": [],
   "source": [
    "dfJk = [pd.DataFrame.from_dict(J) for J in Jk]"
   ]
  },
  {
   "cell_type": "code",
   "execution_count": 17,
   "metadata": {},
   "outputs": [
    {
     "data": {
      "image/png": "[encoded data removed]",
      "text/plain": [
       "<Figure size 1440x432 with 6 Axes>"
      ]
     },
     "metadata": {
      "needs_background": "light"
     },
     "output_type": "display_data"
    }
   ],
   "source": [
    "fig, axes = plt.subplots(figsize=(20, 6), ncols=len(dfJk), sharex=True, sharey=True)\n",
    "for i, dfJ in enumerate(dfJk):\n",
    "    sns.heatmap(dfJ, vmin=-0.5, vmax=0.5, cmap='RdBu_r', ax=axes[i])\n",
    "fig.tight_layout()"
   ]
  },
  {
   "cell_type": "code",
   "execution_count": 18,
   "metadata": {},
   "outputs": [
    {
     "ename": "IndexError",
     "evalue": "only integers, slices (`:`), ellipsis (`...`), numpy.newaxis (`None`) and integer or boolean arrays are valid indices",
     "output_type": "error",
     "traceback": [
      "\u001b[0;31m---------------------------------------------------------------------------\u001b[0m",
      "\u001b[0;31mIndexError\u001b[0m                                Traceback (most recent call last)",
      "\u001b[0;32m<ipython-input-18-9020411d0d1b>\u001b[0m in \u001b[0;36m<module>\u001b[0;34m\u001b[0m\n\u001b[1;32m      6\u001b[0m \u001b[0mkmers\u001b[0m \u001b[0;34m=\u001b[0m \u001b[0mdf\u001b[0m\u001b[0;34m.\u001b[0m\u001b[0mindex\u001b[0m\u001b[0;34m\u001b[0m\u001b[0;34m\u001b[0m\u001b[0m\n\u001b[1;32m      7\u001b[0m \u001b[0mexp\u001b[0m \u001b[0;34m=\u001b[0m \u001b[0mnp\u001b[0m\u001b[0;34m.\u001b[0m\u001b[0marray\u001b[0m\u001b[0;34m(\u001b[0m\u001b[0;34m[\u001b[0m\u001b[0mfloat\u001b[0m\u001b[0;34m(\u001b[0m\u001b[0mdf\u001b[0m\u001b[0;34m.\u001b[0m\u001b[0mloc\u001b[0m\u001b[0;34m[\u001b[0m\u001b[0;34m''\u001b[0m\u001b[0;34m.\u001b[0m\u001b[0mjoin\u001b[0m\u001b[0;34m(\u001b[0m\u001b[0ms\u001b[0m\u001b[0;34m)\u001b[0m\u001b[0;34m]\u001b[0m\u001b[0;34m)\u001b[0m \u001b[0;32mfor\u001b[0m \u001b[0ms\u001b[0m \u001b[0;32min\u001b[0m \u001b[0mkmers\u001b[0m\u001b[0;34m]\u001b[0m\u001b[0;34m)\u001b[0m\u001b[0;34m\u001b[0m\u001b[0;34m\u001b[0m\u001b[0m\n\u001b[0;32m----> 8\u001b[0;31m \u001b[0mZ\u001b[0m \u001b[0;34m=\u001b[0m \u001b[0mnp\u001b[0m\u001b[0;34m.\u001b[0m\u001b[0mexp\u001b[0m\u001b[0;34m(\u001b[0m\u001b[0mscipy\u001b[0m\u001b[0;34m.\u001b[0m\u001b[0mspecial\u001b[0m\u001b[0;34m.\u001b[0m\u001b[0mlogsumexp\u001b[0m\u001b[0;34m(\u001b[0m\u001b[0;34m[\u001b[0m\u001b[0;34m-\u001b[0m\u001b[0menergy_ising\u001b[0m\u001b[0;34m(\u001b[0m\u001b[0ms\u001b[0m\u001b[0;34m,\u001b[0m \u001b[0mh\u001b[0m\u001b[0;34m,\u001b[0m \u001b[0mJk\u001b[0m\u001b[0;34m)\u001b[0m \u001b[0;32mfor\u001b[0m \u001b[0ms\u001b[0m \u001b[0;32min\u001b[0m \u001b[0mitertools\u001b[0m\u001b[0;34m.\u001b[0m\u001b[0mproduct\u001b[0m\u001b[0;34m(\u001b[0m\u001b[0maminoacids\u001b[0m\u001b[0;34m,\u001b[0m \u001b[0mrepeat\u001b[0m\u001b[0;34m=\u001b[0m\u001b[0mk\u001b[0m\u001b[0;34m)\u001b[0m\u001b[0;34m]\u001b[0m\u001b[0;34m)\u001b[0m\u001b[0;34m)\u001b[0m\u001b[0;34m\u001b[0m\u001b[0;34m\u001b[0m\u001b[0m\n\u001b[0m\u001b[1;32m      9\u001b[0m \u001b[0mising\u001b[0m \u001b[0;34m=\u001b[0m \u001b[0mnp\u001b[0m\u001b[0;34m.\u001b[0m\u001b[0mexp\u001b[0m\u001b[0;34m(\u001b[0m\u001b[0;34m[\u001b[0m\u001b[0;34m-\u001b[0m\u001b[0menergy_ising\u001b[0m\u001b[0;34m(\u001b[0m\u001b[0ms\u001b[0m\u001b[0;34m,\u001b[0m \u001b[0mh\u001b[0m\u001b[0;34m,\u001b[0m \u001b[0mJk\u001b[0m\u001b[0;34m)\u001b[0m \u001b[0;32mfor\u001b[0m \u001b[0ms\u001b[0m \u001b[0;32min\u001b[0m \u001b[0mkmers\u001b[0m\u001b[0;34m]\u001b[0m\u001b[0;34m)\u001b[0m\u001b[0;34m/\u001b[0m\u001b[0mZ\u001b[0m\u001b[0;34m\u001b[0m\u001b[0;34m\u001b[0m\u001b[0m\n\u001b[1;32m     10\u001b[0m \u001b[0mtri\u001b[0m \u001b[0;34m=\u001b[0m \u001b[0mnp\u001b[0m\u001b[0;34m.\u001b[0m\u001b[0marray\u001b[0m\u001b[0;34m(\u001b[0m\u001b[0;34m[\u001b[0m\u001b[0;36m10\u001b[0m\u001b[0;34m**\u001b[0m\u001b[0;34m(\u001b[0m\u001b[0mloglikelihood_triplet\u001b[0m\u001b[0;34m(\u001b[0m\u001b[0ms\u001b[0m\u001b[0;34m,\u001b[0m \u001b[0;34m**\u001b[0m\u001b[0mtripletparams\u001b[0m\u001b[0;34m)\u001b[0m\u001b[0;34m)\u001b[0m \u001b[0;32mfor\u001b[0m \u001b[0ms\u001b[0m \u001b[0;32min\u001b[0m \u001b[0mkmers\u001b[0m\u001b[0;34m]\u001b[0m\u001b[0;34m)\u001b[0m\u001b[0;34m\u001b[0m\u001b[0;34m\u001b[0m\u001b[0m\n",
      "\u001b[0;32m<ipython-input-18-9020411d0d1b>\u001b[0m in \u001b[0;36m<listcomp>\u001b[0;34m(.0)\u001b[0m\n\u001b[1;32m      6\u001b[0m \u001b[0mkmers\u001b[0m \u001b[0;34m=\u001b[0m \u001b[0mdf\u001b[0m\u001b[0;34m.\u001b[0m\u001b[0mindex\u001b[0m\u001b[0;34m\u001b[0m\u001b[0;34m\u001b[0m\u001b[0m\n\u001b[1;32m      7\u001b[0m \u001b[0mexp\u001b[0m \u001b[0;34m=\u001b[0m \u001b[0mnp\u001b[0m\u001b[0;34m.\u001b[0m\u001b[0marray\u001b[0m\u001b[0;34m(\u001b[0m\u001b[0;34m[\u001b[0m\u001b[0mfloat\u001b[0m\u001b[0;34m(\u001b[0m\u001b[0mdf\u001b[0m\u001b[0;34m.\u001b[0m\u001b[0mloc\u001b[0m\u001b[0;34m[\u001b[0m\u001b[0;34m''\u001b[0m\u001b[0;34m.\u001b[0m\u001b[0mjoin\u001b[0m\u001b[0;34m(\u001b[0m\u001b[0ms\u001b[0m\u001b[0;34m)\u001b[0m\u001b[0;34m]\u001b[0m\u001b[0;34m)\u001b[0m \u001b[0;32mfor\u001b[0m \u001b[0ms\u001b[0m \u001b[0;32min\u001b[0m \u001b[0mkmers\u001b[0m\u001b[0;34m]\u001b[0m\u001b[0;34m)\u001b[0m\u001b[0;34m\u001b[0m\u001b[0;34m\u001b[0m\u001b[0m\n\u001b[0;32m----> 8\u001b[0;31m \u001b[0mZ\u001b[0m \u001b[0;34m=\u001b[0m \u001b[0mnp\u001b[0m\u001b[0;34m.\u001b[0m\u001b[0mexp\u001b[0m\u001b[0;34m(\u001b[0m\u001b[0mscipy\u001b[0m\u001b[0;34m.\u001b[0m\u001b[0mspecial\u001b[0m\u001b[0;34m.\u001b[0m\u001b[0mlogsumexp\u001b[0m\u001b[0;34m(\u001b[0m\u001b[0;34m[\u001b[0m\u001b[0;34m-\u001b[0m\u001b[0menergy_ising\u001b[0m\u001b[0;34m(\u001b[0m\u001b[0ms\u001b[0m\u001b[0;34m,\u001b[0m \u001b[0mh\u001b[0m\u001b[0;34m,\u001b[0m \u001b[0mJk\u001b[0m\u001b[0;34m)\u001b[0m \u001b[0;32mfor\u001b[0m \u001b[0ms\u001b[0m \u001b[0;32min\u001b[0m \u001b[0mitertools\u001b[0m\u001b[0;34m.\u001b[0m\u001b[0mproduct\u001b[0m\u001b[0;34m(\u001b[0m\u001b[0maminoacids\u001b[0m\u001b[0;34m,\u001b[0m \u001b[0mrepeat\u001b[0m\u001b[0;34m=\u001b[0m\u001b[0mk\u001b[0m\u001b[0;34m)\u001b[0m\u001b[0;34m]\u001b[0m\u001b[0;34m)\u001b[0m\u001b[0;34m)\u001b[0m\u001b[0;34m\u001b[0m\u001b[0;34m\u001b[0m\u001b[0m\n\u001b[0m\u001b[1;32m      9\u001b[0m \u001b[0mising\u001b[0m \u001b[0;34m=\u001b[0m \u001b[0mnp\u001b[0m\u001b[0;34m.\u001b[0m\u001b[0mexp\u001b[0m\u001b[0;34m(\u001b[0m\u001b[0;34m[\u001b[0m\u001b[0;34m-\u001b[0m\u001b[0menergy_ising\u001b[0m\u001b[0;34m(\u001b[0m\u001b[0ms\u001b[0m\u001b[0;34m,\u001b[0m \u001b[0mh\u001b[0m\u001b[0;34m,\u001b[0m \u001b[0mJk\u001b[0m\u001b[0;34m)\u001b[0m \u001b[0;32mfor\u001b[0m \u001b[0ms\u001b[0m \u001b[0;32min\u001b[0m \u001b[0mkmers\u001b[0m\u001b[0;34m]\u001b[0m\u001b[0;34m)\u001b[0m\u001b[0;34m/\u001b[0m\u001b[0mZ\u001b[0m\u001b[0;34m\u001b[0m\u001b[0;34m\u001b[0m\u001b[0m\n\u001b[1;32m     10\u001b[0m \u001b[0mtri\u001b[0m \u001b[0;34m=\u001b[0m \u001b[0mnp\u001b[0m\u001b[0;34m.\u001b[0m\u001b[0marray\u001b[0m\u001b[0;34m(\u001b[0m\u001b[0;34m[\u001b[0m\u001b[0;36m10\u001b[0m\u001b[0;34m**\u001b[0m\u001b[0;34m(\u001b[0m\u001b[0mloglikelihood_triplet\u001b[0m\u001b[0;34m(\u001b[0m\u001b[0ms\u001b[0m\u001b[0;34m,\u001b[0m \u001b[0;34m**\u001b[0m\u001b[0mtripletparams\u001b[0m\u001b[0;34m)\u001b[0m\u001b[0;34m)\u001b[0m \u001b[0;32mfor\u001b[0m \u001b[0ms\u001b[0m \u001b[0;32min\u001b[0m \u001b[0mkmers\u001b[0m\u001b[0;34m]\u001b[0m\u001b[0;34m)\u001b[0m\u001b[0;34m\u001b[0m\u001b[0;34m\u001b[0m\u001b[0m\n",
      "\u001b[0;32m~/repos/peptidome/code/lib/main.py\u001b[0m in \u001b[0;36menergy_ising\u001b[0;34m(s, h, Jk)\u001b[0m\n\u001b[1;32m    382\u001b[0m \u001b[0;32mdef\u001b[0m \u001b[0menergy_ising\u001b[0m\u001b[0;34m(\u001b[0m\u001b[0ms\u001b[0m\u001b[0;34m,\u001b[0m \u001b[0mh\u001b[0m\u001b[0;34m,\u001b[0m \u001b[0mJk\u001b[0m\u001b[0;34m)\u001b[0m\u001b[0;34m:\u001b[0m\u001b[0;34m\u001b[0m\u001b[0;34m\u001b[0m\u001b[0m\n\u001b[1;32m    383\u001b[0m     \u001b[0;34m\"energy of a translation invariant ising model\"\u001b[0m\u001b[0;34m\u001b[0m\u001b[0;34m\u001b[0m\u001b[0m\n\u001b[0;32m--> 384\u001b[0;31m     \u001b[0menergy\u001b[0m \u001b[0;34m=\u001b[0m \u001b[0msum\u001b[0m\u001b[0;34m(\u001b[0m\u001b[0mh\u001b[0m\u001b[0;34m[\u001b[0m\u001b[0mc\u001b[0m\u001b[0;34m]\u001b[0m \u001b[0;32mfor\u001b[0m \u001b[0mc\u001b[0m \u001b[0;32min\u001b[0m \u001b[0ms\u001b[0m\u001b[0;34m)\u001b[0m\u001b[0;34m\u001b[0m\u001b[0;34m\u001b[0m\u001b[0m\n\u001b[0m\u001b[1;32m    385\u001b[0m     \u001b[0;32mfor\u001b[0m \u001b[0mk\u001b[0m\u001b[0;34m,\u001b[0m \u001b[0mJ\u001b[0m \u001b[0;32min\u001b[0m \u001b[0menumerate\u001b[0m\u001b[0;34m(\u001b[0m\u001b[0mJk\u001b[0m\u001b[0;34m)\u001b[0m\u001b[0;34m:\u001b[0m\u001b[0;34m\u001b[0m\u001b[0;34m\u001b[0m\u001b[0m\n\u001b[1;32m    386\u001b[0m         \u001b[0;32mfor\u001b[0m \u001b[0mi\u001b[0m \u001b[0;32min\u001b[0m \u001b[0mrange\u001b[0m\u001b[0;34m(\u001b[0m\u001b[0mlen\u001b[0m\u001b[0;34m(\u001b[0m\u001b[0ms\u001b[0m\u001b[0;34m)\u001b[0m\u001b[0;34m-\u001b[0m\u001b[0;36m1\u001b[0m\u001b[0;34m-\u001b[0m\u001b[0mk\u001b[0m\u001b[0;34m)\u001b[0m\u001b[0;34m:\u001b[0m\u001b[0;34m\u001b[0m\u001b[0;34m\u001b[0m\u001b[0m\n",
      "\u001b[0;32m~/repos/peptidome/code/lib/main.py\u001b[0m in \u001b[0;36m<genexpr>\u001b[0;34m(.0)\u001b[0m\n\u001b[1;32m    382\u001b[0m \u001b[0;32mdef\u001b[0m \u001b[0menergy_ising\u001b[0m\u001b[0;34m(\u001b[0m\u001b[0ms\u001b[0m\u001b[0;34m,\u001b[0m \u001b[0mh\u001b[0m\u001b[0;34m,\u001b[0m \u001b[0mJk\u001b[0m\u001b[0;34m)\u001b[0m\u001b[0;34m:\u001b[0m\u001b[0;34m\u001b[0m\u001b[0;34m\u001b[0m\u001b[0m\n\u001b[1;32m    383\u001b[0m     \u001b[0;34m\"energy of a translation invariant ising model\"\u001b[0m\u001b[0;34m\u001b[0m\u001b[0;34m\u001b[0m\u001b[0m\n\u001b[0;32m--> 384\u001b[0;31m     \u001b[0menergy\u001b[0m \u001b[0;34m=\u001b[0m \u001b[0msum\u001b[0m\u001b[0;34m(\u001b[0m\u001b[0mh\u001b[0m\u001b[0;34m[\u001b[0m\u001b[0mc\u001b[0m\u001b[0;34m]\u001b[0m \u001b[0;32mfor\u001b[0m \u001b[0mc\u001b[0m \u001b[0;32min\u001b[0m \u001b[0ms\u001b[0m\u001b[0;34m)\u001b[0m\u001b[0;34m\u001b[0m\u001b[0;34m\u001b[0m\u001b[0m\n\u001b[0m\u001b[1;32m    385\u001b[0m     \u001b[0;32mfor\u001b[0m \u001b[0mk\u001b[0m\u001b[0;34m,\u001b[0m \u001b[0mJ\u001b[0m \u001b[0;32min\u001b[0m \u001b[0menumerate\u001b[0m\u001b[0;34m(\u001b[0m\u001b[0mJk\u001b[0m\u001b[0;34m)\u001b[0m\u001b[0;34m:\u001b[0m\u001b[0;34m\u001b[0m\u001b[0;34m\u001b[0m\u001b[0m\n\u001b[1;32m    386\u001b[0m         \u001b[0;32mfor\u001b[0m \u001b[0mi\u001b[0m \u001b[0;32min\u001b[0m \u001b[0mrange\u001b[0m\u001b[0;34m(\u001b[0m\u001b[0mlen\u001b[0m\u001b[0;34m(\u001b[0m\u001b[0ms\u001b[0m\u001b[0;34m)\u001b[0m\u001b[0;34m-\u001b[0m\u001b[0;36m1\u001b[0m\u001b[0;34m-\u001b[0m\u001b[0mk\u001b[0m\u001b[0;34m)\u001b[0m\u001b[0;34m:\u001b[0m\u001b[0;34m\u001b[0m\u001b[0;34m\u001b[0m\u001b[0m\n",
      "\u001b[0;31mIndexError\u001b[0m: only integers, slices (`:`), ellipsis (`...`), numpy.newaxis (`None`) and integer or boolean arrays are valid indices"
     ]
    }
   ],
   "source": [
    "k = 5\n",
    "#kmers = list(itertools.product(aminoacids, repeat=k))\n",
    "df = counter_to_df(count_kmers_proteome(human, k))\n",
    "df = df[~df['seq'].str.contains('U|B|X|Z')]\n",
    "df = df.set_index('seq')\n",
    "kmers = df.index\n",
    "exp = np.array([float(df.loc[''.join(s)]) for s in kmers])\n",
    "Z = np.exp(scipy.special.logsumexp([-energy_ising(s, h, Jk) for s in itertools.product(aminoacids, repeat=k)]))\n",
    "ising = np.exp([-energy_ising(s, h, Jk) for s in kmers])/Z\n",
    "tri = np.array([10**(loglikelihood_triplet(s, **tripletparams)) for s in kmers])\n",
    "mc = np.array([10**(loglikelihood_mc(s, **tripletparams)) for s in kmers])\n",
    "ind = np.array([10**(loglikelihood_independent(s, **tripletparams)) for s in kmers])\n",
    "rising = np.corrcoef(ising, exp)[1, 0]\n",
    "rind = np.corrcoef(ind, exp)[1, 0]\n",
    "rtri = np.corrcoef(tri, exp)[1, 0]\n",
    "rtri, rising, np.corrcoef(mc, exp)[1, 0], rind"
   ]
  },
  {
   "cell_type": "code",
   "execution_count": null,
   "metadata": {},
   "outputs": [],
   "source": [
    "fig = plt.figure(figsize=(4, 4))\n",
    "plt.scatter(ind, exp, s=1, label='independent, r=%1.2f'%rind)\n",
    "#plt.scatter(mc, exp, s=1)\n",
    "plt.scatter(tri, exp, s=1, label='tri, r=%1.2f'%rtri)\n",
    "x = np.logspace(-7, -3)\n",
    "plt.xlabel('predicted')\n",
    "plt.ylabel('observed')\n",
    "plt.plot(x, x, 'k')\n",
    "plt.xlim(min(x), max(x))\n",
    "plt.ylim(min(x), max(x))\n",
    "plt.legend()\n",
    "plt.xscale('log')\n",
    "plt.yscale('log')\n",
    "fig.tight_layout()\n",
    "fig.savefig('plots/modelfits-4mer-tri.png', dpi=300)"
   ]
  },
  {
   "cell_type": "code",
   "execution_count": null,
   "metadata": {},
   "outputs": [],
   "source": [
    "pd.DataFrame(index=[key for key in h], data=[h[key] for key in h], columns=['h'])"
   ]
  },
  {
   "cell_type": "code",
   "execution_count": null,
   "metadata": {},
   "outputs": [],
   "source": [
    "plot_sorted(df['count'])"
   ]
  },
  {
   "cell_type": "code",
   "execution_count": null,
   "metadata": {},
   "outputs": [],
   "source": [
    "doublets = [''.join(s) for s in itertools.product(list(aminoacids), repeat=2)]"
   ]
  },
  {
   "cell_type": "code",
   "execution_count": null,
   "metadata": {},
   "outputs": [],
   "source": [
    "df = pd.DataFrame(index=doublets, data=[Jk[0][s[0]][s[1]] for s in doublets], columns=['J0'])\n",
    "for i in range(1, len(Jk)):\n",
    "    df['J%g'%i] = [Jk[i][s[0]][s[1]] for s in doublets]"
   ]
  },
  {
   "cell_type": "code",
   "execution_count": null,
   "metadata": {},
   "outputs": [],
   "source": [
    "from functools import reduce"
   ]
  },
  {
   "cell_type": "code",
   "execution_count": null,
   "metadata": {},
   "outputs": [],
   "source": [
    "df"
   ]
  },
  {
   "cell_type": "code",
   "execution_count": null,
   "metadata": {},
   "outputs": [],
   "source": [
    "reduce(lambda left,right: pd.merge(left,right, left_index=True, right_index=True), [pd.DataFrame.from_dict(\n",
    "    {i+j: Jk[gap][i][j] for i in Jk[gap].keys() for j in Jk[gap][i].keys()},\n",
    "    orient='index')\n",
    "           for gap in range(len(Jk))])"
   ]
  },
  {
   "cell_type": "code",
   "execution_count": null,
   "metadata": {},
   "outputs": [],
   "source": [
    "pd.merge?"
   ]
  },
  {
   "cell_type": "code",
   "execution_count": null,
   "metadata": {},
   "outputs": [],
   "source": []
  }
 ],
 "metadata": {
  "kernelspec": {
   "display_name": "Python 3",
   "language": "python",
   "name": "python3"
  },
  "language_info": {
   "codemirror_mode": {
    "name": "ipython",
    "version": 3
   },
   "file_extension": ".py",
   "mimetype": "text/x-python",
   "name": "python",
   "nbconvert_exporter": "python",
   "pygments_lexer": "ipython3",
   "version": "3.6.9"
  }
 },
 "nbformat": 4,
 "nbformat_minor": 2
}
