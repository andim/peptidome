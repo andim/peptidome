{
 "cells": [
  {
   "cell_type": "code",
   "execution_count": 15,
   "metadata": {},
   "outputs": [],
   "source": [
    "import numpy as np\n",
    "import pandas as pd\n",
    "\n",
    "import sys\n",
    "sys.path.append('..')\n",
    "from lib import *"
   ]
  },
  {
   "cell_type": "code",
   "execution_count": 27,
   "metadata": {},
   "outputs": [],
   "source": [
    "k = 9\n",
    "proteome = 'Malaria'\n",
    "model = 'nskewfcov'\n",
    "reference = 'Human'\n",
    "q = naminoacids"
   ]
  },
  {
   "cell_type": "code",
   "execution_count": 28,
   "metadata": {},
   "outputs": [],
   "source": [
    "entropy = pd.read_csv('data/{proteome}_{model}_k{k}_entropy.csv'.format(proteome=proteome, model=model, k=k),\n",
    "                      header=None, index_col=0)\n",
    "entropy_reference = pd.read_csv('data/{proteome}_{model}_k{k}_entropy.csv'.format(proteome=reference, model=model, k=k),\n",
    "                      header=None, index_col=0)\n",
    "\n",
    "params = np.load('data/{proteome}_{model}_k{k}_params.npz'.format(proteome=proteome, model=model, k=k))\n",
    "params_reference = np.load('data/{proteome}_{model}_k{k}_params.npz'.format(proteome=reference, model=model, k=k))"
   ]
  },
  {
   "cell_type": "code",
   "execution_count": 29,
   "metadata": {},
   "outputs": [],
   "source": [
    "def make_energy(params):\n",
    "    if params.files == ['f']:\n",
    "        raise NotImplementedError('independent model dkl not implemented')\n",
    "    elif params.files == ['h', 'J']:\n",
    "        model = 'ncov'\n",
    "        h = params['h']\n",
    "        J = params['J']\n",
    "\n",
    "        @njit\n",
    "        def energy(x):\n",
    "            return energy_ncov(x, h, J)\n",
    "    elif params.files == ['h', 'J', 'J2']:\n",
    "        model = 'nskew'\n",
    "        h = params['h']\n",
    "        J = params['J']\n",
    "        J2 = params['J2']\n",
    "\n",
    "        @njit\n",
    "        def energy(x):\n",
    "            return energy_nskew(x, h, J, J2)\n",
    "    elif params.files == ['h', 'J', 'J2', 'hi', 'Jij']:\n",
    "        model = 'nskewfcov'\n",
    "        h = params['h']\n",
    "        hi = params['hi']\n",
    "        J = params['J']\n",
    "        J2 = params['J2']\n",
    "        Jij = params['Jij']\n",
    "\n",
    "        @njit\n",
    "        def energy(x):\n",
    "            return energy_nskewfcov(x, h, J, J2, hi, Jij)\n",
    "    return energy"
   ]
  },
  {
   "cell_type": "code",
   "execution_count": 30,
   "metadata": {},
   "outputs": [],
   "source": [
    "energy = make_energy(params)\n",
    "energy_reference = make_energy(params_reference)"
   ]
  },
  {
   "cell_type": "code",
   "execution_count": 31,
   "metadata": {},
   "outputs": [],
   "source": [
    "matrix = load_matrix('data/{proteome}_{model}_k{k}_matrix.csv.gz'.format(proteome=proteome, model=model, k=k))\n",
    "energies = np.array([energy(x) for x in matrix])\n",
    "energies_reference = np.array([energy_reference(x) for x in matrix])"
   ]
  },
  {
   "cell_type": "code",
   "execution_count": 41,
   "metadata": {},
   "outputs": [],
   "source": [
    "DKL = float(entropy.loc['F']) - np.mean(energies) + np.mean(energies_reference) - float(entropy_reference.loc['F'])"
   ]
  },
  {
   "cell_type": "code",
   "execution_count": 42,
   "metadata": {},
   "outputs": [
    {
     "data": {
      "text/plain": [
       "1.9752893560514195"
      ]
     },
     "execution_count": 42,
     "metadata": {},
     "output_type": "execute_result"
    }
   ],
   "source": [
    "DKL"
   ]
  },
  {
   "cell_type": "code",
   "execution_count": 36,
   "metadata": {},
   "outputs": [
    {
     "data": {
      "text/plain": [
       "1    24.507198\n",
       "Name: S, dtype: float64"
      ]
     },
     "execution_count": 36,
     "metadata": {},
     "output_type": "execute_result"
    }
   ],
   "source": [
    "entropy.loc['S']"
   ]
  },
  {
   "cell_type": "code",
   "execution_count": 39,
   "metadata": {},
   "outputs": [
    {
     "data": {
      "text/plain": [
       "1    2.454392\n",
       "Name: S, dtype: float64"
      ]
     },
     "execution_count": 39,
     "metadata": {},
     "output_type": "execute_result"
    }
   ],
   "source": [
    "k = 9\n",
    "np.log(q)*k-entropy.loc['S']"
   ]
  },
  {
   "cell_type": "code",
   "execution_count": null,
   "metadata": {},
   "outputs": [],
   "source": []
  }
 ],
 "metadata": {
  "kernelspec": {
   "display_name": "Python 3",
   "language": "python",
   "name": "python3"
  },
  "language_info": {
   "codemirror_mode": {
    "name": "ipython",
    "version": 3
   },
   "file_extension": ".py",
   "mimetype": "text/x-python",
   "name": "python",
   "nbconvert_exporter": "python",
   "pygments_lexer": "ipython3",
   "version": "3.8.5"
  }
 },
 "nbformat": 4,
 "nbformat_minor": 4
}
