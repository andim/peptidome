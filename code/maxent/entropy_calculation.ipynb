{
 "cells": [
  {
   "cell_type": "code",
   "execution_count": 193,
   "metadata": {},
   "outputs": [
    {
     "name": "stdout",
     "output_type": "stream",
     "text": [
      "The autoreload extension is already loaded. To reload it, use:\n",
      "  %reload_ext autoreload\n"
     ]
    }
   ],
   "source": [
    "import itertools, json\n",
    "import numpy as np\n",
    "import pandas as pd\n",
    "from sklearn.model_selection import train_test_split\n",
    "from matplotlib import colors\n",
    "\n",
    "import sys\n",
    "sys.path.append('..')\n",
    "from lib import *\n",
    "from lib.maxent import *\n",
    "from common import labels\n",
    "\n",
    "\n",
    "plt.style.use('../peptidome.mplstyle')\n",
    "\n",
    "from numba import njit\n",
    "\n",
    "%load_ext autoreload\n",
    "%autoreload 2"
   ]
  },
  {
   "cell_type": "code",
   "execution_count": 32,
   "metadata": {},
   "outputs": [],
   "source": [
    "def entropy_thermodynamic_integration(model_params,\n",
    "        integration_intervals=1,\n",
    "        mcmc_kwargs=dict(), prng=np.random):\n",
    "\n",
    "    @njit\n",
    "    def jump(x):\n",
    "        return local_jump_jit(x, q)\n",
    "\n",
    "    if params.files == ['f']:\n",
    "        model = 'independent'\n",
    "        f = params['f']\n",
    "        h = np.log(f)\n",
    "        h -= np.mean(h)\n",
    "    elif params.files == ['h', 'J']:\n",
    "        model = 'ncov'\n",
    "        h = params['h']\n",
    "        J = params['J']\n",
    "        @njit\n",
    "        def energy(x):\n",
    "            return energy_ncov(x, h, J)\n",
    "        @njit\n",
    "        def energy_alpha_gen(x, alpha):\n",
    "            return energy_ncov(x, h, alpha*J)\n",
    "        @njit\n",
    "        def deltaenergy(x):\n",
    "            return energy_ncov(x, np.zeros_like(h), J)\n",
    "    elif params.files == ['h', 'J', 'J2']:\n",
    "        model = 'nskew'\n",
    "        h = params['h']\n",
    "        J = params['J']\n",
    "        J2 = params['J2']\n",
    "        @njit\n",
    "        def energy(x):\n",
    "            return energy_nskew(x, h, J, J2)\n",
    "        @njit\n",
    "        def energy_alpha_gen(x, alpha):\n",
    "            return energy_nskew(x, h, alpha*J, alpha*J2)\n",
    "        @njit\n",
    "        def deltaenergy(x):\n",
    "            return energy_nskew(x, np.zeros_like(h), J, J2)\n",
    "    elif params.files == ['h', 'J', 'J2', 'hi', 'Jij']:\n",
    "        model = 'nskewfcov'\n",
    "        h = params['h']\n",
    "        hi = params['hi']\n",
    "        J = params['J']\n",
    "        J2 = params['J2']\n",
    "        Jij = params['Jij']\n",
    "        @njit\n",
    "        def energy(x):\n",
    "            return energy_nskewfcov(x, h, J, J2, hi, Jij)\n",
    "        @njit\n",
    "        def energy_alpha_gen(x, alpha):\n",
    "            return energy_nskewfcov(x, h, alpha*J, alpha*J2, hi, alpha*Jij)\n",
    "        @njit\n",
    "        def deltaenergy(x):\n",
    "            return energy_nskewfcov(x, np.zeros_like(h), J, J2, hi, Jij)\n",
    "\n",
    "    F0 = -k*np.log(np.sum(np.exp(h)))\n",
    "    if model == 'independent':\n",
    "        S = -k*np.sum(f*np.log(f))\n",
    "        return S, S+F0, F0\n",
    "    \n",
    "    x0 = prng.randint(q, size=k)\n",
    "    matrix = mcmcsampler(x0, energy, jump, **mcmc_kwargs)\n",
    "    energy = np.array([energy(x) for x in matrix])\n",
    "    energy_mean = np.mean(energy)\n",
    "\n",
    "    def Fprime(alpha):\n",
    "        @njit\n",
    "        def energy_alpha(x):\n",
    "            return energy_alpha_gen(x, alpha)\n",
    "        x0 = prng.randint(q, size=k)\n",
    "        matrix = mcmcsampler(x0, energy_alpha, jump, **mcmc_kwargs)\n",
    "        return np.mean([deltaenergy(x) for x in matrix])\n",
    "\n",
    "    xs = np.linspace(0, 1, integration_intervals+1)\n",
    "    Fprimes = [Fprime(x) for x in xs]\n",
    "    Fint = scipy.integrate.simps(Fprimes, xs)\n",
    "    \n",
    "    F =  F0 + Fint\n",
    "    S = energy_mean - F\n",
    "    return S, energy_mean, F"
   ]
  },
  {
   "cell_type": "code",
   "execution_count": 30,
   "metadata": {},
   "outputs": [],
   "source": [
    "k = 9\n",
    "q = naminoacids\n",
    "\n",
    "integration_intervals = 10\n",
    "mcmc_kwargs = dict(nsteps=1e6, nsample=k, nburnin=1e4)"
   ]
  },
  {
   "cell_type": "code",
   "execution_count": 33,
   "metadata": {},
   "outputs": [
    {
     "name": "stdout",
     "output_type": "stream",
     "text": [
      "independent S    26.037924\n",
      "E    -1.991594\n",
      "F   -28.029518\n",
      "dtype: float64 2.032950e+11\n",
      "ncov S    25.874759\n",
      "E    -2.770883\n",
      "F   -28.645642\n",
      "dtype: float64 1.726892e+11\n",
      "nskew S    25.849513\n",
      "E    -2.772274\n",
      "F   -28.621787\n",
      "dtype: float64 1.683840e+11\n",
      "nskewfcov S    25.827598\n",
      "E    -2.719647\n",
      "F   -28.547245\n",
      "dtype: float64 1.647340e+11\n"
     ]
    }
   ],
   "source": [
    "for model in ['independent', 'ncov', 'nskew', 'nskewfcov']:\n",
    "    params = np.load('data/Human_{model}_k9_params.npz'.format(model=model))\n",
    "    S, E, F = entropy_thermodynamic_integration(params,\n",
    "            integration_intervals=integration_intervals,\n",
    "            mcmc_kwargs=mcmc_kwargs)\n",
    "    series = pd.Series(data=[S, E, F], index=['S', 'E', 'F'])\n",
    "    print(model, series, '%e'%np.exp(series['S']))"
   ]
  },
  {
   "cell_type": "code",
   "execution_count": 2,
   "metadata": {},
   "outputs": [],
   "source": [
    "output = True\n",
    "L = 9\n",
    "q = naminoacids\n",
    "\n",
    "proteome = proteome_path('Human')\n",
    "seed = 1234\n",
    "prng = np.random.RandomState(seed)"
   ]
  },
  {
   "cell_type": "code",
   "execution_count": 3,
   "metadata": {},
   "outputs": [],
   "source": [
    "params = np.load('data/Human_%i.npz'%L)\n",
    "hi = params['hi']\n",
    "Jij = params['Jij']"
   ]
  },
  {
   "cell_type": "code",
   "execution_count": 4,
   "metadata": {},
   "outputs": [],
   "source": [
    "datasets = ['test', 'train', 'model']\n",
    "sample_matrices = {}\n",
    "for dataset in datasets:\n",
    "    sample_matrices[dataset] =  load_matrix('data/%s_matrix_L%i.csv.gz' % (dataset, L))"
   ]
  },
  {
   "cell_type": "code",
   "execution_count": 5,
   "metadata": {},
   "outputs": [],
   "source": [
    "energies = {}\n",
    "for dataset in datasets:\n",
    "    energies[dataset] = np.mean([energy_potts(x, hi, Jij) for x in sample_matrices[dataset]])"
   ]
  },
  {
   "cell_type": "code",
   "execution_count": 6,
   "metadata": {},
   "outputs": [],
   "source": [
    "mcmc_kwargs = dict(nsteps=1e6, nsample=10, nburnin=1e3)"
   ]
  },
  {
   "cell_type": "code",
   "execution_count": 7,
   "metadata": {},
   "outputs": [],
   "source": [
    "F = Fpotts_thermodynamic_integration(hi, Jij, integration_intervals=3, mcmc_kwargs=mcmc_kwargs)"
   ]
  },
  {
   "cell_type": "code",
   "execution_count": 8,
   "metadata": {},
   "outputs": [
    {
     "data": {
      "text/plain": [
       "'5.120000e+11'"
      ]
     },
     "execution_count": 8,
     "metadata": {},
     "output_type": "execute_result"
    }
   ],
   "source": [
    "Suni = np.log(20)*L\n",
    "'%e'%np.exp(Suni)"
   ]
  },
  {
   "cell_type": "code",
   "execution_count": 9,
   "metadata": {},
   "outputs": [],
   "source": [
    "fis = frequencies(sample_matrices['train'], num_symbols=q)"
   ]
  },
  {
   "cell_type": "code",
   "execution_count": 10,
   "metadata": {},
   "outputs": [
    {
     "data": {
      "text/plain": [
       "'2.032950e+11'"
      ]
     },
     "execution_count": 10,
     "metadata": {},
     "output_type": "execute_result"
    }
   ],
   "source": [
    "Sind_global = L*scipy.stats.entropy(np.mean(fis, axis=0))\n",
    "'%e'%np.exp(Sind_global)"
   ]
  },
  {
   "cell_type": "code",
   "execution_count": 11,
   "metadata": {},
   "outputs": [],
   "source": [
    "def calc_Sind(fis):\n",
    "    return np.sum(scipy.stats.entropy(fis.T))"
   ]
  },
  {
   "cell_type": "code",
   "execution_count": 12,
   "metadata": {},
   "outputs": [
    {
     "data": {
      "text/plain": [
       "'2.032795e+11'"
      ]
     },
     "execution_count": 12,
     "metadata": {},
     "output_type": "execute_result"
    }
   ],
   "source": [
    "Sind = calc_Sind(fis)\n",
    "'%e'%np.exp(Sind)"
   ]
  },
  {
   "cell_type": "code",
   "execution_count": 13,
   "metadata": {},
   "outputs": [
    {
     "data": {
      "text/plain": [
       "'1.710418e+11'"
      ]
     },
     "execution_count": 13,
     "metadata": {},
     "output_type": "execute_result"
    }
   ],
   "source": [
    "Smaxent = np.mean(energies['train']) - F\n",
    "'%e'%np.exp(Smaxent)"
   ]
  },
  {
   "cell_type": "code",
   "execution_count": 14,
   "metadata": {},
   "outputs": [
    {
     "data": {
      "text/plain": [
       "(4.1738526076016536, 4.146173107830868)"
      ]
     },
     "execution_count": 14,
     "metadata": {},
     "output_type": "execute_result"
    }
   ],
   "source": [
    "Sind*np.log2(np.exp(1))/L, Smaxent*np.log2(np.exp(1))/L"
   ]
  },
  {
   "cell_type": "code",
   "execution_count": 15,
   "metadata": {},
   "outputs": [
    {
     "data": {
      "text/plain": [
       "array([4.17756346, 4.16934288, 4.16129658, 4.14931991, 4.11369582])"
      ]
     },
     "execution_count": 15,
     "metadata": {},
     "output_type": "execute_result"
    }
   ],
   "source": [
    "df = pd.read_csv('../kmerentropy/data/entropy.csv')\n",
    "np.array(df['Human'])/np.arange(1, 6)"
   ]
  },
  {
   "cell_type": "code",
   "execution_count": 16,
   "metadata": {},
   "outputs": [
    {
     "data": {
      "text/plain": [
       "(1.3326793855713739, 0.24911549793707508)"
      ]
     },
     "execution_count": 16,
     "metadata": {},
     "output_type": "execute_result"
    }
   ],
   "source": [
    "(Suni-Sind)*np.log2(np.exp(1)), (Sind-Smaxent)*np.log2(np.exp(1))"
   ]
  },
  {
   "cell_type": "code",
   "execution_count": 17,
   "metadata": {},
   "outputs": [
    {
     "data": {
      "text/plain": [
       "0.33534763650457045"
      ]
     },
     "execution_count": 17,
     "metadata": {},
     "output_type": "execute_result"
    }
   ],
   "source": [
    "L = 9\n",
    "mi = pd.read_csv('../pfam/data/mutualinformation_nozf.csv', index_col=0, usecols=(1, 2))\n",
    "mi = np.asarray(mi.loc[:L-2]).flatten()\n",
    "np.sum(mi*(L-np.arange(1, L)))"
   ]
  },
  {
   "cell_type": "markdown",
   "metadata": {},
   "source": [
    "# Global model"
   ]
  },
  {
   "cell_type": "code",
   "execution_count": 18,
   "metadata": {},
   "outputs": [],
   "source": [
    "sample_matrices['model_global'] =  load_matrix('../globalmaxent/data/model_matrix.csv.gz')\n",
    "params = np.load('../globalmaxent/data/Human_L%i.npz'%L)\n",
    "h = params['h']\n",
    "J = params['J']"
   ]
  },
  {
   "cell_type": "code",
   "execution_count": 19,
   "metadata": {},
   "outputs": [],
   "source": [
    "Fcov = Fcov_thermodynamic_integration(h, J, L, integration_intervals=3, mcmc_kwargs=mcmc_kwargs)"
   ]
  },
  {
   "cell_type": "code",
   "execution_count": 20,
   "metadata": {},
   "outputs": [
    {
     "data": {
      "text/plain": [
       "'1.794352e+11'"
      ]
     },
     "execution_count": 20,
     "metadata": {},
     "output_type": "execute_result"
    }
   ],
   "source": [
    "Scov = np.mean([energy_ncov(x, h, J) for x in sample_matrices['model_global']])-Fcov\n",
    "'%e'%np.exp(Scov)"
   ]
  },
  {
   "cell_type": "code",
   "execution_count": 194,
   "metadata": {},
   "outputs": [],
   "source": [
    "k = 10\n",
    "models = ['uniform', 'independent', 'ncov', 'nskew', 'nskewfcov']\n",
    "entropies = np.zeros(len(models))\n",
    "for i, model in enumerate(models):\n",
    "    if model == 'uniform':\n",
    "        S = k*np.log(20)\n",
    "    else:\n",
    "        S = np.float(pd.read_csv('data/Human_{model}_k{k}_entropy.csv'.format(model=model, k=k),\n",
    "                        header=None, index_col=0).loc['S'])\n",
    "    entropies[i] = S"
   ]
  },
  {
   "cell_type": "code",
   "execution_count": 195,
   "metadata": {},
   "outputs": [
    {
     "name": "stdout",
     "output_type": "stream",
     "text": [
      "0.16\n",
      "0.19\n",
      "0.23\n"
     ]
    },
    {
     "data": {
      "image/png": "[encoded data removed]",
      "text/plain": [
       "<Figure size 450x600 with 1 Axes>"
      ]
     },
     "metadata": {},
     "output_type": "display_data"
    }
   ],
   "source": [
    "data = np.exp(entropies)\n",
    "fig, ax = plt.subplots(figsize=(1.5, 2.0))\n",
    "\n",
    "labels = [labels[model] for model in models[1:]]\n",
    "width = 0.5  # the width of the bars\n",
    "x = np.arange(len(labels))  # the label locations\n",
    "rects = ax.bar(x, data[1:]/data[0], width)\n",
    "ax.set_xticks(x)\n",
    "ax.set_xticklabels(labels, rotation=90)\n",
    "#ax.axhline(data[1]/data[0], ls='--')\n",
    "\n",
    "reduction = np.abs((data[2:]-data[1])/data[1])\n",
    "for rect, toplabel in zip(rects[1:], reduction):\n",
    "    print('{0:.2f}'.format(toplabel))\n",
    "    ax.annotate('-{0:.0f}%'.format(100*toplabel),\n",
    "                xy=(rect.get_x()+width/2, rect.get_height()),\n",
    "                xytext=(0, 1),  # 3 points vertical offset\n",
    "                textcoords=\"offset points\",\n",
    "                ha='center', va='bottom', fontsize='xx-small')\n",
    "\n",
    "\n",
    "ax.set_ylabel('Effective Diversity\\n$\\exp(S)/20^k$')\n",
    "fig.tight_layout()\n",
    "fig.savefig('entropies.png')\n",
    "fig.savefig(figuredir+'entropies.svg')\n",
    "fig.savefig('../../paper/images/diversity_reduction.pdf')"
   ]
  },
  {
   "cell_type": "code",
   "execution_count": 124,
   "metadata": {},
   "outputs": [
    {
     "data": {
      "text/plain": [
       "(array([-0.64163104, -0.15889165, -0.03558175, -0.05278879]),\n",
       " array([-0.15889165, -0.18881976, -0.23164098]))"
      ]
     },
     "execution_count": 124,
     "metadata": {},
     "output_type": "execute_result"
    }
   ],
   "source": [
    "np.diff(data)/data[:-1], (data[2:]-data[1])/data[1]"
   ]
  },
  {
   "cell_type": "code",
   "execution_count": 142,
   "metadata": {},
   "outputs": [
    {
     "data": {
      "text/plain": [
       "<AxesSubplot:ylabel='Effective Diversity\\n$\\\\exp(S)/20^k$'>"
      ]
     },
     "execution_count": 142,
     "metadata": {},
     "output_type": "execute_result"
    }
   ],
   "source": [
    "ax"
   ]
  },
  {
   "cell_type": "code",
   "execution_count": null,
   "metadata": {},
   "outputs": [],
   "source": []
  }
 ],
 "metadata": {
  "kernelspec": {
   "display_name": "Python 3",
   "language": "python",
   "name": "python3"
  },
  "language_info": {
   "codemirror_mode": {
    "name": "ipython",
    "version": 3
   },
   "file_extension": ".py",
   "mimetype": "text/x-python",
   "name": "python",
   "nbconvert_exporter": "python",
   "pygments_lexer": "ipython3",
   "version": "3.8.5"
  }
 },
 "nbformat": 4,
 "nbformat_minor": 2
}
