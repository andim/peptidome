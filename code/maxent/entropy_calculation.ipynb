{
 "cells": [
  {
   "cell_type": "code",
   "execution_count": 8,
   "metadata": {},
   "outputs": [],
   "source": [
    "import itertools, json\n",
    "import numpy as np\n",
    "import pandas as pd\n",
    "from sklearn.model_selection import train_test_split\n",
    "from matplotlib import colors\n",
    "\n",
    "import sys\n",
    "sys.path.append('..')\n",
    "from lib import *\n",
    "from lib.maxent import *"
   ]
  },
  {
   "cell_type": "code",
   "execution_count": 9,
   "metadata": {},
   "outputs": [],
   "source": [
    "output = True\n",
    "N = 9\n",
    "q = naminoacids\n",
    "\n",
    "proteome = proteome_path('Human')\n",
    "seed = 1234\n",
    "prng = np.random.RandomState(seed)"
   ]
  },
  {
   "cell_type": "code",
   "execution_count": 25,
   "metadata": {},
   "outputs": [],
   "source": [
    "params = np.load('data/Human_full_k9.npz')\n",
    "hi = params['hi']\n",
    "Jij = params['Jij']"
   ]
  },
  {
   "cell_type": "code",
   "execution_count": 26,
   "metadata": {},
   "outputs": [],
   "source": [
    "datasets = ['train', 'test', 'model']\n",
    "sample_matrices = {}\n",
    "for dataset in datasets:\n",
    "    sample_matrices[dataset] =  np.loadtxt('data/%s_matrix.csv.gz' % dataset).astype(int)"
   ]
  },
  {
   "cell_type": "code",
   "execution_count": 27,
   "metadata": {},
   "outputs": [],
   "source": [
    "energies = [energy_potts(x, hi, Jij) for x in sample_matrices['model']]"
   ]
  },
  {
   "cell_type": "code",
   "execution_count": 28,
   "metadata": {},
   "outputs": [],
   "source": [
    "F0 = -np.sum(np.log(np.sum(np.exp(hi), axis=1)))"
   ]
  },
  {
   "cell_type": "code",
   "execution_count": 30,
   "metadata": {},
   "outputs": [],
   "source": [
    "def Fprime(alpha):\n",
    "    jump = lambda x: local_jump(x, q)\n",
    "    x0 = prng.randint(q, size=N)\n",
    "    matrix = mcmcsampler(x0, lambda x: energy_potts(x, hi, alpha*Jij), jump, 1e6, nsample=10, nburnin=1e3)\n",
    "    return np.mean([energy_potts(x, np.zeros_like(hi), Jij) for x in matrix])"
   ]
  },
  {
   "cell_type": "code",
   "execution_count": 31,
   "metadata": {},
   "outputs": [],
   "source": [
    "xs = np.linspace(0, 1, 4)\n",
    "Fprimes = [Fprime(x) for x in xs]"
   ]
  },
  {
   "cell_type": "code",
   "execution_count": 32,
   "metadata": {},
   "outputs": [
    {
     "data": {
      "text/plain": [
       "0.10532807605400357"
      ]
     },
     "execution_count": 32,
     "metadata": {},
     "output_type": "execute_result"
    }
   ],
   "source": [
    "Fint = scipy.integrate.simps(Fprimes, xs)\n",
    "Fint"
   ]
  },
  {
   "cell_type": "code",
   "execution_count": 33,
   "metadata": {},
   "outputs": [
    {
     "data": {
      "text/plain": [
       "(-28.01652616764632, -2.072497153551555, 0.10532807605400357)"
      ]
     },
     "execution_count": 33,
     "metadata": {},
     "output_type": "execute_result"
    }
   ],
   "source": [
    "F0, np.mean(energies), Fint"
   ]
  },
  {
   "cell_type": "code",
   "execution_count": 34,
   "metadata": {},
   "outputs": [
    {
     "ename": "NameError",
     "evalue": "name 'independent_matrix' is not defined",
     "output_type": "error",
     "traceback": [
      "\u001b[0;31m---------------------------------------------------------------------------\u001b[0m",
      "\u001b[0;31mNameError\u001b[0m                                 Traceback (most recent call last)",
      "\u001b[0;32m<ipython-input-34-b91115b0635f>\u001b[0m in \u001b[0;36m<module>\u001b[0;34m\u001b[0m\n\u001b[0;32m----> 1\u001b[0;31m \u001b[0menergies_ind\u001b[0m \u001b[0;34m=\u001b[0m \u001b[0;34m[\u001b[0m\u001b[0menergy_potts\u001b[0m\u001b[0;34m(\u001b[0m\u001b[0mx\u001b[0m\u001b[0;34m,\u001b[0m \u001b[0mhi\u001b[0m\u001b[0;34m,\u001b[0m \u001b[0mnp\u001b[0m\u001b[0;34m.\u001b[0m\u001b[0mzeros_like\u001b[0m\u001b[0;34m(\u001b[0m\u001b[0mJij\u001b[0m\u001b[0;34m)\u001b[0m\u001b[0;34m)\u001b[0m \u001b[0;32mfor\u001b[0m \u001b[0mx\u001b[0m \u001b[0;32min\u001b[0m \u001b[0mindependent_matrix\u001b[0m\u001b[0;34m]\u001b[0m\u001b[0;34m\u001b[0m\u001b[0;34m\u001b[0m\u001b[0m\n\u001b[0m",
      "\u001b[0;31mNameError\u001b[0m: name 'independent_matrix' is not defined"
     ]
    }
   ],
   "source": [
    "energies_ind = [energy_potts(x, hi, np.zeros_like(Jij)) for x in independent_matrix]"
   ]
  },
  {
   "cell_type": "code",
   "execution_count": null,
   "metadata": {},
   "outputs": [],
   "source": [
    "np.mean(energies_ind), np.mean(energies)"
   ]
  },
  {
   "cell_type": "code",
   "execution_count": null,
   "metadata": {},
   "outputs": [],
   "source": [
    "def calc_Sind(hi):\n",
    "    fis = np.exp(hi)/np.sum(np.exp(hi), axis=1)[:, np.newaxis]\n",
    "    return np.sum(scipy.stats.entropy(fis.T))"
   ]
  },
  {
   "cell_type": "code",
   "execution_count": null,
   "metadata": {},
   "outputs": [],
   "source": [
    "Sind = calc_Sind(hi)\n",
    "S = np.mean(energies) - (F0 + Fint)\n",
    "S, Sind"
   ]
  },
  {
   "cell_type": "code",
   "execution_count": null,
   "metadata": {},
   "outputs": [],
   "source": [
    "Sind, np.mean(energies_ind) - F0"
   ]
  },
  {
   "cell_type": "code",
   "execution_count": null,
   "metadata": {},
   "outputs": [],
   "source": [
    "Suni = np.log2(20)"
   ]
  },
  {
   "cell_type": "code",
   "execution_count": null,
   "metadata": {},
   "outputs": [],
   "source": [
    "Sind*np.log2(np.exp(1))/N, S*np.log2(np.exp(1))/N"
   ]
  },
  {
   "cell_type": "code",
   "execution_count": 28,
   "metadata": {},
   "outputs": [],
   "source": [
    "df = pd.read_csv('../kmerentropy/data/entropy.csv')"
   ]
  },
  {
   "cell_type": "code",
   "execution_count": 29,
   "metadata": {},
   "outputs": [
    {
     "data": {
      "text/plain": [
       "array([4.17756346, 4.16934288, 4.16129658, 4.14931991, 4.11369582])"
      ]
     },
     "execution_count": 29,
     "metadata": {},
     "output_type": "execute_result"
    }
   ],
   "source": [
    "np.array(df['Human'])/np.arange(1, 6)"
   ]
  },
  {
   "cell_type": "code",
   "execution_count": 31,
   "metadata": {},
   "outputs": [
    {
     "data": {
      "text/plain": [
       "0.30957087318646137"
      ]
     },
     "execution_count": 31,
     "metadata": {},
     "output_type": "execute_result"
    }
   ],
   "source": [
    "(Sind-S)*np.log2(np.exp(1))"
   ]
  },
  {
   "cell_type": "code",
   "execution_count": 21,
   "metadata": {},
   "outputs": [],
   "source": [
    "def entropy_thermodynamic_integration(hi, Jij, integration_intervals=1, mcmc_kwargs=dict()):\n",
    "    F0 = -np.sum(np.log(np.sum(np.exp(hi), axis=1)))\n",
    "    N, q = hi.shape\n",
    "    \n",
    "    jump = lambda x: local_jump(x, q)\n",
    "    x0 = prng.randint(q, size=N)\n",
    "    matrix = mcmcsampler(x0, lambda x: energy_potts(x, hi, Jij), jump, **mcmc_kwargs)\n",
    "    energy_mean = np.mean([energy_potts(x, hi, Jij) for x in matrix])\n",
    "    \n",
    "    def Fprime(alpha):\n",
    "        jump = lambda x: local_jump(x, q)\n",
    "        x0 = prng.randint(q, size=N)\n",
    "        matrix = mcmcsampler(x0, lambda x: energy_potts(x, hi, alpha*Jij), jump, **mcmc_kwargs)\n",
    "        return np.mean([energy_potts(x, np.zeros_like(hi), Jij) for x in matrix])\n",
    "    \n",
    "    xs = np.linspace(0, 1, integration_intervals+1)\n",
    "    Fprimes = [Fprime(x) for x in xs]\n",
    "    Fint = scipy.integrate.simps(Fprimes, xs)\n",
    "    \n",
    "    S = energy_mean - (F0 + Fint)\n",
    "    return S"
   ]
  },
  {
   "cell_type": "code",
   "execution_count": 22,
   "metadata": {},
   "outputs": [],
   "source": [
    "mcmc_kwargs = dict(nsteps=1e6, nsample=10, nburnin=1e3)"
   ]
  },
  {
   "cell_type": "code",
   "execution_count": 23,
   "metadata": {},
   "outputs": [
    {
     "data": {
      "text/plain": [
       "25.828290270215764"
      ]
     },
     "execution_count": 23,
     "metadata": {},
     "output_type": "execute_result"
    }
   ],
   "source": [
    "entropy_thermodynamic_integration(hi, Jij, integration_intervals=3, mcmc_kwargs=mcmc_kwargs)"
   ]
  },
  {
   "cell_type": "code",
   "execution_count": null,
   "metadata": {},
   "outputs": [],
   "source": []
  }
 ],
 "metadata": {
  "kernelspec": {
   "display_name": "Python 3",
   "language": "python",
   "name": "python3"
  },
  "language_info": {
   "codemirror_mode": {
    "name": "ipython",
    "version": 3
   },
   "file_extension": ".py",
   "mimetype": "text/x-python",
   "name": "python",
   "nbconvert_exporter": "python",
   "pygments_lexer": "ipython3",
   "version": "3.6.10"
  }
 },
 "nbformat": 4,
 "nbformat_minor": 2
}
