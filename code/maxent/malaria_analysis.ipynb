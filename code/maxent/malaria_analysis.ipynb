{
 "cells": [
  {
   "cell_type": "code",
   "execution_count": 1,
   "id": "3043f090",
   "metadata": {},
   "outputs": [],
   "source": [
    "import json\n",
    "import numpy as np\n",
    "import pandas as pd\n",
    "import matplotlib.pyplot as plt\n",
    "%matplotlib inline\n",
    "\n",
    "import sys\n",
    "sys.path.append('..')\n",
    "\n",
    "from lib import *"
   ]
  },
  {
   "cell_type": "code",
   "execution_count": 48,
   "id": "f5bc0f2d",
   "metadata": {},
   "outputs": [],
   "source": [
    "def serialize_int_arr(arr):\n",
    "    return [int(x) for x in arr]\n",
    "\n",
    "def serialize_float_arr(arr):\n",
    "    return [float(x) for x in arr]"
   ]
  },
  {
   "cell_type": "code",
   "execution_count": 18,
   "id": "b16b3c9c",
   "metadata": {},
   "outputs": [
    {
     "name": "stdout",
     "output_type": "stream",
     "text": [
      "248879\n"
     ]
    }
   ],
   "source": [
    "# only human host\n",
    "df_t = load_iedb_tcellepitopes(human_only=True)\n",
    "print(df_t.shape[0])"
   ]
  },
  {
   "cell_type": "code",
   "execution_count": null,
   "id": "8b604816",
   "metadata": {},
   "outputs": [],
   "source": []
  },
  {
   "cell_type": "code",
   "execution_count": 19,
   "id": "c250092c",
   "metadata": {},
   "outputs": [
    {
     "name": "stdout",
     "output_type": "stream",
     "text": [
      "142895\n"
     ]
    }
   ],
   "source": [
    "# only MHC I epitopes\n",
    "df_t = df_t[(df_t['MHC', 'Class']=='I') | (pd.isna(df_t['MHC', 'Class']))]\n",
    "print(df_t.shape[0])"
   ]
  },
  {
   "cell_type": "code",
   "execution_count": null,
   "id": "8cb392fb",
   "metadata": {},
   "outputs": [],
   "source": []
  },
  {
   "cell_type": "code",
   "execution_count": 20,
   "id": "7c3fbc17",
   "metadata": {},
   "outputs": [
    {
     "name": "stdout",
     "output_type": "stream",
     "text": [
      "38609\n"
     ]
    }
   ],
   "source": [
    "# only epitopes of lengths in k\n",
    "mask = df_t['Epitope', 'Description'].apply(len)==9\n",
    "df_t = df_t[mask]\n",
    "print(df_t.shape[0])"
   ]
  },
  {
   "cell_type": "code",
   "execution_count": 21,
   "id": "07aa60ee",
   "metadata": {},
   "outputs": [
    {
     "name": "stdout",
     "output_type": "stream",
     "text": [
      "232\n"
     ]
    }
   ],
   "source": [
    "# restric to Malaria ('Plasmodium falciparum')\n",
    "pathogenproteomes = load_proteomes(only_pathogens=True)\n",
    "row = pathogenproteomes.loc['Malaria']\n",
    "malaria_name = row['iedbname']\n",
    "malaria_path = datadir + row['path']\n",
    "df_t = df_t[df_t['Epitope', 'Parent Species'].str.contains(malaria_name, na=False)]\n",
    "print(df_t.shape[0])"
   ]
  },
  {
   "cell_type": "code",
   "execution_count": 22,
   "id": "0090e830",
   "metadata": {},
   "outputs": [
    {
     "name": "stdout",
     "output_type": "stream",
     "text": [
      "116\n"
     ]
    }
   ],
   "source": [
    "# restrict to ELISPOT assay?\n",
    "mask = df_t['Assay', 'Method/Technique'] == 'ELISPOT'\n",
    "elispot_df_t = df_t[mask]\n",
    "print(elispot_df_t.shape[0])"
   ]
  },
  {
   "cell_type": "code",
   "execution_count": 23,
   "id": "fcaa471d",
   "metadata": {},
   "outputs": [
    {
     "name": "stdout",
     "output_type": "stream",
     "text": [
      "151\n",
      "81\n"
     ]
    }
   ],
   "source": [
    "# positive\n",
    "mask = df_t[('Assay', 'Qualitative Measure')] == 'Positive'\n",
    "neg_mask = df_t[('Assay', 'Qualitative Measure')] == 'Negative'\n",
    "positive = df_t[mask]\n",
    "negative = df_t[neg_mask]\n",
    "print(positive.shape[0])\n",
    "print(negative.shape[0])"
   ]
  },
  {
   "cell_type": "code",
   "execution_count": 24,
   "id": "deb1207a",
   "metadata": {},
   "outputs": [
    {
     "name": "stdout",
     "output_type": "stream",
     "text": [
      "60\n",
      "56\n"
     ]
    }
   ],
   "source": [
    "# positive with only ELISPOT\n",
    "mask = elispot_df_t[('Assay', 'Qualitative Measure')] == 'Positive'\n",
    "neg_mask = elispot_df_t[('Assay', 'Qualitative Measure')] == 'Negative'\n",
    "positive_elispot = elispot_df_t[mask]\n",
    "negative_elispot = elispot_df_t[neg_mask]\n",
    "print(positive_elispot.shape[0])\n",
    "print(negative_elispot.shape[0])"
   ]
  },
  {
   "cell_type": "code",
   "execution_count": 25,
   "id": "2bd036f9",
   "metadata": {},
   "outputs": [
    {
     "data": {
      "text/plain": [
       "(151, 144)"
      ]
     },
     "execution_count": 25,
     "metadata": {},
     "output_type": "execute_result"
    }
   ],
   "source": [
    "# Malaria Epitopes\n",
    "epi_t = positive['Epitope', 'Description'].unique()\n",
    "positive.shape"
   ]
  },
  {
   "cell_type": "code",
   "execution_count": 26,
   "id": "3ac6e119",
   "metadata": {},
   "outputs": [],
   "source": [
    "epi_t_negative = negative['Epitope', 'Description'].unique()"
   ]
  },
  {
   "cell_type": "code",
   "execution_count": 27,
   "id": "e328d0fd",
   "metadata": {},
   "outputs": [
    {
     "data": {
      "text/plain": [
       "(42,)"
      ]
     },
     "execution_count": 27,
     "metadata": {},
     "output_type": "execute_result"
    }
   ],
   "source": [
    "# Malaria Epitopes\n",
    "epi_t_elispot = positive_elispot['Epitope', 'Description'].unique()\n",
    "epi_t_elispot.shape"
   ]
  },
  {
   "cell_type": "code",
   "execution_count": 28,
   "id": "21faa5d2",
   "metadata": {},
   "outputs": [
    {
     "data": {
      "text/plain": [
       "(36,)"
      ]
     },
     "execution_count": 28,
     "metadata": {},
     "output_type": "execute_result"
    }
   ],
   "source": [
    "epi_t_negative_elispot = negative_elispot['Epitope', 'Description'].unique()\n",
    "epi_t_negative_elispot.shape"
   ]
  },
  {
   "cell_type": "code",
   "execution_count": 17,
   "id": "d8877064",
   "metadata": {},
   "outputs": [
    {
     "data": {
      "text/plain": [
       "Reference       Assay IRI                                http://www.iedb.org/assay/6477114\n",
       "                Reference IRI                        http://www.iedb.org/reference/1036317\n",
       "                Type                                                            Literature\n",
       "                PubMed ID                                                       32040522.0\n",
       "                Authors                  Kwadwo A Kusi; Felix E Aggor; Linda E Amoah; D...\n",
       "                                                               ...                        \n",
       "Assay Antigen   Organism Species Name                                Plasmodium falciparum\n",
       "                Organism Species IRI         http://purl.obolibrary.org/obo/NCBITaxon_5833\n",
       "Assay Comments  Assay Comments                                                         NaN\n",
       "Assay           Positive                                                              True\n",
       "Epitope         Length                                                                   9\n",
       "Name: 371886, Length: 144, dtype: object"
      ]
     },
     "execution_count": 17,
     "metadata": {},
     "output_type": "execute_result"
    }
   ],
   "source": [
    "positive_elispot.loc[371886]"
   ]
  },
  {
   "cell_type": "code",
   "execution_count": null,
   "id": "9342ea28",
   "metadata": {},
   "outputs": [],
   "source": []
  },
  {
   "cell_type": "code",
   "execution_count": null,
   "id": "b04bb2d5",
   "metadata": {},
   "outputs": [],
   "source": []
  },
  {
   "cell_type": "code",
   "execution_count": 29,
   "id": "1c84a265",
   "metadata": {},
   "outputs": [],
   "source": [
    "names = list(positive['Assay Antigen', 'Protein Parent Name'])\n",
    "names = [name.split(\" \")[0] for name in names if not pd.isna(name)]\n",
    "\n",
    "negative_names = list(negative['Assay Antigen', 'Protein Parent Name'])\n",
    "negative_names = [name.split(\" \")[0] for name in negative_names if not pd.isna(name)]"
   ]
  },
  {
   "cell_type": "code",
   "execution_count": 30,
   "id": "64c4b325",
   "metadata": {},
   "outputs": [],
   "source": [
    "names_elispot = list(positive_elispot['Assay Antigen', 'Protein Parent Name'])\n",
    "names_elispot = [name.split(\" \")[0] for name in names_elispot if not pd.isna(name)]\n",
    "\n",
    "\n",
    "negative_names_elispot = list(negative_elispot['Assay Antigen', 'Protein Parent Name'])\n",
    "negative_names_elispot = [name.split(\" \")[0] for name in negative_names_elispot if not pd.isna(name)]\n"
   ]
  },
  {
   "cell_type": "code",
   "execution_count": null,
   "id": "8854119e",
   "metadata": {},
   "outputs": [],
   "source": []
  },
  {
   "cell_type": "code",
   "execution_count": 20,
   "id": "c8b51cd5",
   "metadata": {},
   "outputs": [],
   "source": [
    "count = 0\n",
    "whitelist = set(names)\n",
    "whitelist_elispot = set(names_elispot)\n",
    "seqs = []\n",
    "seqs_elispot = []\n",
    "for header, seq in fasta_iter(malaria_path, returnheader=True):\n",
    "    if header in whitelist:\n",
    "        seqs.append(seq)\n",
    "    if header in whitelist_elispot:\n",
    "        seqs_elispot.append(seq)"
   ]
  },
  {
   "cell_type": "code",
   "execution_count": 21,
   "id": "0d1cc662",
   "metadata": {},
   "outputs": [],
   "source": [
    "malaria_epitope_source_proteins = set(count_kmers_iterable(seqs, 9, clean=True))\n",
    "malaria_epitope_source_proteins_elispot = set(count_kmers_iterable(seqs_elispot, 9, clean=True))"
   ]
  },
  {
   "cell_type": "code",
   "execution_count": 41,
   "id": "1806f793",
   "metadata": {},
   "outputs": [],
   "source": [
    "selfset = set(count_kmers_proteome(human, 9, clean=True))"
   ]
  },
  {
   "cell_type": "code",
   "execution_count": 42,
   "id": "ac83c6f3",
   "metadata": {},
   "outputs": [],
   "source": [
    "malaria_fullset = set(count_kmers_proteome(malaria_path, 9, clean=True))"
   ]
  },
  {
   "cell_type": "code",
   "execution_count": 43,
   "id": "6afa31ec",
   "metadata": {},
   "outputs": [],
   "source": [
    "self_kmers = list(selfset)\n",
    "malaria_kmers = list(malaria_fullset)\n",
    "\n",
    "malaria_epitope_kmers = list(epi_t)\n",
    "malaria_negative_epitope_kmers = list(epi_t_negative)\n",
    "\n",
    "# malaria_epitope_source_kmers = list(malaria_epitope_source_proteins)\n",
    "# malaria_epitope_source_kmers = [m for m in malaria_epitope_source_kmers if m not in epi_t]\n",
    "\n",
    "\n",
    "malaria_epitope_kmers_elispot = list(epi_t_elispot)\n",
    "malaria_negative_epitope_kmers_elispot = list(epi_t_negative_elispot)\n",
    "# malaria_epitope_source_kmers_elispot = list(malaria_epitope_source_proteins_elispot)\n",
    "# malaria_epitope_source_kmers_elispot = [m for m in malaria_epitope_source_kmers_elispot if m not in epi_t_elispot]"
   ]
  },
  {
   "cell_type": "code",
   "execution_count": null,
   "id": "e99dcec6",
   "metadata": {},
   "outputs": [],
   "source": []
  },
  {
   "cell_type": "code",
   "execution_count": null,
   "id": "22719558",
   "metadata": {},
   "outputs": [],
   "source": [
    "# writing kmers to file to run MHC on them...\n",
    "# uncomment to run\n",
    "\n",
    "# prefix = \"/data/lareauc/levinej/pep/peptidome/code/maxent/data/netMHC_input/net_mhc_input_\"\n",
    "\n",
    "# file_to_kmers = {\n",
    "#     f\"{prefix}self_kmers.txt\": self_kmers,\n",
    "#     f\"{prefix}malaria_proteome_kmers.txt\": malaria_kmers,\n",
    "#     f\"{prefix}malaria_epitope_kmers.txt\": malaria_epitope_kmers,\n",
    "#     f\"{prefix}malaria_epitope_kmers_elispot.txt\": malaria_epitope_kmers_elispot,\n",
    "#     f\"{prefix}malaria_epitope_source_kmers.txt\": malaria_epitope_source_kmers,\n",
    "#     f\"{prefix}malaria_epitope_source_kmers_elispot.txt\": malaria_epitope_source_kmers_elispot,\n",
    "# }\n",
    "\n",
    "# for _f, km_list in file_to_kmers.items():\n",
    "#     with open(_f,\"w\") as f:\n",
    "#         for km in km_list:\n",
    "#             f.write(f\"{km}\\n\")"
   ]
  },
  {
   "cell_type": "code",
   "execution_count": null,
   "id": "fa016304",
   "metadata": {},
   "outputs": [],
   "source": [
    "# cache = {\n",
    "#     \"self_kmers\": {},\n",
    "#     \"malaria_proteome_kmers\": {},\n",
    "#     \"malaria_epitope_kmers\": {},\n",
    "#     \"malaria_epitope_kmers_elispot\": {},\n",
    "#     \"malaria_epitope_source_kmers\": {},\n",
    "#     \"malaria_epitope_source_kmers_elispot\": {}\n",
    "    \n",
    "# }"
   ]
  },
  {
   "cell_type": "code",
   "execution_count": null,
   "id": "677e03b7",
   "metadata": {},
   "outputs": [],
   "source": [
    "# def get_mhc_df(model, allele):\n",
    "#     try:\n",
    "#         return pd.read_csv(f'data/netMHC_output/net_mhc_output_{model}-{allele}.csv')\n",
    "#     except Exception as e:\n",
    "#         print(f'Missing CSV: {model},{allele}')\n",
    "#         return None\n",
    "        \n",
    "# def get_combined_binders(model, alleles):\n",
    "\n",
    "#     kmers = set()\n",
    "#     for allele in alleles:\n",
    "#         print(allele)\n",
    "        \n",
    "#         if allele in cache[model]:\n",
    "#             kmers = kmers.union(cache[model])\n",
    "#             print('cache hit')\n",
    "#         else:\n",
    "#             mhc_df = get_mhc_df(model, allele)\n",
    "#             if mhc_df is not None:\n",
    "#                 new_set= set(mhc_df['Peptide'])\n",
    "#                 kmers = kmers.union(new_set)\n",
    "#                 cache[model][allele] = new_set\n",
    "                \n",
    "#     return kmers"
   ]
  },
  {
   "cell_type": "code",
   "execution_count": null,
   "id": "55052dad",
   "metadata": {},
   "outputs": [],
   "source": [
    "# haplotypes = pd.read_csv('/data/lareauc/levinej/pep/peptidome/code/maxent/data/top_500_allowed_haplotypes.csv')\n",
    "# hap_cols = ['A1','A2','B1','B2','C1','C2']"
   ]
  },
  {
   "cell_type": "code",
   "execution_count": null,
   "id": "a4ee9de4",
   "metadata": {},
   "outputs": [],
   "source": [
    "# top_haplotype = haplotypes.loc[0][hap_cols]\n",
    "# list(top_haplotype)"
   ]
  },
  {
   "cell_type": "code",
   "execution_count": null,
   "id": "899ae177",
   "metadata": {},
   "outputs": [],
   "source": [
    "# top_haplotype_filtered_kmers = {}\n",
    "\n",
    "# for model in cache:\n",
    "#     top_haplotype_filtered_kmers[model] = get_combined_binders(model, top_haplotype)\n",
    "    "
   ]
  },
  {
   "cell_type": "code",
   "execution_count": 44,
   "id": "d432ae45",
   "metadata": {},
   "outputs": [],
   "source": [
    "from lib.maxent import *\n",
    "energy = make_energy(np.load(f'data/Human_nskewfcov_k9_params.npz'))"
   ]
  },
  {
   "cell_type": "code",
   "execution_count": 45,
   "id": "61baaa75",
   "metadata": {},
   "outputs": [],
   "source": [
    "\n",
    "F = float(pd.read_csv(f'../maxent/data/Human_nskewfcov_k9_entropy.csv',header=None, index_col=0).loc['F'].values[0])\n",
    "loglikelihood  = lambda seq: -energy(seq) + F\n"
   ]
  },
  {
   "cell_type": "code",
   "execution_count": 31,
   "id": "e5522aaa",
   "metadata": {},
   "outputs": [],
   "source": [
    "human_energies = [energy(s) for s in kmers_to_matrix(self_kmers)]\n",
    "malaria_energies = [energy(s) for s in kmers_to_matrix(malaria_kmers)]\n",
    "\n",
    "epitope_energies = [energy(s) for s in kmers_to_matrix(malaria_epitope_kmers)]\n",
    "# epitope_source_energies = [energy(s) for s in kmers_to_matrix(malaria_epitope_source_kmers)]\n",
    "\n",
    "epitope_energies_elispot = [energy(s) for s in kmers_to_matrix(malaria_epitope_kmers_elispot)]\n",
    "# epitope_source_energies_elispot = [energy(s) for s in kmers_to_matrix(malaria_epitope_source_kmers_elispot)]\n",
    "\n",
    "epitope_energies_negative = [energy(s) for s in kmers_to_matrix(malaria_negative_epitope_kmers)]\n",
    "epitope_energies_negative_elispot = [energy(s) for s in kmers_to_matrix(malaria_negative_epitope_kmers_elispot)]"
   ]
  },
  {
   "cell_type": "code",
   "execution_count": 46,
   "id": "01d92e3e",
   "metadata": {},
   "outputs": [],
   "source": [
    "logp_human = [loglikelihood(s) for s in kmers_to_matrix(self_kmers)]\n",
    "logp_malaria = [loglikelihood(s) for s in kmers_to_matrix(malaria_kmers)]\n",
    "logp_epitopes = [loglikelihood(s) for s in kmers_to_matrix(malaria_epitope_kmers)]\n",
    "logp_negative_epitopes = [loglikelihood(s) for s in kmers_to_matrix(malaria_negative_epitope_kmers)]\n",
    "\n",
    "logp_epitopes_elispot = [loglikelihood(s) for s in kmers_to_matrix(malaria_epitope_kmers_elispot)]\n",
    "\n",
    "logp_negative_epitopes_elispot = [loglikelihood(s) for s in kmers_to_matrix(malaria_negative_epitope_kmers_elispot)]\n"
   ]
  },
  {
   "cell_type": "code",
   "execution_count": 35,
   "id": "f76e5eaa",
   "metadata": {},
   "outputs": [
    {
     "data": {
      "text/plain": [
       "<matplotlib.legend.Legend at 0x2b50adb0d0a0>"
      ]
     },
     "execution_count": 35,
     "metadata": {},
     "output_type": "execute_result"
    },
    {
     "data": {
      "image/png": "[encoded data removed]",
      "text/plain": [
       "<Figure size 1000x1000 with 1 Axes>"
      ]
     },
     "metadata": {},
     "output_type": "display_data"
    }
   ],
   "source": [
    "plt.figure(figsize=(10,10))\n",
    "labels = ['Human Peptidome',\n",
    "          'Malaria Peptidome',\n",
    "          'Malaria Epitopes',\n",
    "          'Malaria Epitopes (-)'\n",
    "         ]\n",
    "for name, energy_values in zip(labels,\n",
    "                               [human_energies,\n",
    "                                malaria_energies,\n",
    "                                epitope_energies_elispot,\n",
    "                                epitope_energies_negative_elispot\n",
    "                               ]):\n",
    "    bins = np.linspace(-10, 10, 15)\n",
    "    count, bins_count = np.histogram(energy_values,bins=bins)\n",
    "    pdf = count / sum(count)\n",
    "    \n",
    "#     plt.subplot(1,2,1)\n",
    "    if name.startswith('Human'):\n",
    "        plt.plot(0.5*(bins[:-1]+bins[1:]), pdf ,'k--',label=name)\n",
    "    else:\n",
    "        plt.plot(0.5*(bins[:-1]+bins[1:]), pdf ,label=name)\n",
    "\n",
    "colors = ['red','brown','magenta','orange']\n",
    "# for i in range(len(distance_one)):\n",
    "#     plt.axvline(energy(d1_matrix[i,:]), color=colors[i],linestyle='--', label=distance_one[i])\n",
    "# plt.axvline(e3_energy, color='r', linestyle='--', label=e3)\n",
    "\n",
    "plt.xlabel('Energy from Human Model',fontsize=14)\n",
    "plt.ylabel('Probability Density',fontsize=14)\n",
    "plt.legend(loc='upper right',fontsize=14)\n",
    "# "
   ]
  },
  {
   "cell_type": "code",
   "execution_count": 52,
   "id": "a3ce15f1",
   "metadata": {},
   "outputs": [
    {
     "data": {
      "text/plain": [
       "<matplotlib.legend.Legend at 0x2b5098c390d0>"
      ]
     },
     "execution_count": 52,
     "metadata": {},
     "output_type": "execute_result"
    },
    {
     "data": {
      "image/png": "[encoded data removed]",
      "text/plain": [
       "<Figure size 900x400 with 1 Axes>"
      ]
     },
     "metadata": {},
     "output_type": "display_data"
    }
   ],
   "source": [
    "fig, ax = plt.subplots(figsize=(9, 4), ncols=1, nrows=1)\n",
    "xmax = np.log10(np.exp(-min(malaria_energies)-0.05))\n",
    "xmin = np.log10(np.exp(-max(human_energies)+0.05))\n",
    "nbins = 50\n",
    "scaley = nbins/(xmax-xmin)\n",
    "bins = np.linspace(xmin, xmax, num=nbins+1)\n",
    "kwargs = dict(lw=0.5)\n",
    "for name, energy_values in zip(labels,\n",
    "                               [human_energies,\n",
    "                                malaria_energies,\n",
    "                                epitope_energies_elispot,\n",
    "                                epitope_energies_negative_elispot\n",
    "                               ]):\n",
    "    values = np.exp(-1*(np.array(energy_values)))\n",
    "    counts, bins = np.histogram(np.log10(values), bins=bins)\n",
    "    counts = counts/np.sum(counts)\n",
    "    ax.step(bins[:-1], counts*scaley, label=name, where='mid', **kwargs)\n",
    "ax.set_xlabel(r'$\\log_{10} P(\\sigma)$')\n",
    "ax.set_xlim(min(bins), max(bins))\n",
    "ax.set_ylabel('Density of States')\n",
    "ax.legend(loc='upper right', ncol=2,bbox_to_anchor=(1.75, 1.0))\n",
    "# ax.set_yscale('log')"
   ]
  },
  {
   "cell_type": "code",
   "execution_count": 61,
   "id": "6f9805d1",
   "metadata": {},
   "outputs": [
    {
     "data": {
      "text/plain": [
       "<matplotlib.legend.Legend at 0x2b50991490d0>"
      ]
     },
     "execution_count": 61,
     "metadata": {},
     "output_type": "execute_result"
    },
    {
     "data": {
      "image/png": "[encoded data removed]",
      "text/plain": [
       "<Figure size 1000x1000 with 1 Axes>"
      ]
     },
     "metadata": {},
     "output_type": "display_data"
    }
   ],
   "source": [
    "plt.figure(figsize=(10,10))\n",
    "labels = ['Human Peptidome',\n",
    "          'Malaria Peptidome',\n",
    "          'Malaria Epitopes',\n",
    "          'Malaria Epitopes (-)'\n",
    "         ]\n",
    "for name, values in zip(labels,\n",
    "                               [logp_human,\n",
    "                                logp_malaria,\n",
    "                                logp_epitopes_elispot,\n",
    "                                logp_negative_epitopes_elispot\n",
    "                               ]):\n",
    "    bins = np.linspace(-14, -8, 10)\n",
    "    count, bins_count = np.histogram(np.array(values)/np.log(10),bins=bins)\n",
    "    pdf = count / sum(count)\n",
    "    \n",
    "#     plt.subplot(1,2,1)\n",
    "    if name.startswith('Human'):\n",
    "        plt.plot(0.5*(bins[:-1]+bins[1:]), pdf ,'k--',label=name)\n",
    "    else:\n",
    "        plt.plot(0.5*(bins[:-1]+bins[1:]), pdf ,label=name)\n",
    "\n",
    "colors = ['red','brown','magenta','orange']\n",
    "# for i in range(len(distance_one)):\n",
    "#     plt.axvline(energy(d1_matrix[i,:]), color=colors[i],linestyle='--', label=distance_one[i])\n",
    "# plt.axvline(e3_energy, color='r', linestyle='--', label=e3)\n",
    "\n",
    "plt.xlabel(r'$\\log_{10} P(\\sigma)$')\n",
    "plt.ylabel('Probability Density',fontsize=14)\n",
    "plt.legend(loc='upper right',fontsize=14)\n",
    "# plt.yscale('log')\n",
    "# "
   ]
  },
  {
   "cell_type": "code",
   "execution_count": 51,
   "id": "9d7e118c",
   "metadata": {},
   "outputs": [],
   "source": [
    "labels = ['Human Peptidome',\n",
    "          'Malaria Peptidome',\n",
    "          'Malaria Epitopes',\n",
    "          'Malaria Epitopes (-)'\n",
    "         ]"
   ]
  },
  {
   "cell_type": "code",
   "execution_count": 67,
   "id": "40abcf44",
   "metadata": {},
   "outputs": [],
   "source": [
    "density_dict = {}\n",
    "\n",
    "for name, values in zip(labels,\n",
    "                           [logp_human,\n",
    "                            logp_malaria,\n",
    "                            logp_epitopes_elispot,\n",
    "                            logp_negative_epitopes_elispot\n",
    "                           ]):\n",
    "    bins = np.linspace(-14, -8, 10)\n",
    "    count, bins_count = np.histogram(np.array(values)/np.log(10),bins=bins)\n",
    "    pdf = count / sum(count)\n",
    "    \n",
    "    density_dict[name] = {\n",
    "        'bins': serialize_float_arr(bins),\n",
    "        'pdf': serialize_float_arr(pdf)\n",
    "    }\n",
    "with open('../../figures/New Paper Figures/Figure Data/malaria_pdf.json','w') as jj:\n",
    "    json.dump(density_dict,jj)"
   ]
  },
  {
   "cell_type": "code",
   "execution_count": 52,
   "id": "542710e2",
   "metadata": {},
   "outputs": [],
   "source": [
    "density_dict = {}\n",
    "\n",
    "for name, values in zip(labels,\n",
    "                           [logp_human,\n",
    "                            logp_malaria,\n",
    "                            logp_epitopes,\n",
    "                            logp_negative_epitopes\n",
    "                           ]):\n",
    "    bins = np.linspace(-14, -8, 10)\n",
    "    count, bins_count = np.histogram(np.array(values)/np.log(10),bins=bins)\n",
    "    pdf = count / sum(count)\n",
    "    \n",
    "    density_dict[name] = {\n",
    "        'bins': serialize_float_arr(bins),\n",
    "        'pdf': serialize_float_arr(pdf)\n",
    "    }\n",
    "with open('../../figures/New Paper Figures/Figure Data/malaria_pdf_all_assays.json','w') as jj:\n",
    "    json.dump(density_dict,jj)"
   ]
  },
  {
   "cell_type": "code",
   "execution_count": null,
   "id": "7cffefd1",
   "metadata": {},
   "outputs": [],
   "source": [
    "# human_ll = [loglikelihood(s) for s in kmers_to_matrix(self_kmers)]\n",
    "# epitope_ll = [loglikelihood(s) for s in kmers_to_matrix(malaria_epitope_kmers)]\n",
    "# malaria_ll = [loglikelihood(s) for s in kmers_to_matrix(malaria_kmers)]\n",
    "# epitope_source_ll = [loglikelihood(s) for s in kmers_to_matrix(maria_epitope_source_kmers)]"
   ]
  },
  {
   "cell_type": "code",
   "execution_count": null,
   "id": "37961592",
   "metadata": {},
   "outputs": [],
   "source": [
    "human_energies_mhc = [energy(s) for s in kmers_to_matrix(top_haplotype_filtered_kmers[\"self_kmers\"])]\n",
    "malaria_energies_mhc = [energy(s) for s in kmers_to_matrix(top_haplotype_filtered_kmers[\"malaria_proteome_kmers\"])]\n",
    "\n",
    "# epitope_energies = [energy(s) for s in kmers_to_matrix(malaria_epitope_kmers)]\n",
    "\n",
    "epitope_source_energies_mhc = [energy(s) for s in kmers_to_matrix(top_haplotype_filtered_kmers[\"malaria_epitope_source_kmers\"])]\n",
    "\n",
    "# epitope_energies_elispot = [energy(s) for s in kmers_to_matrix(malaria_epitope_kmers_elispot)]\n",
    "epitope_source_energies_elispot_mhc = [energy(s) for s in kmers_to_matrix(top_haplotype_filtered_kmers[\"malaria_epitope_source_kmers_elispot\"])]\n"
   ]
  },
  {
   "cell_type": "code",
   "execution_count": null,
   "id": "57ded623",
   "metadata": {},
   "outputs": [],
   "source": [
    "plt.figure(figsize=(20,6))\n",
    "\n",
    "plt.subplot(1,2,1)\n",
    "\n",
    "labels = ['Human Proteome',\n",
    "          'Full Malaria Proteome',\n",
    "          'Malaria Epitopes',\n",
    "          'Malaria Epitopes Source Protein',\n",
    "          ]\n",
    "#           'Malaria Epitopes Source Protein w/o Epitopes']\n",
    "\n",
    "for name, energy_values in zip(labels,\n",
    "                               [human_energies,\n",
    "                                malaria_energies,\n",
    "                                epitope_energies, epitope_source_energies,\n",
    "                               ]):\n",
    "    bins = np.linspace(-10, 10, 15)\n",
    "    count, bins_count = np.histogram(energy_values,bins=bins)\n",
    "    pdf = count / sum(count)\n",
    "    \n",
    "#     plt.subplot(1,2,1)\n",
    "    plt.plot(0.5*(bins[:-1]+bins[1:]), pdf ,label=name)\n",
    "\n",
    "plt.xlabel('Energy')\n",
    "plt.ylabel('Probability Density')  \n",
    "plt.legend(loc='upper right',fontsize=8)\n",
    "plt.title(f'All Assays (N={positive.shape[0]} epitopes)')\n",
    "\n",
    "\n",
    "plt.subplot(1,2,2)\n",
    "\n",
    "for name, energy_values in zip(labels,\n",
    "                               [human_energies,\n",
    "                                malaria_energies,\n",
    "                                epitope_energies_elispot, epitope_source_energies_elispot,\n",
    "                                ]):\n",
    "    bins = np.linspace(-10, 10, 15)\n",
    "    count, bins_count = np.histogram(energy_values,bins=bins)\n",
    "    pdf = count / sum(count)\n",
    "    \n",
    "#     plt.subplot(1,2,1)\n",
    "    plt.plot(0.5*(bins[:-1]+bins[1:]), pdf ,label=name)\n",
    "\n",
    "plt.xlabel('Energy')\n",
    "plt.ylabel('Probability Density')  \n",
    "plt.legend(loc='upper right',fontsize=8)\n",
    "plt.title(f'ELISPOT Only (N={positive_elispot.shape[0]} epitopes)')\n",
    "\n",
    "    \n",
    "# plt.subplot(1,2,2)\n",
    "# likes = [np.array(vec)-F for vec in [human_ll,malaria_ll,epitope_ll, epitope_source_ll]]\n",
    "# # plt.bar(np.arange(4),means, width=.2)\n",
    "# plt.boxplot(likes)\n",
    "# plt.xticks(np.arange(4),labels,rotation=45)\n",
    "# plt.ylabel('Avg Likelihood')\n",
    "\n",
    "# plt.savefig('plots/energies_malaria_epitopes_elispot_vs.png')\n",
    "\n",
    "\n",
    "\n",
    "\n"
   ]
  },
  {
   "cell_type": "code",
   "execution_count": null,
   "id": "4699084e",
   "metadata": {},
   "outputs": [],
   "source": [
    "e1 = 'SFLFVEALF'\n",
    "e2 = 'FVEALFQEY'\n",
    "e3 = 'LAILSVSSF'\n",
    "e4 = 'YLNKIQNSL'\n",
    "example_matrix = kmers_to_matrix([e1,e2,e3,e4])\n",
    "e1_energy = energy(example_matrix[0,:])\n",
    "e2_energy = energy(example_matrix[1,:])\n",
    "e3_energy = energy(example_matrix[2,:])\n",
    "e4_energy = energy(example_matrix[3,:])\n",
    "\n",
    "\n",
    "plt.figure(figsize=(20,6))\n",
    "\n",
    "plt.subplot(1,2,1)\n",
    "\n",
    "labels = ['Human Proteome',\n",
    "          'Full Malaria Proteome',\n",
    "          'Malaria Epitopes',\n",
    "          'Malaria Epitopes Source Protein']\n",
    "#           'Malaria Epitopes Source Protein w/o Epitopes']\n",
    "\n",
    "for name, energy_values in zip(labels,\n",
    "                               [human_energies,malaria_energies,epitope_energies, epitope_source_energies]):\n",
    "    bins = np.linspace(-10, 10, 15)\n",
    "    count, bins_count = np.histogram(energy_values,bins=bins)\n",
    "    pdf = count / sum(count)\n",
    "    \n",
    "#     plt.subplot(1,2,1)\n",
    "    plt.plot(0.5*(bins[:-1]+bins[1:]), pdf ,label=name)\n",
    "\n",
    "# plt.axvline(e1_energy, color='k', linestyle='--', label=e1)\n",
    "plt.axvline(e3_energy, color='k', linestyle='--', label=e3)\n",
    "\n",
    "plt.xlabel('Energy')\n",
    "plt.ylabel('Probability Density')  \n",
    "plt.legend(loc='upper right',fontsize=8)\n",
    "plt.title(f'All Assays (N={positive.shape[0]} epitopes)')\n",
    "\n",
    "\n",
    "plt.subplot(1,2,2)\n",
    "\n",
    "for name, energy_values in zip(labels,\n",
    "                               [human_energies,malaria_energies,epitope_energies_elispot, epitope_source_energies_elispot]):\n",
    "    bins = np.linspace(-10, 10, 15)\n",
    "    count, bins_count = np.histogram(energy_values,bins=bins)\n",
    "    pdf = count / sum(count)\n",
    "    \n",
    "#     plt.subplot(1,2,1)\n",
    "    plt.plot(0.5*(bins[:-1]+bins[1:]), pdf ,label=name)\n",
    "# plt.axvline(e1_energy, color='k', linestyle='--', label=e1)\n",
    "plt.axvline(e3_energy, color='k', linestyle='--', label=e3)\n",
    "plt.xlabel('Energy')\n",
    "plt.ylabel('Probability Density')  \n",
    "plt.legend(loc='upper right',fontsize=8)\n",
    "plt.title(f'ELISPOT Only (N={positive_elispot.shape[0]} epitopes)')\n",
    "\n",
    "    \n",
    "# plt.subplot(1,2,2)\n",
    "# likes = [np.array(vec)-F for vec in [human_ll,malaria_ll,epitope_ll, epitope_source_ll]]\n",
    "# # plt.bar(np.arange(4),means, width=.2)\n",
    "# plt.boxplot(likes)\n",
    "# plt.xticks(np.arange(4),labels,rotation=45)\n",
    "# plt.ylabel('Avg Likelihood')\n",
    "\n",
    "plt.savefig('plots/energies_malaria_epitopes_with_examples.png')\n",
    "\n",
    "\n",
    "\n",
    "\n"
   ]
  },
  {
   "cell_type": "code",
   "execution_count": null,
   "id": "7d046f8c",
   "metadata": {},
   "outputs": [],
   "source": [
    "plt.figure(figsize=(20,6))\n",
    "\n",
    "plt.subplot(1,2,1)\n",
    "\n",
    "labels = ['Human Proteome MHC Binders',\n",
    "          'Full Malaria Proteome MHC Binders',\n",
    "          'Malaria Epitopes',\n",
    "          'Malaria Epitopes Source Protein MHC Binders']\n",
    "\n",
    "for name, energy_values in zip(labels,\n",
    "                               [human_energies_mhc,\n",
    "                                malaria_energies_mhc,\n",
    "                                epitope_energies, epitope_source_energies_mhc\n",
    "                               ]):\n",
    "    bins = np.linspace(-10, 10, 15)\n",
    "    count, bins_count = np.histogram(energy_values,bins=bins)\n",
    "    pdf = count / sum(count)\n",
    "    \n",
    "#     plt.subplot(1,2,1)\n",
    "    plt.plot(0.5*(bins[:-1]+bins[1:]), pdf ,label=name)\n",
    "\n",
    "plt.xlabel('Energy')\n",
    "plt.ylabel('Probability Density')  \n",
    "plt.legend(loc='upper right',fontsize=8)\n",
    "plt.title(f'All Assays (N={positive.shape[0]} epitopes)')\n",
    "\n",
    "\n",
    "plt.subplot(1,2,2)\n",
    "\n",
    "for name, energy_values in zip(labels,\n",
    "                               [human_energies_mhc,\n",
    "                                malaria_energies_mhc,\n",
    "                                epitope_energies_elispot,\n",
    "                                epitope_source_energies_elispot_mhc]):\n",
    "    bins = np.linspace(-10, 10, 15)\n",
    "    count, bins_count = np.histogram(energy_values,bins=bins)\n",
    "    pdf = count / sum(count)\n",
    "    \n",
    "#     plt.subplot(1,2,1)\n",
    "    plt.plot(0.5*(bins[:-1]+bins[1:]), pdf ,label=name)\n",
    "\n",
    "plt.xlabel('Energy')\n",
    "plt.ylabel('Probability Density')  \n",
    "plt.legend(loc='upper right',fontsize=8)\n",
    "plt.title(f'ELISPOT Only (N={positive_elispot.shape[0]} epitopes)')\n",
    "\n",
    "    \n",
    "# plt.subplot(1,2,2)\n",
    "# likes = [np.array(vec)-F for vec in [human_ll,malaria_ll,epitope_ll, epitope_source_ll]]\n",
    "# # plt.bar(np.arange(4),means, width=.2)\n",
    "# plt.boxplot(likes)\n",
    "# plt.xticks(np.arange(4),labels,rotation=45)\n",
    "# plt.ylabel('Avg Likelihood')\n",
    "\n",
    "plt.savefig('plots/energies_mhc_malaria_epitopes_elispot_vs.png')\n",
    "\n",
    "\n",
    "\n",
    "\n"
   ]
  },
  {
   "cell_type": "code",
   "execution_count": null,
   "id": "6272b46b",
   "metadata": {},
   "outputs": [],
   "source": [
    "e1 = 'SFLFVEALF'\n",
    "e2 = 'FVEALFQEY'\n",
    "e3 = 'LAILSVSSF'\n",
    "e4 = 'YLNKIQNSL'\n",
    "example_matrix = kmers_to_matrix([e1,e2,e3,e4])\n",
    "e1_energy = energy(example_matrix[0,:])\n",
    "e2_energy = energy(example_matrix[1,:])\n",
    "e3_energy = energy(example_matrix[2,:])\n",
    "e4_energy = energy(example_matrix[3,:])\n",
    "\n",
    "\n",
    "plt.figure(figsize=(20,6))\n",
    "\n",
    "plt.subplot(1,2,1)\n",
    "\n",
    "labels = ['Human Proteome MHC Binders',\n",
    "          'Full Malaria Proteome MHC Binders',\n",
    "          'Malaria Epitopes',\n",
    "          'Malaria Epitopes Source Protein MHC Binders']\n",
    "\n",
    "for name, energy_values in zip(labels,\n",
    "                               [human_energies_mhc,\n",
    "                                malaria_energies_mhc,\n",
    "                                epitope_energies, epitope_source_energies_mhc\n",
    "                               ]):\n",
    "    bins = np.linspace(-10, 10, 15)\n",
    "    count, bins_count = np.histogram(energy_values,bins=bins)\n",
    "    pdf = count / sum(count)\n",
    "    \n",
    "#     plt.subplot(1,2,1)\n",
    "    plt.plot(0.5*(bins[:-1]+bins[1:]), pdf ,label=name)\n",
    "\n",
    "# plt.axvline(e1_energy, color='k', linestyle='--', label=e1)\n",
    "plt.axvline(e3_energy, color='k', linestyle='--', label=e3)\n",
    "\n",
    "plt.xlabel('Energy')\n",
    "plt.ylabel('Probability Density')  \n",
    "plt.legend(loc='upper right',fontsize=8)\n",
    "plt.title(f'All Assays (N={positive.shape[0]} epitopes)')\n",
    "\n",
    "\n",
    "plt.subplot(1,2,2)\n",
    "\n",
    "for name, energy_values in zip(labels,\n",
    "                               [human_energies_mhc,\n",
    "                                malaria_energies_mhc,\n",
    "                                epitope_energies_elispot,\n",
    "                                epitope_source_energies_elispot_mhc]):\n",
    "    bins = np.linspace(-10, 10, 15)\n",
    "    count, bins_count = np.histogram(energy_values,bins=bins)\n",
    "    pdf = count / sum(count)\n",
    "    \n",
    "#     plt.subplot(1,2,1)\n",
    "    plt.plot(0.5*(bins[:-1]+bins[1:]), pdf ,label=name)\n",
    "# plt.axvline(e1_energy, color='k', linestyle='--', label=e1)\n",
    "plt.axvline(e3_energy, color='k', linestyle='--', label=e3)\n",
    "plt.xlabel('Energy')\n",
    "plt.ylabel('Probability Density')  \n",
    "plt.legend(loc='upper right',fontsize=8)\n",
    "plt.title(f'ELISPOT Only (N={positive_elispot.shape[0]} epitopes)')\n",
    "\n",
    "    \n",
    "# plt.subplot(1,2,2)\n",
    "# likes = [np.array(vec)-F for vec in [human_ll,malaria_ll,epitope_ll, epitope_source_ll]]\n",
    "# # plt.bar(np.arange(4),means, width=.2)\n",
    "# plt.boxplot(likes)\n",
    "# plt.xticks(np.arange(4),labels,rotation=45)\n",
    "# plt.ylabel('Avg Likelihood')\n",
    "\n",
    "plt.savefig('plots/energies_mhc_malaria_epitopes_with_examples.png')\n",
    "\n",
    "\n",
    "\n",
    "\n"
   ]
  },
  {
   "cell_type": "code",
   "execution_count": null,
   "id": "e1cf5b5b",
   "metadata": {},
   "outputs": [],
   "source": []
  },
  {
   "cell_type": "code",
   "execution_count": null,
   "id": "bc857be4",
   "metadata": {},
   "outputs": [],
   "source": [
    "e3_energy\n",
    "e3\n",
    "#  https://www.ncbi.nlm.nih.gov/pmc/articles/PMC7010280/\n",
    "#  https://malariajournal.biomedcentral.com/articles/10.1186/1475-2875-12-185/tables/7"
   ]
  },
  {
   "cell_type": "code",
   "execution_count": null,
   "id": "d5d2fdc0",
   "metadata": {},
   "outputs": [],
   "source": [
    "# plt.figure(figsize=(10,6))\n",
    "\n",
    "# labels = ['Human Proteome',\n",
    "#           'Full Malaria Proteome',\n",
    "#           'Malaria Epitopes',\n",
    "#           'Malaria Epitopes Source Protein']\n",
    "# #           'Malaria Epitopes Source Protein w/o Epitopes']\n",
    "\n",
    "# for name, ll_values in zip(labels,\n",
    "#                                [human_ll,malaria_ll,epitope_ll, epitope_source_ll]):\n",
    "# #     bins = np.linspace(-10, 10, 15)\n",
    "#     count, bins_count = np.histogram(np.log10(np.exp(ll_values)),bins=50)\n",
    "#     pdf = count / sum(count)\n",
    "    \n",
    "# #     plt.subplot(1,2,1)\n",
    "#     plt.plot(0.5*(bins_count[:-1]+bins_count[1:]), pdf ,label=name)\n",
    "#     plt.yscale('log')\n",
    "\n",
    "# plt.xlabel('$log_{10}P(\\sigma)$')\n",
    "# plt.ylabel('Probability Density')  \n",
    "# plt.legend(loc='upper right',fontsize=8)"
   ]
  },
  {
   "cell_type": "code",
   "execution_count": null,
   "id": "382d2762",
   "metadata": {},
   "outputs": [],
   "source": []
  },
  {
   "cell_type": "code",
   "execution_count": null,
   "id": "49046db4",
   "metadata": {},
   "outputs": [],
   "source": []
  },
  {
   "cell_type": "code",
   "execution_count": null,
   "id": "168ecfec",
   "metadata": {},
   "outputs": [],
   "source": [
    "from collections import Counter as cCounter\n",
    "    \n",
    "def get_aa_freq(kmers):\n",
    "    counts = cCounter(\"\".join(kmers))\n",
    "    denominator = len(kmers)*len(kmers[0])\n",
    "    f = {letter: counts[letter]/denominator for letter in counts}\n",
    "    return f\n",
    "    "
   ]
  },
  {
   "cell_type": "code",
   "execution_count": null,
   "id": "cdc4d649",
   "metadata": {},
   "outputs": [],
   "source": [
    "f_malaria = get_aa_freq(malaria_kmers)\n",
    "f_epitopes = get_aa_freq(malaria_epitope_kmers)\n",
    "f_epitopes_elispot = get_aa_freq(malaria_epitope_kmers_elispot)\n",
    "f_epitopes_source = get_aa_freq(malaria_epitope_source_kmers)\n",
    "f_epitopes_elispot_source = get_aa_freq(malaria_epitope_source_kmers_elispot)"
   ]
  },
  {
   "cell_type": "code",
   "execution_count": null,
   "id": "940c233e",
   "metadata": {},
   "outputs": [],
   "source": []
  },
  {
   "cell_type": "code",
   "execution_count": null,
   "id": "494a6b4b",
   "metadata": {},
   "outputs": [],
   "source": [
    "f_human = get_aa_freq(self_kmers)"
   ]
  },
  {
   "cell_type": "code",
   "execution_count": null,
   "id": "b12f51a1",
   "metadata": {},
   "outputs": [],
   "source": []
  },
  {
   "cell_type": "code",
   "execution_count": null,
   "id": "2e268c28",
   "metadata": {},
   "outputs": [],
   "source": [
    "ssr_malaria = sum((f_human[aa] - f_malaria[aa])**2 for aa in f_human)\n",
    "ssr_epitopes = sum((f_human[aa] - f_epitopes[aa])**2 for aa in f_human)\n",
    "ssr_epitopes_elispot = sum((f_human[aa] - f_epitopes_elispot[aa])**2 for aa in f_human)\n",
    "ssr_epitopes_source = sum((f_human[aa] - f_epitopes_source[aa])**2 for aa in f_human)\n",
    "ssr_epitopes_elispot_source = sum((f_human[aa] - f_epitopes_elispot_source[aa])**2 for aa in f_human)"
   ]
  },
  {
   "cell_type": "code",
   "execution_count": null,
   "id": "fe96e75f",
   "metadata": {},
   "outputs": [],
   "source": []
  },
  {
   "cell_type": "code",
   "execution_count": null,
   "id": "6a3e4e4f",
   "metadata": {},
   "outputs": [],
   "source": [
    "ssr_malaria"
   ]
  },
  {
   "cell_type": "code",
   "execution_count": null,
   "id": "94d500af",
   "metadata": {},
   "outputs": [],
   "source": [
    "ssr_epitopes"
   ]
  },
  {
   "cell_type": "code",
   "execution_count": null,
   "id": "0daa9dc4",
   "metadata": {},
   "outputs": [],
   "source": [
    "fontsize=8"
   ]
  },
  {
   "cell_type": "code",
   "execution_count": null,
   "id": "7d554ca0",
   "metadata": {},
   "outputs": [],
   "source": [
    "fig, [ax1,ax2,ax3] = plt.subplots(3,1,figsize=(6,5),sharex=True)\n",
    "x = [f_human[aa] for aa in f_human]\n",
    "y1 = [f_malaria[aa] for aa in f_human]\n",
    "y2 = [f_epitopes[aa] for aa in f_human]\n",
    "y3 = [f_epitopes_source[aa] for aa in f_human]\n",
    "\n",
    "ax1.scatter(x, y1, color='b', s=8,label='Full Malaria Proteome')\n",
    "ax2.scatter(x, y2, color='b', s=8,label='Malaria Epitopes')\n",
    "ax3.scatter(x, y3, color='b', s=8,label='Malaria Epitopes Source Proteins')\n",
    "\n",
    "\n",
    "def random_jiggle(x,y):\n",
    "    r1 = np.random.random() - 0.5\n",
    "    r1 *= .0015\n",
    "    r2 = np.random.random() - 0.5\n",
    "    r2 *= .0015\n",
    "    \n",
    "    return (x+r1,y+r2)\n",
    "\n",
    "for aa in f_human:\n",
    "    ax1.annotate(aa, random_jiggle(f_human[aa],f_malaria[aa]),fontsize=fontsize)\n",
    "    ax2.annotate(aa, random_jiggle(f_human[aa],f_epitopes[aa]),fontsize=fontsize)\n",
    "    ax3.annotate(aa, random_jiggle(f_human[aa],f_epitopes_source[aa]),fontsize=fontsize)\n",
    "\n",
    "ax1.annotate(\"SSR: %.5f\" % ssr_malaria, (.020, .185),fontsize=fontsize)\n",
    "ax2.annotate(\"SSR: %.5f\" % ssr_epitopes, (.020, .185),fontsize=fontsize)\n",
    "ax3.annotate(\"SSR: %.5f\" % ssr_epitopes_source, (.020, .185),fontsize=fontsize)\n",
    "\n",
    "ax1.plot([0,.12],[0,.2], 'k--')\n",
    "ax2.plot([0,.12],[0,.2], 'k--')\n",
    "ax3.plot([0,.15],[0,.2], 'k--')\n",
    "ax3.set_xlim([0,.12])\n",
    "# ax1.set_xlabel('Human Proteome AA Frequency',fontsize=16)\n",
    "# ax2.set_xlabel('Human Proteome AA Frequency',fontsize=16)\n",
    "ax3.set_xlabel('AA Frequency Human Proteome',fontsize=fontsize)\n",
    "\n",
    "ax1.set_ylabel('AA Frequency \\n Malaria Proteome',fontsize=fontsize)\n",
    "ax2.set_ylabel('AA Frequency \\n Malaria Epitopes',fontsize=fontsize)\n",
    "ax3.set_ylabel('AA Frequency \\n Malaria Epitopes \\n Source Proteins',fontsize=fontsize)\n",
    "ax1.set_title(f'All Assays (N={positive.shape[0]} epitopes)',fontsize=fontsize+2)\n",
    "\n",
    "plt.savefig('plots/aa_freq_malaria.png')"
   ]
  },
  {
   "cell_type": "code",
   "execution_count": null,
   "id": "dbeed562",
   "metadata": {},
   "outputs": [],
   "source": [
    "fig, [ax1,ax2,ax3] = plt.subplots(3,1,figsize=(6,5),sharex=True)\n",
    "x = [f_human[aa] for aa in f_human]\n",
    "y1 = [f_malaria[aa] for aa in f_human]\n",
    "y2 = [f_epitopes_elispot[aa] for aa in f_human]\n",
    "y3 = [f_epitopes_elispot_source[aa] for aa in f_human]\n",
    "\n",
    "ax1.scatter(x, y1, color='b', s=8,label='Full Malaria Proteome')\n",
    "ax2.scatter(x, y2, color='b', s=8,label='Malaria Epitopes')\n",
    "ax3.scatter(x, y3, color='b', s=8,label='Malaria Epitopes Source Proteins')\n",
    "\n",
    "\n",
    "def random_jiggle(x,y):\n",
    "    r1 = np.random.random() - 0.5\n",
    "    r1 *= .0015\n",
    "    r2 = np.random.random() - 0.5\n",
    "    r2 *= .0015\n",
    "    \n",
    "    return (x+r1,y+r2)\n",
    "\n",
    "for aa in f_human:\n",
    "    ax1.annotate(aa, random_jiggle(f_human[aa],f_malaria[aa]),fontsize=fontsize)\n",
    "    ax2.annotate(aa, random_jiggle(f_human[aa],f_epitopes_elispot[aa]),fontsize=fontsize)\n",
    "    ax3.annotate(aa, random_jiggle(f_human[aa],f_epitopes_elispot_source[aa]),fontsize=fontsize)\n",
    "\n",
    "ax1.annotate(\"SSR: %.5f\" % ssr_malaria, (.020, .185),fontsize=fontsize)\n",
    "ax2.annotate(\"SSR: %.5f\" % ssr_epitopes_elispot, (.020, .185),fontsize=fontsize)\n",
    "ax3.annotate(\"SSR: %.5f\" % ssr_epitopes_elispot_source, (.020, .185),fontsize=fontsize)\n",
    "\n",
    "ax1.plot([0,.12],[0,.2], 'k--')\n",
    "ax2.plot([0,.12],[0,.2], 'k--')\n",
    "ax3.plot([0,.15],[0,.2], 'k--')\n",
    "ax3.set_xlim([0,.12])\n",
    "# ax1.set_xlabel('Human Proteome AA Frequency',fontsize=16)\n",
    "# ax2.set_xlabel('Human Proteome AA Frequency',fontsize=16)\n",
    "ax3.set_xlabel('AA Frequency Human Proteome',fontsize=fontsize)\n",
    "\n",
    "ax1.set_ylabel('AA Frequency \\n Malaria Proteome',fontsize=fontsize)\n",
    "ax2.set_ylabel('AA Frequency \\n Malaria Epitopes',fontsize=fontsize)\n",
    "ax3.set_ylabel('AA Frequency \\n Malaria Epitopes \\n Source Proteins',fontsize=fontsize)\n",
    "\n",
    "ax1.set_title(f'ELISPOT Only (N={positive_elispot.shape[0]} epitopes)',fontsize=fontsize+2)\n",
    "\n",
    "\n",
    "plt.savefig('plots/aa_freq_elispot_malaria.png')"
   ]
  },
  {
   "cell_type": "code",
   "execution_count": null,
   "id": "c1deafa5",
   "metadata": {},
   "outputs": [],
   "source": []
  },
  {
   "cell_type": "code",
   "execution_count": null,
   "id": "19c206af",
   "metadata": {},
   "outputs": [],
   "source": [
    "def subcategorybar(X, vals, clist, labellist):\n",
    "    width=0.5\n",
    "    n = len(vals)\n",
    "    _X = np.arange(len(X))\n",
    "    for i in range(n):\n",
    "        plt.bar(_X - width/2. + i/float(n)*width, vals[i].values(), \n",
    "                width=width/float(n), align=\"edge\", color=clist[i], label=labellist[i])   \n",
    "    plt.xticks(_X, X)\n",
    "    plt.legend(loc='upper right')\n",
    "\n",
    "aminoacids = 'ACDEFGHIKLMNPQRSTVWY'\n",
    "plt.figure(figsize=(20,7))\n",
    "subcategorybar(list(aminoacids), [f_human, f_malaria, f_epitopes],\n",
    "              ['r', 'orange', 'b'], \n",
    "               ['human proteome', 'malaria proteome', 'malaria epitopes'])\n",
    "plt.ylabel('Frequency')\n",
    "plt.xlabel('Amino Acids')\n",
    "plt.title('Amino Acid Distributions')\n",
    "# plt.savefig('./Figures/peptides/aa_distributions.pdf')\n"
   ]
  },
  {
   "cell_type": "code",
   "execution_count": 29,
   "id": "0ac4a402",
   "metadata": {},
   "outputs": [],
   "source": [
    "reference = selfset\n",
    "def mat_to_dist(A, size=100000):\n",
    "    if A.shape[0] > size:\n",
    "        sample = matrix_to_kmers(A[np.random.choice(A.shape[0], size=size, replace=False), :])\n",
    "    else:\n",
    "        sample = matrix_to_kmers(A)\n",
    "    ns = nndist_hamming_distribution(sample, reference)\n",
    "    return ns"
   ]
  },
  {
   "cell_type": "code",
   "execution_count": null,
   "id": "e105fe3c",
   "metadata": {},
   "outputs": [],
   "source": [
    "print(\"--\")\n",
    "malaria_ns = mat_to_dist(kmers_to_matrix(malaria_kmers))\n",
    "print(\"--\")\n",
    "epitope_ns = mat_to_dist(kmers_to_matrix(malaria_epitope_kmers))\n",
    "print(\"--\")\n",
    "epitope_source_ns = mat_to_dist(kmers_to_matrix(malaria_epitope_source_kmers))\n",
    "print(\"--\")\n",
    "\n",
    "epitope_ns_elispot = mat_to_dist(kmers_to_matrix(malaria_epitope_kmers_elispot))\n",
    "print(\"--\")\n",
    "epitope_source_ns_elispot = mat_to_dist(kmers_to_matrix(malaria_epitope_source_kmers_elispot))"
   ]
  },
  {
   "cell_type": "code",
   "execution_count": null,
   "id": "f4df6b1e",
   "metadata": {},
   "outputs": [],
   "source": [
    "random_ns = mat_to_dist(np.random.choice(np.arange(0, 20, 1), size=(100000,9)))"
   ]
  },
  {
   "cell_type": "code",
   "execution_count": null,
   "id": "2b27d17c",
   "metadata": {},
   "outputs": [],
   "source": [
    "np.random.choice(np.arange(0, 20, 1), size=(2,9))\n"
   ]
  },
  {
   "cell_type": "code",
   "execution_count": 30,
   "id": "c706a8cb",
   "metadata": {},
   "outputs": [
    {
     "name": "stdout",
     "output_type": "stream",
     "text": [
      "--\n"
     ]
    }
   ],
   "source": [
    "epitope_ns_elispot_negative = mat_to_dist(kmers_to_matrix(malaria_negative_epitope_kmers_elispot))\n",
    "\n",
    "print(\"--\")\n",
    "epitope_ns_negative = mat_to_dist(kmers_to_matrix(malaria_negative_epitope_kmers))"
   ]
  },
  {
   "cell_type": "code",
   "execution_count": 32,
   "id": "3481aa79",
   "metadata": {},
   "outputs": [],
   "source": [
    "save_data = {\n",
    "    'malaria': serialize_int_arr(malaria_ns),\n",
    "    'epitopes': serialize_int_arr(epitope_ns),\n",
    "    'epitope_source': serialize_int_arr(epitope_source_ns),\n",
    "    'epitope_elispot': serialize_int_arr(epitope_ns_elispot),\n",
    "    'epitope_source_elispot': serialize_int_arr(epitope_source_ns_elispot),\n",
    "    'null': serialize_int_arr(random_ns),\n",
    "    'epitope_negative': serialize_int_arr(epitope_ns_negative),\n",
    "    'epitope_negative_elispot': serialize_int_arr(epitope_ns_elispot_negative),\n",
    "    \n",
    "}\n",
    "\n",
    "with open('./data/malaria_distance_to_self.json','w') as f:\n",
    "    json.dump(save_data, f)"
   ]
  },
  {
   "cell_type": "code",
   "execution_count": 2,
   "id": "863f5ab1",
   "metadata": {},
   "outputs": [],
   "source": [
    "with open('./data/malaria_distance_to_self.json','r') as f:\n",
    "    distances_data = json.load(f)"
   ]
  },
  {
   "cell_type": "code",
   "execution_count": 3,
   "id": "2206bc8f",
   "metadata": {},
   "outputs": [
    {
     "data": {
      "text/plain": [
       "{'malaria': [325, 2236, 37932, 59507],\n",
       " 'epitopes': [0, 3, 28, 28],\n",
       " 'epitope_source': [0, 129, 2100, 1831],\n",
       " 'epitope_elispot': [0, 1, 21, 20],\n",
       " 'epitope_source_elispot': [0, 127, 2011, 1785],\n",
       " 'null': [1, 365, 18931, 80703],\n",
       " 'epitope_negative': [0, 4, 16, 36],\n",
       " 'epitope_negative_elispot': [0, 2, 12, 22]}"
      ]
     },
     "execution_count": 3,
     "metadata": {},
     "output_type": "execute_result"
    }
   ],
   "source": [
    "distances_data"
   ]
  },
  {
   "cell_type": "code",
   "execution_count": 75,
   "id": "126bf2a3",
   "metadata": {},
   "outputs": [
    {
     "data": {
      "text/plain": [
       "array([1.0000e-05, 3.6500e-03, 1.8931e-01, 8.0703e-01])"
      ]
     },
     "execution_count": 75,
     "metadata": {},
     "output_type": "execute_result"
    }
   ],
   "source": [
    "d_v = np.array(distances_data['null'])\n",
    "d_v = d_v/sum(d_v)\n",
    "d_v\n"
   ]
  },
  {
   "cell_type": "code",
   "execution_count": 4,
   "id": "c9d402c2",
   "metadata": {},
   "outputs": [],
   "source": [
    "malaria_ns = distances_data['malaria']\n",
    "epitope_ns = distances_data['epitopes']\n",
    "epitope_source_ns = distances_data['epitope_source']\n",
    "epitope_ns_elispot = distances_data['epitope_elispot']\n",
    "\n",
    "epitope_source_ns_elispot = distances_data['epitope_source_elispot']\n",
    "random_ns = distances_data['null']\n",
    "\n",
    "epitope_ns_negative = distances_data['epitope_negative']\n",
    "epitope_ns_negative_elispot = distances_data['epitope_negative_elispot']"
   ]
  },
  {
   "cell_type": "code",
   "execution_count": 5,
   "id": "8fa82a2e",
   "metadata": {},
   "outputs": [
    {
     "data": {
      "text/plain": [
       "Text(0.5, 0, 'Distance to nearest self peptide')"
      ]
     },
     "execution_count": 5,
     "metadata": {},
     "output_type": "execute_result"
    },
    {
     "data": {
      "image/png": "[encoded data removed]",
      "text/plain": [
       "<Figure size 800x400 with 2 Axes>"
      ]
     },
     "metadata": {},
     "output_type": "display_data"
    }
   ],
   "source": [
    "fig, [ax1,ax2] = plt.subplots(figsize=(8, 4), ncols=2, sharey=True)\n",
    "\n",
    "labels = [\n",
    "          'Full Malaria Proteome',\n",
    "          'Malaria Epitopes',\n",
    "          'Malaria Epitopes Source Protein',\n",
    "          'Null']\n",
    "for name, _ns in zip(labels,[malaria_ns, epitope_ns, epitope_source_ns, random_ns]):\n",
    "    ns = np.array(_ns)\n",
    "    ps = ns/sum(ns)\n",
    "    \n",
    "    ax1.plot(range(4), ps, '-o', label=name)\n",
    "\n",
    "for name, _ns in zip(labels,[malaria_ns, epitope_ns_elispot, epitope_source_ns_elispot,random_ns]):\n",
    "    ns = np.array(_ns)\n",
    "    ps = ns/sum(ns)\n",
    "    \n",
    "    ax2.plot(range(4), ps, '-o', label=name)\n",
    "    \n",
    "# ax1.set_yscale('log')\n",
    "ax1.set_title('All Assays')\n",
    "ax2.set_title('ELISPOT')\n",
    "ax2.legend(loc='upper left',bbox_to_anchor=(1.5,.2))\n",
    "ax1.set_ylabel('Fraction of Non-Self')\n",
    "ax1.set_xlabel('Distance to nearest self peptide')\n",
    "ax2.set_xlabel('Distance to nearest self peptide')\n",
    "\n",
    "# ax1.set_ylim(10e-10, 1.1)\n",
    "# ax1.set_yticks(10**np.arange(-3.0, 1.0, 1.0))\n",
    "# ax2.set_ylim(10e-5, 1.1)\n",
    "# ax2.set_yticks(10**np.arange(-3.0, 1.0, 1.0))"
   ]
  },
  {
   "cell_type": "code",
   "execution_count": null,
   "id": "222eba87",
   "metadata": {},
   "outputs": [],
   "source": [
    "ps"
   ]
  },
  {
   "cell_type": "code",
   "execution_count": null,
   "id": "5d585c4b",
   "metadata": {},
   "outputs": [],
   "source": [
    "epitope_source_ns"
   ]
  },
  {
   "cell_type": "code",
   "execution_count": null,
   "id": "1129bd43",
   "metadata": {},
   "outputs": [],
   "source": [
    "import pyrepseq as prs"
   ]
  },
  {
   "cell_type": "code",
   "execution_count": null,
   "id": "2234e5c9",
   "metadata": {},
   "outputs": [],
   "source": [
    "prs.nndist_hamming(e1, selfset, maxdist=4)"
   ]
  },
  {
   "cell_type": "code",
   "execution_count": null,
   "id": "ad0a386b",
   "metadata": {},
   "outputs": [],
   "source": [
    "prs.nndist_hamming(e2, selfset, maxdist=4)"
   ]
  },
  {
   "cell_type": "code",
   "execution_count": null,
   "id": "78cf5482",
   "metadata": {},
   "outputs": [],
   "source": [
    "prs.nndist_hamming(e3, selfset, maxdist=4)"
   ]
  },
  {
   "cell_type": "code",
   "execution_count": null,
   "id": "414e6af7",
   "metadata": {},
   "outputs": [],
   "source": [
    "prs.nndist_hamming(e4, selfset, maxdist=4)"
   ]
  },
  {
   "cell_type": "code",
   "execution_count": null,
   "id": "4be7cb7d",
   "metadata": {},
   "outputs": [],
   "source": [
    "d1"
   ]
  },
  {
   "cell_type": "code",
   "execution_count": null,
   "id": "84bda50f",
   "metadata": {},
   "outputs": [],
   "source": [
    "# distance one\n",
    "d1 = {}\n",
    "d2 = {}\n",
    "d3 = {}\n",
    "\n",
    "labels = [\n",
    "          'Malaria Peptidome',\n",
    "          'Malaria Epitopes',\n",
    "          'Null Model']\n",
    "for name, _ns in zip(labels,[malaria_ns, epitope_ns,random_ns]):\n",
    "    ns = np.array(_ns)\n",
    "    ps = ns/sum(ns)\n",
    "    d1[name] = ps[1]\n",
    "    d2[name] = ps[2]\n",
    "    d3[name] = ps[3]"
   ]
  },
  {
   "cell_type": "code",
   "execution_count": 84,
   "id": "48a4d50a",
   "metadata": {},
   "outputs": [],
   "source": [
    "rows = []\n",
    "labels = ['Malaria Peptidome', 'Malaria Epitopes (-)', 'Malaria Epitopes (+)']\n",
    "for name, _ns in zip(labels,[malaria_ns, epitope_ns_negative_elispot, epitope_ns_elispot]):\n",
    "    ns = np.array(_ns)\n",
    "    ps = ns/sum(ns)\n",
    "    for i in range(4):\n",
    "        rows.append({\n",
    "            'distance_bin': i,\n",
    "            'source': name,\n",
    "            'value': ps[i]\n",
    "    })\n",
    "\n",
    "distances_df = pd.DataFrame(columns=['distance_bin','source','value'],data=rows)"
   ]
  },
  {
   "cell_type": "code",
   "execution_count": 85,
   "id": "1634a045",
   "metadata": {},
   "outputs": [],
   "source": [
    "distances_df['distance'] = distances_df['distance_bin'].apply(lambda x: f\"{x}\" if x < 3 else f\"{x}+\")"
   ]
  },
  {
   "cell_type": "code",
   "execution_count": 86,
   "id": "148ecca9",
   "metadata": {},
   "outputs": [
    {
     "data": {
      "text/html": [
       "<div>\n",
       "<style scoped>\n",
       "    .dataframe tbody tr th:only-of-type {\n",
       "        vertical-align: middle;\n",
       "    }\n",
       "\n",
       "    .dataframe tbody tr th {\n",
       "        vertical-align: top;\n",
       "    }\n",
       "\n",
       "    .dataframe thead th {\n",
       "        text-align: right;\n",
       "    }\n",
       "</style>\n",
       "<table border=\"1\" class=\"dataframe\">\n",
       "  <thead>\n",
       "    <tr style=\"text-align: right;\">\n",
       "      <th></th>\n",
       "      <th>distance_bin</th>\n",
       "      <th>source</th>\n",
       "      <th>value</th>\n",
       "      <th>distance</th>\n",
       "    </tr>\n",
       "  </thead>\n",
       "  <tbody>\n",
       "    <tr>\n",
       "      <th>0</th>\n",
       "      <td>0</td>\n",
       "      <td>Malaria Peptidome</td>\n",
       "      <td>0.003250</td>\n",
       "      <td>0</td>\n",
       "    </tr>\n",
       "    <tr>\n",
       "      <th>1</th>\n",
       "      <td>1</td>\n",
       "      <td>Malaria Peptidome</td>\n",
       "      <td>0.022360</td>\n",
       "      <td>1</td>\n",
       "    </tr>\n",
       "    <tr>\n",
       "      <th>2</th>\n",
       "      <td>2</td>\n",
       "      <td>Malaria Peptidome</td>\n",
       "      <td>0.379320</td>\n",
       "      <td>2</td>\n",
       "    </tr>\n",
       "    <tr>\n",
       "      <th>3</th>\n",
       "      <td>3</td>\n",
       "      <td>Malaria Peptidome</td>\n",
       "      <td>0.595070</td>\n",
       "      <td>3+</td>\n",
       "    </tr>\n",
       "    <tr>\n",
       "      <th>4</th>\n",
       "      <td>0</td>\n",
       "      <td>Malaria Epitopes (-)</td>\n",
       "      <td>0.000000</td>\n",
       "      <td>0</td>\n",
       "    </tr>\n",
       "    <tr>\n",
       "      <th>5</th>\n",
       "      <td>1</td>\n",
       "      <td>Malaria Epitopes (-)</td>\n",
       "      <td>0.055556</td>\n",
       "      <td>1</td>\n",
       "    </tr>\n",
       "    <tr>\n",
       "      <th>6</th>\n",
       "      <td>2</td>\n",
       "      <td>Malaria Epitopes (-)</td>\n",
       "      <td>0.333333</td>\n",
       "      <td>2</td>\n",
       "    </tr>\n",
       "    <tr>\n",
       "      <th>7</th>\n",
       "      <td>3</td>\n",
       "      <td>Malaria Epitopes (-)</td>\n",
       "      <td>0.611111</td>\n",
       "      <td>3+</td>\n",
       "    </tr>\n",
       "    <tr>\n",
       "      <th>8</th>\n",
       "      <td>0</td>\n",
       "      <td>Malaria Epitopes (+)</td>\n",
       "      <td>0.000000</td>\n",
       "      <td>0</td>\n",
       "    </tr>\n",
       "    <tr>\n",
       "      <th>9</th>\n",
       "      <td>1</td>\n",
       "      <td>Malaria Epitopes (+)</td>\n",
       "      <td>0.023810</td>\n",
       "      <td>1</td>\n",
       "    </tr>\n",
       "    <tr>\n",
       "      <th>10</th>\n",
       "      <td>2</td>\n",
       "      <td>Malaria Epitopes (+)</td>\n",
       "      <td>0.500000</td>\n",
       "      <td>2</td>\n",
       "    </tr>\n",
       "    <tr>\n",
       "      <th>11</th>\n",
       "      <td>3</td>\n",
       "      <td>Malaria Epitopes (+)</td>\n",
       "      <td>0.476190</td>\n",
       "      <td>3+</td>\n",
       "    </tr>\n",
       "  </tbody>\n",
       "</table>\n",
       "</div>"
      ],
      "text/plain": [
       "    distance_bin                source     value distance\n",
       "0              0     Malaria Peptidome  0.003250        0\n",
       "1              1     Malaria Peptidome  0.022360        1\n",
       "2              2     Malaria Peptidome  0.379320        2\n",
       "3              3     Malaria Peptidome  0.595070       3+\n",
       "4              0  Malaria Epitopes (-)  0.000000        0\n",
       "5              1  Malaria Epitopes (-)  0.055556        1\n",
       "6              2  Malaria Epitopes (-)  0.333333        2\n",
       "7              3  Malaria Epitopes (-)  0.611111       3+\n",
       "8              0  Malaria Epitopes (+)  0.000000        0\n",
       "9              1  Malaria Epitopes (+)  0.023810        1\n",
       "10             2  Malaria Epitopes (+)  0.500000        2\n",
       "11             3  Malaria Epitopes (+)  0.476190       3+"
      ]
     },
     "execution_count": 86,
     "metadata": {},
     "output_type": "execute_result"
    }
   ],
   "source": [
    "distances_df"
   ]
  },
  {
   "cell_type": "code",
   "execution_count": 88,
   "id": "cca195e2",
   "metadata": {},
   "outputs": [
    {
     "data": {
      "image/png": "[encoded data removed]",
      "text/plain": [
       "<Figure size 640x480 with 1 Axes>"
      ]
     },
     "metadata": {},
     "output_type": "display_data"
    }
   ],
   "source": [
    "import seaborn as sns\n",
    "ax = sns.barplot(distances_df, x='distance', y='value', hue='source')\n",
    "ax.set_xlabel('Distance from nearest self-peptide')\n",
    "ax.set_ylabel('Fraction')\n",
    "ax.legend_.set_title('')"
   ]
  },
  {
   "cell_type": "code",
   "execution_count": 90,
   "id": "b607220c",
   "metadata": {},
   "outputs": [],
   "source": [
    "distances_df.to_csv('../../figures/New Paper Figures/Figure Data/malaria_distances.csv')"
   ]
  },
  {
   "cell_type": "code",
   "execution_count": 9,
   "id": "9bc8e8ff",
   "metadata": {},
   "outputs": [],
   "source": [
    "rows = []\n",
    "labels = ['Malaria Peptidome', 'Malaria Epitopes (-)', 'Malaria Epitopes (+)']\n",
    "for name, _ns in zip(labels,[malaria_ns, epitope_ns_negative, epitope_ns]):\n",
    "    ns = np.array(_ns)\n",
    "    ps = ns/sum(ns)\n",
    "    for i in range(4):\n",
    "        rows.append({\n",
    "            'distance_bin': i,\n",
    "            'source': name,\n",
    "            'value': ps[i]\n",
    "    })\n",
    "\n",
    "distances_df_all_assays = pd.DataFrame(columns=['distance_bin','source','value'],data=rows)\n",
    "distances_df_all_assays['distance'] = distances_df_all_assays['distance_bin'].apply(lambda x: f\"{x}\" if x < 3 else f\"{x}+\")"
   ]
  },
  {
   "cell_type": "code",
   "execution_count": 10,
   "id": "1d3a7b73",
   "metadata": {},
   "outputs": [],
   "source": [
    "distances_df_all_assays.to_csv('../../figures/New Paper Figures/Figure Data/malaria_distances_all_assays.csv')"
   ]
  },
  {
   "cell_type": "code",
   "execution_count": null,
   "id": "8d0c3d18",
   "metadata": {},
   "outputs": [],
   "source": []
  },
  {
   "cell_type": "code",
   "execution_count": null,
   "id": "071dd59e",
   "metadata": {},
   "outputs": [],
   "source": [
    "plt.figure(figsize=(10,10))\n",
    "plt.bar(d2.keys(),d2.values(),color='blue')\n",
    "plt.xticks(fontsize=18)\n",
    "plt.ylabel('Fraction at dist=2',fontsize=18)"
   ]
  },
  {
   "cell_type": "code",
   "execution_count": null,
   "id": "625f5882",
   "metadata": {},
   "outputs": [],
   "source": [
    "plt.figure(figsize=(10,10))\n",
    "labels = ['Human Peptidome',\n",
    "          'Malaria Peptidome',\n",
    "          'Malaria Epitopes',\n",
    "         ]\n",
    "for name, energy_values in zip(labels,\n",
    "                               [human_energies,\n",
    "                                malaria_energies,\n",
    "                                epitope_energies\n",
    "                               ]):\n",
    "    bins = np.linspace(-10, 10, 15)\n",
    "    count, bins_count = np.histogram(energy_values,bins=bins)\n",
    "    pdf = count / sum(count)\n",
    "    \n",
    "#     plt.subplot(1,2,1)\n",
    "    if name.startswith('Human'):\n",
    "        plt.plot(0.5*(bins[:-1]+bins[1:]), pdf ,'k--',label=name)\n",
    "    else:\n",
    "        plt.plot(0.5*(bins[:-1]+bins[1:]), pdf ,label=name)\n",
    "\n",
    "# plt.axvline(e1_energy, color='k', linestyle='--', label=e1)\n",
    "# plt.axvline(e3_energy, color='r', linestyle='--', label=e3)\n",
    "\n",
    "plt.xlabel('Energy from Human Model',fontsize=14)\n",
    "plt.ylabel('Probability Density',fontsize=14)\n",
    "plt.legend(loc='upper right',fontsize=14)\n",
    "# "
   ]
  },
  {
   "cell_type": "code",
   "execution_count": null,
   "id": "631fbc63",
   "metadata": {},
   "outputs": [],
   "source": [
    "e1 = 'SFLFVEALF'\n",
    "e2 = 'FVEALFQEY'\n",
    "e3 = 'LAILSVSSF'\n",
    "e4 = 'YLNKIQNSL'"
   ]
  },
  {
   "cell_type": "code",
   "execution_count": null,
   "id": "765ed498",
   "metadata": {},
   "outputs": [],
   "source": []
  },
  {
   "cell_type": "code",
   "execution_count": null,
   "id": "73fb48ac",
   "metadata": {},
   "outputs": [],
   "source": [
    "distance_one = []\n",
    "for kmer in malaria_epitope_kmers:\n",
    "    d = prs.nndist_hamming(kmer, selfset, maxdist=4)\n",
    "    if d<2:\n",
    "        print(kmer)\n",
    "        distance_one.append(kmer)"
   ]
  },
  {
   "cell_type": "code",
   "execution_count": null,
   "id": "e0776bab",
   "metadata": {},
   "outputs": [],
   "source": [
    "for pep in distance_one:\n",
    "    one_away = prs.levenshtein_neighbors(pep)\n",
    "    for neighbor in one_away:\n",
    "        if neighbor in selfset:\n",
    "            print(f\"Found: {neighbor}\")"
   ]
  },
  {
   "cell_type": "code",
   "execution_count": null,
   "id": "60414a49",
   "metadata": {},
   "outputs": [],
   "source": []
  },
  {
   "cell_type": "code",
   "execution_count": null,
   "id": "598e1d7b",
   "metadata": {},
   "outputs": [],
   "source": []
  },
  {
   "cell_type": "code",
   "execution_count": null,
   "id": "591fc515",
   "metadata": {},
   "outputs": [],
   "source": [
    "d1_matrix = kmers_to_matrix(distance_one)\n",
    "\n",
    "for i in range(len(distance_one)):\n",
    "    print(energy(d1_matrix[i,:]))\n",
    "\n"
   ]
  },
  {
   "cell_type": "code",
   "execution_count": null,
   "id": "ce817399",
   "metadata": {},
   "outputs": [],
   "source": [
    "plt.figure(figsize=(10,10))\n",
    "labels = ['Human Peptidome',\n",
    "          'Malaria Peptidome',\n",
    "          'Malaria Epitopes',\n",
    "         ]\n",
    "for name, energy_values in zip(labels,\n",
    "                               [human_energies,\n",
    "                                malaria_energies,\n",
    "                                epitope_energies\n",
    "                               ]):\n",
    "    bins = np.linspace(-10, 10, 15)\n",
    "    count, bins_count = np.histogram(energy_values,bins=bins)\n",
    "    pdf = count / sum(count)\n",
    "    \n",
    "#     plt.subplot(1,2,1)\n",
    "    if name.startswith('Human'):\n",
    "        plt.plot(0.5*(bins[:-1]+bins[1:]), pdf ,'k--',label=name)\n",
    "    else:\n",
    "        plt.plot(0.5*(bins[:-1]+bins[1:]), pdf ,label=name)\n",
    "\n",
    "colors = ['red','brown','magenta']\n",
    "for i in range(len(distance_one)):\n",
    "    plt.axvline(energy(d1_matrix[i,:]), color=colors[i],linestyle='--', label=distance_one[i])\n",
    "# plt.axvline(e3_energy, color='r', linestyle='--', label=e3)\n",
    "\n",
    "plt.xlabel('Energy from Human Model',fontsize=14)\n",
    "plt.ylabel('Probability Density',fontsize=14)\n",
    "plt.legend(loc='upper right',fontsize=14)\n",
    "# "
   ]
  },
  {
   "cell_type": "code",
   "execution_count": null,
   "id": "ed2ab60d",
   "metadata": {},
   "outputs": [],
   "source": []
  },
  {
   "cell_type": "code",
   "execution_count": null,
   "id": "fd69d3cd",
   "metadata": {},
   "outputs": [],
   "source": []
  },
  {
   "cell_type": "code",
   "execution_count": null,
   "id": "0d75fd13",
   "metadata": {},
   "outputs": [],
   "source": [
    "positive[positive['Epitope','Description']=='VLAGLLGNV'][(('MHC', 'Allele Name'))]"
   ]
  },
  {
   "cell_type": "code",
   "execution_count": null,
   "id": "d57a0de9",
   "metadata": {},
   "outputs": [],
   "source": [
    "positive[positive['Epitope','Description']=='LAILSVSSF'][(('MHC', 'Allele Name'))]"
   ]
  },
  {
   "cell_type": "code",
   "execution_count": null,
   "id": "5beb9a54",
   "metadata": {},
   "outputs": [],
   "source": [
    "positive[positive['Epitope','Description']=='GIAGGLALL'][(('MHC', 'Allele Name'))]"
   ]
  },
  {
   "cell_type": "code",
   "execution_count": null,
   "id": "7961bbd2",
   "metadata": {},
   "outputs": [],
   "source": [
    "d1.values()"
   ]
  },
  {
   "cell_type": "code",
   "execution_count": null,
   "id": "55e7acc3",
   "metadata": {},
   "outputs": [],
   "source": [
    "0.05084745762711865/0.02236"
   ]
  },
  {
   "cell_type": "code",
   "execution_count": null,
   "id": "22538d02",
   "metadata": {},
   "outputs": [],
   "source": [
    "sys.path.append('/data/lareauc/levinej/pep/CFIT')"
   ]
  },
  {
   "cell_type": "code",
   "execution_count": null,
   "id": "da0a8f99",
   "metadata": {},
   "outputs": [],
   "source": [
    "from cfit.fitness.neo_quality.EpitopeDistance import EpitopeDistance"
   ]
  },
  {
   "cell_type": "code",
   "execution_count": null,
   "id": "131f6542",
   "metadata": {},
   "outputs": [],
   "source": [
    "epidist = EpitopeDistance(model_name='all_tcr_all_combos_model')"
   ]
  },
  {
   "cell_type": "code",
   "execution_count": null,
   "id": "4c5af556",
   "metadata": {},
   "outputs": [],
   "source": [
    "def dist(epiA,epiB):\n",
    "    return sum(\n",
    "    [epidist.d_i[i] * epidist.M_ab[epidist.amino_acid_dict[epiA[i]], epidist.amino_acid_dict[epiB[i]]] for i in range(9)])"
   ]
  },
  {
   "cell_type": "code",
   "execution_count": null,
   "id": "11cf2ad7",
   "metadata": {},
   "outputs": [],
   "source": [
    "dist('GAAGGLALL', 'GIAGGLALL')"
   ]
  },
  {
   "cell_type": "code",
   "execution_count": null,
   "id": "2445adc3",
   "metadata": {},
   "outputs": [],
   "source": []
  },
  {
   "cell_type": "code",
   "execution_count": null,
   "id": "90d09a46",
   "metadata": {},
   "outputs": [],
   "source": [
    "dist('VLAGLLGMV', 'VLAGLLGNV')"
   ]
  },
  {
   "cell_type": "code",
   "execution_count": null,
   "id": "a6061b19",
   "metadata": {},
   "outputs": [],
   "source": [
    "dist('LGILSVSSF', 'LAILSVSSF')"
   ]
  },
  {
   "cell_type": "code",
   "execution_count": 70,
   "id": "e5f8d4de",
   "metadata": {},
   "outputs": [
    {
     "data": {
      "text/plain": [
       "array([ 0,  2, 12, 22])"
      ]
     },
     "execution_count": 70,
     "metadata": {},
     "output_type": "execute_result"
    }
   ],
   "source": [
    "epitope_ns_elispot_negative"
   ]
  },
  {
   "cell_type": "code",
   "execution_count": 71,
   "id": "83251119",
   "metadata": {},
   "outputs": [
    {
     "data": {
      "text/plain": [
       "array([ 0,  4, 16, 36])"
      ]
     },
     "execution_count": 71,
     "metadata": {},
     "output_type": "execute_result"
    }
   ],
   "source": [
    "epitope_ns_negative"
   ]
  },
  {
   "cell_type": "code",
   "execution_count": 11,
   "id": "188f0ece",
   "metadata": {},
   "outputs": [],
   "source": [
    "malaria_abundance_df = pd.read_table('data/malaria/5833-WHOLE_ORGANISM-integrated.txt',skiprows=11)"
   ]
  },
  {
   "cell_type": "code",
   "execution_count": 12,
   "id": "297fbabf",
   "metadata": {},
   "outputs": [
    {
     "data": {
      "text/html": [
       "<div>\n",
       "<style scoped>\n",
       "    .dataframe tbody tr th:only-of-type {\n",
       "        vertical-align: middle;\n",
       "    }\n",
       "\n",
       "    .dataframe tbody tr th {\n",
       "        vertical-align: top;\n",
       "    }\n",
       "\n",
       "    .dataframe thead th {\n",
       "        text-align: right;\n",
       "    }\n",
       "</style>\n",
       "<table border=\"1\" class=\"dataframe\">\n",
       "  <thead>\n",
       "    <tr style=\"text-align: right;\">\n",
       "      <th></th>\n",
       "      <th>#string_external_id</th>\n",
       "      <th>abundance</th>\n",
       "    </tr>\n",
       "  </thead>\n",
       "  <tbody>\n",
       "    <tr>\n",
       "      <th>0</th>\n",
       "      <td>5833.PFB0100c</td>\n",
       "      <td>26493.000</td>\n",
       "    </tr>\n",
       "    <tr>\n",
       "      <th>1</th>\n",
       "      <td>5833.PFE0065w</td>\n",
       "      <td>18536.000</td>\n",
       "    </tr>\n",
       "    <tr>\n",
       "      <th>2</th>\n",
       "      <td>5833.PFC0210c</td>\n",
       "      <td>16733.000</td>\n",
       "    </tr>\n",
       "    <tr>\n",
       "      <th>3</th>\n",
       "      <td>5833.PF11_0061</td>\n",
       "      <td>16552.000</td>\n",
       "    </tr>\n",
       "    <tr>\n",
       "      <th>4</th>\n",
       "      <td>5833.PF11_0062</td>\n",
       "      <td>11837.000</td>\n",
       "    </tr>\n",
       "    <tr>\n",
       "      <th>...</th>\n",
       "      <td>...</td>\n",
       "      <td>...</td>\n",
       "    </tr>\n",
       "    <tr>\n",
       "      <th>5079</th>\n",
       "      <td>5833.MAL7P1.20</td>\n",
       "      <td>0.043</td>\n",
       "    </tr>\n",
       "    <tr>\n",
       "      <th>5080</th>\n",
       "      <td>5833.PF14_0767</td>\n",
       "      <td>0.027</td>\n",
       "    </tr>\n",
       "    <tr>\n",
       "      <th>5081</th>\n",
       "      <td>5833.PFL2620w</td>\n",
       "      <td>0.006</td>\n",
       "    </tr>\n",
       "    <tr>\n",
       "      <th>5082</th>\n",
       "      <td>5833.PF11_0516</td>\n",
       "      <td>0.006</td>\n",
       "    </tr>\n",
       "    <tr>\n",
       "      <th>5083</th>\n",
       "      <td>5833.MAL8P1.217</td>\n",
       "      <td>0.005</td>\n",
       "    </tr>\n",
       "  </tbody>\n",
       "</table>\n",
       "<p>5084 rows × 2 columns</p>\n",
       "</div>"
      ],
      "text/plain": [
       "     #string_external_id  abundance\n",
       "0          5833.PFB0100c  26493.000\n",
       "1          5833.PFE0065w  18536.000\n",
       "2          5833.PFC0210c  16733.000\n",
       "3         5833.PF11_0061  16552.000\n",
       "4         5833.PF11_0062  11837.000\n",
       "...                  ...        ...\n",
       "5079      5833.MAL7P1.20      0.043\n",
       "5080      5833.PF14_0767      0.027\n",
       "5081       5833.PFL2620w      0.006\n",
       "5082      5833.PF11_0516      0.006\n",
       "5083     5833.MAL8P1.217      0.005\n",
       "\n",
       "[5084 rows x 2 columns]"
      ]
     },
     "execution_count": 12,
     "metadata": {},
     "output_type": "execute_result"
    }
   ],
   "source": [
    "malaria_abundance_df"
   ]
  },
  {
   "cell_type": "code",
   "execution_count": 13,
   "id": "e9f76652",
   "metadata": {},
   "outputs": [],
   "source": [
    "malaria_abundance_df['pax_id'] = malaria_abundance_df['#string_external_id'].apply(lambda s: s.removeprefix('5833.'))"
   ]
  },
  {
   "cell_type": "code",
   "execution_count": 14,
   "id": "fa23da85",
   "metadata": {},
   "outputs": [],
   "source": [
    "mapping_df = pd.read_table('data/malaria/mapping.txt',names=['pax_id','uni_id'])"
   ]
  },
  {
   "cell_type": "code",
   "execution_count": 15,
   "id": "154caf04",
   "metadata": {},
   "outputs": [
    {
     "data": {
      "text/html": [
       "<div>\n",
       "<style scoped>\n",
       "    .dataframe tbody tr th:only-of-type {\n",
       "        vertical-align: middle;\n",
       "    }\n",
       "\n",
       "    .dataframe tbody tr th {\n",
       "        vertical-align: top;\n",
       "    }\n",
       "\n",
       "    .dataframe thead th {\n",
       "        text-align: right;\n",
       "    }\n",
       "</style>\n",
       "<table border=\"1\" class=\"dataframe\">\n",
       "  <thead>\n",
       "    <tr style=\"text-align: right;\">\n",
       "      <th></th>\n",
       "      <th>pax_id</th>\n",
       "      <th>uni_id</th>\n",
       "    </tr>\n",
       "  </thead>\n",
       "  <tbody>\n",
       "    <tr>\n",
       "      <th>0</th>\n",
       "      <td>MAL13P1.100</td>\n",
       "      <td>C0H5C4_PLAF7</td>\n",
       "    </tr>\n",
       "    <tr>\n",
       "      <th>1</th>\n",
       "      <td>MAL13P1.102</td>\n",
       "      <td>Q8IEC9_PLAF7</td>\n",
       "    </tr>\n",
       "    <tr>\n",
       "      <th>2</th>\n",
       "      <td>MAL13P1.103</td>\n",
       "      <td>A0A5K1K826_PLAF7</td>\n",
       "    </tr>\n",
       "    <tr>\n",
       "      <th>3</th>\n",
       "      <td>MAL13P1.105</td>\n",
       "      <td>Q8IEB9_PLAF7</td>\n",
       "    </tr>\n",
       "    <tr>\n",
       "      <th>4</th>\n",
       "      <td>MAL13P1.106</td>\n",
       "      <td>Q8IEB8_PLAF7</td>\n",
       "    </tr>\n",
       "    <tr>\n",
       "      <th>...</th>\n",
       "      <td>...</td>\n",
       "      <td>...</td>\n",
       "    </tr>\n",
       "    <tr>\n",
       "      <th>5210</th>\n",
       "      <td>PFL2640c</td>\n",
       "      <td>Q8I4P0_PLAF7</td>\n",
       "    </tr>\n",
       "    <tr>\n",
       "      <th>5211</th>\n",
       "      <td>PFL2645c</td>\n",
       "      <td>Q8I4N9_PLAF7</td>\n",
       "    </tr>\n",
       "    <tr>\n",
       "      <th>5212</th>\n",
       "      <td>PFL2655w</td>\n",
       "      <td>Q8I4N7_PLAF7</td>\n",
       "    </tr>\n",
       "    <tr>\n",
       "      <th>5213</th>\n",
       "      <td>PFL2660w</td>\n",
       "      <td>Q8I4N6_PLAF7</td>\n",
       "    </tr>\n",
       "    <tr>\n",
       "      <th>5214</th>\n",
       "      <td>PFL2665c</td>\n",
       "      <td>Q8I4N5_PLAF7</td>\n",
       "    </tr>\n",
       "  </tbody>\n",
       "</table>\n",
       "<p>5215 rows × 2 columns</p>\n",
       "</div>"
      ],
      "text/plain": [
       "           pax_id            uni_id\n",
       "0     MAL13P1.100      C0H5C4_PLAF7\n",
       "1     MAL13P1.102      Q8IEC9_PLAF7\n",
       "2     MAL13P1.103  A0A5K1K826_PLAF7\n",
       "3     MAL13P1.105      Q8IEB9_PLAF7\n",
       "4     MAL13P1.106      Q8IEB8_PLAF7\n",
       "...           ...               ...\n",
       "5210     PFL2640c      Q8I4P0_PLAF7\n",
       "5211     PFL2645c      Q8I4N9_PLAF7\n",
       "5212     PFL2655w      Q8I4N7_PLAF7\n",
       "5213     PFL2660w      Q8I4N6_PLAF7\n",
       "5214     PFL2665c      Q8I4N5_PLAF7\n",
       "\n",
       "[5215 rows x 2 columns]"
      ]
     },
     "execution_count": 15,
     "metadata": {},
     "output_type": "execute_result"
    }
   ],
   "source": [
    "mapping_df"
   ]
  },
  {
   "cell_type": "code",
   "execution_count": 16,
   "id": "cd8502e1",
   "metadata": {},
   "outputs": [],
   "source": [
    "merged_abundances = mapping_df.merge(malaria_abundance_df,on=['pax_id'],how='inner')"
   ]
  },
  {
   "cell_type": "code",
   "execution_count": 31,
   "id": "fd61f468",
   "metadata": {},
   "outputs": [],
   "source": [
    "background_abundance = np.array(merged_abundances['abundance'])\n",
    "positive_abundance_df = merged_abundances[merged_abundances['uni_id'].isin(set([x.split(\"|\")[-1] for x in names]))]\n",
    "positive_abundance =  np.array(positive_abundance_df['abundance'])\n",
    "positive_abundance_df_elispot = merged_abundances[merged_abundances['uni_id'].isin(set([x.split(\"|\")[-1] for x in names_elispot]))]\n",
    "positive_abundance_elispot =  np.array(positive_abundance_df_elispot['abundance'])\n",
    "\n",
    "negative_abundance_df = merged_abundances[merged_abundances['uni_id'].isin(set([x.split(\"|\")[-1] for x in negative_names]))]\n",
    "negative_abundance =  np.array(negative_abundance_df['abundance'])\n",
    "negative_abundance_df_elispot = merged_abundances[merged_abundances['uni_id'].isin(set([x.split(\"|\")[-1] for x in negative_names_elispot]))]\n",
    "negative_abundance_elispot =  np.array(negative_abundance_df_elispot['abundance'])"
   ]
  },
  {
   "cell_type": "code",
   "execution_count": null,
   "id": "d4c4750c",
   "metadata": {},
   "outputs": [],
   "source": []
  },
  {
   "cell_type": "code",
   "execution_count": 81,
   "id": "7fd0b448",
   "metadata": {},
   "outputs": [
    {
     "data": {
      "image/png": "[encoded data removed]",
      "text/plain": [
       "<Figure size 640x480 with 1 Axes>"
      ]
     },
     "metadata": {},
     "output_type": "display_data"
    }
   ],
   "source": [
    "plt.figure()\n",
    "for name, values in zip(['Malaria Peptides','Epitopes (-)', 'Epitopes (+)'],\n",
    "                               [background_abundance,\n",
    "                                positive_abundance,\n",
    "                                negative_abundance,\n",
    "                               ]):\n",
    "#     bins = np.linspace(-14, -8, 10)\n",
    "    count, bins_count = np.histogram(np.array(values)/np.log(10),bins=5)\n",
    "    pdf = count / sum(count)\n",
    "    plt.plot(0.5*(bins_count[:-1]+bins_count[1:]), pdf ,label=name)\n",
    "plt.xscale('log')\n",
    "plt.yscale('log')"
   ]
  },
  {
   "cell_type": "code",
   "execution_count": 32,
   "id": "393b7bce",
   "metadata": {},
   "outputs": [],
   "source": [
    "rows = []\n",
    "for value in background_abundance:\n",
    "    rows.append({\n",
    "        'source': 'background',\n",
    "        'value': value\n",
    "    })\n",
    "for value in positive_abundance:\n",
    "    rows.append({\n",
    "        'source': 'positive',\n",
    "        'value': value\n",
    "    })\n",
    "for value in negative_abundance:\n",
    "    rows.append({\n",
    "        'source': 'negative',\n",
    "        'value': value\n",
    "    })\n",
    "    \n",
    "    \n",
    "rows_elispot = []\n",
    "for value in background_abundance:\n",
    "    rows_elispot.append({\n",
    "        'source': 'background',\n",
    "        'value': value\n",
    "    })\n",
    "for value in positive_abundance_elispot:\n",
    "    rows_elispot.append({\n",
    "        'source': 'positive',\n",
    "        'value': value\n",
    "    })\n",
    "for value in negative_abundance_elispot:\n",
    "    rows_elispot.append({\n",
    "        'source': 'negative',\n",
    "        'value': value\n",
    "    })"
   ]
  },
  {
   "cell_type": "code",
   "execution_count": 33,
   "id": "08a04411",
   "metadata": {},
   "outputs": [],
   "source": [
    "abundance_results = pd.DataFrame(data=rows)\n",
    "abundance_results_elispot = pd.DataFrame(data=rows_elispot)"
   ]
  },
  {
   "cell_type": "code",
   "execution_count": 35,
   "id": "29b8e487",
   "metadata": {},
   "outputs": [],
   "source": [
    "import seaborn as sns"
   ]
  },
  {
   "cell_type": "code",
   "execution_count": 36,
   "id": "beb0689e",
   "metadata": {},
   "outputs": [
    {
     "data": {
      "text/plain": [
       "<Axes: xlabel='source', ylabel='value'>"
      ]
     },
     "execution_count": 36,
     "metadata": {},
     "output_type": "execute_result"
    },
    {
     "data": {
      "image/png": "[encoded data removed]",
      "text/plain": [
       "<Figure size 640x480 with 1 Axes>"
      ]
     },
     "metadata": {},
     "output_type": "display_data"
    }
   ],
   "source": [
    "sns.boxplot(abundance_results,x='source',y='value',log_scale=True)"
   ]
  },
  {
   "cell_type": "code",
   "execution_count": 37,
   "id": "556056ec",
   "metadata": {},
   "outputs": [
    {
     "data": {
      "text/plain": [
       "<Axes: xlabel='source', ylabel='value'>"
      ]
     },
     "execution_count": 37,
     "metadata": {},
     "output_type": "execute_result"
    },
    {
     "data": {
      "image/png": "[encoded data removed]",
      "text/plain": [
       "<Figure size 640x480 with 1 Axes>"
      ]
     },
     "metadata": {},
     "output_type": "display_data"
    }
   ],
   "source": [
    "sns.boxplot(abundance_results_elispot,x='source',y='value',log_scale=True)"
   ]
  },
  {
   "cell_type": "code",
   "execution_count": 38,
   "id": "bea65670",
   "metadata": {},
   "outputs": [],
   "source": [
    "abundance_results.to_csv('../../figures/New Paper Figures/Figure Data/malaria_abundance_all_assays.csv')"
   ]
  },
  {
   "cell_type": "code",
   "execution_count": 39,
   "id": "5c1f9309",
   "metadata": {},
   "outputs": [],
   "source": [
    "abundance_results_elispot.to_csv('../../figures/New Paper Figures/Figure Data/malaria_abundance.csv')"
   ]
  },
  {
   "cell_type": "code",
   "execution_count": null,
   "id": "65413674",
   "metadata": {},
   "outputs": [],
   "source": []
  }
 ],
 "metadata": {
  "kernelspec": {
   "display_name": "Python [conda env:peptidome]",
   "language": "python",
   "name": "conda-env-peptidome-py"
  },
  "language_info": {
   "codemirror_mode": {
    "name": "ipython",
    "version": 3
   },
   "file_extension": ".py",
   "mimetype": "text/x-python",
   "name": "python",
   "nbconvert_exporter": "python",
   "pygments_lexer": "ipython3",
   "version": "3.12.4"
  }
 },
 "nbformat": 4,
 "nbformat_minor": 5
}
