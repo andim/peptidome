{
 "cells": [
  {
   "cell_type": "code",
   "execution_count": 1,
   "metadata": {},
   "outputs": [],
   "source": [
    "import itertools, json\n",
    "import numpy as np\n",
    "import pandas as pd\n",
    "from sklearn.model_selection import train_test_split\n",
    "\n",
    "import sys\n",
    "sys.path.append('..')\n",
    "from lib import *\n",
    "from lib.maxent import *"
   ]
  },
  {
   "cell_type": "code",
   "execution_count": 2,
   "metadata": {},
   "outputs": [],
   "source": [
    "output = True\n",
    "N = 9\n",
    "q = naminoacids\n",
    "\n",
    "proteome = proteome_path('Human')\n",
    "seed = 1234\n",
    "prng = np.random.RandomState(seed)"
   ]
  },
  {
   "cell_type": "code",
   "execution_count": 3,
   "metadata": {},
   "outputs": [],
   "source": [
    "seqs = [s for s in fasta_iter(proteome, returnheader=False)]\n",
    "train, test = train_test_split(seqs, test_size=0.5, random_state=prng)"
   ]
  },
  {
   "cell_type": "code",
   "execution_count": 4,
   "metadata": {},
   "outputs": [],
   "source": [
    "train_arr =  np.array([list(kmer) for kmer in to_kmers(train, k=N)])\n",
    "train_matrix = map_matrix(train_arr, map_)"
   ]
  },
  {
   "cell_type": "code",
   "execution_count": 5,
   "metadata": {},
   "outputs": [],
   "source": [
    "np.savetxt('data/train_matrix.csv.gz', train_matrix, fmt='%i')"
   ]
  },
  {
   "cell_type": "code",
   "execution_count": 6,
   "metadata": {},
   "outputs": [],
   "source": [
    "fi = frequencies(train_matrix, num_symbols=q, pseudocount=1e-3)\n",
    "fij = pair_frequencies(train_matrix, num_symbols=q, fi=fi, pseudocount=1e-3)\n",
    "cij = compute_covariance_matrix(fi, fij)"
   ]
  },
  {
   "cell_type": "code",
   "execution_count": 7,
   "metadata": {},
   "outputs": [],
   "source": [
    "test_arr =  np.array([list(kmer) for kmer in to_kmers(test, k=N)])\n",
    "test_matrix = map_matrix(test_arr, map_)"
   ]
  },
  {
   "cell_type": "code",
   "execution_count": 8,
   "metadata": {},
   "outputs": [],
   "source": [
    "fi_test = frequencies(test_matrix, num_symbols=q, pseudocount=1e-3)\n",
    "fij_test = pair_frequencies(test_matrix, num_symbols=q, fi=fi_test, pseudocount=1e-3)\n",
    "cij_test = compute_covariance_matrix(fi_test, fij_test)"
   ]
  },
  {
   "cell_type": "code",
   "execution_count": 9,
   "metadata": {},
   "outputs": [],
   "source": [
    "params = np.load('data/Human_full_k9.npz')\n",
    "hi = params['hi']\n",
    "Jij = params['Jij']"
   ]
  },
  {
   "cell_type": "code",
   "execution_count": null,
   "metadata": {},
   "outputs": [],
   "source": [
    "jump = lambda x: local_jump(x, q)\n",
    "x0 = prng.randint(q, size=N)\n",
    "sample_matrix = mcmcsampler(x0, lambda x: energy_potts(x, hi, Jij), jump, 1e7, nsample=10)"
   ]
  },
  {
   "cell_type": "code",
   "execution_count": null,
   "metadata": {},
   "outputs": [],
   "source": [
    "fi_model = frequencies(sample_matrix, num_symbols=q)\n",
    "fij_model = pair_frequencies(sample_matrix, num_symbols=q, fi=fi_model)\n",
    "cij_model = compute_covariance_matrix(fi_model, fij_model)"
   ]
  },
  {
   "cell_type": "code",
   "execution_count": null,
   "metadata": {},
   "outputs": [],
   "source": [
    "fig, axes = plt.subplots(figsize=(7, 3.5), ncols=2)\n",
    "\n",
    "ax = axes[0]\n",
    "ax.plot(fi, fi_model, 'o', ms=2)\n",
    "ax.set_xlabel('training $f_i$')\n",
    "ax.set_ylabel('maxent $f_i$')\n",
    "ax.plot([0, 0.12], [0, 0.12], 'k')\n",
    "\n",
    "lim = 0.002\n",
    "ax = axes[1]\n",
    "mask = ~np.eye(cij.shape[0], dtype=bool)\n",
    "ax.plot(cij[mask].flatten(), cij_model[mask].flatten(), 'o', ms=2)\n",
    "ax.set_ylabel('maxent $c_{ij}$')\n",
    "ax.set_xlabel('training $c_{ij}$')\n",
    "ax.plot([-lim, lim], [-lim, lim], 'k')\n",
    "\n",
    "fig.tight_layout()"
   ]
  },
  {
   "cell_type": "code",
   "execution_count": 13,
   "metadata": {},
   "outputs": [],
   "source": [
    "import evcouplings.align, evcouplings.couplings\n",
    "\n",
    "Jij_zerogauge = evcouplings.couplings.model._zero_sum_gauge(Jij)"
   ]
  },
  {
   "cell_type": "code",
   "execution_count": 14,
   "metadata": {},
   "outputs": [],
   "source": [
    "def JijfrominvC(invC):\n",
    "    Jij = evcouplings.couplings.reshape_invC_to_4d(invC, N, q)\n",
    "    Jij_zerogauge = evcouplings.couplings.model._zero_sum_gauge(Jij)\n",
    "    return Jij_zerogauge"
   ]
  },
  {
   "cell_type": "code",
   "execution_count": 20,
   "metadata": {},
   "outputs": [],
   "source": [
    "cij_flat = compute_flattened_covariance_matrix(fi, fij)\n",
    "invC = np.linalg.inv(cij_flat)\n",
    "Jij_mf = JijfrominvC(invC)\n",
    "hi_mf = evcouplings.couplings.fields(Jij_mf, fi)"
   ]
  },
  {
   "cell_type": "code",
   "execution_count": 16,
   "metadata": {},
   "outputs": [
    {
     "data": {
      "text/plain": [
       "[<matplotlib.lines.Line2D at 0x7f288f017b00>]"
      ]
     },
     "execution_count": 16,
     "metadata": {},
     "output_type": "execute_result"
    },
    {
     "data": {
      "image/png": "[encoded data removed]",
      "text/plain": [
       "<Figure size 432x288 with 1 Axes>"
      ]
     },
     "metadata": {
      "needs_background": "light"
     },
     "output_type": "display_data"
    }
   ],
   "source": [
    "k = N\n",
    "rhoij = np.zeros(fij.shape)\n",
    "for i in range(k):\n",
    "    for j in range(k):\n",
    "        rhoij[i, j] = fij[i, j]/np.outer(fi[i], fi[j]) - 1.0\n",
    "mask = np.abs(Jij_zerogauge) > 1e-5\n",
    "plt.plot(rhoij[mask].flatten(), Jij_zerogauge[mask].flatten(), '.', ms=1)\n",
    "mask = np.abs(Jij_mf) > 1e-5\n",
    "plt.plot(rhoij[mask].flatten(), Jij_mf[mask].flatten(), '.', ms=1)\n",
    "lim = 1.0\n",
    "plt.plot([-lim, lim], [-lim, lim], 'k-')"
   ]
  },
  {
   "cell_type": "code",
   "execution_count": 21,
   "metadata": {},
   "outputs": [],
   "source": [
    "jump = lambda x: local_jump(x, q)\n",
    "x0 = prng.randint(q, size=N)\n",
    "sample_matrix = mcmcsampler(x0, lambda x: energy_potts(x, hi_mf, -Jij_mf), jump, 1e7, nsample=10)"
   ]
  },
  {
   "cell_type": "code",
   "execution_count": 22,
   "metadata": {},
   "outputs": [],
   "source": [
    "fi_mf = frequencies(sample_matrix, num_symbols=q)\n",
    "fij_mf = pair_frequencies(sample_matrix, num_symbols=q, fi=fi_model)\n",
    "cij_mf = compute_covariance_matrix(fi_mf, fij_mf)"
   ]
  },
  {
   "cell_type": "code",
   "execution_count": 23,
   "metadata": {},
   "outputs": [
    {
     "data": {
      "image/png": "[encoded data removed]",
      "text/plain": [
       "<Figure size 504x252 with 2 Axes>"
      ]
     },
     "metadata": {
      "needs_background": "light"
     },
     "output_type": "display_data"
    }
   ],
   "source": [
    "fig, axes = plt.subplots(figsize=(7, 3.5), ncols=2)\n",
    "\n",
    "ax = axes[0]\n",
    "ax.plot(fi, fi_mf, 'o', ms=2)\n",
    "ax.set_xlabel('training $f_i$')\n",
    "ax.set_ylabel('mf $f_i$')\n",
    "ax.plot([0, 0.12], [0, 0.12], 'k')\n",
    "\n",
    "lim = 0.002\n",
    "ax = axes[1]\n",
    "mask = ~np.eye(cij.shape[0], dtype=bool)\n",
    "ax.plot(cij[mask].flatten(), cij_mf[mask].flatten(), 'o', ms=2)\n",
    "ax.set_ylabel('mf $c_{ij}$')\n",
    "ax.set_xlabel('training $c_{ij}$')\n",
    "ax.plot([-lim, lim], [-lim, lim], 'k')\n",
    "\n",
    "fig.tight_layout()"
   ]
  },
  {
   "cell_type": "code",
   "execution_count": null,
   "metadata": {},
   "outputs": [],
   "source": []
  }
 ],
 "metadata": {
  "kernelspec": {
   "display_name": "Python 3",
   "language": "python",
   "name": "python3"
  },
  "language_info": {
   "codemirror_mode": {
    "name": "ipython",
    "version": 3
   },
   "file_extension": ".py",
   "mimetype": "text/x-python",
   "name": "python",
   "nbconvert_exporter": "python",
   "pygments_lexer": "ipython3",
   "version": "3.6.10"
  }
 },
 "nbformat": 4,
 "nbformat_minor": 2
}
