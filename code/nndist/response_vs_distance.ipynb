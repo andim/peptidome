{
 "cells": [
  {
   "cell_type": "code",
   "execution_count": 1,
   "id": "ae6938be",
   "metadata": {},
   "outputs": [],
   "source": [
    "import numpy as np\n",
    "import pandas as pd\n",
    "from scipy.stats import entropy\n",
    "import scipy.stats\n",
    "from scipy.stats import poisson\n",
    "import seaborn as sns\n",
    "import sklearn.neighbors\n",
    "import matplotlib.pyplot as plt\n",
    "%matplotlib inline\n",
    "\n",
    "import Levenshtein\n",
    "\n",
    "import sys\n",
    "sys.path.append('..')\n",
    "from lib import *\n",
    "\n",
    "plt.style.use('../peptidome.mplstyle')"
   ]
  },
  {
   "cell_type": "code",
   "execution_count": 2,
   "id": "7649cbc4",
   "metadata": {},
   "outputs": [],
   "source": [
    "df_t = load_iedb_tcellepitopes()"
   ]
  },
  {
   "cell_type": "code",
   "execution_count": 3,
   "id": "d60db884",
   "metadata": {},
   "outputs": [],
   "source": [
    "k = 9\n",
    "host = 'Homo sapiens'\n",
    "exclude = host\n",
    "selfset = set(count_kmers_proteome(human, k, clean=True))"
   ]
  },
  {
   "cell_type": "code",
   "execution_count": 164,
   "id": "f6225dd8",
   "metadata": {},
   "outputs": [
    {
     "data": {
      "text/plain": [
       "29024"
      ]
     },
     "execution_count": 164,
     "metadata": {},
     "output_type": "execute_result"
    }
   ],
   "source": [
    "# only specified hosts\n",
    "mask = df_t['Host', 'Name'].str.match(host, na=False)\n",
    "# only epitopes of length k\n",
    "mask &= df_t['Epitope', 'Description'].apply(len)==k\n",
    "# no host epitopes or epitopes of unknown provenance\n",
    "mask &= ~df_t['Epitope', 'Parent Species'].str.contains(exclude, na=True)\n",
    "# exclude autoimmune epitopes\n",
    "mask &= ~(df_t['1st in vivo Process', 'Process Type'] == 'Occurrence of autoimmune disease')\n",
    "d = df_t[mask]\n",
    "d.shape[0]"
   ]
  },
  {
   "cell_type": "code",
   "execution_count": 165,
   "id": "73bb781b",
   "metadata": {},
   "outputs": [
    {
     "data": {
      "text/plain": [
       "19022"
      ]
     },
     "execution_count": 165,
     "metadata": {},
     "output_type": "execute_result"
    }
   ],
   "source": [
    "mask = d['Assay', 'Method/Technique'] == 'ELISPOT'\n",
    "d = d[mask]\n",
    "np.sum(mask)"
   ]
  },
  {
   "cell_type": "code",
   "execution_count": 104,
   "id": "1488d39c",
   "metadata": {},
   "outputs": [
    {
     "ename": "KeyError",
     "evalue": "\"[('Assay', 'Method/Technique')] not in index\"",
     "output_type": "error",
     "traceback": [
      "\u001b[0;31m---------------------------------------------------------------------------\u001b[0m",
      "\u001b[0;31mKeyError\u001b[0m                                  Traceback (most recent call last)",
      "\u001b[0;32m<ipython-input-104-172cc08eaf2e>\u001b[0m in \u001b[0;36m<module>\u001b[0;34m\u001b[0m\n\u001b[1;32m      1\u001b[0m \u001b[0;31m#d = d[d[('Assay', 'Method/Technique')].isin(df_t[('Assay', 'Method/Technique')].value_counts().head(10).index)]\u001b[0m\u001b[0;34m\u001b[0m\u001b[0;34m\u001b[0m\u001b[0;34m\u001b[0m\u001b[0m\n\u001b[0;32m----> 2\u001b[0;31m method_pos_fraction = d[[('Assay', 'Method/Technique'),\n\u001b[0m\u001b[1;32m      3\u001b[0m                          ('Assay', 'Positive')]].groupby(('Assay', 'Method/Technique')).agg('mean')['Assay', 'Positive']\n\u001b[1;32m      4\u001b[0m \u001b[0mmask\u001b[0m \u001b[0;34m=\u001b[0m \u001b[0md\u001b[0m\u001b[0;34m[\u001b[0m\u001b[0;34m'Assay'\u001b[0m\u001b[0;34m,\u001b[0m \u001b[0;34m'Method/Technique'\u001b[0m\u001b[0;34m]\u001b[0m\u001b[0;34m.\u001b[0m\u001b[0misin\u001b[0m\u001b[0;34m(\u001b[0m\u001b[0mmethod_pos_fraction\u001b[0m\u001b[0;34m[\u001b[0m\u001b[0mmethod_pos_fraction\u001b[0m\u001b[0;34m<\u001b[0m\u001b[0;36m0.8\u001b[0m\u001b[0;34m]\u001b[0m\u001b[0;34m.\u001b[0m\u001b[0mindex\u001b[0m\u001b[0;34m)\u001b[0m\u001b[0;34m\u001b[0m\u001b[0;34m\u001b[0m\u001b[0m\n\u001b[1;32m      5\u001b[0m \u001b[0mprint\u001b[0m\u001b[0;34m(\u001b[0m\u001b[0mnp\u001b[0m\u001b[0;34m.\u001b[0m\u001b[0msum\u001b[0m\u001b[0;34m(\u001b[0m\u001b[0mmask\u001b[0m\u001b[0;34m)\u001b[0m\u001b[0;34m)\u001b[0m\u001b[0;34m\u001b[0m\u001b[0;34m\u001b[0m\u001b[0m\n",
      "\u001b[0;32m~/anaconda3/envs/py3/lib/python3.8/site-packages/pandas/core/frame.py\u001b[0m in \u001b[0;36m__getitem__\u001b[0;34m(self, key)\u001b[0m\n\u001b[1;32m   2910\u001b[0m             \u001b[0;32mif\u001b[0m \u001b[0mis_iterator\u001b[0m\u001b[0;34m(\u001b[0m\u001b[0mkey\u001b[0m\u001b[0;34m)\u001b[0m\u001b[0;34m:\u001b[0m\u001b[0;34m\u001b[0m\u001b[0;34m\u001b[0m\u001b[0m\n\u001b[1;32m   2911\u001b[0m                 \u001b[0mkey\u001b[0m \u001b[0;34m=\u001b[0m \u001b[0mlist\u001b[0m\u001b[0;34m(\u001b[0m\u001b[0mkey\u001b[0m\u001b[0;34m)\u001b[0m\u001b[0;34m\u001b[0m\u001b[0;34m\u001b[0m\u001b[0m\n\u001b[0;32m-> 2912\u001b[0;31m             \u001b[0mindexer\u001b[0m \u001b[0;34m=\u001b[0m \u001b[0mself\u001b[0m\u001b[0;34m.\u001b[0m\u001b[0mloc\u001b[0m\u001b[0;34m.\u001b[0m\u001b[0m_get_listlike_indexer\u001b[0m\u001b[0;34m(\u001b[0m\u001b[0mkey\u001b[0m\u001b[0;34m,\u001b[0m \u001b[0maxis\u001b[0m\u001b[0;34m=\u001b[0m\u001b[0;36m1\u001b[0m\u001b[0;34m,\u001b[0m \u001b[0mraise_missing\u001b[0m\u001b[0;34m=\u001b[0m\u001b[0;32mTrue\u001b[0m\u001b[0;34m)\u001b[0m\u001b[0;34m[\u001b[0m\u001b[0;36m1\u001b[0m\u001b[0;34m]\u001b[0m\u001b[0;34m\u001b[0m\u001b[0;34m\u001b[0m\u001b[0m\n\u001b[0m\u001b[1;32m   2913\u001b[0m \u001b[0;34m\u001b[0m\u001b[0m\n\u001b[1;32m   2914\u001b[0m         \u001b[0;31m# take() does not accept boolean indexers\u001b[0m\u001b[0;34m\u001b[0m\u001b[0;34m\u001b[0m\u001b[0;34m\u001b[0m\u001b[0m\n",
      "\u001b[0;32m~/anaconda3/envs/py3/lib/python3.8/site-packages/pandas/core/indexing.py\u001b[0m in \u001b[0;36m_get_listlike_indexer\u001b[0;34m(self, key, axis, raise_missing)\u001b[0m\n\u001b[1;32m   1252\u001b[0m             \u001b[0mkeyarr\u001b[0m\u001b[0;34m,\u001b[0m \u001b[0mindexer\u001b[0m\u001b[0;34m,\u001b[0m \u001b[0mnew_indexer\u001b[0m \u001b[0;34m=\u001b[0m \u001b[0max\u001b[0m\u001b[0;34m.\u001b[0m\u001b[0m_reindex_non_unique\u001b[0m\u001b[0;34m(\u001b[0m\u001b[0mkeyarr\u001b[0m\u001b[0;34m)\u001b[0m\u001b[0;34m\u001b[0m\u001b[0;34m\u001b[0m\u001b[0m\n\u001b[1;32m   1253\u001b[0m \u001b[0;34m\u001b[0m\u001b[0m\n\u001b[0;32m-> 1254\u001b[0;31m         \u001b[0mself\u001b[0m\u001b[0;34m.\u001b[0m\u001b[0m_validate_read_indexer\u001b[0m\u001b[0;34m(\u001b[0m\u001b[0mkeyarr\u001b[0m\u001b[0;34m,\u001b[0m \u001b[0mindexer\u001b[0m\u001b[0;34m,\u001b[0m \u001b[0maxis\u001b[0m\u001b[0;34m,\u001b[0m \u001b[0mraise_missing\u001b[0m\u001b[0;34m=\u001b[0m\u001b[0mraise_missing\u001b[0m\u001b[0;34m)\u001b[0m\u001b[0;34m\u001b[0m\u001b[0;34m\u001b[0m\u001b[0m\n\u001b[0m\u001b[1;32m   1255\u001b[0m         \u001b[0;32mreturn\u001b[0m \u001b[0mkeyarr\u001b[0m\u001b[0;34m,\u001b[0m \u001b[0mindexer\u001b[0m\u001b[0;34m\u001b[0m\u001b[0;34m\u001b[0m\u001b[0m\n\u001b[1;32m   1256\u001b[0m \u001b[0;34m\u001b[0m\u001b[0m\n",
      "\u001b[0;32m~/anaconda3/envs/py3/lib/python3.8/site-packages/pandas/core/indexing.py\u001b[0m in \u001b[0;36m_validate_read_indexer\u001b[0;34m(self, key, indexer, axis, raise_missing)\u001b[0m\n\u001b[1;32m   1302\u001b[0m             \u001b[0;32mif\u001b[0m \u001b[0mraise_missing\u001b[0m\u001b[0;34m:\u001b[0m\u001b[0;34m\u001b[0m\u001b[0;34m\u001b[0m\u001b[0m\n\u001b[1;32m   1303\u001b[0m                 \u001b[0mnot_found\u001b[0m \u001b[0;34m=\u001b[0m \u001b[0mlist\u001b[0m\u001b[0;34m(\u001b[0m\u001b[0mset\u001b[0m\u001b[0;34m(\u001b[0m\u001b[0mkey\u001b[0m\u001b[0;34m)\u001b[0m \u001b[0;34m-\u001b[0m \u001b[0mset\u001b[0m\u001b[0;34m(\u001b[0m\u001b[0max\u001b[0m\u001b[0;34m)\u001b[0m\u001b[0;34m)\u001b[0m\u001b[0;34m\u001b[0m\u001b[0;34m\u001b[0m\u001b[0m\n\u001b[0;32m-> 1304\u001b[0;31m                 \u001b[0;32mraise\u001b[0m \u001b[0mKeyError\u001b[0m\u001b[0;34m(\u001b[0m\u001b[0;34mf\"{not_found} not in index\"\u001b[0m\u001b[0;34m)\u001b[0m\u001b[0;34m\u001b[0m\u001b[0;34m\u001b[0m\u001b[0m\n\u001b[0m\u001b[1;32m   1305\u001b[0m \u001b[0;34m\u001b[0m\u001b[0m\n\u001b[1;32m   1306\u001b[0m             \u001b[0;31m# we skip the warning on Categorical\u001b[0m\u001b[0;34m\u001b[0m\u001b[0;34m\u001b[0m\u001b[0;34m\u001b[0m\u001b[0m\n",
      "\u001b[0;31mKeyError\u001b[0m: \"[('Assay', 'Method/Technique')] not in index\""
     ]
    }
   ],
   "source": [
    "#d = d[d[('Assay', 'Method/Technique')].isin(df_t[('Assay', 'Method/Technique')].value_counts().head(10).index)]\n",
    "method_pos_fraction = d[[('Assay', 'Method/Technique'),\n",
    "                         ('Assay', 'Positive')]].groupby(('Assay', 'Method/Technique')).agg('mean')['Assay', 'Positive']\n",
    "mask = d['Assay', 'Method/Technique'].isin(method_pos_fraction[method_pos_fraction<0.8].index)\n",
    "print(np.sum(mask))\n",
    "#d = d[mask]\n",
    "method_pos_fraction[method_pos_fraction<0.8]"
   ]
  },
  {
   "cell_type": "code",
   "execution_count": 166,
   "id": "46298f98",
   "metadata": {},
   "outputs": [
    {
     "data": {
      "text/plain": [
       "6671"
      ]
     },
     "execution_count": 166,
     "metadata": {},
     "output_type": "execute_result"
    }
   ],
   "source": [
    "# uniquify epitopes by keeping only the most frequent qualitative measure\n",
    "def most_frequent(x):\n",
    "    counts = x.value_counts(dropna=False)\n",
    "    if len(counts):\n",
    "        return counts.index[0]\n",
    "    else:\n",
    "        print(x, counts)\n",
    "    return np.nan\n",
    "d = d[[('Epitope', 'Description'), ('Assay', 'Positive')]].groupby(('Epitope', 'Description')).agg(most_frequent)\n",
    "d = d.reset_index()\n",
    "len(d)"
   ]
  },
  {
   "cell_type": "code",
   "execution_count": 167,
   "id": "aa122ccd",
   "metadata": {},
   "outputs": [
    {
     "data": {
      "text/plain": [
       "(array([  33,  120, 2734, 3784]),\n",
       " array([0.03030303, 0.26666667, 0.2684711 , 0.21300211]))"
      ]
     },
     "execution_count": 167,
     "metadata": {},
     "output_type": "execute_result"
    }
   ],
   "source": [
    "d0 = d['Epitope', 'Description'].apply(lambda x: x in selfset)\n",
    "count0 = np.sum(d0)\n",
    "d1 = d['Epitope', 'Description'].apply(lambda x: dist1(x, selfset)) & (~d0)\n",
    "count1 = np.sum(d1)\n",
    "d2 = d['Epitope', 'Description'].apply(lambda x: dist2(x, selfset)) & (~d0) & (~d1)\n",
    "count2 = np.sum(d2)\n",
    "pos0 = d[d0][d[d0]['Assay', 'Positive']].shape[0]\n",
    "pos1 = d[d1][d[d1]['Assay', 'Positive']].shape[0]\n",
    "pos2 = d[d2][d[d2]['Assay', 'Positive']].shape[0]\n",
    "posall = d[d['Assay', 'Positive'] & (~d0) & (~d1) & (~d2)].shape[0]\n",
    "ns = np.array([count0, count1, count2, d.shape[0]-count0-count1-count2])\n",
    "ps = np.array([pos0, pos1, pos2, posall])/ns\n",
    "ns, ps"
   ]
  },
  {
   "cell_type": "code",
   "execution_count": 168,
   "id": "776ecb69",
   "metadata": {},
   "outputs": [
    {
     "data": {
      "image/png": "[encoded data removed]",
      "text/plain": [
       "<Figure size 600x525 with 1 Axes>"
      ]
     },
     "metadata": {},
     "output_type": "display_data"
    }
   ],
   "source": [
    "fig, ax = plt.subplots(figsize=(2.0, 1.75))\n",
    "ax.errorbar(range(4), ps, (ps*(1-ps)/ns)**.5, ls='None', fmt='_')\n",
    "#ax.set_ylim(0, 0.35)\n",
    "ax.set_ylim(0.0)\n",
    "ax.set_xlabel('Distance to nearest self peptide')\n",
    "ax.set_ylabel('Fraction immunogenic')\n",
    "fig.tight_layout()\n",
    "fig.savefig('iedbposvsdist.svg')"
   ]
  },
  {
   "cell_type": "code",
   "execution_count": 127,
   "id": "fc673b91",
   "metadata": {},
   "outputs": [
    {
     "data": {
      "text/plain": [
       "71222     VMAPRTLVL\n",
       "71224     VMAPRTLVL\n",
       "71261     VMAPRTLVL\n",
       "79301     AVKAPGFGD\n",
       "116420    FSWGAEGQR\n",
       "249449    APPPAPAPA\n",
       "279349    KLVRELFRV\n",
       "279351    ALRERRMKV\n",
       "322579    LIDGISLGL\n",
       "338722    VMAPRTVLL\n",
       "338723    VMAPRTVLL\n",
       "338724    VMAPRTVLL\n",
       "338726    VMAPRTLVL\n",
       "338727    VMAPRTLVL\n",
       "338728    VMAPRTLVL\n",
       "Name: (Epitope, Description), dtype: object"
      ]
     },
     "execution_count": 127,
     "metadata": {},
     "output_type": "execute_result"
    }
   ],
   "source": [
    "d[d0 & d['Assay', 'Positive']]['Epitope', 'Description']"
   ]
  },
  {
   "cell_type": "code",
   "execution_count": 97,
   "id": "0dff6251",
   "metadata": {},
   "outputs": [
    {
     "data": {
      "text/plain": [
       "multimer/tetramer                  11\n",
       "3H-thymidine                        5\n",
       "ELISA                               3\n",
       "51 chromium                         3\n",
       "ICS                                 3\n",
       "surface plasmon resonance (SPR)     2\n",
       "x-ray crystallography               1\n",
       "ELISPOT                             1\n",
       "Name: Method/Technique, dtype: int64"
      ]
     },
     "execution_count": 97,
     "metadata": {},
     "output_type": "execute_result"
    }
   ],
   "source": [
    "df_t[df_t['Epitope', 'Description'].isin(set(d[d0 & d['Assay', 'Positive']]['Epitope', 'Description']))\n",
    "     & (df_t['Assay', 'Positive'])]['Assay']['Method/Technique'].value_counts()"
   ]
  },
  {
   "cell_type": "code",
   "execution_count": 133,
   "id": "b302e3b3",
   "metadata": {},
   "outputs": [
    {
     "data": {
      "text/html": [
       "<div>\n",
       "<style scoped>\n",
       "    .dataframe tbody tr th:only-of-type {\n",
       "        vertical-align: middle;\n",
       "    }\n",
       "\n",
       "    .dataframe tbody tr th {\n",
       "        vertical-align: top;\n",
       "    }\n",
       "\n",
       "    .dataframe thead tr th {\n",
       "        text-align: left;\n",
       "    }\n",
       "\n",
       "    .dataframe thead tr:last-of-type th {\n",
       "        text-align: right;\n",
       "    }\n",
       "</style>\n",
       "<table border=\"1\" class=\"dataframe\">\n",
       "  <thead>\n",
       "    <tr>\n",
       "      <th></th>\n",
       "      <th>Assay</th>\n",
       "    </tr>\n",
       "    <tr>\n",
       "      <th></th>\n",
       "      <th>Positive</th>\n",
       "    </tr>\n",
       "    <tr>\n",
       "      <th>(Assay, Method/Technique)</th>\n",
       "      <th></th>\n",
       "    </tr>\n",
       "  </thead>\n",
       "  <tbody>\n",
       "    <tr>\n",
       "      <th>3H-thymidine</th>\n",
       "      <td>0.823529</td>\n",
       "    </tr>\n",
       "    <tr>\n",
       "      <th>51 chromium</th>\n",
       "      <td>0.888889</td>\n",
       "    </tr>\n",
       "    <tr>\n",
       "      <th>ELISA</th>\n",
       "      <td>0.666667</td>\n",
       "    </tr>\n",
       "    <tr>\n",
       "      <th>ELISPOT</th>\n",
       "      <td>0.136752</td>\n",
       "    </tr>\n",
       "    <tr>\n",
       "      <th>ICS</th>\n",
       "      <td>0.800000</td>\n",
       "    </tr>\n",
       "    <tr>\n",
       "      <th>in vitro assay</th>\n",
       "      <td>0.666667</td>\n",
       "    </tr>\n",
       "    <tr>\n",
       "      <th>in vivo assay</th>\n",
       "      <td>0.600000</td>\n",
       "    </tr>\n",
       "    <tr>\n",
       "      <th>multimer/tetramer</th>\n",
       "      <td>0.967742</td>\n",
       "    </tr>\n",
       "    <tr>\n",
       "      <th>surface plasmon resonance (SPR)</th>\n",
       "      <td>1.000000</td>\n",
       "    </tr>\n",
       "    <tr>\n",
       "      <th>x-ray crystallography</th>\n",
       "      <td>1.000000</td>\n",
       "    </tr>\n",
       "  </tbody>\n",
       "</table>\n",
       "</div>"
      ],
      "text/plain": [
       "                                    Assay\n",
       "                                 Positive\n",
       "(Assay, Method/Technique)                \n",
       "3H-thymidine                     0.823529\n",
       "51 chromium                      0.888889\n",
       "ELISA                            0.666667\n",
       "ELISPOT                          0.136752\n",
       "ICS                              0.800000\n",
       "in vitro assay                   0.666667\n",
       "in vivo assay                    0.600000\n",
       "multimer/tetramer                0.967742\n",
       "surface plasmon resonance (SPR)  1.000000\n",
       "x-ray crystallography            1.000000"
      ]
     },
     "execution_count": 133,
     "metadata": {},
     "output_type": "execute_result"
    }
   ],
   "source": [
    "d2 = df_t[df_t['Epitope', 'Description'].isin(set(d[d0]['Epitope', 'Description']))]\n",
    "d2[[('Assay', 'Method/Technique'), ('Assay', 'Positive')]].groupby(('Assay', 'Method/Technique')).agg('mean')"
   ]
  },
  {
   "cell_type": "code",
   "execution_count": 143,
   "id": "d0dd558e",
   "metadata": {},
   "outputs": [
    {
     "data": {
      "text/plain": [
       "Assay  Positive    0.058824\n",
       "dtype: float64"
      ]
     },
     "execution_count": 143,
     "metadata": {},
     "output_type": "execute_result"
    }
   ],
   "source": [
    "d2[d2['Assay', 'Method/Technique']=='ELISPOT'\n",
    "      ][[('Epitope', 'Description'),\n",
    "     ('Assay', 'Positive')]].groupby(('Epitope', 'Description')).agg(most_frequent).mean()"
   ]
  },
  {
   "cell_type": "code",
   "execution_count": 145,
   "id": "783128f1",
   "metadata": {},
   "outputs": [
    {
     "data": {
      "text/html": [
       "<div>\n",
       "<style scoped>\n",
       "    .dataframe tbody tr th:only-of-type {\n",
       "        vertical-align: middle;\n",
       "    }\n",
       "\n",
       "    .dataframe tbody tr th {\n",
       "        vertical-align: top;\n",
       "    }\n",
       "\n",
       "    .dataframe thead tr th {\n",
       "        text-align: left;\n",
       "    }\n",
       "\n",
       "    .dataframe thead tr:last-of-type th {\n",
       "        text-align: right;\n",
       "    }\n",
       "</style>\n",
       "<table border=\"1\" class=\"dataframe\">\n",
       "  <thead>\n",
       "    <tr>\n",
       "      <th></th>\n",
       "      <th>Assay</th>\n",
       "    </tr>\n",
       "    <tr>\n",
       "      <th></th>\n",
       "      <th>Positive</th>\n",
       "    </tr>\n",
       "    <tr>\n",
       "      <th>(Assay, Method/Technique)</th>\n",
       "      <th></th>\n",
       "    </tr>\n",
       "  </thead>\n",
       "  <tbody>\n",
       "    <tr>\n",
       "      <th>3H-thymidine</th>\n",
       "      <td>0.864407</td>\n",
       "    </tr>\n",
       "    <tr>\n",
       "      <th>51 chromium</th>\n",
       "      <td>0.795378</td>\n",
       "    </tr>\n",
       "    <tr>\n",
       "      <th>BrdU</th>\n",
       "      <td>0.700000</td>\n",
       "    </tr>\n",
       "    <tr>\n",
       "      <th>CFSE</th>\n",
       "      <td>0.750000</td>\n",
       "    </tr>\n",
       "    <tr>\n",
       "      <th>ELISA</th>\n",
       "      <td>0.677323</td>\n",
       "    </tr>\n",
       "    <tr>\n",
       "      <th>ELISPOT</th>\n",
       "      <td>0.191327</td>\n",
       "    </tr>\n",
       "    <tr>\n",
       "      <th>ICS</th>\n",
       "      <td>0.721765</td>\n",
       "    </tr>\n",
       "    <tr>\n",
       "      <th>RNA/DNA detection</th>\n",
       "      <td>0.794521</td>\n",
       "    </tr>\n",
       "    <tr>\n",
       "      <th>binding assay</th>\n",
       "      <td>1.000000</td>\n",
       "    </tr>\n",
       "    <tr>\n",
       "      <th>bioassay</th>\n",
       "      <td>0.967213</td>\n",
       "    </tr>\n",
       "    <tr>\n",
       "      <th>biological activity</th>\n",
       "      <td>0.861314</td>\n",
       "    </tr>\n",
       "    <tr>\n",
       "      <th>cytometric bead array</th>\n",
       "      <td>0.570755</td>\n",
       "    </tr>\n",
       "    <tr>\n",
       "      <th>in vitro assay</th>\n",
       "      <td>0.856579</td>\n",
       "    </tr>\n",
       "    <tr>\n",
       "      <th>in vivo assay</th>\n",
       "      <td>0.838828</td>\n",
       "    </tr>\n",
       "    <tr>\n",
       "      <th>in vivo skin test</th>\n",
       "      <td>0.800000</td>\n",
       "    </tr>\n",
       "    <tr>\n",
       "      <th>intracellular staining</th>\n",
       "      <td>0.982143</td>\n",
       "    </tr>\n",
       "    <tr>\n",
       "      <th>multimer/tetramer</th>\n",
       "      <td>0.892332</td>\n",
       "    </tr>\n",
       "    <tr>\n",
       "      <th>surface plasmon resonance (SPR)</th>\n",
       "      <td>0.824468</td>\n",
       "    </tr>\n",
       "    <tr>\n",
       "      <th>x-ray crystallography</th>\n",
       "      <td>1.000000</td>\n",
       "    </tr>\n",
       "  </tbody>\n",
       "</table>\n",
       "</div>"
      ],
      "text/plain": [
       "                                    Assay\n",
       "                                 Positive\n",
       "(Assay, Method/Technique)                \n",
       "3H-thymidine                     0.864407\n",
       "51 chromium                      0.795378\n",
       "BrdU                             0.700000\n",
       "CFSE                             0.750000\n",
       "ELISA                            0.677323\n",
       "ELISPOT                          0.191327\n",
       "ICS                              0.721765\n",
       "RNA/DNA detection                0.794521\n",
       "binding assay                    1.000000\n",
       "bioassay                         0.967213\n",
       "biological activity              0.861314\n",
       "cytometric bead array            0.570755\n",
       "in vitro assay                   0.856579\n",
       "in vivo assay                    0.838828\n",
       "in vivo skin test                0.800000\n",
       "intracellular staining           0.982143\n",
       "multimer/tetramer                0.892332\n",
       "surface plasmon resonance (SPR)  0.824468\n",
       "x-ray crystallography            1.000000"
      ]
     },
     "execution_count": 145,
     "metadata": {},
     "output_type": "execute_result"
    }
   ],
   "source": [
    "d2 = df_t[df_t['Epitope', 'Description'].isin(set(d['Epitope', 'Description']))]\n",
    "d2[[('Assay', 'Method/Technique'), ('Assay', 'Positive')]].groupby(('Assay', 'Method/Technique')).agg('mean')"
   ]
  },
  {
   "cell_type": "code",
   "execution_count": 147,
   "id": "c5adaddc",
   "metadata": {},
   "outputs": [
    {
     "data": {
      "text/plain": [
       "Assay  Positive    0.240653\n",
       "dtype: float64"
      ]
     },
     "execution_count": 147,
     "metadata": {},
     "output_type": "execute_result"
    }
   ],
   "source": [
    "d2[d2['Assay', 'Method/Technique']=='ELISPOT'\n",
    "      ][[('Epitope', 'Description'),\n",
    "     ('Assay', 'Positive')]].groupby(('Epitope', 'Description')).agg(most_frequent).mean()"
   ]
  },
  {
   "cell_type": "code",
   "execution_count": 189,
   "id": "29cf51c7",
   "metadata": {},
   "outputs": [],
   "source": [
    "from pyrepseq import *\n",
    "import random"
   ]
  },
  {
   "cell_type": "code",
   "execution_count": 259,
   "id": "ffb79142",
   "metadata": {},
   "outputs": [],
   "source": [
    "epitopes = d[d1]['Epitope', 'Description']"
   ]
  },
  {
   "cell_type": "code",
   "execution_count": 260,
   "id": "7e47ab65",
   "metadata": {},
   "outputs": [
    {
     "name": "stdout",
     "output_type": "stream",
     "text": [
      "AAAPVVESK AAAKVVESK 1 3\n",
      "ADTNGDPGR ADDNGDPGR 1 2\n",
      "AEFTVPKFL ADFTVPKFL 1 1\n",
      "AEMLREEGY AEMIREEGY 1 3\n",
      "AESRKLLLI AESRKLLLR 1 8\n",
      "AKLDRLDEE AKLDNLDEE 1 4\n",
      "ALAHGVRVL ALRHGVRVL 1 2\n",
      "ALIIIRSLL ARIIIRSLL 1 1\n",
      "AMAGASTSA ASAGASTSA 1 1\n",
      "APVPPPEPL APVVPPEPL 1 3\n",
      "CTELKLSDN VTELKLSDN 1 0\n",
      "CYNPRTNKW KYNPRTNKW 2 0\n",
      "DESTLSPEM DESTLSPEE 1 8\n",
      "DIDSAIETY DIDAAIETY 1 3\n",
      "DLKPDNILL DLKPENILL 10 4\n",
      "DLQDRNTEL DLQDRNDEL 1 6\n",
      "DRFYKVLRA DRFYKVLTA 1 7\n",
      "EEAIVAYTL EEAPVAYTL 1 3\n",
      "EEEEDGESL EEEEDGESE 4 8\n",
      "EEKSDINTL EEKSDIETL 1 6\n",
      "EELKQKLRL EEQKQKLRL 1 2\n",
      "EEQILASIL FEQILASIL 1 0\n",
      "EFQVVNPHL EFQIVNPHL 1 3\n",
      "ELLEQQKAA ELLEQQKRA 1 7\n",
      "EYVLLLFLL EYVLLLFLA 1 8\n",
      "FFPDFVITL FFPDFVWTL 1 6\n",
      "FIFLLFLTL FIFLLFLPL 1 7\n",
      "FLAVLSPTI FLAVLSITI 1 6\n",
      "FLGERVTLT FKGERVTLT 2 1\n",
      "FLLSLGIHL FLLSLGIIL 1 7\n",
      "FVIFPIQYY FVIFPIQYP 1 8\n",
      "FVVFILIYV FVVFLLIYV 1 4\n",
      "GEPAETRVL GEPAETRVE 1 8\n",
      "GLAAAVVAV GLGAAVVAV 1 2\n",
      "GLADAFILL GLADAFILM 1 8\n",
      "GLGTLGAAL GLGELGAAL 1 3\n",
      "GLPVEYLQV GLPPEYLQV 1 3\n",
      "GPGLSPGTL GPLLSPGTL 1 2\n",
      "GTSNWTGNY GTSNWSGNY 1 5\n",
      "GTTNSCVSV GTTNSCVAV 1 7\n",
      "IEDPPFNSL IEDPPFPSL 1 6\n",
      "IENIHSEMY IENVHSEMY 2 3\n",
      "IIYERDFSY IIYDRDFSY 1 3\n",
      "ILCTRTPPK ILATRTPPK 1 2\n",
      "ILDEERDKV ILDCERDKV 1 3\n",
      "ILQYDLWNV ILQYDMWNV 1 5\n",
      "IPAALIILL FPAALIILL 1 0\n",
      "KELYVSSSY KELYVSSSL 1 8\n",
      "KLIANNTRV KLIANNTTV 1 7\n",
      "KLLKDLFPK KLLKDLFFK 2 7\n",
      "KMAADRGAF KMAAERGAF 1 4\n",
      "KQIANELNY QQIANELNY 1 0\n",
      "KVIVRNLNK KVVVRNLNK 1 2\n",
      "KVSPPSLGK KVSPPSLGF 1 8\n",
      "LALLLLDRL LALLLLLRL 1 6\n",
      "LESYSSSPL LESYSSSPC 1 8\n",
      "LFTISVSSL LFTGSVSSL 1 3\n",
      "LIASNVAGV LIASTVAGV 1 4\n",
      "LLAQEQLEK LLANEQLEK 1 3\n",
      "LLCLIFLLV LLGLIFLLV 1 2\n",
      "LLLSNLAIV LLLSNLNIV 1 6\n",
      "LLVAPMPTA LLIAPMPTA 1 2\n",
      "LLVDLLWLL LLVLLLWLL 1 3\n",
      "LLVIWILIV LLVIIILIV 1 4\n",
      "LLYLILFLL LLYLILKLL 1 6\n",
      "LPNITLKII LPNGTLKII 1 3\n",
      "LPRRGPRLG LPRRGGRLG 1 5\n",
      "LSMLNLTKY LSRLNLTKY 1 2\n",
      "LTAAVLLLI LTAAVLGLI 1 6\n",
      "LTARDAGTY LTQRDAGTY 1 2\n",
      "LTFLHTLYK LTFLHTLYQ 1 8\n",
      "LYALALLLL LLALALLLL 3 1\n",
      "LYLILFLLF LPLILFLLF 1 1\n",
      "LYVFVGTKF LYVFVGVKF 1 6\n",
      "MIVAWFLLL MIVAIFLLL 1 4\n",
      "NELKKTSSF NELGKTSSF 1 3\n",
      "NRRRRTAGV NRRRKTAGV 1 4\n",
      "PDESTLSPE VDESTLSPE 1 0\n",
      "PIPKARRPE PFPKARRPE 1 1\n",
      "QVKDEKLNL TVKDEKLNL 1 0\n",
      "RALSLAAVL RALSLAAVV 1 8\n",
      "RGDLETLGY RGDLEILGY 1 5\n",
      "RLLDRLVRL RLLDRLVRR 1 8\n",
      "RYAPVCKPL RYAAVCKPL 1 3\n",
      "SIFLLALLS SIRLLALLS 1 2\n",
      "SLLIDTYVK SLLIDTYIK 1 7\n",
      "SLQQEITLL SLQQEITIL 2 7\n",
      "SLRDREFSK SLRDREFST 1 8\n",
      "SLSIFFIVV PLSIFFIVV 1 0\n",
      "SMINGVVKL SMINGVVKA 1 8\n",
      "SMTSPSPVT SMTSPSPVS 1 8\n",
      "SPKAGLLSL SPPAGLLSL 1 2\n",
      "SPVSILSTL SPSSILSTL 1 2\n",
      "SSSISISKY SSSIYISKY 1 4\n",
      "STLESEIAK STLESENAK 1 6\n",
      "STLPETTVV SRLPETTVV 1 1\n",
      "TFFSRGLSR TFFSRGLSF 1 8\n",
      "TLEPIPPGE TLEPMPPGE 1 4\n",
      "TLQQLLMGT TLQQLLMQT 1 7\n",
      "TVQEFIFSA TIQEFIFSA 1 1\n",
      "VAATMANEM VAATMAHEM 1 6\n",
      "VALMLQGNK VALMLLGNK 1 5\n",
      "VEIPNRIVF VEIPNRIMF 1 7\n",
      "VEIRKIKSL VEERKIKSL 1 2\n",
      "VEPYTSNIY IEPYTSNIY 1 0\n",
      "VFLTSNAGL VFLTSLAGL 1 5\n",
      "VLAGLLGNV VLAGLLGMV 1 7\n",
      "VLLQRLHLL TLLQRLHLL 1 0\n",
      "VLNVALVFL VLNVGLVFL 1 4\n",
      "VYGDTDSVF VYGDTDSVM 2 8\n",
      "VYKFLFTDL VYCFLFTDL 1 2\n",
      "VYNNTARYI VYNNTARYV 1 8\n",
      "WEYVLLLFL KEYVLLLFL 1 0\n",
      "YEPGKRRWL YEPGKRHWL 1 6\n",
      "YERDFSYNY YDRDFSYNY 1 1\n",
      "YFIKHVLAF YFISHVLAF 1 3\n",
      "YFKRLTSEI YFKRLTCEI 1 6\n",
      "YLFNAIETM FLFNAIETM 1 0\n",
      "YPEFARKAL LPEFARKAL 1 0\n",
      "YYLPLRKDI YYLQLRKDI 1 3\n"
     ]
    }
   ],
   "source": [
    "neighbors = []\n",
    "diffposs = []\n",
    "for epitope in epitopes:\n",
    "    all_neighbors = set(hamming_neighbors(epitope)).intersection(selfset)\n",
    "    neighbor = random.choice(list(all_neighbors))\n",
    "    neighbors.append(neighbor)\n",
    "    diffpos = int(np.where(np.array(list(epitope)) != np.array(list(neighbor)))[0])\n",
    "    diffposs.append(diffpos)\n",
    "    print(epitope, neighbor, len(all_neighbors),\n",
    "          diffpos)\n",
    "neighbors = np.array(neighbors)\n",
    "diffposs = np.array(diffposs)"
   ]
  },
  {
   "cell_type": "code",
   "execution_count": 261,
   "id": "43122ef6",
   "metadata": {},
   "outputs": [
    {
     "name": "stderr",
     "output_type": "stream",
     "text": [
      "<ipython-input-261-ad0e05671110>:2: SettingWithCopyWarning: \n",
      "A value is trying to be set on a copy of a slice from a DataFrame.\n",
      "Try using .loc[row_indexer,col_indexer] = value instead\n",
      "\n",
      "See the caveats in the documentation: https://pandas.pydata.org/pandas-docs/stable/user_guide/indexing.html#returning-a-view-versus-a-copy\n",
      "  df_d1['Position difference'] = diffposs\n"
     ]
    }
   ],
   "source": [
    "df_d1 = d[d1]\n",
    "df_d1['Position difference'] = diffposs"
   ]
  },
  {
   "cell_type": "code",
   "execution_count": 262,
   "id": "9305e874",
   "metadata": {},
   "outputs": [
    {
     "data": {
      "text/plain": [
       "<AxesSubplot:>"
      ]
     },
     "execution_count": 262,
     "metadata": {},
     "output_type": "execute_result"
    },
    {
     "data": {
      "image/png": "[encoded data removed]",
      "text/plain": [
       "<Figure size 1026x690 with 1 Axes>"
      ]
     },
     "metadata": {},
     "output_type": "display_data"
    }
   ],
   "source": [
    "bins = np.arange(0,k+1,1)\n",
    "df_d1[df_d1['Assay', 'Positive']]['Position difference'].hist(bins=bins, density=True, histtype='step')\n",
    "df_d1[~df_d1['Assay', 'Positive']]['Position difference'].hist(bins=bins, density=True, histtype='step')"
   ]
  },
  {
   "cell_type": "code",
   "execution_count": 263,
   "id": "ee72c403",
   "metadata": {},
   "outputs": [
    {
     "name": "stderr",
     "output_type": "stream",
     "text": [
      "/home/amayer/anaconda3/envs/py3/lib/python3.8/site-packages/pandas/core/generic.py:3887: PerformanceWarning: dropping on a non-lexsorted multi-index without a level parameter may impact performance.\n",
      "  obj = obj._drop_axis(labels, axis, level=level, errors=errors)\n"
     ]
    },
    {
     "data": {
      "text/plain": [
       "Position difference\n",
       "0    13\n",
       "1    10\n",
       "2    16\n",
       "3    19\n",
       "4    11\n",
       "5     6\n",
       "6    14\n",
       "7    12\n",
       "8    19\n",
       "Name: (Epitope, Description), dtype: int64"
      ]
     },
     "execution_count": 263,
     "metadata": {},
     "output_type": "execute_result"
    }
   ],
   "source": [
    "df_d1.groupby('Position difference').agg('count')['Epitope', 'Description']"
   ]
  },
  {
   "cell_type": "code",
   "execution_count": 264,
   "id": "bda80f61",
   "metadata": {},
   "outputs": [
    {
     "data": {
      "text/plain": [
       "<ErrorbarContainer object of 3 artists>"
      ]
     },
     "execution_count": 264,
     "metadata": {},
     "output_type": "execute_result"
    },
    {
     "data": {
      "image/png": "[encoded data removed]",
      "text/plain": [
       "<Figure size 1026x690 with 1 Axes>"
      ]
     },
     "metadata": {},
     "output_type": "display_data"
    }
   ],
   "source": [
    "ps = df_d1.groupby('Position difference').agg('mean')\n",
    "posdiffs = ps.index+1\n",
    "ps = np.array(ps).flatten()\n",
    "ns = np.array(df_d1.groupby('Position difference').agg('count')['Epitope', 'Description'])\n",
    "plt.errorbar(posdiffs, ps, (ps*(1-ps)/ns)**.5, ls='None', fmt='_')"
   ]
  },
  {
   "cell_type": "code",
   "execution_count": null,
   "id": "1e3a7696",
   "metadata": {},
   "outputs": [],
   "source": []
  }
 ],
 "metadata": {
  "kernelspec": {
   "display_name": "Python 3",
   "language": "python",
   "name": "python3"
  },
  "language_info": {
   "codemirror_mode": {
    "name": "ipython",
    "version": 3
   },
   "file_extension": ".py",
   "mimetype": "text/x-python",
   "name": "python",
   "nbconvert_exporter": "python",
   "pygments_lexer": "ipython3",
   "version": "3.8.10"
  }
 },
 "nbformat": 4,
 "nbformat_minor": 5
}
