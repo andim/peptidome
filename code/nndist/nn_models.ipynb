{
 "cells": [
  {
   "cell_type": "code",
   "execution_count": 1,
   "id": "0461ba76",
   "metadata": {},
   "outputs": [],
   "source": [
    "import numpy as np\n",
    "import pandas as pd\n",
    "from scipy.stats import entropy\n",
    "import scipy.stats\n",
    "from scipy.stats import poisson\n",
    "import seaborn as sns\n",
    "import sklearn.neighbors\n",
    "import matplotlib.pyplot as plt\n",
    "%matplotlib inline\n",
    "\n",
    "import Levenshtein\n",
    "\n",
    "import sys\n",
    "sys.path.append('..')\n",
    "from lib import *\n",
    "\n",
    "plt.style.use('../peptidome.mplstyle')"
   ]
  },
  {
   "cell_type": "code",
   "execution_count": 4,
   "id": "8d978383",
   "metadata": {},
   "outputs": [],
   "source": [
    "k = 9\n",
    "counter9 = count_kmers_proteome(human, k, clean=True)\n",
    "human9 = set(counter9)\n",
    "human9_arr = np.array(list(human9))"
   ]
  },
  {
   "cell_type": "code",
   "execution_count": 5,
   "id": "64945f27",
   "metadata": {},
   "outputs": [],
   "source": [
    "humansample = set(np.random.choice(human9_arr, 5000))\n",
    "ns_self = distance_distribution(humansample, set(human9)-humansample)"
   ]
  },
  {
   "cell_type": "code",
   "execution_count": 8,
   "id": "ee6bcb44",
   "metadata": {},
   "outputs": [
    {
     "data": {
      "text/plain": [
       "array([   0,  653, 2577, 1769])"
      ]
     },
     "execution_count": 8,
     "metadata": {},
     "output_type": "execute_result"
    }
   ],
   "source": [
    "ns_self"
   ]
  },
  {
   "cell_type": "code",
   "execution_count": null,
   "id": "4075b046",
   "metadata": {},
   "outputs": [],
   "source": []
  }
 ],
 "metadata": {
  "kernelspec": {
   "display_name": "Python 3",
   "language": "python",
   "name": "python3"
  },
  "language_info": {
   "codemirror_mode": {
    "name": "ipython",
    "version": 3
   },
   "file_extension": ".py",
   "mimetype": "text/x-python",
   "name": "python",
   "nbconvert_exporter": "python",
   "pygments_lexer": "ipython3",
   "version": "3.8.10"
  }
 },
 "nbformat": 4,
 "nbformat_minor": 5
}
