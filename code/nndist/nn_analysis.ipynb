{
 "cells": [
  {
   "cell_type": "code",
   "execution_count": 193,
   "metadata": {},
   "outputs": [],
   "source": [
    "import numpy as np\n",
    "import pandas as pd\n",
    "from scipy.stats import entropy\n",
    "import scipy.stats\n",
    "from scipy.stats import poisson\n",
    "import seaborn as sns\n",
    "import sklearn.neighbors\n",
    "import matplotlib.pyplot as plt\n",
    "%matplotlib inline\n",
    "\n",
    "import Levenshtein\n",
    "\n",
    "import sys\n",
    "sys.path.append('..')\n",
    "from lib import *\n",
    "\n",
    "plt.style.use('../peptidome.mplstyle')"
   ]
  },
  {
   "cell_type": "code",
   "execution_count": 184,
   "metadata": {},
   "outputs": [],
   "source": [
    "df_t = load_iedb_tcellepitopes()"
   ]
  },
  {
   "cell_type": "code",
   "execution_count": 4,
   "metadata": {},
   "outputs": [],
   "source": [
    "S = 20\n",
    "k = 9\n",
    "\n",
    "Ntot = S**k\n",
    "Nn = k*(S-1)"
   ]
  },
  {
   "cell_type": "code",
   "execution_count": 5,
   "metadata": {},
   "outputs": [],
   "source": [
    "counter9 = count_kmers_proteome(human, k, clean=True)\n",
    "human9 = set(counter9)\n",
    "Nhuman = len(human9)"
   ]
  },
  {
   "cell_type": "code",
   "execution_count": 44,
   "metadata": {},
   "outputs": [],
   "source": [
    "counterm9 = count_kmers_proteome(proteome_path('Mouse'), k, clean=True)\n",
    "mouse9 = set(counterm9)"
   ]
  },
  {
   "cell_type": "code",
   "execution_count": 65,
   "metadata": {},
   "outputs": [
    {
     "data": {
      "text/plain": [
       "Homo sapiens                                                    208781\n",
       "Mus musculus C57BL/6                                             29792\n",
       "Mus musculus BALB/c                                              20713\n",
       "Mus musculus                                                      5414\n",
       "Homo sapiens Caucasian                                            3969\n",
       "Rattus norvegicus Lewis                                           3708\n",
       "Mus musculus SJL                                                  3507\n",
       "Mus musculus C57BL/6 HLA-A*0201/Kb Tg X BALB/c                    2901\n",
       "Bos taurus                                                        2143\n",
       "Mus musculus NOD                                                  2055\n",
       "Mus musculus C3H/He                                               2048\n",
       "Pan troglodytes                                                   1497\n",
       "Sus scrofa Landrace X Large White                                 1330\n",
       "Mus musculus C57BL/6 X BALB/c                                     1251\n",
       "Mus musculus HLA-DR1 Tg                                           1236\n",
       "Macaca mulatta                                                    1214\n",
       "Mus musculus C57BL/10                                             1160\n",
       "Mus musculus HLA-DR4 Tg                                           1059\n",
       "Mus musculus A/J                                                   990\n",
       "Mus musculus HLA-DR3 Tg                                            978\n",
       "Mus musculus HLA-A*0201/Db-human b2m Tg (HHD)                      834\n",
       "Mus musculus B10.BR                                                789\n",
       "Mus musculus HLA-A*0201 Tg                                         788\n",
       "Mus musculus HLA-A2 Tg                                             768\n",
       "Mus musculus HLA-DQ8 Tg                                            761\n",
       "Mus musculus CBA                                                   737\n",
       "Mus musculus DBA/1                                                 684\n",
       "Mus musculus HLA-DRB1*1501 Tg                                      673\n",
       "Mus musculus IFNR null                                             577\n",
       "Mus musculus HLA-DR2 Tg                                            576\n",
       "                                                                 ...  \n",
       "Mus musculus B6.CAS3                                                 1\n",
       "Oncorhynchus mykiss                                                  1\n",
       "Mus musculus C3K TCR Tg                                              1\n",
       "Mus musculus BALB/c X B10.BR                                         1\n",
       "Rattus norvegicus WAG                                                1\n",
       "Rattus norvegicus LEWIS.1F                                           1\n",
       "Rattus norvegicus LEWIS.1AR1                                         1\n",
       "Mus musculus BALB/c Factor IX null                                   1\n",
       "Mus musculus BXSB                                                    1\n",
       "Mus musculus beta2m null                                             1\n",
       "Mus musculus Pten fl/fl GBC                                          1\n",
       "Mus musculus NOD-Ealpha Tg                                           1\n",
       "Mus musculus C57BL/10 X C3H/HeJ                                      1\n",
       "Mus musculus C57BL/6 OX40 null                                       1\n",
       "Rattus norvegicus LEWIS.1WR1                                         1\n",
       "Mus musculus Flu (PR8) HA Tg                                         1\n",
       "Mus musculus F1sc H-2b scid chimera                                  1\n",
       "Mus musculus APP/TGF-beta1                                           1\n",
       "Rattus norvegicus LEWIS.1AR2                                         1\n",
       "Mus musculus NOD HLA-B*0702 Tg                                       1\n",
       "Mus musculus OF1                                                     1\n",
       "Mus musculus B6.129P2-B2m tm1Unc/J                                   1\n",
       "Bos taurus Holstein X Charolais                                      1\n",
       "Mus musculus B6.129S2-Cd28tm1Mak                                     1\n",
       "Mus musculus L9.6 TCR Tg                                             1\n",
       "Mus musculus CBA X AKR                                               1\n",
       "Mus musculus C3H.JK                                                  1\n",
       "Mus musculus RIP-B7 H2d/d                                            1\n",
       "Mus musculus RIP-OVA                                                 1\n",
       "Mus musculus C57BL/6 HLA-B27 Tg human beta2m Tg human CD8 Tg         1\n",
       "Name: (Host, Name), Length: 587, dtype: int64"
      ]
     },
     "execution_count": 65,
     "metadata": {},
     "output_type": "execute_result"
    }
   ],
   "source": [
    "df_t['Host', 'Name'].value_counts()"
   ]
  },
  {
   "cell_type": "code",
   "execution_count": 41,
   "metadata": {},
   "outputs": [
    {
     "data": {
      "text/plain": [
       "(104748, 212825)"
      ]
     },
     "execution_count": 41,
     "metadata": {},
     "output_type": "execute_result"
    }
   ],
   "source": [
    "np.sum(df_t['Host', 'Name'].str.contains('Mus musculus', na=False)), np.sum(df_t['Host', 'Name'].str.contains('Homo sapiens', na=False))"
   ]
  },
  {
   "cell_type": "code",
   "execution_count": 35,
   "metadata": {},
   "outputs": [
    {
     "data": {
      "text/plain": [
       "Administration in vivo                                                             15122\n",
       "Occurrence of infectious disease                                                    5965\n",
       "Exposure with existing immune reactivity without evidence for disease               3684\n",
       "Environmental exposure to endemic/ubiquitous agent without evidence for disease     2664\n",
       "No immunization                                                                      994\n",
       "Documented exposure without evidence for disease                                     244\n",
       "Exposure without evidence for disease                                                147\n",
       "Occurrence of autoimmune disease                                                      94\n",
       "Occurrence of cancer                                                                  89\n",
       "Occurrence of allergy                                                                 55\n",
       "Occurrence of disease                                                                 24\n",
       "Unknown                                                                               17\n",
       "Transplant/transfusion                                                                16\n",
       "Name: (1st in vivo Process, Process Type), dtype: int64"
      ]
     },
     "execution_count": 35,
     "metadata": {},
     "output_type": "execute_result"
    }
   ],
   "source": [
    "# only human hosts\n",
    "mask = df_t['Host', 'Name'].str.contains('Homo sapiens', na=False)\n",
    "# no human epitopes or epitopes of unknown provenance\n",
    "mask &= ~df_t['Epitope', 'Parent Species'].str.contains('Homo sapiens', na=True)\n",
    "# only epitopes of length 9\n",
    "mask &= df_t['Epitope', 'Description'].apply(len)==9\n",
    "d = df_t[mask]\n",
    "d['1st in vivo Process', 'Process Type'].value_counts()"
   ]
  },
  {
   "cell_type": "code",
   "execution_count": 112,
   "metadata": {},
   "outputs": [
    {
     "data": {
      "text/plain": [
       "Mus musculus                                   11569\n",
       "Vaccinia virus                                  9686\n",
       "Homo sapiens                                    9411\n",
       "Influenza A virus                               6885\n",
       "Lymphocytic choriomeningitis mammarenavirus     5211\n",
       "Name: (Epitope, Parent Species), dtype: int64"
      ]
     },
     "execution_count": 112,
     "metadata": {},
     "output_type": "execute_result"
    }
   ],
   "source": [
    "mask = df_t['Host', 'Name'].str.contains('Mus musculus', na=False)\n",
    "df_t[mask]['Epitope', 'Parent Species'].value_counts().head()"
   ]
  },
  {
   "cell_type": "markdown",
   "metadata": {},
   "source": [
    "## Response frequency as a function of distance"
   ]
  },
  {
   "cell_type": "code",
   "execution_count": 185,
   "metadata": {},
   "outputs": [],
   "source": [
    "# only specified hosts\n",
    "mask = df_t['Host', 'Name'].str.contains(host, na=False)\n",
    "#mask &= ~df_t['Host', 'Name'].str.contains('HLA', na=False)\n",
    "# only epitopes of length 9\n",
    "mask &= df_t['Epitope', 'Description'].apply(len)==9\n",
    "# no host epitopes or epitopes of unknown provenance\n",
    "mask &= ~df_t['Epitope', 'Parent Species'].str.contains(host, na=True)\n",
    "#mask &= ~df_t['Epitope', 'Parent Species'].str.contains('Homo sapiens', na=True)\n",
    "d = df_t[mask]"
   ]
  },
  {
   "cell_type": "code",
   "execution_count": 146,
   "metadata": {},
   "outputs": [],
   "source": [
    "dg = d.groupby(('Epitope', 'Description'))"
   ]
  },
  {
   "cell_type": "code",
   "execution_count": 186,
   "metadata": {},
   "outputs": [],
   "source": [
    "d.columns = [' '.join(col).strip() for col in d.columns.values]"
   ]
  },
  {
   "cell_type": "code",
   "execution_count": 187,
   "metadata": {},
   "outputs": [
    {
     "name": "stderr",
     "output_type": "stream",
     "text": [
      "/home/amayer/.conda/envs/py3/lib/python3.6/site-packages/ipykernel_launcher.py:1: SettingWithCopyWarning: \n",
      "A value is trying to be set on a copy of a slice from a DataFrame.\n",
      "Try using .loc[row_indexer,col_indexer] = value instead\n",
      "\n",
      "See the caveats in the documentation: http://pandas.pydata.org/pandas-docs/stable/indexing.html#indexing-view-versus-copy\n",
      "  \"\"\"Entry point for launching an IPython kernel.\n"
     ]
    }
   ],
   "source": [
    "d['Assay Qualitative Measure'] = d['Assay Qualitative Measure'] == 'Negative'"
   ]
  },
  {
   "cell_type": "code",
   "execution_count": 188,
   "metadata": {},
   "outputs": [],
   "source": [
    "dfaq = d.groupby('Epitope Description')['Assay Qualitative Measure'].mean()"
   ]
  },
  {
   "cell_type": "code",
   "execution_count": 197,
   "metadata": {},
   "outputs": [
    {
     "data": {
      "image/png": "[encoded data removed]",
      "text/plain": [
       "<Figure size 1026x690 with 1 Axes>"
      ]
     },
     "metadata": {},
     "output_type": "display_data"
    }
   ],
   "source": [
    "plt.hist(dfaq);"
   ]
  },
  {
   "cell_type": "code",
   "execution_count": 141,
   "metadata": {},
   "outputs": [],
   "source": [
    "host = 'Homo sapiens'\n",
    "exclude = host\n",
    "selfset = human9"
   ]
  },
  {
   "cell_type": "code",
   "execution_count": 138,
   "metadata": {},
   "outputs": [],
   "source": [
    "host = 'Mus musculus C57BL/6'\n",
    "exclude = 'Mus musculus'\n",
    "selfset = mouse9"
   ]
  },
  {
   "cell_type": "code",
   "execution_count": 142,
   "metadata": {},
   "outputs": [
    {
     "data": {
      "text/plain": [
       "(array([  46,  185, 3728, 4569]),\n",
       " array([0.2173913 , 0.36216216, 0.33127682, 0.27205078]))"
      ]
     },
     "execution_count": 142,
     "metadata": {},
     "output_type": "execute_result"
    }
   ],
   "source": [
    "# only specified hosts\n",
    "mask = df_t['Host', 'Name'].str.match(host, na=False)\n",
    "# only epitopes of length 9\n",
    "mask &= df_t['Epitope', 'Description'].apply(len)==9\n",
    "# no host epitopes or epitopes of unknown provenance\n",
    "mask &= ~df_t['Epitope', 'Parent Species'].str.contains(exclude, na=True)\n",
    "d = df_t[mask]\n",
    "# uniquify epitopes by keeping only the first one\n",
    "d = d.groupby(('Epitope', 'Description')).apply(lambda x: x.iloc[0])\n",
    "d0 = d['Epitope', 'Description'].apply(lambda x: x in selfset)\n",
    "count0 = np.sum(d0)\n",
    "d1 = d['Epitope', 'Description'].apply(lambda x: dist1(x, selfset)) & (~d0)\n",
    "count1 = np.sum(d1)\n",
    "d2 = d['Epitope', 'Description'].apply(lambda x: dist2(x, selfset)) & (~d0) & (~d1)\n",
    "count2 = np.sum(d2)\n",
    "pos0 = d[d0][~(d[d0]['Assay', 'Qualitative Measure'] == 'Negative')].shape[0]\n",
    "pos1 = d[d1][~(d[d1]['Assay', 'Qualitative Measure'] == 'Negative')].shape[0]\n",
    "pos2 = d[d2][~(d[d2]['Assay', 'Qualitative Measure'] == 'Negative')].shape[0]\n",
    "posall = d[(~(d['Assay', 'Qualitative Measure'] == 'Negative')) & (~d0) & (~d1) & (~d2)].shape[0]\n",
    "ns = np.array([count0, count1, count2, d.shape[0]-count0-count1-count2])\n",
    "ps = np.array([pos0, pos1, pos2, posall])/ns\n",
    "ns, ps"
   ]
  },
  {
   "cell_type": "code",
   "execution_count": 195,
   "metadata": {},
   "outputs": [
    {
     "data": {
      "image/png": "[encoded data removed]",
      "text/plain": [
       "<Figure size 750x525 with 1 Axes>"
      ]
     },
     "metadata": {},
     "output_type": "display_data"
    }
   ],
   "source": [
    "fig, ax = plt.subplots(figsize=(2.5, 1.75))\n",
    "ax.errorbar(range(4), ps, (ps*(1-ps)/ns)**.5)\n",
    "ax.set_ylim(0, 0.45)\n",
    "ax.set_xlabel('Distance to self')\n",
    "ax.set_ylabel('Fraction positive assays')\n",
    "fig.tight_layout()\n",
    "fig.savefig('main.png')"
   ]
  },
  {
   "cell_type": "markdown",
   "metadata": {},
   "source": [
    "## Nearest neighbor frequencies using human statistics"
   ]
  },
  {
   "cell_type": "code",
   "execution_count": 16,
   "metadata": {},
   "outputs": [
    {
     "name": "stdout",
     "output_type": "stream",
     "text": [
      "9.474078309212544e-12 1.953125e-12\n",
      "3.33984375e-10 1.3444607123350628e-09\n"
     ]
    }
   ],
   "source": [
    "df = Counter(human, 1).to_df(norm=True, clean=True)\n",
    "paa = np.asarray(df['freq'])\n",
    "paa\n",
    "pi = paa\n",
    "\n",
    "psigmas = []\n",
    "nsigmas = []\n",
    "Nsample = 1000000\n",
    "for i in range(Nsample):\n",
    "    sigma = np.random.randint(0, S, k)\n",
    "    psigma = np.prod(pi[sigma])\n",
    "    nsigma = np.prod(pi[sigma])*(np.sum(1/pi[sigma]) - k)\n",
    "    psigmas.append(psigma)\n",
    "    nsigmas.append(nsigma)\n",
    "nsigmas = np.asarray(nsigmas)\n",
    "psigmas = np.asarray(psigmas)\n",
    "\n",
    "p0 = 1/Ntot\n",
    "pp = Ntot*np.mean(psigmas**2)\n",
    "print(pp, p0)\n",
    "n0 = Nn/Ntot\n",
    "n = Ntot*np.mean(psigmas*nsigmas)\n",
    "print(n0, n)"
   ]
  },
  {
   "cell_type": "code",
   "execution_count": 17,
   "metadata": {},
   "outputs": [],
   "source": [
    "tripletparams = calc_tripletmodelparams(human)"
   ]
  },
  {
   "cell_type": "code",
   "execution_count": 18,
   "metadata": {},
   "outputs": [],
   "source": [
    "ptri = lambda seq: 10**loglikelihood_triplet(map_numbertoaa(seq), **tripletparams)\n"
   ]
  },
  {
   "cell_type": "code",
   "execution_count": 19,
   "metadata": {},
   "outputs": [
    {
     "data": {
      "text/plain": [
       "1.5912738049778017e-11"
      ]
     },
     "execution_count": 19,
     "metadata": {},
     "output_type": "execute_result"
    }
   ],
   "source": [
    "psigmas = []\n",
    "Nsample = 1000000\n",
    "for i in range(Nsample):\n",
    "    sigma = np.random.randint(0, S, k)\n",
    "    psigma = ptri(sigma)\n",
    "    psigmas.append(psigma)\n",
    "    nsigma = np.prod(pi[sigma])*(np.sum(1/pi[sigma]) - k)\n",
    "psigmas = np.asarray(psigmas)\n",
    "\n",
    "pptri = Ntot*np.mean(psigmas**2)\n",
    "pptri"
   ]
  },
  {
   "cell_type": "code",
   "execution_count": 20,
   "metadata": {},
   "outputs": [],
   "source": [
    "def neighbors(sigma, S):\n",
    "    for i in range(len(sigma)):\n",
    "        for s in range(S):\n",
    "            if not sigma[i] == s:\n",
    "                yield np.asarray(list(sigma[:i]) + [s] + list(sigma[i+1:]))"
   ]
  },
  {
   "cell_type": "code",
   "execution_count": 21,
   "metadata": {},
   "outputs": [
    {
     "name": "stdout",
     "output_type": "stream",
     "text": [
      "1.3753106944309698e-11 1.0350289240422766e-11\n"
     ]
    }
   ],
   "source": [
    "psigmas = []\n",
    "nsigmas = []\n",
    "Nsample = 10000\n",
    "for i in range(Nsample):\n",
    "    sigma = np.random.randint(0, S, k)\n",
    "    psigma = ptri(sigma)\n",
    "    nsigma = np.sum(np.fromiter((ptri(sigmap) for sigmap in neighbors(sigma, S)), np.float))\n",
    "    psigmas.append(psigma)\n",
    "    nsigmas.append(nsigma)\n",
    "psigmas = np.asarray(psigmas)\n",
    "nsigmas = np.asarray(nsigmas)\n",
    "\n",
    "pptri = Ntot*np.mean(psigmas**2)\n",
    "ntri = Ntot*np.mean(psigmas*nsigmas)\n",
    "print(pptri, ntri/Nn)"
   ]
  },
  {
   "cell_type": "code",
   "execution_count": 34,
   "metadata": {},
   "outputs": [],
   "source": [
    "# only human hosts\n",
    "mask = df_t['Host', 'Name'].str.contains('Homo sapiens', na=False)\n",
    "# no epitopes of unknown provenance\n",
    "mask &= ~df_t['Epitope', 'Parent Species'].isna()\n",
    "# only epitopes of length 9\n",
    "mask &= df_t['Epitope', 'Description'].apply(len)==9\n",
    "\n",
    "mask_noh = mask[:]\n",
    "mask_noh &= ~df_t['Epitope', 'Parent Species'].str.contains('Homo sapiens', na=True)\n",
    "mask1 = mask_noh[:]\n",
    "mask1 &= ~(df_t['Assay', 'Qualitative Measure'] == 'Negative')\n",
    "mask2 = mask_noh[:]\n",
    "mask2 &= df_t['Assay', 'Qualitative Measure'] == 'Negative'\n",
    "\n",
    "mask_noh &= ~(df_t['Assay', 'Qualitative Measure'] == 'Negative')\n",
    "mask3 = mask_noh[:]\n",
    "mask3 &= df_t['1st in vivo Process', 'Process Type'] == 'Occurrence of infectious disease'\n",
    "mask4 = mask_noh[:]\n",
    "mask4 &= df_t['1st in vivo Process', 'Process Type'] == 'Occurrence of allergy'\n",
    "mask5 = mask.copy()\n",
    "mask5 &= ~(df_t['Assay', 'Qualitative Measure'] == 'Negative')\n",
    "mask5 &= df_t['1st in vivo Process', 'Process Type'] == 'Occurrence of autoimmune disease'\n",
    "mask5 &= df_t['Epitope', 'Parent Species'].str.contains('Homo sapiens', na=False)\n",
    "mask6 = mask[:]\n",
    "mask6 &= ~(df_t['Assay', 'Qualitative Measure'] == 'Negative')\n",
    "mask6 &= (df_t['1st in vivo Process', 'Process Type'] == 'Occurrence of cancer')"
   ]
  },
  {
   "cell_type": "code",
   "execution_count": 9,
   "metadata": {},
   "outputs": [
    {
     "data": {
      "text/plain": [
       "(11349410, 10401757)"
      ]
     },
     "execution_count": 9,
     "metadata": {},
     "output_type": "execute_result"
    }
   ],
   "source": [
    "Nhuman_tot = sum(val for val in counter9.values())\n",
    "Nhuman_tot, Nhuman"
   ]
  },
  {
   "cell_type": "code",
   "execution_count": 28,
   "metadata": {},
   "outputs": [
    {
     "name": "stdout",
     "output_type": "stream",
     "text": [
      "positive\n"
     ]
    },
    {
     "name": "stderr",
     "output_type": "stream",
     "text": [
      "/home/amayer/.conda/envs/py3/lib/python3.6/site-packages/ipykernel_launcher.py:10: UserWarning: Boolean Series key will be reindexed to match DataFrame index.\n",
      "  # Remove the CWD from sys.path while we load stuff.\n"
     ]
    },
    {
     "ename": "IndexingError",
     "evalue": "Unalignable boolean Series provided as indexer (index of the boolean Series and of the indexed object do not match",
     "output_type": "error",
     "traceback": [
      "\u001b[0;31m---------------------------------------------------------------------------\u001b[0m",
      "\u001b[0;31mIndexingError\u001b[0m                             Traceback (most recent call last)",
      "\u001b[0;32m<ipython-input-28-1786c2b0696f>\u001b[0m in \u001b[0;36m<module>\u001b[0;34m\u001b[0m\n\u001b[1;32m      8\u001b[0m     \u001b[0mprint\u001b[0m\u001b[0;34m(\u001b[0m\u001b[0mname\u001b[0m\u001b[0;34m)\u001b[0m\u001b[0;34m\u001b[0m\u001b[0;34m\u001b[0m\u001b[0m\n\u001b[1;32m      9\u001b[0m     \u001b[0max\u001b[0m \u001b[0;34m=\u001b[0m \u001b[0maxes\u001b[0m\u001b[0;34m[\u001b[0m\u001b[0mi\u001b[0m\u001b[0;34m]\u001b[0m\u001b[0;34m\u001b[0m\u001b[0;34m\u001b[0m\u001b[0m\n\u001b[0;32m---> 10\u001b[0;31m     \u001b[0md\u001b[0m \u001b[0;34m=\u001b[0m \u001b[0mdf_t\u001b[0m\u001b[0;34m[\u001b[0m\u001b[0mmask\u001b[0m\u001b[0;34m]\u001b[0m\u001b[0;34m\u001b[0m\u001b[0;34m\u001b[0m\u001b[0m\n\u001b[0m\u001b[1;32m     11\u001b[0m     \u001b[0md0\u001b[0m \u001b[0;34m=\u001b[0m \u001b[0md\u001b[0m\u001b[0;34m[\u001b[0m\u001b[0;34m'Epitope'\u001b[0m\u001b[0;34m,\u001b[0m \u001b[0;34m'Description'\u001b[0m\u001b[0;34m]\u001b[0m\u001b[0;34m.\u001b[0m\u001b[0mapply\u001b[0m\u001b[0;34m(\u001b[0m\u001b[0;32mlambda\u001b[0m \u001b[0mx\u001b[0m\u001b[0;34m:\u001b[0m \u001b[0mx\u001b[0m \u001b[0;32min\u001b[0m \u001b[0mhuman9\u001b[0m\u001b[0;34m)\u001b[0m\u001b[0;34m\u001b[0m\u001b[0;34m\u001b[0m\u001b[0m\n\u001b[1;32m     12\u001b[0m     \u001b[0mcount0\u001b[0m \u001b[0;34m=\u001b[0m \u001b[0mnp\u001b[0m\u001b[0;34m.\u001b[0m\u001b[0msum\u001b[0m\u001b[0;34m(\u001b[0m\u001b[0md0\u001b[0m\u001b[0;34m)\u001b[0m\u001b[0;34m\u001b[0m\u001b[0;34m\u001b[0m\u001b[0m\n",
      "\u001b[0;32m~/.conda/envs/py3/lib/python3.6/site-packages/pandas/core/frame.py\u001b[0m in \u001b[0;36m__getitem__\u001b[0;34m(self, key)\u001b[0m\n\u001b[1;32m   2916\u001b[0m         \u001b[0;31m# Do we have a (boolean) 1d indexer?\u001b[0m\u001b[0;34m\u001b[0m\u001b[0;34m\u001b[0m\u001b[0;34m\u001b[0m\u001b[0m\n\u001b[1;32m   2917\u001b[0m         \u001b[0;32mif\u001b[0m \u001b[0mcom\u001b[0m\u001b[0;34m.\u001b[0m\u001b[0mis_bool_indexer\u001b[0m\u001b[0;34m(\u001b[0m\u001b[0mkey\u001b[0m\u001b[0;34m)\u001b[0m\u001b[0;34m:\u001b[0m\u001b[0;34m\u001b[0m\u001b[0;34m\u001b[0m\u001b[0m\n\u001b[0;32m-> 2918\u001b[0;31m             \u001b[0;32mreturn\u001b[0m \u001b[0mself\u001b[0m\u001b[0;34m.\u001b[0m\u001b[0m_getitem_bool_array\u001b[0m\u001b[0;34m(\u001b[0m\u001b[0mkey\u001b[0m\u001b[0;34m)\u001b[0m\u001b[0;34m\u001b[0m\u001b[0;34m\u001b[0m\u001b[0m\n\u001b[0m\u001b[1;32m   2919\u001b[0m \u001b[0;34m\u001b[0m\u001b[0m\n\u001b[1;32m   2920\u001b[0m         \u001b[0;31m# We are left with two options: a single key, and a collection of keys,\u001b[0m\u001b[0;34m\u001b[0m\u001b[0;34m\u001b[0m\u001b[0;34m\u001b[0m\u001b[0m\n",
      "\u001b[0;32m~/.conda/envs/py3/lib/python3.6/site-packages/pandas/core/frame.py\u001b[0m in \u001b[0;36m_getitem_bool_array\u001b[0;34m(self, key)\u001b[0m\n\u001b[1;32m   2965\u001b[0m         \u001b[0;31m# check_bool_indexer will throw exception if Series key cannot\u001b[0m\u001b[0;34m\u001b[0m\u001b[0;34m\u001b[0m\u001b[0;34m\u001b[0m\u001b[0m\n\u001b[1;32m   2966\u001b[0m         \u001b[0;31m# be reindexed to match DataFrame rows\u001b[0m\u001b[0;34m\u001b[0m\u001b[0;34m\u001b[0m\u001b[0;34m\u001b[0m\u001b[0m\n\u001b[0;32m-> 2967\u001b[0;31m         \u001b[0mkey\u001b[0m \u001b[0;34m=\u001b[0m \u001b[0mcheck_bool_indexer\u001b[0m\u001b[0;34m(\u001b[0m\u001b[0mself\u001b[0m\u001b[0;34m.\u001b[0m\u001b[0mindex\u001b[0m\u001b[0;34m,\u001b[0m \u001b[0mkey\u001b[0m\u001b[0;34m)\u001b[0m\u001b[0;34m\u001b[0m\u001b[0;34m\u001b[0m\u001b[0m\n\u001b[0m\u001b[1;32m   2968\u001b[0m         \u001b[0mindexer\u001b[0m \u001b[0;34m=\u001b[0m \u001b[0mkey\u001b[0m\u001b[0;34m.\u001b[0m\u001b[0mnonzero\u001b[0m\u001b[0;34m(\u001b[0m\u001b[0;34m)\u001b[0m\u001b[0;34m[\u001b[0m\u001b[0;36m0\u001b[0m\u001b[0;34m]\u001b[0m\u001b[0;34m\u001b[0m\u001b[0;34m\u001b[0m\u001b[0m\n\u001b[1;32m   2969\u001b[0m         \u001b[0;32mreturn\u001b[0m \u001b[0mself\u001b[0m\u001b[0;34m.\u001b[0m\u001b[0m_take\u001b[0m\u001b[0;34m(\u001b[0m\u001b[0mindexer\u001b[0m\u001b[0;34m,\u001b[0m \u001b[0maxis\u001b[0m\u001b[0;34m=\u001b[0m\u001b[0;36m0\u001b[0m\u001b[0;34m)\u001b[0m\u001b[0;34m\u001b[0m\u001b[0;34m\u001b[0m\u001b[0m\n",
      "\u001b[0;32m~/.conda/envs/py3/lib/python3.6/site-packages/pandas/core/indexing.py\u001b[0m in \u001b[0;36mcheck_bool_indexer\u001b[0;34m(ax, key)\u001b[0m\n\u001b[1;32m   2484\u001b[0m         \u001b[0mmask\u001b[0m \u001b[0;34m=\u001b[0m \u001b[0misna\u001b[0m\u001b[0;34m(\u001b[0m\u001b[0mresult\u001b[0m\u001b[0;34m.\u001b[0m\u001b[0m_values\u001b[0m\u001b[0;34m)\u001b[0m\u001b[0;34m\u001b[0m\u001b[0;34m\u001b[0m\u001b[0m\n\u001b[1;32m   2485\u001b[0m         \u001b[0;32mif\u001b[0m \u001b[0mmask\u001b[0m\u001b[0;34m.\u001b[0m\u001b[0many\u001b[0m\u001b[0;34m(\u001b[0m\u001b[0;34m)\u001b[0m\u001b[0;34m:\u001b[0m\u001b[0;34m\u001b[0m\u001b[0;34m\u001b[0m\u001b[0m\n\u001b[0;32m-> 2486\u001b[0;31m             raise IndexingError('Unalignable boolean Series provided as '\n\u001b[0m\u001b[1;32m   2487\u001b[0m                                 \u001b[0;34m'indexer (index of the boolean Series and of '\u001b[0m\u001b[0;34m\u001b[0m\u001b[0;34m\u001b[0m\u001b[0m\n\u001b[1;32m   2488\u001b[0m                                 'the indexed object do not match')\n",
      "\u001b[0;31mIndexingError\u001b[0m: Unalignable boolean Series provided as indexer (index of the boolean Series and of the indexed object do not match"
     ]
    },
    {
     "data": {
      "image/png": "[encoded data removed]",
      "text/plain": [
       "<Figure size 246.24x576 with 4 Axes>"
      ]
     },
     "metadata": {
      "needs_background": "light"
     },
     "output_type": "display_data"
    }
   ],
   "source": [
    "cases = [('positive', mask1),\n",
    "         ('negative', mask2),\n",
    "         ('pos infectious', mask3),\n",
    "         ('pos cancer', mask6),\n",
    "        ]\n",
    "fig, axes = plt.subplots(figsize=(3.42, 2.0*len(cases)), nrows=len(cases), sharex=False)\n",
    "for i, (name, mask) in enumerate(cases):\n",
    "    print(name)\n",
    "    ax = axes[i]\n",
    "    d = df_t[mask]\n",
    "    d0 = d['Epitope', 'Description'].apply(lambda x: x in human9)\n",
    "    count0 = np.sum(d0)\n",
    "    count1 = np.sum(d['Epitope', 'Description'].apply(lambda x: dist1(x, human9)) & (~d0))\n",
    "    print(count0, count1)\n",
    "    ax.axvline(count1/d.shape[0], c='k')\n",
    "    ax.set_title(name + ' N = %g' % d.shape[0])\n",
    "    xmax = 0.05\n",
    "    x = np.arange(0, xmax*d.shape[0])\n",
    "    Ncomp = d.shape[0]*Nhuman\n",
    "    mu = Ncomp*n0\n",
    "    ax.plot(x/d.shape[0], poisson.pmf(x, mu), '-', ms=8, label='flat')\n",
    "    mu = Ncomp*n\n",
    "    ax.plot(x/d.shape[0], poisson.pmf(x, mu), '-', ms=8, label='independent')\n",
    "    mu = Ncomp*ntri\n",
    "    ax.plot(x/d.shape[0], poisson.pmf(x, mu), '-', ms=8, label='tri')\n",
    "    ax.set_ylim(0.0)\n",
    "    ax.set_xlim(0.0, xmax)\n",
    "    ax.set_yticks([])\n",
    "ax.set_xlabel('Peptides at distance 1 to self')\n",
    "fig.tight_layout()"
   ]
  },
  {
   "cell_type": "code",
   "execution_count": 23,
   "metadata": {},
   "outputs": [],
   "source": [
    "def nndist_probability(k, N):\n",
    "    K = 20**k\n",
    "    d = np.arange(0, k+1)\n",
    "    Nc = lambda d: 19**d * falling_factorial(k, d+1)\n",
    "    Ncs = Nc(d)\n",
    "    cumulative = [0]\n",
    "    cumulative.extend(1-np.exp(-np.cumsum(Ncs)*N/K))\n",
    "    p = np.diff(cumulative)\n",
    "    return d, p"
   ]
  },
  {
   "cell_type": "code",
   "execution_count": 196,
   "metadata": {},
   "outputs": [
    {
     "data": {
      "image/png": "[encoded data removed]",
      "text/plain": [
       "<Figure size 600x450 with 1 Axes>"
      ]
     },
     "metadata": {},
     "output_type": "display_data"
    }
   ],
   "source": [
    "fig, ax = plt.subplots(figsize=(2, 1.5))\n",
    "N = len(human9)\n",
    "k = 9\n",
    "d, p = nndist_probability(k, N)\n",
    "ax.plot(d[:4], [p[0], p[1], p[2], np.sum(p[3:])], '-o', label='uniform')\n",
    "ax.plot(range(4), ns/np.sum(ns), '-o', label='epitopes')\n",
    "#ax.plot([0, 1], [pptri*N, ntri*N], '-o')\n",
    "ax.set_ylim(1e-5, 1)\n",
    "ax.legend()\n",
    "ax.set_yscale('log')\n",
    "ax.set_ylabel('Fraction')\n",
    "ax.set_xlabel('Distance to self')\n",
    "fig.savefig('neighbors.png')"
   ]
  },
  {
   "cell_type": "markdown",
   "metadata": {},
   "source": [
    "# Analysis of flu epitopes"
   ]
  },
  {
   "cell_type": "code",
   "execution_count": null,
   "metadata": {},
   "outputs": [],
   "source": [
    "fluepis = df_t[df_t['Epitope', 'Parent Species'] == 'Influenza A virus']#['Epitope', 'Description'].unique()\n",
    "fluepis.shape"
   ]
  },
  {
   "cell_type": "code",
   "execution_count": null,
   "metadata": {},
   "outputs": [],
   "source": [
    "fluepis['Epitope', 'Description'].unique().shape"
   ]
  },
  {
   "cell_type": "code",
   "execution_count": null,
   "metadata": {},
   "outputs": [],
   "source": [
    "plt.hist([len(s) for s in fluepis['Epitope', 'Description'].unique()], bins=np.arange(8, 21))"
   ]
  },
  {
   "cell_type": "code",
   "execution_count": null,
   "metadata": {},
   "outputs": [],
   "source": [
    "nchunks = 100\n",
    "btdist = BallTreeDist(human9, nchunks=nchunks)"
   ]
  },
  {
   "cell_type": "code",
   "execution_count": null,
   "metadata": {},
   "outputs": [],
   "source": [
    "fludists = [btdist.mindist(e) for e in fluepis[fluepis['Epitope', 'Description'].apply(len)==9]]"
   ]
  },
  {
   "cell_type": "code",
   "execution_count": null,
   "metadata": {},
   "outputs": [],
   "source": [
    "proteomes = load_proteomes()\n"
   ]
  },
  {
   "cell_type": "code",
   "execution_count": null,
   "metadata": {},
   "outputs": [],
   "source": [
    "df_flua = counter_to_df(count_kmers_proteome(datadir + proteomes.loc['InfluenzaA']['path'], 9), norm=True)\n",
    "df_flua.head()"
   ]
  },
  {
   "cell_type": "code",
   "execution_count": null,
   "metadata": {},
   "outputs": [],
   "source": [
    "distss = []\n",
    "for i in range(3):\n",
    "    peptides = np.random.choice(df_flua['seq'], size=len(fludists), replace=False, p=df_flua['freq'])\n",
    "    dists = [btdist.mindist(e) for e in peptides]\n",
    "    distss.append(dists)"
   ]
  },
  {
   "cell_type": "code",
   "execution_count": null,
   "metadata": {},
   "outputs": [],
   "source": [
    "counts = np.bincount(fludists)\n",
    "print(counts)\n",
    "plt.plot(counts, 'o')\n",
    "for d in [distss[0], distss[1], distss[2]]:\n",
    "    counts = np.bincount(d)\n",
    "    print(counts)\n",
    "    plt.plot(counts, 'kx')"
   ]
  },
  {
   "cell_type": "code",
   "execution_count": null,
   "metadata": {},
   "outputs": [],
   "source": [
    "def dists_direct(df, ref):\n",
    "    d0 = df[df['seq'].apply(lambda x: x in ref)].shape[0]/df['seq'].shape[0]\n",
    "    d1 = df[df['seq'].apply(dist1)].shape[0]/df['seq'].shape[0]\n",
    "    d2 = df[df['seq'].apply(dist2)].shape[0]/df['seq'].shape[0]\n",
    "    return d0, d1, d2"
   ]
  },
  {
   "cell_type": "code",
   "execution_count": null,
   "metadata": {},
   "outputs": [],
   "source": [
    "distsallflu = dists_direct(df_flua, human9)"
   ]
  },
  {
   "cell_type": "code",
   "execution_count": null,
   "metadata": {},
   "outputs": [],
   "source": [
    "counts = np.bincount(fludists)\n",
    "plt.plot(counts/np.sum(counts), 'o')\n",
    "plt.plot(distsallflu, 'x')\n",
    "\n",
    "N = sum(counter9.values())\n",
    "print('%e'%N)\n",
    "k = 9\n",
    "K = 20**k\n",
    "\n",
    "dists = np.arange(6)\n",
    "Nc = lambda d: 19**dists * falling_factorial(k, dists+1)\n",
    "cumulative = [0]\n",
    "cumulative.extend(1-np.exp(-Nc(dists)*N/K))\n",
    "plt.plot(dists, np.diff(cumulative), '+')\n",
    "plt.ylim(0.0)"
   ]
  },
  {
   "cell_type": "code",
   "execution_count": null,
   "metadata": {},
   "outputs": [],
   "source": [
    "hivepis = d[d['Epitope', 'Parent Species'] == 'Human immunodeficiency virus 1']['Epitope', 'Description'].unique()\n",
    "hivepis.shape"
   ]
  },
  {
   "cell_type": "code",
   "execution_count": null,
   "metadata": {},
   "outputs": [],
   "source": [
    "hivdists = [mindist_sklearn_chunked(e, bts) for e in hivepis]"
   ]
  },
  {
   "cell_type": "code",
   "execution_count": null,
   "metadata": {},
   "outputs": [],
   "source": [
    "counts = np.bincount(hivdists)\n",
    "print(counts)\n",
    "plt.plot(counts, 'x')"
   ]
  },
  {
   "cell_type": "code",
   "execution_count": null,
   "metadata": {},
   "outputs": [],
   "source": [
    "df_hiv1 = counter_to_df(count_kmers_proteome(datadir + proteomes.loc['HIV']['path'], 9), norm=True)\n",
    "df_hiv1.head()"
   ]
  },
  {
   "cell_type": "code",
   "execution_count": null,
   "metadata": {},
   "outputs": [],
   "source": [
    "distss_hiv = []\n",
    "for i in range(3):\n",
    "    peptides = np.random.choice(df_hiv1['seq'], size=len(hivdists), replace=False, p=df_hiv1['freq'])\n",
    "    dists = [mindist_sklearn_chunked(e, bts) for e in peptides]\n",
    "    distss_hiv.append(dists)"
   ]
  },
  {
   "cell_type": "code",
   "execution_count": null,
   "metadata": {},
   "outputs": [],
   "source": [
    "counts = np.bincount(hivdists)\n",
    "print(counts)\n",
    "plt.plot(counts, 'o')\n",
    "for d in distss_hiv:\n",
    "    counts = np.bincount(d)\n",
    "    print(counts)\n",
    "    plt.plot(counts, 'kx')"
   ]
  },
  {
   "cell_type": "code",
   "execution_count": null,
   "metadata": {},
   "outputs": [],
   "source": [
    "distsallhiv = dists_direct(df_hiv1, human9)"
   ]
  },
  {
   "cell_type": "code",
   "execution_count": null,
   "metadata": {},
   "outputs": [],
   "source": [
    "counts = np.bincount(hivdists)\n",
    "plt.plot(counts/np.sum(counts), 'o')\n",
    "plt.plot(distsallhiv, 'x')\n",
    "N = sum(counter9.values())\n",
    "print('%e'%N)\n",
    "k = 9\n",
    "K = 20**k\n",
    "\n",
    "dists = np.arange(6)\n",
    "Nc = lambda d: 19**dists * falling_factorial(k, dists+1)\n",
    "cumulative = [0]\n",
    "cumulative.extend(1-np.exp(-Nc(dists)*N/K))\n",
    "plt.plot(dists, np.diff(cumulative), '+')\n",
    "plt.ylim(0.0)"
   ]
  },
  {
   "cell_type": "code",
   "execution_count": null,
   "metadata": {},
   "outputs": [],
   "source": []
  }
 ],
 "metadata": {
  "kernelspec": {
   "display_name": "Python 3",
   "language": "python",
   "name": "python3"
  },
  "language_info": {
   "codemirror_mode": {
    "name": "ipython",
    "version": 3
   },
   "file_extension": ".py",
   "mimetype": "text/x-python",
   "name": "python",
   "nbconvert_exporter": "python",
   "pygments_lexer": "ipython3",
   "version": "3.6.8"
  }
 },
 "nbformat": 4,
 "nbformat_minor": 2
}
