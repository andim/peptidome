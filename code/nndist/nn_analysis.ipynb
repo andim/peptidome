{
 "cells": [
  {
   "cell_type": "code",
   "execution_count": 112,
   "metadata": {},
   "outputs": [],
   "source": [
    "import numpy as np\n",
    "import pandas as pd\n",
    "from scipy.stats import entropy\n",
    "import scipy.stats\n",
    "from scipy.stats import poisson\n",
    "import seaborn as sns\n",
    "import sklearn.neighbors\n",
    "import matplotlib.pyplot as plt\n",
    "%matplotlib inline\n",
    "\n",
    "import Levenshtein\n",
    "\n",
    "import sys\n",
    "sys.path.append('..')\n",
    "\n",
    "from lib import *"
   ]
  },
  {
   "cell_type": "code",
   "execution_count": 121,
   "metadata": {},
   "outputs": [],
   "source": [
    "df_t = load_iedb_tcellepitopes(human_only=True)"
   ]
  },
  {
   "cell_type": "code",
   "execution_count": 102,
   "metadata": {},
   "outputs": [],
   "source": [
    "S = 20\n",
    "k = 9\n",
    "\n",
    "Ntot = S**k\n",
    "Nn = k*(S-1)"
   ]
  },
  {
   "cell_type": "code",
   "execution_count": 96,
   "metadata": {},
   "outputs": [],
   "source": [
    "counter9 = count_kmers_proteome(human, k, clean=True)"
   ]
  },
  {
   "cell_type": "code",
   "execution_count": 95,
   "metadata": {},
   "outputs": [],
   "source": [
    "human9 = set(counter9)\n",
    "Nhuman = len(human9)"
   ]
  },
  {
   "cell_type": "code",
   "execution_count": 219,
   "metadata": {},
   "outputs": [
    {
     "name": "stdout",
     "output_type": "stream",
     "text": [
      "9.434007609469387e-12 1.953125e-12\n",
      "3.33984375e-10 1.3416108148668602e-09\n"
     ]
    }
   ],
   "source": [
    "df = Counter(human, 1).to_df(norm=True, clean=True)\n",
    "paa = np.asarray(df['freq'])\n",
    "paa\n",
    "pi = paa\n",
    "\n",
    "psigmas = []\n",
    "nsigmas = []\n",
    "Nsample = 1000000\n",
    "for i in range(Nsample):\n",
    "    sigma = np.random.randint(0, S, k)\n",
    "    psigma = np.prod(pi[sigma])\n",
    "    nsigma = np.prod(pi[sigma])*(np.sum(1/pi[sigma]) - k)\n",
    "    psigmas.append(psigma)\n",
    "    nsigmas.append(nsigma)\n",
    "nsigmas = np.asarray(nsigmas)\n",
    "psigmas = np.asarray(psigmas)\n",
    "\n",
    "p0 = 1/N\n",
    "pp = N*np.mean(psigmas**2)\n",
    "print(pp, p0)\n",
    "n0 = Nn/N\n",
    "n = N*np.mean(psigmas*nsigmas)\n",
    "print(n0, n)"
   ]
  },
  {
   "cell_type": "code",
   "execution_count": 224,
   "metadata": {},
   "outputs": [],
   "source": [
    "tripletparams = calc_tripletmodelparams(human)"
   ]
  },
  {
   "cell_type": "code",
   "execution_count": 225,
   "metadata": {},
   "outputs": [],
   "source": [
    "ptri = lambda seq: 10**loglikelihood_triplet(map_numbertoaa(seq), **tripletparams)\n"
   ]
  },
  {
   "cell_type": "code",
   "execution_count": 236,
   "metadata": {},
   "outputs": [
    {
     "data": {
      "text/plain": [
       "1.7097412056519943e-11"
      ]
     },
     "execution_count": 236,
     "metadata": {},
     "output_type": "execute_result"
    }
   ],
   "source": [
    "psigmas = []\n",
    "Nsample = 1000000\n",
    "for i in range(Nsample):\n",
    "    sigma = np.random.randint(0, S, k)\n",
    "    psigma = ptri(sigma)\n",
    "    psigmas.append(psigma)\n",
    "    nsigma = np.prod(pi[sigma])*(np.sum(1/pi[sigma]) - k)\n",
    "psigmas = np.asarray(psigmas)\n",
    "\n",
    "pptri = N*np.mean(psigmas**2)\n",
    "pptri"
   ]
  },
  {
   "cell_type": "code",
   "execution_count": 239,
   "metadata": {},
   "outputs": [],
   "source": [
    "def neighbors(sigma, S):\n",
    "    for i in range(len(sigma)):\n",
    "        for s in range(S):\n",
    "            if not sigma[i] == s:\n",
    "                yield np.asarray(list(sigma[:i]) + [s] + list(sigma[i+1:]))"
   ]
  },
  {
   "cell_type": "code",
   "execution_count": 249,
   "metadata": {},
   "outputs": [
    {
     "name": "stdout",
     "output_type": "stream",
     "text": [
      "1.8660773149397585e-11 1.3394655208517418e-11\n"
     ]
    }
   ],
   "source": [
    "psigmas = []\n",
    "nsigmas = []\n",
    "Nsample = 10000\n",
    "for i in range(Nsample):\n",
    "    sigma = np.random.randint(0, S, k)\n",
    "    psigma = ptri(sigma)\n",
    "    nsigma = np.sum(np.fromiter((ptri(sigmap) for sigmap in neighbors(sigma, S)), np.float))\n",
    "    psigmas.append(psigma)\n",
    "    nsigmas.append(nsigma)\n",
    "psigmas = np.asarray(psigmas)\n",
    "nsigmas = np.asarray(nsigmas)\n",
    "\n",
    "pptri = N*np.mean(psigmas**2)\n",
    "ntri = N*np.mean(psigmas*nsigmas)\n",
    "print(pptri, ntri/Nn)"
   ]
  },
  {
   "cell_type": "code",
   "execution_count": 250,
   "metadata": {},
   "outputs": [],
   "source": [
    "# no human epitopes\n",
    "mask = ~df_t['Epitope', 'Parent Species'].str.contains('Homo sapiens', na=False)\n",
    "# no epitopes of unknown provenance\n",
    "mask &= ~df_t['Epitope', 'Parent Species'].isna()\n",
    "# only epitopes of length 9\n",
    "mask &= df_t['Epitope', 'Description'].apply(len)==9\n",
    "# only infectious disease epitopes\n",
    "#mask &= df_t['1st in vivo Process', 'Process Type'] == 'Occurrence of infectious disease'\n",
    "d = df_t[mask]"
   ]
  },
  {
   "cell_type": "code",
   "execution_count": 160,
   "metadata": {},
   "outputs": [
    {
     "data": {
      "text/plain": [
       "Administration in vivo                                                             15122\n",
       "Occurrence of infectious disease                                                    5965\n",
       "Exposure with existing immune reactivity without evidence for disease               3684\n",
       "Environmental exposure to endemic/ubiquitous agent without evidence for disease     2664\n",
       "No immunization                                                                      994\n",
       "Documented exposure without evidence for disease                                     244\n",
       "Exposure without evidence for disease                                                147\n",
       "Occurrence of autoimmune disease                                                      94\n",
       "Occurrence of cancer                                                                  89\n",
       "Occurrence of allergy                                                                 55\n",
       "Occurrence of disease                                                                 24\n",
       "Unknown                                                                               17\n",
       "Transplant/transfusion                                                                16\n",
       "Name: (1st in vivo Process, Process Type), dtype: int64"
      ]
     },
     "execution_count": 160,
     "metadata": {},
     "output_type": "execute_result"
    }
   ],
   "source": [
    "d['1st in vivo Process', 'Process Type'].value_counts()"
   ]
  },
  {
   "cell_type": "code",
   "execution_count": 123,
   "metadata": {},
   "outputs": [],
   "source": [
    "d0 = d[d['Epitope', 'Description'].apply(lambda x: x in human9)]\n",
    "#d0.head()"
   ]
  },
  {
   "cell_type": "code",
   "execution_count": 124,
   "metadata": {
    "scrolled": true
   },
   "outputs": [
    {
     "data": {
      "text/plain": [
       "array(['Mycobacterium tuberculosis', 'Chlamydia trachomatis',\n",
       "       'Cavia porcellus', 'Human endogenous retrovirus K',\n",
       "       'Leishmania major', 'Human betaherpesvirus 5'], dtype=object)"
      ]
     },
     "execution_count": 124,
     "metadata": {},
     "output_type": "execute_result"
    }
   ],
   "source": [
    "d0['Epitope', 'Parent Species'].unique()"
   ]
  },
  {
   "cell_type": "code",
   "execution_count": 125,
   "metadata": {},
   "outputs": [
    {
     "data": {
      "text/plain": [
       "(20, 0.12118453223632814, 0.5836514365473207)"
      ]
     },
     "execution_count": 125,
     "metadata": {},
     "output_type": "execute_result"
    }
   ],
   "source": [
    "d0.shape[0], Nhuman*d.shape[0]*p0, Nhuman*d.shape[0]*pp"
   ]
  },
  {
   "cell_type": "code",
   "execution_count": 126,
   "metadata": {},
   "outputs": [],
   "source": [
    "def dist1(x):\n",
    "    for i in range(len(x)):\n",
    "        for aa in aminoacids:\n",
    "            if aa == x[i]:\n",
    "                continue\n",
    "            if x[:i]+aa+x[i+1:] in human9:\n",
    "                return True\n",
    "    return False"
   ]
  },
  {
   "cell_type": "code",
   "execution_count": 127,
   "metadata": {},
   "outputs": [
    {
     "data": {
      "text/plain": [
       "array(['Hepatitis B virus', 'Mycobacterium tuberculosis', 'Hepacivirus C',\n",
       "       'Borreliella burgdorferi', 'Plasmodium falciparum',\n",
       "       'Plasmodium vivax', 'Chlamydia trachomatis',\n",
       "       'Human gammaherpesvirus 4', 'Human metapneumovirus',\n",
       "       'Trypanosoma cruzi', 'Human alphaherpesvirus 3',\n",
       "       'Mycobacterium kansasii', 'Human alphaherpesvirus 1',\n",
       "       'Alphapapillomavirus 9', 'Toxoplasma gondii',\n",
       "       'Mycobacterium leprae', 'Human endogenous retrovirus K',\n",
       "       'Dengue virus', 'Leishmania major',\n",
       "       'Human immunodeficiency virus 1', 'Human betaherpesvirus 5'],\n",
       "      dtype=object)"
      ]
     },
     "execution_count": 127,
     "metadata": {},
     "output_type": "execute_result"
    }
   ],
   "source": [
    "d1 = d[d['Epitope', 'Description'].apply(dist1)]\n",
    "d1['Epitope', 'Parent Species'].unique()"
   ]
  },
  {
   "cell_type": "code",
   "execution_count": 128,
   "metadata": {},
   "outputs": [
    {
     "data": {
      "text/plain": [
       "(20.722555012412112, 82.9801147764068)"
      ]
     },
     "execution_count": 128,
     "metadata": {},
     "output_type": "execute_result"
    }
   ],
   "source": [
    "Ncomp = d.shape[0]*len(human9)\n",
    "Ncomp*n0, Ncomp*n"
   ]
  },
  {
   "cell_type": "code",
   "execution_count": 221,
   "metadata": {},
   "outputs": [],
   "source": [
    "# no human epitopes\n",
    "#mask = ~df_t['Epitope', 'Parent Species'].str.contains('Homo sapiens', na=False)\n",
    "# no epitopes of unknown provenance\n",
    "mask = ~df_t['Epitope', 'Parent Species'].isna()\n",
    "# only epitopes of length 9\n",
    "mask &= df_t['Epitope', 'Description'].apply(len)==9\n",
    "\n",
    "mask_noh = mask[:]\n",
    "mask_noh &= ~df_t['Epitope', 'Parent Species'].str.contains('Homo sapiens', na=False)\n",
    "mask1 = mask_noh[:]\n",
    "mask1 &= ~(df_t['Assay', 'Qualitative Measure'] == 'Negative')\n",
    "mask2 = mask_noh[:]\n",
    "mask2 &= df_t['Assay', 'Qualitative Measure'] == 'Negative'\n",
    "\n",
    "mask &= ~(df_t['Assay', 'Qualitative Measure'] == 'Negative')\n",
    "mask3 = mask[:]\n",
    "mask3 &= df_t['1st in vivo Process', 'Process Type'] == 'Occurrence of infectious disease'\n",
    "mask4 = mask[:]\n",
    "mask4 &= df_t['1st in vivo Process', 'Process Type'] == 'Occurrence of allergy'\n",
    "mask5 = mask[:]\n",
    "mask5 &= df_t['1st in vivo Process', 'Process Type'] == 'Occurrence of autoimmune disease'"
   ]
  },
  {
   "cell_type": "code",
   "execution_count": 248,
   "metadata": {},
   "outputs": [
    {
     "name": "stdout",
     "output_type": "stream",
     "text": [
      "1.953125e-12 1.5024306502489725e-11 7.84567727992316e-12\n",
      "positive\n",
      "2.1276913165079495e-10\n",
      "1.338827986293891e-11\n",
      "negative\n",
      "4.747003249449207e-10\n",
      "1.1545741555677896e-11\n",
      "infectious\n",
      "1.4783293331297674e-09\n",
      "1.8371051654390385e-11\n",
      "allergy\n",
      "2.9580801367721598e-08\n",
      "9.514292837571274e-11\n",
      "autoimmune\n",
      "8.438745279069467e-08\n",
      "9.786587413730722e-11\n"
     ]
    },
    {
     "data": {
      "image/png": "[encoded data removed]",
      "text/plain": [
       "<Figure size 246.24x720 with 5 Axes>"
      ]
     },
     "metadata": {
      "needs_background": "light"
     },
     "output_type": "display_data"
    }
   ],
   "source": [
    "cases = [('positive', mask1),\n",
    "         ('negative', mask2),\n",
    "         ('infectious', mask3),\n",
    "         ('allergy', mask4),\n",
    "         ('autoimmune', mask5),\n",
    "        ]\n",
    "fig, axes = plt.subplots(figsize=(3.42, 2.0*len(cases)), nrows=len(cases), sharex=False)\n",
    "print(1/N, pp, n/Nn)\n",
    "for i, (name, mask) in enumerate(cases):\n",
    "    print(name)\n",
    "    ax = axes[i]\n",
    "    d = df_t[mask]\n",
    "    count0 = d[d['Epitope', 'Description'].apply(lambda x: x in human9)].shape[0]\n",
    "    print(count0/(d.shape[0]*Nhuman))\n",
    "    count1 = d[d['Epitope', 'Description'].apply(dist1)].shape[0] \n",
    "    print(count1/(d.shape[0]*Nhuman*Nn))\n",
    "    ax.axvline(count1, c='k')\n",
    "    ax.set_title(name + ' N = %g' % d.shape[0])\n",
    "    x = np.arange(0, count1*1.5)\n",
    "    Ncomp = d.shape[0]*Nhuman\n",
    "    mu = Ncomp*n0\n",
    "    ax.plot(x, poisson.pmf(x, mu), '-', ms=8, label='flat')\n",
    "    mu = Ncomp*n\n",
    "    ax.plot(x, poisson.pmf(x, mu), '-', ms=8, label='independent')\n",
    "    mu = Ncomp*ntri\n",
    "    ax.plot(x, poisson.pmf(x, mu), '-', ms=8, label='tri')\n",
    "    #ax.legend()\n",
    "    ax.set_ylim(0.0)\n",
    "    ax.set_xlim(min(x), max(x))\n",
    "    ax.set_yticks([])\n",
    "ax.set_xlabel('Peptides at distance 1 to self')\n",
    "fig.tight_layout()"
   ]
  },
  {
   "cell_type": "markdown",
   "metadata": {},
   "source": [
    "# Analysis of flu epitopes"
   ]
  },
  {
   "cell_type": "code",
   "execution_count": 14,
   "metadata": {},
   "outputs": [
    {
     "data": {
      "text/plain": [
       "(3024, 141)"
      ]
     },
     "execution_count": 14,
     "metadata": {},
     "output_type": "execute_result"
    }
   ],
   "source": [
    "fluepis = df_t[df_t['Epitope', 'Parent Species'] == 'Influenza A virus']#['Epitope', 'Description'].unique()\n",
    "fluepis.shape"
   ]
  },
  {
   "cell_type": "code",
   "execution_count": 15,
   "metadata": {},
   "outputs": [
    {
     "data": {
      "text/plain": [
       "(1266,)"
      ]
     },
     "execution_count": 15,
     "metadata": {},
     "output_type": "execute_result"
    }
   ],
   "source": [
    "fluepis['Epitope', 'Description'].unique().shape"
   ]
  },
  {
   "cell_type": "code",
   "execution_count": 16,
   "metadata": {},
   "outputs": [
    {
     "data": {
      "text/plain": [
       "(array([ 13., 114.,  58.,  27.,  14.,  65.,  31.,  86.,  53., 314., 234.,\n",
       "        196.]),\n",
       " array([ 8,  9, 10, 11, 12, 13, 14, 15, 16, 17, 18, 19, 20]),\n",
       " <a list of 12 Patch objects>)"
      ]
     },
     "execution_count": 16,
     "metadata": {},
     "output_type": "execute_result"
    },
    {
     "data": {
      "image/png": "[encoded data removed]",
      "text/plain": [
       "<Figure size 432x288 with 1 Axes>"
      ]
     },
     "metadata": {
      "needs_background": "light"
     },
     "output_type": "display_data"
    }
   ],
   "source": [
    "plt.hist([len(s) for s in fluepis['Epitope', 'Description'].unique()], bins=np.arange(8, 21))"
   ]
  },
  {
   "cell_type": "code",
   "execution_count": 18,
   "metadata": {},
   "outputs": [],
   "source": [
    "nchunks = 100\n",
    "btdist = BallTreeDist(human9, nchunks=nchunks)"
   ]
  },
  {
   "cell_type": "code",
   "execution_count": 19,
   "metadata": {},
   "outputs": [
    {
     "ename": "KeyError",
     "evalue": "'Reference'",
     "output_type": "error",
     "traceback": [
      "\u001b[0;31m---------------------------------------------------------------------------\u001b[0m",
      "\u001b[0;31mKeyError\u001b[0m                                  Traceback (most recent call last)",
      "\u001b[0;32m<ipython-input-19-0eb73821c06c>\u001b[0m in \u001b[0;36m<module>\u001b[0;34m\u001b[0m\n\u001b[0;32m----> 1\u001b[0;31m \u001b[0mfludists\u001b[0m \u001b[0;34m=\u001b[0m \u001b[0;34m[\u001b[0m\u001b[0mbtdist\u001b[0m\u001b[0;34m.\u001b[0m\u001b[0mmindist\u001b[0m\u001b[0;34m(\u001b[0m\u001b[0me\u001b[0m\u001b[0;34m)\u001b[0m \u001b[0;32mfor\u001b[0m \u001b[0me\u001b[0m \u001b[0;32min\u001b[0m \u001b[0mfluepis\u001b[0m\u001b[0;34m[\u001b[0m\u001b[0mfluepis\u001b[0m\u001b[0;34m[\u001b[0m\u001b[0;34m'Epitope'\u001b[0m\u001b[0;34m,\u001b[0m \u001b[0;34m'Description'\u001b[0m\u001b[0;34m]\u001b[0m\u001b[0;34m.\u001b[0m\u001b[0mapply\u001b[0m\u001b[0;34m(\u001b[0m\u001b[0mlen\u001b[0m\u001b[0;34m)\u001b[0m\u001b[0;34m==\u001b[0m\u001b[0;36m9\u001b[0m\u001b[0;34m]\u001b[0m\u001b[0;34m]\u001b[0m\u001b[0;34m\u001b[0m\u001b[0;34m\u001b[0m\u001b[0m\n\u001b[0m",
      "\u001b[0;32m<ipython-input-19-0eb73821c06c>\u001b[0m in \u001b[0;36m<listcomp>\u001b[0;34m(.0)\u001b[0m\n\u001b[0;32m----> 1\u001b[0;31m \u001b[0mfludists\u001b[0m \u001b[0;34m=\u001b[0m \u001b[0;34m[\u001b[0m\u001b[0mbtdist\u001b[0m\u001b[0;34m.\u001b[0m\u001b[0mmindist\u001b[0m\u001b[0;34m(\u001b[0m\u001b[0me\u001b[0m\u001b[0;34m)\u001b[0m \u001b[0;32mfor\u001b[0m \u001b[0me\u001b[0m \u001b[0;32min\u001b[0m \u001b[0mfluepis\u001b[0m\u001b[0;34m[\u001b[0m\u001b[0mfluepis\u001b[0m\u001b[0;34m[\u001b[0m\u001b[0;34m'Epitope'\u001b[0m\u001b[0;34m,\u001b[0m \u001b[0;34m'Description'\u001b[0m\u001b[0;34m]\u001b[0m\u001b[0;34m.\u001b[0m\u001b[0mapply\u001b[0m\u001b[0;34m(\u001b[0m\u001b[0mlen\u001b[0m\u001b[0;34m)\u001b[0m\u001b[0;34m==\u001b[0m\u001b[0;36m9\u001b[0m\u001b[0;34m]\u001b[0m\u001b[0;34m]\u001b[0m\u001b[0;34m\u001b[0m\u001b[0;34m\u001b[0m\u001b[0m\n\u001b[0m",
      "\u001b[0;32m~/repos/peptidome/code/lib/neighbors.py\u001b[0m in \u001b[0;36mmindist\u001b[0;34m(self, sequence)\u001b[0m\n\u001b[1;32m     17\u001b[0m \u001b[0;34m\u001b[0m\u001b[0m\n\u001b[1;32m     18\u001b[0m     \u001b[0;32mdef\u001b[0m \u001b[0mmindist\u001b[0m\u001b[0;34m(\u001b[0m\u001b[0mself\u001b[0m\u001b[0;34m,\u001b[0m \u001b[0msequence\u001b[0m\u001b[0;34m)\u001b[0m\u001b[0;34m:\u001b[0m\u001b[0;34m\u001b[0m\u001b[0;34m\u001b[0m\u001b[0m\n\u001b[0;32m---> 19\u001b[0;31m         \u001b[0msequence_number\u001b[0m\u001b[0;34m=\u001b[0m \u001b[0mmap_aatonumber\u001b[0m\u001b[0;34m(\u001b[0m\u001b[0msequence\u001b[0m\u001b[0;34m)\u001b[0m\u001b[0;34m.\u001b[0m\u001b[0mreshape\u001b[0m\u001b[0;34m(\u001b[0m\u001b[0;36m1\u001b[0m\u001b[0;34m,\u001b[0m \u001b[0;34m-\u001b[0m\u001b[0;36m1\u001b[0m\u001b[0;34m)\u001b[0m\u001b[0;34m\u001b[0m\u001b[0;34m\u001b[0m\u001b[0m\n\u001b[0m\u001b[1;32m     20\u001b[0m         \u001b[0md\u001b[0m \u001b[0;34m=\u001b[0m \u001b[0mmin\u001b[0m\u001b[0;34m(\u001b[0m\u001b[0mbt\u001b[0m\u001b[0;34m.\u001b[0m\u001b[0mquery\u001b[0m\u001b[0;34m(\u001b[0m\u001b[0msequence_number\u001b[0m\u001b[0;34m)\u001b[0m\u001b[0;34m[\u001b[0m\u001b[0;36m0\u001b[0m\u001b[0;34m]\u001b[0m \u001b[0;32mfor\u001b[0m \u001b[0mbt\u001b[0m \u001b[0;32min\u001b[0m \u001b[0mself\u001b[0m\u001b[0;34m.\u001b[0m\u001b[0mbts\u001b[0m\u001b[0;34m)\u001b[0m\u001b[0;34m\u001b[0m\u001b[0;34m\u001b[0m\u001b[0m\n\u001b[1;32m     21\u001b[0m         \u001b[0;32mreturn\u001b[0m \u001b[0mint\u001b[0m\u001b[0;34m(\u001b[0m\u001b[0md\u001b[0m\u001b[0;34m*\u001b[0m\u001b[0mlen\u001b[0m\u001b[0;34m(\u001b[0m\u001b[0msequence\u001b[0m\u001b[0;34m)\u001b[0m\u001b[0;34m)\u001b[0m\u001b[0;34m\u001b[0m\u001b[0;34m\u001b[0m\u001b[0m\n",
      "\u001b[0;32m~/repos/peptidome/code/lib/main.py\u001b[0m in \u001b[0;36mmap_aatonumber\u001b[0;34m(seq)\u001b[0m\n\u001b[1;32m    357\u001b[0m     \"\"\"\n\u001b[1;32m    358\u001b[0m     \u001b[0mseq\u001b[0m \u001b[0;34m=\u001b[0m \u001b[0mnp\u001b[0m\u001b[0;34m.\u001b[0m\u001b[0marray\u001b[0m\u001b[0;34m(\u001b[0m\u001b[0mlist\u001b[0m\u001b[0;34m(\u001b[0m\u001b[0mseq\u001b[0m\u001b[0;34m)\u001b[0m\u001b[0;34m)\u001b[0m\u001b[0;34m\u001b[0m\u001b[0;34m\u001b[0m\u001b[0m\n\u001b[0;32m--> 359\u001b[0;31m     \u001b[0;32mreturn\u001b[0m \u001b[0mnp\u001b[0m\u001b[0;34m.\u001b[0m\u001b[0mvectorize\u001b[0m\u001b[0;34m(\u001b[0m\u001b[0m_aatonumber\u001b[0m\u001b[0;34m.\u001b[0m\u001b[0m__getitem__\u001b[0m\u001b[0;34m)\u001b[0m\u001b[0;34m(\u001b[0m\u001b[0mseq\u001b[0m\u001b[0;34m)\u001b[0m\u001b[0;34m\u001b[0m\u001b[0;34m\u001b[0m\u001b[0m\n\u001b[0m\u001b[1;32m    360\u001b[0m \u001b[0;34m\u001b[0m\u001b[0m\n\u001b[1;32m    361\u001b[0m \u001b[0;32mdef\u001b[0m \u001b[0mmap_numbertoaa\u001b[0m\u001b[0;34m(\u001b[0m\u001b[0mseq\u001b[0m\u001b[0;34m)\u001b[0m\u001b[0;34m:\u001b[0m\u001b[0;34m\u001b[0m\u001b[0;34m\u001b[0m\u001b[0m\n",
      "\u001b[0;32m~/.conda/envs/py3/lib/python3.6/site-packages/numpy/lib/function_base.py\u001b[0m in \u001b[0;36m__call__\u001b[0;34m(self, *args, **kwargs)\u001b[0m\n\u001b[1;32m   2089\u001b[0m             \u001b[0mvargs\u001b[0m\u001b[0;34m.\u001b[0m\u001b[0mextend\u001b[0m\u001b[0;34m(\u001b[0m\u001b[0;34m[\u001b[0m\u001b[0mkwargs\u001b[0m\u001b[0;34m[\u001b[0m\u001b[0m_n\u001b[0m\u001b[0;34m]\u001b[0m \u001b[0;32mfor\u001b[0m \u001b[0m_n\u001b[0m \u001b[0;32min\u001b[0m \u001b[0mnames\u001b[0m\u001b[0;34m]\u001b[0m\u001b[0;34m)\u001b[0m\u001b[0;34m\u001b[0m\u001b[0;34m\u001b[0m\u001b[0m\n\u001b[1;32m   2090\u001b[0m \u001b[0;34m\u001b[0m\u001b[0m\n\u001b[0;32m-> 2091\u001b[0;31m         \u001b[0;32mreturn\u001b[0m \u001b[0mself\u001b[0m\u001b[0;34m.\u001b[0m\u001b[0m_vectorize_call\u001b[0m\u001b[0;34m(\u001b[0m\u001b[0mfunc\u001b[0m\u001b[0;34m=\u001b[0m\u001b[0mfunc\u001b[0m\u001b[0;34m,\u001b[0m \u001b[0margs\u001b[0m\u001b[0;34m=\u001b[0m\u001b[0mvargs\u001b[0m\u001b[0;34m)\u001b[0m\u001b[0;34m\u001b[0m\u001b[0;34m\u001b[0m\u001b[0m\n\u001b[0m\u001b[1;32m   2092\u001b[0m \u001b[0;34m\u001b[0m\u001b[0m\n\u001b[1;32m   2093\u001b[0m     \u001b[0;32mdef\u001b[0m \u001b[0m_get_ufunc_and_otypes\u001b[0m\u001b[0;34m(\u001b[0m\u001b[0mself\u001b[0m\u001b[0;34m,\u001b[0m \u001b[0mfunc\u001b[0m\u001b[0;34m,\u001b[0m \u001b[0margs\u001b[0m\u001b[0;34m)\u001b[0m\u001b[0;34m:\u001b[0m\u001b[0;34m\u001b[0m\u001b[0;34m\u001b[0m\u001b[0m\n",
      "\u001b[0;32m~/.conda/envs/py3/lib/python3.6/site-packages/numpy/lib/function_base.py\u001b[0m in \u001b[0;36m_vectorize_call\u001b[0;34m(self, func, args)\u001b[0m\n\u001b[1;32m   2159\u001b[0m             \u001b[0mres\u001b[0m \u001b[0;34m=\u001b[0m \u001b[0mfunc\u001b[0m\u001b[0;34m(\u001b[0m\u001b[0;34m)\u001b[0m\u001b[0;34m\u001b[0m\u001b[0;34m\u001b[0m\u001b[0m\n\u001b[1;32m   2160\u001b[0m         \u001b[0;32melse\u001b[0m\u001b[0;34m:\u001b[0m\u001b[0;34m\u001b[0m\u001b[0;34m\u001b[0m\u001b[0m\n\u001b[0;32m-> 2161\u001b[0;31m             \u001b[0mufunc\u001b[0m\u001b[0;34m,\u001b[0m \u001b[0motypes\u001b[0m \u001b[0;34m=\u001b[0m \u001b[0mself\u001b[0m\u001b[0;34m.\u001b[0m\u001b[0m_get_ufunc_and_otypes\u001b[0m\u001b[0;34m(\u001b[0m\u001b[0mfunc\u001b[0m\u001b[0;34m=\u001b[0m\u001b[0mfunc\u001b[0m\u001b[0;34m,\u001b[0m \u001b[0margs\u001b[0m\u001b[0;34m=\u001b[0m\u001b[0margs\u001b[0m\u001b[0;34m)\u001b[0m\u001b[0;34m\u001b[0m\u001b[0;34m\u001b[0m\u001b[0m\n\u001b[0m\u001b[1;32m   2162\u001b[0m \u001b[0;34m\u001b[0m\u001b[0m\n\u001b[1;32m   2163\u001b[0m             \u001b[0;31m# Convert args to object arrays first\u001b[0m\u001b[0;34m\u001b[0m\u001b[0;34m\u001b[0m\u001b[0;34m\u001b[0m\u001b[0m\n",
      "\u001b[0;32m~/.conda/envs/py3/lib/python3.6/site-packages/numpy/lib/function_base.py\u001b[0m in \u001b[0;36m_get_ufunc_and_otypes\u001b[0;34m(self, func, args)\u001b[0m\n\u001b[1;32m   2119\u001b[0m \u001b[0;34m\u001b[0m\u001b[0m\n\u001b[1;32m   2120\u001b[0m             \u001b[0minputs\u001b[0m \u001b[0;34m=\u001b[0m \u001b[0;34m[\u001b[0m\u001b[0marg\u001b[0m\u001b[0;34m.\u001b[0m\u001b[0mflat\u001b[0m\u001b[0;34m[\u001b[0m\u001b[0;36m0\u001b[0m\u001b[0;34m]\u001b[0m \u001b[0;32mfor\u001b[0m \u001b[0marg\u001b[0m \u001b[0;32min\u001b[0m \u001b[0margs\u001b[0m\u001b[0;34m]\u001b[0m\u001b[0;34m\u001b[0m\u001b[0;34m\u001b[0m\u001b[0m\n\u001b[0;32m-> 2121\u001b[0;31m             \u001b[0moutputs\u001b[0m \u001b[0;34m=\u001b[0m \u001b[0mfunc\u001b[0m\u001b[0;34m(\u001b[0m\u001b[0;34m*\u001b[0m\u001b[0minputs\u001b[0m\u001b[0;34m)\u001b[0m\u001b[0;34m\u001b[0m\u001b[0;34m\u001b[0m\u001b[0m\n\u001b[0m\u001b[1;32m   2122\u001b[0m \u001b[0;34m\u001b[0m\u001b[0m\n\u001b[1;32m   2123\u001b[0m             \u001b[0;31m# Performance note: profiling indicates that -- for simple\u001b[0m\u001b[0;34m\u001b[0m\u001b[0;34m\u001b[0m\u001b[0;34m\u001b[0m\u001b[0m\n",
      "\u001b[0;31mKeyError\u001b[0m: 'Reference'"
     ]
    }
   ],
   "source": [
    "fludists = [btdist.mindist(e) for e in fluepis[fluepis['Epitope', 'Description'].apply(len)==9]]"
   ]
  },
  {
   "cell_type": "code",
   "execution_count": null,
   "metadata": {},
   "outputs": [],
   "source": [
    "proteomes = load_proteomes()\n"
   ]
  },
  {
   "cell_type": "code",
   "execution_count": null,
   "metadata": {},
   "outputs": [],
   "source": [
    "df_flua = counter_to_df(count_kmers_proteome(datadir + proteomes.loc['InfluenzaA']['path'], 9), norm=True)\n",
    "df_flua.head()"
   ]
  },
  {
   "cell_type": "code",
   "execution_count": null,
   "metadata": {},
   "outputs": [],
   "source": [
    "distss = []\n",
    "for i in range(3):\n",
    "    peptides = np.random.choice(df_flua['seq'], size=len(fludists), replace=False, p=df_flua['freq'])\n",
    "    dists = [btdist.mindist(e) for e in peptides]\n",
    "    distss.append(dists)"
   ]
  },
  {
   "cell_type": "code",
   "execution_count": null,
   "metadata": {},
   "outputs": [],
   "source": [
    "counts = np.bincount(fludists)\n",
    "print(counts)\n",
    "plt.plot(counts, 'o')\n",
    "for d in [distss[0], distss[1], distss[2]]:\n",
    "    counts = np.bincount(d)\n",
    "    print(counts)\n",
    "    plt.plot(counts, 'kx')"
   ]
  },
  {
   "cell_type": "code",
   "execution_count": null,
   "metadata": {},
   "outputs": [],
   "source": [
    "def dist2(x):\n",
    "    for i in range(len(x)):\n",
    "        for j in range(i+1, len(x)):\n",
    "            for aai in aminoacids:\n",
    "                si = x[:i]+aai+x[i+1:]\n",
    "                for aaj in aminoacids:\n",
    "                    if (aai == x[i]) and (aaj == x[j]):\n",
    "                        continue\n",
    "                    if si[:j]+aaj+si[j+1:] in human9:\n",
    "                        return True\n",
    "    return False"
   ]
  },
  {
   "cell_type": "code",
   "execution_count": null,
   "metadata": {},
   "outputs": [],
   "source": [
    "def dists_direct(df, ref):\n",
    "    d0 = df[df['seq'].apply(lambda x: x in ref)].shape[0]/df['seq'].shape[0]\n",
    "    d1 = df[df['seq'].apply(dist1)].shape[0]/df['seq'].shape[0]\n",
    "    d2 = df[df['seq'].apply(dist2)].shape[0]/df['seq'].shape[0]\n",
    "    return d0, d1, d2"
   ]
  },
  {
   "cell_type": "code",
   "execution_count": null,
   "metadata": {},
   "outputs": [],
   "source": [
    "distsallflu = dists_direct(df_flua, human9)"
   ]
  },
  {
   "cell_type": "code",
   "execution_count": null,
   "metadata": {},
   "outputs": [],
   "source": [
    "counts = np.bincount(fludists)\n",
    "plt.plot(counts/np.sum(counts), 'o')\n",
    "plt.plot(distsallflu, 'x')\n",
    "\n",
    "N = sum(counter9.values())\n",
    "print('%e'%N)\n",
    "k = 9\n",
    "K = 20**k\n",
    "\n",
    "dists = np.arange(6)\n",
    "Nc = lambda d: 19**dists * falling_factorial(k, dists+1)\n",
    "cumulative = [0]\n",
    "cumulative.extend(1-np.exp(-Nc(dists)*N/K))\n",
    "plt.plot(dists, np.diff(cumulative), '+')\n",
    "plt.ylim(0.0)"
   ]
  },
  {
   "cell_type": "code",
   "execution_count": null,
   "metadata": {},
   "outputs": [],
   "source": [
    "hivepis = d[d['Epitope', 'Parent Species'] == 'Human immunodeficiency virus 1']['Epitope', 'Description'].unique()\n",
    "hivepis.shape"
   ]
  },
  {
   "cell_type": "code",
   "execution_count": null,
   "metadata": {},
   "outputs": [],
   "source": [
    "hivdists = [mindist_sklearn_chunked(e, bts) for e in hivepis]"
   ]
  },
  {
   "cell_type": "code",
   "execution_count": null,
   "metadata": {},
   "outputs": [],
   "source": [
    "counts = np.bincount(hivdists)\n",
    "print(counts)\n",
    "plt.plot(counts, 'x')"
   ]
  },
  {
   "cell_type": "code",
   "execution_count": null,
   "metadata": {},
   "outputs": [],
   "source": [
    "df_hiv1 = counter_to_df(count_kmers_proteome(datadir + proteomes.loc['HIV']['path'], 9), norm=True)\n",
    "df_hiv1.head()"
   ]
  },
  {
   "cell_type": "code",
   "execution_count": null,
   "metadata": {},
   "outputs": [],
   "source": [
    "distss_hiv = []\n",
    "for i in range(3):\n",
    "    peptides = np.random.choice(df_hiv1['seq'], size=len(hivdists), replace=False, p=df_hiv1['freq'])\n",
    "    dists = [mindist_sklearn_chunked(e, bts) for e in peptides]\n",
    "    distss_hiv.append(dists)"
   ]
  },
  {
   "cell_type": "code",
   "execution_count": null,
   "metadata": {},
   "outputs": [],
   "source": [
    "counts = np.bincount(hivdists)\n",
    "print(counts)\n",
    "plt.plot(counts, 'o')\n",
    "for d in distss_hiv:\n",
    "    counts = np.bincount(d)\n",
    "    print(counts)\n",
    "    plt.plot(counts, 'kx')"
   ]
  },
  {
   "cell_type": "code",
   "execution_count": null,
   "metadata": {},
   "outputs": [],
   "source": [
    "distsallhiv = dists_direct(df_hiv1, human9)"
   ]
  },
  {
   "cell_type": "code",
   "execution_count": null,
   "metadata": {},
   "outputs": [],
   "source": [
    "counts = np.bincount(hivdists)\n",
    "plt.plot(counts/np.sum(counts), 'o')\n",
    "plt.plot(distsallhiv, 'x')\n",
    "N = sum(counter9.values())\n",
    "print('%e'%N)\n",
    "k = 9\n",
    "K = 20**k\n",
    "\n",
    "dists = np.arange(6)\n",
    "Nc = lambda d: 19**dists * falling_factorial(k, dists+1)\n",
    "cumulative = [0]\n",
    "cumulative.extend(1-np.exp(-Nc(dists)*N/K))\n",
    "plt.plot(dists, np.diff(cumulative), '+')\n",
    "plt.ylim(0.0)"
   ]
  },
  {
   "cell_type": "code",
   "execution_count": null,
   "metadata": {},
   "outputs": [],
   "source": []
  }
 ],
 "metadata": {
  "kernelspec": {
   "display_name": "Python 3",
   "language": "python",
   "name": "python3"
  },
  "language_info": {
   "codemirror_mode": {
    "name": "ipython",
    "version": 3
   },
   "file_extension": ".py",
   "mimetype": "text/x-python",
   "name": "python",
   "nbconvert_exporter": "python",
   "pygments_lexer": "ipython3",
   "version": "3.6.8"
  }
 },
 "nbformat": 4,
 "nbformat_minor": 2
}
