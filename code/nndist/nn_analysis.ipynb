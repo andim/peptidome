{
 "cells": [
  {
   "cell_type": "code",
   "execution_count": 1,
   "metadata": {},
   "outputs": [],
   "source": [
    "import numpy as np\n",
    "import pandas as pd\n",
    "from scipy.stats import entropy\n",
    "import scipy.stats\n",
    "from scipy.stats import poisson\n",
    "import seaborn as sns\n",
    "import sklearn.neighbors\n",
    "import matplotlib.pyplot as plt\n",
    "%matplotlib inline\n",
    "\n",
    "import Levenshtein\n",
    "\n",
    "import sys\n",
    "sys.path.append('..')\n",
    "from lib import *\n",
    "\n",
    "plt.style.use('../peptidome.mplstyle')"
   ]
  },
  {
   "cell_type": "code",
   "execution_count": 2,
   "metadata": {},
   "outputs": [],
   "source": [
    "df_t = load_iedb_tcellepitopes()"
   ]
  },
  {
   "cell_type": "code",
   "execution_count": 3,
   "metadata": {},
   "outputs": [],
   "source": [
    "S = 20\n",
    "k = 9\n",
    "\n",
    "Ntot = S**k\n",
    "Nn = k*(S-1)"
   ]
  },
  {
   "cell_type": "code",
   "execution_count": 4,
   "metadata": {},
   "outputs": [],
   "source": [
    "counter9 = count_kmers_proteome(human, k, clean=True)\n",
    "human9 = set(counter9)\n",
    "Nhuman = len(human9)"
   ]
  },
  {
   "cell_type": "code",
   "execution_count": 5,
   "metadata": {},
   "outputs": [
    {
     "data": {
      "text/plain": [
       "0.9165020031878309"
      ]
     },
     "execution_count": 5,
     "metadata": {},
     "output_type": "execute_result"
    }
   ],
   "source": [
    "Nhuman/sum(counter9.values())"
   ]
  },
  {
   "cell_type": "code",
   "execution_count": 6,
   "metadata": {},
   "outputs": [],
   "source": [
    "counterm9 = count_kmers_proteome(proteome_path('Mouse'), k, clean=True)\n",
    "mouse9 = set(counterm9)"
   ]
  },
  {
   "cell_type": "code",
   "execution_count": 7,
   "metadata": {},
   "outputs": [
    {
     "data": {
      "text/plain": [
       "Homo sapiens                   208781\n",
       "Mus musculus C57BL/6            29792\n",
       "Mus musculus BALB/c             20713\n",
       "Mus musculus                     5414\n",
       "Homo sapiens Caucasian           3969\n",
       "                                ...  \n",
       "Mus musculus beta2m null            1\n",
       "Mus musculus PLP TCR Tg             1\n",
       "Mus musculus B10.A(4R) Kbw9         1\n",
       "Mus musculus NOD-Ealpha Tg          1\n",
       "Mus musculus DbGagL TCR Tg          1\n",
       "Name: (Host, Name), Length: 587, dtype: int64"
      ]
     },
     "execution_count": 7,
     "metadata": {},
     "output_type": "execute_result"
    }
   ],
   "source": [
    "df_t['Host', 'Name'].value_counts()"
   ]
  },
  {
   "cell_type": "code",
   "execution_count": 8,
   "metadata": {},
   "outputs": [
    {
     "data": {
      "text/plain": [
       "(104748, 212825)"
      ]
     },
     "execution_count": 8,
     "metadata": {},
     "output_type": "execute_result"
    }
   ],
   "source": [
    "np.sum(df_t['Host', 'Name'].str.contains('Mus musculus', na=False)), np.sum(df_t['Host', 'Name'].str.contains('Homo sapiens', na=False))"
   ]
  },
  {
   "cell_type": "code",
   "execution_count": 9,
   "metadata": {},
   "outputs": [
    {
     "data": {
      "text/plain": [
       "Administration in vivo                                                             15122\n",
       "Occurrence of infectious disease                                                    5965\n",
       "Exposure with existing immune reactivity without evidence for disease               3684\n",
       "Environmental exposure to endemic/ubiquitous agent without evidence for disease     2664\n",
       "No immunization                                                                      994\n",
       "Documented exposure without evidence for disease                                     244\n",
       "Exposure without evidence for disease                                                147\n",
       "Occurrence of autoimmune disease                                                      94\n",
       "Occurrence of cancer                                                                  89\n",
       "Occurrence of allergy                                                                 55\n",
       "Occurrence of disease                                                                 24\n",
       "Unknown                                                                               17\n",
       "Transplant/transfusion                                                                16\n",
       "Name: (1st in vivo Process, Process Type), dtype: int64"
      ]
     },
     "execution_count": 9,
     "metadata": {},
     "output_type": "execute_result"
    }
   ],
   "source": [
    "# only human hosts\n",
    "mask = df_t['Host', 'Name'].str.contains('Homo sapiens', na=False)\n",
    "# no human epitopes or epitopes of unknown provenance\n",
    "mask &= ~df_t['Epitope', 'Parent Species'].str.contains('Homo sapiens', na=True)\n",
    "# only epitopes of length 9\n",
    "mask &= df_t['Epitope', 'Description'].apply(len)==9\n",
    "d = df_t[mask]\n",
    "d['1st in vivo Process', 'Process Type'].value_counts()"
   ]
  },
  {
   "cell_type": "code",
   "execution_count": 10,
   "metadata": {},
   "outputs": [
    {
     "data": {
      "text/plain": [
       "Mus musculus                                   11569\n",
       "Vaccinia virus                                  9686\n",
       "Homo sapiens                                    9411\n",
       "Influenza A virus                               6885\n",
       "Lymphocytic choriomeningitis mammarenavirus     5211\n",
       "Name: (Epitope, Parent Species), dtype: int64"
      ]
     },
     "execution_count": 10,
     "metadata": {},
     "output_type": "execute_result"
    }
   ],
   "source": [
    "mask = df_t['Host', 'Name'].str.contains('Mus musculus', na=False)\n",
    "df_t[mask]['Epitope', 'Parent Species'].value_counts().head()"
   ]
  },
  {
   "cell_type": "markdown",
   "metadata": {},
   "source": [
    "## Response frequency as a function of distance"
   ]
  },
  {
   "cell_type": "code",
   "execution_count": 11,
   "metadata": {},
   "outputs": [],
   "source": [
    "host = 'Homo sapiens'\n",
    "exclude = host\n",
    "selfset = human9"
   ]
  },
  {
   "cell_type": "code",
   "execution_count": 12,
   "metadata": {},
   "outputs": [],
   "source": [
    "#host = 'Mus musculus C57BL/6'\n",
    "#exclude = 'Mus musculus'\n",
    "#selfset = mouse9"
   ]
  },
  {
   "cell_type": "code",
   "execution_count": 13,
   "metadata": {},
   "outputs": [],
   "source": [
    "# only specified hosts\n",
    "mask = df_t['Host', 'Name'].str.contains(host, na=False)\n",
    "#mask &= ~df_t['Host', 'Name'].str.contains('HLA', na=False)\n",
    "# only epitopes of length 9\n",
    "mask &= df_t['Epitope', 'Description'].apply(len)==9\n",
    "# no host epitopes or epitopes of unknown provenance\n",
    "mask &= ~df_t['Epitope', 'Parent Species'].str.contains(exclude, na=True)\n",
    "d = df_t[mask]"
   ]
  },
  {
   "cell_type": "code",
   "execution_count": 14,
   "metadata": {},
   "outputs": [],
   "source": [
    "dg = d.groupby(('Epitope', 'Description'))"
   ]
  },
  {
   "cell_type": "code",
   "execution_count": 15,
   "metadata": {},
   "outputs": [],
   "source": [
    "d.columns = [' '.join(col).strip() for col in d.columns.values]"
   ]
  },
  {
   "cell_type": "code",
   "execution_count": 16,
   "metadata": {},
   "outputs": [
    {
     "name": "stderr",
     "output_type": "stream",
     "text": [
      "<ipython-input-16-34b64c3fd5f8>:1: SettingWithCopyWarning: \n",
      "A value is trying to be set on a copy of a slice from a DataFrame.\n",
      "Try using .loc[row_indexer,col_indexer] = value instead\n",
      "\n",
      "See the caveats in the documentation: https://pandas.pydata.org/pandas-docs/stable/user_guide/indexing.html#returning-a-view-versus-a-copy\n",
      "  d['Assay Qualitative Measure'] = d['Assay Qualitative Measure'] == 'Negative'\n"
     ]
    }
   ],
   "source": [
    "d['Assay Qualitative Measure'] = d['Assay Qualitative Measure'] == 'Negative'"
   ]
  },
  {
   "cell_type": "code",
   "execution_count": 17,
   "metadata": {},
   "outputs": [],
   "source": [
    "dfaq = d.groupby('Epitope Description')['Assay Qualitative Measure'].mean()"
   ]
  },
  {
   "cell_type": "code",
   "execution_count": 18,
   "metadata": {},
   "outputs": [
    {
     "data": {
      "image/png": "[encoded data removed]",
      "text/plain": [
       "<Figure size 1026x690 with 1 Axes>"
      ]
     },
     "metadata": {},
     "output_type": "display_data"
    }
   ],
   "source": [
    "plt.hist(dfaq);"
   ]
  },
  {
   "cell_type": "code",
   "execution_count": null,
   "metadata": {},
   "outputs": [],
   "source": [
    "# only specified hosts\n",
    "mask = df_t['Host', 'Name'].str.match(host, na=False)\n",
    "# only epitopes of length 9\n",
    "mask &= df_t['Epitope', 'Description'].apply(len)==9\n",
    "# no host epitopes or epitopes of unknown provenance\n",
    "mask &= ~df_t['Epitope', 'Parent Species'].str.contains(exclude, na=True)\n",
    "mask = ~(df_t['1st in vivo Process', 'Process Type'] == 'Occurrence of autoimmune disease')\n",
    "d = df_t[mask]\n",
    "# uniquify epitopes by keeping only the first one\n",
    "d = d.groupby(('Epitope', 'Description')).apply(lambda x: x.iloc[0])\n",
    "d0 = d['Epitope', 'Description'].apply(lambda x: x in selfset)\n",
    "count0 = np.sum(d0)\n",
    "d1 = d['Epitope', 'Description'].apply(lambda x: dist1(x, selfset)) & (~d0)\n",
    "count1 = np.sum(d1)\n",
    "d2 = d['Epitope', 'Description'].apply(lambda x: dist2(x, selfset)) & (~d0) & (~d1)\n",
    "count2 = np.sum(d2)\n",
    "pos0 = d[d0][~(d[d0]['Assay', 'Qualitative Measure'] == 'Negative')].shape[0]\n",
    "pos1 = d[d1][~(d[d1]['Assay', 'Qualitative Measure'] == 'Negative')].shape[0]\n",
    "pos2 = d[d2][~(d[d2]['Assay', 'Qualitative Measure'] == 'Negative')].shape[0]\n",
    "posall = d[(~(d['Assay', 'Qualitative Measure'] == 'Negative')) & (~d0) & (~d1) & (~d2)].shape[0]\n",
    "ns = np.array([count0, count1, count2, d.shape[0]-count0-count1-count2])\n",
    "ps = np.array([pos0, pos1, pos2, posall])/ns\n",
    "ns, ps"
   ]
  },
  {
   "cell_type": "code",
   "execution_count": null,
   "metadata": {},
   "outputs": [],
   "source": [
    "fig, ax = plt.subplots(figsize=(2.5, 1.75))\n",
    "ax.errorbar(range(4), ps, (ps*(1-ps)/ns)**.5)\n",
    "ax.set_ylim(0, 0.45)\n",
    "ax.set_xlabel('Distance to self')\n",
    "ax.set_ylabel('Fraction positive assay')\n",
    "fig.tight_layout()\n",
    "fig.savefig('main.png' if exclude == 'Homo sapiens' else exclude + '.png')\n",
    "fig.savefig('distance_vs_response.pdf')"
   ]
  },
  {
   "cell_type": "markdown",
   "metadata": {},
   "source": [
    "## Nearest neighbor frequencies using human statistics"
   ]
  },
  {
   "cell_type": "code",
   "execution_count": null,
   "metadata": {},
   "outputs": [],
   "source": [
    "df = Counter(human, 1).to_df(norm=True, clean=True)\n",
    "pi = np.asarray(df['freq'])\n",
    "\n",
    "psigmas = []\n",
    "nsigmas = []\n",
    "Nsample = 1000000\n",
    "for i in range(Nsample):\n",
    "    sigma = np.random.randint(0, S, k)\n",
    "    psigma = np.prod(pi[sigma])\n",
    "    nsigma = np.prod(pi[sigma])*(np.sum(1/pi[sigma]) - k)\n",
    "    psigmas.append(psigma)\n",
    "    nsigmas.append(nsigma)\n",
    "nsigmas = np.asarray(nsigmas)\n",
    "psigmas = np.asarray(psigmas)\n",
    "\n",
    "p0 = 1/Ntot\n",
    "pp = Ntot*np.mean(psigmas**2)\n",
    "print(pp, p0)\n",
    "n0 = Nn/Ntot\n",
    "n = Ntot*np.mean(psigmas*nsigmas)\n",
    "print(n0, n)"
   ]
  },
  {
   "cell_type": "code",
   "execution_count": null,
   "metadata": {},
   "outputs": [],
   "source": [
    "tripletparams = calc_tripletmodelparams(human)"
   ]
  },
  {
   "cell_type": "code",
   "execution_count": null,
   "metadata": {},
   "outputs": [],
   "source": [
    "ptri = lambda seq: 10**loglikelihood_triplet(map_numbertoaa(seq), **tripletparams)\n"
   ]
  },
  {
   "cell_type": "code",
   "execution_count": null,
   "metadata": {},
   "outputs": [],
   "source": [
    "psigmas = []\n",
    "Nsample = 1000000\n",
    "for i in range(Nsample):\n",
    "    sigma = np.random.randint(0, S, k)\n",
    "    psigma = ptri(sigma)\n",
    "    psigmas.append(psigma)\n",
    "    nsigma = np.prod(pi[sigma])*(np.sum(1/pi[sigma]) - k)\n",
    "psigmas = np.asarray(psigmas)\n",
    "\n",
    "pptri = Ntot*np.mean(psigmas**2)\n",
    "pptri"
   ]
  },
  {
   "cell_type": "code",
   "execution_count": null,
   "metadata": {},
   "outputs": [],
   "source": [
    "def neighbors(sigma, S):\n",
    "    for i in range(len(sigma)):\n",
    "        for s in range(S):\n",
    "            if not sigma[i] == s:\n",
    "                yield np.asarray(list(sigma[:i]) + [s] + list(sigma[i+1:]))"
   ]
  },
  {
   "cell_type": "code",
   "execution_count": null,
   "metadata": {},
   "outputs": [],
   "source": [
    "psigmas = []\n",
    "nsigmas = []\n",
    "Nsample = 10000\n",
    "for i in range(Nsample):\n",
    "    sigma = np.random.randint(0, S, k)\n",
    "    psigma = ptri(sigma)\n",
    "    nsigma = np.sum(np.fromiter((ptri(sigmap) for sigmap in neighbors(sigma, S)), np.float))\n",
    "    psigmas.append(psigma)\n",
    "    nsigmas.append(nsigma)\n",
    "psigmas = np.asarray(psigmas)\n",
    "nsigmas = np.asarray(nsigmas)\n",
    "\n",
    "pptri = Ntot*np.mean(psigmas**2)\n",
    "ntri = Ntot*np.mean(psigmas*nsigmas)\n",
    "print(pptri, ntri/Nn)"
   ]
  },
  {
   "cell_type": "code",
   "execution_count": null,
   "metadata": {},
   "outputs": [],
   "source": [
    "# only human hosts\n",
    "mask = df_t['Host', 'Name'].str.contains('Homo sapiens', na=False)\n",
    "# no epitopes of unknown provenance\n",
    "mask &= ~df_t['Epitope', 'Parent Species'].isna()\n",
    "# only epitopes of length 9\n",
    "mask &= df_t['Epitope', 'Description'].apply(len)==9\n",
    "\n",
    "mask_noh = mask[:]\n",
    "mask_noh &= ~df_t['Epitope', 'Parent Species'].str.contains('Homo sapiens', na=True)\n",
    "mask1 = mask_noh[:]\n",
    "mask1 &= ~(df_t['Assay', 'Qualitative Measure'] == 'Negative')\n",
    "mask2 = mask_noh[:]\n",
    "mask2 &= df_t['Assay', 'Qualitative Measure'] == 'Negative'\n",
    "\n",
    "mask_noh &= ~(df_t['Assay', 'Qualitative Measure'] == 'Negative')\n",
    "mask3 = mask_noh[:]\n",
    "mask3 &= df_t['1st in vivo Process', 'Process Type'] == 'Occurrence of infectious disease'\n",
    "mask4 = mask_noh[:]\n",
    "mask4 &= df_t['1st in vivo Process', 'Process Type'] == 'Occurrence of allergy'\n",
    "mask5 = mask.copy()\n",
    "mask5 &= ~(df_t['Assay', 'Qualitative Measure'] == 'Negative')\n",
    "mask5 &= df_t['1st in vivo Process', 'Process Type'] == 'Occurrence of autoimmune disease'\n",
    "mask5 &= df_t['Epitope', 'Parent Species'].str.contains('Homo sapiens', na=False)\n",
    "mask6 = mask[:]\n",
    "mask6 &= ~(df_t['Assay', 'Qualitative Measure'] == 'Negative')\n",
    "mask6 &= (df_t['1st in vivo Process', 'Process Type'] == 'Occurrence of cancer')"
   ]
  },
  {
   "cell_type": "code",
   "execution_count": null,
   "metadata": {},
   "outputs": [],
   "source": [
    "Nhuman_tot = sum(val for val in counter9.values())\n",
    "Nhuman_tot, Nhuman"
   ]
  },
  {
   "cell_type": "code",
   "execution_count": null,
   "metadata": {},
   "outputs": [],
   "source": [
    "cases = [('positive', mask1),\n",
    "         ('negative', mask2),\n",
    "         ('pos infectious', mask3),\n",
    "         ('pos cancer', mask6),\n",
    "        ]\n",
    "fig, axes = plt.subplots(figsize=(3.42, 2.0*len(cases)), nrows=len(cases), sharex=False)\n",
    "for i, (name, mask) in enumerate(cases):\n",
    "    print(name)\n",
    "    ax = axes[i]\n",
    "    d = df_t[mask]\n",
    "    d0 = d['Epitope', 'Description'].apply(lambda x: x in human9)\n",
    "    count0 = np.sum(d0)\n",
    "    count1 = np.sum(d['Epitope', 'Description'].apply(lambda x: dist1(x, human9)) & (~d0))\n",
    "    print(count0, count1)\n",
    "    ax.axvline(count1/d.shape[0], c='k')\n",
    "    ax.set_title(name + ' N = %g' % d.shape[0])\n",
    "    xmax = 0.05\n",
    "    x = np.arange(0, xmax*d.shape[0])\n",
    "    Ncomp = d.shape[0]*Nhuman\n",
    "    mu = Ncomp*n0\n",
    "    ax.plot(x/d.shape[0], poisson.pmf(x, mu), '-', ms=8, label='flat')\n",
    "    mu = Ncomp*n\n",
    "    ax.plot(x/d.shape[0], poisson.pmf(x, mu), '-', ms=8, label='independent')\n",
    "    mu = Ncomp*ntri\n",
    "    ax.plot(x/d.shape[0], poisson.pmf(x, mu), '-', ms=8, label='tri')\n",
    "    ax.set_ylim(0.0)\n",
    "    ax.set_xlim(0.0, xmax)\n",
    "    ax.set_yticks([])\n",
    "ax.set_xlabel('Peptides at distance 1 to self')\n",
    "fig.tight_layout()"
   ]
  },
  {
   "cell_type": "code",
   "execution_count": null,
   "metadata": {},
   "outputs": [],
   "source": [
    "def nndist_probability(k, N):\n",
    "    K = 20**k\n",
    "    d = np.arange(0, k+1)\n",
    "    Nc = lambda d: 19**d * falling_factorial(k, d+1)\n",
    "    Ncs = Nc(d)\n",
    "    cumulative = [0]\n",
    "    cumulative.extend(1-np.exp(-np.cumsum(Ncs)*N/K))\n",
    "    p = np.diff(cumulative)\n",
    "    return d, p"
   ]
  },
  {
   "cell_type": "code",
   "execution_count": null,
   "metadata": {},
   "outputs": [],
   "source": [
    "human_9mers = np.array(list(human9))"
   ]
  },
  {
   "cell_type": "code",
   "execution_count": null,
   "metadata": {},
   "outputs": [],
   "source": [
    "def distance_distribution(sample, selfset):\n",
    "    d0 = np.array([x in selfset for x in sample])\n",
    "    count0 = np.sum(d0)\n",
    "    d1 = np.array([dist1(x, selfset) for x in sample]) & (~d0)\n",
    "    count1 = np.sum(d1)\n",
    "    d2 = np.array([dist2(x, selfset) for x in sample]) & (~d1) & (~d0)\n",
    "    count2 = np.sum(d2)\n",
    "    ns = np.array([count0, count1, count2, len(sample)-count0-count1-count2])\n",
    "    return ns"
   ]
  },
  {
   "cell_type": "code",
   "execution_count": null,
   "metadata": {},
   "outputs": [],
   "source": [
    "humansample = set(np.random.choice(human_9mers, 5000))\n",
    "ns_self = distance_distribution(humansample, set(human9)-humansample)"
   ]
  },
  {
   "cell_type": "code",
   "execution_count": null,
   "metadata": {},
   "outputs": [],
   "source": [
    "pb1ufo = set(count_kmers_proteome(datadir + 'cancer/pb1ufo.fasta.gz', k))\n",
    "ns_ufo = distance_distribution(pb1ufo, human9)"
   ]
  },
  {
   "cell_type": "code",
   "execution_count": null,
   "metadata": {},
   "outputs": [],
   "source": [
    "len(pb1ufo)"
   ]
  },
  {
   "cell_type": "code",
   "execution_count": null,
   "metadata": {},
   "outputs": [],
   "source": [
    "frameshifts = set(count_kmers_proteome(datadir + 'cancer/frameshifts.fasta.gz', k))\n",
    "len(frameshifts)"
   ]
  },
  {
   "cell_type": "code",
   "execution_count": null,
   "metadata": {},
   "outputs": [],
   "source": [
    "ns_frameshifts = distance_distribution(np.random.choice(np.array(list(frameshifts)), 5000), human9)"
   ]
  },
  {
   "cell_type": "code",
   "execution_count": null,
   "metadata": {},
   "outputs": [],
   "source": [
    "fig, ax = plt.subplots(figsize=(2.5, 1.75))\n",
    "N = len(human9)\n",
    "k = 9\n",
    "d, p = nndist_probability(k, N)\n",
    "ax.plot(d[:4], [p[0], p[1], p[2], np.sum(p[3:])], '-o', label='uniform')\n",
    "ax.plot(range(4), ns/np.sum(ns), '-o', label='epitopes')\n",
    "ax.plot(range(4), ns_ufo/np.sum(ns_ufo), '-o', label='ufo')\n",
    "ax.plot(range(4), ns_frameshifts/np.sum(ns_frameshifts), '-o', label='frameshifts')\n",
    "ax.plot(range(1, 4), ns_self[1:]/np.sum(ns_self[1:]), '-o', label='self')\n",
    "#ax.plot([0, 1], [pptri*N, ntri*N], '-o')\n",
    "ax.set_ylim(1e-5, 1)\n",
    "ax.legend()\n",
    "ax.set_yscale('log')\n",
    "ax.set_ylabel('Fraction')\n",
    "ax.set_xlabel('Distance to self')\n",
    "fig.savefig('neighbors.png')"
   ]
  },
  {
   "cell_type": "markdown",
   "metadata": {},
   "source": [
    "# Analysis of flu epitopes"
   ]
  },
  {
   "cell_type": "code",
   "execution_count": null,
   "metadata": {},
   "outputs": [],
   "source": [
    "fluepis = df_t[df_t['Epitope', 'Parent Species'] == 'Influenza A virus']#['Epitope', 'Description'].unique()\n",
    "fluepis.shape"
   ]
  },
  {
   "cell_type": "code",
   "execution_count": null,
   "metadata": {},
   "outputs": [],
   "source": [
    "fluepis['Epitope', 'Description'].unique().shape"
   ]
  },
  {
   "cell_type": "code",
   "execution_count": null,
   "metadata": {},
   "outputs": [],
   "source": [
    "plt.hist([len(s) for s in fluepis['Epitope', 'Description'].unique()], bins=np.arange(8, 21))"
   ]
  },
  {
   "cell_type": "code",
   "execution_count": null,
   "metadata": {},
   "outputs": [],
   "source": [
    "nchunks = 100\n",
    "btdist = BallTreeDist(human9, nchunks=nchunks)"
   ]
  },
  {
   "cell_type": "code",
   "execution_count": null,
   "metadata": {},
   "outputs": [],
   "source": [
    "fluepis9 = fluepis[fluepis['Epitope', 'Description'].apply(len)==9]\n",
    "#list(fluepis9['Epitope', 'Description'].unique())"
   ]
  },
  {
   "cell_type": "code",
   "execution_count": null,
   "metadata": {},
   "outputs": [],
   "source": [
    "fludists = [btdist.mindist(e) for e in list(fluepis9['Epitope', 'Description'].unique())]"
   ]
  },
  {
   "cell_type": "code",
   "execution_count": null,
   "metadata": {},
   "outputs": [],
   "source": [
    "np.histogram(fludists, np.arange(0, 6))"
   ]
  },
  {
   "cell_type": "code",
   "execution_count": null,
   "metadata": {},
   "outputs": [],
   "source": [
    "proteomes = load_proteomes()\n"
   ]
  },
  {
   "cell_type": "code",
   "execution_count": null,
   "metadata": {},
   "outputs": [],
   "source": [
    "df_flua = counter_to_df(count_kmers_proteome(datadir + proteomes.loc['InfluenzaA']['path'], 9), norm=True)\n",
    "df_flua.head()"
   ]
  },
  {
   "cell_type": "code",
   "execution_count": null,
   "metadata": {},
   "outputs": [],
   "source": [
    "distss = []\n",
    "for i in range(3):\n",
    "    peptides = np.random.choice(df_flua['seq'], size=int(len(fludists)), replace=False, p=df_flua['freq'])\n",
    "    dists = [btdist.mindist(e) for e in peptides]\n",
    "    distss.append(dists)"
   ]
  },
  {
   "cell_type": "code",
   "execution_count": null,
   "metadata": {},
   "outputs": [],
   "source": [
    "counts = np.bincount(fludists)\n",
    "print(counts)\n",
    "plt.plot(counts, 'o')\n",
    "for d in [distss[0], distss[1], distss[2]]:\n",
    "    counts = np.bincount(d)\n",
    "    print(counts)\n",
    "    plt.plot(counts, 'kx')"
   ]
  },
  {
   "cell_type": "code",
   "execution_count": null,
   "metadata": {},
   "outputs": [],
   "source": [
    "def dists_direct(df, ref):\n",
    "    d0 = df[df['seq'].apply(lambda x: x in ref)].shape[0]/df['seq'].shape[0]\n",
    "    d1 = df[df['seq'].apply(dist1)].shape[0]/df['seq'].shape[0]\n",
    "    d2 = df[df['seq'].apply(dist2)].shape[0]/df['seq'].shape[0]\n",
    "    return d0, d1, d2"
   ]
  },
  {
   "cell_type": "code",
   "execution_count": null,
   "metadata": {},
   "outputs": [],
   "source": [
    "distsallflu = dists_direct(df_flua, human9)"
   ]
  },
  {
   "cell_type": "code",
   "execution_count": null,
   "metadata": {},
   "outputs": [],
   "source": [
    "counts = np.bincount(fludists)\n",
    "plt.plot(counts/np.sum(counts), 'o')\n",
    "plt.plot(distsallflu, 'x')\n",
    "\n",
    "N = sum(counter9.values())\n",
    "print('%e'%N)\n",
    "k = 9\n",
    "K = 20**k\n",
    "\n",
    "dists = np.arange(6)\n",
    "Nc = 19**dists * falling_factorial(k, dists+1)\n",
    "cumulative = [0]\n",
    "cumulative.extend(1-np.exp(-Nc*N/K))\n",
    "plt.plot(dists, np.diff(cumulative), '+')\n",
    "plt.ylim(0.0)"
   ]
  },
  {
   "cell_type": "code",
   "execution_count": null,
   "metadata": {},
   "outputs": [],
   "source": [
    "hivepis = d[d['Epitope', 'Parent Species'] == 'Human immunodeficiency virus 1']['Epitope', 'Description'].unique()\n",
    "hivepis.shape"
   ]
  },
  {
   "cell_type": "code",
   "execution_count": null,
   "metadata": {},
   "outputs": [],
   "source": [
    "hivdists = [mindist_sklearn_chunked(e, bts) for e in hivepis]"
   ]
  },
  {
   "cell_type": "code",
   "execution_count": null,
   "metadata": {},
   "outputs": [],
   "source": [
    "counts = np.bincount(hivdists)\n",
    "print(counts)\n",
    "plt.plot(counts, 'x')"
   ]
  },
  {
   "cell_type": "code",
   "execution_count": null,
   "metadata": {},
   "outputs": [],
   "source": [
    "df_hiv1 = counter_to_df(count_kmers_proteome(datadir + proteomes.loc['HIV']['path'], 9), norm=True)\n",
    "df_hiv1.head()"
   ]
  },
  {
   "cell_type": "code",
   "execution_count": null,
   "metadata": {},
   "outputs": [],
   "source": [
    "distss_hiv = []\n",
    "for i in range(3):\n",
    "    peptides = np.random.choice(df_hiv1['seq'], size=len(hivdists), replace=False, p=df_hiv1['freq'])\n",
    "    dists = [mindist_sklearn_chunked(e, bts) for e in peptides]\n",
    "    distss_hiv.append(dists)"
   ]
  },
  {
   "cell_type": "code",
   "execution_count": null,
   "metadata": {},
   "outputs": [],
   "source": [
    "counts = np.bincount(hivdists)\n",
    "print(counts)\n",
    "plt.plot(counts, 'o')\n",
    "for d in distss_hiv:\n",
    "    counts = np.bincount(d)\n",
    "    print(counts)\n",
    "    plt.plot(counts, 'kx')"
   ]
  },
  {
   "cell_type": "code",
   "execution_count": null,
   "metadata": {},
   "outputs": [],
   "source": [
    "distsallhiv = dists_direct(df_hiv1, human9)"
   ]
  },
  {
   "cell_type": "code",
   "execution_count": null,
   "metadata": {},
   "outputs": [],
   "source": [
    "counts = np.bincount(hivdists)\n",
    "plt.plot(counts/np.sum(counts), 'o')\n",
    "plt.plot(distsallhiv, 'x')\n",
    "N = sum(counter9.values())\n",
    "print('%e'%N)\n",
    "k = 9\n",
    "K = 20**k\n",
    "\n",
    "dists = np.arange(6)\n",
    "Nc = lambda d: 19**dists * falling_factorial(k, dists+1)\n",
    "cumulative = [0]\n",
    "cumulative.extend(1-np.exp(-Nc(dists)*N/K))\n",
    "plt.plot(dists, np.diff(cumulative), '+')\n",
    "plt.ylim(0.0)"
   ]
  },
  {
   "cell_type": "code",
   "execution_count": null,
   "metadata": {},
   "outputs": [],
   "source": []
  }
 ],
 "metadata": {
  "kernelspec": {
   "display_name": "Python 3",
   "language": "python",
   "name": "python3"
  },
  "language_info": {
   "codemirror_mode": {
    "name": "ipython",
    "version": 3
   },
   "file_extension": ".py",
   "mimetype": "text/x-python",
   "name": "python",
   "nbconvert_exporter": "python",
   "pygments_lexer": "ipython3",
   "version": "3.8.5"
  }
 },
 "nbformat": 4,
 "nbformat_minor": 2
}
