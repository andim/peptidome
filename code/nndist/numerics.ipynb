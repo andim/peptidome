{
 "cells": [
  {
   "cell_type": "code",
   "execution_count": 1,
   "id": "0dd7050f",
   "metadata": {},
   "outputs": [],
   "source": [
    "import numpy as np\n",
    "import pandas as pd\n",
    "from scipy.stats import entropy\n",
    "import scipy.stats\n",
    "from scipy.stats import poisson\n",
    "import seaborn as sns\n",
    "import sklearn.neighbors\n",
    "import matplotlib.pyplot as plt\n",
    "import Levenshtein\n",
    "\n",
    "from pyrepseq import *\n",
    "import sys\n",
    "sys.path.append('..')\n",
    "from lib import *\n",
    "\n",
    "plt.style.use('../peptidome.mplstyle')"
   ]
  },
  {
   "cell_type": "code",
   "execution_count": 2,
   "id": "d2858899",
   "metadata": {},
   "outputs": [],
   "source": [
    "k = 9\n",
    "selfset = set(count_kmers_proteome(human, k, clean=True))"
   ]
  },
  {
   "cell_type": "code",
   "execution_count": 3,
   "id": "a06ab54c",
   "metadata": {},
   "outputs": [],
   "source": [
    "x = 'SSWEVRDAW'"
   ]
  },
  {
   "cell_type": "code",
   "execution_count": 4,
   "id": "d89c2a0d",
   "metadata": {},
   "outputs": [
    {
     "name": "stdout",
     "output_type": "stream",
     "text": [
      "5.3 s ± 164 ms per loop (mean ± std. dev. of 7 runs, 1 loop each)\n"
     ]
    }
   ],
   "source": [
    "%timeit np.amin(cdist([x], selfset, metric=hamming_distance))"
   ]
  },
  {
   "cell_type": "code",
   "execution_count": 5,
   "id": "f549029b",
   "metadata": {},
   "outputs": [],
   "source": [
    "def min_distance(x, reference):\n",
    "    if x in reference:\n",
    "        return 0\n",
    "    if dist1(x, reference):\n",
    "        return 1\n",
    "    if dist2(x, reference):\n",
    "        return 2\n",
    "    if dist3(x, reference):\n",
    "        return 3\n",
    "    return 3"
   ]
  },
  {
   "cell_type": "code",
   "execution_count": 6,
   "id": "b4395c25",
   "metadata": {},
   "outputs": [
    {
     "name": "stdout",
     "output_type": "stream",
     "text": [
      "30.5 ms ± 885 µs per loop (mean ± std. dev. of 7 runs, 10 loops each)\n"
     ]
    }
   ],
   "source": [
    "%timeit min_distance(x, selfset)"
   ]
  },
  {
   "cell_type": "code",
   "execution_count": 7,
   "id": "8ad5cfc6",
   "metadata": {},
   "outputs": [
    {
     "data": {
      "text/plain": [
       "(3, 3)"
      ]
     },
     "execution_count": 7,
     "metadata": {},
     "output_type": "execute_result"
    }
   ],
   "source": [
    "min_distance(x, selfset), np.amin(cdist([x], selfset, metric=hamming_distance))"
   ]
  },
  {
   "cell_type": "code",
   "execution_count": null,
   "id": "3933bb99",
   "metadata": {},
   "outputs": [],
   "source": []
  }
 ],
 "metadata": {
  "kernelspec": {
   "display_name": "Python 3 (ipykernel)",
   "language": "python",
   "name": "python3"
  },
  "language_info": {
   "codemirror_mode": {
    "name": "ipython",
    "version": 3
   },
   "file_extension": ".py",
   "mimetype": "text/x-python",
   "name": "python",
   "nbconvert_exporter": "python",
   "pygments_lexer": "ipython3",
   "version": "3.8.13"
  }
 },
 "nbformat": 4,
 "nbformat_minor": 5
}
