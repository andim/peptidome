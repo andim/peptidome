{
 "cells": [
  {
   "cell_type": "code",
   "execution_count": 2,
   "id": "ae6938be",
   "metadata": {},
   "outputs": [
    {
     "name": "stderr",
     "output_type": "stream",
     "text": [
      "/home/andreas/mambaforge/envs/peptidome/lib/python3.7/site-packages/sklearn/externals/joblib/externals/cloudpickle/cloudpickle.py:47: DeprecationWarning: the imp module is deprecated in favour of importlib; see the module's documentation for alternative uses\n",
      "  import imp\n"
     ]
    }
   ],
   "source": [
    "import numpy as np\n",
    "import pandas as pd\n",
    "from scipy.stats import entropy\n",
    "import scipy.stats\n",
    "from scipy.stats import poisson\n",
    "import seaborn as sns\n",
    "import sklearn.neighbors\n",
    "import matplotlib.pyplot as plt\n",
    "import Levenshtein\n",
    "\n",
    "import sys\n",
    "sys.path.append('..')\n",
    "from lib import *\n",
    "\n",
    "from pyrepseq import *\n",
    "import random\n",
    "\n",
    "plt.style.use('../peptidome.mplstyle')"
   ]
  },
  {
   "cell_type": "code",
   "execution_count": 3,
   "id": "d60db884",
   "metadata": {},
   "outputs": [],
   "source": [
    "k = 10\n",
    "selfset = set(count_kmers_proteome(human, k, clean=True))"
   ]
  },
  {
   "cell_type": "code",
   "execution_count": 4,
   "id": "7649cbc4",
   "metadata": {},
   "outputs": [
    {
     "name": "stdout",
     "output_type": "stream",
     "text": [
      "248879\n"
     ]
    }
   ],
   "source": [
    "# only human host\n",
    "df_t = load_iedb_tcellepitopes(human_only=True)\n",
    "print(df_t.shape[0])"
   ]
  },
  {
   "cell_type": "code",
   "execution_count": 5,
   "id": "513d7d1c",
   "metadata": {},
   "outputs": [
    {
     "name": "stdout",
     "output_type": "stream",
     "text": [
      "69747\n"
     ]
    }
   ],
   "source": [
    "# only MHC I epitopes\n",
    "df_t = df_t[df_t['MHC', 'Class']=='I']\n",
    "print(df_t.shape[0])"
   ]
  },
  {
   "cell_type": "code",
   "execution_count": 6,
   "id": "fe02c343",
   "metadata": {},
   "outputs": [
    {
     "name": "stdout",
     "output_type": "stream",
     "text": [
      "17017\n"
     ]
    }
   ],
   "source": [
    "# only epitopes of length k\n",
    "mask = df_t['Epitope', 'Description'].apply(len)==k\n",
    "df_t = df_t[mask]\n",
    "print(df_t.shape[0])"
   ]
  },
  {
   "cell_type": "code",
   "execution_count": 7,
   "id": "f6225dd8",
   "metadata": {},
   "outputs": [
    {
     "name": "stdout",
     "output_type": "stream",
     "text": [
      "15260\n"
     ]
    }
   ],
   "source": [
    "# no host epitopes\n",
    "host = 'Homo sapiens'\n",
    "# can also set na=True to exclude epitopes of unknown provenance\n",
    "mask = ~df_t['Epitope', 'Parent Species'].str.contains(host, na=False)\n",
    "df_t = df_t[mask]\n",
    "print(df_t.shape[0])"
   ]
  },
  {
   "cell_type": "code",
   "execution_count": 8,
   "id": "43ac62e5",
   "metadata": {},
   "outputs": [
    {
     "name": "stdout",
     "output_type": "stream",
     "text": [
      "14287\n"
     ]
    }
   ],
   "source": [
    "# exclude autoimmune / allergy / cancer epitopes\n",
    "mask = ~(df_t['1st in vivo Process', 'Process Type'].isin(['Occurrence of autoimmune disease', \n",
    "                                                           'Occurrence of allergy',\n",
    "                                                           'Occurrence of cancer']))\n",
    "df_t = df_t[mask]\n",
    "print(df_t.shape[0])"
   ]
  },
  {
   "cell_type": "code",
   "execution_count": 9,
   "id": "73bb781b",
   "metadata": {},
   "outputs": [
    {
     "name": "stdout",
     "output_type": "stream",
     "text": [
      "10096\n"
     ]
    }
   ],
   "source": [
    "# restrict to ELISPOT assay\n",
    "mask = df_t['Assay', 'Method/Technique'] == 'ELISPOT'\n",
    "df_t = df_t[mask]\n",
    "print(df_t.shape[0])"
   ]
  },
  {
   "cell_type": "markdown",
   "id": "e7b2e145",
   "metadata": {},
   "source": [
    "# Keep most frequent qualitative measure"
   ]
  },
  {
   "cell_type": "code",
   "execution_count": 10,
   "id": "46298f98",
   "metadata": {},
   "outputs": [
    {
     "data": {
      "text/plain": [
       "3331"
      ]
     },
     "execution_count": 10,
     "metadata": {},
     "output_type": "execute_result"
    }
   ],
   "source": [
    "# uniquify epitopes by keeping only the most frequent qualitative measure\n",
    "def most_frequent(x):\n",
    "    counts = x.value_counts(dropna=False)\n",
    "    if len(counts):\n",
    "        return counts.index[0]\n",
    "    else:\n",
    "        print(x, counts)\n",
    "    return np.nan\n",
    "d = df_t[[('Epitope', 'Description'), ('Assay', 'Positive')]].groupby(('Epitope', 'Description')).agg(most_frequent)\n",
    "d = d.reset_index()\n",
    "len(d)"
   ]
  },
  {
   "cell_type": "code",
   "execution_count": 11,
   "id": "6efeda1c",
   "metadata": {},
   "outputs": [
    {
     "data": {
      "text/plain": [
       "2099"
      ]
     },
     "execution_count": 11,
     "metadata": {},
     "output_type": "execute_result"
    }
   ],
   "source": [
    "epitope_counts = df_t.groupby(('Epitope', 'Description')).agg('count')['Reference', 'Assay IRI']\n",
    "(epitope_counts>1).sum()"
   ]
  },
  {
   "cell_type": "code",
   "execution_count": 12,
   "id": "2cd8fe47",
   "metadata": {},
   "outputs": [
    {
     "data": {
      "text/plain": [
       "138"
      ]
     },
     "execution_count": 12,
     "metadata": {},
     "output_type": "execute_result"
    }
   ],
   "source": [
    "positive_fraction = df_t.groupby(('Epitope', 'Description')).agg(np.mean)['Assay', 'Positive']\n",
    "len(positive_fraction[(positive_fraction>0.0) & (positive_fraction<1.0)])"
   ]
  },
  {
   "cell_type": "code",
   "execution_count": 13,
   "id": "227371cd",
   "metadata": {},
   "outputs": [
    {
     "data": {
      "text/plain": [
       "(1.0, 3512.3465955068095)"
      ]
     },
     "execution_count": 13,
     "metadata": {},
     "output_type": "execute_result"
    },
    {
     "data": {
      "image/png": "[encoded data removed]",
      "text/plain": [
       "<Figure size 1026x690 with 1 Axes>"
      ]
     },
     "metadata": {},
     "output_type": "display_data"
    }
   ],
   "source": [
    "plt.hist(positive_fraction)\n",
    "plt.yscale('log')\n",
    "plt.ylim(1e0)"
   ]
  },
  {
   "cell_type": "markdown",
   "id": "c25bd151",
   "metadata": {},
   "source": [
    "# Keep only unambiguous"
   ]
  },
  {
   "cell_type": "code",
   "execution_count": 14,
   "id": "d3913d3d",
   "metadata": {},
   "outputs": [
    {
     "data": {
      "text/plain": [
       "3193"
      ]
     },
     "execution_count": 14,
     "metadata": {},
     "output_type": "execute_result"
    }
   ],
   "source": [
    "d_mean = df_t[[('Epitope', 'Description'), ('Assay', 'Positive')]].groupby(('Epitope', 'Description')).agg(np.mean)\n",
    "d = d_mean[d_mean['Assay', 'Positive'].isin([0.0, 1.0])]\n",
    "d = d.reset_index()\n",
    "len(d)"
   ]
  },
  {
   "cell_type": "code",
   "execution_count": 19,
   "id": "2e9b8d91",
   "metadata": {},
   "outputs": [],
   "source": [
    "d['nndist'] = d['Epitope', 'Description'].apply(lambda x: nndist_hamming(x, selfset, maxdist=4))"
   ]
  },
  {
   "cell_type": "code",
   "execution_count": 20,
   "id": "1f7a1080",
   "metadata": {},
   "outputs": [
    {
     "data": {
      "text/plain": [
       "(array([0.        , 0.23809524, 0.26106195, 0.26666667, 0.22535211]),\n",
       " array([  20,   21,  226, 2145,  781]))"
      ]
     },
     "execution_count": 20,
     "metadata": {},
     "output_type": "execute_result"
    }
   ],
   "source": [
    "d['nndist_max'] = np.where(d['nndist']>4, 4, d['nndist'])\n",
    "dagg = d.groupby('nndist_max').agg(['mean', 'count'])['Assay', 'Positive']\n",
    "ps = np.asarray(list(dagg['mean']))\n",
    "ns = np.asarray(dagg['count'])\n",
    "ps, ns"
   ]
  },
  {
   "cell_type": "code",
   "execution_count": 25,
   "id": "776ecb69",
   "metadata": {},
   "outputs": [
    {
     "data": {
      "image/png": "[encoded data removed]",
      "text/plain": [
       "<Figure size 675x525 with 1 Axes>"
      ]
     },
     "metadata": {},
     "output_type": "display_data"
    }
   ],
   "source": [
    "fig, ax = plt.subplots(figsize=(2.25, 1.75))\n",
    "lower, upper = statsmodels.stats.proportion.proportion_confint(ps*ns, ns, method='jeffreys', alpha=.1)\n",
    "ax.errorbar(range(len(ps)), ps, yerr=[ps-lower, upper-ps], ls='None', fmt='_')\n",
    "ax.set_ylim(0.0, 0.45)\n",
    "ax.set_xlabel('Distance to Nearest Self Peptide')\n",
    "ax.set_ylabel('Fraction Immunogenic')\n",
    "ax.set_xticks([0, 1, 2, 3, 4])\n",
    "ax.set_xticklabels([0, 1, 2, 3, '4+'])\n",
    "fig.tight_layout()\n",
    "fig.savefig(figuredir+'iedbposvsdist_k10.svg')"
   ]
  },
  {
   "cell_type": "code",
   "execution_count": 22,
   "id": "6e05110b",
   "metadata": {},
   "outputs": [
    {
     "data": {
      "text/plain": [
       "[((0, 1), 0.13106798968500855),\n",
       " ((0, 2), 0.07623739314742684),\n",
       " ((0, 3), 0.06874121168371838),\n",
       " ((0, 4), 0.1228017149396542),\n",
       " ((1, 2), 0.9971126955261476),\n",
       " ((1, 3), 0.9971126955261476),\n",
       " ((1, 4), 0.9971126955261476),\n",
       " ((2, 3), 0.9971126955261476),\n",
       " ((2, 4), 0.7835611289247056),\n",
       " ((3, 4), 0.13264458355791986)]"
      ]
     },
     "execution_count": 22,
     "metadata": {},
     "output_type": "execute_result"
    }
   ],
   "source": [
    "test = statsmodels.stats.proportion.proportions_chisquare_allpairs(ps*ns, ns)\n",
    "list(zip(test.all_pairs, test.pval_corrected()))"
   ]
  },
  {
   "cell_type": "code",
   "execution_count": null,
   "id": "a6134537",
   "metadata": {},
   "outputs": [],
   "source": []
  }
 ],
 "metadata": {
  "kernelspec": {
   "display_name": "Python 3 (ipykernel)",
   "language": "python",
   "name": "python3"
  },
  "language_info": {
   "codemirror_mode": {
    "name": "ipython",
    "version": 3
   },
   "file_extension": ".py",
   "mimetype": "text/x-python",
   "name": "python",
   "nbconvert_exporter": "python",
   "pygments_lexer": "ipython3",
   "version": "3.7.8"
  }
 },
 "nbformat": 4,
 "nbformat_minor": 5
}
