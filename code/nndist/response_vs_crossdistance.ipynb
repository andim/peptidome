{
 "cells": [
  {
   "cell_type": "code",
   "execution_count": 1,
   "id": "ae6938be",
   "metadata": {},
   "outputs": [],
   "source": [
    "import numpy as np\n",
    "import pandas as pd\n",
    "from scipy.stats import entropy\n",
    "import scipy.stats\n",
    "from scipy.stats import poisson\n",
    "import seaborn as sns\n",
    "import sklearn.neighbors\n",
    "import matplotlib.pyplot as plt\n",
    "import Levenshtein\n",
    "\n",
    "import sys\n",
    "sys.path.append('..')\n",
    "from lib import *\n",
    "\n",
    "sys.path.append('/home/amayer/dropp/zach_andreas/EpitopeDistance/epdist')\n",
    "from EpitopeDistance import EpitopeDistance\n",
    "\n",
    "from pyrepseq import *\n",
    "import random\n",
    "\n",
    "plt.style.use('../peptidome.mplstyle')"
   ]
  },
  {
   "cell_type": "code",
   "execution_count": 2,
   "id": "d60db884",
   "metadata": {},
   "outputs": [],
   "source": [
    "k = 9\n",
    "selfset = set(count_kmers_proteome(human, k, clean=True))"
   ]
  },
  {
   "cell_type": "code",
   "execution_count": 3,
   "id": "7649cbc4",
   "metadata": {},
   "outputs": [
    {
     "name": "stdout",
     "output_type": "stream",
     "text": [
      "285467\n"
     ]
    }
   ],
   "source": [
    "# only human host\n",
    "df_t = load_iedb_tcellepitopes(human_only=True)\n",
    "print(df_t.shape[0])"
   ]
  },
  {
   "cell_type": "code",
   "execution_count": 4,
   "id": "513d7d1c",
   "metadata": {},
   "outputs": [
    {
     "name": "stdout",
     "output_type": "stream",
     "text": [
      "83870\n"
     ]
    }
   ],
   "source": [
    "# only MHC I epitopes\n",
    "df_t = df_t[df_t['MHC', 'Class']=='I']\n",
    "print(df_t.shape[0])"
   ]
  },
  {
   "cell_type": "code",
   "execution_count": 5,
   "id": "fe02c343",
   "metadata": {},
   "outputs": [
    {
     "name": "stdout",
     "output_type": "stream",
     "text": [
      "45769\n"
     ]
    }
   ],
   "source": [
    "# only epitopes of length k\n",
    "mask = df_t['Epitope', 'Description'].apply(len)==k\n",
    "df_t = df_t[mask]\n",
    "print(df_t.shape[0])"
   ]
  },
  {
   "cell_type": "code",
   "execution_count": 6,
   "id": "f6225dd8",
   "metadata": {},
   "outputs": [
    {
     "name": "stdout",
     "output_type": "stream",
     "text": [
      "38800\n"
     ]
    }
   ],
   "source": [
    "# no host epitopes\n",
    "host = 'Homo sapiens'\n",
    "# can also set na=True to exclude epitopes of unknown provenance\n",
    "mask = ~df_t['Epitope', 'Parent Species'].str.contains(host, na=False)\n",
    "df_t = df_t[mask]\n",
    "print(df_t.shape[0])"
   ]
  },
  {
   "cell_type": "code",
   "execution_count": 7,
   "id": "43ac62e5",
   "metadata": {},
   "outputs": [
    {
     "name": "stdout",
     "output_type": "stream",
     "text": [
      "36172\n"
     ]
    }
   ],
   "source": [
    "# exclude autoimmune / allergy / cancer epitopes\n",
    "mask = ~(df_t['1st in vivo Process', 'Process Type'].isin(['Occurrence of autoimmune disease', \n",
    "                                                           'Occurrence of allergy',\n",
    "                                                           'Occurrence of cancer']))\n",
    "df_t = df_t[mask]\n",
    "print(df_t.shape[0])"
   ]
  },
  {
   "cell_type": "code",
   "execution_count": 8,
   "id": "73bb781b",
   "metadata": {},
   "outputs": [
    {
     "name": "stdout",
     "output_type": "stream",
     "text": [
      "19935\n"
     ]
    }
   ],
   "source": [
    "# restrict to ELISPOT assay\n",
    "mask = df_t['Assay', 'Method/Technique'] == 'ELISPOT'\n",
    "df_t = df_t[mask]\n",
    "print(df_t.shape[0])"
   ]
  },
  {
   "cell_type": "code",
   "execution_count": 9,
   "id": "46298f98",
   "metadata": {},
   "outputs": [
    {
     "data": {
      "text/plain": [
       "7261"
      ]
     },
     "execution_count": 9,
     "metadata": {},
     "output_type": "execute_result"
    }
   ],
   "source": [
    "# uniquify epitopes by keeping only the most frequent qualitative measure\n",
    "def most_frequent(x):\n",
    "    counts = x.value_counts(dropna=False)\n",
    "    if len(counts):\n",
    "        return counts.index[0]\n",
    "    else:\n",
    "        print(x, counts)\n",
    "    return np.nan\n",
    "d = df_t[[('Epitope', 'Description'), ('Assay', 'Positive')]].groupby(('Epitope', 'Description')).agg(most_frequent)\n",
    "d = d.reset_index()\n",
    "len(d)"
   ]
  },
  {
   "cell_type": "code",
   "execution_count": 10,
   "id": "d3d49c73",
   "metadata": {},
   "outputs": [],
   "source": [
    "epd = EpitopeDistance()"
   ]
  },
  {
   "cell_type": "code",
   "execution_count": 11,
   "id": "10bd21cd",
   "metadata": {},
   "outputs": [],
   "source": [
    "#%timeit -t min(cdist(selfset, (d['Epitope', 'Description'][0],), metric=hamming_distance, dtype=np.float))"
   ]
  },
  {
   "cell_type": "code",
   "execution_count": 12,
   "id": "61a287cd",
   "metadata": {},
   "outputs": [
    {
     "data": {
      "text/plain": [
       "'AAAAGWQTL'"
      ]
     },
     "execution_count": 12,
     "metadata": {},
     "output_type": "execute_result"
    }
   ],
   "source": [
    "x = d['Epitope', 'Description'][0]\n",
    "x"
   ]
  },
  {
   "cell_type": "code",
   "execution_count": 13,
   "id": "ab774504",
   "metadata": {},
   "outputs": [
    {
     "data": {
      "text/plain": [
       "array([5.67347145])"
      ]
     },
     "execution_count": 13,
     "metadata": {},
     "output_type": "execute_result"
    }
   ],
   "source": [
    "min(cdist(selfset, (x,), metric=epd.epitope_dist, dtype=np.float))"
   ]
  },
  {
   "cell_type": "code",
   "execution_count": 14,
   "id": "58311123",
   "metadata": {},
   "outputs": [],
   "source": [
    "def nndist_epd(x, reference):\n",
    "    potential_neighbors = next_nearest_neighbors(x, hamming_neighbors, maxdistance=2)\n",
    "    neighbors = potential_neighbors.intersection(reference)\n",
    "    if len(neighbors) == 0:\n",
    "        return np.nan\n",
    "    return min(cdist(neighbors, (x,),\n",
    "                     metric=epd.epitope_dist, dtype=np.float).flatten())"
   ]
  },
  {
   "cell_type": "code",
   "execution_count": 15,
   "id": "0229813b",
   "metadata": {},
   "outputs": [
    {
     "data": {
      "text/plain": [
       "5.673471451710956"
      ]
     },
     "execution_count": 15,
     "metadata": {},
     "output_type": "execute_result"
    }
   ],
   "source": [
    "nndist_epd(x, selfset)"
   ]
  },
  {
   "cell_type": "code",
   "execution_count": 16,
   "id": "cc0c1232",
   "metadata": {},
   "outputs": [],
   "source": [
    "d['nndist'] = d['Epitope', 'Description'].apply(lambda x: nndist_epd(x, selfset))"
   ]
  },
  {
   "cell_type": "code",
   "execution_count": 17,
   "id": "be653369",
   "metadata": {},
   "outputs": [],
   "source": [
    "def ndensity(x, reference):\n",
    "    potential_neighbors = next_nearest_neighbors(x, hamming_neighbors, maxdistance=2)\n",
    "    neighbors = potential_neighbors.intersection(reference)\n",
    "    return len(neighbors)"
   ]
  },
  {
   "cell_type": "code",
   "execution_count": 18,
   "id": "1df42e27",
   "metadata": {},
   "outputs": [],
   "source": [
    "#d['nndist'] = d['Epitope', 'Description'].apply(lambda x: ndensity(x, selfset))"
   ]
  },
  {
   "cell_type": "markdown",
   "id": "b242509a",
   "metadata": {},
   "source": [
    "d['nndist'] = d['Epitope', 'Description'].apply(lambda x: min(cdist(selfset, (x,),\n",
    "                                                                    metric=epd.epitope_dist, dtype=np.float)))"
   ]
  },
  {
   "cell_type": "code",
   "execution_count": 25,
   "id": "317aa8df",
   "metadata": {},
   "outputs": [
    {
     "data": {
      "image/png": "[encoded data removed]",
      "text/plain": [
       "<Figure size 1026x690 with 1 Axes>"
      ]
     },
     "metadata": {},
     "output_type": "display_data"
    }
   ],
   "source": [
    "bins = np.linspace(0, 40, 30)\n",
    "plt.hist(d[d['Assay', 'Positive']]['nndist'], bins=bins, histtype='step', density=True);\n",
    "plt.hist(d[~d['Assay', 'Positive']]['nndist'], bins=bins, histtype='step', density=True);"
   ]
  },
  {
   "cell_type": "code",
   "execution_count": 33,
   "id": "1f7a1080",
   "metadata": {},
   "outputs": [
    {
     "data": {
      "text/plain": [
       "(array([0.30414747, 0.37327189, 0.37327189, 0.32258065, 0.29953917,\n",
       "        0.2718894 , 0.30875576, 0.32407407, 0.32258065, 0.36866359,\n",
       "        0.28571429, 0.30875576, 0.33179724, 0.37788018, 0.31797235]),\n",
       " array([217, 217, 217, 217, 217, 217, 217, 216, 217, 217, 217, 217, 217,\n",
       "        217, 217]))"
      ]
     },
     "execution_count": 33,
     "metadata": {},
     "output_type": "execute_result"
    }
   ],
   "source": [
    "d = d[d['nndist']>0]\n",
    "cuts = pd.qcut(d['nndist'], 15)\n",
    "dagg = d.groupby(cuts).agg(['mean', 'count'])['Assay', 'Positive']\n",
    "ps = np.asarray(list(dagg['mean']))\n",
    "ns = np.asarray(dagg['count'])\n",
    "ps, ns"
   ]
  },
  {
   "cell_type": "code",
   "execution_count": 34,
   "id": "776ecb69",
   "metadata": {},
   "outputs": [
    {
     "data": {
      "image/png": "[encoded data removed]",
      "text/plain": [
       "<Figure size 675x525 with 1 Axes>"
      ]
     },
     "metadata": {},
     "output_type": "display_data"
    }
   ],
   "source": [
    "fig, ax = plt.subplots(figsize=(2.25, 1.75))\n",
    "lower, upper = statsmodels.stats.proportion.proportion_confint(ps*ns, ns, method='jeffreys', alpha=.1)\n",
    "ax.errorbar(range(1, len(ps)+1), ps, yerr=[ps-lower, upper-ps], ls='None', fmt='_')\n",
    "ax.set_ylim(0.0, 0.5)\n",
    "ax.set_xlabel('Distance to Nearest Self Peptide (quantiles)')\n",
    "ax.set_ylabel('Fraction Immunogenic')\n",
    "fig.tight_layout()\n",
    "fig.savefig(figuredir+'iedbposvscrossdist.svg')"
   ]
  },
  {
   "cell_type": "code",
   "execution_count": 124,
   "id": "6e05110b",
   "metadata": {},
   "outputs": [
    {
     "data": {
      "text/plain": [
       "[((0, 1), 0.40461875254889024),\n",
       " ((0, 2), 0.8529884437464257),\n",
       " ((0, 3), 0.8529884437464257),\n",
       " ((1, 2), 0.7727905360381304),\n",
       " ((1, 3), 0.49325928104279015),\n",
       " ((2, 3), 0.8529884437464257)]"
      ]
     },
     "execution_count": 124,
     "metadata": {},
     "output_type": "execute_result"
    }
   ],
   "source": [
    "test = statsmodels.stats.proportion.proportions_chisquare_allpairs(ps*ns, ns)\n",
    "list(zip(test.all_pairs, test.pval_corrected()))"
   ]
  },
  {
   "cell_type": "code",
   "execution_count": 34,
   "id": "11606114",
   "metadata": {},
   "outputs": [
    {
     "data": {
      "text/html": [
       "<div>\n",
       "<style scoped>\n",
       "    .dataframe tbody tr th:only-of-type {\n",
       "        vertical-align: middle;\n",
       "    }\n",
       "\n",
       "    .dataframe tbody tr th {\n",
       "        vertical-align: top;\n",
       "    }\n",
       "\n",
       "    .dataframe thead tr th {\n",
       "        text-align: left;\n",
       "    }\n",
       "</style>\n",
       "<table border=\"1\" class=\"dataframe\">\n",
       "  <thead>\n",
       "    <tr>\n",
       "      <th></th>\n",
       "      <th colspan=\"9\" halign=\"left\">Reference</th>\n",
       "      <th>Epitope</th>\n",
       "      <th>...</th>\n",
       "      <th colspan=\"7\" halign=\"left\">Assay Antigen</th>\n",
       "      <th>Assay Comments</th>\n",
       "      <th>Assay</th>\n",
       "      <th>Epitope</th>\n",
       "    </tr>\n",
       "    <tr>\n",
       "      <th></th>\n",
       "      <th>Assay IRI</th>\n",
       "      <th>Reference IRI</th>\n",
       "      <th>Type</th>\n",
       "      <th>PubMed ID</th>\n",
       "      <th>Authors</th>\n",
       "      <th>Journal</th>\n",
       "      <th>Date</th>\n",
       "      <th>Title</th>\n",
       "      <th>Submission ID</th>\n",
       "      <th>Epitope IRI</th>\n",
       "      <th>...</th>\n",
       "      <th>Antigen Source Molecule IRI</th>\n",
       "      <th>Protein Parent Name</th>\n",
       "      <th>Protein Parent IRI</th>\n",
       "      <th>Antigen Organism Name</th>\n",
       "      <th>Antigen Organism IRI</th>\n",
       "      <th>Organism Species Name</th>\n",
       "      <th>Organism Species IRI</th>\n",
       "      <th>Assay Comments</th>\n",
       "      <th>Positive</th>\n",
       "      <th>Length</th>\n",
       "    </tr>\n",
       "  </thead>\n",
       "  <tbody>\n",
       "    <tr>\n",
       "      <th>322919</th>\n",
       "      <td>http://www.iedb.org/assay/3193385</td>\n",
       "      <td>http://www.iedb.org/reference/1031485</td>\n",
       "      <td>Literature</td>\n",
       "      <td>28148797.0</td>\n",
       "      <td>Alba Grifoni; Michael Angelo; John Sidney; Sin...</td>\n",
       "      <td>J Virol</td>\n",
       "      <td>2017</td>\n",
       "      <td>Patterns of Cellular Immunity Associated with ...</td>\n",
       "      <td>NaN</td>\n",
       "      <td>http://www.iedb.org/epitope/184390</td>\n",
       "      <td>...</td>\n",
       "      <td>http://www.ncbi.nlm.nih.gov/protein/ANW72071.1</td>\n",
       "      <td>Genome polyprotein</td>\n",
       "      <td>http://www.uniprot.org/uniprot/P17763</td>\n",
       "      <td>Dengue virus 4</td>\n",
       "      <td>http://purl.obolibrary.org/obo/NCBITaxon_11070</td>\n",
       "      <td>Dengue virus</td>\n",
       "      <td>http://purl.obolibrary.org/obo/NCBITaxon_12637</td>\n",
       "      <td>The epitope was also shown previously to be re...</td>\n",
       "      <td>True</td>\n",
       "      <td>9</td>\n",
       "    </tr>\n",
       "    <tr>\n",
       "      <th>397160</th>\n",
       "      <td>http://www.iedb.org/assay/12566377</td>\n",
       "      <td>http://www.iedb.org/reference/1038020</td>\n",
       "      <td>Literature</td>\n",
       "      <td>33490292.0</td>\n",
       "      <td>Yan Lin; Yu Dong; Yanfeng Gao; Ranran Shi; Yub...</td>\n",
       "      <td>J Immunol Res</td>\n",
       "      <td>2021</td>\n",
       "      <td>Identification of CTL Epitopes on Efflux Pumps...</td>\n",
       "      <td>NaN</td>\n",
       "      <td>http://www.iedb.org/epitope/37149</td>\n",
       "      <td>...</td>\n",
       "      <td>http://www.ncbi.nlm.nih.gov/protein/WP_0039014...</td>\n",
       "      <td>Energy-dependent translational throttle protei...</td>\n",
       "      <td>http://www.uniprot.org/uniprot/P9WQK3</td>\n",
       "      <td>Mycobacterium tuberculosis</td>\n",
       "      <td>http://purl.obolibrary.org/obo/NCBITaxon_1773</td>\n",
       "      <td>Mycobacterium tuberculosis</td>\n",
       "      <td>http://purl.obolibrary.org/obo/NCBITaxon_1773</td>\n",
       "      <td>ICS was also positive.</td>\n",
       "      <td>True</td>\n",
       "      <td>9</td>\n",
       "    </tr>\n",
       "  </tbody>\n",
       "</table>\n",
       "<p>2 rows × 144 columns</p>\n",
       "</div>"
      ],
      "text/plain": [
       "                                 Reference  \\\n",
       "                                 Assay IRI   \n",
       "322919   http://www.iedb.org/assay/3193385   \n",
       "397160  http://www.iedb.org/assay/12566377   \n",
       "\n",
       "                                                                       \\\n",
       "                                Reference IRI        Type   PubMed ID   \n",
       "322919  http://www.iedb.org/reference/1031485  Literature  28148797.0   \n",
       "397160  http://www.iedb.org/reference/1038020  Literature  33490292.0   \n",
       "\n",
       "                                                                          \\\n",
       "                                                  Authors        Journal   \n",
       "322919  Alba Grifoni; Michael Angelo; John Sidney; Sin...        J Virol   \n",
       "397160  Yan Lin; Yu Dong; Yanfeng Gao; Ranran Shi; Yub...  J Immunol Res   \n",
       "\n",
       "                                                                               \\\n",
       "        Date                                              Title Submission ID   \n",
       "322919  2017  Patterns of Cellular Immunity Associated with ...           NaN   \n",
       "397160  2021  Identification of CTL Epitopes on Efflux Pumps...           NaN   \n",
       "\n",
       "                                   Epitope  ...  \\\n",
       "                               Epitope IRI  ...   \n",
       "322919  http://www.iedb.org/epitope/184390  ...   \n",
       "397160   http://www.iedb.org/epitope/37149  ...   \n",
       "\n",
       "                                            Assay Antigen  \\\n",
       "                              Antigen Source Molecule IRI   \n",
       "322919     http://www.ncbi.nlm.nih.gov/protein/ANW72071.1   \n",
       "397160  http://www.ncbi.nlm.nih.gov/protein/WP_0039014...   \n",
       "\n",
       "                                                           \\\n",
       "                                      Protein Parent Name   \n",
       "322919                                 Genome polyprotein   \n",
       "397160  Energy-dependent translational throttle protei...   \n",
       "\n",
       "                                                                           \\\n",
       "                           Protein Parent IRI       Antigen Organism Name   \n",
       "322919  http://www.uniprot.org/uniprot/P17763              Dengue virus 4   \n",
       "397160  http://www.uniprot.org/uniprot/P9WQK3  Mycobacterium tuberculosis   \n",
       "\n",
       "                                                        \\\n",
       "                                  Antigen Organism IRI   \n",
       "322919  http://purl.obolibrary.org/obo/NCBITaxon_11070   \n",
       "397160   http://purl.obolibrary.org/obo/NCBITaxon_1773   \n",
       "\n",
       "                                    \\\n",
       "             Organism Species Name   \n",
       "322919                Dengue virus   \n",
       "397160  Mycobacterium tuberculosis   \n",
       "\n",
       "                                                        \\\n",
       "                                  Organism Species IRI   \n",
       "322919  http://purl.obolibrary.org/obo/NCBITaxon_12637   \n",
       "397160   http://purl.obolibrary.org/obo/NCBITaxon_1773   \n",
       "\n",
       "                                           Assay Comments    Assay Epitope  \n",
       "                                           Assay Comments Positive  Length  \n",
       "322919  The epitope was also shown previously to be re...     True       9  \n",
       "397160                             ICS was also positive.     True       9  \n",
       "\n",
       "[2 rows x 144 columns]"
      ]
     },
     "execution_count": 34,
     "metadata": {},
     "output_type": "execute_result"
    }
   ],
   "source": [
    "df_t[df_t['Epitope', 'Description'].isin(set(d[(d['nndist']==0)\n",
    "     & d['Assay', 'Positive']]['Epitope', 'Description']))]"
   ]
  },
  {
   "cell_type": "code",
   "execution_count": 15,
   "id": "ffb79142",
   "metadata": {},
   "outputs": [],
   "source": [
    "epitopes = d[d['nndist']==1]['Epitope', 'Description']"
   ]
  },
  {
   "cell_type": "code",
   "execution_count": 16,
   "id": "7e47ab65",
   "metadata": {},
   "outputs": [
    {
     "name": "stdout",
     "output_type": "stream",
     "text": [
      "AAAPVVESK AAAKVVESK 1 3\n",
      "AEFTVPKFL ADFTVPKFL 1 1\n",
      "AEMLREEGY AEMIREEGY 1 3\n",
      "AESRKLLLI AESRKLLLR 1 8\n",
      "AKLDRLDEE AKLDNLDEE 1 4\n",
      "ALDGYNGTV ALDGYNGTI 1 8\n",
      "ALFASRPRF VLFASRPRF 1 0\n",
      "ALIIIRSLL ARIIIRSLL 1 1\n",
      "ALIRILQQL ALDRILQQL 1 2\n",
      "ALIRRLQQL ALIRRLQQA 1 8\n",
      "ALPQSILLF ALPRSILLF 1 3\n",
      "ALQSQSISL VLQSQSISL 1 0\n",
      "ALVVPVFEI ALVVPAFEI 1 5\n",
      "ALYDGMEHL GLYDGMEHL 1 0\n",
      "AMAGASTSA ASAGASTSA 1 1\n",
      "AMASASTSA AMASASSSA 1 6\n",
      "AMAVLYLAL AVAVLYLAL 1 1\n",
      "AMLSKVVIL AMPSKVVIL 1 2\n",
      "APGPLPRSL MPGPLPRSL 2 0\n",
      "APKKKSIKL APKKKSIKS 1 8\n",
      "APVPPPEPL APVVPPEPL 1 3\n",
      "AYLEAIHDF AYLEAIHNF 1 7\n",
      "AYLEAIHKF AYLEAIHNF 1 7\n",
      "AYLEAIHYF AYLEAIHNF 1 7\n",
      "CLYDGMEHL GLYDGMEHL 1 0\n",
      "CTELKLSDN VTELKLSDN 1 0\n",
      "CYNPRTNKW CYNPRTNEW 2 7\n",
      "DEQIESMTY DEQMESMTY 1 3\n",
      "DESTLSPEM DESTLSPEE 1 8\n",
      "DIDSAIETY DIDAAIETY 1 3\n",
      "DLKPDNILL DLKPDNILI 10 8\n",
      "DLQDRNTEL DLQDRNDEL 1 6\n",
      "DLYDGMEHL GLYDGMEHL 1 0\n",
      "DMKARQKAL DMKARQEAL 1 6\n",
      "DRFYKVLRA DRFYKVLTA 1 7\n",
      "DYVSALHPV DHVSALHPV 1 1\n",
      "EEAIVAYTL EEAPVAYTL 1 3\n",
      "EEEEDGESL EEEEDGESE 4 8\n",
      "EEFWLVDLL EEFRLVDLL 1 3\n",
      "EEKSDINTL EEKSDIETL 1 6\n",
      "EELKQKLRL EEQKQKLRL 1 2\n",
      "EELSATVPS EEPSATVPS 1 2\n",
      "EEQILASIL FEQILASIL 1 0\n",
      "EFQVVNPHL EFQIVNPHL 1 3\n",
      "EISDRFIGI EISDRLIGI 1 5\n",
      "ELAGIGILT EAAGIGILT 1 1\n",
      "ELLEQQKAA ELLEQQKRA 1 7\n",
      "ELYDGMEHL GLYDGMEHL 1 0\n",
      "ESDLNSWPV ESDLDSWPV 1 4\n",
      "ESGGAVAFF ESGGAVAFS 1 8\n",
      "ESIKEITNF ESIKEITNL 1 8\n",
      "EYPVIFKSI EYPVISKSI 1 5\n",
      "EYVLLLFLL EYVLLLFLA 1 8\n",
      "FEAEFTQVA FGAEFTQVA 1 1\n",
      "FFPDFVITL FFPDFVWTL 1 6\n",
      "FIFLLFLTL FIFLLFLPL 1 7\n",
      "FLAPTGVPV FLVPTGVPV 1 2\n",
      "FLAVLSPTI FLAVLSITI 1 6\n",
      "FLFQDSKKI FFFQDSKKI 1 1\n",
      "FLFYPLDFT FFFYPLDFT 1 1\n",
      "FLGERVTLT FKGERVTLT 2 1\n",
      "FLLSLGIHL FLLSLGIIL 1 7\n",
      "FLLTDYALS FLLTDYAPS 1 7\n",
      "FLTLSVTWV FLTLSVTWI 1 8\n",
      "FLYDGMEHL GLYDGMEHL 1 0\n",
      "FMMPRIVDV FMMPRIVNV 1 7\n",
      "FMVPRDPAL FLVPRDPAL 1 1\n",
      "FPAAAFPTA SPAAAFPTA 1 0\n",
      "FPGNQWNPV FPGNRWNPV 1 4\n",
      "FPKKIQMLA FPKEIQMLA 1 3\n",
      "FPQGLPNEY FPQGLPDEY 1 6\n",
      "FPVVNSHSL FAVVNSHSL 1 1\n",
      "FQAQHIAMA FQAQHIAVA 1 7\n",
      "FSPGAANLF SSPGAANLF 1 0\n",
      "FTDEKVKAY LTDEKVKAY 1 0\n",
      "FVADWAGTF FVADRAGTF 1 4\n",
      "FVIFPIQYY FVIFPIQYP 1 8\n",
      "FVTETPLEV FVTETPLEG 1 8\n",
      "FVVFILIYV FVVFLLIYV 1 4\n",
      "GAYDGMEHL GLYDGMEHL 2 1\n",
      "GCYDGMEHL GLYDGMEHL 1 1\n",
      "GDYDGMEHL GLYDGMEHL 1 1\n",
      "GEPAETRVL GEPAETRVE 1 8\n",
      "GEYDGMEHL GLYDGMEHL 1 1\n",
      "GFYDGMEHL GLYDGMEHL 1 1\n",
      "GGYDGMEHL GLYDGMEHL 1 1\n",
      "GHYDGMEHL GLYDGMEHL 1 1\n",
      "GIPENSFNV GIPGNSFNV 2 3\n",
      "GIYDGMEHL GLYDGMEHL 1 1\n",
      "GKYDGMEHL GLYDGMEHL 1 1\n",
      "GLAAAVVAV GLGAAVVAV 1 2\n",
      "GLADAFILL GLADAFILM 1 8\n",
      "GLADGMEHL GLYDGMEHL 1 2\n",
      "GLCDGMEHL GLYDGMEHL 1 2\n",
      "GLDDGMEHL GLYDGMEHL 1 2\n",
      "GLEDGMEHL GLYDGMEHL 1 2\n",
      "GLFDGMEHL GLYDGMEHL 1 2\n",
      "GLGDGMEHL GLYDGMEHL 1 2\n",
      "GLGKGTYGV VLGKGTYGV 2 0\n",
      "GLGTLGAAL GLGELGAAL 1 3\n",
      "GLHDGMEHL GLYDGMEHL 1 2\n",
      "GLIDGMEHL GLYDGMEHL 1 2\n",
      "GLKDGMEHL GLYDGMEHL 1 2\n",
      "GLLDGMEHL GLYDGMEHL 1 2\n",
      "GLLGFVFTL GLLGFVGTL 1 6\n",
      "GLLNSIWPL GLLNSTWPL 1 5\n",
      "GLLVHPQWV GVLVHPQWV 1 1\n",
      "GLMDGMEHL GLYDGMEHL 1 2\n",
      "GLNDGMEHL GLYDGMEHL 1 2\n",
      "GLPDGMEHL GLYDGMEHL 1 2\n",
      "GLPVEYLQV GLPPEYLQV 1 3\n",
      "GLQDGMEHL GLYDGMEHL 1 2\n",
      "GLRDGMEHL GLYDGMEHL 1 2\n",
      "GLSDGMEHL GLYDGMEHL 1 2\n",
      "GLTDGMEHL GLYDGMEHL 1 2\n",
      "GLVDGMEHL GLYDGMEHL 1 2\n",
      "GLWDGMEHL GLYDGMEHL 1 2\n",
      "GLYAGMEHL GLYDGMEHL 1 3\n",
      "GLYCGMEHL GLYDGMEHL 1 3\n",
      "GLYDAMEHL GLYDGMEHL 1 4\n",
      "GLYDCMEHL GLYDGMEHL 1 4\n",
      "GLYDDMEHL GLYDGMEHL 1 4\n",
      "GLYDEMEHL GLYDGMEHL 1 4\n",
      "GLYDFMEHL GLYDGMEHL 1 4\n",
      "GLYDGAEHL GLYDGMEHL 1 5\n",
      "GLYDGCEHL GLYDGMEHL 1 5\n",
      "GLYDGDEHL GLYDGMEHL 1 5\n",
      "GLYDGEEHL GLYDGMEHL 2 5\n",
      "GLYDGFEHL GLYDGMEHL 1 5\n",
      "GLYDGGEHL GLYDGMEHL 1 5\n",
      "GLYDGHEHL GLYDGMEHL 1 5\n",
      "GLYDGIEHL GLYDGIEHF 2 8\n",
      "GLYDGKEHL GLYDGMEHL 1 5\n",
      "GLYDGLEHL GLYDGMEHL 1 5\n",
      "GLYDGMAHL GLYDGMEHL 1 6\n",
      "GLYDGMCHL GLYDGMEHL 1 6\n",
      "GLYDGMDHL GLYDGMEHL 1 6\n",
      "GLYDGMEAL GLYDGMEHL 1 7\n",
      "GLYDGMECL GLYDGMEHL 1 7\n",
      "GLYDGMEDL GLYDGMEHL 1 7\n",
      "GLYDGMEEL GLYDGMEHL 1 7\n",
      "GLYDGMEFL GLYDGMEHL 1 7\n",
      "GLYDGMEGL GLYDGMEHL 1 7\n",
      "GLYDGMEHA GLYDGMEHL 1 8\n",
      "GLYDGMEHC GLYDGMEHL 1 8\n",
      "GLYDGMEHD GLYDGMEHL 1 8\n",
      "GLYDGMEHE GLYDGMEHL 1 8\n",
      "GLYDGMEHF GLYDGMEHL 2 8\n",
      "GLYDGMEHG GLYDGMEHL 1 8\n",
      "GLYDGMEHH GLYDGMEHL 1 8\n",
      "GLYDGMEHI GLYDGMEHL 1 8\n",
      "GLYDGMEHK GLYDGMEHL 1 8\n",
      "GLYDGMEHM GLYDGMEHL 1 8\n",
      "GLYDGMEHN GLYDGMEHL 1 8\n",
      "GLYDGMEHP GLYDGMEHL 1 8\n",
      "GLYDGMEHQ GLYDGMEHL 1 8\n",
      "GLYDGMEHR GLYDGMEHL 1 8\n",
      "GLYDGMEHS GLYDGREHS 2 5\n",
      "GLYDGMEHT GLYDGMEHL 1 8\n",
      "GLYDGMEHV GLYDGMEHL 1 8\n",
      "GLYDGMEHW GLYDGMEHL 1 8\n",
      "GLYDGMEHY GLYDGMEHL 1 8\n",
      "GLYDGMEIL GLYDGMEHL 1 7\n",
      "GLYDGMEKL GLYDGMEHL 1 7\n",
      "GLYDGMELL GLYDGMEHL 1 7\n",
      "GLYDGMEML GLYDGMEHL 1 7\n",
      "GLYDGMENL GLYDGMEHL 1 7\n",
      "GLYDGMEPL GLYDGMEHL 1 7\n",
      "GLYDGMEQL GLYDGMEHL 1 7\n",
      "GLYDGMERL GLYDGMEHL 1 7\n",
      "GLYDGMESL GLYDGMEHL 1 7\n",
      "GLYDGMETL GLYDGMEHL 1 7\n",
      "GLYDGMEVL GLYDGMEHL 1 7\n",
      "GLYDGMEWL GLYDGMEHL 1 7\n",
      "GLYDGMEYL GLYDGMEHL 1 7\n",
      "GLYDGMFHL GLYDGMEHL 1 6\n",
      "GLYDGMGHL GLYDGMEHL 1 6\n",
      "GLYDGMHHL GLYDGMEHL 1 6\n",
      "GLYDGMIHL GLYDGMEHL 1 6\n",
      "GLYDGMKHL GLYDGMEHL 1 6\n",
      "GLYDGMLHL GLYDGMEHL 1 6\n",
      "GLYDGMMHL GLYDGMEHL 1 6\n",
      "GLYDGMNHL GLYDGMEHL 1 6\n",
      "GLYDGMPHL GLYDGMEHL 1 6\n",
      "GLYDGMQHL GLYDGMEHL 1 6\n",
      "GLYDGMRHL GLYDGMEHL 1 6\n",
      "GLYDGMSHL GLYDGMEHL 1 6\n",
      "GLYDGMTHL GLYDGMEHL 1 6\n",
      "GLYDGMVHL GLYDGMEHL 1 6\n",
      "GLYDGMWHL GLYDGMEHL 1 6\n",
      "GLYDGMYHL GLYDGMEHL 1 6\n",
      "GLYDGNEHL GLYDGMEHL 1 5\n",
      "GLYDGPEHL GLYDGMEHL 1 5\n",
      "GLYDGQEHL GLYDGMEHL 1 5\n",
      "GLYDGREHL GLYDGREHS 2 8\n",
      "GLYDGSEHL GLYDGMEHL 1 5\n",
      "GLYDGTEHL GLYDGMEHL 1 5\n",
      "GLYDGVEHL GLYDGMEHL 1 5\n",
      "GLYDGWEHL GLYDGMEHL 1 5\n",
      "GLYDGYEHL GLYDGMEHL 1 5\n",
      "GLYDHMEHL GLYDGMEHL 1 4\n",
      "GLYDIMEHL GLYDGMEHL 1 4\n",
      "GLYDKMEHL GLYDGMEHL 1 4\n",
      "GLYDLMEHL GLYDGMEHL 1 4\n",
      "GLYDMMEHL GLYDGMEHL 1 4\n",
      "GLYDNMEHL GLYDGMEHL 1 4\n",
      "GLYDPMEHL GLYDGMEHL 1 4\n",
      "GLYDQMEHL GLYDGMEHL 1 4\n",
      "GLYDRMEHL GLYDGMEHL 1 4\n",
      "GLYDSMEHL GLYDGMEHL 1 4\n",
      "GLYDTMEHL GLYDGMEHL 1 4\n",
      "GLYDVMEHL GLYDGMEHL 1 4\n",
      "GLYDWMEHL GLYDGMEHL 1 4\n",
      "GLYDYMEHL GLYDGMEHL 1 4\n",
      "GLYEGMEHL GLYDGMEHL 1 3\n",
      "GLYFGMEHL GLYDGMEHL 1 3\n",
      "GLYGGMEHL GLYDGMEHL 1 3\n",
      "GLYHGMEHL GLYDGMEHL 1 3\n",
      "GLYIGMEHL GLYDGMEHL 1 3\n",
      "GLYKGMEHL GLYDGMEHL 1 3\n",
      "GLYLGMEHL GLYDGMEHL 1 3\n",
      "GLYMGMEHL GLYDGMEHL 1 3\n",
      "GLYNGMEHL GLYDGMEHL 1 3\n",
      "GLYPGMEHL GLYDGMEHL 1 3\n",
      "GLYQGMEHL GLYDGMEHL 1 3\n",
      "GLYRGMEHL GLYDGMEHL 1 3\n",
      "GLYSGMEHL GLYDGMEHL 1 3\n",
      "GLYTGMEHL GLYDGMEHL 1 3\n",
      "GLYVGMEHL GLYDGMEHL 1 3\n",
      "GLYWGMEHL GLYDGMEHL 1 3\n",
      "GLYYGMEHL GLYDGMEHL 1 3\n",
      "GMYDGMEHL GLYDGMEHL 1 1\n",
      "GNYDGMEHL GLYDGMEHL 1 1\n",
      "GPGLSPGTL GPLLSPGTL 1 2\n",
      "GPYDGMEHL GLYDGMEHL 1 1\n",
      "GQYDGMEHL GLYDGMEHL 1 1\n",
      "GRYDGMEHL GLYDGMEHL 1 1\n",
      "GSYDGMEHL GLYDGMEHL 1 1\n",
      "GTKPNPHVY GTKPNPQVY 1 6\n",
      "GTSNWTGNY GTSNWSGNY 1 5\n",
      "GTTNSCVSV GTTNSCVAV 1 7\n",
      "GTYDGMEHL GLYDGMEHL 1 1\n",
      "GVFDGAASV GAFDGAASV 1 1\n",
      "GVYDGMEHL GLYDGMEHL 1 1\n",
      "GWYDGMEHL GLYDGMEHL 1 1\n",
      "GYYDGMEHL GLYDGMEHL 1 1\n",
      "HIMPDTAEI HIMPDTPEI 1 6\n",
      "HLARHRHLM HPARHRHLM 1 1\n",
      "HLNGLLREV HLNGLLREA 3 8\n",
      "HLYAYHEEL HLYAYHEEP 1 8\n",
      "HLYDGMEHL GLYDGMEHL 1 0\n",
      "HSYSELCTW DSYSELCTW 1 0\n",
      "HTLGAASSF HTLGAASPF 1 7\n",
      "IAMAVLYLA IAVAVLYLA 1 2\n",
      "IEDPPFNSL IEDPPFPSL 1 6\n",
      "IENIHSEMY MENIHSEMY 2 0\n",
      "IIYERDFSY IIYDRDFSY 1 3\n",
      "ILCTRTPPK ILATRTPPK 1 2\n",
      "ILDEERDKV ILDCERDKV 1 3\n",
      "ILQYDLWNV ILQYDMWNV 1 5\n",
      "ILYDGMEHL GLYDGMEHL 1 0\n",
      "IMDQVPFSV ITDQVPFSV 1 1\n",
      "IPAALIILL FPAALIILL 1 0\n",
      "IPAVKLNKL IPAVKLNEL 1 7\n",
      "IPLSDNTIF IPLSDNTIS 1 8\n",
      "ISDRFIGIY ISDRLIGIY 1 4\n",
      "ITDAHELGV ITAAHELGV 1 2\n",
      "IVSPFIPLL IVSPFIFLL 1 6\n",
      "KELYVSSSY KELYVSSSL 1 8\n",
      "KEWEDSQLV KECEDSQLV 1 2\n",
      "KFGDLTNNF KFGDLTDNF 1 6\n",
      "KLFESKAEL QLFESKAEL 1 0\n",
      "KLGDVITII KHGDVITII 1 1\n",
      "KLIANNTRV KLIANNTTV 1 7\n",
      "KLKFVTLVF ELKFVTLVF 1 0\n",
      "KLLENFYVT ELLENFYVT 1 0\n",
      "KLLKDLFPK KLLQDLFPK 2 3\n",
      "KLNFRLFVI KLNSRLFVI 1 3\n",
      "KLSEQILKK KLSQQILKK 1 3\n",
      "KLYDGMEHL GLYDGMEHL 1 0\n",
      "KMAADRGAF KMAAERGAF 1 4\n",
      "KMIENESPL KMIENESPS 1 8\n",
      "KPSPLAPAA KPSPPAPAA 1 4\n",
      "KQIANELNY QQIANELNY 1 0\n",
      "KSLANFGGW KSLANSGGW 1 5\n",
      "KVIVRNLNK KVVVRNLNK 1 2\n",
      "KVSPPSLGK KVSPPSLGF 1 8\n",
      "KVTGHRWLK EVTGHRWLK 1 0\n",
      "KVYEGVWKK EVYEGVWKK 1 0\n",
      "LAILSVSSF LGILSVSSF 1 1\n",
      "LALLLLDRL LALLLLLRL 1 6\n",
      "LASYFFWGL LASHFFWGL 1 3\n",
      "LESYSSSPL LESYSSSPC 1 8\n",
      "LFHTFYELL LFHTFYDLL 1 6\n",
      "LFTISVSSL LFTGSVSSL 1 3\n",
      "LIASNVAGV LIASTVAGV 1 4\n",
      "LISGPSVGV SISGPSVGV 1 0\n",
      "LLAQEQLEK LLANEQLEK 1 3\n",
      "LLCLIFLLV LLGLIFLLV 1 2\n",
      "LLDEPSSGL LLDEPSSGM 1 8\n",
      "LLDKFVEWY LLDEFVEWY 1 3\n",
      "LLHTELERF LLHTELERS 1 8\n",
      "LLLEVVWHL LLLEAVWHL 1 4\n",
      "LLLSNLAIV LLLSNLNIV 1 6\n",
      "LLVAPMPTA LLIAPMPTA 1 2\n",
      "LLVDLLWLL LLVLLLWLL 1 3\n",
      "LLVIWILIV LLVIIILIV 1 4\n",
      "LLYDGMEHL GLYDGMEHL 1 0\n",
      "LLYLILFLL LLYLILKLL 1 6\n",
      "LMLLRLSEV LMLLRLSEP 1 8\n",
      "LPFDKTTVM LPFGKTTVM 1 3\n",
      "LPNEYAFVT LPDEYAFVT 1 2\n",
      "LPNITLKII LPNGTLKII 1 3\n",
      "LSMLNLTKY LSRLNLTKY 1 2\n",
      "LTAAVLLLI LTAAVLGLI 1 6\n",
      "LTARDAGTY LTQRDAGTY 1 2\n",
      "LTFLHTLYK LTFLHTLYQ 1 8\n",
      "LYALALLLL LGALALLLL 3 1\n",
      "LYLILFLLF LPLILFLLF 1 1\n",
      "LYPEFIASI LYPELIASI 1 4\n",
      "LYVFVGTKF LYVFVGVKF 1 6\n",
      "MAGPKGFQY MAGPEGFQY 1 4\n",
      "MIVAWFLLL MIVAIFLLL 1 4\n",
      "MLAEQLKQA KLAEQLKQA 1 0\n",
      "MLAVFLPIV MIAVFLPIV 1 1\n",
      "MLIGIPVYV MIIGIPVYV 2 1\n",
      "MLYDGMEHL GLYDGMEHL 1 0\n",
      "NEIETATRY NEIETATRS 1 8\n",
      "NELKKTSSF NELGKTSSF 1 3\n",
      "NEVSEVTVF NEVPEVTVF 1 3\n",
      "NEYAFVTTF DEYAFVTTF 1 0\n",
      "NHDETSFLL NHDETSSLL 1 6\n",
      "NLQREEYTV NLEREEYTV 1 2\n",
      "NLVPQVATV NLVPQQATV 1 5\n",
      "NLYDGMEHL GLYDGMEHL 1 0\n",
      "NRRRRTAGV NRRRKTAGV 1 4\n",
      "NSKKKWFLF NSKKKWFFF 1 7\n",
      "NVELRRNVL NVELPRNVL 1 4\n",
      "NVLSSLVLV NVLPSLVLV 1 3\n",
      "PDESTLSPE VDESTLSPE 1 0\n",
      "PLYDGMEHL GLYDGMEHL 1 0\n",
      "QDVSVQVER QDVSVQVEM 1 8\n",
      "QGLPNEYAF QGLPDEYAF 1 4\n",
      "QLCDVMFYL QLRDVMFYL 1 2\n",
      "QLFARARPM RLFARARPM 1 0\n",
      "QLYDGMEHL GLYDGMEHL 1 0\n",
      "QPPALSPSY QPPAPSPSY 1 4\n",
      "QQQQVVTNK QQQQVGTNK 1 5\n",
      "QVKDEKLNL TVKDEKLNL 1 0\n",
      "RALSLAAVL RALSLAAVV 1 8\n",
      "REELLAATL RGELLAATL 1 1\n",
      "REFDKIELA REFDEIELA 1 4\n",
      "RFANPRDSF LFANPRDSF 1 0\n",
      "RGDLETLGY RGDLEILGY 1 5\n",
      "RLLDRLVRL RLLDRLVRR 1 8\n",
      "RLMLRKVAL RLMLRRVAL 2 5\n",
      "RLYDGMEHL GLYDGMEHL 1 0\n",
      "RVFRDSWAL RVFGDSWAL 1 3\n",
      "RYAPVCKPL RYAAVCKPL 1 3\n",
      "SELMKVSAM SELVKVSAM 1 3\n",
      "SIKEITNFK SIKEITNLK 1 7\n",
      "SLANFGGWV SLANSGGWV 1 4\n",
      "SLLIDTYVK SLLIDTYIK 1 7\n",
      "SLLMWITQV SLLMWITQC 1 8\n",
      "SLPMKNFPV SLPTKNFPV 1 3\n",
      "SLQQEITLL SLQQEITIL 2 7\n",
      "SLRDREFSK SLRDREFST 1 8\n",
      "SLSIFFIVV PLSIFFIVV 1 0\n",
      "SLYDGMEHL GLYDGMEHL 1 0\n",
      "SLYDLDIEA SSYDLDIEA 1 1\n",
      "SMINGVVKL SMINGVVKA 1 8\n",
      "SPAGSTRVL SPAFSTRVL 1 3\n",
      "SPKAGLLSL SPPAGLLSL 1 2\n",
      "SPLYSVKSL SPLYSVKSF 1 8\n",
      "SPSKTSLTL SPSKTSLPL 1 7\n",
      "SPVSILSTL SPSSILSTL 1 2\n",
      "SPVTFPAAA SPVTSPAAA 1 4\n",
      "SQFARVPGY SQFARVPGF 1 8\n",
      "SRGDTPVLP SRGDTPVLD 1 8\n",
      "SSAAAPFPL SSAAAPFPH 1 8\n",
      "SSQPQVPFY SSQPQVPFH 1 8\n",
      "SSSISISKY SSSIYISKY 1 4\n",
      "STLESEIAK STLESENAK 1 6\n",
      "STLPETTVV SRLPETTVV 1 1\n",
      "SVGDFSQEF SVGDSSQEF 1 4\n",
      "SVQAPVPPK SLQAPVPPK 1 1\n",
      "TEATFFPPL TGATFFPPL 1 1\n",
      "TELERFLEY TELERSLEY 1 5\n",
      "TFFSRGLSR TFFSRGLSF 1 8\n",
      "TIIDNIKEM TIIDNIEEM 1 6\n",
      "TLAEDLNLL TSAEDLNLL 1 1\n",
      "TLFHTFYEL TLFHTFYDL 1 7\n",
      "TLLSQVNKV TPLSQVNKV 1 1\n",
      "TLNLRLSAV TPNLRLSAV 1 1\n",
      "TLQELSHAL TRQELSHAL 1 1\n",
      "TLQQLLMGT TLQQLLMQT 1 7\n",
      "TLYDGMEHL GLYDGMEHL 1 0\n",
      "TRKNKKLAL TRKNKKLAP 1 8\n",
      "TSIQSPSLY TSIQSPSSY 1 7\n",
      "TVQEFIFSA TIQEFIFSA 1 1\n",
      "VAATMANEM VAATMAHEM 1 6\n",
      "VALMLQGNK VALMLLGNK 1 5\n",
      "VALRHVVCA QALRHVVCA 1 0\n",
      "VEIPNRIVF VEIPNRIMF 1 7\n",
      "VEIRKIKSL VEERKIKSL 1 2\n",
      "VEPYTSNIY IEPYTSNIY 1 0\n",
      "VFLTSNAGL VFLTSLAGL 1 5\n",
      "VLAKKLKFV VLAKELKFV 1 4\n",
      "VLCLRPVGA VLKLRPVGA 1 2\n",
      "VLLQRLHLL TLLQRLHLL 1 0\n",
      "VLLSICYLL VLLSICSLL 1 6\n",
      "VLYDGMEHL GLYDGMEHL 1 0\n",
      "VQLEEEYEV VQLEEEYED 1 8\n",
      "VSQPVAPSY VPQPVAPSY 1 1\n",
      "VTEKLQPTY VTEKLQLTY 1 6\n",
      "VTLDVILER VTLEVILER 1 3\n",
      "VVMSWAPPV VVLSWAPPV 1 2\n",
      "VYGDTDSVF VYGDTDSVM 2 8\n",
      "VYKFLFTDL VYCFLFTDL 1 2\n",
      "VYNNTARYI VYNNTARYV 1 8\n",
      "WEYVLLLFL KEYVLLLFL 1 0\n",
      "WLVDLLPST RLVDLLPST 1 0\n",
      "WLYDGMEHL GLYDGMEHL 1 0\n",
      "WTNCILHEY WTNRILHEY 1 3\n",
      "WVYECTVFL WVYESTVFL 3 4\n",
      "YEPGKRRWL YEPGKRHWL 1 6\n",
      "YERDFSYNY YDRDFSYNY 1 1\n",
      "YFFWGLWAL HFFWGLWAL 1 0\n",
      "YFIKHVLAF YFISHVLAF 1 3\n",
      "YFKRLTSEI YFKRLTCEI 1 6\n",
      "YGIRGFSTI YGIRGFPTI 1 6\n",
      "YLCLQNNFI YLYLQNNFI 1 2\n",
      "YLDLKGPKV KLDLKGPKV 2 0\n",
      "YLDTDVILM YPDTDVILM 1 1\n",
      "YLEPGPVTV YLEPGPVTA 1 8\n",
      "YLFNAIETM FLFNAIETM 1 0\n",
      "YLLFQNTDL YLLFQDTDL 1 5\n",
      "YLLTDCNPA SLLTDCNPA 1 0\n",
      "YLQTDVFLV YPQTDVFLV 1 1\n",
      "YLSNIIPAL YLSKIIPAL 1 3\n",
      "YLYDGMEHL GLYDGMEHL 1 0\n",
      "YLYDRLLRV YLYDRLLRI 1 8\n",
      "YMASEVVEV YMAPEVVEV 1 3\n",
      "YMDGTMSQV YMNGTMSQV 1 2\n",
      "YMYEAPPGA FMYEAPPGA 1 0\n",
      "YNSFSSAPM YNSFSSASM 1 7\n",
      "YPEFARKAL LPEFARKAL 1 0\n",
      "YPVIFKSIM YPVISKSIM 1 4\n",
      "YSSIVANRW YPSIVANRW 1 1\n",
      "YTWPSGNIY YTWPSGNTY 1 7\n",
      "YVGSPLAAM FVGSPLAAM 1 0\n",
      "YYLPLRKDI YYLQLRKDI 1 3\n"
     ]
    }
   ],
   "source": [
    "neighbors = []\n",
    "diffposs = []\n",
    "for epitope in epitopes:\n",
    "    all_neighbors = set(hamming_neighbors(epitope)).intersection(selfset)\n",
    "    neighbor = random.choice(list(all_neighbors))\n",
    "    diffpos = int(np.where(np.array(list(epitope)) != np.array(list(neighbor)))[0])\n",
    "    diffposs.append(diffpos)\n",
    "    neighbors.append(neighbor)\n",
    "    print(epitope,\n",
    "          neighbor,\n",
    "          len(all_neighbors),\n",
    "          diffpos)\n",
    "neighbors = np.array(neighbors)\n",
    "diffposs = np.array(diffposs)"
   ]
  },
  {
   "cell_type": "code",
   "execution_count": 17,
   "id": "43122ef6",
   "metadata": {},
   "outputs": [
    {
     "name": "stderr",
     "output_type": "stream",
     "text": [
      "/home/amayer/miniconda3/envs/min/lib/python3.6/site-packages/ipykernel_launcher.py:2: SettingWithCopyWarning: \n",
      "A value is trying to be set on a copy of a slice from a DataFrame.\n",
      "Try using .loc[row_indexer,col_indexer] = value instead\n",
      "\n",
      "See the caveats in the documentation: https://pandas.pydata.org/pandas-docs/stable/user_guide/indexing.html#returning-a-view-versus-a-copy\n",
      "  \n"
     ]
    }
   ],
   "source": [
    "df_d1 = d[d['nndist']==1]\n",
    "df_d1['Position difference'] = diffposs"
   ]
  },
  {
   "cell_type": "code",
   "execution_count": 18,
   "id": "ee72c403",
   "metadata": {},
   "outputs": [
    {
     "name": "stderr",
     "output_type": "stream",
     "text": [
      "/home/amayer/miniconda3/envs/min/lib/python3.6/site-packages/pandas/core/generic.py:3889: PerformanceWarning: dropping on a non-lexsorted multi-index without a level parameter may impact performance.\n",
      "  obj = obj._drop_axis(labels, axis, level=level, errors=errors)\n"
     ]
    },
    {
     "data": {
      "text/plain": [
       "[<matplotlib.lines.Line2D at 0x7fa28a07a1d0>]"
      ]
     },
     "execution_count": 18,
     "metadata": {},
     "output_type": "execute_result"
    },
    {
     "data": {
      "image/png": "[encoded data removed]",
      "text/plain": [
       "<Figure size 1026x690 with 1 Axes>"
      ]
     },
     "metadata": {},
     "output_type": "display_data"
    }
   ],
   "source": [
    "plt.plot(df_d1.groupby('Position difference').agg('count')['Epitope', 'Description'])"
   ]
  },
  {
   "cell_type": "code",
   "execution_count": 19,
   "id": "bda80f61",
   "metadata": {},
   "outputs": [
    {
     "data": {
      "text/plain": [
       "(0.0, 1.0)"
      ]
     },
     "execution_count": 19,
     "metadata": {},
     "output_type": "execute_result"
    },
    {
     "data": {
      "image/png": "[encoded data removed]",
      "text/plain": [
       "<Figure size 1026x690 with 1 Axes>"
      ]
     },
     "metadata": {},
     "output_type": "display_data"
    }
   ],
   "source": [
    "ps = df_d1.groupby('Position difference').agg('mean')['Assay', 'Positive']\n",
    "ns = df_d1.groupby('Position difference').agg('count')['Assay', 'Positive']\n",
    "lower, upper = statsmodels.stats.proportion.proportion_confint(ps*ns, ns, method='jeffreys', alpha=.1)\n",
    "fig, ax = plt.subplots()\n",
    "ax.errorbar(range(len(ps)), ps, yerr=[ps-lower, upper-ps], ls='None', fmt='_')\n",
    "ax.set_ylim(0, 1)"
   ]
  },
  {
   "cell_type": "code",
   "execution_count": 20,
   "id": "1e3a7696",
   "metadata": {},
   "outputs": [
    {
     "data": {
      "text/plain": [
       "[((0, 1), 0.9980656847646582),\n",
       " ((0, 2), 0.5058282475958678),\n",
       " ((0, 3), 0.036640111394350194),\n",
       " ((0, 4), 0.7550113952549563),\n",
       " ((0, 5), 0.8927461047525793),\n",
       " ((0, 6), 0.46083077063465594),\n",
       " ((0, 7), 0.9998768375771219),\n",
       " ((0, 8), 0.9861429846945482),\n",
       " ((1, 2), 0.9697903612444139),\n",
       " ((1, 3), 0.40364544185140694),\n",
       " ((1, 4), 0.9954390335056164),\n",
       " ((1, 5), 0.9971990996799104),\n",
       " ((1, 6), 0.9578736182369837),\n",
       " ((1, 7), 0.9977417866882642),\n",
       " ((1, 8), 0.9998768375771219),\n",
       " ((2, 3), 0.9980656847646582),\n",
       " ((2, 4), 0.9998768375771219),\n",
       " ((2, 5), 0.9998768375771219),\n",
       " ((2, 6), 0.9998768375771219),\n",
       " ((2, 7), 0.5058282475958678),\n",
       " ((2, 8), 0.9954390335056164),\n",
       " ((3, 4), 0.9954390335056164),\n",
       " ((3, 5), 0.9954390335056164),\n",
       " ((3, 6), 0.9980656847646582),\n",
       " ((3, 7), 0.042524476143140255),\n",
       " ((3, 8), 0.6561030477934815),\n",
       " ((4, 5), 0.9998768375771219),\n",
       " ((4, 6), 0.9998768375771219),\n",
       " ((4, 7), 0.7550113952549563),\n",
       " ((4, 8), 0.9980656847646582),\n",
       " ((5, 6), 0.9998768375771219),\n",
       " ((5, 7), 0.8917790570046658),\n",
       " ((5, 8), 0.9983236613735891),\n",
       " ((6, 7), 0.46208255574508816),\n",
       " ((6, 8), 0.9948503471477039),\n",
       " ((7, 8), 0.9856577563237668)]"
      ]
     },
     "execution_count": 20,
     "metadata": {},
     "output_type": "execute_result"
    }
   ],
   "source": [
    "test = statsmodels.stats.proportion.proportions_chisquare_allpairs(ps*ns, ns)\n",
    "list(zip(test.all_pairs, test.pval_corrected()))"
   ]
  },
  {
   "cell_type": "markdown",
   "id": "0ac7d3ad",
   "metadata": {},
   "source": [
    "# Epitope Distance"
   ]
  },
  {
   "cell_type": "code",
   "execution_count": 21,
   "id": "3a03d233",
   "metadata": {},
   "outputs": [],
   "source": [
    "sys.path.append('/home/amayer/dropp/zach_andreas/EpitopeDistance/epdist')\n",
    "from EpitopeDistance import EpitopeDistance"
   ]
  },
  {
   "cell_type": "code",
   "execution_count": 22,
   "id": "8b15e69a",
   "metadata": {},
   "outputs": [],
   "source": [
    "epd = EpitopeDistance()"
   ]
  },
  {
   "cell_type": "code",
   "execution_count": 23,
   "id": "8adf56bd",
   "metadata": {},
   "outputs": [],
   "source": [
    "pairs = list(zip(epitopes, neighbors))"
   ]
  },
  {
   "cell_type": "code",
   "execution_count": 24,
   "id": "6e9b86d2",
   "metadata": {},
   "outputs": [],
   "source": [
    "distance = np.array([epd.epitope_dist(epiA, epiB) for epiA, epiB in pairs])"
   ]
  },
  {
   "cell_type": "code",
   "execution_count": 26,
   "id": "e1656956",
   "metadata": {},
   "outputs": [],
   "source": [
    "d1 = d[d['nndist']==1]"
   ]
  },
  {
   "cell_type": "code",
   "execution_count": 27,
   "id": "ca77563a",
   "metadata": {},
   "outputs": [
    {
     "name": "stderr",
     "output_type": "stream",
     "text": [
      "/home/amayer/miniconda3/envs/min/lib/python3.6/site-packages/ipykernel_launcher.py:1: SettingWithCopyWarning: \n",
      "A value is trying to be set on a copy of a slice from a DataFrame.\n",
      "Try using .loc[row_indexer,col_indexer] = value instead\n",
      "\n",
      "See the caveats in the documentation: https://pandas.pydata.org/pandas-docs/stable/user_guide/indexing.html#returning-a-view-versus-a-copy\n",
      "  \"\"\"Entry point for launching an IPython kernel.\n"
     ]
    }
   ],
   "source": [
    "d1['distance'] = distance"
   ]
  },
  {
   "cell_type": "code",
   "execution_count": 28,
   "id": "0924b110",
   "metadata": {},
   "outputs": [
    {
     "data": {
      "image/png": "[encoded data removed]",
      "text/plain": [
       "<Figure size 1026x690 with 1 Axes>"
      ]
     },
     "metadata": {},
     "output_type": "display_data"
    }
   ],
   "source": [
    "bins = np.linspace(0, distance.max(), 10)\n",
    "plt.hist(distance[d1[('Assay', 'Positive')]], histtype='step', density=True, bins=bins)\n",
    "plt.hist(distance[~d1[('Assay', 'Positive')]], histtype='step', density=True, bins=bins);"
   ]
  },
  {
   "cell_type": "code",
   "execution_count": 47,
   "id": "9cbbd9e1",
   "metadata": {},
   "outputs": [],
   "source": [
    "d1.columns = d1.columns.get_level_values(0)"
   ]
  },
  {
   "cell_type": "code",
   "execution_count": 56,
   "id": "55e5093b",
   "metadata": {},
   "outputs": [
    {
     "data": {
      "text/plain": [
       "MannwhitneyuResult(statistic=19602.0, pvalue=0.05376475675961773)"
      ]
     },
     "execution_count": 56,
     "metadata": {},
     "output_type": "execute_result"
    }
   ],
   "source": [
    "import scipy.stats\n",
    "scipy.stats.mannwhitneyu(distance[d1[('Assay')]], distance[~d1[('Assay')]], alternative='two-sided')"
   ]
  },
  {
   "cell_type": "code",
   "execution_count": 30,
   "id": "8351c54b",
   "metadata": {},
   "outputs": [],
   "source": [
    "cuts = pd.qcut(d1['distance'], 4)"
   ]
  },
  {
   "cell_type": "code",
   "execution_count": 31,
   "id": "1150e3e0",
   "metadata": {},
   "outputs": [
    {
     "name": "stderr",
     "output_type": "stream",
     "text": [
      "/home/amayer/miniconda3/envs/min/lib/python3.6/site-packages/IPython/core/interactiveshell.py:2867: PerformanceWarning: indexing past lexsort depth may impact performance.\n",
      "  raw_cell, store_history, silent, shell_futures)\n"
     ]
    },
    {
     "data": {
      "text/plain": [
       "(array([0.33628319, 0.38053097, 0.30973451, 0.23893805]),\n",
       " array([113, 113, 113, 113]))"
      ]
     },
     "execution_count": 31,
     "metadata": {},
     "output_type": "execute_result"
    }
   ],
   "source": [
    "dagg = d1.groupby(cuts).agg(['mean', 'count'])['Assay', 'Positive']\n",
    "ps = np.asarray(list(dagg['mean']))\n",
    "ns = np.asarray(dagg['count'])\n",
    "ps, ns"
   ]
  },
  {
   "cell_type": "code",
   "execution_count": 32,
   "id": "07b8c6ec",
   "metadata": {},
   "outputs": [
    {
     "data": {
      "image/png": "[encoded data removed]",
      "text/plain": [
       "<Figure size 675x525 with 1 Axes>"
      ]
     },
     "metadata": {},
     "output_type": "display_data"
    }
   ],
   "source": [
    "fig, ax = plt.subplots(figsize=(2.25, 1.75))\n",
    "lower, upper = statsmodels.stats.proportion.proportion_confint(ps*ns, ns, method='jeffreys', alpha=.1)\n",
    "ax.errorbar(range(len(ps)), ps, yerr=[ps-lower, upper-ps], ls='None', fmt='_')\n",
    "ax.set_ylim(0.0, 0.6)\n",
    "ax.set_xlabel('Distance to Nearest Self Peptide')\n",
    "ax.set_ylabel('Fraction Immunogenic')\n",
    "ax.set_xticks([0, 1, 2, 3])\n",
    "ax.set_xticklabels([0, 1, 2, '3+'])\n",
    "fig.tight_layout()\n",
    "fig.savefig(figuredir+'iedbposvsdist.svg')"
   ]
  },
  {
   "cell_type": "code",
   "execution_count": null,
   "id": "229a9e92",
   "metadata": {},
   "outputs": [],
   "source": []
  }
 ],
 "metadata": {
  "kernelspec": {
   "display_name": "Python 3",
   "language": "python",
   "name": "python3"
  },
  "language_info": {
   "codemirror_mode": {
    "name": "ipython",
    "version": 3
   },
   "file_extension": ".py",
   "mimetype": "text/x-python",
   "name": "python",
   "nbconvert_exporter": "python",
   "pygments_lexer": "ipython3",
   "version": "3.6.13"
  }
 },
 "nbformat": 4,
 "nbformat_minor": 5
}
