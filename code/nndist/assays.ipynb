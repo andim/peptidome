{
 "cells": [
  {
   "cell_type": "code",
   "execution_count": 2,
   "id": "2a449ba7",
   "metadata": {},
   "outputs": [],
   "source": [
    "import numpy as np\n",
    "import pandas as pd\n",
    "from scipy.stats import entropy\n",
    "import scipy.stats\n",
    "from scipy.stats import poisson\n",
    "import seaborn as sns\n",
    "import sklearn.neighbors\n",
    "import matplotlib.pyplot as plt\n",
    "\n",
    "import Levenshtein\n",
    "\n",
    "import sys\n",
    "sys.path.append('..')\n",
    "from lib import *\n",
    "\n",
    "plt.style.use('../peptidome.mplstyle')"
   ]
  },
  {
   "cell_type": "code",
   "execution_count": 3,
   "id": "1e00df70",
   "metadata": {},
   "outputs": [],
   "source": [
    "ks = [8, 9, 10, 11]"
   ]
  },
  {
   "cell_type": "code",
   "execution_count": 4,
   "id": "7eb3a46b",
   "metadata": {},
   "outputs": [],
   "source": [
    "selfset = {k:set(count_kmers_proteome(human, k, clean=True)) for k in ks}"
   ]
  },
  {
   "cell_type": "code",
   "execution_count": null,
   "id": "96171eb9",
   "metadata": {},
   "outputs": [],
   "source": [
    "# only human host\n",
    "df_t = load_iedb_tcellepitopes(human_only=True)\n",
    "print(df_t.shape[0])"
   ]
  },
  {
   "cell_type": "code",
   "execution_count": 1,
   "id": "928973a3",
   "metadata": {},
   "outputs": [
    {
     "ename": "NameError",
     "evalue": "name 'df_t' is not defined",
     "output_type": "error",
     "traceback": [
      "\u001b[0;31m---------------------------------------------------------------------------\u001b[0m",
      "\u001b[0;31mNameError\u001b[0m                                 Traceback (most recent call last)",
      "Input \u001b[0;32mIn [1]\u001b[0m, in \u001b[0;36m<cell line: 2>\u001b[0;34m()\u001b[0m\n\u001b[1;32m      1\u001b[0m \u001b[38;5;66;03m# only MHC I epitopes\u001b[39;00m\n\u001b[0;32m----> 2\u001b[0m df_t \u001b[38;5;241m=\u001b[39m \u001b[43mdf_t\u001b[49m[df_t[\u001b[38;5;124m'\u001b[39m\u001b[38;5;124mMHC\u001b[39m\u001b[38;5;124m'\u001b[39m, \u001b[38;5;124m'\u001b[39m\u001b[38;5;124mClass\u001b[39m\u001b[38;5;124m'\u001b[39m]\u001b[38;5;241m==\u001b[39m\u001b[38;5;124m'\u001b[39m\u001b[38;5;124mI\u001b[39m\u001b[38;5;124m'\u001b[39m]\n\u001b[1;32m      3\u001b[0m \u001b[38;5;28mprint\u001b[39m(df_t\u001b[38;5;241m.\u001b[39mshape[\u001b[38;5;241m0\u001b[39m])\n",
      "\u001b[0;31mNameError\u001b[0m: name 'df_t' is not defined"
     ]
    }
   ],
   "source": [
    "# only MHC I epitopes\n",
    "df_t = df_t[df_t['MHC', 'Class']=='I']\n",
    "print(df_t.shape[0])"
   ]
  },
  {
   "cell_type": "code",
   "execution_count": null,
   "id": "3adfb503",
   "metadata": {},
   "outputs": [],
   "source": [
    "# only epitopes of lengths in k\n",
    "mask = df_t['Epitope', 'Description'].apply(len).isin(ks)\n",
    "df_t = df_t[mask]\n",
    "print(df_t.shape[0])"
   ]
  },
  {
   "cell_type": "code",
   "execution_count": null,
   "id": "858442bd",
   "metadata": {},
   "outputs": [],
   "source": [
    "df_t['MHC', 'Class'].value_counts()"
   ]
  },
  {
   "cell_type": "code",
   "execution_count": 6,
   "id": "f22dc350",
   "metadata": {},
   "outputs": [
    {
     "name": "stdout",
     "output_type": "stream",
     "text": [
      "63601\n"
     ]
    }
   ],
   "source": [
    "# no host epitopes\n",
    "host = 'Homo sapiens'\n",
    "mask = ~df_t['Epitope', 'Parent Species'].str.contains(host, na=False)\n",
    "df_t = df_t[mask]\n",
    "print(df_t.shape[0])"
   ]
  },
  {
   "cell_type": "code",
   "execution_count": 7,
   "id": "121959c4",
   "metadata": {},
   "outputs": [
    {
     "name": "stdout",
     "output_type": "stream",
     "text": [
      "57451\n"
     ]
    }
   ],
   "source": [
    "# exclude autoimmune / allergy / cancer epitopes\n",
    "mask = ~(df_t['1st in vivo Process', 'Process Type'].isin(['Occurrence of autoimmune disease', \n",
    "                                                           'Occurrence of allergy',\n",
    "                                                           'Occurrence of cancer']))\n",
    "df_t = df_t[mask]\n",
    "print(df_t.shape[0])"
   ]
  },
  {
   "cell_type": "code",
   "execution_count": 8,
   "id": "05eb844d",
   "metadata": {},
   "outputs": [],
   "source": [
    "# only include epitopes of viral origin\n",
    "#mask = df_t['Epitope', 'Parent Species'].str.contains('virus')\n",
    "#df_t = df_t[mask]\n",
    "#print(df_t.shape[0])"
   ]
  },
  {
   "cell_type": "code",
   "execution_count": 9,
   "id": "5afd95cc",
   "metadata": {},
   "outputs": [
    {
     "data": {
      "text/plain": [
       "Assay Group               Method/Technique                 \n",
       "IFNg release              ELISPOT                              32284\n",
       "qualitative binding       multimer/tetramer                     6572\n",
       "IFNg release              ICS                                   4600\n",
       "cytotoxicity              51 chromium                           3687\n",
       "IFNg release              ELISA                                 1745\n",
       "TNFa release              ICS                                    989\n",
       "cytotoxicity              in vitro assay                         953\n",
       "activation                biological activity                    906\n",
       "proliferation             3H-thymidine                           654\n",
       "IL-2 release              ICS                                    457\n",
       "dissociation constant KD  surface plasmon resonance (SPR)        443\n",
       "T cell binding            High throughput multiplexed assay      416\n",
       "degranulation             biological activity                    343\n",
       "off rate                  binding assay                          326\n",
       "on rate                   binding assay                          320\n",
       "proliferation             CFSE                                   312\n",
       "granzyme B release        intracellular staining                 183\n",
       "dissociation constant KD  binding assay                          177\n",
       "IL-2 release              ELISA                                  140\n",
       "TNF release               ICS                                    138\n",
       "dtype: int64"
      ]
     },
     "execution_count": 9,
     "metadata": {},
     "output_type": "execute_result"
    }
   ],
   "source": [
    "df_t['Assay'][['Assay Group', 'Method/Technique']].value_counts().head(20)"
   ]
  },
  {
   "cell_type": "code",
   "execution_count": 10,
   "id": "e2282270",
   "metadata": {
    "scrolled": true
   },
   "outputs": [
    {
     "data": {
      "text/plain": [
       "ELISPOT                            32378\n",
       "multimer/tetramer                   6572\n",
       "ICS                                 6446\n",
       "51 chromium                         3687\n",
       "ELISA                               2307\n",
       "biological activity                 1341\n",
       "in vitro assay                      1033\n",
       "binding assay                        867\n",
       "3H-thymidine                         654\n",
       "surface plasmon resonance (SPR)      443\n",
       "Name: (Assay, Method/Technique), dtype: int64"
      ]
     },
     "execution_count": 10,
     "metadata": {},
     "output_type": "execute_result"
    }
   ],
   "source": [
    "df_t['Assay', 'Method/Technique'].value_counts().head(10)"
   ]
  },
  {
   "cell_type": "code",
   "execution_count": 11,
   "id": "57407976",
   "metadata": {},
   "outputs": [],
   "source": [
    "# exclude rare assay types\n",
    "mask = df_t[('Assay', 'Method/Technique')].isin(df_t[('Assay', 'Method/Technique')].value_counts().head(5).index)\n",
    "df_t_f = df_t[mask]"
   ]
  },
  {
   "cell_type": "code",
   "execution_count": 12,
   "id": "cd39e84c",
   "metadata": {},
   "outputs": [],
   "source": [
    "d0 = df_t_f['Epitope', 'Description'].apply(lambda x: x in selfset[len(x)])"
   ]
  },
  {
   "cell_type": "code",
   "execution_count": 13,
   "id": "98d029b3",
   "metadata": {},
   "outputs": [
    {
     "data": {
      "text/plain": [
       "Vaccinia virus                                     22213\n",
       "Hepacivirus C                                       3620\n",
       "Severe acute respiratory syndrome coronavirus 2     3245\n",
       "Human betaherpesvirus 5                             2951\n",
       "Human gammaherpesvirus 4                            2938\n",
       "Dengue virus                                        1585\n",
       "Hepatitis B virus                                   1515\n",
       "Influenza A virus                                   1446\n",
       "Plasmodium falciparum                               1051\n",
       "Mycobacterium tuberculosis                           923\n",
       "Human immunodeficiency virus 1                       712\n",
       "Human orthopneumovirus                               673\n",
       "Yellow fever virus                                   673\n",
       "Alphapapillomavirus 9                                575\n",
       "Human betaherpesvirus 6B                             398\n",
       "Human alphaherpesvirus 1                             324\n",
       "Lassa mammarenavirus                                 320\n",
       "Trypanosoma cruzi                                    278\n",
       "Toxoplasma gondii                                    261\n",
       "Mycobacterium leprae                                 241\n",
       "Name: (Epitope, Parent Species), dtype: int64"
      ]
     },
     "execution_count": 13,
     "metadata": {},
     "output_type": "execute_result"
    }
   ],
   "source": [
    "df_t_f['Epitope', 'Parent Species'].value_counts().head(20)"
   ]
  },
  {
   "cell_type": "code",
   "execution_count": 14,
   "id": "0756f6f7",
   "metadata": {},
   "outputs": [
    {
     "data": {
      "text/plain": [
       "IFNg release          32284\n",
       "granzyme B release       57\n",
       "IL-10 release            16\n",
       "TNF release              12\n",
       "IL-2 release              5\n",
       "IL-4 release              2\n",
       "IL-5 release              1\n",
       "IL-17 release             1\n",
       "Name: (Assay, Assay Group), dtype: int64"
      ]
     },
     "execution_count": 14,
     "metadata": {},
     "output_type": "execute_result"
    }
   ],
   "source": [
    "df_t_f[df_t_f['Assay', 'Method/Technique']=='ELISPOT']['Assay', 'Assay Group'].value_counts()"
   ]
  },
  {
   "cell_type": "code",
   "execution_count": 15,
   "id": "8f4d6d93",
   "metadata": {},
   "outputs": [
    {
     "data": {
      "text/plain": [
       "Vaccinia virus                                     104\n",
       "Human endogenous retrovirus K                       13\n",
       "Human betaherpesvirus 5                             10\n",
       "Mycobacterium tuberculosis                           3\n",
       "Human betaherpesvirus 6B                             3\n",
       "Mus musculus                                         2\n",
       "Leishmania major                                     2\n",
       "Human gammaherpesvirus 8                             1\n",
       "Plasmodium falciparum                                1\n",
       "Rattus norvegicus                                    1\n",
       "Sus scrofa                                           1\n",
       "Dengue virus                                         1\n",
       "bacterium JGI 053                                    1\n",
       "Severe acute respiratory syndrome coronavirus 2      1\n",
       "Name: (Epitope, Parent Species), dtype: int64"
      ]
     },
     "execution_count": 15,
     "metadata": {},
     "output_type": "execute_result"
    }
   ],
   "source": [
    "df_t_f[d0]['Epitope', 'Parent Species'].value_counts()"
   ]
  },
  {
   "cell_type": "code",
   "execution_count": 16,
   "id": "462916e0",
   "metadata": {},
   "outputs": [
    {
     "data": {
      "text/plain": [
       "Administration in vivo                                                             131\n",
       "No immunization                                                                     32\n",
       "Occurrence of infectious disease                                                    21\n",
       "Exposure with existing immune reactivity without evidence for disease                8\n",
       "Environmental exposure to endemic/ubiquitous agent without evidence for disease      5\n",
       "Name: (1st in vivo Process, Process Type), dtype: int64"
      ]
     },
     "execution_count": 16,
     "metadata": {},
     "output_type": "execute_result"
    }
   ],
   "source": [
    "df_t_f[d0]['1st in vivo Process', 'Process Type'].value_counts()"
   ]
  },
  {
   "cell_type": "code",
   "execution_count": 17,
   "id": "ab15764d",
   "metadata": {},
   "outputs": [],
   "source": [
    "pos_d0 = df_t_f[d0][[('Assay', 'Method/Technique'),\n",
    "                     ('Assay', 'Positive')]].groupby(('Assay', 'Method/Technique')).agg('mean')\n",
    "pos_d0_count = df_t_f[d0][[('Assay', 'Method/Technique'),\n",
    "                     ('Assay', 'Positive')]].groupby(('Assay', 'Method/Technique')).agg('count')"
   ]
  },
  {
   "cell_type": "code",
   "execution_count": 18,
   "id": "5b60d59e",
   "metadata": {},
   "outputs": [],
   "source": [
    "pos_all = df_t_f[[('Assay', 'Method/Technique'),\n",
    "                  ('Assay', 'Positive')]].groupby(('Assay', 'Method/Technique')).agg('mean')\n",
    "pos_all_count = df_t_f[[('Assay', 'Method/Technique'),\n",
    "                  ('Assay', 'Positive')]].groupby(('Assay', 'Method/Technique')).agg('count')"
   ]
  },
  {
   "cell_type": "code",
   "execution_count": 19,
   "id": "00e2fe11",
   "metadata": {},
   "outputs": [
    {
     "data": {
      "text/html": [
       "<div>\n",
       "<style scoped>\n",
       "    .dataframe tbody tr th:only-of-type {\n",
       "        vertical-align: middle;\n",
       "    }\n",
       "\n",
       "    .dataframe tbody tr th {\n",
       "        vertical-align: top;\n",
       "    }\n",
       "\n",
       "    .dataframe thead tr th {\n",
       "        text-align: left;\n",
       "    }\n",
       "\n",
       "    .dataframe thead tr:last-of-type th {\n",
       "        text-align: right;\n",
       "    }\n",
       "</style>\n",
       "<table border=\"1\" class=\"dataframe\">\n",
       "  <thead>\n",
       "    <tr>\n",
       "      <th></th>\n",
       "      <th>Assay_d0</th>\n",
       "      <th>Assay_all</th>\n",
       "    </tr>\n",
       "    <tr>\n",
       "      <th></th>\n",
       "      <th>Positive</th>\n",
       "      <th>Positive</th>\n",
       "    </tr>\n",
       "    <tr>\n",
       "      <th>(Assay, Method/Technique)</th>\n",
       "      <th></th>\n",
       "      <th></th>\n",
       "    </tr>\n",
       "  </thead>\n",
       "  <tbody>\n",
       "    <tr>\n",
       "      <th>51 chromium</th>\n",
       "      <td>0.666667</td>\n",
       "      <td>0.783293</td>\n",
       "    </tr>\n",
       "    <tr>\n",
       "      <th>ELISA</th>\n",
       "      <td>0.857143</td>\n",
       "      <td>0.697443</td>\n",
       "    </tr>\n",
       "    <tr>\n",
       "      <th>ELISPOT</th>\n",
       "      <td>0.013072</td>\n",
       "      <td>0.202699</td>\n",
       "    </tr>\n",
       "    <tr>\n",
       "      <th>ICS</th>\n",
       "      <td>0.600000</td>\n",
       "      <td>0.695315</td>\n",
       "    </tr>\n",
       "    <tr>\n",
       "      <th>multimer/tetramer</th>\n",
       "      <td>0.269231</td>\n",
       "      <td>0.718351</td>\n",
       "    </tr>\n",
       "  </tbody>\n",
       "</table>\n",
       "</div>"
      ],
      "text/plain": [
       "                           Assay_d0 Assay_all\n",
       "                           Positive  Positive\n",
       "(Assay, Method/Technique)                    \n",
       "51 chromium                0.666667  0.783293\n",
       "ELISA                      0.857143  0.697443\n",
       "ELISPOT                    0.013072  0.202699\n",
       "ICS                        0.600000  0.695315\n",
       "multimer/tetramer          0.269231  0.718351"
      ]
     },
     "execution_count": 19,
     "metadata": {},
     "output_type": "execute_result"
    }
   ],
   "source": [
    "dfm = pd.merge(pos_d0, pos_all, how='inner', left_index=True, right_index=True, suffixes=['_d0', '_all'])\n",
    "dfm"
   ]
  },
  {
   "cell_type": "code",
   "execution_count": 20,
   "id": "00941c3d",
   "metadata": {},
   "outputs": [
    {
     "data": {
      "image/png": "[encoded data removed]",
      "text/plain": [
       "<Figure size 600x600 with 1 Axes>"
      ]
     },
     "metadata": {},
     "output_type": "display_data"
    }
   ],
   "source": [
    "fig = plt.figure(figsize=(2, 2))\n",
    "xs = dfm['Assay_all', 'Positive']\n",
    "ys = dfm['Assay_d0', 'Positive']\n",
    "counts = pos_d0_count.loc[xs.index]['Assay', 'Positive']\n",
    "counts_x = pos_all_count.loc[xs.index]['Assay', 'Positive']\n",
    "yerr = np.where(ys==1, 0.25, (ys*(1-ys)/counts)**.5)\n",
    "xerr = (xs*(1-xs)/counts_x)**.5\n",
    "labels = dfm.index\n",
    "plt.errorbar(xs, ys, yerr=yerr, xerr=xerr, fmt='o')\n",
    "\n",
    "for x, y, label in zip(xs, ys, labels):\n",
    "    plt.annotate(label.split('/')[0], (x, y+0.02),\n",
    "                 ha='center', va='bottom', size='xx-small')\n",
    "\n",
    "plt.plot([0, 1], [0, 1], '-', c='.5')\n",
    "plt.xlim(0.0, 1.0)\n",
    "plt.ylim(0.0, 1.0)\n",
    "plt.xlabel('Fraction Immunogenic\\nAll Peptides')\n",
    "plt.ylabel('Fraction Immunogenic\\nPeptide also in Self')\n",
    "fig.savefig(figuredir + 'assays.svg')"
   ]
  },
  {
   "cell_type": "code",
   "execution_count": null,
   "id": "17e61068",
   "metadata": {},
   "outputs": [],
   "source": []
  }
 ],
 "metadata": {
  "kernelspec": {
   "display_name": "Python 3 (ipykernel)",
   "language": "python",
   "name": "python3"
  },
  "language_info": {
   "codemirror_mode": {
    "name": "ipython",
    "version": 3
   },
   "file_extension": ".py",
   "mimetype": "text/x-python",
   "name": "python",
   "nbconvert_exporter": "python",
   "pygments_lexer": "ipython3",
   "version": "3.8.13"
  }
 },
 "nbformat": 4,
 "nbformat_minor": 5
}
