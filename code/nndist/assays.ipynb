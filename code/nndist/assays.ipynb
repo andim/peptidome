{
 "cells": [
  {
   "cell_type": "code",
   "execution_count": 1,
   "id": "2a449ba7",
   "metadata": {},
   "outputs": [
    {
     "name": "stderr",
     "output_type": "stream",
     "text": [
      "/home/andreas/mambaforge/envs/peptidome/lib/python3.7/site-packages/sklearn/externals/joblib/externals/cloudpickle/cloudpickle.py:47: DeprecationWarning: the imp module is deprecated in favour of importlib; see the module's documentation for alternative uses\n",
      "  import imp\n"
     ]
    }
   ],
   "source": [
    "import numpy as np\n",
    "import pandas as pd\n",
    "from scipy.stats import entropy\n",
    "import scipy.stats\n",
    "from scipy.stats import poisson\n",
    "import seaborn as sns\n",
    "import sklearn.neighbors\n",
    "import matplotlib.pyplot as plt\n",
    "\n",
    "import Levenshtein\n",
    "\n",
    "import sys\n",
    "sys.path.append('..')\n",
    "from lib import *\n",
    "\n",
    "plt.style.use('../peptidome.mplstyle')"
   ]
  },
  {
   "cell_type": "code",
   "execution_count": 2,
   "id": "1e00df70",
   "metadata": {},
   "outputs": [],
   "source": [
    "k = 9"
   ]
  },
  {
   "cell_type": "code",
   "execution_count": 3,
   "id": "7eb3a46b",
   "metadata": {},
   "outputs": [],
   "source": [
    "selfset = set(count_kmers_proteome(human, k, clean=True))"
   ]
  },
  {
   "cell_type": "code",
   "execution_count": 4,
   "id": "96171eb9",
   "metadata": {},
   "outputs": [
    {
     "name": "stdout",
     "output_type": "stream",
     "text": [
      "248879\n"
     ]
    }
   ],
   "source": [
    "# only human host\n",
    "df_t = load_iedb_tcellepitopes(human_only=True)\n",
    "print(df_t.shape[0])"
   ]
  },
  {
   "cell_type": "code",
   "execution_count": 5,
   "id": "928973a3",
   "metadata": {},
   "outputs": [
    {
     "name": "stdout",
     "output_type": "stream",
     "text": [
      "69747\n"
     ]
    }
   ],
   "source": [
    "# only MHC I epitopes\n",
    "df_t = df_t[df_t['MHC', 'Class']=='I']\n",
    "print(df_t.shape[0])"
   ]
  },
  {
   "cell_type": "code",
   "execution_count": 6,
   "id": "3adfb503",
   "metadata": {},
   "outputs": [
    {
     "name": "stdout",
     "output_type": "stream",
     "text": [
      "37813\n"
     ]
    }
   ],
   "source": [
    "# only epitopes of lengths in k\n",
    "mask = df_t['Epitope', 'Description'].apply(len)==k\n",
    "df_t = df_t[mask]\n",
    "print(df_t.shape[0])"
   ]
  },
  {
   "cell_type": "code",
   "execution_count": 7,
   "id": "f22dc350",
   "metadata": {},
   "outputs": [
    {
     "name": "stdout",
     "output_type": "stream",
     "text": [
      "33091\n"
     ]
    }
   ],
   "source": [
    "# no host epitopes\n",
    "host = 'Homo sapiens'\n",
    "mask = ~df_t['Epitope', 'Parent Species'].str.contains(host, na=False)\n",
    "df_t = df_t[mask]\n",
    "print(df_t.shape[0])"
   ]
  },
  {
   "cell_type": "code",
   "execution_count": 8,
   "id": "121959c4",
   "metadata": {},
   "outputs": [
    {
     "name": "stdout",
     "output_type": "stream",
     "text": [
      "31281\n"
     ]
    }
   ],
   "source": [
    "# exclude autoimmune / allergy / cancer epitopes\n",
    "mask = ~(df_t['1st in vivo Process', 'Process Type'].isin(['Occurrence of autoimmune disease', \n",
    "                                                           'Occurrence of allergy',\n",
    "                                                           'Occurrence of cancer']))\n",
    "df_t = df_t[mask]\n",
    "print(df_t.shape[0])"
   ]
  },
  {
   "cell_type": "code",
   "execution_count": 12,
   "id": "e2282270",
   "metadata": {
    "scrolled": true
   },
   "outputs": [
    {
     "data": {
      "text/plain": [
       "ELISPOT              18972\n",
       "multimer/tetramer     3171\n",
       "ICS                   2961\n",
       "Other                 2844\n",
       "51 chromium           2260\n",
       "Name: (Assay, Method/Technique), dtype: int64"
      ]
     },
     "execution_count": 12,
     "metadata": {},
     "output_type": "execute_result"
    }
   ],
   "source": [
    "df_t['Assay', 'Method/Technique'].value_counts().head()"
   ]
  },
  {
   "cell_type": "code",
   "execution_count": 13,
   "id": "5de6fa86",
   "metadata": {},
   "outputs": [
    {
     "data": {
      "text/plain": [
       "ELISPOT    0.606502\n",
       "Name: (Assay, Method/Technique), dtype: float64"
      ]
     },
     "execution_count": 13,
     "metadata": {},
     "output_type": "execute_result"
    }
   ],
   "source": [
    "df_t['Assay', 'Method/Technique'].value_counts().head(1)/len(df_t)"
   ]
  },
  {
   "cell_type": "code",
   "execution_count": 9,
   "id": "29b6b4a0",
   "metadata": {},
   "outputs": [],
   "source": [
    "assay_counts = list(df_t['Assay', 'Method/Technique'].value_counts().head(5).index)\n",
    "assay_counts.append('Other')"
   ]
  },
  {
   "cell_type": "code",
   "execution_count": 10,
   "id": "acd16de3",
   "metadata": {},
   "outputs": [
    {
     "data": {
      "text/plain": [
       "['ELISPOT', 'multimer/tetramer', 'ICS', '51 chromium', 'ELISA', 'Other']"
      ]
     },
     "execution_count": 10,
     "metadata": {},
     "output_type": "execute_result"
    }
   ],
   "source": [
    "assay_counts"
   ]
  },
  {
   "cell_type": "code",
   "execution_count": 11,
   "id": "da2bcff1",
   "metadata": {},
   "outputs": [],
   "source": [
    "# set rare assay types to other\n",
    "mask = df_t[('Assay', 'Method/Technique')].isin(df_t[('Assay', 'Method/Technique')].value_counts().head(5).index)\n",
    "df_t.loc[~mask, ('Assay', 'Method/Technique')] = 'Other'"
   ]
  },
  {
   "cell_type": "code",
   "execution_count": 14,
   "id": "57407976",
   "metadata": {},
   "outputs": [],
   "source": [
    "# exclude rare assay types\n",
    "#mask = df_t[('Assay', 'Method/Technique')].isin(df_t[('Assay', 'Method/Technique')].value_counts().head(5).index)\n",
    "#df_t_f = df_t[mask]\n",
    "#len(df_t_f)"
   ]
  },
  {
   "cell_type": "code",
   "execution_count": 15,
   "id": "cd39e84c",
   "metadata": {},
   "outputs": [],
   "source": [
    "d0 = df_t['Epitope', 'Description'].apply(lambda x: x in selfset)"
   ]
  },
  {
   "cell_type": "code",
   "execution_count": 16,
   "id": "8f4d6d93",
   "metadata": {},
   "outputs": [
    {
     "data": {
      "text/plain": [
       "Vaccinia virus                68\n",
       "Mus musculus                   3\n",
       "Mycobacterium tuberculosis     2\n",
       "Leishmania major               2\n",
       "Human betaherpesvirus 5        1\n",
       "Human betaherpesvirus 6B       1\n",
       "Dengue virus                   1\n",
       "Name: (Epitope, Parent Species), dtype: int64"
      ]
     },
     "execution_count": 16,
     "metadata": {},
     "output_type": "execute_result"
    }
   ],
   "source": [
    "df_t[d0]['Epitope', 'Parent Species'].value_counts()"
   ]
  },
  {
   "cell_type": "code",
   "execution_count": 17,
   "id": "ab15764d",
   "metadata": {},
   "outputs": [],
   "source": [
    "pos_d0 = df_t[d0][[('Assay', 'Method/Technique'),\n",
    "                     ('Assay', 'Positive')]].groupby(('Assay', 'Method/Technique')).agg('mean')\n",
    "pos_d0_count = df_t[d0][[('Assay', 'Method/Technique'),\n",
    "                     ('Assay', 'Positive')]].groupby(('Assay', 'Method/Technique')).agg('count')"
   ]
  },
  {
   "cell_type": "code",
   "execution_count": 18,
   "id": "5b60d59e",
   "metadata": {},
   "outputs": [],
   "source": [
    "pos_all = df_t[[('Assay', 'Method/Technique'),\n",
    "                  ('Assay', 'Positive')]].groupby(('Assay', 'Method/Technique')).agg('mean')\n",
    "pos_all_count = df_t[[('Assay', 'Method/Technique'),\n",
    "                  ('Assay', 'Positive')]].groupby(('Assay', 'Method/Technique')).agg('count')"
   ]
  },
  {
   "cell_type": "code",
   "execution_count": 36,
   "id": "00e2fe11",
   "metadata": {},
   "outputs": [],
   "source": [
    "dfm = pd.merge(pos_d0, pos_all, how='inner', left_index=True, right_index=True, suffixes=['_d0', '_all'])\n",
    "dfm = dfm.loc[assay_counts]"
   ]
  },
  {
   "cell_type": "code",
   "execution_count": 37,
   "id": "a03315e1",
   "metadata": {},
   "outputs": [
    {
     "data": {
      "text/plain": [
       "((Assay, Method/Technique)\n",
       " ELISPOT              0.009691\n",
       " multimer/tetramer    0.431133\n",
       " ICS                 -0.001543\n",
       " 51 chromium         -0.001543\n",
       " ELISA                0.400707\n",
       " Other                0.569259\n",
       " dtype: float64,\n",
       " (Assay, Method/Technique)\n",
       " ELISPOT              0.033294\n",
       " multimer/tetramer    0.270921\n",
       " ICS                  0.771480\n",
       " 51 chromium          0.771480\n",
       " ELISA                0.203993\n",
       " Other               -0.000868\n",
       " dtype: float64)"
      ]
     },
     "execution_count": 37,
     "metadata": {},
     "output_type": "execute_result"
    }
   ],
   "source": [
    "px = dfm['Assay_all', 'Positive']\n",
    "py = dfm['Assay_d0', 'Positive']\n",
    "ny = pos_d0_count.loc[px.index]['Assay', 'Positive']\n",
    "nx = pos_all_count.loc[py.index]['Assay', 'Positive']\n",
    "\n",
    "lower_x, upper_x = statsmodels.stats.proportion.proportion_confint(px*nx, nx, method='jeffreys', alpha=.1)\n",
    "xerr = (px-lower_x, upper_x-px)\n",
    "lower_y, upper_y = statsmodels.stats.proportion.proportion_confint(py*ny, ny, method='jeffreys', alpha=.1)\n",
    "yerr = (py-lower_y, upper_y-py)\n",
    "yerr"
   ]
  },
  {
   "cell_type": "code",
   "execution_count": 38,
   "id": "3625b41f",
   "metadata": {},
   "outputs": [],
   "source": [
    "dfm = dfm.rename(index={'multimer/tetramer':'multimer', '51 chromium': '51 Cr'})"
   ]
  },
  {
   "cell_type": "code",
   "execution_count": 40,
   "id": "db917619",
   "metadata": {},
   "outputs": [
    {
     "data": {
      "image/png": "[encoded data removed]",
      "text/plain": [
       "<Figure size 375x525 with 1 Axes>"
      ]
     },
     "metadata": {},
     "output_type": "display_data"
    }
   ],
   "source": [
    "fig, ax = plt.subplots(figsize=(1.25, 1.75))\n",
    "ax.bar(dfm['Assay_all'].index,\n",
    "            dfm['Assay_all']['Positive'],\n",
    "            yerr=xerr)\n",
    "ax.set_ylim(0.0, 1.0)\n",
    "ax.set_yticks(np.arange(0.0, 1.01, 0.2))\n",
    "ax.tick_params(axis='x', labelrotation=90)\n",
    "ax.set_ylabel('Fraction Immunogenic')\n",
    "fig.tight_layout()\n",
    "fig.savefig(figuredir + 'iedb_assays.svg')"
   ]
  },
  {
   "cell_type": "code",
   "execution_count": null,
   "id": "00941c3d",
   "metadata": {},
   "outputs": [],
   "source": [
    "fig, ax = plt.subplots(figsize=(2, 2))\n",
    "labels = dfm.index\n",
    "ax.errorbar(px, py, yerr=yerr, xerr=xerr, fmt='o')\n",
    "\n",
    "for x, y, label in zip(px, py, labels):\n",
    "    plt.annotate(label.split('/')[0], (x, y+0.02),\n",
    "                 ha='center', va='bottom', size='xx-small')\n",
    "\n",
    "plt.plot([0, 1], [0, 1], '-', c='.5')\n",
    "plt.xlim(0.0, 1.0)\n",
    "plt.ylim(0.0, 1.0)\n",
    "plt.xlabel('Fraction Immunogenic\\nAll Peptides')\n",
    "plt.ylabel('Fraction Immunogenic\\nPeptide also in Self')\n",
    "fig.savefig(figuredir + 'assays.svg')"
   ]
  },
  {
   "cell_type": "code",
   "execution_count": null,
   "id": "17e61068",
   "metadata": {},
   "outputs": [],
   "source": []
  }
 ],
 "metadata": {
  "kernelspec": {
   "display_name": "Python 3 (ipykernel)",
   "language": "python",
   "name": "python3"
  },
  "language_info": {
   "codemirror_mode": {
    "name": "ipython",
    "version": 3
   },
   "file_extension": ".py",
   "mimetype": "text/x-python",
   "name": "python",
   "nbconvert_exporter": "python",
   "pygments_lexer": "ipython3",
   "version": "3.7.8"
  }
 },
 "nbformat": 4,
 "nbformat_minor": 5
}
