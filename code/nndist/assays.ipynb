{
 "cells": [
  {
   "cell_type": "code",
   "execution_count": 1,
   "id": "2a449ba7",
   "metadata": {},
   "outputs": [],
   "source": [
    "import numpy as np\n",
    "import pandas as pd\n",
    "from scipy.stats import entropy\n",
    "import scipy.stats\n",
    "from scipy.stats import poisson\n",
    "import seaborn as sns\n",
    "import sklearn.neighbors\n",
    "import matplotlib.pyplot as plt\n",
    "\n",
    "import Levenshtein\n",
    "\n",
    "import sys\n",
    "sys.path.append('..')\n",
    "from lib import *\n",
    "\n",
    "plt.style.use('../peptidome.mplstyle')"
   ]
  },
  {
   "cell_type": "code",
   "execution_count": 2,
   "id": "1e00df70",
   "metadata": {},
   "outputs": [],
   "source": [
    "ks = [9]#[8, 9, 10, 11]"
   ]
  },
  {
   "cell_type": "code",
   "execution_count": 3,
   "id": "7eb3a46b",
   "metadata": {},
   "outputs": [],
   "source": [
    "selfset = {k:set(count_kmers_proteome(human, k, clean=True)) for k in ks}"
   ]
  },
  {
   "cell_type": "code",
   "execution_count": 4,
   "id": "96171eb9",
   "metadata": {},
   "outputs": [
    {
     "name": "stdout",
     "output_type": "stream",
     "text": [
      "285467\n"
     ]
    }
   ],
   "source": [
    "# only human host\n",
    "df_t = load_iedb_tcellepitopes(human_only=True)\n",
    "print(df_t.shape[0])"
   ]
  },
  {
   "cell_type": "code",
   "execution_count": 5,
   "id": "928973a3",
   "metadata": {},
   "outputs": [
    {
     "name": "stdout",
     "output_type": "stream",
     "text": [
      "83870\n"
     ]
    }
   ],
   "source": [
    "# only MHC I epitopes\n",
    "df_t = df_t[df_t['MHC', 'Class']=='I']\n",
    "print(df_t.shape[0])"
   ]
  },
  {
   "cell_type": "code",
   "execution_count": 6,
   "id": "3adfb503",
   "metadata": {},
   "outputs": [
    {
     "name": "stdout",
     "output_type": "stream",
     "text": [
      "45769\n"
     ]
    }
   ],
   "source": [
    "# only epitopes of lengths in k\n",
    "mask = df_t['Epitope', 'Description'].apply(len).isin(ks)\n",
    "df_t = df_t[mask]\n",
    "print(df_t.shape[0])"
   ]
  },
  {
   "cell_type": "code",
   "execution_count": 7,
   "id": "f22dc350",
   "metadata": {},
   "outputs": [
    {
     "name": "stdout",
     "output_type": "stream",
     "text": [
      "38800\n"
     ]
    }
   ],
   "source": [
    "# no host epitopes\n",
    "host = 'Homo sapiens'\n",
    "mask = ~df_t['Epitope', 'Parent Species'].str.contains(host, na=False)\n",
    "df_t = df_t[mask]\n",
    "print(df_t.shape[0])"
   ]
  },
  {
   "cell_type": "code",
   "execution_count": 8,
   "id": "121959c4",
   "metadata": {},
   "outputs": [
    {
     "name": "stdout",
     "output_type": "stream",
     "text": [
      "36172\n"
     ]
    }
   ],
   "source": [
    "# exclude autoimmune / allergy / cancer epitopes\n",
    "mask = ~(df_t['1st in vivo Process', 'Process Type'].isin(['Occurrence of autoimmune disease', \n",
    "                                                           'Occurrence of allergy',\n",
    "                                                           'Occurrence of cancer']))\n",
    "df_t = df_t[mask]\n",
    "print(df_t.shape[0])"
   ]
  },
  {
   "cell_type": "code",
   "execution_count": 9,
   "id": "05eb844d",
   "metadata": {},
   "outputs": [],
   "source": [
    "# only include epitopes of viral origin\n",
    "#mask = df_t['Epitope', 'Parent Species'].str.contains('virus')\n",
    "#df_t = df_t[mask]\n",
    "#print(df_t.shape[0])"
   ]
  },
  {
   "cell_type": "code",
   "execution_count": 10,
   "id": "5afd95cc",
   "metadata": {},
   "outputs": [
    {
     "data": {
      "text/plain": [
       "Assay Group               Method/Technique                 \n",
       "IFNg release              ELISPOT                              19869\n",
       "qualitative binding       multimer/tetramer                     4489\n",
       "IFNg release              ICS                                   3181\n",
       "cytotoxicity              51 chromium                           2310\n",
       "IFNg release              ELISA                                 1015\n",
       "cytotoxicity              in vitro assay                         751\n",
       "activation                biological activity                    623\n",
       "TNFa release              ICS                                    568\n",
       "IL-2 release              ICS                                    332\n",
       "dissociation constant KD  surface plasmon resonance (SPR)        311\n",
       "off rate                  binding assay                          272\n",
       "degranulation             biological activity                    270\n",
       "on rate                   binding assay                          267\n",
       "T cell binding            High throughput multiplexed assay      229\n",
       "proliferation             CFSE                                   178\n",
       "dissociation constant KD  binding assay                          158\n",
       "granzyme B release        intracellular staining                 152\n",
       "TNF release               ICS                                     98\n",
       "IL-2 release              ELISA                                   79\n",
       "proliferation             3H-thymidine                            72\n",
       "dtype: int64"
      ]
     },
     "execution_count": 10,
     "metadata": {},
     "output_type": "execute_result"
    }
   ],
   "source": [
    "df_t['Assay'][['Assay Group', 'Method/Technique']].value_counts().head(20)"
   ]
  },
  {
   "cell_type": "code",
   "execution_count": 11,
   "id": "e2282270",
   "metadata": {
    "scrolled": true
   },
   "outputs": [
    {
     "data": {
      "text/plain": [
       "ELISPOT                              19935\n",
       "multimer/tetramer                     4489\n",
       "ICS                                   4284\n",
       "51 chromium                           2310\n",
       "ELISA                                 1327\n",
       "biological activity                    957\n",
       "in vitro assay                         789\n",
       "binding assay                          717\n",
       "surface plasmon resonance (SPR)        311\n",
       "High throughput multiplexed assay      229\n",
       "Name: (Assay, Method/Technique), dtype: int64"
      ]
     },
     "execution_count": 11,
     "metadata": {},
     "output_type": "execute_result"
    }
   ],
   "source": [
    "df_t['Assay', 'Method/Technique'].value_counts().head(10)"
   ]
  },
  {
   "cell_type": "code",
   "execution_count": 12,
   "id": "57407976",
   "metadata": {},
   "outputs": [],
   "source": [
    "# exclude rare assay types\n",
    "mask = df_t[('Assay', 'Method/Technique')].isin(df_t[('Assay', 'Method/Technique')].value_counts().head(5).index)\n",
    "df_t_f = df_t[mask]"
   ]
  },
  {
   "cell_type": "code",
   "execution_count": 13,
   "id": "cd39e84c",
   "metadata": {},
   "outputs": [],
   "source": [
    "d0 = df_t_f['Epitope', 'Description'].apply(lambda x: x in selfset[len(x)])"
   ]
  },
  {
   "cell_type": "code",
   "execution_count": 14,
   "id": "8f4d6d93",
   "metadata": {},
   "outputs": [
    {
     "data": {
      "text/plain": [
       "Vaccinia virus                                     68\n",
       "Mycobacterium tuberculosis                          2\n",
       "Mus musculus                                        2\n",
       "Leishmania major                                    2\n",
       "Human betaherpesvirus 5                             1\n",
       "Dengue virus                                        1\n",
       "Human betaherpesvirus 6B                            1\n",
       "bacterium JGI 053                                   1\n",
       "Severe acute respiratory syndrome coronavirus 2     1\n",
       "Name: (Epitope, Parent Species), dtype: int64"
      ]
     },
     "execution_count": 14,
     "metadata": {},
     "output_type": "execute_result"
    }
   ],
   "source": [
    "df_t_f[d0]['Epitope', 'Parent Species'].value_counts()"
   ]
  },
  {
   "cell_type": "code",
   "execution_count": 22,
   "id": "988d2797",
   "metadata": {},
   "outputs": [
    {
     "data": {
      "text/html": [
       "<div>\n",
       "<style scoped>\n",
       "    .dataframe tbody tr th:only-of-type {\n",
       "        vertical-align: middle;\n",
       "    }\n",
       "\n",
       "    .dataframe tbody tr th {\n",
       "        vertical-align: top;\n",
       "    }\n",
       "\n",
       "    .dataframe thead th {\n",
       "        text-align: right;\n",
       "    }\n",
       "</style>\n",
       "<table border=\"1\" class=\"dataframe\">\n",
       "  <thead>\n",
       "    <tr style=\"text-align: right;\">\n",
       "      <th></th>\n",
       "      <th>Allele Name</th>\n",
       "      <th>Class</th>\n",
       "      <th>Allele IRI</th>\n",
       "      <th>Allele Evidence Code</th>\n",
       "    </tr>\n",
       "  </thead>\n",
       "  <tbody>\n",
       "    <tr>\n",
       "      <th>2940</th>\n",
       "      <td>HLA-A*02:01</td>\n",
       "      <td>I</td>\n",
       "      <td>http://purl.obolibrary.org/obo/MRO_0001007</td>\n",
       "      <td>MHC binding assay</td>\n",
       "    </tr>\n",
       "  </tbody>\n",
       "</table>\n",
       "</div>"
      ],
      "text/plain": [
       "      Allele Name Class                                  Allele IRI  \\\n",
       "2940  HLA-A*02:01     I  http://purl.obolibrary.org/obo/MRO_0001007   \n",
       "\n",
       "     Allele Evidence Code  \n",
       "2940    MHC binding assay  "
      ]
     },
     "execution_count": 22,
     "metadata": {},
     "output_type": "execute_result"
    }
   ],
   "source": [
    "df_t_f[d0 & (df_t_f[('Assay', 'Method/Technique')]=='51 chromium')]['MHC']"
   ]
  },
  {
   "cell_type": "code",
   "execution_count": 16,
   "id": "462916e0",
   "metadata": {},
   "outputs": [
    {
     "data": {
      "text/plain": [
       "Administration in vivo                                                             85\n",
       "No immunization                                                                    15\n",
       "Occurrence of infectious disease                                                    3\n",
       "Exposure with existing immune reactivity without evidence for disease               3\n",
       "Environmental exposure to endemic/ubiquitous agent without evidence for disease     1\n",
       "Name: (1st in vivo Process, Process Type), dtype: int64"
      ]
     },
     "execution_count": 16,
     "metadata": {},
     "output_type": "execute_result"
    }
   ],
   "source": [
    "df_t_f[d0]['1st in vivo Process', 'Process Type'].value_counts()"
   ]
  },
  {
   "cell_type": "code",
   "execution_count": 17,
   "id": "ab15764d",
   "metadata": {},
   "outputs": [],
   "source": [
    "pos_d0 = df_t_f[d0][[('Assay', 'Method/Technique'),\n",
    "                     ('Assay', 'Positive')]].groupby(('Assay', 'Method/Technique')).agg('mean')\n",
    "pos_d0_count = df_t_f[d0][[('Assay', 'Method/Technique'),\n",
    "                     ('Assay', 'Positive')]].groupby(('Assay', 'Method/Technique')).agg('count')"
   ]
  },
  {
   "cell_type": "code",
   "execution_count": 18,
   "id": "5b60d59e",
   "metadata": {},
   "outputs": [],
   "source": [
    "pos_all = df_t_f[[('Assay', 'Method/Technique'),\n",
    "                  ('Assay', 'Positive')]].groupby(('Assay', 'Method/Technique')).agg('mean')\n",
    "pos_all_count = df_t_f[[('Assay', 'Method/Technique'),\n",
    "                  ('Assay', 'Positive')]].groupby(('Assay', 'Method/Technique')).agg('count')"
   ]
  },
  {
   "cell_type": "code",
   "execution_count": 19,
   "id": "00e2fe11",
   "metadata": {},
   "outputs": [
    {
     "data": {
      "text/html": [
       "<div>\n",
       "<style scoped>\n",
       "    .dataframe tbody tr th:only-of-type {\n",
       "        vertical-align: middle;\n",
       "    }\n",
       "\n",
       "    .dataframe tbody tr th {\n",
       "        vertical-align: top;\n",
       "    }\n",
       "\n",
       "    .dataframe thead tr th {\n",
       "        text-align: left;\n",
       "    }\n",
       "\n",
       "    .dataframe thead tr:last-of-type th {\n",
       "        text-align: right;\n",
       "    }\n",
       "</style>\n",
       "<table border=\"1\" class=\"dataframe\">\n",
       "  <thead>\n",
       "    <tr>\n",
       "      <th></th>\n",
       "      <th>Assay_d0</th>\n",
       "      <th>Assay_all</th>\n",
       "    </tr>\n",
       "    <tr>\n",
       "      <th></th>\n",
       "      <th>Positive</th>\n",
       "      <th>Positive</th>\n",
       "    </tr>\n",
       "    <tr>\n",
       "      <th>(Assay, Method/Technique)</th>\n",
       "      <th></th>\n",
       "      <th></th>\n",
       "    </tr>\n",
       "  </thead>\n",
       "  <tbody>\n",
       "    <tr>\n",
       "      <th>51 chromium</th>\n",
       "      <td>0.000000</td>\n",
       "      <td>0.802165</td>\n",
       "    </tr>\n",
       "    <tr>\n",
       "      <th>ELISA</th>\n",
       "      <td>0.750000</td>\n",
       "      <td>0.703843</td>\n",
       "    </tr>\n",
       "    <tr>\n",
       "      <th>ELISPOT</th>\n",
       "      <td>0.021739</td>\n",
       "      <td>0.200000</td>\n",
       "    </tr>\n",
       "    <tr>\n",
       "      <th>ICS</th>\n",
       "      <td>0.333333</td>\n",
       "      <td>0.726891</td>\n",
       "    </tr>\n",
       "    <tr>\n",
       "      <th>multimer/tetramer</th>\n",
       "      <td>0.285714</td>\n",
       "      <td>0.748051</td>\n",
       "    </tr>\n",
       "  </tbody>\n",
       "</table>\n",
       "</div>"
      ],
      "text/plain": [
       "                           Assay_d0 Assay_all\n",
       "                           Positive  Positive\n",
       "(Assay, Method/Technique)                    \n",
       "51 chromium                0.000000  0.802165\n",
       "ELISA                      0.750000  0.703843\n",
       "ELISPOT                    0.021739  0.200000\n",
       "ICS                        0.333333  0.726891\n",
       "multimer/tetramer          0.285714  0.748051"
      ]
     },
     "execution_count": 19,
     "metadata": {},
     "output_type": "execute_result"
    }
   ],
   "source": [
    "dfm = pd.merge(pos_d0, pos_all, how='inner', left_index=True, right_index=True, suffixes=['_d0', '_all'])\n",
    "dfm"
   ]
  },
  {
   "cell_type": "code",
   "execution_count": 20,
   "id": "a03315e1",
   "metadata": {},
   "outputs": [
    {
     "data": {
      "text/plain": [
       "((Assay, Method/Technique)\n",
       " 51 chromium         -0.001543\n",
       " ELISA                0.400707\n",
       " ELISPOT              0.015482\n",
       " ICS                  0.270921\n",
       " multimer/tetramer    0.197599\n",
       " dtype: float64,\n",
       " (Assay, Method/Technique)\n",
       " 51 chromium          0.771480\n",
       " ELISA                0.203993\n",
       " ELISPOT              0.037122\n",
       " ICS                  0.431133\n",
       " multimer/tetramer    0.307170\n",
       " dtype: float64)"
      ]
     },
     "execution_count": 20,
     "metadata": {},
     "output_type": "execute_result"
    }
   ],
   "source": [
    "px = dfm['Assay_all', 'Positive']\n",
    "py = dfm['Assay_d0', 'Positive']\n",
    "ny = pos_d0_count.loc[px.index]['Assay', 'Positive']\n",
    "nx = pos_all_count.loc[py.index]['Assay', 'Positive']\n",
    "\n",
    "lower_x, upper_x = statsmodels.stats.proportion.proportion_confint(px*nx, nx, method='jeffreys', alpha=.1)\n",
    "xerr = (px-lower_x, upper_x-px)\n",
    "lower_y, upper_y = statsmodels.stats.proportion.proportion_confint(py*ny, ny, method='jeffreys', alpha=.1)\n",
    "yerr = (py-lower_y, upper_y-py)\n",
    "yerr"
   ]
  },
  {
   "cell_type": "code",
   "execution_count": 25,
   "id": "00941c3d",
   "metadata": {},
   "outputs": [
    {
     "data": {
      "image/png": "[encoded data removed]",
      "text/plain": [
       "<Figure size 600x600 with 1 Axes>"
      ]
     },
     "metadata": {},
     "output_type": "display_data"
    }
   ],
   "source": [
    "fig, ax = plt.subplots(figsize=(2, 2))\n",
    "labels = dfm.index\n",
    "ax.errorbar(px, py, yerr=yerr, xerr=xerr, fmt='x', ms=4)\n",
    "\n",
    "for x, y, label in zip(px, py, labels):\n",
    "    plt.annotate(label.split('/')[0], (x, y+0.02),\n",
    "                 ha='center', va='bottom', size='xx-small')\n",
    "\n",
    "plt.plot([0, 1], [0, 1], '-', c='.5')\n",
    "plt.xlim(0.0, 1.0)\n",
    "plt.ylim(0.0, 1.0)\n",
    "plt.xlabel('Fraction Immunogenic\\nAll Peptides')\n",
    "plt.ylabel('Fraction Immunogenic\\nPeptide also in Self')\n",
    "fig.savefig(figuredir + 'assays.svg')"
   ]
  },
  {
   "cell_type": "code",
   "execution_count": null,
   "id": "17e61068",
   "metadata": {},
   "outputs": [],
   "source": []
  }
 ],
 "metadata": {
  "kernelspec": {
   "display_name": "Python 3 (ipykernel)",
   "language": "python",
   "name": "python3"
  },
  "language_info": {
   "codemirror_mode": {
    "name": "ipython",
    "version": 3
   },
   "file_extension": ".py",
   "mimetype": "text/x-python",
   "name": "python",
   "nbconvert_exporter": "python",
   "pygments_lexer": "ipython3",
   "version": "3.8.13"
  }
 },
 "nbformat": 4,
 "nbformat_minor": 5
}
