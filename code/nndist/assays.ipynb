{
 "cells": [
  {
   "cell_type": "code",
   "execution_count": 4,
   "id": "2a449ba7",
   "metadata": {},
   "outputs": [],
   "source": [
    "import numpy as np\n",
    "import pandas as pd\n",
    "from scipy.stats import entropy\n",
    "import scipy.stats\n",
    "from scipy.stats import poisson\n",
    "import seaborn as sns\n",
    "import sklearn.neighbors\n",
    "import matplotlib.pyplot as plt\n",
    "\n",
    "import Levenshtein\n",
    "\n",
    "import sys\n",
    "sys.path.append('..')\n",
    "from lib import *\n",
    "\n",
    "plt.style.use('../peptidome.mplstyle')"
   ]
  },
  {
   "cell_type": "code",
   "execution_count": 5,
   "id": "96171eb9",
   "metadata": {},
   "outputs": [
    {
     "name": "stderr",
     "output_type": "stream",
     "text": [
      "/tmp/ipykernel_33523/3096547109.py:1: FutureWarning: The error_bad_lines argument has been deprecated and will be removed in a future version.\n",
      "\n",
      "\n",
      "  df_t = load_iedb_tcellepitopes(human_only=True)\n"
     ]
    }
   ],
   "source": [
    "df_t = load_iedb_tcellepitopes(human_only=True)"
   ]
  },
  {
   "cell_type": "code",
   "execution_count": 6,
   "id": "a61c3e48",
   "metadata": {},
   "outputs": [],
   "source": [
    "df_t = df_t[(df_t['Epitope', 'Length']<13)]"
   ]
  },
  {
   "cell_type": "code",
   "execution_count": 14,
   "id": "5afd95cc",
   "metadata": {},
   "outputs": [
    {
     "data": {
      "text/plain": [
       "Assay Group               Method/Technique               \n",
       "IFNg release              ELISPOT                            31532\n",
       "proliferation             3H-thymidine                        4485\n",
       "cytotoxicity              51 chromium                         4193\n",
       "qualitative binding       multimer/tetramer                   3911\n",
       "IFNg release              ICS                                 2897\n",
       "                          ELISA                               1736\n",
       "cytotoxicity              in vitro assay                       763\n",
       "dissociation constant KD  surface plasmon resonance (SPR)      481\n",
       "TNFa release              ICS                                  377\n",
       "IL-2 release              ELISA                                269\n",
       "proliferation             CFSE                                 238\n",
       "IL-4 release              ELISA                                226\n",
       "IL-2 release              ICS                                  222\n",
       "activation                biological activity                  206\n",
       "degranulation             biological activity                  206\n",
       "CCL4/MIP-1b release       ELISA                                196\n",
       "off rate                  binding assay                        183\n",
       "on rate                   binding assay                        181\n",
       "IL-10 release             ELISA                                152\n",
       "proliferation             biological activity                  138\n",
       "dtype: int64"
      ]
     },
     "execution_count": 14,
     "metadata": {},
     "output_type": "execute_result"
    }
   ],
   "source": [
    "df_t['Assay'][['Assay Group', 'Method/Technique']].value_counts().head(20)"
   ]
  },
  {
   "cell_type": "code",
   "execution_count": 34,
   "id": "e2282270",
   "metadata": {
    "scrolled": true
   },
   "outputs": [
    {
     "data": {
      "text/plain": [
       "ELISPOT                  29634\n",
       "51 chromium               3331\n",
       "ICS                       3287\n",
       "multimer/tetramer         2697\n",
       "ELISA                     1664\n",
       "in vitro assay             709\n",
       "3H-thymidine               460\n",
       "biological activity        313\n",
       "binding assay              264\n",
       "cytometric bead array      227\n",
       "Name: (Assay, Method/Technique), dtype: int64"
      ]
     },
     "execution_count": 34,
     "metadata": {},
     "output_type": "execute_result"
    }
   ],
   "source": [
    "df_t['Assay', 'Method/Technique'].value_counts().head(10)"
   ]
  },
  {
   "cell_type": "code",
   "execution_count": 15,
   "id": "7eb3a46b",
   "metadata": {},
   "outputs": [],
   "source": [
    "ks = [8, 9, 10]\n",
    "host = 'Homo sapiens'\n",
    "selfset = {k:set(count_kmers_proteome(human, k, clean=True)) for k in ks}"
   ]
  },
  {
   "cell_type": "code",
   "execution_count": 71,
   "id": "57407976",
   "metadata": {},
   "outputs": [],
   "source": [
    "# only specified hosts\n",
    "mask = df_t['Host', 'Name'].str.match(host, na=False)\n",
    "# only epitopes of length k\n",
    "#mask &= df_t['Epitope', 'Description'].apply(len)==k\n",
    "# only epitopes of lengths in k\n",
    "mask &= df_t['Epitope', 'Description'].apply(len).isin(ks)\n",
    "# no host epitopes or epitopes of unknown provenance\n",
    "mask &= ~df_t['Epitope', 'Parent Species'].str.contains(host, na=True)\n",
    "# exclude autoimmune epitopes\n",
    "mask &= ~(df_t['1st in vivo Process', 'Process Type'].isin(['Occurrence of autoimmune disease', \n",
    "                                                            'Occurrence of allergy',\n",
    "                                                            'Occurrence of cancer']))\n",
    "df_t = df_t[mask]\n",
    "# exclude rare assay types\n",
    "mask = df_t[('Assay', 'Method/Technique')].isin(df_t[('Assay', 'Method/Technique')].value_counts().head(5).index)\n",
    "df_t_f = df_t[mask]\n",
    "d0 = df_t_f['Epitope', 'Description'].apply(lambda x: max([x in self for self in selfset.values()]))"
   ]
  },
  {
   "cell_type": "code",
   "execution_count": 72,
   "id": "0279dda2",
   "metadata": {},
   "outputs": [
    {
     "data": {
      "text/plain": [
       "10245     22308\n",
       "11103      3773\n",
       "10376      2680\n",
       "10359      2601\n",
       "12637      1606\n",
       "          ...  \n",
       "1639          1\n",
       "170325        1\n",
       "1408          1\n",
       "217686        1\n",
       "1809          1\n",
       "Name: (Epitope, Parent Species IRI), Length: 141, dtype: int64"
      ]
     },
     "execution_count": 72,
     "metadata": {},
     "output_type": "execute_result"
    }
   ],
   "source": [
    "taxons = df_t['Epitope', 'Parent Species IRI'].apply(lambda row: row.split('_')[1])\n",
    "taxons.value_counts()"
   ]
  },
  {
   "cell_type": "code",
   "execution_count": 57,
   "id": "98d029b3",
   "metadata": {},
   "outputs": [
    {
     "data": {
      "text/plain": [
       "Vaccinia virus                    22223\n",
       "Hepacivirus C                      3450\n",
       "Human gammaherpesvirus 4           2442\n",
       "Human betaherpesvirus 5            2309\n",
       "Dengue virus                       1546\n",
       "Influenza A virus                  1173\n",
       "Mycobacterium tuberculosis          839\n",
       "Hepatitis B virus                   780\n",
       "Human orthopneumovirus              667\n",
       "Human immunodeficiency virus 1      562\n",
       "Alphapapillomavirus 9               464\n",
       "Human betaherpesvirus 6B            398\n",
       "Plasmodium falciparum               346\n",
       "Trypanosoma cruzi                   266\n",
       "Toxoplasma gondii                   257\n",
       "Mycobacterium leprae                240\n",
       "Primate T-lymphotropic virus 1      227\n",
       "Human alphaherpesvirus 1            217\n",
       "Human gammaherpesvirus 8            137\n",
       "Human mastadenovirus C              120\n",
       "Name: (Epitope, Parent Species), dtype: int64"
      ]
     },
     "execution_count": 57,
     "metadata": {},
     "output_type": "execute_result"
    }
   ],
   "source": [
    "df_t_f['Epitope', 'Parent Species'].value_counts().head(20)"
   ]
  },
  {
   "cell_type": "code",
   "execution_count": 46,
   "id": "0756f6f7",
   "metadata": {},
   "outputs": [
    {
     "data": {
      "text/plain": [
       "IFNg release          29490\n",
       "granzyme B release       49\n",
       "IL-10 release            16\n",
       "TNF release              12\n",
       "IL-2 release              3\n",
       "IL-4 release              1\n",
       "IL-17 release             1\n",
       "Name: (Assay, Assay Group), dtype: int64"
      ]
     },
     "execution_count": 46,
     "metadata": {},
     "output_type": "execute_result"
    }
   ],
   "source": [
    "df_t_f[df_t_f['Assay', 'Method/Technique']=='ELISPOT']['Assay', 'Assay Group'].value_counts()"
   ]
  },
  {
   "cell_type": "code",
   "execution_count": 47,
   "id": "8f4d6d93",
   "metadata": {},
   "outputs": [
    {
     "data": {
      "text/plain": [
       "Vaccinia virus                   104\n",
       "Human endogenous retrovirus K     13\n",
       "Human betaherpesvirus 5           10\n",
       "Human betaherpesvirus 6B           3\n",
       "Mycobacterium tuberculosis         2\n",
       "Leishmania major                   2\n",
       "Human gammaherpesvirus 8           1\n",
       "Plasmodium falciparum              1\n",
       "Rattus norvegicus                  1\n",
       "Mus musculus                       1\n",
       "Dengue virus                       1\n",
       "Name: (Epitope, Parent Species), dtype: int64"
      ]
     },
     "execution_count": 47,
     "metadata": {},
     "output_type": "execute_result"
    }
   ],
   "source": [
    "df_t_f[d0]['Epitope', 'Parent Species'].value_counts()"
   ]
  },
  {
   "cell_type": "code",
   "execution_count": 48,
   "id": "462916e0",
   "metadata": {},
   "outputs": [
    {
     "data": {
      "text/plain": [
       "Administration in vivo                                                             105\n",
       "Occurrence of infectious disease                                                    21\n",
       "Exposure with existing immune reactivity without evidence for disease                7\n",
       "Environmental exposure to endemic/ubiquitous agent without evidence for disease      4\n",
       "No immunization                                                                      2\n",
       "Name: (1st in vivo Process, Process Type), dtype: int64"
      ]
     },
     "execution_count": 48,
     "metadata": {},
     "output_type": "execute_result"
    }
   ],
   "source": [
    "df_t_f[d0]['1st in vivo Process', 'Process Type'].value_counts()"
   ]
  },
  {
   "cell_type": "code",
   "execution_count": 49,
   "id": "ab15764d",
   "metadata": {},
   "outputs": [],
   "source": [
    "pos_d0 = df_t_f[d0][[('Assay', 'Method/Technique'),\n",
    "                     ('Assay', 'Positive')]].groupby(('Assay', 'Method/Technique')).agg('mean')\n",
    "pos_d0_count = df_t_f[d0][[('Assay', 'Method/Technique'),\n",
    "                     ('Assay', 'Positive')]].groupby(('Assay', 'Method/Technique')).agg('count')"
   ]
  },
  {
   "cell_type": "code",
   "execution_count": 50,
   "id": "5b60d59e",
   "metadata": {},
   "outputs": [],
   "source": [
    "pos_all = df_t_f[[('Assay', 'Method/Technique'),\n",
    "                  ('Assay', 'Positive')]].groupby(('Assay', 'Method/Technique')).agg('mean')\n",
    "pos_all_count = df_t_f[[('Assay', 'Method/Technique'),\n",
    "                  ('Assay', 'Positive')]].groupby(('Assay', 'Method/Technique')).agg('count')"
   ]
  },
  {
   "cell_type": "code",
   "execution_count": 52,
   "id": "00e2fe11",
   "metadata": {},
   "outputs": [
    {
     "data": {
      "text/html": [
       "<div>\n",
       "<style scoped>\n",
       "    .dataframe tbody tr th:only-of-type {\n",
       "        vertical-align: middle;\n",
       "    }\n",
       "\n",
       "    .dataframe tbody tr th {\n",
       "        vertical-align: top;\n",
       "    }\n",
       "\n",
       "    .dataframe thead tr th {\n",
       "        text-align: left;\n",
       "    }\n",
       "\n",
       "    .dataframe thead tr:last-of-type th {\n",
       "        text-align: right;\n",
       "    }\n",
       "</style>\n",
       "<table border=\"1\" class=\"dataframe\">\n",
       "  <thead>\n",
       "    <tr>\n",
       "      <th></th>\n",
       "      <th>Assay_d0</th>\n",
       "      <th>Assay_all</th>\n",
       "    </tr>\n",
       "    <tr>\n",
       "      <th></th>\n",
       "      <th>Positive</th>\n",
       "      <th>Positive</th>\n",
       "    </tr>\n",
       "    <tr>\n",
       "      <th>(Assay, Method/Technique)</th>\n",
       "      <th></th>\n",
       "      <th></th>\n",
       "    </tr>\n",
       "  </thead>\n",
       "  <tbody>\n",
       "    <tr>\n",
       "      <th>51 chromium</th>\n",
       "      <td>0.600000</td>\n",
       "      <td>0.772289</td>\n",
       "    </tr>\n",
       "    <tr>\n",
       "      <th>ELISA</th>\n",
       "      <td>0.833333</td>\n",
       "      <td>0.668708</td>\n",
       "    </tr>\n",
       "    <tr>\n",
       "      <th>ELISPOT</th>\n",
       "      <td>0.008403</td>\n",
       "      <td>0.169857</td>\n",
       "    </tr>\n",
       "    <tr>\n",
       "      <th>ICS</th>\n",
       "      <td>0.666667</td>\n",
       "      <td>0.720207</td>\n",
       "    </tr>\n",
       "    <tr>\n",
       "      <th>multimer/tetramer</th>\n",
       "      <td>0.833333</td>\n",
       "      <td>0.893792</td>\n",
       "    </tr>\n",
       "  </tbody>\n",
       "</table>\n",
       "</div>"
      ],
      "text/plain": [
       "                           Assay_d0 Assay_all\n",
       "                           Positive  Positive\n",
       "(Assay, Method/Technique)                    \n",
       "51 chromium                0.600000  0.772289\n",
       "ELISA                      0.833333  0.668708\n",
       "ELISPOT                    0.008403  0.169857\n",
       "ICS                        0.666667  0.720207\n",
       "multimer/tetramer          0.833333  0.893792"
      ]
     },
     "execution_count": 52,
     "metadata": {},
     "output_type": "execute_result"
    }
   ],
   "source": [
    "dfm = pd.merge(pos_d0, pos_all, how='inner', left_index=True, right_index=True, suffixes=['_d0', '_all'])\n",
    "dfm"
   ]
  },
  {
   "cell_type": "code",
   "execution_count": 53,
   "id": "00941c3d",
   "metadata": {},
   "outputs": [
    {
     "data": {
      "image/png": "[encoded data removed]",
      "text/plain": [
       "<Figure size 600x600 with 1 Axes>"
      ]
     },
     "metadata": {},
     "output_type": "display_data"
    }
   ],
   "source": [
    "fig = plt.figure(figsize=(2, 2))\n",
    "xs = dfm['Assay_all', 'Positive']\n",
    "ys = dfm['Assay_d0', 'Positive']\n",
    "counts = pos_d0_count.loc[xs.index]['Assay', 'Positive']\n",
    "counts_x = pos_all_count.loc[xs.index]['Assay', 'Positive']\n",
    "yerr = (ys*(1-ys)/counts)**.5\n",
    "xerr = (xs*(1-xs)/counts_x)**.5\n",
    "labels = dfm.index\n",
    "plt.errorbar(xs, ys, yerr=yerr, xerr=xerr, fmt='o')\n",
    "\n",
    "for x, y, label in zip(xs, ys, labels):\n",
    "    plt.annotate(label.split('/')[0], (x, y+0.02),\n",
    "                 ha='center', va='bottom', size='xx-small')\n",
    "\n",
    "plt.plot([0, 1], [0, 1], '-', c='.5')\n",
    "plt.xlim(0, 1)\n",
    "plt.ylim(0, 1)\n",
    "plt.xlabel('Fraction Immunogenic\\nAll Peptides')\n",
    "plt.ylabel('Fraction Immunogenic\\nPeptide also in Self')\n",
    "fig.savefig(figuredir + 'assays.svg')"
   ]
  },
  {
   "cell_type": "code",
   "execution_count": null,
   "id": "1cd11e53",
   "metadata": {},
   "outputs": [],
   "source": []
  }
 ],
 "metadata": {
  "kernelspec": {
   "display_name": "Python 3 (ipykernel)",
   "language": "python",
   "name": "python3"
  },
  "language_info": {
   "codemirror_mode": {
    "name": "ipython",
    "version": 3
   },
   "file_extension": ".py",
   "mimetype": "text/x-python",
   "name": "python",
   "nbconvert_exporter": "python",
   "pygments_lexer": "ipython3",
   "version": "3.8.13"
  }
 },
 "nbformat": 4,
 "nbformat_minor": 5
}
