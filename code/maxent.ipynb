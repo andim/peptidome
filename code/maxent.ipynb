{
 "cells": [
  {
   "cell_type": "code",
   "execution_count": 419,
   "metadata": {},
   "outputs": [],
   "source": [
    "import itertools, copy\n",
    "import numpy as np\n",
    "import scipy.misc\n",
    "import pandas as pd\n",
    "import seaborn as sns\n",
    "import matplotlib.pyplot as plt\n",
    "% matplotlib inline\n",
    "\n",
    "from lib import *"
   ]
  },
  {
   "cell_type": "code",
   "execution_count": 2,
   "metadata": {},
   "outputs": [],
   "source": [
    "counters = [count_kmers_proteome(human, k) for k in range(1, 6)]"
   ]
  },
  {
   "cell_type": "code",
   "execution_count": 3,
   "metadata": {},
   "outputs": [
    {
     "name": "stdout",
     "output_type": "stream",
     "text": [
      "20 ACDEFGHIKLMNPQRSTVWY\n"
     ]
    }
   ],
   "source": [
    "df0 = counter_to_df(counters[0])\n",
    "df0 = df0[~df0['seq'].str.contains('U|B|X|Z')]\n",
    "aas = ''.join(sorted(df0['seq']))\n",
    "print(len(aas), aas)"
   ]
  },
  {
   "cell_type": "code",
   "execution_count": 390,
   "metadata": {},
   "outputs": [],
   "source": [
    "def energy(s, h, Jk):\n",
    "    energy = sum(h[c] for c in s)\n",
    "    for k, J in enumerate(Jk):\n",
    "        for i in range(len(s)-1-k):\n",
    "            energy += J[s[i]][s[i+k+1]]\n",
    "    return -energy"
   ]
  },
  {
   "cell_type": "code",
   "execution_count": 5,
   "metadata": {},
   "outputs": [],
   "source": [
    "def expfamily(seq, lambdas, fs, Z=1):\n",
    "    return np.exp(np.sum(lambdas*np.array([f(seq) for f in fs])))/Z"
   ]
  },
  {
   "cell_type": "code",
   "execution_count": 6,
   "metadata": {},
   "outputs": [],
   "source": [
    "def create_counter(s):\n",
    "    return lambda seq: seq.count(s)"
   ]
  },
  {
   "cell_type": "code",
   "execution_count": 7,
   "metadata": {},
   "outputs": [],
   "source": [
    "symbols = aas\n",
    "lambdas = np.zeros(len(aas))/len(aas)\n",
    "fs = [create_counter(s) for s in list(symbols)]\n",
    "abcd = expfamily('ABCD', lambdas, fs)"
   ]
  },
  {
   "cell_type": "code",
   "execution_count": 8,
   "metadata": {},
   "outputs": [
    {
     "name": "stdout",
     "output_type": "stream",
     "text": [
      "160000.0 6.25e-06 6.25e-06\n"
     ]
    }
   ],
   "source": [
    "Z = sum(expfamily(s, lambdas, fs) for s in itertools.product(symbols, repeat=4))\n",
    "print(Z, abcd/Z, 1/20**4)"
   ]
  },
  {
   "cell_type": "code",
   "execution_count": 638,
   "metadata": {},
   "outputs": [],
   "source": [
    "df0 = counter_to_df(counters[0])\n",
    "df0 = df0[~df0['seq'].str.contains('U|B|X|Z')]\n",
    "df0 = df0.set_index('seq')\n",
    "humanaaprobdict = np.log(df0['freq']).to_dict()\n",
    "humanaaprobdict\n",
    "\n",
    "df1 = counter_to_df(counters[1], norm=False)\n",
    "strcolumn_to_charcolumns(df1, 'seq')\n",
    "count = df1.pivot(columns='aa1', index='aa2')['count']\n",
    "count /= np.sum(count, axis=0)\n",
    "count[count.isna()] = 1e-10\n",
    "humandoubletprobdict = (0.0*count).to_dict()"
   ]
  },
  {
   "cell_type": "code",
   "execution_count": 632,
   "metadata": {},
   "outputs": [],
   "source": [
    "df2 = counter_to_df(counters[2], norm=False)\n",
    "df2['aa12'] = [s[:2] for s in df2['seq']]\n",
    "df2['aa3'] = [s[2] for s in df2['seq']]\n",
    "count = df2.pivot(columns='aa12', index='aa3')['count']\n",
    "count /= np.sum(count, axis=0)\n",
    "count[count.isna()] = 1e-10\n",
    "humantripletprobdict = np.log(count).to_dict()"
   ]
  },
  {
   "cell_type": "code",
   "execution_count": 422,
   "metadata": {},
   "outputs": [],
   "source": [
    "h = humanaaprobdict\n",
    "Jk = [humandoubletprobdict, copy.deepcopy(humandoubletprobdict)]"
   ]
  },
  {
   "cell_type": "code",
   "execution_count": 646,
   "metadata": {},
   "outputs": [],
   "source": [
    "Z = np.exp(scipy.special.logsumexp([-energy(s, h, Jk) for s in itertools.product(symbols, repeat=5)]))"
   ]
  },
  {
   "cell_type": "code",
   "execution_count": 647,
   "metadata": {},
   "outputs": [
    {
     "data": {
      "text/plain": [
       "6.618936608155473e-07"
      ]
     },
     "execution_count": 647,
     "metadata": {},
     "output_type": "execute_result"
    }
   ],
   "source": [
    "np.exp(-energy('AWAAL', h, Jk))/Z"
   ]
  },
  {
   "cell_type": "code",
   "execution_count": 648,
   "metadata": {},
   "outputs": [
    {
     "data": {
      "text/plain": [
       "6.140958010741882e-07"
      ]
     },
     "execution_count": 648,
     "metadata": {},
     "output_type": "execute_result"
    }
   ],
   "source": [
    "np.exp(loglikelihood_mc('AWAAL', humanaaprobdict, np.log(count).to_dict()))"
   ]
  },
  {
   "cell_type": "code",
   "execution_count": 649,
   "metadata": {},
   "outputs": [
    {
     "data": {
      "text/plain": [
       "6.351131833842131e-07"
      ]
     },
     "execution_count": 649,
     "metadata": {},
     "output_type": "execute_result"
    }
   ],
   "source": [
    "np.exp(loglikelihood_triplet('AWAAL', humanaaprobdict, np.log(count).to_dict(), humantripletprobdict))"
   ]
  },
  {
   "cell_type": "code",
   "execution_count": 616,
   "metadata": {},
   "outputs": [],
   "source": [
    "def mcmcsampler(x0, energy, jump, nsteps, nburnin=0, nsample=1):\n",
    "    nsteps, nburnin, nsample = int(nsteps), int(nburnin), int(nsample)\n",
    "    x = x0\n",
    "    Ex = energy(x)\n",
    "    states = []\n",
    "    for i in range(nsteps):\n",
    "        xp = jump(x)\n",
    "        Exp = energy(xp)\n",
    "        if np.random.rand() < np.exp(-Exp+Ex):\n",
    "            x = xp\n",
    "            Ex = Exp\n",
    "        if (i > nburnin) and (i % nsample == 0):\n",
    "            states.append(''.join(x))\n",
    "    return np.array(states)"
   ]
  },
  {
   "cell_type": "code",
   "execution_count": 617,
   "metadata": {},
   "outputs": [],
   "source": [
    "aas_arr = np.array(list(aas))"
   ]
  },
  {
   "cell_type": "code",
   "execution_count": 618,
   "metadata": {},
   "outputs": [],
   "source": [
    "def jump(x):\n",
    "    i = np.random.randint(0, len(x))\n",
    "    x = list(x)\n",
    "    x[i] = np.random.choice(aas_arr)\n",
    "    return ''.join(x)"
   ]
  },
  {
   "cell_type": "code",
   "execution_count": 619,
   "metadata": {},
   "outputs": [],
   "source": [
    "aafreqs = np.array(df0.loc[np.array(list(aas))]['freq'])\n",
    "aafreqs /= np.sum(aafreqs)\n",
    "jump = lambda x: ''.join(np.random.choice(np.array(list(aas)), size=6))\n",
    "x0 = jump(None)\n",
    "#x0 = ''.join(np.random.choice(np.array(list(aas)), size=4))\n",
    "samples = mcmcsampler(x0, lambda x: energy(x, h, Jk), jump, 1e6)"
   ]
  },
  {
   "cell_type": "code",
   "execution_count": 620,
   "metadata": {},
   "outputs": [
    {
     "data": {
      "text/plain": [
       "<matplotlib.collections.PathCollection at 0x7f71289a4160>"
      ]
     },
     "execution_count": 620,
     "metadata": {},
     "output_type": "execute_result"
    },
    {
     "data": {
      "image/png": "[encoded data removed]",
      "text/plain": [
       "<Figure size 432x288 with 1 Axes>"
      ]
     },
     "metadata": {},
     "output_type": "display_data"
    }
   ],
   "source": [
    "dfm0 = df0.merge(counter_to_df(count_kmers_iterable(samples, 1)), left_index=True, right_on='seq')\n",
    "x = np.linspace(0.0, 0.1)\n",
    "plt.plot(x, x, 'k')\n",
    "plt.scatter(dfm0['freq_x'], dfm0['freq_y'])"
   ]
  },
  {
   "cell_type": "code",
   "execution_count": 621,
   "metadata": {},
   "outputs": [
    {
     "data": {
      "text/plain": [
       "<matplotlib.collections.PathCollection at 0x7f7128981278>"
      ]
     },
     "execution_count": 621,
     "metadata": {},
     "output_type": "execute_result"
    },
    {
     "data": {
      "image/png": "[encoded data removed]",
      "text/plain": [
       "<Figure size 432x288 with 1 Axes>"
      ]
     },
     "metadata": {},
     "output_type": "display_data"
    }
   ],
   "source": [
    "df1 = counter_to_df(counters[1])\n",
    "df1 = df1[~df1['seq'].str.contains('U|B|X|Z')]\n",
    "df1 = df1.set_index('seq')\n",
    "dfm1 = df1.merge(counter_to_df(count_kmers_iterable(samples, 2)), left_index=True, right_on='seq')\n",
    "x = np.linspace(0.0, 0.11**2)\n",
    "plt.plot(x, x, 'k')\n",
    "plt.scatter(dfm1['freq_x'], dfm1['freq_y'])"
   ]
  },
  {
   "cell_type": "code",
   "execution_count": 622,
   "metadata": {},
   "outputs": [
    {
     "data": {
      "text/plain": [
       "0.020951538757612038"
      ]
     },
     "execution_count": 622,
     "metadata": {},
     "output_type": "execute_result"
    }
   ],
   "source": [
    "dfm1['logfold'] = np.log(dfm1['freq_x']/dfm1['freq_y'])\n",
    "np.abs(dfm1['logfold']).mean()"
   ]
  },
  {
   "cell_type": "code",
   "execution_count": 623,
   "metadata": {},
   "outputs": [],
   "source": [
    "epsilon = 0.1\n",
    "for idx, row in dfm1.iterrows():\n",
    "    logfold = row['logfold']\n",
    "    aa1 = row['seq'][0]\n",
    "    aa2 = row['seq'][1]\n",
    "    Jk[0][aa1][aa2] += logfold * epsilon"
   ]
  },
  {
   "cell_type": "code",
   "execution_count": 624,
   "metadata": {},
   "outputs": [
    {
     "data": {
      "text/plain": [
       "0.046836059325517064"
      ]
     },
     "execution_count": 624,
     "metadata": {},
     "output_type": "execute_result"
    },
    {
     "data": {
      "image/png": "[encoded data removed]",
      "text/plain": [
       "<Figure size 432x288 with 1 Axes>"
      ]
     },
     "metadata": {},
     "output_type": "display_data"
    }
   ],
   "source": [
    "dfgap1 = counter_to_df(count_kmers_proteome(human, 2, gap=1))\n",
    "dfgap1 = dfgap1[~dfgap1['seq'].str.contains('U|B|X|Z')]\n",
    "dfgap1 = dfgap1.set_index('seq')\n",
    "dfmgap1 = dfgap1.merge(counter_to_df(count_kmers_iterable(samples, 2, gap=1)), left_index=True, right_on='seq')\n",
    "x = np.linspace(0.0, 0.11**2)\n",
    "plt.plot(x, x, 'k')\n",
    "plt.scatter(dfmgap1['freq_x'], dfmgap1['freq_y'])\n",
    "dfmgap1['logfold'] = np.log(dfmgap1['freq_x']/dfmgap1['freq_y'])\n",
    "np.abs(dfmgap1['logfold']).mean()"
   ]
  },
  {
   "cell_type": "code",
   "execution_count": 625,
   "metadata": {},
   "outputs": [],
   "source": [
    "epsilon = 0.02\n",
    "for idx, row in dfmgap1.iterrows():\n",
    "    logfold = row['logfold']\n",
    "    aa1 = row['seq'][0]\n",
    "    aa2 = row['seq'][1]\n",
    "    Jk[1][aa1][aa2] += logfold * epsilon"
   ]
  },
  {
   "cell_type": "code",
   "execution_count": null,
   "metadata": {},
   "outputs": [],
   "source": []
  }
 ],
 "metadata": {
  "kernelspec": {
   "display_name": "Python 3",
   "language": "python",
   "name": "python3"
  },
  "language_info": {
   "codemirror_mode": {
    "name": "ipython",
    "version": 3
   },
   "file_extension": ".py",
   "mimetype": "text/x-python",
   "name": "python",
   "nbconvert_exporter": "python",
   "pygments_lexer": "ipython3",
   "version": "3.6.5"
  }
 },
 "nbformat": 4,
 "nbformat_minor": 2
}
