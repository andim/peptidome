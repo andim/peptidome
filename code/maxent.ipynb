{
 "cells": [
  {
   "cell_type": "code",
   "execution_count": 4,
   "metadata": {},
   "outputs": [],
   "source": [
    "import itertools\n",
    "import numpy as np\n",
    "import pandas as pd\n",
    "import seaborn as sns\n",
    "import matplotlib.pyplot as plt\n",
    "% matplotlib inline\n",
    "\n",
    "from lib import *"
   ]
  },
  {
   "cell_type": "code",
   "execution_count": 5,
   "metadata": {},
   "outputs": [],
   "source": [
    "counters = [count_kmers_proteome(human, k) for k in range(1, 6)]"
   ]
  },
  {
   "cell_type": "code",
   "execution_count": 6,
   "metadata": {},
   "outputs": [
    {
     "name": "stdout",
     "output_type": "stream",
     "text": [
      "20 ACDEFGHIKLMNPQRSTVWY\n"
     ]
    }
   ],
   "source": [
    "df0 = counter_to_df(counters[0])\n",
    "df0 = df0[~df0['seq'].str.contains('U|B|X|Z')]\n",
    "aas = ''.join(sorted(df0['seq']))\n",
    "print(len(aas), aas)"
   ]
  },
  {
   "cell_type": "code",
   "execution_count": 30,
   "metadata": {},
   "outputs": [],
   "source": [
    "def energy(s, h, Jk):\n",
    "    energy = sum(h[c] for c in s)\n",
    "    for k, J in enumerate(Jk):\n",
    "        for i in range(len(s)-1):\n",
    "            energy += J[s[i]][s[i+k+1]]\n",
    "    return -energy"
   ]
  },
  {
   "cell_type": "code",
   "execution_count": 10,
   "metadata": {},
   "outputs": [],
   "source": [
    "def expfamily(seq, lambdas, fs, Z=1):\n",
    "    return np.exp(np.sum(lambdas*np.array([f(seq) for f in fs])))/Z"
   ]
  },
  {
   "cell_type": "code",
   "execution_count": 11,
   "metadata": {},
   "outputs": [],
   "source": [
    "def create_counter(s):\n",
    "    return lambda seq: seq.count(s)"
   ]
  },
  {
   "cell_type": "code",
   "execution_count": 12,
   "metadata": {},
   "outputs": [],
   "source": [
    "symbols = aas\n",
    "lambdas = np.zeros(len(aas))/len(aas)\n",
    "fs = [create_counter(s) for s in list(symbols)]\n",
    "abcd = expfamily('ABCD', lambdas, fs)"
   ]
  },
  {
   "cell_type": "code",
   "execution_count": 13,
   "metadata": {},
   "outputs": [
    {
     "name": "stdout",
     "output_type": "stream",
     "text": [
      "160000.0 6.25e-06 6.25e-06\n"
     ]
    }
   ],
   "source": [
    "Z = sum(expfamily(s, lambdas, fs) for s in itertools.product(symbols, repeat=4))\n",
    "print(Z, abcd/Z, 1/20**4)"
   ]
  },
  {
   "cell_type": "code",
   "execution_count": 114,
   "metadata": {},
   "outputs": [],
   "source": [
    "df0 = counter_to_df(counters[0])\n",
    "df0 = df0[~df0['seq'].str.contains('U|B|X|Z')]\n",
    "df0 = df0.set_index('seq')\n",
    "humanaaprobdict = np.log(df0['freq']).to_dict()\n",
    "humanaaprobdict\n",
    "\n",
    "df1 = counter_to_df(counters[1], norm=False)\n",
    "strcolumn_to_charcolumns(df1, 'seq')\n",
    "count = df1.pivot(columns='aa1', index='aa2')['count']\n",
    "count /= np.sum(count, axis=0)\n",
    "count[count.isna()] = 1e-10\n",
    "humandoubletprobdict = (1e-100*count).to_dict()"
   ]
  },
  {
   "cell_type": "code",
   "execution_count": 115,
   "metadata": {},
   "outputs": [],
   "source": [
    "h = humanaaprobdict\n",
    "Jk = [humandoubletprobdict]"
   ]
  },
  {
   "cell_type": "code",
   "execution_count": 116,
   "metadata": {},
   "outputs": [],
   "source": [
    "Z = sum(np.exp(-energy(s, h, Jk)) for s in itertools.product(symbols, repeat=4))"
   ]
  },
  {
   "cell_type": "code",
   "execution_count": 125,
   "metadata": {},
   "outputs": [
    {
     "data": {
      "text/plain": [
       "2.2047372031526217e-08"
      ]
     },
     "execution_count": 125,
     "metadata": {},
     "output_type": "execute_result"
    }
   ],
   "source": [
    "np.exp(-energy('WWWW', h, Jk))/Z"
   ]
  },
  {
   "cell_type": "code",
   "execution_count": 124,
   "metadata": {},
   "outputs": [
    {
     "data": {
      "text/plain": [
       "2.2047085068629296e-08"
      ]
     },
     "execution_count": 124,
     "metadata": {},
     "output_type": "execute_result"
    }
   ],
   "source": [
    "np.exp(loglikelihood_independent('WWWW', humanaaprobdict))"
   ]
  },
  {
   "cell_type": "code",
   "execution_count": 232,
   "metadata": {},
   "outputs": [],
   "source": [
    "def mcmcsampler(x0, energy, jump, nsteps, nburnin=0, nsample=1):\n",
    "    nsteps, nburnin, nsample = int(nsteps), int(nburnin), int(nsample)\n",
    "    x = x0\n",
    "    Ex = energy(x)\n",
    "    states = []\n",
    "    for i in range(nsteps):\n",
    "        xp = jump(x)\n",
    "        Exp = energy(xp)\n",
    "        #print(np.exp(-Exp)/np.exp(-Ex))\n",
    "        if np.random.rand() < np.exp(-Exp+Ex):\n",
    "            x = xp\n",
    "            Ex = Exp\n",
    "            if i > nburnin:\n",
    "                states.append(x)\n",
    "#        if (i > nburnin) and (i % nsample == 0):\n",
    "#            states.append(x)\n",
    "    return np.array(states)"
   ]
  },
  {
   "cell_type": "code",
   "execution_count": 239,
   "metadata": {},
   "outputs": [],
   "source": [
    "aafreqs = np.array(df0.loc[np.array(list(aas))]['freq'])\n",
    "aafreqs /= np.sum(aafreqs)\n",
    "jump = lambda x: ''.join(np.random.choice(np.array(list(aas)), size=4))\n",
    "x0 = jump(None)\n",
    "samples = mcmcsampler(x0, lambda x: energy(x, h, Jk), jump, 1e6, 1e3)"
   ]
  },
  {
   "cell_type": "code",
   "execution_count": 240,
   "metadata": {},
   "outputs": [],
   "source": [
    "dfm = df0.merge(counter_to_df(count_kmers_iterable(samples, 1)), left_index=True, right_on='seq')"
   ]
  },
  {
   "cell_type": "code",
   "execution_count": 241,
   "metadata": {},
   "outputs": [
    {
     "data": {
      "text/plain": [
       "<matplotlib.collections.PathCollection at 0x7f0ae1d17438>"
      ]
     },
     "execution_count": 241,
     "metadata": {},
     "output_type": "execute_result"
    },
    {
     "data": {
      "image/png": "[encoded data removed]",
      "text/plain": [
       "<Figure size 432x288 with 1 Axes>"
      ]
     },
     "metadata": {},
     "output_type": "display_data"
    }
   ],
   "source": [
    "x = np.linspace(0.0, 0.15)\n",
    "plt.plot(x, x, 'k')\n",
    "plt.scatter(dfm['freq_x'], dfm['freq_y'])"
   ]
  },
  {
   "cell_type": "code",
   "execution_count": null,
   "metadata": {},
   "outputs": [],
   "source": []
  }
 ],
 "metadata": {
  "kernelspec": {
   "display_name": "Python 3",
   "language": "python",
   "name": "python3"
  },
  "language_info": {
   "codemirror_mode": {
    "name": "ipython",
    "version": 3
   },
   "file_extension": ".py",
   "mimetype": "text/x-python",
   "name": "python",
   "nbconvert_exporter": "python",
   "pygments_lexer": "ipython3",
   "version": "3.6.5"
  }
 },
 "nbformat": 4,
 "nbformat_minor": 2
}
