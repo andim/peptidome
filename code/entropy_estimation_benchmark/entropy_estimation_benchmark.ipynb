{
 "cells": [
  {
   "cell_type": "code",
   "execution_count": 1,
   "metadata": {},
   "outputs": [],
   "source": [
    "import numpy as np\n",
    "import pandas as pd\n",
    "from scipy.stats import entropy\n",
    "import scipy.stats\n",
    "import sklearn.decomposition\n",
    "import sklearn.manifold\n",
    "import seaborn as sns\n",
    "import matplotlib.pyplot as plt\n",
    "%matplotlib inline\n",
    "\n",
    "import sys\n",
    "sys.path.append('..')\n",
    "from lib import *\n",
    "\n",
    "plt.style.use('../peptidome.mplstyle')"
   ]
  },
  {
   "cell_type": "code",
   "execution_count": 2,
   "metadata": {},
   "outputs": [],
   "source": [
    "p = np.random.dirichlet(0.5*np.ones(10))\n",
    "eexact = entropy(p, base=2)"
   ]
  },
  {
   "cell_type": "code",
   "execution_count": 3,
   "metadata": {},
   "outputs": [],
   "source": [
    "e = []\n",
    "eg = []\n",
    "en = []\n",
    "for i in range(1000):\n",
    "    n = np.random.multinomial(20, p)\n",
    "    e.append(entropy(n/np.sum(n), base=2))\n",
    "    eg.append(entropy_grassberger(n) / np.log(2))\n",
    "    en.append(float(entropy_nsb(n)) / np.log(2))"
   ]
  },
  {
   "cell_type": "code",
   "execution_count": 17,
   "metadata": {},
   "outputs": [
    {
     "data": {
      "image/png": "[encoded data removed]",
      "text/plain": [
       "<Figure size 432x288 with 1 Axes>"
      ]
     },
     "metadata": {
      "needs_background": "light"
     },
     "output_type": "display_data"
    }
   ],
   "source": [
    "bins = np.linspace(1.5, 3.5, 20)\n",
    "plt.hist(e, bins=bins, alpha=.5, label='mle')\n",
    "plt.hist(eg, bins=bins, alpha=.5, label='grassberger')\n",
    "plt.hist(en, bins=bins, alpha=.5, label='nsb')\n",
    "plt.axvline(eexact)\n",
    "plt.legend()\n",
    "plt.xlabel('Entropy in bit')\n",
    "plt.ylabel('Trials')\n",
    "plt.savefig(\"main.png\")"
   ]
  },
  {
   "cell_type": "code",
   "execution_count": 8,
   "metadata": {},
   "outputs": [
    {
     "data": {
      "text/plain": [
       "(2.8512574222124085,\n",
       " [(2.505992186732367, 0.2494567336514956),\n",
       "  (2.783530625786959, 0.28651440725998145),\n",
       "  (2.7727608979544494, 0.2418081066571336)])"
      ]
     },
     "execution_count": 8,
     "metadata": {},
     "output_type": "execute_result"
    }
   ],
   "source": [
    "eexact, list(zip([np.mean(e), np.mean(eg), np.mean(en)], [np.std(e), np.std(eg), np.std(en)]))"
   ]
  },
  {
   "cell_type": "code",
   "execution_count": null,
   "metadata": {},
   "outputs": [],
   "source": []
  }
 ],
 "metadata": {
  "kernelspec": {
   "display_name": "Python 3",
   "language": "python",
   "name": "python3"
  },
  "language_info": {
   "codemirror_mode": {
    "name": "ipython",
    "version": 3
   },
   "file_extension": ".py",
   "mimetype": "text/x-python",
   "name": "python",
   "nbconvert_exporter": "python",
   "pygments_lexer": "ipython3",
   "version": "3.6.10"
  }
 },
 "nbformat": 4,
 "nbformat_minor": 2
}
