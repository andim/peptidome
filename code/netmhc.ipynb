{
 "cells": [
  {
   "cell_type": "markdown",
   "metadata": {},
   "source": [
    "# Using netMHC predictions"
   ]
  },
  {
   "cell_type": "code",
   "execution_count": 1,
   "metadata": {},
   "outputs": [],
   "source": [
    "import glob\n",
    "import numpy as np\n",
    "import pandas as pd\n",
    "from scipy.stats import entropy\n",
    "import sklearn.decomposition\n",
    "import sklearn.manifold\n",
    "import seaborn as sns\n",
    "import matplotlib.pyplot as plt\n",
    "% matplotlib inline\n",
    "\n",
    "from lib import *"
   ]
  },
  {
   "cell_type": "code",
   "execution_count": 4,
   "metadata": {},
   "outputs": [
    {
     "data": {
      "text/html": [
       "<div>\n",
       "<style scoped>\n",
       "    .dataframe tbody tr th:only-of-type {\n",
       "        vertical-align: middle;\n",
       "    }\n",
       "\n",
       "    .dataframe tbody tr th {\n",
       "        vertical-align: top;\n",
       "    }\n",
       "\n",
       "    .dataframe thead th {\n",
       "        text-align: right;\n",
       "    }\n",
       "</style>\n",
       "<table border=\"1\" class=\"dataframe\">\n",
       "  <thead>\n",
       "    <tr style=\"text-align: right;\">\n",
       "      <th></th>\n",
       "      <th>Pos</th>\n",
       "      <th>Peptide</th>\n",
       "      <th>ID</th>\n",
       "      <th>nM</th>\n",
       "      <th>Rank</th>\n",
       "      <th>Core</th>\n",
       "      <th>H_Avg_Ranks</th>\n",
       "      <th>N_binders</th>\n",
       "    </tr>\n",
       "  </thead>\n",
       "  <tbody>\n",
       "    <tr>\n",
       "      <th>0</th>\n",
       "      <td>0</td>\n",
       "      <td>MKAIIVLLM</td>\n",
       "      <td>tr_U5XBK3_U5XBK</td>\n",
       "      <td>19133.1</td>\n",
       "      <td>8.5</td>\n",
       "      <td>MKAIIVLLM</td>\n",
       "      <td>8.5</td>\n",
       "      <td>0</td>\n",
       "    </tr>\n",
       "    <tr>\n",
       "      <th>1</th>\n",
       "      <td>1</td>\n",
       "      <td>KAIIVLLMV</td>\n",
       "      <td>tr_U5XBK3_U5XBK</td>\n",
       "      <td>19748.3</td>\n",
       "      <td>9.0</td>\n",
       "      <td>KAIIVLLMV</td>\n",
       "      <td>9.0</td>\n",
       "      <td>0</td>\n",
       "    </tr>\n",
       "    <tr>\n",
       "      <th>2</th>\n",
       "      <td>2</td>\n",
       "      <td>AIIVLLMVV</td>\n",
       "      <td>tr_U5XBK3_U5XBK</td>\n",
       "      <td>17841.5</td>\n",
       "      <td>7.5</td>\n",
       "      <td>AIIVLLMVV</td>\n",
       "      <td>7.5</td>\n",
       "      <td>0</td>\n",
       "    </tr>\n",
       "    <tr>\n",
       "      <th>3</th>\n",
       "      <td>3</td>\n",
       "      <td>IIVLLMVVT</td>\n",
       "      <td>tr_U5XBK3_U5XBK</td>\n",
       "      <td>24851.9</td>\n",
       "      <td>19.0</td>\n",
       "      <td>IIVLLMVVT</td>\n",
       "      <td>19.0</td>\n",
       "      <td>0</td>\n",
       "    </tr>\n",
       "    <tr>\n",
       "      <th>4</th>\n",
       "      <td>4</td>\n",
       "      <td>IVLLMVVTS</td>\n",
       "      <td>tr_U5XBK3_U5XBK</td>\n",
       "      <td>27285.7</td>\n",
       "      <td>26.0</td>\n",
       "      <td>IVLLMVVTS</td>\n",
       "      <td>26.0</td>\n",
       "      <td>0</td>\n",
       "    </tr>\n",
       "  </tbody>\n",
       "</table>\n",
       "</div>"
      ],
      "text/plain": [
       "   Pos    Peptide               ID       nM  Rank       Core  H_Avg_Ranks  \\\n",
       "0    0  MKAIIVLLM  tr_U5XBK3_U5XBK  19133.1   8.5  MKAIIVLLM          8.5   \n",
       "1    1  KAIIVLLMV  tr_U5XBK3_U5XBK  19748.3   9.0  KAIIVLLMV          9.0   \n",
       "2    2  AIIVLLMVV  tr_U5XBK3_U5XBK  17841.5   7.5  AIIVLLMVV          7.5   \n",
       "3    3  IIVLLMVVT  tr_U5XBK3_U5XBK  24851.9  19.0  IIVLLMVVT         19.0   \n",
       "4    4  IVLLMVVTS  tr_U5XBK3_U5XBK  27285.7  26.0  IVLLMVVTS         26.0   \n",
       "\n",
       "   N_binders  \n",
       "0          0  \n",
       "1          0  \n",
       "2          0  \n",
       "3          0  \n",
       "4          0  "
      ]
     },
     "execution_count": 4,
     "metadata": {},
     "output_type": "execute_result"
    }
   ],
   "source": [
    "df = pd.read_csv('/home/amayer/data/peptidome/netmhc/influenzaB-HLA-A0101.csv', sep='\\t', skiprows=1)\n",
    "df.head()"
   ]
  },
  {
   "cell_type": "code",
   "execution_count": 8,
   "metadata": {},
   "outputs": [
    {
     "data": {
      "text/html": [
       "<div>\n",
       "<style scoped>\n",
       "    .dataframe tbody tr th:only-of-type {\n",
       "        vertical-align: middle;\n",
       "    }\n",
       "\n",
       "    .dataframe tbody tr th {\n",
       "        vertical-align: top;\n",
       "    }\n",
       "\n",
       "    .dataframe thead th {\n",
       "        text-align: right;\n",
       "    }\n",
       "</style>\n",
       "<table border=\"1\" class=\"dataframe\">\n",
       "  <thead>\n",
       "    <tr style=\"text-align: right;\">\n",
       "      <th></th>\n",
       "      <th>Pos</th>\n",
       "      <th>Peptide</th>\n",
       "      <th>ID</th>\n",
       "      <th>nM</th>\n",
       "      <th>Rank</th>\n",
       "      <th>Core</th>\n",
       "      <th>H_Avg_Ranks</th>\n",
       "      <th>N_binders</th>\n",
       "    </tr>\n",
       "  </thead>\n",
       "  <tbody>\n",
       "    <tr>\n",
       "      <th>1504</th>\n",
       "      <td>209</td>\n",
       "      <td>YTDTYHSYA</td>\n",
       "      <td>tr_U5XCM4_U5XCM</td>\n",
       "      <td>4.0</td>\n",
       "      <td>0.01</td>\n",
       "      <td>YTDTYHSYA</td>\n",
       "      <td>0.01</td>\n",
       "      <td>1</td>\n",
       "    </tr>\n",
       "    <tr>\n",
       "      <th>3621</th>\n",
       "      <td>385</td>\n",
       "      <td>FMSCFGAAY</td>\n",
       "      <td>tr_U5XBL0_U5XBL</td>\n",
       "      <td>38.9</td>\n",
       "      <td>0.07</td>\n",
       "      <td>FMSCFGAAY</td>\n",
       "      <td>0.07</td>\n",
       "      <td>1</td>\n",
       "    </tr>\n",
       "  </tbody>\n",
       "</table>\n",
       "</div>"
      ],
      "text/plain": [
       "      Pos    Peptide               ID    nM  Rank       Core  H_Avg_Ranks  \\\n",
       "1504  209  YTDTYHSYA  tr_U5XCM4_U5XCM   4.0  0.01  YTDTYHSYA         0.01   \n",
       "3621  385  FMSCFGAAY  tr_U5XBL0_U5XBL  38.9  0.07  FMSCFGAAY         0.07   \n",
       "\n",
       "      N_binders  \n",
       "1504          1  \n",
       "3621          1  "
      ]
     },
     "execution_count": 8,
     "metadata": {},
     "output_type": "execute_result"
    }
   ],
   "source": [
    "# 50nM = strong binding\n",
    "# 500nM = weak binding\n",
    "dfbinders = df[df['nM']<50]\n",
    "dfbinders"
   ]
  },
  {
   "cell_type": "code",
   "execution_count": 5,
   "metadata": {},
   "outputs": [],
   "source": [
    "df = counter_to_df(count_kmers_proteome(human, 1), norm=True)\n",
    "df = df.set_index('seq')\n",
    "humanaaprobdict = np.log10(df['freq']).to_dict()\n",
    "\n",
    "df1 = counter_to_df(count_kmers_proteome(human, 2), norm=False)\n",
    "strcolumn_to_charcolumns(df1, 'seq')\n",
    "count = df1.pivot(columns='aa1', index='aa2')['count']\n",
    "count /= np.sum(count, axis=0)\n",
    "count[count.isna()] = 1e-10\n",
    "humandoubletprobdict = np.log10(count).to_dict()\n",
    "\n",
    "df2 = counter_to_df(count_kmers_proteome(human, 3), norm=False)\n",
    "df2['aa12'] = [s[:2] for s in df2['seq']]\n",
    "df2['aa3'] = [s[2] for s in df2['seq']]\n",
    "count = df2.pivot(columns='aa12', index='aa3')['count']\n",
    "count /= np.sum(count, axis=0)\n",
    "count[count.isna()] = 1e-10\n",
    "humantripletprobdict = np.log10(count).to_dict()"
   ]
  },
  {
   "cell_type": "code",
   "execution_count": 17,
   "metadata": {},
   "outputs": [
    {
     "name": "stdout",
     "output_type": "stream",
     "text": [
      "Malaria\n",
      "1261\n",
      "11207814 167749 74 390\n"
     ]
    },
    {
     "data": {
      "image/png": "[encoded data removed]",
      "text/plain": [
       "<Figure size 432x288 with 1 Axes>"
      ]
     },
     "metadata": {},
     "output_type": "display_data"
    }
   ],
   "source": [
    "dfproteomes = pd.read_csv('../data/proteomes.csv', sep=',')\n",
    "pathogenproteomes = dfproteomes[dfproteomes['type'].isin(['parasite'])]\n",
    "\n",
    "dfepitopes = pd.read_csv(datadir+'allhuman-iedb-epitopes.csv', header=1, usecols=(2, 9, 14))\n",
    "dfepitopes = dfepitopes.fillna('')\n",
    "dfepitopes['length'] = [len(d) for d in dfepitopes['Description']]\n",
    "\n",
    "loglikelihood = lambda seq, k: loglikelihood_triplet(seq, humanaaprobdict, humandoubletprobdict, humantripletprobdict, k=k)\n",
    "likelihoodname = 'triplet'\n",
    "\n",
    "#for k in [9, 15]:\n",
    "for k in [9]:\n",
    "    phuman = np.array([loglikelihood(seq[i:i+k], k) for h, seq in fasta_iter(human) for i in range(len(seq)-k+1) ])\n",
    "\n",
    "    for idx, row in pathogenproteomes.iterrows():\n",
    "        name = row['shortname']\n",
    "        iedbname = row['iedbname']\n",
    "        path = datadir + row['path']\n",
    "        print(name)\n",
    "\n",
    "        dfepitope = dfepitopes[dfepitopes['Parent Organism'].str.contains(iedbname)]\n",
    "        print(len(dfepitope))\n",
    "\n",
    "        epi = list(dfepitope[dfepitope['length']==k]['Description'])\n",
    "        #pepitope = np.array([loglikelihood(seq, k) for seq in epi])\n",
    "        #epi = list(dfepitope['Description'])\n",
    "        pepitope = np.array([loglikelihood(seq[i:i+k], k) for seq in epi for i in range(len(seq)-k+1)])\n",
    "        pepitope = pepitope[~np.isnan(pepitope)]\n",
    "        \n",
    "        ppredepitope = np.array([loglikelihood(seq, k) for seq in dfbinders['Peptide']])\n",
    "        ppredepitope = ppredepitope[~np.isnan(ppredepitope)]\n",
    "\n",
    "        ppathogen = np.array([loglikelihood(seq[i:i+k], k) for h, seq in fasta_iter(path) for i in range(len(seq)-k+1) ])\n",
    "        ppathogen = ppathogen[~np.isnan(ppathogen)]\n",
    "\n",
    "        print(len(phuman), len(ppathogen), len(pepitope), len(ppredepitope))\n",
    "\n",
    "        if len(pepitope) > 2:\n",
    "            fig, ax = plt.subplots()\n",
    "            plot_histograms([phuman, ppathogen, pepitope, ppredepitope], ['human', 'pathogen', 'epitope', 'mhc binding'], xmin=-14, xmax=-9, ax=ax)\n",
    "            ax.set_ylabel('frequency')\n",
    "            ax.set_xlabel('probability given human proteome statistics')\n",
    "            plt.title(name)\n",
    "            fig.tight_layout()\n",
    "            #fig.savefig('plots/likelihoodprofile-%s-%s-k%i.png' % (name, likelihoodname, k), dpi=300)"
   ]
  },
  {
   "cell_type": "code",
   "execution_count": 9,
   "metadata": {},
   "outputs": [
    {
     "data": {
      "text/plain": [
       "-14.479753794405092"
      ]
     },
     "execution_count": 9,
     "metadata": {},
     "output_type": "execute_result"
    }
   ],
   "source": [
    "np.min(ppredepitope)"
   ]
  },
  {
   "cell_type": "code",
   "execution_count": null,
   "metadata": {},
   "outputs": [],
   "source": []
  }
 ],
 "metadata": {
  "kernelspec": {
   "display_name": "Python 3",
   "language": "python",
   "name": "python3"
  },
  "language_info": {
   "codemirror_mode": {
    "name": "ipython",
    "version": 3
   },
   "file_extension": ".py",
   "mimetype": "text/x-python",
   "name": "python",
   "nbconvert_exporter": "python",
   "pygments_lexer": "ipython3",
   "version": "3.6.5"
  }
 },
 "nbformat": 4,
 "nbformat_minor": 2
}
