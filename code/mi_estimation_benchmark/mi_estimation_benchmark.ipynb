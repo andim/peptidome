{
 "cells": [
  {
   "cell_type": "code",
   "execution_count": 1,
   "metadata": {},
   "outputs": [],
   "source": [
    "import numpy as np\n",
    "import pandas as pd\n",
    "from scipy.stats import entropy\n",
    "import scipy.stats\n",
    "import sklearn.decomposition\n",
    "import sklearn.manifold\n",
    "import seaborn as sns\n",
    "import matplotlib.pyplot as plt\n",
    "%matplotlib inline\n",
    "\n",
    "import sys\n",
    "sys.path.append('..')\n",
    "from lib import *\n",
    "\n",
    "plt.style.use('../peptidome.mplstyle')"
   ]
  },
  {
   "cell_type": "code",
   "execution_count": 18,
   "metadata": {},
   "outputs": [],
   "source": [
    "seqs = [s for s in fasta_iter(human, returnheader=False)]"
   ]
  },
  {
   "cell_type": "code",
   "execution_count": 9,
   "metadata": {},
   "outputs": [],
   "source": [
    "entropyestimator = lambda x: entropy_grassberger(x, base=2)\n",
    "def calc_mi(df2):\n",
    "    entropy2 = entropyestimator(df2['count'])\n",
    "    df = strcolumn_to_charcolumns(df2, 'seq')\n",
    "    e1 = entropyestimator(df.groupby('aa1').agg(np.sum)['count'])\n",
    "    e2 = entropyestimator(df.groupby('aa2').agg(np.sum)['count'])\n",
    "    mi = e1 + e2 - entropy2\n",
    "    return mi"
   ]
  },
  {
   "cell_type": "code",
   "execution_count": 67,
   "metadata": {},
   "outputs": [],
   "source": [
    "def calc_mi_direct(df2):\n",
    "    \"with Treves-Panzeri correction\"\n",
    "    strcolumn_to_charcolumns(df2, 'seq')\n",
    "    df11 = df2.groupby('aa1').agg(np.sum)['count']\n",
    "    df11 /= np.sum(df11)\n",
    "    df12 = df2.groupby('aa2').agg(np.sum)['count']\n",
    "    df12 /= np.sum(df12)\n",
    "    df2['theory'] = [float(df11.loc[s[0]] * df12.loc[s[1]]) for s in df2['seq']]\n",
    "    df2['freq'] = df2['count']/np.sum(df2['count'])\n",
    "    mi = np.sum(df2['freq']*np.log2(df2['freq']/df2['theory']))\n",
    "    micorr = mi - (len(aminoacids)-1)**2/(2*np.log(2)*np.sum(df2['count']))\n",
    "    return mi, micorr"
   ]
  },
  {
   "cell_type": "code",
   "execution_count": 88,
   "metadata": {},
   "outputs": [],
   "source": [
    "mis1000direct = []\n",
    "for i in range(100):\n",
    "    df2 = Counter(random.sample(seqs, 1000), k=2, gap=0).to_df(norm=False, clean=True)\n",
    "    mis1000direct.append(calc_mi_direct(df2)[0])"
   ]
  },
  {
   "cell_type": "code",
   "execution_count": 89,
   "metadata": {},
   "outputs": [],
   "source": [
    "mis1000tp = []\n",
    "for i in range(100):\n",
    "    df2 = Counter(random.sample(seqs, 1000), k=2, gap=0).to_df(norm=False, clean=True)\n",
    "    mis1000tp.append(calc_mi_direct(df2)[1])"
   ]
  },
  {
   "cell_type": "code",
   "execution_count": 34,
   "metadata": {},
   "outputs": [],
   "source": [
    "mis1000 = []\n",
    "for i in range(100):\n",
    "    df2 = Counter(random.sample(seqs, 1000), k=2, gap=0).to_df(norm=False, clean=True)\n",
    "    mis1000.append(calc_mi(df2))"
   ]
  },
  {
   "cell_type": "code",
   "execution_count": 90,
   "metadata": {},
   "outputs": [],
   "source": [
    "mis10000 = []\n",
    "for i in range(100):\n",
    "    df2 = Counter(random.sample(seqs, 10000), k=2, gap=0).to_df(norm=False, clean=True)\n",
    "    mis10000.append(calc_mi(df2))"
   ]
  },
  {
   "cell_type": "code",
   "execution_count": 96,
   "metadata": {},
   "outputs": [],
   "source": [
    "mis10000tp = []\n",
    "for i in range(100):\n",
    "    df2 = Counter(random.sample(seqs, 10000), k=2, gap=0).to_df(norm=False, clean=True)\n",
    "    mis10000tp.append(calc_mi_direct(df2)[1])"
   ]
  },
  {
   "cell_type": "code",
   "execution_count": 97,
   "metadata": {},
   "outputs": [
    {
     "data": {
      "image/png": "[encoded data removed]",
      "text/plain": [
       "<Figure size 432x288 with 1 Axes>"
      ]
     },
     "metadata": {
      "needs_background": "light"
     },
     "output_type": "display_data"
    }
   ],
   "source": [
    "bins = np.linspace(0.012, 0.018, 40)\n",
    "histkwargs = dict(bins=bins, alpha=.5)\n",
    "plt.hist(mis1000direct, label='Direct 1000', **histkwargs)\n",
    "plt.hist(mis1000, label='Grassberger 1000', **histkwargs)\n",
    "plt.hist(mis1000tp, label='Treves-Panzeri 1000', **histkwargs)\n",
    "plt.hist(mis10000, label='Grassberger 10000', **histkwargs)\n",
    "plt.hist(mis10000tp, label='Treves-Panzeri 10000', **histkwargs)\n",
    "plt.legend()\n",
    "plt.xlabel('Mutual information in bit')\n",
    "plt.ylabel('Trials')\n",
    "plt.savefig('main.png')"
   ]
  },
  {
   "cell_type": "code",
   "execution_count": 105,
   "metadata": {},
   "outputs": [
    {
     "data": {
      "text/plain": [
       "(8.784540191731597e-05,\n",
       " 9.933132660407625e-05,\n",
       " 0.013923277224254078,\n",
       " 0.014171496114031523,\n",
       " 0.01459815707463865,\n",
       " 0.013819447714298033)"
      ]
     },
     "execution_count": 105,
     "metadata": {},
     "output_type": "execute_result"
    }
   ],
   "source": [
    "(np.var(mis10000tp)/2)**.5, (np.var(mis10000)/2)**.5, np.mean(mis1000tp), np.mean(mis1000), np.mean(mis1000direct), np.mean(mis10000tp)\n",
    "\n"
   ]
  },
  {
   "cell_type": "code",
   "execution_count": null,
   "metadata": {},
   "outputs": [],
   "source": []
  }
 ],
 "metadata": {
  "kernelspec": {
   "display_name": "Python 3",
   "language": "python",
   "name": "python3"
  },
  "language_info": {
   "codemirror_mode": {
    "name": "ipython",
    "version": 3
   },
   "file_extension": ".py",
   "mimetype": "text/x-python",
   "name": "python",
   "nbconvert_exporter": "python",
   "pygments_lexer": "ipython3",
   "version": "3.6.9"
  }
 },
 "nbformat": 4,
 "nbformat_minor": 2
}
