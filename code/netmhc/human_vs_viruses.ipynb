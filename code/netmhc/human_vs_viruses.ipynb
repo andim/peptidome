{
 "cells": [
  {
   "cell_type": "code",
   "execution_count": 1,
   "metadata": {},
   "outputs": [],
   "source": [
    "import glob, json\n",
    "import numpy as np\n",
    "import pandas as pd\n",
    "from scipy.stats import entropy\n",
    "import sklearn.decomposition\n",
    "import sklearn.manifold\n",
    "import seaborn as sns\n",
    "import matplotlib.pyplot as plt\n",
    "%matplotlib inline\n",
    "\n",
    "import sys\n",
    "sys.path.append('..')\n",
    "\n",
    "from lib import *"
   ]
  },
  {
   "cell_type": "code",
   "execution_count": 2,
   "metadata": {},
   "outputs": [],
   "source": [
    "proteome = 'Humanviruses'\n",
    "k = 9\n",
    "all_data = {}\n",
    "for i, model in enumerate(['independent', 'ncov', 'nskew', 'nskewfcov']):\n",
    "\n",
    "    arr = np.load('../classifier/data/{proteome}_{model}_k{k}_likelihoods.npz'.format(proteome=proteome,\n",
    "                                                                                      model=model, k=k))\n",
    "    df = pd.read_csv('../maxent/data/{proteome}_{model}_k{k}_dkl.csv'.format(proteome=proteome,\n",
    "                                                                             model=model, k=k),\n",
    "                     index_col=0, squeeze=True)\n",
    "    dkl = df.loc['DKL']\n",
    "    data = {}\n",
    "\n",
    "    logp_hh, logp_pp, logp_hp, logp_ph = arr['logp_hh'], arr['logp_pp'], arr['logp_hp'], arr['logp_ph']\n",
    "    data['logp_hh'], data['logp_pp'], data['logp_hp'], data['logp_ph'] = logp_hh, logp_pp, logp_hp, logp_ph\n",
    "\n",
    "    positive = logp_pp-logp_ph\n",
    "    negative = logp_hp-logp_hh\n",
    "    data['positive'] = np.sort(positive)*np.log10(np.exp(1))\n",
    "    data['negative'] = np.sort(negative)*np.log10(np.exp(1))\n",
    "    data['dkl'] = dkl\n",
    "    \n",
    "    all_data[model] = data"
   ]
  },
  {
   "cell_type": "code",
   "execution_count": 3,
   "metadata": {},
   "outputs": [],
   "source": [
    "human_kmers = load_matrix('../maxent/data/Human_test_k{k}_matrix.csv.gz'.format(k=k))\n",
    "pathogen_kmers = load_matrix('../maxent/data/{proteome}_test_k{k}_matrix.csv.gz'.format(proteome=proteome, k=k))"
   ]
  },
  {
   "cell_type": "code",
   "execution_count": 4,
   "metadata": {},
   "outputs": [],
   "source": [
    "human_kmers_str = matrix_to_kmers(human_kmers)"
   ]
  },
  {
   "cell_type": "code",
   "execution_count": 5,
   "metadata": {},
   "outputs": [],
   "source": [
    "pathogen_kmers_str = matrix_to_kmers(pathogen_kmers)"
   ]
  },
  {
   "cell_type": "code",
   "execution_count": 6,
   "metadata": {},
   "outputs": [],
   "source": [
    "with open('data/human.txt', 'w') as f:\n",
    "    for item in human_kmers_str[:10000]:\n",
    "        f.write(\"%s\\n\" % item)"
   ]
  },
  {
   "cell_type": "code",
   "execution_count": 7,
   "metadata": {},
   "outputs": [],
   "source": [
    "with open('data/pathogen.txt', 'w') as f:\n",
    "    for item in pathogen_kmers_str[:10000]:\n",
    "        f.write(\"%s\\n\" % item)"
   ]
  },
  {
   "cell_type": "code",
   "execution_count": 8,
   "metadata": {},
   "outputs": [],
   "source": [
    "from lib.netmhcrunutils import run_netMHC"
   ]
  },
  {
   "cell_type": "code",
   "execution_count": 9,
   "metadata": {},
   "outputs": [
    {
     "data": {
      "text/plain": [
       "0     HLA-A0101\n",
       "1     HLA-A0201\n",
       "2     HLA-A0202\n",
       "3     HLA-A0203\n",
       "4     HLA-A0205\n",
       "        ...    \n",
       "76    HLA-C0802\n",
       "77    HLA-C1203\n",
       "78    HLA-C1402\n",
       "79    HLA-C1502\n",
       "80    HLA-E0101\n",
       "Name: name, Length: 81, dtype: object"
      ]
     },
     "execution_count": 9,
     "metadata": {},
     "output_type": "execute_result"
    }
   ],
   "source": [
    "dfhla = pd.read_csv(datadir+'hlas.csv', sep='\\t', skiprows=1)\n",
    "dfhla['name']"
   ]
  },
  {
   "cell_type": "code",
   "execution_count": 10,
   "metadata": {},
   "outputs": [],
   "source": [
    "for hla in dfhla['name']:\n",
    "    run_netMHC('data/human.txt', 'data/human', hla, binder_only=False)"
   ]
  },
  {
   "cell_type": "code",
   "execution_count": 11,
   "metadata": {},
   "outputs": [],
   "source": [
    "for hla in dfhla['name']:\n",
    "    run_netMHC('data/pathogen.txt', 'data/pathogen', hla, binder_only=False)"
   ]
  },
  {
   "cell_type": "code",
   "execution_count": 12,
   "metadata": {},
   "outputs": [],
   "source": [
    "proteome = 'Humanviruses'\n",
    "model = 'nskewfcov'\n",
    "arr = np.load('../classifier/data/{proteome}_{model}_k{k}_likelihoods.npz'.format(proteome=proteome,\n",
    "                                                                                      model=model, k=k))\n",
    "prob_ratio_pathogen = (arr['logp_pp'] - arr['logp_ph'])[:10000]\n",
    "prob_ratio_human = (arr['logp_hp'] - arr['logp_hh'])[:10000]\n",
    "prob_pathogen = arr['logp_pp'][:10000]\n",
    "prob_human = arr['logp_hh'][:10000]"
   ]
  },
  {
   "cell_type": "code",
   "execution_count": 13,
   "metadata": {},
   "outputs": [],
   "source": [
    "proteome = 'pathogen'\n",
    "correlations_pathogen = []\n",
    "correlations_pathogen_ratio = []\n",
    "for hla in dfhla['name']:\n",
    "    df = pd.read_csv('data/{proteome}-{hla}.csv'.format(proteome=proteome, hla=hla), sep='\\t', skiprows=1)\n",
    "    corr, pval = scipy.stats.spearmanr(prob_pathogen, np.array(df['nM']))\n",
    "    correlations_pathogen.append(corr)\n",
    "    corr, pval = scipy.stats.spearmanr(prob_ratio_pathogen, np.array(df['nM']))\n",
    "    correlations_pathogen_ratio.append(corr)"
   ]
  },
  {
   "cell_type": "code",
   "execution_count": 14,
   "metadata": {},
   "outputs": [],
   "source": [
    "proteome = 'human'\n",
    "correlations_human = []\n",
    "correlations_human_ratio = []\n",
    "for hla in dfhla['name']:\n",
    "    df = pd.read_csv('data/{proteome}-{hla}.csv'.format(proteome=proteome, hla=hla), sep='\\t', skiprows=1)\n",
    "    corr, pval = scipy.stats.spearmanr(prob_human, np.array(df['nM']))\n",
    "    correlations_human.append(corr)\n",
    "    corr, pval = scipy.stats.spearmanr(prob_ratio_human, np.array(df['nM']))\n",
    "    correlations_human_ratio.append(corr)"
   ]
  },
  {
   "cell_type": "code",
   "execution_count": 20,
   "metadata": {},
   "outputs": [
    {
     "data": {
      "image/png": "[encoded data removed]",
      "text/plain": [
       "<Figure size 432x288 with 4 Axes>"
      ]
     },
     "metadata": {
      "needs_background": "light"
     },
     "output_type": "display_data"
    }
   ],
   "source": [
    "fig, axes = plt.subplots(nrows=2, ncols=2, sharex=True, sharey=True)\n",
    "bins = np.linspace(-0.4, 0.4, 20)\n",
    "axes[0, 0].hist(correlations_pathogen, bins=bins)\n",
    "axes[0, 0].set_ylabel('Pathogen')\n",
    "axes[0, 0].set_title('Likelihood')\n",
    "axes[0, 1].hist(correlations_pathogen_ratio, bins=bins)\n",
    "axes[0, 1].set_title('Likelihood ratio')\n",
    "axes[1, 0].hist(correlations_human, bins=bins)\n",
    "axes[1, 0].set_ylabel('Human')\n",
    "axes[1, 1].hist(correlations_human_ratio, bins=bins)\n",
    "axes[0, 0].set_xlim(min(bins), max(bins))\n",
    "axes[1, 0].set_xlabel('rank correlation with affinity')\n",
    "axes[1, 1].set_xlabel('rank correlation with affinity')\n",
    "fig.savefig('netmhc_correlations.pdf')"
   ]
  },
  {
   "cell_type": "code",
   "execution_count": 17,
   "metadata": {},
   "outputs": [
    {
     "data": {
      "text/plain": [
       "<AxesSubplot:>"
      ]
     },
     "execution_count": 17,
     "metadata": {},
     "output_type": "execute_result"
    },
    {
     "data": {
      "image/png": "[encoded data removed]",
      "text/plain": [
       "<Figure size 432x288 with 1 Axes>"
      ]
     },
     "metadata": {
      "needs_background": "light"
     },
     "output_type": "display_data"
    }
   ],
   "source": [
    "fig, ax = plt.subplots()\n",
    "plot_histograms([prob_ratio_human, prob_ratio_pathogen],\n",
    "                ['human', 'pathogen'],\n",
    "                nbins=50, lw=2,\n",
    "                xmin=-2, xmax=2, ax=ax, step=False)"
   ]
  },
  {
   "cell_type": "code",
   "execution_count": null,
   "metadata": {},
   "outputs": [],
   "source": [
    "background = np.mean(prob_ratio) - np.mean(prob_ratio_human)"
   ]
  },
  {
   "cell_type": "code",
   "execution_count": null,
   "metadata": {},
   "outputs": [],
   "source": [
    "dkls = []\n",
    "ratios = []\n",
    "for hla in dfhla['name']:\n",
    "    dfs = {}\n",
    "    for proteome in ['human', 'pathogen']:\n",
    "        df = pd.read_csv('data/{proteome}-{hla}.csv'.format(proteome=proteome, hla=hla), sep='\\t', skiprows=1)\n",
    "        dfs[proteome] = df\n",
    "    ratio = np.sum(dfs['pathogen']['Rank'] < 10)/np.sum(dfs['human']['Rank'] < 10)\n",
    "    ratios.append(ratio)\n",
    "    dkl = np.mean(prob_ratio[dfs['pathogen']['Rank'] < 1]) - np.mean(prob_ratio_human[dfs['human']['Rank'] < 1])\n",
    "    dkls.append(dkl)\n",
    "    #print(hla, dkl, dp)"
   ]
  },
  {
   "cell_type": "code",
   "execution_count": null,
   "metadata": {},
   "outputs": [],
   "source": [
    "plt.hist(dkls)\n",
    "plt.axvline(background, color='k');"
   ]
  },
  {
   "cell_type": "code",
   "execution_count": null,
   "metadata": {},
   "outputs": [],
   "source": [
    "plt.hist(np.log2(ratios))\n",
    "top_ratio = all_data['nskewfcov']['positive']\n",
    "top_ratio = np.mean(neg_ratio[-int(0.1*len(neg_ratio)):])/np.log(2)\n",
    "plt.axvline(top_ratio)"
   ]
  },
  {
   "cell_type": "code",
   "execution_count": null,
   "metadata": {},
   "outputs": [],
   "source": [
    "proteome = 'Humanviruses'\n",
    "data = {}\n",
    "for model in ['independent', 'nskewfcov']:\n",
    "    arr = np.load('../classifier/data/{proteome}_{model}_k{k}_likelihoods.npz'.format(proteome=proteome,\n",
    "                                                                                      model=model, k=k))\n",
    "    data[model] = arr['logp_hh']"
   ]
  },
  {
   "cell_type": "code",
   "execution_count": null,
   "metadata": {},
   "outputs": [],
   "source": [
    "density_scatter(data['independent'], data['nskewfcov'])"
   ]
  },
  {
   "cell_type": "code",
   "execution_count": null,
   "metadata": {},
   "outputs": [],
   "source": [
    "scipy.stats.spearmanr(data['independent'], data['nskewfcov'])"
   ]
  },
  {
   "cell_type": "code",
   "execution_count": null,
   "metadata": {},
   "outputs": [],
   "source": []
  }
 ],
 "metadata": {
  "kernelspec": {
   "display_name": "Python 3",
   "language": "python",
   "name": "python3"
  },
  "language_info": {
   "codemirror_mode": {
    "name": "ipython",
    "version": 3
   },
   "file_extension": ".py",
   "mimetype": "text/x-python",
   "name": "python",
   "nbconvert_exporter": "python",
   "pygments_lexer": "ipython3",
   "version": "3.8.5"
  }
 },
 "nbformat": 4,
 "nbformat_minor": 4
}
