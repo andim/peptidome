{
 "cells": [
  {
   "cell_type": "code",
   "execution_count": 1,
   "metadata": {},
   "outputs": [
    {
     "name": "stderr",
     "output_type": "stream",
     "text": [
      "/media/andreas/data/repos/peptidome/code/netmhc/../lib/main.py:419: NumbaDeprecationWarning: \u001b[1mThe 'nopython' keyword argument was not supplied to the 'numba.jit' decorator. The implicit default value for this argument is currently False, but it will be changed to True in Numba 0.59.0. See https://numba.readthedocs.io/en/stable/reference/deprecation.html#deprecation-of-object-mode-fall-back-behaviour-when-using-jit for details.\u001b[0m\n",
      "  def mcmcsampler(x0, energy, jump, nsteps=1000, nburnin=0, nsample=1):\n"
     ]
    }
   ],
   "source": [
    "import glob, json\n",
    "import numpy as np\n",
    "import pandas as pd\n",
    "from scipy.stats import entropy\n",
    "import sklearn.decomposition\n",
    "import sklearn.manifold\n",
    "import seaborn as sns\n",
    "import matplotlib.pyplot as plt\n",
    "%matplotlib inline\n",
    "\n",
    "import sys\n",
    "sys.path.append('..')\n",
    "\n",
    "from lib import *\n",
    "from pathlib import Path\n",
    "plt.style.use(Path('../peptidome.mplstyle'))"
   ]
  },
  {
   "cell_type": "code",
   "execution_count": 2,
   "metadata": {},
   "outputs": [],
   "source": [
    "datadir_maxent = '/home/andreas/drop/data/peptidome/maxent/'"
   ]
  },
  {
   "cell_type": "code",
   "execution_count": 3,
   "metadata": {},
   "outputs": [
    {
     "ename": "FileNotFoundError",
     "evalue": "[Errno 2] No such file or directory: '../classifier/data/Humanviruses_independent_k9_likelihoods.npz'",
     "output_type": "error",
     "traceback": [
      "\u001b[0;31m---------------------------------------------------------------------------\u001b[0m",
      "\u001b[0;31mFileNotFoundError\u001b[0m                         Traceback (most recent call last)",
      "Cell \u001b[0;32mIn[3], line 6\u001b[0m\n\u001b[1;32m      3\u001b[0m all_data \u001b[38;5;241m=\u001b[39m {}\n\u001b[1;32m      4\u001b[0m \u001b[38;5;28;01mfor\u001b[39;00m i, model \u001b[38;5;129;01min\u001b[39;00m \u001b[38;5;28menumerate\u001b[39m([\u001b[38;5;124m'\u001b[39m\u001b[38;5;124mindependent\u001b[39m\u001b[38;5;124m'\u001b[39m, \u001b[38;5;124m'\u001b[39m\u001b[38;5;124mncov\u001b[39m\u001b[38;5;124m'\u001b[39m, \u001b[38;5;124m'\u001b[39m\u001b[38;5;124mnskew\u001b[39m\u001b[38;5;124m'\u001b[39m, \u001b[38;5;124m'\u001b[39m\u001b[38;5;124mnskewfcov\u001b[39m\u001b[38;5;124m'\u001b[39m]):\n\u001b[0;32m----> 6\u001b[0m     arr \u001b[38;5;241m=\u001b[39m \u001b[43mnp\u001b[49m\u001b[38;5;241;43m.\u001b[39;49m\u001b[43mload\u001b[49m\u001b[43m(\u001b[49m\u001b[38;5;124;43m'\u001b[39;49m\u001b[38;5;124;43m../classifier/data/\u001b[39;49m\u001b[38;5;132;43;01m{proteome}\u001b[39;49;00m\u001b[38;5;124;43m_\u001b[39;49m\u001b[38;5;132;43;01m{model}\u001b[39;49;00m\u001b[38;5;124;43m_k\u001b[39;49m\u001b[38;5;132;43;01m{k}\u001b[39;49;00m\u001b[38;5;124;43m_likelihoods.npz\u001b[39;49m\u001b[38;5;124;43m'\u001b[39;49m\u001b[38;5;241;43m.\u001b[39;49m\u001b[43mformat\u001b[49m\u001b[43m(\u001b[49m\u001b[43mproteome\u001b[49m\u001b[38;5;241;43m=\u001b[39;49m\u001b[43mproteome\u001b[49m\u001b[43m,\u001b[49m\n\u001b[1;32m      7\u001b[0m \u001b[43m                                                                                      \u001b[49m\u001b[43mmodel\u001b[49m\u001b[38;5;241;43m=\u001b[39;49m\u001b[43mmodel\u001b[49m\u001b[43m,\u001b[49m\u001b[43m \u001b[49m\u001b[43mk\u001b[49m\u001b[38;5;241;43m=\u001b[39;49m\u001b[43mk\u001b[49m\u001b[43m)\u001b[49m\u001b[43m)\u001b[49m\n\u001b[1;32m      8\u001b[0m     df \u001b[38;5;241m=\u001b[39m pd\u001b[38;5;241m.\u001b[39mread_csv(datadir\u001b[38;5;241m+\u001b[39m\u001b[38;5;124m'\u001b[39m\u001b[38;5;124mmaxent/data/\u001b[39m\u001b[38;5;132;01m{proteome}\u001b[39;00m\u001b[38;5;124m_\u001b[39m\u001b[38;5;132;01m{model}\u001b[39;00m\u001b[38;5;124m_k\u001b[39m\u001b[38;5;132;01m{k}\u001b[39;00m\u001b[38;5;124m_dkl.csv\u001b[39m\u001b[38;5;124m'\u001b[39m\u001b[38;5;241m.\u001b[39mformat(proteome\u001b[38;5;241m=\u001b[39mproteome,\n\u001b[1;32m      9\u001b[0m                                                                              model\u001b[38;5;241m=\u001b[39mmodel, k\u001b[38;5;241m=\u001b[39mk),\n\u001b[1;32m     10\u001b[0m                      index_col\u001b[38;5;241m=\u001b[39m\u001b[38;5;241m0\u001b[39m, squeeze\u001b[38;5;241m=\u001b[39m\u001b[38;5;28;01mTrue\u001b[39;00m)\n\u001b[1;32m     11\u001b[0m     dkl \u001b[38;5;241m=\u001b[39m df\u001b[38;5;241m.\u001b[39mloc[\u001b[38;5;124m'\u001b[39m\u001b[38;5;124mDKL\u001b[39m\u001b[38;5;124m'\u001b[39m]\n",
      "File \u001b[0;32m~/mambaforge/lib/python3.10/site-packages/numpy/lib/npyio.py:405\u001b[0m, in \u001b[0;36mload\u001b[0;34m(file, mmap_mode, allow_pickle, fix_imports, encoding, max_header_size)\u001b[0m\n\u001b[1;32m    403\u001b[0m     own_fid \u001b[38;5;241m=\u001b[39m \u001b[38;5;28;01mFalse\u001b[39;00m\n\u001b[1;32m    404\u001b[0m \u001b[38;5;28;01melse\u001b[39;00m:\n\u001b[0;32m--> 405\u001b[0m     fid \u001b[38;5;241m=\u001b[39m stack\u001b[38;5;241m.\u001b[39menter_context(\u001b[38;5;28;43mopen\u001b[39;49m\u001b[43m(\u001b[49m\u001b[43mos_fspath\u001b[49m\u001b[43m(\u001b[49m\u001b[43mfile\u001b[49m\u001b[43m)\u001b[49m\u001b[43m,\u001b[49m\u001b[43m \u001b[49m\u001b[38;5;124;43m\"\u001b[39;49m\u001b[38;5;124;43mrb\u001b[39;49m\u001b[38;5;124;43m\"\u001b[39;49m\u001b[43m)\u001b[49m)\n\u001b[1;32m    406\u001b[0m     own_fid \u001b[38;5;241m=\u001b[39m \u001b[38;5;28;01mTrue\u001b[39;00m\n\u001b[1;32m    408\u001b[0m \u001b[38;5;66;03m# Code to distinguish from NumPy binary files and pickles.\u001b[39;00m\n",
      "\u001b[0;31mFileNotFoundError\u001b[0m: [Errno 2] No such file or directory: '../classifier/data/Humanviruses_independent_k9_likelihoods.npz'"
     ]
    }
   ],
   "source": [
    "proteome = 'Humanviruses'\n",
    "k = 9\n",
    "all_data = {}\n",
    "for i, model in enumerate(['independent', 'ncov', 'nskew', 'nskewfcov']):\n",
    "\n",
    "    arr = np.load('../classifier/data/{proteome}_{model}_k{k}_likelihoods.npz'.format(proteome=proteome,\n",
    "                                                                                      model=model, k=k))\n",
    "    df = pd.read_csv(datadir+'maxent/data/{proteome}_{model}_k{k}_dkl.csv'.format(proteome=proteome,\n",
    "                                                                             model=model, k=k),\n",
    "                     index_col=0, squeeze=True)\n",
    "    dkl = df.loc['DKL']\n",
    "    data = {}\n",
    "\n",
    "    logp_hh, logp_pp, logp_hp, logp_ph = arr['logp_hh'], arr['logp_pp'], arr['logp_hp'], arr['logp_ph']\n",
    "    data['logp_hh'], data['logp_pp'], data['logp_hp'], data['logp_ph'] = logp_hh, logp_pp, logp_hp, logp_ph\n",
    "\n",
    "    positive = logp_pp-logp_ph\n",
    "    negative = logp_hp-logp_hh\n",
    "    data['positive'] = np.sort(positive)*np.log10(np.exp(1))\n",
    "    data['negative'] = np.sort(negative)*np.log10(np.exp(1))\n",
    "    data['dkl'] = dkl\n",
    "    \n",
    "    all_data[model] = data"
   ]
  },
  {
   "cell_type": "code",
   "execution_count": 4,
   "metadata": {},
   "outputs": [],
   "source": [
    "human_kmers = load_matrix(datadir_maxent+'Human_test_k{k}_matrix.csv.gz'.format(k=k))\n",
    "pathogen_kmers = load_matrix(datadir_maxent+'{proteome}_test_k{k}_matrix.csv.gz'.format(proteome=proteome, k=k))"
   ]
  },
  {
   "cell_type": "code",
   "execution_count": 5,
   "metadata": {},
   "outputs": [],
   "source": [
    "human_kmers_str = matrix_to_kmers(human_kmers)"
   ]
  },
  {
   "cell_type": "code",
   "execution_count": 6,
   "metadata": {},
   "outputs": [],
   "source": [
    "pathogen_kmers_str = matrix_to_kmers(pathogen_kmers)"
   ]
  },
  {
   "cell_type": "code",
   "execution_count": 7,
   "metadata": {},
   "outputs": [],
   "source": [
    "with open('data/human.txt', 'w') as f:\n",
    "    for item in human_kmers_str[:100000]:\n",
    "        f.write(\"%s\\n\" % item)"
   ]
  },
  {
   "cell_type": "code",
   "execution_count": 8,
   "metadata": {},
   "outputs": [],
   "source": [
    "with open('data/pathogen.txt', 'w') as f:\n",
    "    for item in pathogen_kmers_str[:100000]:\n",
    "        f.write(\"%s\\n\" % item)"
   ]
  },
  {
   "cell_type": "code",
   "execution_count": 9,
   "metadata": {},
   "outputs": [],
   "source": [
    "from lib.netmhcrunutils import run_netMHC"
   ]
  },
  {
   "cell_type": "code",
   "execution_count": 10,
   "metadata": {},
   "outputs": [],
   "source": [
    "dfhla = pd.read_csv(datadir+'hlas.csv', sep='\\t', skiprows=1)\n",
    "hlas = dfhla['name']\n",
    "#hlas = ['HLA-A0202']"
   ]
  },
  {
   "cell_type": "code",
   "execution_count": 11,
   "metadata": {},
   "outputs": [
    {
     "name": "stdout",
     "output_type": "stream",
     "text": [
      "/media/andreas/data/repos/peptidome/dependencies/netMHC-4.0/netMHC -f /media/andreas/data/repos/peptidome/code/netmhc/data/human.txt -xls -xlsfile /media/andreas/data/repos/peptidome/code/netmhc/data/human-HLA-A2602.csv -a HLA-A2602\n",
      "/media/andreas/data/repos/peptidome/dependencies/netMHC-4.0/netMHC -f /media/andreas/data/repos/peptidome/code/netmhc/data/human.txt -xls -xlsfile /media/andreas/data/repos/peptidome/code/netmhc/data/human-HLA-A2603.csv -a HLA-A2603\n",
      "/media/andreas/data/repos/peptidome/dependencies/netMHC-4.0/netMHC -f /media/andreas/data/repos/peptidome/code/netmhc/data/human.txt -xls -xlsfile /media/andreas/data/repos/peptidome/code/netmhc/data/human-HLA-A2902.csv -a HLA-A2902\n",
      "/media/andreas/data/repos/peptidome/dependencies/netMHC-4.0/netMHC -f /media/andreas/data/repos/peptidome/code/netmhc/data/human.txt -xls -xlsfile /media/andreas/data/repos/peptidome/code/netmhc/data/human-HLA-A3001.csv -a HLA-A3001\n",
      "/media/andreas/data/repos/peptidome/dependencies/netMHC-4.0/netMHC -f /media/andreas/data/repos/peptidome/code/netmhc/data/human.txt -xls -xlsfile /media/andreas/data/repos/peptidome/code/netmhc/data/human-HLA-A3002.csv -a HLA-A3002\n",
      "/media/andreas/data/repos/peptidome/dependencies/netMHC-4.0/netMHC -f /media/andreas/data/repos/peptidome/code/netmhc/data/human.txt -xls -xlsfile /media/andreas/data/repos/peptidome/code/netmhc/data/human-HLA-A3101.csv -a HLA-A3101\n",
      "/media/andreas/data/repos/peptidome/dependencies/netMHC-4.0/netMHC -f /media/andreas/data/repos/peptidome/code/netmhc/data/human.txt -xls -xlsfile /media/andreas/data/repos/peptidome/code/netmhc/data/human-HLA-A3201.csv -a HLA-A3201\n",
      "/media/andreas/data/repos/peptidome/dependencies/netMHC-4.0/netMHC -f /media/andreas/data/repos/peptidome/code/netmhc/data/human.txt -xls -xlsfile /media/andreas/data/repos/peptidome/code/netmhc/data/human-HLA-A3207.csv -a HLA-A3207\n",
      "/media/andreas/data/repos/peptidome/dependencies/netMHC-4.0/netMHC -f /media/andreas/data/repos/peptidome/code/netmhc/data/human.txt -xls -xlsfile /media/andreas/data/repos/peptidome/code/netmhc/data/human-HLA-A3215.csv -a HLA-A3215\n",
      "/media/andreas/data/repos/peptidome/dependencies/netMHC-4.0/netMHC -f /media/andreas/data/repos/peptidome/code/netmhc/data/human.txt -xls -xlsfile /media/andreas/data/repos/peptidome/code/netmhc/data/human-HLA-A3301.csv -a HLA-A3301\n",
      "/media/andreas/data/repos/peptidome/dependencies/netMHC-4.0/netMHC -f /media/andreas/data/repos/peptidome/code/netmhc/data/human.txt -xls -xlsfile /media/andreas/data/repos/peptidome/code/netmhc/data/human-HLA-A6601.csv -a HLA-A6601\n",
      "/media/andreas/data/repos/peptidome/dependencies/netMHC-4.0/netMHC -f /media/andreas/data/repos/peptidome/code/netmhc/data/human.txt -xls -xlsfile /media/andreas/data/repos/peptidome/code/netmhc/data/human-HLA-A6801.csv -a HLA-A6801\n",
      "/media/andreas/data/repos/peptidome/dependencies/netMHC-4.0/netMHC -f /media/andreas/data/repos/peptidome/code/netmhc/data/human.txt -xls -xlsfile /media/andreas/data/repos/peptidome/code/netmhc/data/human-HLA-A6802.csv -a HLA-A6802\n",
      "/media/andreas/data/repos/peptidome/dependencies/netMHC-4.0/netMHC -f /media/andreas/data/repos/peptidome/code/netmhc/data/human.txt -xls -xlsfile /media/andreas/data/repos/peptidome/code/netmhc/data/human-HLA-A6823.csv -a HLA-A6823\n",
      "/media/andreas/data/repos/peptidome/dependencies/netMHC-4.0/netMHC -f /media/andreas/data/repos/peptidome/code/netmhc/data/human.txt -xls -xlsfile /media/andreas/data/repos/peptidome/code/netmhc/data/human-HLA-A6901.csv -a HLA-A6901\n",
      "/media/andreas/data/repos/peptidome/dependencies/netMHC-4.0/netMHC -f /media/andreas/data/repos/peptidome/code/netmhc/data/human.txt -xls -xlsfile /media/andreas/data/repos/peptidome/code/netmhc/data/human-HLA-A8001.csv -a HLA-A8001\n",
      "/media/andreas/data/repos/peptidome/dependencies/netMHC-4.0/netMHC -f /media/andreas/data/repos/peptidome/code/netmhc/data/human.txt -xls -xlsfile /media/andreas/data/repos/peptidome/code/netmhc/data/human-HLA-B0702.csv -a HLA-B0702\n",
      "/media/andreas/data/repos/peptidome/dependencies/netMHC-4.0/netMHC -f /media/andreas/data/repos/peptidome/code/netmhc/data/human.txt -xls -xlsfile /media/andreas/data/repos/peptidome/code/netmhc/data/human-HLA-B0801.csv -a HLA-B0801\n",
      "/media/andreas/data/repos/peptidome/dependencies/netMHC-4.0/netMHC -f /media/andreas/data/repos/peptidome/code/netmhc/data/human.txt -xls -xlsfile /media/andreas/data/repos/peptidome/code/netmhc/data/human-HLA-B0802.csv -a HLA-B0802\n",
      "/media/andreas/data/repos/peptidome/dependencies/netMHC-4.0/netMHC -f /media/andreas/data/repos/peptidome/code/netmhc/data/human.txt -xls -xlsfile /media/andreas/data/repos/peptidome/code/netmhc/data/human-HLA-B0803.csv -a HLA-B0803\n",
      "/media/andreas/data/repos/peptidome/dependencies/netMHC-4.0/netMHC -f /media/andreas/data/repos/peptidome/code/netmhc/data/human.txt -xls -xlsfile /media/andreas/data/repos/peptidome/code/netmhc/data/human-HLA-B1402.csv -a HLA-B1402\n",
      "/media/andreas/data/repos/peptidome/dependencies/netMHC-4.0/netMHC -f /media/andreas/data/repos/peptidome/code/netmhc/data/human.txt -xls -xlsfile /media/andreas/data/repos/peptidome/code/netmhc/data/human-HLA-B1501.csv -a HLA-B1501\n",
      "/media/andreas/data/repos/peptidome/dependencies/netMHC-4.0/netMHC -f /media/andreas/data/repos/peptidome/code/netmhc/data/human.txt -xls -xlsfile /media/andreas/data/repos/peptidome/code/netmhc/data/human-HLA-B1502.csv -a HLA-B1502\n",
      "/media/andreas/data/repos/peptidome/dependencies/netMHC-4.0/netMHC -f /media/andreas/data/repos/peptidome/code/netmhc/data/human.txt -xls -xlsfile /media/andreas/data/repos/peptidome/code/netmhc/data/human-HLA-B1503.csv -a HLA-B1503\n",
      "/media/andreas/data/repos/peptidome/dependencies/netMHC-4.0/netMHC -f /media/andreas/data/repos/peptidome/code/netmhc/data/human.txt -xls -xlsfile /media/andreas/data/repos/peptidome/code/netmhc/data/human-HLA-B1509.csv -a HLA-B1509\n",
      "/media/andreas/data/repos/peptidome/dependencies/netMHC-4.0/netMHC -f /media/andreas/data/repos/peptidome/code/netmhc/data/human.txt -xls -xlsfile /media/andreas/data/repos/peptidome/code/netmhc/data/human-HLA-B1517.csv -a HLA-B1517\n",
      "/media/andreas/data/repos/peptidome/dependencies/netMHC-4.0/netMHC -f /media/andreas/data/repos/peptidome/code/netmhc/data/human.txt -xls -xlsfile /media/andreas/data/repos/peptidome/code/netmhc/data/human-HLA-B1801.csv -a HLA-B1801\n",
      "/media/andreas/data/repos/peptidome/dependencies/netMHC-4.0/netMHC -f /media/andreas/data/repos/peptidome/code/netmhc/data/human.txt -xls -xlsfile /media/andreas/data/repos/peptidome/code/netmhc/data/human-HLA-B2705.csv -a HLA-B2705\n",
      "/media/andreas/data/repos/peptidome/dependencies/netMHC-4.0/netMHC -f /media/andreas/data/repos/peptidome/code/netmhc/data/human.txt -xls -xlsfile /media/andreas/data/repos/peptidome/code/netmhc/data/human-HLA-B2720.csv -a HLA-B2720\n",
      "/media/andreas/data/repos/peptidome/dependencies/netMHC-4.0/netMHC -f /media/andreas/data/repos/peptidome/code/netmhc/data/human.txt -xls -xlsfile /media/andreas/data/repos/peptidome/code/netmhc/data/human-HLA-B3501.csv -a HLA-B3501\n",
      "/media/andreas/data/repos/peptidome/dependencies/netMHC-4.0/netMHC -f /media/andreas/data/repos/peptidome/code/netmhc/data/human.txt -xls -xlsfile /media/andreas/data/repos/peptidome/code/netmhc/data/human-HLA-B3503.csv -a HLA-B3503\n",
      "/media/andreas/data/repos/peptidome/dependencies/netMHC-4.0/netMHC -f /media/andreas/data/repos/peptidome/code/netmhc/data/human.txt -xls -xlsfile /media/andreas/data/repos/peptidome/code/netmhc/data/human-HLA-B3801.csv -a HLA-B3801\n",
      "/media/andreas/data/repos/peptidome/dependencies/netMHC-4.0/netMHC -f /media/andreas/data/repos/peptidome/code/netmhc/data/human.txt -xls -xlsfile /media/andreas/data/repos/peptidome/code/netmhc/data/human-HLA-B3901.csv -a HLA-B3901\n",
      "/media/andreas/data/repos/peptidome/dependencies/netMHC-4.0/netMHC -f /media/andreas/data/repos/peptidome/code/netmhc/data/human.txt -xls -xlsfile /media/andreas/data/repos/peptidome/code/netmhc/data/human-HLA-B4001.csv -a HLA-B4001\n",
      "/media/andreas/data/repos/peptidome/dependencies/netMHC-4.0/netMHC -f /media/andreas/data/repos/peptidome/code/netmhc/data/human.txt -xls -xlsfile /media/andreas/data/repos/peptidome/code/netmhc/data/human-HLA-B4002.csv -a HLA-B4002\n",
      "/media/andreas/data/repos/peptidome/dependencies/netMHC-4.0/netMHC -f /media/andreas/data/repos/peptidome/code/netmhc/data/human.txt -xls -xlsfile /media/andreas/data/repos/peptidome/code/netmhc/data/human-HLA-B4013.csv -a HLA-B4013\n"
     ]
    },
    {
     "name": "stdout",
     "output_type": "stream",
     "text": [
      "/media/andreas/data/repos/peptidome/dependencies/netMHC-4.0/netMHC -f /media/andreas/data/repos/peptidome/code/netmhc/data/human.txt -xls -xlsfile /media/andreas/data/repos/peptidome/code/netmhc/data/human-HLA-B4201.csv -a HLA-B4201\n",
      "/media/andreas/data/repos/peptidome/dependencies/netMHC-4.0/netMHC -f /media/andreas/data/repos/peptidome/code/netmhc/data/human.txt -xls -xlsfile /media/andreas/data/repos/peptidome/code/netmhc/data/human-HLA-B4402.csv -a HLA-B4402\n",
      "/media/andreas/data/repos/peptidome/dependencies/netMHC-4.0/netMHC -f /media/andreas/data/repos/peptidome/code/netmhc/data/human.txt -xls -xlsfile /media/andreas/data/repos/peptidome/code/netmhc/data/human-HLA-B4403.csv -a HLA-B4403\n",
      "/media/andreas/data/repos/peptidome/dependencies/netMHC-4.0/netMHC -f /media/andreas/data/repos/peptidome/code/netmhc/data/human.txt -xls -xlsfile /media/andreas/data/repos/peptidome/code/netmhc/data/human-HLA-B4501.csv -a HLA-B4501\n"
     ]
    },
    {
     "ename": "KeyboardInterrupt",
     "evalue": "",
     "output_type": "error",
     "traceback": [
      "\u001b[0;31m---------------------------------------------------------------------------\u001b[0m",
      "\u001b[0;31mKeyboardInterrupt\u001b[0m                         Traceback (most recent call last)",
      "Cell \u001b[0;32mIn[11], line 2\u001b[0m\n\u001b[1;32m      1\u001b[0m \u001b[38;5;28;01mfor\u001b[39;00m hla \u001b[38;5;129;01min\u001b[39;00m hlas:\n\u001b[0;32m----> 2\u001b[0m     \u001b[43mrun_netMHC\u001b[49m\u001b[43m(\u001b[49m\u001b[38;5;124;43m'\u001b[39;49m\u001b[38;5;124;43mdata/human.txt\u001b[39;49m\u001b[38;5;124;43m'\u001b[39;49m\u001b[43m,\u001b[49m\u001b[43m \u001b[49m\u001b[38;5;124;43m'\u001b[39;49m\u001b[38;5;124;43mdata/human\u001b[39;49m\u001b[38;5;124;43m'\u001b[39;49m\u001b[43m,\u001b[49m\u001b[43m \u001b[49m\u001b[43mhla\u001b[49m\u001b[43m,\u001b[49m\u001b[43m \u001b[49m\u001b[43mbinder_only\u001b[49m\u001b[38;5;241;43m=\u001b[39;49m\u001b[38;5;28;43;01mFalse\u001b[39;49;00m\u001b[43m)\u001b[49m\n",
      "File \u001b[0;32m/media/andreas/data/repos/peptidome/code/netmhc/../lib/netmhcrunutils.py:24\u001b[0m, in \u001b[0;36mrun_netMHC\u001b[0;34m(inputpath, outname, hla, binder_only)\u001b[0m\n\u001b[1;32m     21\u001b[0m \u001b[38;5;28mprint\u001b[39m(\u001b[38;5;124m\"\u001b[39m\u001b[38;5;132;01m{netmhcpath}\u001b[39;00m\u001b[38;5;124m -f \u001b[39m\u001b[38;5;132;01m{inputpath}\u001b[39;00m\u001b[38;5;124m -xls -xlsfile \u001b[39m\u001b[38;5;132;01m{fullout}\u001b[39;00m\u001b[38;5;124m -a \u001b[39m\u001b[38;5;132;01m{hla}\u001b[39;00m\u001b[38;5;124m\"\u001b[39m\u001b[38;5;241m.\u001b[39mformat(netmhcpath\u001b[38;5;241m=\u001b[39mnetmhcpath,\n\u001b[1;32m     22\u001b[0m       inputpath\u001b[38;5;241m=\u001b[39minputpath, fullout\u001b[38;5;241m=\u001b[39mfullout, hla\u001b[38;5;241m=\u001b[39mhla))\n\u001b[1;32m     23\u001b[0m \u001b[38;5;28;01mif\u001b[39;00m peptides:\n\u001b[0;32m---> 24\u001b[0m     \u001b[43msubprocess\u001b[49m\u001b[38;5;241;43m.\u001b[39;49m\u001b[43mrun\u001b[49m\u001b[43m(\u001b[49m\u001b[43m[\u001b[49m\u001b[43mnetmhcpath\u001b[49m\u001b[43m,\u001b[49m\u001b[43m \u001b[49m\u001b[38;5;124;43m'\u001b[39;49m\u001b[38;5;124;43m-f\u001b[39;49m\u001b[38;5;124;43m'\u001b[39;49m\u001b[43m,\u001b[49m\u001b[43m \u001b[49m\u001b[43minputpath\u001b[49m\u001b[43m,\u001b[49m\n\u001b[1;32m     25\u001b[0m \u001b[43m                    \u001b[49m\u001b[38;5;124;43m'\u001b[39;49m\u001b[38;5;124;43m-xls\u001b[39;49m\u001b[38;5;124;43m'\u001b[39;49m\u001b[43m,\u001b[49m\n\u001b[1;32m     26\u001b[0m \u001b[43m                    \u001b[49m\u001b[38;5;124;43m'\u001b[39;49m\u001b[38;5;124;43m-xlsfile \u001b[39;49m\u001b[38;5;132;43;01m%s\u001b[39;49;00m\u001b[38;5;124;43m'\u001b[39;49m\u001b[43m \u001b[49m\u001b[38;5;241;43m%\u001b[39;49m\u001b[43m \u001b[49m\u001b[43mfullout\u001b[49m\u001b[43m,\u001b[49m\n\u001b[1;32m     27\u001b[0m \u001b[43m                    \u001b[49m\u001b[38;5;124;43m'\u001b[39;49m\u001b[38;5;124;43m-a \u001b[39;49m\u001b[38;5;132;43;01m%s\u001b[39;49;00m\u001b[38;5;124;43m'\u001b[39;49m\u001b[38;5;241;43m%\u001b[39;49m\u001b[43mhla\u001b[49m\u001b[43m,\u001b[49m\n\u001b[1;32m     28\u001b[0m \u001b[43m                    \u001b[49m\u001b[38;5;124;43m'\u001b[39;49m\u001b[38;5;124;43m-p\u001b[39;49m\u001b[38;5;124;43m'\u001b[39;49m\u001b[43m]\u001b[49m\u001b[43m,\u001b[49m\n\u001b[1;32m     29\u001b[0m \u001b[43m                    \u001b[49m\u001b[38;5;66;43;03m# Mute the subprocess (prevents shell cluttering)\u001b[39;49;00m\n\u001b[1;32m     30\u001b[0m \u001b[43m                    \u001b[49m\u001b[43mstdout\u001b[49m\u001b[38;5;241;43m=\u001b[39;49m\u001b[43mFNULL\u001b[49m\u001b[43m,\u001b[49m\u001b[43m \u001b[49m\u001b[43mstderr\u001b[49m\u001b[38;5;241;43m=\u001b[39;49m\u001b[43msubprocess\u001b[49m\u001b[38;5;241;43m.\u001b[39;49m\u001b[43mSTDOUT\u001b[49m\u001b[43m)\u001b[49m\n\u001b[1;32m     31\u001b[0m \u001b[38;5;28;01melse\u001b[39;00m:\n\u001b[1;32m     32\u001b[0m     subprocess\u001b[38;5;241m.\u001b[39mrun([netmhcpath, \u001b[38;5;124m'\u001b[39m\u001b[38;5;124m-f\u001b[39m\u001b[38;5;124m'\u001b[39m, inputpath,\n\u001b[1;32m     33\u001b[0m                     \u001b[38;5;124m'\u001b[39m\u001b[38;5;124m-xls\u001b[39m\u001b[38;5;124m'\u001b[39m,\n\u001b[1;32m     34\u001b[0m                     \u001b[38;5;124m'\u001b[39m\u001b[38;5;124m-xlsfile \u001b[39m\u001b[38;5;132;01m%s\u001b[39;00m\u001b[38;5;124m'\u001b[39m \u001b[38;5;241m%\u001b[39m fullout,\n\u001b[1;32m     35\u001b[0m                     \u001b[38;5;124m'\u001b[39m\u001b[38;5;124m-a \u001b[39m\u001b[38;5;132;01m%s\u001b[39;00m\u001b[38;5;124m'\u001b[39m\u001b[38;5;241m%\u001b[39mhla],\n\u001b[1;32m     36\u001b[0m                     \u001b[38;5;66;03m# Mute the subprocess (prevents shell cluttering)\u001b[39;00m\n\u001b[1;32m     37\u001b[0m                     stdout\u001b[38;5;241m=\u001b[39mFNULL, stderr\u001b[38;5;241m=\u001b[39msubprocess\u001b[38;5;241m.\u001b[39mSTDOUT)\n",
      "File \u001b[0;32m~/mambaforge/lib/python3.10/subprocess.py:505\u001b[0m, in \u001b[0;36mrun\u001b[0;34m(input, capture_output, timeout, check, *popenargs, **kwargs)\u001b[0m\n\u001b[1;32m    503\u001b[0m \u001b[38;5;28;01mwith\u001b[39;00m Popen(\u001b[38;5;241m*\u001b[39mpopenargs, \u001b[38;5;241m*\u001b[39m\u001b[38;5;241m*\u001b[39mkwargs) \u001b[38;5;28;01mas\u001b[39;00m process:\n\u001b[1;32m    504\u001b[0m     \u001b[38;5;28;01mtry\u001b[39;00m:\n\u001b[0;32m--> 505\u001b[0m         stdout, stderr \u001b[38;5;241m=\u001b[39m \u001b[43mprocess\u001b[49m\u001b[38;5;241;43m.\u001b[39;49m\u001b[43mcommunicate\u001b[49m\u001b[43m(\u001b[49m\u001b[38;5;28;43minput\u001b[39;49m\u001b[43m,\u001b[49m\u001b[43m \u001b[49m\u001b[43mtimeout\u001b[49m\u001b[38;5;241;43m=\u001b[39;49m\u001b[43mtimeout\u001b[49m\u001b[43m)\u001b[49m\n\u001b[1;32m    506\u001b[0m     \u001b[38;5;28;01mexcept\u001b[39;00m TimeoutExpired \u001b[38;5;28;01mas\u001b[39;00m exc:\n\u001b[1;32m    507\u001b[0m         process\u001b[38;5;241m.\u001b[39mkill()\n",
      "File \u001b[0;32m~/mambaforge/lib/python3.10/subprocess.py:1146\u001b[0m, in \u001b[0;36mPopen.communicate\u001b[0;34m(self, input, timeout)\u001b[0m\n\u001b[1;32m   1144\u001b[0m         stderr \u001b[38;5;241m=\u001b[39m \u001b[38;5;28mself\u001b[39m\u001b[38;5;241m.\u001b[39mstderr\u001b[38;5;241m.\u001b[39mread()\n\u001b[1;32m   1145\u001b[0m         \u001b[38;5;28mself\u001b[39m\u001b[38;5;241m.\u001b[39mstderr\u001b[38;5;241m.\u001b[39mclose()\n\u001b[0;32m-> 1146\u001b[0m     \u001b[38;5;28;43mself\u001b[39;49m\u001b[38;5;241;43m.\u001b[39;49m\u001b[43mwait\u001b[49m\u001b[43m(\u001b[49m\u001b[43m)\u001b[49m\n\u001b[1;32m   1147\u001b[0m \u001b[38;5;28;01melse\u001b[39;00m:\n\u001b[1;32m   1148\u001b[0m     \u001b[38;5;28;01mif\u001b[39;00m timeout \u001b[38;5;129;01mis\u001b[39;00m \u001b[38;5;129;01mnot\u001b[39;00m \u001b[38;5;28;01mNone\u001b[39;00m:\n",
      "File \u001b[0;32m~/mambaforge/lib/python3.10/subprocess.py:1209\u001b[0m, in \u001b[0;36mPopen.wait\u001b[0;34m(self, timeout)\u001b[0m\n\u001b[1;32m   1207\u001b[0m     endtime \u001b[38;5;241m=\u001b[39m _time() \u001b[38;5;241m+\u001b[39m timeout\n\u001b[1;32m   1208\u001b[0m \u001b[38;5;28;01mtry\u001b[39;00m:\n\u001b[0;32m-> 1209\u001b[0m     \u001b[38;5;28;01mreturn\u001b[39;00m \u001b[38;5;28;43mself\u001b[39;49m\u001b[38;5;241;43m.\u001b[39;49m\u001b[43m_wait\u001b[49m\u001b[43m(\u001b[49m\u001b[43mtimeout\u001b[49m\u001b[38;5;241;43m=\u001b[39;49m\u001b[43mtimeout\u001b[49m\u001b[43m)\u001b[49m\n\u001b[1;32m   1210\u001b[0m \u001b[38;5;28;01mexcept\u001b[39;00m \u001b[38;5;167;01mKeyboardInterrupt\u001b[39;00m:\n\u001b[1;32m   1211\u001b[0m     \u001b[38;5;66;03m# https://bugs.python.org/issue25942\u001b[39;00m\n\u001b[1;32m   1212\u001b[0m     \u001b[38;5;66;03m# The first keyboard interrupt waits briefly for the child to\u001b[39;00m\n\u001b[1;32m   1213\u001b[0m     \u001b[38;5;66;03m# exit under the common assumption that it also received the ^C\u001b[39;00m\n\u001b[1;32m   1214\u001b[0m     \u001b[38;5;66;03m# generated SIGINT and will exit rapidly.\u001b[39;00m\n\u001b[1;32m   1215\u001b[0m     \u001b[38;5;28;01mif\u001b[39;00m timeout \u001b[38;5;129;01mis\u001b[39;00m \u001b[38;5;129;01mnot\u001b[39;00m \u001b[38;5;28;01mNone\u001b[39;00m:\n",
      "File \u001b[0;32m~/mambaforge/lib/python3.10/subprocess.py:1943\u001b[0m, in \u001b[0;36mPopen._wait\u001b[0;34m(self, timeout)\u001b[0m\n\u001b[1;32m   1941\u001b[0m \u001b[38;5;28;01mif\u001b[39;00m \u001b[38;5;28mself\u001b[39m\u001b[38;5;241m.\u001b[39mreturncode \u001b[38;5;129;01mis\u001b[39;00m \u001b[38;5;129;01mnot\u001b[39;00m \u001b[38;5;28;01mNone\u001b[39;00m:\n\u001b[1;32m   1942\u001b[0m     \u001b[38;5;28;01mbreak\u001b[39;00m  \u001b[38;5;66;03m# Another thread waited.\u001b[39;00m\n\u001b[0;32m-> 1943\u001b[0m (pid, sts) \u001b[38;5;241m=\u001b[39m \u001b[38;5;28;43mself\u001b[39;49m\u001b[38;5;241;43m.\u001b[39;49m\u001b[43m_try_wait\u001b[49m\u001b[43m(\u001b[49m\u001b[38;5;241;43m0\u001b[39;49m\u001b[43m)\u001b[49m\n\u001b[1;32m   1944\u001b[0m \u001b[38;5;66;03m# Check the pid and loop as waitpid has been known to\u001b[39;00m\n\u001b[1;32m   1945\u001b[0m \u001b[38;5;66;03m# return 0 even without WNOHANG in odd situations.\u001b[39;00m\n\u001b[1;32m   1946\u001b[0m \u001b[38;5;66;03m# http://bugs.python.org/issue14396.\u001b[39;00m\n\u001b[1;32m   1947\u001b[0m \u001b[38;5;28;01mif\u001b[39;00m pid \u001b[38;5;241m==\u001b[39m \u001b[38;5;28mself\u001b[39m\u001b[38;5;241m.\u001b[39mpid:\n",
      "File \u001b[0;32m~/mambaforge/lib/python3.10/subprocess.py:1901\u001b[0m, in \u001b[0;36mPopen._try_wait\u001b[0;34m(self, wait_flags)\u001b[0m\n\u001b[1;32m   1899\u001b[0m \u001b[38;5;250m\u001b[39m\u001b[38;5;124;03m\"\"\"All callers to this function MUST hold self._waitpid_lock.\"\"\"\u001b[39;00m\n\u001b[1;32m   1900\u001b[0m \u001b[38;5;28;01mtry\u001b[39;00m:\n\u001b[0;32m-> 1901\u001b[0m     (pid, sts) \u001b[38;5;241m=\u001b[39m \u001b[43mos\u001b[49m\u001b[38;5;241;43m.\u001b[39;49m\u001b[43mwaitpid\u001b[49m\u001b[43m(\u001b[49m\u001b[38;5;28;43mself\u001b[39;49m\u001b[38;5;241;43m.\u001b[39;49m\u001b[43mpid\u001b[49m\u001b[43m,\u001b[49m\u001b[43m \u001b[49m\u001b[43mwait_flags\u001b[49m\u001b[43m)\u001b[49m\n\u001b[1;32m   1902\u001b[0m \u001b[38;5;28;01mexcept\u001b[39;00m \u001b[38;5;167;01mChildProcessError\u001b[39;00m:\n\u001b[1;32m   1903\u001b[0m     \u001b[38;5;66;03m# This happens if SIGCLD is set to be ignored or waiting\u001b[39;00m\n\u001b[1;32m   1904\u001b[0m     \u001b[38;5;66;03m# for child processes has otherwise been disabled for our\u001b[39;00m\n\u001b[1;32m   1905\u001b[0m     \u001b[38;5;66;03m# process.  This child is dead, we can't get the status.\u001b[39;00m\n\u001b[1;32m   1906\u001b[0m     pid \u001b[38;5;241m=\u001b[39m \u001b[38;5;28mself\u001b[39m\u001b[38;5;241m.\u001b[39mpid\n",
      "\u001b[0;31mKeyboardInterrupt\u001b[0m: "
     ]
    }
   ],
   "source": [
    "for hla in hlas:\n",
    "    run_netMHC('data/human.txt', 'data/human', hla, binder_only=False)"
   ]
  },
  {
   "cell_type": "code",
   "execution_count": null,
   "metadata": {},
   "outputs": [],
   "source": [
    "for hla in hlas:\n",
    "    run_netMHC('data/pathogen.txt', 'data/pathogen', hla, binder_only=False)"
   ]
  },
  {
   "cell_type": "code",
   "execution_count": null,
   "metadata": {},
   "outputs": [],
   "source": [
    "proteome = 'Humanviruses'\n",
    "model = 'nskewfcov'\n",
    "arr = np.load('../classifier/data/{proteome}_{model}_k{k}_likelihoods.npz'.format(proteome=proteome,\n",
    "                                                                                      model=model, k=k))\n",
    "prob_ratio_pathogen = (arr['logp_pp'] - arr['logp_ph'])[:100000]\n",
    "prob_ratio_human = (arr['logp_hp'] - arr['logp_hh'])[:100000]\n",
    "prob_pathogen = arr['logp_pp'][:100000]\n",
    "prob_human = arr['logp_hh'][:100000]"
   ]
  },
  {
   "cell_type": "code",
   "execution_count": null,
   "metadata": {},
   "outputs": [],
   "source": [
    "proteome = 'pathogen'\n",
    "correlations_pathogen = []\n",
    "correlations_pathogen_ratio = []\n",
    "correlations_pathogen_ratio_abs = []\n",
    "\n",
    "for hla in hlas:\n",
    "    df = pd.read_csv('data/{proteome}-{hla}.csv'.format(proteome=proteome, hla=hla), sep='\\t', skiprows=1)\n",
    "    corr, pval = scipy.stats.spearmanr(prob_pathogen, np.array(df['nM']))\n",
    "    correlations_pathogen.append(corr)\n",
    "    corr, pval = scipy.stats.spearmanr(prob_ratio_pathogen, np.array(df['nM']))\n",
    "    correlations_pathogen_ratio.append(corr)\n",
    "    corr, pval = scipy.stats.spearmanr(np.abs(prob_ratio_pathogen), np.array(df['nM']))\n",
    "    correlations_pathogen_ratio_abs.append(corr)"
   ]
  },
  {
   "cell_type": "code",
   "execution_count": null,
   "metadata": {},
   "outputs": [],
   "source": [
    "proteome = 'human'\n",
    "correlations_human = []\n",
    "correlations_human_ratio = []\n",
    "correlations_human_ratio_abs = []\n",
    "for hla in hlas:\n",
    "    df = pd.read_csv('data/{proteome}-{hla}.csv'.format(proteome=proteome, hla=hla), sep='\\t', skiprows=1)\n",
    "#    q = np.quantile(df['nM'], 0.01)\n",
    "    corr, pval = scipy.stats.spearmanr(prob_human, np.array(df['nM']))\n",
    "    correlations_human.append(corr)\n",
    "    corr, pval = scipy.stats.spearmanr(prob_ratio_human, np.array(df['nM']))\n",
    "    correlations_human_ratio.append(corr)\n",
    "    corr, pval = scipy.stats.spearmanr(np.abs(prob_ratio_human), np.array(df['nM']))\n",
    "    correlations_human_ratio_abs.append(corr)"
   ]
  },
  {
   "cell_type": "code",
   "execution_count": null,
   "metadata": {},
   "outputs": [],
   "source": [
    "fig, axes = plt.subplots(figsize=(3.5, 2.5), nrows=2, ncols=2, sharex=True, sharey=True)\n",
    "bins = np.linspace(-0.35, 0.35, 20)\n",
    "axes[0, 0].hist(correlations_pathogen, bins=bins)\n",
    "axes[0, 0].set_ylabel('Pathogen')\n",
    "axes[0, 0].set_title('Likelihood')\n",
    "axes[0, 1].hist(correlations_pathogen_ratio, bins=bins)\n",
    "axes[0, 1].set_title('Likelihood ratio $P_P/P_H$')\n",
    "#axes[0, 2].hist(correlations_pathogen_ratio_abs, bins=bins);\n",
    "#axes[0, 2].set_title('Abs(Likelihood ratio)')\n",
    "axes[1, 0].hist(correlations_human, bins=bins)\n",
    "axes[1, 0].set_ylabel('Human')\n",
    "axes[1, 1].hist(correlations_human_ratio, bins=bins)\n",
    "#axes[1, 2].hist(correlations_human_ratio_abs, bins=bins);\n",
    "axes[0, 0].set_xlim(min(bins), max(bins))\n",
    "for i in range(2):\n",
    "    axes[1, i].set_xlabel(r'$\\rho$ rank affinity')\n",
    "fig.savefig('netmhc_correlations.pdf')"
   ]
  },
  {
   "cell_type": "markdown",
   "metadata": {},
   "source": [
    "# What fraction of all peptides binds?"
   ]
  },
  {
   "cell_type": "code",
   "execution_count": null,
   "metadata": {},
   "outputs": [],
   "source": [
    "for hla in hlas:\n",
    "    df = pd.read_csv('data/{proteome}-{hla}.csv'.format(proteome=proteome, hla=hla),\n",
    "                             sep='\\t', skiprows=1)\n",
    "\n",
    "    print(hla, df[df['N_binders']==1]['nM'].max())"
   ]
  },
  {
   "cell_type": "code",
   "execution_count": null,
   "metadata": {},
   "outputs": [],
   "source": [
    "pbinding = {}\n",
    "for proteome in ['human', 'pathogen']:\n",
    "    pbinding[proteome] = np.array([np.mean(pd.read_csv('data/{proteome}-{hla}.csv'.format(proteome=proteome, hla=hla),\n",
    "                         sep='\\t', skiprows=1)['nM']<500)\n",
    "                              for hla in hlas])"
   ]
  },
  {
   "cell_type": "code",
   "execution_count": null,
   "metadata": {},
   "outputs": [],
   "source": [
    "df_pbinding = pd.DataFrame(dict(hla=hlas, human=pbinding['human'], pathogen=pbinding['pathogen']))\n",
    "df_pbinding.head()"
   ]
  },
  {
   "cell_type": "code",
   "execution_count": null,
   "metadata": {},
   "outputs": [],
   "source": [
    "plt.hist(df_pbinding['ratio']);"
   ]
  },
  {
   "cell_type": "code",
   "execution_count": null,
   "metadata": {},
   "outputs": [],
   "source": [
    "pmin = 1e-3\n",
    "df_pbinding = df_pbinding[(df_pbinding['human']>pmin) & (df_pbinding['pathogen']>pmin)]\n",
    "df_pbinding['ratio'] = df_pbinding['pathogen']/df_pbinding['human']"
   ]
  },
  {
   "cell_type": "code",
   "execution_count": null,
   "metadata": {},
   "outputs": [],
   "source": [
    "df_pbinding['supertype'] = df_pbinding['hla'].apply(lambda s: s[4])"
   ]
  },
  {
   "cell_type": "code",
   "execution_count": null,
   "metadata": {},
   "outputs": [],
   "source": [
    "bins = np.arange(0.7, 1.6, 0.1)\n",
    "df_pbinding.groupby('supertype')['ratio'].hist(bins=bins, histtype='stepfilled', alpha=.5);"
   ]
  },
  {
   "cell_type": "markdown",
   "metadata": {},
   "source": [
    "# Regression with likelihoods"
   ]
  },
  {
   "cell_type": "code",
   "execution_count": null,
   "metadata": {},
   "outputs": [],
   "source": [
    "sys.path.append('/home/amayer/repos/tcr_space/code')\n",
    "import tcrspacelib as tl"
   ]
  },
  {
   "cell_type": "code",
   "execution_count": null,
   "metadata": {},
   "outputs": [],
   "source": [
    "prob_ratios = {}\n",
    "prob_ratios['human'] = prob_ratio_human\n",
    "prob_ratios['pathogen'] = prob_ratio_pathogen"
   ]
  },
  {
   "cell_type": "code",
   "execution_count": null,
   "metadata": {},
   "outputs": [],
   "source": [
    "def histedges_equalN(x, nbin):\n",
    "    npt = len(x)\n",
    "    return np.interp(np.linspace(0, npt, nbin + 1),\n",
    "                     np.arange(npt),\n",
    "                     np.sort(x))"
   ]
  },
  {
   "cell_type": "code",
   "execution_count": null,
   "metadata": {},
   "outputs": [],
   "source": [
    "probs = dict(human=prob_human, pathogen=prob_pathogen)"
   ]
  },
  {
   "cell_type": "code",
   "execution_count": null,
   "metadata": {},
   "outputs": [],
   "source": [
    "bins = histedges_equalN(probs['pathogen'], 10)[1:-1]\n",
    "for hla in ['HLA-A0202']:#hlas.sample(10):\n",
    "    print(hla)\n",
    "    fig, ax = plt.subplots()\n",
    "    fig.suptitle(hla)\n",
    "    for proteome in ['human', 'pathogen']:\n",
    "        #prob = prob_ratios[proteome]\n",
    "        prob = probs[proteome]\n",
    "\n",
    "        df = pd.read_csv('data/{proteome}-{hla}.csv'.format(proteome=proteome, hla=hla),\n",
    "                         sep='\\t', skiprows=1)\n",
    "        print(proteome, np.mean(np.array(df['nM'])<500))\n",
    "        bins = np.linspace(0, 1, 5)\n",
    "        tl.regplot(scipy.stats.rankdata(prob)/len(prob),#prob,\n",
    "                   np.array(df['nM'])<500, bins=bins, label=proteome)\n",
    "    ax.set_xlabel('Likelihood rank')\n",
    "    ax.set_ylabel('Fraction presented')\n",
    "    ax.set_xlim(0.0)\n",
    "    ax.legend()"
   ]
  },
  {
   "cell_type": "code",
   "execution_count": null,
   "metadata": {},
   "outputs": [],
   "source": [
    "bins = histedges_equalN(probs['pathogen'], 10)[1:-1]\n",
    "for hla in ['HLA-A0202']:#hlas.sample(10):\n",
    "    print(hla)\n",
    "    fig, ax = plt.subplots()\n",
    "    fig.suptitle(hla)\n",
    "    for prob, label in [(prob_pathogen, 'likelihood'), (prob_ratio_pathogen, 'likelihood ratio')]:\n",
    "        df = pd.read_csv('data/{proteome}-{hla}.csv'.format(proteome=proteome, hla=hla),\n",
    "                         sep='\\t', skiprows=1)\n",
    "        print(proteome, np.mean(np.array(df['nM'])<500))\n",
    "        bins = np.linspace(0, 1, 5)\n",
    "        tl.regplot(scipy.stats.rankdata(prob)/len(prob),\n",
    "                   np.array(df['nM'])<500, bins=bins, label=label)\n",
    "    ax.set_xlabel('Likelihood rank')\n",
    "    ax.set_ylabel('Fraction presented')\n",
    "    ax.set_xlim(0.0)\n",
    "    ax.legend()"
   ]
  },
  {
   "cell_type": "code",
   "execution_count": null,
   "metadata": {},
   "outputs": [],
   "source": [
    "fig, ax = plt.subplots()\n",
    "plot_histograms([prob_ratio_human, prob_ratio_pathogen],\n",
    "                ['human', 'pathogen'],\n",
    "                nbins=50, lw=2,\n",
    "                xmin=-2, xmax=2, ax=ax, step=False)"
   ]
  },
  {
   "cell_type": "code",
   "execution_count": null,
   "metadata": {},
   "outputs": [],
   "source": [
    "background = np.mean(prob_ratio_pathogen) - np.mean(prob_ratio_human)"
   ]
  },
  {
   "cell_type": "code",
   "execution_count": null,
   "metadata": {},
   "outputs": [],
   "source": [
    "dkls = []\n",
    "ratios = []\n",
    "for hla in dfhla['name']:\n",
    "    dfs = {}\n",
    "    for proteome in ['human', 'pathogen']:\n",
    "        df = pd.read_csv('data/{proteome}-{hla}.csv'.format(proteome=proteome, hla=hla), sep='\\t', skiprows=1)\n",
    "        dfs[proteome] = df\n",
    "    ratio = np.sum(dfs['pathogen']['Rank'] < 10)/np.sum(dfs['human']['Rank'] < 10)\n",
    "    ratios.append(ratio)\n",
    "    dkl = np.mean(prob_ratio[dfs['pathogen']['Rank'] < 1]) - np.mean(prob_ratio_human[dfs['human']['Rank'] < 1])\n",
    "    dkls.append(dkl)\n",
    "    #print(hla, dkl, dp)"
   ]
  },
  {
   "cell_type": "code",
   "execution_count": null,
   "metadata": {},
   "outputs": [],
   "source": [
    "plt.hist(dkls)\n",
    "plt.axvline(background, color='k');"
   ]
  },
  {
   "cell_type": "code",
   "execution_count": null,
   "metadata": {},
   "outputs": [],
   "source": [
    "plt.hist(np.log2(ratios))\n",
    "top_ratio = all_data['nskewfcov']['positive']\n",
    "top_ratio = np.mean(neg_ratio[-int(0.1*len(neg_ratio)):])/np.log(2)\n",
    "plt.axvline(top_ratio)"
   ]
  },
  {
   "cell_type": "code",
   "execution_count": null,
   "metadata": {},
   "outputs": [],
   "source": [
    "proteome = 'Humanviruses'\n",
    "data = {}\n",
    "for model in ['independent', 'nskewfcov']:\n",
    "    arr = np.load('../classifier/data/{proteome}_{model}_k{k}_likelihoods.npz'.format(proteome=proteome,\n",
    "                                                                                      model=model, k=k))\n",
    "    data[model] = arr['logp_hh']"
   ]
  },
  {
   "cell_type": "code",
   "execution_count": null,
   "metadata": {},
   "outputs": [],
   "source": [
    "density_scatter(data['independent'], data['nskewfcov'])"
   ]
  },
  {
   "cell_type": "code",
   "execution_count": null,
   "metadata": {},
   "outputs": [],
   "source": [
    "scipy.stats.spearmanr(data['independent'], data['nskewfcov'])"
   ]
  },
  {
   "cell_type": "code",
   "execution_count": null,
   "metadata": {},
   "outputs": [],
   "source": []
  },
  {
   "cell_type": "code",
   "execution_count": null,
   "metadata": {},
   "outputs": [],
   "source": [
    "dfiedb = load_iedb_tcellepitopes(human_only=True)"
   ]
  },
  {
   "cell_type": "code",
   "execution_count": null,
   "metadata": {},
   "outputs": [],
   "source": [
    "dfiedb['MHC', 'Allele Name'].value_counts().head(30)"
   ]
  }
 ],
 "metadata": {
  "kernelspec": {
   "display_name": "Python 3 (ipykernel)",
   "language": "python",
   "name": "python3"
  },
  "language_info": {
   "codemirror_mode": {
    "name": "ipython",
    "version": 3
   },
   "file_extension": ".py",
   "mimetype": "text/x-python",
   "name": "python",
   "nbconvert_exporter": "python",
   "pygments_lexer": "ipython3",
   "version": "3.10.9"
  }
 },
 "nbformat": 4,
 "nbformat_minor": 4
}
