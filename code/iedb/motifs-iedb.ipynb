{
 "cells": [
  {
   "cell_type": "code",
   "execution_count": 3,
   "metadata": {},
   "outputs": [],
   "source": [
    "import numpy as np\n",
    "import pandas as pd\n",
    "from scipy.stats import entropy\n",
    "import scipy.stats\n",
    "import seaborn as sns\n",
    "import matplotlib.pyplot as plt\n",
    "%matplotlib inline\n",
    "\n",
    "import sys\n",
    "sys.path.append('..')\n",
    "\n",
    "from lib import *"
   ]
  },
  {
   "cell_type": "code",
   "execution_count": 4,
   "metadata": {},
   "outputs": [],
   "source": [
    "dfepitope = pd.read_csv('/home/amayer/data/peptidome/allhuman-iedb-epitopes.csv', header=1, usecols=(2, 9, 14))\n",
    "dfepitope = dfepitope.fillna('')"
   ]
  },
  {
   "cell_type": "code",
   "execution_count": 5,
   "metadata": {},
   "outputs": [],
   "source": [
    "dfepitope = load_iedb_tcellepitopes(only_standard_amino_acids=True, human_only=True)"
   ]
  },
  {
   "cell_type": "code",
   "execution_count": 6,
   "metadata": {},
   "outputs": [],
   "source": [
    "epi = dfepitope[('Epitope', 'Description')]"
   ]
  },
  {
   "cell_type": "code",
   "execution_count": 15,
   "metadata": {},
   "outputs": [
    {
     "data": {
      "text/plain": [
       "MultiIndex(levels=[['1st in vivo Process', '2nd in vivo Process', 'Adoptive Transfer', 'Antigen Presenting Cells', 'Assay', 'Assay Antigen', 'Assay Comments', 'Effector Cells', 'Epitope', 'Host', 'Immunization Comments', 'In Vitro Process', 'MHC', 'Reference', 'Related Object', 'TCR'], ['APC Cell Tissue Type IRI', 'APC Cell Type IRI', 'Adoptive Transfer Comments', 'Adoptive Transfer Flag', 'Allele Evidence Code', 'Allele IRI', 'Allele Name', 'Antigen Description', 'Antigen Epitope Relation', 'Antigen IRI', 'Antigen Name', 'Antigen Object Type', 'Antigen Organism IRI', 'Antigen Organism Name', 'Antigen Source Molecule IRI', 'Antigen Source Molecule Name', 'Assay Comments', 'Assay Group', 'Assay IRI', 'Assay Type IRI', 'Assayed TCR Molecule Name', 'Authors', 'Cell Culture Conditions', 'Cell Tissue Type', 'Cell Type', 'Class', 'Date', 'Description', 'Disease IRI', 'Disease Stage', 'Disease State', 'Effector Cell Tissue Type IRI', 'Effector Cell Type IRI', 'Ending Position', 'Epitope Comments', 'Epitope IRI', 'Epitope Relationship', 'Geolocation', 'Geolocation IRI', 'Host IRI', 'Immunization Comments', 'Immunogen Description', 'Immunogen Ending Position', 'Immunogen Epitope Relation', 'Immunogen Object Type', 'Immunogen Organism IRI', 'Immunogen Organism Name', 'Immunogen Organism Species', 'Immunogen Organism Species IRI', 'Immunogen Source Molecule IRI', 'Immunogen Source Molecule Name', 'Immunogen Starting Position', 'Immunogen protein parent IRI', 'Immunogen protein parent Name', 'In Vitro Process Type', 'Journal', 'Location of assay data in the manuscript', 'MHC Types Present', 'Measurement Inequality', 'Method/Technique', 'Name', 'Non-peptidic Antigen IRI', 'Non-peptidic Immunogen IRI', 'Non-peptidic epitope IRI', 'Non-peptidic object IRI', 'Number of Subjects Responded', 'Number of Subjects Tested', 'Object Type', 'Organism IRI', 'Organism Name', 'Organism Species IRI', 'Organism Species Name', 'PDB ID', 'Parent Organism', 'Parent Organism IRI', 'Parent Protein', 'Parent Protein IRI', 'Parent Species', 'Parent Species IRI', 'Process Type', 'Protein Parent IRI', 'Protein Parent Name', 'PubMed ID', 'Qualitative Measure', 'Quantitative measurement', 'Reference IRI', 'Responder Cell Type', 'Responder Cell Type IRI', 'Response Frequency', 'Starting Position', 'Stimulator Cell Type', 'Stimulator Cell Type IRI', 'Submission ID', 'Synonyms', 'TCR IRI', 'Title', 'Type', 'Units']],\n",
       "           labels=[[13, 13, 13, 13, 13, 13, 13, 13, 13, 8, 8, 8, 8, 8, 8, 8, 8, 8, 8, 8, 8, 8, 8, 8, 14, 14, 14, 14, 14, 14, 14, 14, 14, 14, 14, 14, 14, 14, 14, 9, 9, 9, 9, 9, 0, 0, 0, 0, 0, 0, 0, 0, 0, 0, 0, 0, 0, 0, 0, 0, 0, 0, 1, 1, 1, 1, 1, 1, 1, 1, 1, 1, 1, 1, 1, 1, 1, 1, 1, 1, 11, 11, 11, 11, 11, 11, 11, 11, 11, 11, 11, 11, 11, 11, 11, 11, 11, 2, 2, 10, 4, 4, 4, 4, 4, 4, 4, 4, 4, 4, 4, 7, 7, 7, 7, 7, 15, 15, 3, 3, 3, 3, 3, 12, 12, 12, 5, 5, 5, 5, 5, 5, 5, 5, 5, 5, 5, 5, 5, 5, 6], [18, 85, 96, 82, 21, 55, 26, 95, 92, 35, 67, 27, 89, 33, 63, 10, 9, 75, 76, 69, 68, 77, 78, 34, 36, 67, 27, 89, 33, 64, 93, 10, 9, 75, 76, 69, 68, 73, 74, 60, 39, 37, 38, 57, 79, 30, 28, 29, 43, 44, 41, 51, 42, 62, 50, 49, 53, 52, 46, 45, 47, 48, 79, 30, 28, 29, 43, 44, 41, 51, 42, 62, 50, 49, 53, 52, 46, 45, 47, 48, 54, 86, 87, 90, 91, 43, 44, 41, 62, 50, 49, 81, 80, 46, 45, 47, 48, 3, 2, 40, 56, 59, 17, 97, 19, 83, 58, 84, 66, 65, 88, 23, 31, 24, 32, 22, 20, 72, 23, 0, 24, 1, 22, 6, 25, 5, 8, 11, 7, 89, 33, 61, 15, 14, 81, 80, 13, 12, 71, 70, 16]])"
      ]
     },
     "execution_count": 15,
     "metadata": {},
     "output_type": "execute_result"
    }
   ],
   "source": [
    "dfepitope.columns"
   ]
  },
  {
   "cell_type": "code",
   "execution_count": 11,
   "metadata": {},
   "outputs": [
    {
     "data": {
      "text/plain": [
       "Mycobacterium tuberculosis            27327\n",
       "Vaccinia virus                        22916\n",
       "Blattella germanica                   17120\n",
       "Homo sapiens                          16583\n",
       "Hepacivirus C                         12775\n",
       "Phleum pratense                       12763\n",
       "Burkholderia pseudomallei             10286\n",
       "Dengue virus                           6337\n",
       "Human betaherpesvirus 5                5519\n",
       "Human gammaherpesvirus 4               4663\n",
       "Influenza A virus                      4630\n",
       "Dermatophagoides                       4332\n",
       "Human betaherpesvirus 6B               3995\n",
       "Plasmodium falciparum                  2851\n",
       "Human alphaherpesvirus 2               2689\n",
       "Mus musculus                           2592\n",
       "Clostridium tetani                     1819\n",
       "Mycolicibacterium gilvum               1566\n",
       "Mycobacterium leprae                   1488\n",
       "Hepatitis B virus                      1435\n",
       "Alphapapillomavirus 9                  1412\n",
       "Cryptomeria japonica                   1379\n",
       "Dermatophagoides pteronyssinus         1199\n",
       "Mycobacterium sp. JLS                  1166\n",
       "Mycobacterium sp. KMS                  1131\n",
       "Mycobacterium sp. MCS                  1127\n",
       "Betula pendula                         1112\n",
       "Mycobacterium avium                    1064\n",
       "Japanese encephalitis virus            1044\n",
       "Brucella melitensis                    1000\n",
       "                                      ...  \n",
       "Legionella pneumophila                    1\n",
       "Streptomyces phage mu1/6                  1\n",
       "Trichosporon asahii                       1\n",
       "Guanarito mammarenavirus                  1\n",
       "Selaginella moellendorffii                1\n",
       "Rickettsia prowazekii                     1\n",
       "Treponema phagedenis                      1\n",
       "Ebolavirus                                1\n",
       "Cutibacterium acnes                       1\n",
       "Plasmodium yoelii                         1\n",
       "Zinnia violacea                           1\n",
       "Bacillus pumilus                          1\n",
       "Cavenderia fasciculata                    1\n",
       "Spiroplasma citri                         1\n",
       "Oryzias latipes                           1\n",
       "Spodoptera frugiperda ascovirus 1a        1\n",
       "Acinetobacter sp. ADP1                    1\n",
       "Myxococcus stipitatus                     1\n",
       "Mammalian orthoreovirus                   1\n",
       "Enterobacteria phage VT2-Sakai            1\n",
       "Secale cereale x Triticum aestivum        1\n",
       "Triticum urartu                           1\n",
       "Torque teno sus virus 1a                  1\n",
       "Duvenhage lyssavirus                      1\n",
       "Photobacterium phosphoreum                1\n",
       "Gallid alphaherpesvirus 2                 1\n",
       "Encephalitozoon romaleae                  1\n",
       "Rhodococcus fascians                      1\n",
       "Vesicular stomatitis virus                1\n",
       "Blastococcus saxobsidens                  1\n",
       "Name: (Epitope, Parent Species), Length: 366, dtype: int64"
      ]
     },
     "execution_count": 11,
     "metadata": {},
     "output_type": "execute_result"
    }
   ],
   "source": [
    "dfepitope['Epitope', 'Parent Species'].value_counts()"
   ]
  },
  {
   "cell_type": "code",
   "execution_count": 8,
   "metadata": {},
   "outputs": [],
   "source": [
    "k = 1\n",
    "dfhuman = counter_to_df(count_kmers_proteome(human, k))\n",
    "dfmouse = counter_to_df(count_kmers_proteome(mouse, k))\n",
    "#epi = list(dfepitope['Description'])\n",
    "dfiedb = counter_to_df(count_kmers_iterable(epi, k))"
   ]
  },
  {
   "cell_type": "code",
   "execution_count": 9,
   "metadata": {},
   "outputs": [
    {
     "data": {
      "text/plain": [
       "(212825, 20)"
      ]
     },
     "execution_count": 9,
     "metadata": {},
     "output_type": "execute_result"
    }
   ],
   "source": [
    "len(epi), 20**k"
   ]
  },
  {
   "cell_type": "code",
   "execution_count": 23,
   "metadata": {},
   "outputs": [
    {
     "data": {
      "text/plain": [
       "<matplotlib.axes._subplots.AxesSubplot at 0x7f12d9145198>"
      ]
     },
     "execution_count": 23,
     "metadata": {},
     "output_type": "execute_result"
    },
    {
     "data": {
      "image/png": "[encoded data removed]",
      "text/plain": [
       "<Figure size 288x288 with 1 Axes>"
      ]
     },
     "metadata": {
      "needs_background": "light"
     },
     "output_type": "display_data"
    }
   ],
   "source": [
    "dfm = dfhuman.merge(dfmouse, on='seq')\n",
    "fig, ax = plt.subplots(figsize=(4, 4))\n",
    "x = np.logspace(np.log10(dfm['freq_x'].min())-0.25, np.log10(dfm['freq_x'].max())+0.25)\n",
    "plt.plot(x, x, 'k')\n",
    "dfm.plot('freq_x', 'freq_y', kind='scatter', logx=True, logy=True, ax=ax, s=5)\n",
    "#plt.plot(np.logspace(-6, -2), np.logspace(-6, -2), 'k')\n",
    "#ax.set_xlim(2e-7, 5e-4)\n",
    "#ax.set_ylim(2e-7, 5e-4)"
   ]
  },
  {
   "cell_type": "code",
   "execution_count": 24,
   "metadata": {},
   "outputs": [
    {
     "data": {
      "text/plain": [
       "<matplotlib.axes._subplots.AxesSubplot at 0x7f12d98ae3c8>"
      ]
     },
     "execution_count": 24,
     "metadata": {},
     "output_type": "execute_result"
    },
    {
     "data": {
      "image/png": "[encoded data removed]",
      "text/plain": [
       "<Figure size 288x288 with 1 Axes>"
      ]
     },
     "metadata": {
      "needs_background": "light"
     },
     "output_type": "display_data"
    }
   ],
   "source": [
    "dfm = dfhuman.merge(dfiedb, on='seq')\n",
    "fig, ax = plt.subplots(figsize=(4, 4))\n",
    "x = np.logspace(np.log10(dfm['freq_x'].min())-0.25, np.log10(dfm['freq_x'].max())+0.25)\n",
    "plt.plot(x, x, 'k')\n",
    "dfm.plot('freq_x', 'freq_y', kind='scatter', logx=True, logy=True, ax=ax, s=5)\n",
    "#ax.set_xlim(2e-7, 5e-3)\n",
    "#ax.set_ylim(2e-7, 5e-3)"
   ]
  },
  {
   "cell_type": "code",
   "execution_count": 26,
   "metadata": {},
   "outputs": [],
   "source": [
    "dfm['fold'] = dfm['freq_y']/dfm['freq_x']"
   ]
  },
  {
   "cell_type": "code",
   "execution_count": 27,
   "metadata": {},
   "outputs": [
    {
     "data": {
      "text/plain": [
       "(SpearmanrResult(correlation=-0.11428571428571428, pvalue=0.6313917305184382),\n",
       " array([[ 1.        , -0.05193285],\n",
       "        [-0.05193285,  1.        ]]))"
      ]
     },
     "execution_count": 27,
     "metadata": {},
     "output_type": "execute_result"
    },
    {
     "data": {
      "image/png": "[encoded data removed]",
      "text/plain": [
       "<Figure size 288x288 with 1 Axes>"
      ]
     },
     "metadata": {
      "needs_background": "light"
     },
     "output_type": "display_data"
    }
   ],
   "source": [
    "fig, ax = plt.subplots(figsize=(4, 4))\n",
    "dfm.plot('freq_x', 'fold', kind='scatter', logx=True, logy=True, ax=ax, s=1)\n",
    "#plt.plot(np.logspace(-6, -2), np.logspace(-6, -2), 'k')\n",
    "#ax.set_xlim(2e-7, 5e-4)\n",
    "#ax.set_ylim(2e-7, 5e-4)\n",
    "scipy.stats.spearmanr(dfm['freq_x'], dfm['fold']), np.corrcoef(np.log(dfm['freq_x']), np.log(dfm['fold']))"
   ]
  },
  {
   "cell_type": "code",
   "execution_count": 28,
   "metadata": {},
   "outputs": [
    {
     "data": {
      "text/html": [
       "<div>\n",
       "<style scoped>\n",
       "    .dataframe tbody tr th:only-of-type {\n",
       "        vertical-align: middle;\n",
       "    }\n",
       "\n",
       "    .dataframe tbody tr th {\n",
       "        vertical-align: top;\n",
       "    }\n",
       "\n",
       "    .dataframe thead th {\n",
       "        text-align: right;\n",
       "    }\n",
       "</style>\n",
       "<table border=\"1\" class=\"dataframe\">\n",
       "  <thead>\n",
       "    <tr style=\"text-align: right;\">\n",
       "      <th></th>\n",
       "      <th>seq</th>\n",
       "      <th>freq_x</th>\n",
       "      <th>freq_y</th>\n",
       "      <th>fold</th>\n",
       "    </tr>\n",
       "  </thead>\n",
       "  <tbody>\n",
       "    <tr>\n",
       "      <th>19</th>\n",
       "      <td>C</td>\n",
       "      <td>0.022215</td>\n",
       "      <td>0.013627</td>\n",
       "      <td>0.613414</td>\n",
       "    </tr>\n",
       "    <tr>\n",
       "      <th>7</th>\n",
       "      <td>E</td>\n",
       "      <td>0.070695</td>\n",
       "      <td>0.052989</td>\n",
       "      <td>0.749538</td>\n",
       "    </tr>\n",
       "    <tr>\n",
       "      <th>1</th>\n",
       "      <td>S</td>\n",
       "      <td>0.084211</td>\n",
       "      <td>0.063447</td>\n",
       "      <td>0.753426</td>\n",
       "    </tr>\n",
       "    <tr>\n",
       "      <th>6</th>\n",
       "      <td>Q</td>\n",
       "      <td>0.047785</td>\n",
       "      <td>0.036468</td>\n",
       "      <td>0.763162</td>\n",
       "    </tr>\n",
       "    <tr>\n",
       "      <th>3</th>\n",
       "      <td>P</td>\n",
       "      <td>0.063484</td>\n",
       "      <td>0.048540</td>\n",
       "      <td>0.764594</td>\n",
       "    </tr>\n",
       "    <tr>\n",
       "      <th>16</th>\n",
       "      <td>H</td>\n",
       "      <td>0.026059</td>\n",
       "      <td>0.020524</td>\n",
       "      <td>0.787619</td>\n",
       "    </tr>\n",
       "    <tr>\n",
       "      <th>8</th>\n",
       "      <td>K</td>\n",
       "      <td>0.056720</td>\n",
       "      <td>0.050939</td>\n",
       "      <td>0.898069</td>\n",
       "    </tr>\n",
       "    <tr>\n",
       "      <th>2</th>\n",
       "      <td>R</td>\n",
       "      <td>0.056725</td>\n",
       "      <td>0.052865</td>\n",
       "      <td>0.931951</td>\n",
       "    </tr>\n",
       "    <tr>\n",
       "      <th>5</th>\n",
       "      <td>D</td>\n",
       "      <td>0.047732</td>\n",
       "      <td>0.046809</td>\n",
       "      <td>0.980671</td>\n",
       "    </tr>\n",
       "    <tr>\n",
       "      <th>11</th>\n",
       "      <td>G</td>\n",
       "      <td>0.065730</td>\n",
       "      <td>0.064461</td>\n",
       "      <td>0.980689</td>\n",
       "    </tr>\n",
       "    <tr>\n",
       "      <th>18</th>\n",
       "      <td>W</td>\n",
       "      <td>0.012513</td>\n",
       "      <td>0.013114</td>\n",
       "      <td>1.047968</td>\n",
       "    </tr>\n",
       "    <tr>\n",
       "      <th>0</th>\n",
       "      <td>M</td>\n",
       "      <td>0.021987</td>\n",
       "      <td>0.023139</td>\n",
       "      <td>1.052357</td>\n",
       "    </tr>\n",
       "    <tr>\n",
       "      <th>14</th>\n",
       "      <td>T</td>\n",
       "      <td>0.054842</td>\n",
       "      <td>0.057944</td>\n",
       "      <td>1.056556</td>\n",
       "    </tr>\n",
       "    <tr>\n",
       "      <th>4</th>\n",
       "      <td>L</td>\n",
       "      <td>0.099160</td>\n",
       "      <td>0.105156</td>\n",
       "      <td>1.060474</td>\n",
       "    </tr>\n",
       "    <tr>\n",
       "      <th>13</th>\n",
       "      <td>N</td>\n",
       "      <td>0.035475</td>\n",
       "      <td>0.040419</td>\n",
       "      <td>1.139373</td>\n",
       "    </tr>\n",
       "    <tr>\n",
       "      <th>15</th>\n",
       "      <td>F</td>\n",
       "      <td>0.035858</td>\n",
       "      <td>0.044723</td>\n",
       "      <td>1.247235</td>\n",
       "    </tr>\n",
       "    <tr>\n",
       "      <th>10</th>\n",
       "      <td>V</td>\n",
       "      <td>0.059958</td>\n",
       "      <td>0.075021</td>\n",
       "      <td>1.251234</td>\n",
       "    </tr>\n",
       "    <tr>\n",
       "      <th>9</th>\n",
       "      <td>I</td>\n",
       "      <td>0.042889</td>\n",
       "      <td>0.057646</td>\n",
       "      <td>1.344078</td>\n",
       "    </tr>\n",
       "    <tr>\n",
       "      <th>12</th>\n",
       "      <td>A</td>\n",
       "      <td>0.069813</td>\n",
       "      <td>0.094876</td>\n",
       "      <td>1.358998</td>\n",
       "    </tr>\n",
       "    <tr>\n",
       "      <th>17</th>\n",
       "      <td>Y</td>\n",
       "      <td>0.026148</td>\n",
       "      <td>0.037293</td>\n",
       "      <td>1.426264</td>\n",
       "    </tr>\n",
       "  </tbody>\n",
       "</table>\n",
       "</div>"
      ],
      "text/plain": [
       "   seq    freq_x    freq_y      fold\n",
       "19   C  0.022215  0.013627  0.613414\n",
       "7    E  0.070695  0.052989  0.749538\n",
       "1    S  0.084211  0.063447  0.753426\n",
       "6    Q  0.047785  0.036468  0.763162\n",
       "3    P  0.063484  0.048540  0.764594\n",
       "16   H  0.026059  0.020524  0.787619\n",
       "8    K  0.056720  0.050939  0.898069\n",
       "2    R  0.056725  0.052865  0.931951\n",
       "5    D  0.047732  0.046809  0.980671\n",
       "11   G  0.065730  0.064461  0.980689\n",
       "18   W  0.012513  0.013114  1.047968\n",
       "0    M  0.021987  0.023139  1.052357\n",
       "14   T  0.054842  0.057944  1.056556\n",
       "4    L  0.099160  0.105156  1.060474\n",
       "13   N  0.035475  0.040419  1.139373\n",
       "15   F  0.035858  0.044723  1.247235\n",
       "10   V  0.059958  0.075021  1.251234\n",
       "9    I  0.042889  0.057646  1.344078\n",
       "12   A  0.069813  0.094876  1.358998\n",
       "17   Y  0.026148  0.037293  1.426264"
      ]
     },
     "execution_count": 28,
     "metadata": {},
     "output_type": "execute_result"
    }
   ],
   "source": [
    "dfm.sort_values('fold')"
   ]
  },
  {
   "cell_type": "code",
   "execution_count": 29,
   "metadata": {},
   "outputs": [
    {
     "ename": "NameError",
     "evalue": "name 'load_iedb_bcellepitopes' is not defined",
     "output_type": "error",
     "traceback": [
      "\u001b[0;31m---------------------------------------------------------------------------\u001b[0m",
      "\u001b[0;31mNameError\u001b[0m                                 Traceback (most recent call last)",
      "\u001b[0;32m<ipython-input-29-81fac0b6ecff>\u001b[0m in \u001b[0;36m<module>\u001b[0;34m\u001b[0m\n\u001b[0;32m----> 1\u001b[0;31m \u001b[0mload_iedb_bcellepitopes\u001b[0m\u001b[0;34m(\u001b[0m\u001b[0;34m)\u001b[0m\u001b[0;34m\u001b[0m\u001b[0m\n\u001b[0m",
      "\u001b[0;31mNameError\u001b[0m: name 'load_iedb_bcellepitopes' is not defined"
     ]
    }
   ],
   "source": []
  },
  {
   "cell_type": "code",
   "execution_count": null,
   "metadata": {},
   "outputs": [],
   "source": []
  }
 ],
 "metadata": {
  "kernelspec": {
   "display_name": "Python 3",
   "language": "python",
   "name": "python3"
  },
  "language_info": {
   "codemirror_mode": {
    "name": "ipython",
    "version": 3
   },
   "file_extension": ".py",
   "mimetype": "text/x-python",
   "name": "python",
   "nbconvert_exporter": "python",
   "pygments_lexer": "ipython3",
   "version": "3.7.0"
  }
 },
 "nbformat": 4,
 "nbformat_minor": 2
}
