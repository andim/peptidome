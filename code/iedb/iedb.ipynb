{
 "cells": [
  {
   "cell_type": "code",
   "execution_count": 2,
   "metadata": {},
   "outputs": [],
   "source": [
    "import numpy as np\n",
    "import pandas as pd\n",
    "from scipy.stats import entropy\n",
    "import scipy.stats\n",
    "import seaborn as sns\n",
    "import matplotlib.pyplot as plt\n",
    "%matplotlib inline\n",
    "\n",
    "import sys\n",
    "sys.path.append('..')\n",
    "\n",
    "from lib import *"
   ]
  },
  {
   "cell_type": "code",
   "execution_count": 10,
   "metadata": {},
   "outputs": [],
   "source": [
    "df_t = load_iedb_tcellepitopes(only_standard_amino_acids=True, human_only=True)\n",
    "df_b = load_iedb_bcellepitopes()"
   ]
  },
  {
   "cell_type": "code",
   "execution_count": 73,
   "metadata": {},
   "outputs": [
    {
     "name": "stdout",
     "output_type": "stream",
     "text": [
      "Mycobacterium tuberculosis    27327\n",
      "Vaccinia virus                22916\n",
      "Blattella germanica           17120\n",
      "Homo sapiens                  16583\n",
      "Hepacivirus C                 12775\n",
      "Name: (Epitope, Parent Species), dtype: int64\n",
      "Trypanosoma cruzi         174319\n",
      "Homo sapiens               51913\n",
      "Onchocerca volvulus        13071\n",
      "Hepacivirus C               8778\n",
      "Streptococcus pyogenes      7869\n",
      "Name: (Epitope, Parent Species), dtype: int64\n"
     ]
    }
   ],
   "source": [
    "for df in [df_t, df_b]:\n",
    "    print(df['Epitope', 'Parent Species'].value_counts().head())"
   ]
  },
  {
   "cell_type": "code",
   "execution_count": 13,
   "metadata": {},
   "outputs": [],
   "source": [
    "epi_t = df_t['Epitope', 'Description']\n",
    "epi_b = df_b['Epitope', 'Description']"
   ]
  },
  {
   "cell_type": "code",
   "execution_count": 65,
   "metadata": {},
   "outputs": [],
   "source": [
    "k = 1\n",
    "dfhuman = counter_to_df(count_kmers_proteome(human, k))\n",
    "dfiedb_t = counter_to_df(count_kmers_iterable(epi_t, k))\n",
    "dfiedb_b = counter_to_df(count_kmers_iterable(epi_b, k))\n",
    "for df in [dfhuman, dfiedb_t, dfiedb_b]:\n",
    "    df.sort_values('seq', inplace=True)\n",
    "dfm = pd.DataFrame.from_dict(dict(seq=list(dfhuman['seq']),\n",
    "                   human=list(dfhuman['freq']),\n",
    "                   iedb_t=list(dfiedb_t['freq']),\n",
    "                   iedb_b=list(dfiedb_b['freq'])))"
   ]
  },
  {
   "cell_type": "code",
   "execution_count": 67,
   "metadata": {},
   "outputs": [
    {
     "data": {
      "text/plain": [
       "<matplotlib.axes._subplots.AxesSubplot at 0x7ff04c9244e0>"
      ]
     },
     "execution_count": 67,
     "metadata": {},
     "output_type": "execute_result"
    },
    {
     "data": {
      "image/png": "[encoded data removed]",
      "text/plain": [
       "<Figure size 288x288 with 1 Axes>"
      ]
     },
     "metadata": {
      "needs_background": "light"
     },
     "output_type": "display_data"
    }
   ],
   "source": [
    "fig, ax = plt.subplots(figsize=(4, 4))\n",
    "x = np.logspace(np.log10(dfm['human'].min())-0.25, np.log10(dfm['iedb_t'].max())+0.25)\n",
    "plt.plot(x, x, 'k')\n",
    "dfm.plot('human', 'iedb_t', kind='scatter', logx=True, logy=True, ax=ax)\n",
    "dfm.plot('human', 'iedb_b', kind='scatter', logx=True, logy=True, ax=ax, color='g')\n",
    "#ax.set_xlim(2e-7, 5e-3)\n",
    "#ax.set_ylim(2e-7, 5e-3)"
   ]
  },
  {
   "cell_type": "code",
   "execution_count": 68,
   "metadata": {},
   "outputs": [],
   "source": [
    "dfm['fold_t'] = dfm['iedb_t']/dfm['human']\n",
    "dfm['fold_b'] = dfm['iedb_b']/dfm['human']"
   ]
  },
  {
   "cell_type": "code",
   "execution_count": 76,
   "metadata": {},
   "outputs": [
    {
     "data": {
      "text/plain": [
       "<matplotlib.axes._subplots.AxesSubplot at 0x7ff03c47bd68>"
      ]
     },
     "execution_count": 76,
     "metadata": {},
     "output_type": "execute_result"
    },
    {
     "data": {
      "image/png": "[encoded data removed]",
      "text/plain": [
       "<Figure size 288x288 with 1 Axes>"
      ]
     },
     "metadata": {
      "needs_background": "light"
     },
     "output_type": "display_data"
    }
   ],
   "source": [
    "fig, ax = plt.subplots(figsize=(4, 4))\n",
    "dfm.plot('fold_t', 'fold_b', kind='scatter', ax=ax)"
   ]
  },
  {
   "cell_type": "code",
   "execution_count": 80,
   "metadata": {},
   "outputs": [
    {
     "data": {
      "text/plain": [
       "(SpearmanrResult(correlation=0.23308270676691725, pvalue=0.32267802500462284),\n",
       " 0.3517946846261271)"
      ]
     },
     "execution_count": 80,
     "metadata": {},
     "output_type": "execute_result"
    }
   ],
   "source": [
    "scipy.stats.spearmanr(dfm['fold_t'], dfm['fold_b']), np.corrcoef(np.log(dfm['fold_t']), np.log(dfm['fold_b']))[1, 0]"
   ]
  },
  {
   "cell_type": "code",
   "execution_count": null,
   "metadata": {},
   "outputs": [],
   "source": []
  }
 ],
 "metadata": {
  "kernelspec": {
   "display_name": "Python 3",
   "language": "python",
   "name": "python3"
  },
  "language_info": {
   "codemirror_mode": {
    "name": "ipython",
    "version": 3
   },
   "file_extension": ".py",
   "mimetype": "text/x-python",
   "name": "python",
   "nbconvert_exporter": "python",
   "pygments_lexer": "ipython3",
   "version": "3.7.0"
  }
 },
 "nbformat": 4,
 "nbformat_minor": 2
}
