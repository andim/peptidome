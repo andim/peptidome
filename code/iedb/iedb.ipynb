{
 "cells": [
  {
   "cell_type": "code",
   "execution_count": 1,
   "metadata": {},
   "outputs": [],
   "source": [
    "import numpy as np\n",
    "import pandas as pd\n",
    "from scipy.stats import entropy\n",
    "import scipy.stats\n",
    "import seaborn as sns\n",
    "import matplotlib.pyplot as plt\n",
    "%matplotlib inline\n",
    "\n",
    "import sys\n",
    "sys.path.append('..')\n",
    "\n",
    "from lib import *"
   ]
  },
  {
   "cell_type": "code",
   "execution_count": 2,
   "metadata": {},
   "outputs": [],
   "source": [
    "df_t = load_iedb_tcellepitopes(human_only=True)\n",
    "df_b = load_iedb_bcellepitopes(human_only=True)"
   ]
  },
  {
   "cell_type": "markdown",
   "metadata": {},
   "source": [
    "# Qualitative exploration of database content"
   ]
  },
  {
   "cell_type": "code",
   "execution_count": 3,
   "metadata": {},
   "outputs": [
    {
     "data": {
      "text/plain": [
       "Index(['Reference', 'Epitope', 'Related Object', 'Host', '1st in vivo Process',\n",
       "       '2nd in vivo Process', 'In Vitro Process', 'Adoptive Transfer',\n",
       "       'Immunization Comments', 'Assay', 'Effector Cells', 'TCR',\n",
       "       'Antigen Presenting Cells', 'MHC', 'Assay Antigen', 'Assay Comments'],\n",
       "      dtype='object')"
      ]
     },
     "execution_count": 3,
     "metadata": {},
     "output_type": "execute_result"
    }
   ],
   "source": [
    "df_t.columns.get_level_values(0).unique()"
   ]
  },
  {
   "cell_type": "code",
   "execution_count": 44,
   "metadata": {},
   "outputs": [
    {
     "data": {
      "text/plain": [
       "array(['Human betaherpesvirus 5', 'Hepatitis delta virus',\n",
       "       'Severe acute respiratory syndrome-related coronavirus',\n",
       "       'Murine leukemia virus', 'Hepacivirus C', 'Hepatitis B virus',\n",
       "       'Alphapapillomavirus 9', 'Human orthopneumovirus',\n",
       "       'Human gammaherpesvirus 4', 'Influenza A virus',\n",
       "       'Lassa mammarenavirus', 'Human mastadenovirus C', 'Dengue virus',\n",
       "       'Vaccinia virus', 'Human immunodeficiency virus 1',\n",
       "       'Hantaan orthohantavirus', 'Rabies lyssavirus',\n",
       "       'Human coronavirus 229E', 'Puumala orthohantavirus',\n",
       "       'Mopeia mammarenavirus', 'Yellow fever virus',\n",
       "       'Human alphaherpesvirus 2', 'Human betaherpesvirus 6A',\n",
       "       'Human mastadenovirus F', 'Human betaherpesvirus 7',\n",
       "       'Influenza B virus', 'Primate T-lymphotropic virus 1',\n",
       "       'Measles morbillivirus', 'Primate erythroparvovirus 1',\n",
       "       'Human gammaherpesvirus 8', 'Rotavirus A',\n",
       "       'Alphapapillomavirus 10', 'Sin Nombre orthohantavirus',\n",
       "       'Alphapapillomavirus 2', 'Human immunodeficiency virus 2',\n",
       "       'Saimiriine gammaherpesvirus 2', 'Human betaherpesvirus 6B',\n",
       "       'Heron hepatitis B virus', 'Little cherry virus 1', 'Cowpox virus',\n",
       "       'Vesicular stomatitis virus', 'Duvenhage lyssavirus',\n",
       "       'Enterovirus B', 'Human alphaherpesvirus 1', 'Rubella virus',\n",
       "       'Human alphaherpesvirus 3', 'West Nile virus', 'Orthohepevirus A',\n",
       "       'Human mastadenovirus A', 'Mupapillomavirus 1',\n",
       "       'Panine betaherpesvirus 2', 'Macacine betaherpesvirus 3',\n",
       "       'Baboon cytomegalovirus', 'Human polyomavirus 1', 'Variola virus',\n",
       "       'Primate T-lymphotropic virus 2', 'Enterovirus C',\n",
       "       'Human polyomavirus 2', 'Human metapneumovirus',\n",
       "       'Human endogenous retrovirus', 'Macaca mulatta polyomavirus 1',\n",
       "       'Human mastadenovirus B', 'Andes orthohantavirus',\n",
       "       'Alphapapillomavirus 7', 'Alphapapillomavirus 11',\n",
       "       'Alphapapillomavirus 5', 'Betacoronavirus 1',\n",
       "       'Alphapapillomavirus 4', 'Gammapapillomavirus 1',\n",
       "       'Japanese encephalitis virus', 'Alphapapillomavirus 8',\n",
       "       'Mammalian orthoreovirus', 'Adeno-associated dependoparvovirus A',\n",
       "       'Adeno-associated virus', 'Human endogenous retrovirus W',\n",
       "       'Porcine type-C oncovirus', 'Hepatovirus A',\n",
       "       'Primate tetraparvovirus 1', 'Human endogenous retrovirus K',\n",
       "       'Human endogenous retrovirus H', 'Rift Valley fever phlebovirus',\n",
       "       'Thosea asigna virus', 'Equine rhinitis A virus',\n",
       "       'Alphapapillomavirus 13', 'Torque teno virus',\n",
       "       'Torque teno virus 8', 'Torque teno virus 4',\n",
       "       'Torque teno douroucouli virus', 'Torque teno virus 14',\n",
       "       'Torque teno virus 27', 'Torque teno virus 26',\n",
       "       'Torque teno virus 19', 'Torque teno virus 28',\n",
       "       'Torque teno virus 3', 'SEN virus', 'Torque teno virus 2',\n",
       "       'Torque teno virus 16', 'Torque teno virus 29',\n",
       "       'Torque teno virus 25', 'Torque teno virus 7',\n",
       "       'Torque teno virus 24', 'Torque teno virus 1',\n",
       "       'Torque teno virus 15', 'Torque teno virus 6',\n",
       "       'Torque teno virus 20', 'Torque teno tamarin virus',\n",
       "       'Torque teno virus 21', 'Torque teno virus 23',\n",
       "       'Torque teno canis virus', 'Torque teno felis virus',\n",
       "       'Torque teno sus virus 1a', 'Torque teno virus 11',\n",
       "       'TTV-like mini virus', 'Torque teno mini virus 1',\n",
       "       'Torque teno mini virus 7', 'Torque teno mini virus 3',\n",
       "       'Torque teno mini virus 8', 'Human mastadenovirus D',\n",
       "       'Human papillomavirus',\n",
       "       'Lymphocytic choriomeningitis mammarenavirus',\n",
       "       'Canid alphaherpesvirus 1', 'Tick-borne encephalitis virus',\n",
       "       'Zaire ebolavirus', 'Murray Valley encephalitis virus',\n",
       "       'Eastern equine encephalitis virus', 'Escherichia virus RB43',\n",
       "       'Gallid alphaherpesvirus 2', 'Mycobacterium virus Predator',\n",
       "       'Aquareovirus C', 'Spodoptera litura nucleopolyhedrovirus II',\n",
       "       'Spodoptera frugiperda ascovirus 1a',\n",
       "       'Spodoptera litura nucleopolyhedrovirus',\n",
       "       'Bovine papular stomatitis virus', 'Escherichia virus IME08',\n",
       "       'Guanarito mammarenavirus',\n",
       "       'Crimean-Congo hemorrhagic fever orthonairovirus', 'Norwalk virus',\n",
       "       'Rhinovirus A', 'Rhinovirus C', 'Zika virus', 'Ebolavirus'],\n",
       "      dtype=object)"
      ]
     },
     "execution_count": 44,
     "metadata": {},
     "output_type": "execute_result"
    }
   ],
   "source": [
    "df_t[df_t['Epitope', 'Parent Species'].str.contains('virus', na=False)]['Epitope', 'Parent Species'].unique()"
   ]
  },
  {
   "cell_type": "code",
   "execution_count": 4,
   "metadata": {},
   "outputs": [
    {
     "name": "stdout",
     "output_type": "stream",
     "text": [
      "Mycobacterium tuberculosis    27327\n",
      "Vaccinia virus                22916\n",
      "Blattella germanica           17120\n",
      "Homo sapiens                  16583\n",
      "Hepacivirus C                 12775\n",
      "Phleum pratense               12763\n",
      "Burkholderia pseudomallei     10286\n",
      "Dengue virus                   6337\n",
      "Human betaherpesvirus 5        5519\n",
      "Human gammaherpesvirus 4       4663\n",
      "Name: (Epitope, Parent Species), dtype: int64\n",
      "\n",
      "Trypanosoma cruzi           174006\n",
      "Homo sapiens                 39988\n",
      "Onchocerca volvulus          13071\n",
      "Streptococcus pyogenes        7167\n",
      "Human gammaherpesvirus 4      7106\n",
      "Hepacivirus C                 6220\n",
      "Arachis hypogaea              2961\n",
      "Bos taurus                    2280\n",
      "Plasmodium falciparum         1869\n",
      "Triticum aestivum             1827\n",
      "Name: (Epitope, Parent Species), dtype: int64\n",
      "\n"
     ]
    }
   ],
   "source": [
    "for df in [df_t, df_b]:\n",
    "    print(df['Epitope', 'Parent Species'].value_counts().head(10))\n",
    "    print()"
   ]
  },
  {
   "cell_type": "code",
   "execution_count": 5,
   "metadata": {},
   "outputs": [
    {
     "data": {
      "text/plain": [
       "Occurrence of infectious disease                                                   55037\n",
       "Occurrence of allergy                                                              43646\n",
       "Administration in vivo                                                             31095\n",
       "Environmental exposure to endemic/ubiquitous agent without evidence for disease    26519\n",
       "Exposure with existing immune reactivity without evidence for disease              24249\n",
       "No immunization                                                                    18087\n",
       "Occurrence of autoimmune disease                                                    9317\n",
       "Exposure without evidence for disease                                               1082\n",
       "Occurrence of cancer                                                                1063\n",
       "Documented exposure without evidence for disease                                    1030\n",
       "Name: Process Type, dtype: int64"
      ]
     },
     "execution_count": 5,
     "metadata": {},
     "output_type": "execute_result"
    }
   ],
   "source": [
    "df_t['1st in vivo Process']['Process Type'].value_counts().head(10)"
   ]
  },
  {
   "cell_type": "code",
   "execution_count": 6,
   "metadata": {},
   "outputs": [
    {
     "data": {
      "image/png": "[encoded data removed]",
      "text/plain": [
       "<Figure size 432x288 with 1 Axes>"
      ]
     },
     "metadata": {
      "needs_background": "light"
     },
     "output_type": "display_data"
    }
   ],
   "source": [
    "plt.hist(df_t['Epitope']['Starting Position'], bins=np.linspace(0, 2000, 100));"
   ]
  },
  {
   "cell_type": "code",
   "execution_count": 7,
   "metadata": {},
   "outputs": [
    {
     "data": {
      "text/plain": [
       "PBMC           123810\n",
       "T cell CD4+     48290\n",
       "T cell CD8+     23570\n",
       "T cell          13151\n",
       "T cell CD8-      1334\n",
       "Name: Cell Type, dtype: int64"
      ]
     },
     "execution_count": 7,
     "metadata": {},
     "output_type": "execute_result"
    }
   ],
   "source": [
    "df_t['Effector Cells']['Cell Type'].value_counts().head(5)"
   ]
  },
  {
   "cell_type": "code",
   "execution_count": 8,
   "metadata": {},
   "outputs": [
    {
     "data": {
      "text/plain": [
       "IFNg release           129267\n",
       "proliferation           26285\n",
       "IL-5 release            14815\n",
       "qualitative binding      7704\n",
       "IL-10 release            7654\n",
       "Name: Assay Group, dtype: int64"
      ]
     },
     "execution_count": 8,
     "metadata": {},
     "output_type": "execute_result"
    }
   ],
   "source": [
    "df_t['Assay']['Assay Group'].value_counts().head(5)"
   ]
  },
  {
   "cell_type": "code",
   "execution_count": 9,
   "metadata": {},
   "outputs": [
    {
     "data": {
      "text/plain": [
       "984"
      ]
     },
     "execution_count": 9,
     "metadata": {},
     "output_type": "execute_result"
    }
   ],
   "source": [
    "len(df_b[df_b['Epitope', 'Parent Species'].str.contains('Plasmodium falciparum', na=False)]['Epitope', 'Description'].unique())"
   ]
  },
  {
   "cell_type": "code",
   "execution_count": 29,
   "metadata": {},
   "outputs": [],
   "source": [
    "epi_t = df_t['Epitope', 'Description'].unique()\n",
    "epi_b = df_b['Epitope', 'Description'].unique()"
   ]
  },
  {
   "cell_type": "code",
   "execution_count": 30,
   "metadata": {},
   "outputs": [],
   "source": [
    "k = 2\n",
    "dfhuman = counter_to_df(count_kmers_proteome(human, k))\n",
    "dfiedb_t = counter_to_df(count_kmers_iterable(epi_t, k))\n",
    "dfiedb_b = counter_to_df(count_kmers_iterable(epi_b, k))\n",
    "for df in [dfhuman, dfiedb_t, dfiedb_b]:\n",
    "    df.sort_values('seq', inplace=True)\n",
    "dfm = pd.DataFrame.from_dict(dict(seq=list(dfhuman['seq']),\n",
    "                   human=list(dfhuman['freq']),\n",
    "                   iedb_t=list(dfiedb_t['freq']),\n",
    "                   iedb_b=list(dfiedb_b['freq'])))"
   ]
  },
  {
   "cell_type": "code",
   "execution_count": 31,
   "metadata": {},
   "outputs": [
    {
     "data": {
      "text/plain": [
       "<matplotlib.axes._subplots.AxesSubplot at 0x7f0eaaf12080>"
      ]
     },
     "execution_count": 31,
     "metadata": {},
     "output_type": "execute_result"
    },
    {
     "data": {
      "image/png": "[encoded data removed]",
      "text/plain": [
       "<Figure size 288x288 with 1 Axes>"
      ]
     },
     "metadata": {
      "needs_background": "light"
     },
     "output_type": "display_data"
    }
   ],
   "source": [
    "fig, ax = plt.subplots(figsize=(4, 4))\n",
    "x = np.logspace(np.log10(dfm['human'].min())-0.25, np.log10(dfm['iedb_t'].max())+0.25)\n",
    "plt.plot(x, x, 'k')\n",
    "dfm.plot('human', 'iedb_t', kind='scatter', logx=True, logy=True, ax=ax)\n",
    "dfm.plot('human', 'iedb_b', kind='scatter', logx=True, logy=True, ax=ax, color='g')\n",
    "#ax.set_xlim(2e-7, 5e-3)\n",
    "#ax.set_ylim(2e-7, 5e-3)"
   ]
  },
  {
   "cell_type": "code",
   "execution_count": 32,
   "metadata": {},
   "outputs": [
    {
     "data": {
      "text/plain": [
       "(0.013542240188542876, 0.010780544055408826)"
      ]
     },
     "execution_count": 32,
     "metadata": {},
     "output_type": "execute_result"
    }
   ],
   "source": [
    "calc_jsd(dfm['iedb_t'], dfm['human']), calc_jsd(dfm['iedb_b'], dfm['human'])"
   ]
  },
  {
   "cell_type": "code",
   "execution_count": 33,
   "metadata": {},
   "outputs": [],
   "source": [
    "dfm['fold_t'] = dfm['iedb_t']/dfm['human']\n",
    "dfm['fold_b'] = dfm['iedb_b']/dfm['human']"
   ]
  },
  {
   "cell_type": "code",
   "execution_count": 34,
   "metadata": {},
   "outputs": [
    {
     "data": {
      "image/png": "[encoded data removed]",
      "text/plain": [
       "<Figure size 288x288 with 1 Axes>"
      ]
     },
     "metadata": {
      "needs_background": "light"
     },
     "output_type": "display_data"
    }
   ],
   "source": [
    "fig, ax = plt.subplots(figsize=(4, 4))\n",
    "dfm.plot('fold_t', 'fold_b', kind='scatter', ax=ax)\n",
    "ax.set_yscale('log')\n",
    "ax.set_xscale('log')"
   ]
  },
  {
   "cell_type": "code",
   "execution_count": 35,
   "metadata": {},
   "outputs": [
    {
     "data": {
      "text/plain": [
       "(SpearmanrResult(correlation=0.16539347120919504, pvalue=0.0008988418184005065),\n",
       " 0.2730893671980589)"
      ]
     },
     "execution_count": 35,
     "metadata": {},
     "output_type": "execute_result"
    }
   ],
   "source": [
    "scipy.stats.spearmanr(dfm['fold_t'], dfm['fold_b']), np.corrcoef(np.log(dfm['fold_t']), np.log(dfm['fold_b']))[1, 0]"
   ]
  },
  {
   "cell_type": "code",
   "execution_count": 17,
   "metadata": {},
   "outputs": [
    {
     "data": {
      "text/html": [
       "<div>\n",
       "<style scoped>\n",
       "    .dataframe tbody tr th:only-of-type {\n",
       "        vertical-align: middle;\n",
       "    }\n",
       "\n",
       "    .dataframe tbody tr th {\n",
       "        vertical-align: top;\n",
       "    }\n",
       "\n",
       "    .dataframe thead th {\n",
       "        text-align: right;\n",
       "    }\n",
       "</style>\n",
       "<table border=\"1\" class=\"dataframe\">\n",
       "  <thead>\n",
       "    <tr style=\"text-align: right;\">\n",
       "      <th></th>\n",
       "      <th>seq</th>\n",
       "      <th>human</th>\n",
       "      <th>iedb_t</th>\n",
       "      <th>iedb_b</th>\n",
       "      <th>fold_t</th>\n",
       "      <th>fold_b</th>\n",
       "    </tr>\n",
       "  </thead>\n",
       "  <tbody>\n",
       "    <tr>\n",
       "      <th>121</th>\n",
       "      <td>HC</td>\n",
       "      <td>0.000743</td>\n",
       "      <td>0.000252</td>\n",
       "      <td>0.000340</td>\n",
       "      <td>0.338800</td>\n",
       "      <td>0.457293</td>\n",
       "    </tr>\n",
       "    <tr>\n",
       "      <th>61</th>\n",
       "      <td>EC</td>\n",
       "      <td>0.001635</td>\n",
       "      <td>0.000604</td>\n",
       "      <td>0.000802</td>\n",
       "      <td>0.369634</td>\n",
       "      <td>0.490772</td>\n",
       "    </tr>\n",
       "    <tr>\n",
       "      <th>21</th>\n",
       "      <td>CC</td>\n",
       "      <td>0.000775</td>\n",
       "      <td>0.000299</td>\n",
       "      <td>0.000522</td>\n",
       "      <td>0.385402</td>\n",
       "      <td>0.673256</td>\n",
       "    </tr>\n",
       "    <tr>\n",
       "      <th>33</th>\n",
       "      <td>CQ</td>\n",
       "      <td>0.001147</td>\n",
       "      <td>0.000451</td>\n",
       "      <td>0.000476</td>\n",
       "      <td>0.393015</td>\n",
       "      <td>0.415223</td>\n",
       "    </tr>\n",
       "    <tr>\n",
       "      <th>261</th>\n",
       "      <td>QC</td>\n",
       "      <td>0.000997</td>\n",
       "      <td>0.000402</td>\n",
       "      <td>0.000479</td>\n",
       "      <td>0.403542</td>\n",
       "      <td>0.480335</td>\n",
       "    </tr>\n",
       "    <tr>\n",
       "      <th>...</th>\n",
       "      <td>...</td>\n",
       "      <td>...</td>\n",
       "      <td>...</td>\n",
       "      <td>...</td>\n",
       "      <td>...</td>\n",
       "      <td>...</td>\n",
       "    </tr>\n",
       "    <tr>\n",
       "      <th>340</th>\n",
       "      <td>VA</td>\n",
       "      <td>0.004284</td>\n",
       "      <td>0.007917</td>\n",
       "      <td>0.005725</td>\n",
       "      <td>1.848275</td>\n",
       "      <td>1.336514</td>\n",
       "    </tr>\n",
       "    <tr>\n",
       "      <th>0</th>\n",
       "      <td>AA</td>\n",
       "      <td>0.007129</td>\n",
       "      <td>0.013480</td>\n",
       "      <td>0.013122</td>\n",
       "      <td>1.890837</td>\n",
       "      <td>1.840743</td>\n",
       "    </tr>\n",
       "    <tr>\n",
       "      <th>140</th>\n",
       "      <td>IA</td>\n",
       "      <td>0.002486</td>\n",
       "      <td>0.004739</td>\n",
       "      <td>0.002745</td>\n",
       "      <td>1.906579</td>\n",
       "      <td>1.104157</td>\n",
       "    </tr>\n",
       "    <tr>\n",
       "      <th>7</th>\n",
       "      <td>AI</td>\n",
       "      <td>0.002733</td>\n",
       "      <td>0.005331</td>\n",
       "      <td>0.003013</td>\n",
       "      <td>1.950345</td>\n",
       "      <td>1.102407</td>\n",
       "    </tr>\n",
       "    <tr>\n",
       "      <th>19</th>\n",
       "      <td>AY</td>\n",
       "      <td>0.001530</td>\n",
       "      <td>0.003092</td>\n",
       "      <td>0.001662</td>\n",
       "      <td>2.021305</td>\n",
       "      <td>1.086477</td>\n",
       "    </tr>\n",
       "  </tbody>\n",
       "</table>\n",
       "<p>400 rows × 6 columns</p>\n",
       "</div>"
      ],
      "text/plain": [
       "    seq     human    iedb_t    iedb_b    fold_t    fold_b\n",
       "121  HC  0.000743  0.000252  0.000340  0.338800  0.457293\n",
       "61   EC  0.001635  0.000604  0.000802  0.369634  0.490772\n",
       "21   CC  0.000775  0.000299  0.000522  0.385402  0.673256\n",
       "33   CQ  0.001147  0.000451  0.000476  0.393015  0.415223\n",
       "261  QC  0.000997  0.000402  0.000479  0.403542  0.480335\n",
       "..   ..       ...       ...       ...       ...       ...\n",
       "340  VA  0.004284  0.007917  0.005725  1.848275  1.336514\n",
       "0    AA  0.007129  0.013480  0.013122  1.890837  1.840743\n",
       "140  IA  0.002486  0.004739  0.002745  1.906579  1.104157\n",
       "7    AI  0.002733  0.005331  0.003013  1.950345  1.102407\n",
       "19   AY  0.001530  0.003092  0.001662  2.021305  1.086477\n",
       "\n",
       "[400 rows x 6 columns]"
      ]
     },
     "execution_count": 17,
     "metadata": {},
     "output_type": "execute_result"
    }
   ],
   "source": [
    "dfm.sort_values('fold_t')"
   ]
  },
  {
   "cell_type": "code",
   "execution_count": 18,
   "metadata": {},
   "outputs": [
    {
     "data": {
      "text/plain": [
       "['Q7K740',\n",
       " 'Q76NM2',\n",
       " 'Q8I0U6',\n",
       " 'O96275',\n",
       " 'Q8IIF0',\n",
       " 'Q8IC44',\n",
       " 'Q6ZMA7',\n",
       " 'P50498',\n",
       " 'Q8I0U8',\n",
       " 'Q8IB24',\n",
       " 'Q8IHN4',\n",
       " 'Q9TY95',\n",
       " 'Q8I5D2',\n",
       " 'Q8ID94',\n",
       " 'Q8ILR9',\n",
       " 'Q8IBE8',\n",
       " 'Q8I484',\n",
       " 'Q8ILZ1',\n",
       " 'Q8IEU2',\n",
       " 'Q8I562',\n",
       " 'Q7KWJ2',\n",
       " 'Q7KQK5',\n",
       " 'Q7KQL9',\n",
       " 'Q7K6A5',\n",
       " 'Q9TY99',\n",
       " 'Q03400',\n",
       " 'Q8IJ55',\n",
       " 'Q8IJP8',\n",
       " 'Q8IDZ5',\n",
       " 'Q8IJY8',\n",
       " 'Q8I639']"
      ]
     },
     "execution_count": 18,
     "metadata": {},
     "output_type": "execute_result"
    }
   ],
   "source": [
    "epitope_proteins = [s.split('/')[-1] for s in df_t[df_t['Epitope', 'Organism Name'] == 'Plasmodium falciparum']['Epitope', 'Parent Protein IRI'].unique() if type(s) == type('')]\n",
    "epitope_proteins"
   ]
  },
  {
   "cell_type": "code",
   "execution_count": 19,
   "metadata": {},
   "outputs": [],
   "source": [
    "proteomes = load_proteomes()\n",
    "malaria = datadir + proteomes.loc['Malaria']['path']"
   ]
  },
  {
   "cell_type": "code",
   "execution_count": 20,
   "metadata": {},
   "outputs": [],
   "source": [
    "epitope_proteins_aa = [s for h, s in fasta_iter(malaria, returnheader=True) if iscontained(h, epitope_proteins)]"
   ]
  },
  {
   "cell_type": "code",
   "execution_count": 21,
   "metadata": {},
   "outputs": [],
   "source": [
    "df_epi = counter_to_df(count_kmers_iterable(epitope_proteins_aa, k=1, clean=True))"
   ]
  },
  {
   "cell_type": "code",
   "execution_count": 22,
   "metadata": {},
   "outputs": [],
   "source": [
    "df_all = counter_to_df(count_kmers_iterable(fasta_iter(malaria, returnheader=False), k=1, clean=True))"
   ]
  },
  {
   "cell_type": "code",
   "execution_count": 23,
   "metadata": {},
   "outputs": [],
   "source": [
    "dfm = df_epi.merge(df_all, on='seq')"
   ]
  },
  {
   "cell_type": "code",
   "execution_count": 24,
   "metadata": {},
   "outputs": [
    {
     "data": {
      "text/plain": [
       "<matplotlib.axes._subplots.AxesSubplot at 0x7f0eaaf81d30>"
      ]
     },
     "execution_count": 24,
     "metadata": {},
     "output_type": "execute_result"
    },
    {
     "data": {
      "image/png": "[encoded data removed]",
      "text/plain": [
       "<Figure size 432x288 with 1 Axes>"
      ]
     },
     "metadata": {
      "needs_background": "light"
     },
     "output_type": "display_data"
    }
   ],
   "source": [
    "dfm.plot(x='freq_x', y='freq_y', kind='scatter')"
   ]
  },
  {
   "cell_type": "code",
   "execution_count": null,
   "metadata": {},
   "outputs": [],
   "source": []
  }
 ],
 "metadata": {
  "kernelspec": {
   "display_name": "Python 3",
   "language": "python",
   "name": "python3"
  },
  "language_info": {
   "codemirror_mode": {
    "name": "ipython",
    "version": 3
   },
   "file_extension": ".py",
   "mimetype": "text/x-python",
   "name": "python",
   "nbconvert_exporter": "python",
   "pygments_lexer": "ipython3",
   "version": "3.6.10"
  }
 },
 "nbformat": 4,
 "nbformat_minor": 2
}
