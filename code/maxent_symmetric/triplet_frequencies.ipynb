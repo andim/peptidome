{
 "cells": [
  {
   "cell_type": "code",
   "execution_count": 1,
   "metadata": {},
   "outputs": [],
   "source": [
    "import itertools, json\n",
    "import numpy as np\n",
    "import pandas as pd\n",
    "from sklearn.model_selection import train_test_split\n",
    "\n",
    "import sys\n",
    "sys.path.append('..')\n",
    "from lib import *\n",
    "from lib.maxent import *"
   ]
  },
  {
   "cell_type": "code",
   "execution_count": 43,
   "metadata": {},
   "outputs": [],
   "source": [
    "def triplet_frequencies(matrix, num_symbols=2, pseudocount=0):\n",
    "    \"\"\"\n",
    "    Calculate triplet frequencies of symbols.\n",
    "\n",
    "    Parameters\n",
    "    ----------\n",
    "    matrix : np.array\n",
    "        N x L matrix containing N sequences of length L.\n",
    "        Matrix must be mapped to range(0, num_symbols) using\n",
    "        map_matrix function\n",
    "    num_symbols : int\n",
    "        Number of different symbols contained in alignment\n",
    "    fi : np.array\n",
    "        Matrix of size L x num_symbols containing relative\n",
    "        column frequencies of all characters.\n",
    "\n",
    "    Returns\n",
    "    -------\n",
    "    np.array\n",
    "        Matrix of size L x L x L x num_symbols x num_symbols x num_symbols containing\n",
    "        relative triplet frequencies of all character combinations\n",
    "    \"\"\"\n",
    "    N, L = matrix.shape\n",
    "    fijk = pseudocount*np.ones((L, L, L, num_symbols, num_symbols, num_symbols))\n",
    "    for s in range(N):\n",
    "        for i in range(L):\n",
    "            for j in range(L):\n",
    "                for k in range(L):\n",
    "                    fijk[i, j, k, matrix[s, i], matrix[s, j], matrix[s, k]] += 1\n",
    "\n",
    "    # normalize frequencies by the number\n",
    "    # of sequences\n",
    "    fijk /= (N+pseudocount)\n",
    "\n",
    "    return fijk\n"
   ]
  },
  {
   "cell_type": "code",
   "execution_count": 45,
   "metadata": {},
   "outputs": [],
   "source": [
    "@jit(nopython=True)\n",
    "def triplet_frequencies_fast(matrix, fij, fi, num_symbols=2, pseudocount=0):\n",
    "    \"\"\"\n",
    "    Calculate triplet frequencies of symbols.\n",
    "\n",
    "    Parameters\n",
    "    ----------\n",
    "    matrix : np.array\n",
    "        N x L matrix containing N sequences of length L.\n",
    "        Matrix must be mapped to range(0, num_symbols) using\n",
    "        map_matrix function\n",
    "    num_symbols : int\n",
    "        Number of different symbols contained in alignment\n",
    "    fi : np.array\n",
    "        Matrix of size L x num_symbols containing relative\n",
    "        column frequencies of all characters.\n",
    "\n",
    "    Returns\n",
    "    -------\n",
    "    np.array\n",
    "        Matrix of size L x L x L x num_symbols x num_symbols x num_symbols containing\n",
    "        relative triplet frequencies of all character combinations\n",
    "    \"\"\"\n",
    "    N, L = matrix.shape\n",
    "    fijk = pseudocount*np.ones((L, L, L, num_symbols, num_symbols, num_symbols))\n",
    "    for s in range(N):\n",
    "        for i in range(L):\n",
    "            for j in range(i+1, L):\n",
    "                for k in range(j+1, L):\n",
    "                    fijk[i, j, k, matrix[s, i], matrix[s, j], matrix[s, k]] += 1\n",
    "    # set permuted indices to same value\n",
    "    for i in range(L):\n",
    "        for j in range(i+1, L):\n",
    "            for k in range(j+1, L):\n",
    "                for alpha in range(num_symbols):\n",
    "                    for beta in range(num_symbols):\n",
    "                        for gamma in range(num_symbols):\n",
    "                            value = fijk[i, j, k, alpha, beta, gamma]\n",
    "                            fijk[i, k, j, alpha, gamma, beta] = value\n",
    "                            fijk[j, i, k, beta, alpha, gamma] = value\n",
    "                            fijk[j, k, i, beta, gamma, alpha] = value\n",
    "                            fijk[k, j, i, gamma, beta, alpha] = value\n",
    "                            fijk[k, i, j, gamma, alpha, beta] = value\n",
    "\n",
    "    # normalize frequencies by the number\n",
    "    # of sequences\n",
    "    fijk /= (N+pseudocount)\n",
    "    \n",
    "    # set the frequency of a doublet\n",
    "    # in position i to the respective single-site\n",
    "    # frequency of alpha in position i\n",
    "    for i in range(L):\n",
    "        for j in range(i+1, L):\n",
    "            for alpha in range(num_symbols):\n",
    "                for beta in range(num_symbols):\n",
    "                    fijk[i, j, i, alpha, beta, alpha] = fij[i, j, alpha, beta]\n",
    "                    fijk[i, i, j, alpha, alpha, beta] = fij[i, j, alpha, beta]\n",
    "                    fijk[j, i, j, beta, alpha, beta] = fij[i, j, alpha, beta]\n",
    "                    fijk[j, j, i, beta, beta, alpha] = fij[i, j, alpha, beta]\n",
    "    \n",
    "    # set the frequency of a triplet\n",
    "    # in position i to the respective single-site\n",
    "    # frequency of alpha in position i\n",
    "    for i in range(L):\n",
    "        for alpha in range(num_symbols):\n",
    "            fijk[i, i, i, alpha, alpha, alpha] = fi[i, alpha]\n",
    "\n",
    "    return fijk\n"
   ]
  },
  {
   "cell_type": "code",
   "execution_count": 47,
   "metadata": {},
   "outputs": [],
   "source": [
    "matrix = np.array([[0, 1, 0],\n",
    "                   [1, 1, 1]])\n",
    "fi = frequencies(matrix, num_symbols=2)\n",
    "fij = pair_frequencies(matrix, num_symbols=2, fi=fi)\n",
    "fijk = triplet_frequencies_fast(matrix, fij=fij, fi=fi, num_symbols=2)\n",
    "fijk_ref = triplet_frequencies(matrix, num_symbols=2)"
   ]
  },
  {
   "cell_type": "code",
   "execution_count": 48,
   "metadata": {},
   "outputs": [
    {
     "data": {
      "text/plain": [
       "<matplotlib.image.AxesImage at 0x7ff3ad521a58>"
      ]
     },
     "execution_count": 48,
     "metadata": {},
     "output_type": "execute_result"
    },
    {
     "data": {
      "image/png": "[encoded data removed]",
      "text/plain": [
       "<Figure size 432x288 with 1 Axes>"
      ]
     },
     "metadata": {
      "needs_background": "light"
     },
     "output_type": "display_data"
    }
   ],
   "source": [
    "plt.imshow(fijk_ref[0,:,:,0,0,0])"
   ]
  },
  {
   "cell_type": "code",
   "execution_count": 49,
   "metadata": {},
   "outputs": [
    {
     "data": {
      "text/plain": [
       "array([[0.5, 0. , 0.5],\n",
       "       [0. , 0. , 0. ],\n",
       "       [0.5, 0. , 0. ]])"
      ]
     },
     "execution_count": 49,
     "metadata": {},
     "output_type": "execute_result"
    }
   ],
   "source": [
    "fijk[0,:,:,0,0,0]"
   ]
  },
  {
   "cell_type": "code",
   "execution_count": 50,
   "metadata": {},
   "outputs": [
    {
     "ename": "AssertionError",
     "evalue": "\nArrays are not equal\n\nMismatched elements: 12 / 216 (5.56%)\nMax absolute difference: 0.5\nMax relative difference: 1.\n x: array([[[[[[0.5, 0. ],\n           [0. , 0. ]],\n...\n y: array([[[[[[0.5, 0. ],\n           [0. , 0. ]],\n...",
     "output_type": "error",
     "traceback": [
      "\u001b[0;31m---------------------------------------------------------------------------\u001b[0m",
      "\u001b[0;31mAssertionError\u001b[0m                            Traceback (most recent call last)",
      "\u001b[0;32m<ipython-input-50-7531535a1889>\u001b[0m in \u001b[0;36m<module>\u001b[0;34m\u001b[0m\n\u001b[0;32m----> 1\u001b[0;31m \u001b[0mnp\u001b[0m\u001b[0;34m.\u001b[0m\u001b[0mtesting\u001b[0m\u001b[0;34m.\u001b[0m\u001b[0massert_array_equal\u001b[0m\u001b[0;34m(\u001b[0m\u001b[0mfijk\u001b[0m\u001b[0;34m,\u001b[0m \u001b[0mfijk_ref\u001b[0m\u001b[0;34m)\u001b[0m\u001b[0;34m\u001b[0m\u001b[0;34m\u001b[0m\u001b[0m\n\u001b[0m",
      "\u001b[0;32m~/.conda/envs/py3/lib/python3.6/site-packages/numpy/testing/_private/utils.py\u001b[0m in \u001b[0;36massert_array_equal\u001b[0;34m(x, y, err_msg, verbose)\u001b[0m\n\u001b[1;32m    934\u001b[0m     \u001b[0m__tracebackhide__\u001b[0m \u001b[0;34m=\u001b[0m \u001b[0;32mTrue\u001b[0m  \u001b[0;31m# Hide traceback for py.test\u001b[0m\u001b[0;34m\u001b[0m\u001b[0;34m\u001b[0m\u001b[0m\n\u001b[1;32m    935\u001b[0m     assert_array_compare(operator.__eq__, x, y, err_msg=err_msg,\n\u001b[0;32m--> 936\u001b[0;31m                          verbose=verbose, header='Arrays are not equal')\n\u001b[0m\u001b[1;32m    937\u001b[0m \u001b[0;34m\u001b[0m\u001b[0m\n\u001b[1;32m    938\u001b[0m \u001b[0;34m\u001b[0m\u001b[0m\n",
      "\u001b[0;32m~/.conda/envs/py3/lib/python3.6/site-packages/numpy/testing/_private/utils.py\u001b[0m in \u001b[0;36massert_array_compare\u001b[0;34m(comparison, x, y, err_msg, verbose, header, precision, equal_nan, equal_inf)\u001b[0m\n\u001b[1;32m    844\u001b[0m                                 \u001b[0mverbose\u001b[0m\u001b[0;34m=\u001b[0m\u001b[0mverbose\u001b[0m\u001b[0;34m,\u001b[0m \u001b[0mheader\u001b[0m\u001b[0;34m=\u001b[0m\u001b[0mheader\u001b[0m\u001b[0;34m,\u001b[0m\u001b[0;34m\u001b[0m\u001b[0;34m\u001b[0m\u001b[0m\n\u001b[1;32m    845\u001b[0m                                 names=('x', 'y'), precision=precision)\n\u001b[0;32m--> 846\u001b[0;31m             \u001b[0;32mraise\u001b[0m \u001b[0mAssertionError\u001b[0m\u001b[0;34m(\u001b[0m\u001b[0mmsg\u001b[0m\u001b[0;34m)\u001b[0m\u001b[0;34m\u001b[0m\u001b[0;34m\u001b[0m\u001b[0m\n\u001b[0m\u001b[1;32m    847\u001b[0m     \u001b[0;32mexcept\u001b[0m \u001b[0mValueError\u001b[0m\u001b[0;34m:\u001b[0m\u001b[0;34m\u001b[0m\u001b[0;34m\u001b[0m\u001b[0m\n\u001b[1;32m    848\u001b[0m         \u001b[0;32mimport\u001b[0m \u001b[0mtraceback\u001b[0m\u001b[0;34m\u001b[0m\u001b[0;34m\u001b[0m\u001b[0m\n",
      "\u001b[0;31mAssertionError\u001b[0m: \nArrays are not equal\n\nMismatched elements: 12 / 216 (5.56%)\nMax absolute difference: 0.5\nMax relative difference: 1.\n x: array([[[[[[0.5, 0. ],\n           [0. , 0. ]],\n...\n y: array([[[[[[0.5, 0. ],\n           [0. , 0. ]],\n..."
     ]
    }
   ],
   "source": [
    "np.testing.assert_array_equal(fijk, fijk_ref)"
   ]
  },
  {
   "cell_type": "code",
   "execution_count": null,
   "metadata": {},
   "outputs": [],
   "source": []
  }
 ],
 "metadata": {
  "kernelspec": {
   "display_name": "Python 3",
   "language": "python",
   "name": "python3"
  },
  "language_info": {
   "codemirror_mode": {
    "name": "ipython",
    "version": 3
   },
   "file_extension": ".py",
   "mimetype": "text/x-python",
   "name": "python",
   "nbconvert_exporter": "python",
   "pygments_lexer": "ipython3",
   "version": "3.6.10"
  }
 },
 "nbformat": 4,
 "nbformat_minor": 2
}
