{
 "cells": [
  {
   "cell_type": "code",
   "execution_count": 1,
   "metadata": {},
   "outputs": [],
   "source": [
    "import numpy as np\n",
    "import pandas as pd\n",
    "from scipy.stats import entropy\n",
    "import scipy.stats\n",
    "from scipy.stats import poisson\n",
    "import seaborn as sns\n",
    "import sklearn.neighbors\n",
    "import matplotlib.pyplot as plt\n",
    "%matplotlib inline\n",
    "\n",
    "import Levenshtein\n",
    "\n",
    "import sys\n",
    "sys.path.append('..')\n",
    "\n",
    "from lib import *"
   ]
  },
  {
   "cell_type": "code",
   "execution_count": 3,
   "metadata": {},
   "outputs": [
    {
     "data": {
      "text/html": [
       "<div>\n",
       "<style scoped>\n",
       "    .dataframe tbody tr th:only-of-type {\n",
       "        vertical-align: middle;\n",
       "    }\n",
       "\n",
       "    .dataframe tbody tr th {\n",
       "        vertical-align: top;\n",
       "    }\n",
       "\n",
       "    .dataframe thead th {\n",
       "        text-align: right;\n",
       "    }\n",
       "</style>\n",
       "<table border=\"1\" class=\"dataframe\">\n",
       "  <thead>\n",
       "    <tr style=\"text-align: right;\">\n",
       "      <th></th>\n",
       "      <th>Peptide</th>\n",
       "      <th>Modification</th>\n",
       "      <th>Protein.Name</th>\n",
       "      <th>Starting.Position</th>\n",
       "      <th>Length</th>\n",
       "      <th>Gene</th>\n",
       "      <th>Cell.Line</th>\n",
       "    </tr>\n",
       "  </thead>\n",
       "  <tbody>\n",
       "    <tr>\n",
       "      <th>0</th>\n",
       "      <td>DEKNYTKAM</td>\n",
       "      <td>NaN</td>\n",
       "      <td>1,2-dihydroxy-3-keto-5-methylthiopentene dioxy...</td>\n",
       "      <td>138</td>\n",
       "      <td>9</td>\n",
       "      <td>ADI1</td>\n",
       "      <td>MM1s</td>\n",
       "    </tr>\n",
       "    <tr>\n",
       "      <th>1</th>\n",
       "      <td>NYTKAMRLF</td>\n",
       "      <td>NaN</td>\n",
       "      <td>1,2-dihydroxy-3-keto-5-methylthiopentene dioxy...</td>\n",
       "      <td>141</td>\n",
       "      <td>9</td>\n",
       "      <td>ADI1</td>\n",
       "      <td>MM1s</td>\n",
       "    </tr>\n",
       "    <tr>\n",
       "      <th>2</th>\n",
       "      <td>NYTKAMRLF</td>\n",
       "      <td>NaN</td>\n",
       "      <td>1,2-dihydroxy-3-keto-5-methylthiopentene dioxy...</td>\n",
       "      <td>141</td>\n",
       "      <td>9</td>\n",
       "      <td>ADI1</td>\n",
       "      <td>OPM-2</td>\n",
       "    </tr>\n",
       "    <tr>\n",
       "      <th>3</th>\n",
       "      <td>RPDPGRPVGL</td>\n",
       "      <td>NaN</td>\n",
       "      <td>1,2-dihydroxy-3-keto-5-methylthiopentene dioxy...</td>\n",
       "      <td>19</td>\n",
       "      <td>10</td>\n",
       "      <td>ADI1</td>\n",
       "      <td>U226</td>\n",
       "    </tr>\n",
       "    <tr>\n",
       "      <th>4</th>\n",
       "      <td>AFIPAIDSF</td>\n",
       "      <td>NaN</td>\n",
       "      <td>116 kDa U5 small nuclear ribonucleoprotein com...</td>\n",
       "      <td>873</td>\n",
       "      <td>9</td>\n",
       "      <td>EFTUD2</td>\n",
       "      <td>MM1s</td>\n",
       "    </tr>\n",
       "  </tbody>\n",
       "</table>\n",
       "</div>"
      ],
      "text/plain": [
       "      Peptide Modification                                       Protein.Name  \\\n",
       "0   DEKNYTKAM          NaN  1,2-dihydroxy-3-keto-5-methylthiopentene dioxy...   \n",
       "1   NYTKAMRLF          NaN  1,2-dihydroxy-3-keto-5-methylthiopentene dioxy...   \n",
       "2   NYTKAMRLF          NaN  1,2-dihydroxy-3-keto-5-methylthiopentene dioxy...   \n",
       "3  RPDPGRPVGL          NaN  1,2-dihydroxy-3-keto-5-methylthiopentene dioxy...   \n",
       "4   AFIPAIDSF          NaN  116 kDa U5 small nuclear ribonucleoprotein com...   \n",
       "\n",
       "   Starting.Position  Length    Gene Cell.Line  \n",
       "0                138       9    ADI1      MM1s  \n",
       "1                141       9    ADI1      MM1s  \n",
       "2                141       9    ADI1     OPM-2  \n",
       "3                 19      10    ADI1      U226  \n",
       "4                873       9  EFTUD2      MM1s  "
      ]
     },
     "execution_count": 3,
     "metadata": {},
     "output_type": "execute_result"
    }
   ],
   "source": [
    "df = pd.read_csv('/home/amayer/lptcloud/data/msk_peptidome/mayer.csv')\n",
    "df.head()"
   ]
  },
  {
   "cell_type": "code",
   "execution_count": 48,
   "metadata": {},
   "outputs": [
    {
     "data": {
      "image/png": "[encoded data removed]",
      "text/plain": [
       "<Figure size 246.24x504 with 6 Axes>"
      ]
     },
     "metadata": {
      "needs_background": "light"
     },
     "output_type": "display_data"
    }
   ],
   "source": [
    "mask = df['Protein.Name']=='Eukaryotic translation initiation factor 4 gamma 1'\n",
    "bins = np.arange(0, 1700, 30)\n",
    "ncelllines = len(df[mask]['Cell.Line'].unique())\n",
    "fig, axes = plt.subplots(figsize=(3.42, 7.0), nrows=ncelllines, sharex=True, sharey=True)\n",
    "for i, (cellline, dfg) in enumerate(df[mask].groupby('Cell.Line')):\n",
    "    axes[i].hist(dfg['Starting.Position'], bins=bins, histtype='step')\n",
    "    axes[i].set_title(cellline)\n",
    "    axes[i].set_xlim(min(bins), max(bins))\n",
    "axes[-1].set_xlabel('Position')\n",
    "fig.tight_layout()"
   ]
  },
  {
   "cell_type": "code",
   "execution_count": null,
   "metadata": {},
   "outputs": [],
   "source": []
  }
 ],
 "metadata": {
  "kernelspec": {
   "display_name": "Python 3",
   "language": "python",
   "name": "python3"
  },
  "language_info": {
   "codemirror_mode": {
    "name": "ipython",
    "version": 3
   },
   "file_extension": ".py",
   "mimetype": "text/x-python",
   "name": "python",
   "nbconvert_exporter": "python",
   "pygments_lexer": "ipython3",
   "version": "3.6.8"
  }
 },
 "nbformat": 4,
 "nbformat_minor": 2
}
