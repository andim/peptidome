{
 "cells": [
  {
   "cell_type": "code",
   "execution_count": 1,
   "metadata": {},
   "outputs": [],
   "source": [
    "import numpy as np\n",
    "import pandas as pd\n",
    "from scipy.stats import entropy\n",
    "import scipy.stats\n",
    "from sklearn.model_selection import train_test_split\n",
    "import seaborn as sns\n",
    "import matplotlib.pyplot as plt\n",
    "import json\n",
    "\n",
    "plt.style.use('../peptidome.mplstyle')\n",
    "\n",
    "import sys\n",
    "sys.path.append('..')\n",
    "from lib import *"
   ]
  },
  {
   "cell_type": "code",
   "execution_count": 2,
   "metadata": {},
   "outputs": [],
   "source": [
    "class memoized(object):\n",
    "    \"\"\"Decorator. Caches a function's return value each time it is called.\n",
    "    If called later with the same arguments, the cached value is returned\n",
    "    (not reevaluated).\n",
    "    \"\"\"\n",
    "    def __init__(self, func):\n",
    "        self.func = func\n",
    "        self.cache = {}\n",
    "\n",
    "    def __call__(self, *args):\n",
    "        # if args is not Hashable we can't cache\n",
    "        # easier to ask for forgiveness than permission\n",
    "        try:\n",
    "            if args in self.cache:\n",
    "                return self.cache[args]\n",
    "            else:\n",
    "                value = self.func(*args)\n",
    "                self.cache[args] = value\n",
    "                return value\n",
    "        except TypeError:\n",
    "            return self.func(*args)"
   ]
  },
  {
   "cell_type": "code",
   "execution_count": 3,
   "metadata": {},
   "outputs": [],
   "source": [
    "from subprocess import check_output\n",
    "from io import StringIO\n",
    "@memoized\n",
    "def normalize_taxid(taxid, rank='species'):\n",
    "    'return species level taxon id'\n",
    "    if not taxid:\n",
    "        return ''\n",
    "    out = check_output('efetch -db taxonomy -id \"{taxid}\"  -format native -mode xml -json'.format(taxid=taxid), shell=True, text=True)\n",
    "    buffer = StringIO(out)\n",
    "    results = json.load(buffer)\n",
    "    if results['TaxaSet']['Taxon']['Rank'] == 'species':\n",
    "        print(taxid, 'is species')\n",
    "        return taxid\n",
    "    try:\n",
    "        print(taxid, len(results['TaxaSet']['Taxon']['LineageEx']['Taxon']))\n",
    "        ids = [level['TaxId'] for level in results['TaxaSet']['Taxon']['LineageEx']['Taxon'] if level['Rank'] == rank]\n",
    "    except (KeyError, TypeError):\n",
    "        return ''\n",
    "    if len(ids) == 0:\n",
    "        return ''\n",
    "    return ids[0] "
   ]
  },
  {
   "cell_type": "code",
   "execution_count": 4,
   "metadata": {},
   "outputs": [
    {
     "name": "stderr",
     "output_type": "stream",
     "text": [
      "/home/amayer/anaconda3/envs/py3/lib/python3.8/site-packages/pandas/core/strings.py:2001: UserWarning: This pattern has match groups. To actually get the groups, use str.extract.\n",
      "  return func(self, *args, **kwargs)\n"
     ]
    }
   ],
   "source": [
    "df = load_unirefproteome_as_df_path(datadir + 'human-viruses-uniref90.fasta')\n",
    "df['length'] = df['Sequence'].str.len()\n",
    "df.sort_values('length', ascending=False, inplace=True)\n",
    "df = df[~df['header'].str.contains('(Fragment)')]"
   ]
  },
  {
   "cell_type": "code",
   "execution_count": 5,
   "metadata": {},
   "outputs": [
    {
     "name": "stdout",
     "output_type": "stream",
     "text": [
      "11118 7\n",
      "290028 is species\n",
      "694003 is species\n",
      "2697049 12\n",
      "2509481 10\n",
      "11137 is species\n",
      "277944 is species\n",
      "1980521 is species\n",
      "1980519 is species\n",
      "10310 is species\n",
      "11051 7\n",
      "11079 is species\n",
      "11082 is species\n",
      "11072 is species\n",
      "64315 9\n",
      "59563 is species\n",
      "64320 is species\n",
      "11083 is species\n",
      "44024 is species\n",
      "11089 is species\n",
      "164416 is species\n",
      "38837 is species\n",
      "12637 is species\n",
      "10325 is species\n",
      "340907 is species\n",
      "10376 is species\n",
      "10298 is species\n",
      "10294 8\n",
      "11103 is species\n",
      "11108 11\n",
      "10335 is species\n",
      "37296 is species\n",
      "11034 is species\n",
      "2169701 is species\n",
      "11036 is species\n",
      "11019 7\n",
      "11029 is species\n",
      "37124 is species\n",
      "1554474 10\n",
      "59300 is species\n",
      "59301 is species\n",
      "194960 7\n",
      "11033 is species\n",
      "11020 is species\n",
      "688449 7\n",
      "11269 is species\n",
      "12103 7\n",
      "12104 9\n",
      "204711 9\n",
      "95341 7\n",
      "11572 8\n",
      "1979160 is species\n",
      "39744 9\n",
      "11158 7\n",
      "121791 is species\n",
      "63330 is species\n",
      "10359 is species\n",
      "11620 is species\n",
      "138950 is species\n",
      "12059 7\n",
      "186539 is species\n",
      "2169992 is species\n",
      "186538 is species\n",
      "2169991 is species\n",
      "11623 is species\n",
      "186540 is species\n",
      "11628 is species\n",
      "499556 is species\n",
      "138949 is species\n",
      "45219 is species\n",
      "40280 9\n",
      "2169993 is species\n",
      "138951 is species\n",
      "103915 10\n",
      "1803956 is species\n",
      "11234 is species\n",
      "11250 is species\n",
      "11244 7\n",
      "1980442 9\n",
      "10279 is species\n",
      "11286 8\n",
      "38766 is species\n",
      "586418 7\n",
      "11041 is species\n",
      "11271 8\n",
      "1933191 is species\n",
      "1933189 is species\n",
      "10281 10\n",
      "290008 10\n",
      "1933187 is species\n",
      "1972576 is species\n",
      "327794 9\n",
      "1933186 is species\n",
      "1980418 7\n",
      "10372 is species\n",
      "162387 8\n",
      "10242 8\n",
      "99000 is species\n",
      "10243 is species\n",
      "928314 10\n",
      "142786 7\n",
      "12461 9\n",
      "1678143 is species\n",
      "291484 6\n",
      "1678141 7\n",
      "10299 10\n",
      "11709 is species\n",
      "40272 8\n",
      "388820 10\n",
      "153136 8\n",
      "11909 10\n",
      "11646 8\n",
      "11676 is species\n",
      "11577 10\n",
      "194443 is species\n",
      "46839 10\n",
      "11632 6\n",
      "35304 10\n",
      "388813 12\n",
      "39733 6\n",
      "10375 8\n",
      "31631 12\n",
      "28292 10\n",
      "11584 8\n",
      "10257 8\n",
      "10241 7\n",
      "10282 8\n",
      "694009 is species\n",
      "11039 is species\n",
      "77763 is species\n",
      "648168 10\n",
      "10508 6\n",
      "10528 9\n",
      "130309 is species\n",
      "10509 7\n",
      "129875 is species\n",
      "10912 8\n",
      "10278 8\n",
      "10258 is species\n",
      "28876 is species\n",
      "28877 11\n",
      "327046 7\n",
      "11640 8\n",
      "36427 is species\n",
      "57278 10\n",
      "38804 is species\n",
      "10253 10\n",
      "11644 11\n",
      "45659 9\n",
      "1239565 is species\n",
      "388816 11\n",
      "11687 11\n",
      "11694 11\n",
      "11681 11\n",
      "36375 11\n",
      "11714 11\n",
      "388888 12\n",
      "11697 11\n",
      "388908 10\n",
      "11716 12\n",
      "73484 10\n",
      "388822 11\n",
      "10407 is species\n",
      "11702 11\n",
      "11719 10\n",
      "11699 11\n",
      "11683 11\n",
      "11689 11\n",
      "11690 11\n",
      "11693 11\n",
      "388821 11\n",
      "11713 10\n",
      "11717 10\n",
      "10358 8\n",
      "388825 12\n",
      "11705 11\n",
      "11718 10\n",
      "11695 11\n",
      "388826 12\n",
      "388818 11\n",
      "388819 11\n",
      "371094 9\n",
      "11021 is species\n",
      "11963 10\n",
      "12456 9\n",
      "295027 10\n",
      "130308 is species\n",
      "10360 10\n",
      "28282 9\n",
      "40121 8\n",
      "1507401 8\n",
      "10304 10\n",
      "1511883 10\n",
      "11552 is species\n",
      "11520 is species\n",
      "687329 3\n",
      "28284 9\n",
      "444318 11\n",
      "11320 is species\n",
      "385630 11\n",
      "68887 is species\n",
      "687342 is species\n",
      "687364 is species\n",
      "649604 10\n",
      "11318 is species\n",
      "151341 6\n",
      "1891762 is species\n",
      "337039 is species\n",
      "11266 7\n",
      "186536 8\n",
      "186541 is species\n",
      "638313 10\n",
      "687332 2\n",
      "37112 10\n",
      "10614 10\n",
      "10591 10\n",
      "334210 10\n",
      "39457 10\n",
      "37116 10\n",
      "11908 10\n",
      "333767 is species\n",
      "151340 6\n",
      "333760 10\n",
      "333754 is species\n",
      "1891765 is species\n",
      "10615 10\n",
      "337042 is species\n",
      "10573 10\n",
      "10620 10\n",
      "10586 10\n",
      "10598 10\n",
      "37115 10\n",
      "10593 10\n",
      "333763 10\n",
      "311339 10\n",
      "1891764 is species\n",
      "45240 10\n",
      "333762 10\n",
      "10280 10\n",
      "10587 10\n",
      "10596 10\n",
      "10595 10\n",
      "1671798 10\n",
      "10611 10\n",
      "37119 10\n",
      "10585 10\n",
      "10519 10\n",
      "28311 10\n",
      "10589 10\n",
      "10583 10\n",
      "40540 10\n",
      "10616 10\n",
      "10607 10\n",
      "333924 is species\n",
      "333923 10\n",
      "10621 10\n",
      "337051 is species\n",
      "10594 10\n",
      "10608 10\n",
      "37959 10\n",
      "37957 10\n",
      "10609 10\n",
      "10579 10\n",
      "333926 is species\n",
      "337043 is species\n",
      "40538 10\n",
      "1979165 is species\n",
      "129951 is species\n",
      "573977 10\n",
      "1979161 is species\n",
      "11617 7\n",
      "12730 is species\n",
      "11210 11\n",
      "11308 7\n",
      "104394 7\n",
      "108098 is species\n",
      "1511900 is species\n",
      "145856 is species\n",
      "11173 12\n",
      "10255 is species\n",
      "10244 is species\n",
      "186938 9\n",
      "38767 is species\n",
      "260964 9\n",
      "650132 10\n",
      "32604 is species\n",
      "90961 is species\n",
      "446561 10\n",
      "11292 is species\n",
      "37954 10\n",
      "10370 10\n",
      "10617 10\n",
      "130310 is species\n",
      "37955 10\n",
      "28312 10\n",
      "31547 10\n",
      "10604 10\n",
      "46922 9\n",
      "11216 is species\n",
      "333753 10\n",
      "40539 10\n",
      "31548 10\n",
      "338478 is species\n",
      "388824 12\n",
      "388907 12\n",
      "28875 is species\n",
      "10605 10\n",
      "11642 is species\n",
      "10590 10\n",
      "51033 10\n",
      "333764 10\n",
      "119218 10\n",
      "10588 10\n",
      "10618 10\n",
      "333770 10\n",
      "37120 10\n",
      "337050 is species\n",
      "333765 10\n",
      "11680 11\n",
      "337044 is species\n",
      "10580 10\n",
      "397342 10\n",
      "194440 is species\n",
      "28280 9\n",
      "11698 11\n",
      "2509511 10\n",
      "67605 is species\n",
      "10245 is species\n",
      "333752 10\n",
      "10606 10\n",
      "260717 10\n",
      "10592 10\n",
      "333759 10\n",
      "12475 is species\n",
      "129724 10\n",
      "1891763 is species\n",
      "10357 7\n",
      "10942 10\n",
      "10632 9\n",
      "31531 10\n",
      "36345 10\n",
      "10522 10\n",
      "33722 11\n",
      "10249 10\n",
      "11590 10\n",
      "11965 10\n",
      "162145 is species\n",
      "10313 10\n",
      "10377 10\n",
      "10363 10\n",
      "742918 9\n",
      "687366 is species\n",
      "687345 is species\n",
      "486277 5\n",
      "11974 6\n",
      "486279 5\n",
      "766184 4\n",
      "11721 11\n",
      "10362 10\n",
      "114727 10\n",
      "37106 10\n",
      "37107 10\n",
      "10303 10\n",
      "11155 9\n",
      "11224 11\n",
      "11226 11\n",
      "106820 9\n",
      "2509480 10\n",
      "1335626 is species\n",
      "10524 9\n",
      "261991 4\n",
      "348136 is species\n",
      "335103 10\n",
      "10405 7\n",
      "36351 10\n",
      "11983 is species\n",
      "402046 12\n",
      "2501931 8\n",
      "11679 11\n",
      "11703 11\n",
      "11692 11\n",
      "31545 9\n",
      "388906 12\n",
      "327105 11\n",
      "32603 is species\n",
      "10534 9\n",
      "37111 10\n",
      "10515 9\n",
      "333761 10\n",
      "515177 9\n",
      "515176 9\n",
      "565303 9\n",
      "565302 9\n",
      "95342 is species\n",
      "10404 6\n",
      "647330 10\n",
      "73495 10\n",
      "489468 10\n",
      "37956 10\n",
      "10527 9\n",
      "1891714 7\n",
      "10247 10\n",
      "490133 10\n",
      "10533 9\n",
      "12107 10\n",
      "388823 12\n",
      "388815 12\n",
      "11701 11\n",
      "126794 10\n",
      "401671 12\n",
      "333750 8\n",
      "388796 12\n",
      "380342 11\n",
      "10798 10\n",
      "10248 10\n",
      "337041 is species\n",
      "766183 4\n",
      "1337063 11\n",
      "119210 10\n",
      "39002 11\n",
      "402527 11\n",
      "327045 7\n",
      "388812 12\n",
      "11588 10\n",
      "69153 10\n",
      "11259 11\n",
      "132475 10\n",
      "10529 9\n",
      "265872 10\n",
      "11293 10\n",
      "11277 10\n",
      "11236 11\n",
      "103903 10\n",
      "434489 11\n",
      "434490 11\n",
      "11280 10\n",
      "12081 10\n",
      "587200 10\n",
      "383534 11\n",
      "1979162 is species\n",
      "434309 10\n",
      "384505 11\n",
      "383533 11\n"
     ]
    }
   ],
   "source": [
    "df['TaxID_species'] = df['TaxID'].apply(normalize_taxid)"
   ]
  },
  {
   "cell_type": "code",
   "execution_count": 6,
   "metadata": {},
   "outputs": [
    {
     "data": {
      "text/plain": [
       "11676      40480\n",
       "            2139\n",
       "10407       2038\n",
       "10310        895\n",
       "10298        812\n",
       "           ...  \n",
       "138951         1\n",
       "11216          1\n",
       "348136         1\n",
       "687379         1\n",
       "1348384        1\n",
       "Name: TaxID_species, Length: 174, dtype: int64"
      ]
     },
     "execution_count": 6,
     "metadata": {},
     "output_type": "execute_result"
    }
   ],
   "source": [
    "df['TaxID_species'].value_counts()"
   ]
  },
  {
   "cell_type": "code",
   "execution_count": 7,
   "metadata": {},
   "outputs": [],
   "source": [
    "def parse_protein_name(header):\n",
    "    m = re.search('(?<=\\s).+(?=\\sn\\=)', header)\n",
    "    if m:\n",
    "         return m.group(0)\n",
    "    return ''"
   ]
  },
  {
   "cell_type": "code",
   "execution_count": 8,
   "metadata": {},
   "outputs": [],
   "source": [
    "df['Protein name'] = df.apply(lambda row: parse_protein_name(row['header']), axis=1)"
   ]
  },
  {
   "cell_type": "code",
   "execution_count": 9,
   "metadata": {},
   "outputs": [
    {
     "data": {
      "text/plain": [
       "11676     40480\n",
       "           2139\n",
       "10407      2038\n",
       "10310       895\n",
       "10298       812\n",
       "10359       787\n",
       "11709       381\n",
       "337041      352\n",
       "11082       302\n",
       "10243       284\n",
       "10258       275\n",
       "12475       257\n",
       "10279       218\n",
       "10376       206\n",
       "10255       142\n",
       "10245       141\n",
       "37296       140\n",
       "10325       131\n",
       "99000       117\n",
       "38804       106\n",
       "Name: TaxID_species, dtype: int64"
      ]
     },
     "execution_count": 9,
     "metadata": {},
     "output_type": "execute_result"
    }
   ],
   "source": [
    "df['TaxID_species'].value_counts().head(20)"
   ]
  },
  {
   "cell_type": "code",
   "execution_count": 10,
   "metadata": {},
   "outputs": [],
   "source": [
    "df = df[~(df['TaxID_species']=='')]"
   ]
  },
  {
   "cell_type": "code",
   "execution_count": 11,
   "metadata": {},
   "outputs": [
    {
     "data": {
      "text/plain": [
       "(377, 173)"
      ]
     },
     "execution_count": 11,
     "metadata": {},
     "output_type": "execute_result"
    }
   ],
   "source": [
    "len(set(df['TaxID'].unique())), len(set(df['TaxID_species'].unique()))"
   ]
  },
  {
   "cell_type": "code",
   "execution_count": 12,
   "metadata": {},
   "outputs": [
    {
     "data": {
      "text/plain": [
       "(array([45., 53., 35., 14., 13.,  8.,  3.,  1.,  0.,  1.]),\n",
       " array([0.        , 0.46072405, 0.9214481 , 1.38217215, 1.8428962 ,\n",
       "        2.30362025, 2.7643443 , 3.22506835, 3.6857924 , 4.14651645,\n",
       "        4.6072405 ]),\n",
       " <BarContainer object of 10 artists>)"
      ]
     },
     "execution_count": 12,
     "metadata": {},
     "output_type": "execute_result"
    },
    {
     "data": {
      "image/png": "[encoded data removed]",
      "text/plain": [
       "<Figure size 1026x690 with 1 Axes>"
      ]
     },
     "metadata": {},
     "output_type": "display_data"
    }
   ],
   "source": [
    "plt.hist(np.log10(df['TaxID_species'].value_counts()))"
   ]
  },
  {
   "cell_type": "code",
   "execution_count": 13,
   "metadata": {},
   "outputs": [],
   "source": [
    "def counter_to_series(counter):\n",
    "    count_df = pd.DataFrame.from_dict(counter, orient='index', columns=['count'])\n",
    "    count_series = count_df.T.squeeze()\n",
    "    return count_series\n",
    "def fraction_multiple(series):\n",
    "    return np.sum(series[series>1])/np.sum(series)"
   ]
  },
  {
   "cell_type": "code",
   "execution_count": 14,
   "metadata": {},
   "outputs": [],
   "source": [
    "k = 9\n",
    "filterlength = 12"
   ]
  },
  {
   "cell_type": "code",
   "execution_count": 15,
   "metadata": {},
   "outputs": [
    {
     "data": {
      "text/plain": [
       "0.8895016414165472"
      ]
     },
     "execution_count": 15,
     "metadata": {},
     "output_type": "execute_result"
    }
   ],
   "source": [
    "count_series = counter_to_series(count_kmers_iterable(df['Sequence'], k, clean=True))\n",
    "fraction_multiple(count_series)"
   ]
  },
  {
   "cell_type": "code",
   "execution_count": 27,
   "metadata": {},
   "outputs": [],
   "source": [
    "#filtered = df.groupby('TaxID_species').head(20)\n",
    "filtered = df.groupby(['TaxID_species', 'Protein name']).head(1)"
   ]
  },
  {
   "cell_type": "code",
   "execution_count": 17,
   "metadata": {},
   "outputs": [],
   "source": [
    "#write_fasta(filtered, datadir+'human-viruses-uniref90-filtered.fasta',\n",
    "#            seqcolumn='Sequence', descriptioncolumn='header')"
   ]
  },
  {
   "cell_type": "code",
   "execution_count": 28,
   "metadata": {},
   "outputs": [
    {
     "data": {
      "text/plain": [
       "0.3291257978175829"
      ]
     },
     "execution_count": 28,
     "metadata": {},
     "output_type": "execute_result"
    }
   ],
   "source": [
    "count_series_filtered = counter_to_series(count_kmers_iterable(filtered['Sequence'], k, clean=True))\n",
    "fraction_multiple(count_series_filtered)"
   ]
  },
  {
   "cell_type": "code",
   "execution_count": 29,
   "metadata": {},
   "outputs": [
    {
     "data": {
      "text/plain": [
       "0.052805935515388376"
      ]
     },
     "execution_count": 29,
     "metadata": {},
     "output_type": "execute_result"
    }
   ],
   "source": [
    "count_series_filtered_unique = counter_to_series(\n",
    "                       count_kmers_iterable(\n",
    "                           filter_unique(filtered['Sequence'], k, filterlength),\n",
    "                           k)\n",
    "                       )\n",
    "fraction_multiple(count_series_filtered_unique)"
   ]
  },
  {
   "cell_type": "code",
   "execution_count": 30,
   "metadata": {},
   "outputs": [
    {
     "data": {
      "text/plain": [
       "'all 2.168479e+07, filtered 1.275921e+06, unique 9.825600e+05'"
      ]
     },
     "execution_count": 30,
     "metadata": {},
     "output_type": "execute_result"
    }
   ],
   "source": [
    "'all %e, filtered %e, unique %e'%(np.sum(df['Sequence'].str.len()),\n",
    "              np.sum(filtered['Sequence'].str.len()),\n",
    "              np.sum(count_series_filtered_unique))"
   ]
  },
  {
   "cell_type": "code",
   "execution_count": 21,
   "metadata": {},
   "outputs": [
    {
     "data": {
      "text/plain": [
       "STGPCKTCT     8\n",
       "TSTGPCKTC     8\n",
       "CWYGMEIRP     8\n",
       "DTAGWDTRI     9\n",
       "TAGWDTRIT     9\n",
       "DDDDDDDDD     9\n",
       "WTSLNFLGG     9\n",
       "KKKKKKKKK    10\n",
       "GGGGGGGGG    10\n",
       "PPPPPPPPP    13\n",
       "Name: count, dtype: int64"
      ]
     },
     "execution_count": 21,
     "metadata": {},
     "output_type": "execute_result"
    }
   ],
   "source": [
    "count_series_filtered_unique.sort_values().tail(10)"
   ]
  },
  {
   "cell_type": "code",
   "execution_count": 22,
   "metadata": {},
   "outputs": [
    {
     "data": {
      "image/png": "[encoded data removed]",
      "text/plain": [
       "<Figure size 1026x690 with 1 Axes>"
      ]
     },
     "metadata": {},
     "output_type": "display_data"
    }
   ],
   "source": [
    "counts, bins, _ = plt.hist(count_series_filtered, log=True,\n",
    "                           bins=np.arange(0, count_series_filtered.max()+1, 1+count_series_filtered.max()//1000));\n",
    "plt.hist(count_series_filtered_unique, log=True, bins=bins);\n",
    "plt.xscale('log')"
   ]
  }
 ],
 "metadata": {
  "kernelspec": {
   "display_name": "Python 3",
   "language": "python",
   "name": "python3"
  },
  "language_info": {
   "codemirror_mode": {
    "name": "ipython",
    "version": 3
   },
   "file_extension": ".py",
   "mimetype": "text/x-python",
   "name": "python",
   "nbconvert_exporter": "python",
   "pygments_lexer": "ipython3",
   "version": "3.8.5"
  }
 },
 "nbformat": 4,
 "nbformat_minor": 4
}
