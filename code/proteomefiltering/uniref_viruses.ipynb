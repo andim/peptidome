{
 "cells": [
  {
   "cell_type": "code",
   "execution_count": 1,
   "metadata": {},
   "outputs": [],
   "source": [
    "import numpy as np\n",
    "import pandas as pd\n",
    "from scipy.stats import entropy\n",
    "import scipy.stats\n",
    "from sklearn.model_selection import train_test_split\n",
    "import seaborn as sns\n",
    "import matplotlib.pyplot as plt\n",
    "\n",
    "plt.style.use('../peptidome.mplstyle')\n",
    "\n",
    "import sys\n",
    "sys.path.append('..')\n",
    "from lib import *"
   ]
  },
  {
   "cell_type": "code",
   "execution_count": 2,
   "metadata": {},
   "outputs": [],
   "source": [
    "def load_unirefproteome_as_df_path(path):\n",
    "    \"Return uniref proteome as dataframe given its name\"\n",
    "    headers, seqs = list(zip(*[(h, seq) for h, seq in fasta_iter(path,\n",
    "        returndescription=True, returnheader=False)]))\n",
    "    taxids = []\n",
    "    for h in headers:\n",
    "        m = re.search('(?<=TaxID\\=)[^\\s]+', h)\n",
    "        if m:\n",
    "             taxids.append(m.group(0))\n",
    "        else:\n",
    "             taxids.append('')\n",
    "    df = pd.DataFrame(dict(header=headers, TaxID=taxids, Sequence=seqs))\n",
    "    return df"
   ]
  },
  {
   "cell_type": "code",
   "execution_count": 3,
   "metadata": {},
   "outputs": [],
   "source": [
    "df = load_unirefproteome_as_df_path(datadir + 'human-viruses-uniref50.fasta')"
   ]
  },
  {
   "cell_type": "code",
   "execution_count": 38,
   "metadata": {},
   "outputs": [
    {
     "data": {
      "text/plain": [
       "11676     7752\n",
       "11646      236\n",
       "10407      160\n",
       "            58\n",
       "10310       19\n",
       "10359       17\n",
       "10298       16\n",
       "10242       13\n",
       "10294       13\n",
       "40272       12\n",
       "10258       11\n",
       "10241       11\n",
       "10257       10\n",
       "10358       10\n",
       "10279       10\n",
       "37296        8\n",
       "10375        8\n",
       "10509        8\n",
       "10278        7\n",
       "10243        7\n",
       "12059        7\n",
       "333760       6\n",
       "10374        6\n",
       "12461        5\n",
       "11051        4\n",
       "151340       4\n",
       "11520        4\n",
       "99000        4\n",
       "10376        4\n",
       "11286        4\n",
       "10798        4\n",
       "129951       4\n",
       "10245        4\n",
       "11244        4\n",
       "11320        4\n",
       "11118        3\n",
       "10335        3\n",
       "130308       3\n",
       "108098       3\n",
       "10912        3\n",
       "11632        3\n",
       "138948       3\n",
       "10240        3\n",
       "10360        3\n",
       "333750       2\n",
       "10255        2\n",
       "39733        2\n",
       "10319        2\n",
       "77763        2\n",
       "585893       2\n",
       "Name: TaxID, dtype: int64"
      ]
     },
     "execution_count": 38,
     "metadata": {},
     "output_type": "execute_result"
    }
   ],
   "source": [
    "df['TaxID'].value_counts().head(50)"
   ]
  },
  {
   "cell_type": "code",
   "execution_count": 4,
   "metadata": {},
   "outputs": [],
   "source": [
    "def counter_to_series(counter):\n",
    "    count_df = pd.DataFrame.from_dict(counter, orient='index', columns=['count'])\n",
    "    count_series = count_df.T.squeeze()\n",
    "    return count_series"
   ]
  },
  {
   "cell_type": "code",
   "execution_count": 5,
   "metadata": {},
   "outputs": [
    {
     "data": {
      "text/plain": [
       "0.8986556026698217"
      ]
     },
     "execution_count": 5,
     "metadata": {},
     "output_type": "execute_result"
    }
   ],
   "source": [
    "counter = count_kmers_iterable(df['Sequence'], 10)\n",
    "count_series = counter_to_series(counter)\n",
    "np.sum(count_series[count_series>1])/np.sum(count_series)"
   ]
  },
  {
   "cell_type": "code",
   "execution_count": 46,
   "metadata": {},
   "outputs": [],
   "source": [
    "filtered = df.groupby('TaxID').head(10)"
   ]
  },
  {
   "cell_type": "code",
   "execution_count": 47,
   "metadata": {},
   "outputs": [
    {
     "data": {
      "text/plain": [
       "'2.311904e+06, 1.122470e+05'"
      ]
     },
     "execution_count": 47,
     "metadata": {},
     "output_type": "execute_result"
    }
   ],
   "source": [
    "'%e, %e'%(np.sum(df['Sequence'].str.len()), np.sum(filtered['Sequence'].str.len()))"
   ]
  },
  {
   "cell_type": "code",
   "execution_count": 42,
   "metadata": {},
   "outputs": [
    {
     "data": {
      "text/plain": [
       "0.1695660959659049"
      ]
     },
     "execution_count": 42,
     "metadata": {},
     "output_type": "execute_result"
    }
   ],
   "source": [
    "counter_filtered = count_kmers_iterable(filtered['Sequence'], 10)\n",
    "count_series_filtered = counter_to_series(counter_filtered)\n",
    "np.sum(count_series_filtered[count_series_filtered>1])/np.sum(count_series_filtered)"
   ]
  },
  {
   "cell_type": "code",
   "execution_count": 43,
   "metadata": {},
   "outputs": [
    {
     "data": {
      "text/plain": [
       "HQKEPPFLWM     25\n",
       "KHQKEPPFLW     25\n",
       "KKHQKEPPFL     25\n",
       "TVLDVGDAYF     26\n",
       "VLDVGDAYFS     26\n",
       "LLEALLEALL     32\n",
       "LEALLEALLE     33\n",
       "EALLEALLEA     33\n",
       "ALLEALLEAL     33\n",
       "XXXXXXXXXX    986\n",
       "Name: count, dtype: int64"
      ]
     },
     "execution_count": 43,
     "metadata": {},
     "output_type": "execute_result"
    }
   ],
   "source": [
    "count_series_filtered.sort_values().tail(10)"
   ]
  },
  {
   "cell_type": "code",
   "execution_count": 44,
   "metadata": {},
   "outputs": [
    {
     "data": {
      "image/png": "[encoded data removed]",
      "text/plain": [
       "<Figure size 1026x690 with 1 Axes>"
      ]
     },
     "metadata": {},
     "output_type": "display_data"
    }
   ],
   "source": [
    "counts, bins, _ = plt.hist(count_series, log=True, bins=np.arange(0, count_series.max()+1, 1));\n",
    "plt.hist(count_series_filtered, log=True, bins=bins);\n",
    "plt.xscale('log')"
   ]
  },
  {
   "cell_type": "code",
   "execution_count": null,
   "metadata": {},
   "outputs": [],
   "source": []
  }
 ],
 "metadata": {
  "kernelspec": {
   "display_name": "Python 3",
   "language": "python",
   "name": "python3"
  },
  "language_info": {
   "codemirror_mode": {
    "name": "ipython",
    "version": 3
   },
   "file_extension": ".py",
   "mimetype": "text/x-python",
   "name": "python",
   "nbconvert_exporter": "python",
   "pygments_lexer": "ipython3",
   "version": "3.8.5"
  }
 },
 "nbformat": 4,
 "nbformat_minor": 4
}
