{
 "cells": [
  {
   "cell_type": "code",
   "execution_count": null,
   "metadata": {},
   "outputs": [],
   "source": [
    "import numpy as np\n",
    "import pandas as pd\n",
    "from scipy.stats import entropy\n",
    "import scipy.stats\n",
    "from sklearn.model_selection import train_test_split\n",
    "import seaborn as sns\n",
    "import matplotlib.pyplot as plt\n",
    "\n",
    "plt.style.use('../peptidome.mplstyle')\n",
    "\n",
    "import sys\n",
    "sys.path.append('..')\n",
    "from lib import *"
   ]
  },
  {
   "cell_type": "code",
   "execution_count": null,
   "metadata": {},
   "outputs": [],
   "source": [
    "df = load_proteome_as_df('Human')\n",
    "print('complete length', '%e'%np.sum(df['Sequence'].str.len()))\n",
    "print('multiple seqs', len(df['Sequence'])-len(df['Sequence'].unique()))\n",
    "df.drop_duplicates(subset=['Sequence'], inplace=True)\n",
    "\n",
    "df_clustered = load_proteome_as_df_path(datadir+'cluster/UP000005640Human_rep_seq.fasta')\n",
    "print('>.9 identity', len(df)-len(df_clustered),\n",
    "      '%e'%(np.sum(df['Sequence'].str.len())-np.sum(df_clustered['Sequence'].str.len())))\n",
    "\n",
    "\n",
    "df_clustered_50 = load_proteome_as_df_path(datadir+'cluster/UP000005640Human_50_rep_seq.fasta')\n",
    "print('>.5 identity', len(df_clustered)-len(df_clustered_50),\n",
    "      '%e'%(np.sum(df_clustered['Sequence'].str.len())-np.sum(df_clustered_50['Sequence'].str.len())))"
   ]
  },
  {
   "cell_type": "markdown",
   "metadata": {},
   "source": [
    "# uniref viruses\n",
    "df = load_unirefproteome_as_df_path(datadir + 'human-viruses-uniref90.fasta')\n",
    "print('complete length', '%e'%np.sum(df['Sequence'].str.len()))"
   ]
  },
  {
   "cell_type": "code",
   "execution_count": null,
   "metadata": {},
   "outputs": [],
   "source": [
    "def to_kmers_nonoverlapping(seqs, k):\n",
    "    for seq in seqs:\n",
    "         for i in range((len(seq)-k+1)//k):\n",
    "                s = seq[k*i:k*(i+1)]\n",
    "                if isvalidaa(s):\n",
    "                    yield s"
   ]
  },
  {
   "cell_type": "code",
   "execution_count": null,
   "metadata": {},
   "outputs": [],
   "source": [
    "fragmentlength = 40\n",
    "fragments = [kmer for kmer in to_kmers_nonoverlapping(df['Sequence'], fragmentlength)]\n",
    "df_fragments = pd.DataFrame(dict(identifier=[str(i) for i in range(len(fragments))],\n",
    "                                 Sequence=fragments))"
   ]
  },
  {
   "cell_type": "code",
   "execution_count": null,
   "metadata": {},
   "outputs": [],
   "source": [
    "'%e'%(len(fragments)*fragmentlength)"
   ]
  },
  {
   "cell_type": "code",
   "execution_count": null,
   "metadata": {},
   "outputs": [],
   "source": [
    "write_fasta(df_fragments, 'fragments.fasta.gz', seqcolumn='Sequence', idcolumn='identifier')"
   ]
  },
  {
   "cell_type": "code",
   "execution_count": null,
   "metadata": {},
   "outputs": [],
   "source": [
    "!mmseqs easy-cluster fragments.fasta.gz fragments_50 tmp --min-seq-id 0.5 -c 0.8 --cov-mode 0"
   ]
  },
  {
   "cell_type": "code",
   "execution_count": null,
   "metadata": {},
   "outputs": [],
   "source": [
    "df_fragments_clustered = load_proteome_as_df_path('fragments_50_rep_seq.fasta',\n",
    "                                                  parse_genes=False, parse_accessions=False)\n",
    "print('fragment clustered length', '%e'%np.sum(df_fragments_clustered['Sequence'].str.len()))"
   ]
  },
  {
   "cell_type": "code",
   "execution_count": null,
   "metadata": {},
   "outputs": [],
   "source": [
    "def counter_to_series(counter):\n",
    "    count_df = pd.DataFrame.from_dict(counter, orient='index', columns=['count'])\n",
    "    count_series = count_df.T.squeeze()\n",
    "    return count_series\n",
    "def fraction_multiple(series):\n",
    "    return np.sum(series[series>1])/np.sum(series)"
   ]
  },
  {
   "cell_type": "code",
   "execution_count": null,
   "metadata": {},
   "outputs": [],
   "source": [
    "k = 9\n",
    "filterlength = 12"
   ]
  },
  {
   "cell_type": "code",
   "execution_count": null,
   "metadata": {},
   "outputs": [],
   "source": [
    "for d in [#df,\n",
    "          #df_clustered,# df_clustered_50,\n",
    "          df_fragments_clustered]:\n",
    "    count_series = counter_to_series(count_kmers_iterable(d['Sequence'], k, clean=True))\n",
    "    count_series_unique = counter_to_series(\n",
    "                       count_kmers_iterable(\n",
    "                           filter_unique(d['Sequence'], k, filterlength),\n",
    "                           k)\n",
    "                       )\n",
    "    print(fraction_multiple(count_series), fraction_multiple(count_series_unique))"
   ]
  },
  {
   "cell_type": "code",
   "execution_count": null,
   "metadata": {},
   "outputs": [],
   "source": [
    "counts, bins, _ = plt.hist(count_series, log=True,\n",
    "                           bins=np.arange(0, count_series.max()+1, 1));\n",
    "plt.hist(count_series_unique, log=True, bins=bins);\n",
    "#plt.xscale('log')"
   ]
  },
  {
   "cell_type": "code",
   "execution_count": null,
   "metadata": {},
   "outputs": [],
   "source": [
    "counts = count_series_unique"
   ]
  },
  {
   "cell_type": "code",
   "execution_count": null,
   "metadata": {},
   "outputs": [],
   "source": [
    "2*np.sum(scipy.special.binom(counts[counts>1], 2))/np.sum(counts)**2"
   ]
  },
  {
   "cell_type": "code",
   "execution_count": null,
   "metadata": {},
   "outputs": [],
   "source": [
    "'{:.3e}, {:.3e}'.format(np.sum(count_series), np.sum(count_series_unique))"
   ]
  },
  {
   "cell_type": "code",
   "execution_count": null,
   "metadata": {},
   "outputs": [],
   "source": [
    "count_series.sort_values().tail(50)"
   ]
  },
  {
   "cell_type": "code",
   "execution_count": null,
   "metadata": {},
   "outputs": [],
   "source": [
    "count_series_unique.sort_values().tail(20)"
   ]
  },
  {
   "cell_type": "code",
   "execution_count": null,
   "metadata": {},
   "outputs": [],
   "source": []
  }
 ],
 "metadata": {
  "kernelspec": {
   "display_name": "Python 3",
   "language": "python",
   "name": "python3"
  },
  "language_info": {
   "codemirror_mode": {
    "name": "ipython",
    "version": 3
   },
   "file_extension": ".py",
   "mimetype": "text/x-python",
   "name": "python",
   "nbconvert_exporter": "python",
   "pygments_lexer": "ipython3"
  }
 },
 "nbformat": 4,
 "nbformat_minor": 2
}
