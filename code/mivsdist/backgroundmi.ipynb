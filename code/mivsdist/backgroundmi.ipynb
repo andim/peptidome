{
 "cells": [
  {
   "cell_type": "code",
   "execution_count": 1,
   "metadata": {},
   "outputs": [],
   "source": [
    "import numpy as np\n",
    "import matplotlib.pyplot as plt\n",
    "import seaborn as sns\n",
    "\n",
    "import sys\n",
    "sys.path.append('..')\n",
    "from lib import *"
   ]
  },
  {
   "cell_type": "code",
   "execution_count": 2,
   "metadata": {},
   "outputs": [],
   "source": [
    "data = np.load('../aafreqpca/data/data.npz')\n",
    "aa = data['human']"
   ]
  },
  {
   "cell_type": "markdown",
   "metadata": {},
   "source": [
    "## Mutual information between amino acid and protein\n",
    "\n",
    "X = amino acid, Y = protein. We have $\\operatorname{I}(X;Y) = \\mathbb{E}_Y\\left[D_\\text{KL}\\!\\left(p_{X|Y} \\parallel p_X\\right)\\right]$, and P(Y) = 1/number of proteins."
   ]
  },
  {
   "cell_type": "code",
   "execution_count": 3,
   "metadata": {},
   "outputs": [
    {
     "data": {
      "text/plain": [
       "0.09741991137385587"
      ]
     },
     "execution_count": 3,
     "metadata": {},
     "output_type": "execute_result"
    }
   ],
   "source": [
    "meanfreq = aa.mean(axis=0)\n",
    "np.sum(aa*np.log2(aa/meanfreq))/aa.shape[0]"
   ]
  },
  {
   "cell_type": "markdown",
   "metadata": {},
   "source": [
    "## Mutual information in shuffled data\n",
    "\n",
    "$\\sum_i \\sum_j < f_i^p f_j^p> \\log_2 \\frac{< f_i^p f_j^p>}{ <f_i^p> <f_j^p>}$"
   ]
  },
  {
   "cell_type": "code",
   "execution_count": 4,
   "metadata": {},
   "outputs": [],
   "source": [
    "meanfreqs = np.einsum('i,j->ij', meanfreq, meanfreq)"
   ]
  },
  {
   "cell_type": "code",
   "execution_count": 5,
   "metadata": {},
   "outputs": [
    {
     "data": {
      "text/plain": [
       "0.0014361921190761484"
      ]
     },
     "execution_count": 5,
     "metadata": {},
     "output_type": "execute_result"
    }
   ],
   "source": [
    "freqss = np.einsum('ki,kj->ij', aa, aa)/aa.shape[0]\n",
    "np.sum(freqss * np.log2(freqss/meanfreqs))"
   ]
  },
  {
   "cell_type": "markdown",
   "metadata": {},
   "source": [
    "## Kullback-Leibler Divergences between protein amino acid distributions and the background"
   ]
  },
  {
   "cell_type": "code",
   "execution_count": 6,
   "metadata": {},
   "outputs": [],
   "source": [
    "freqs = np.einsum('ki,kj->kij', aa, aa)\n",
    "devs = np.sum(np.sum(freqs * np.log2(freqs/meanfreqs[np.newaxis, :, :]), axis=1), axis=1)"
   ]
  },
  {
   "cell_type": "code",
   "execution_count": 12,
   "metadata": {},
   "outputs": [
    {
     "data": {
      "image/png": "[encoded data removed]",
      "text/plain": [
       "<Figure size 432x288 with 1 Axes>"
      ]
     },
     "metadata": {
      "needs_background": "light"
     },
     "output_type": "display_data"
    }
   ],
   "source": [
    "plt.hist(devs.flatten(), bins=np.linspace(0.0, np.percentile(devs, 99), 150));\n",
    "plt.xlabel('DKL(protein aa frequencies | average aa frequencies)')\n",
    "plt.ylabel('Histogram');"
   ]
  },
  {
   "cell_type": "code",
   "execution_count": null,
   "metadata": {},
   "outputs": [],
   "source": []
  }
 ],
 "metadata": {
  "kernelspec": {
   "display_name": "Python 3",
   "language": "python",
   "name": "python3"
  },
  "language_info": {
   "codemirror_mode": {
    "name": "ipython",
    "version": 3
   },
   "file_extension": ".py",
   "mimetype": "text/x-python",
   "name": "python",
   "nbconvert_exporter": "python",
   "pygments_lexer": "ipython3",
   "version": "3.6.9"
  }
 },
 "nbformat": 4,
 "nbformat_minor": 2
}
